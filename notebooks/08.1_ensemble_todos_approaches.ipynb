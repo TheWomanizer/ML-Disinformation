{
 "cells": [
  {
   "cell_type": "markdown",
   "metadata": {},
   "source": [
    "# Sistema de Ensemble Avanzado - Production Ready\n",
    "\n",
    "Sistema de ensemble con arquitectura optimizada que integra los mejores algoritmos con ingenieria de features avanzada. Este notebook implementa un pipeline production-ready con mejor arquitectura que los enfoques tradicionales.\n",
    "\n",
    "## Objetivos de Produccion\n",
    "1. Sistema ensemble optimizado con arquitectura robusta\n",
    "2. Ingenieria de features multi-tipo (numericas + TF-IDF avanzado)\n",
    "3. Manejo inteligente de algoritmos sparse/dense\n",
    "4. Sistema de calibracion y confianza\n",
    "5. Pipeline completo para implementacion\n",
    "6. Metricas y monitoreo comprehensivo\n",
    "\n",
    "## Diferencias vs Notebook 08 (Tradicional)\n",
    "- **Feature Engineering**: Extractor multi-tipo vs features basicas\n",
    "- **Architecture**: Clase EnsembleBuilder vs funciones simples  \n",
    "- **Error Handling**: Manejo robusto vs evaluacion directa\n",
    "- **Algorithms**: Mejor seleccion y configuracion\n",
    "- **Production Ready**: Sistema completo vs demo academico\n",
    "\n",
    "Este sistema esta diseñado para superar los enfoques tradicionales mediante mejor arquitectura de datos y algoritmos optimizados."
   ]
  },
  {
   "cell_type": "code",
   "execution_count": 1,
   "metadata": {},
   "outputs": [
    {
     "name": "stdout",
     "output_type": "stream",
     "text": [
      "Ejecutando en entorno local\n",
      "Entorno configurado correctamente\n"
     ]
    }
   ],
   "source": [
    "# Configuracion de entorno y dependencias\n",
    "import sys\n",
    "import subprocess\n",
    "\n",
    "# Detectar si estamos en Colab\n",
    "IN_COLAB = 'google.colab' in sys.modules\n",
    "\n",
    "if IN_COLAB:\n",
    "    print(\"Ejecutando en Google Colab\")\n",
    "    # Instalar dependencias para Colab\n",
    "    !pip install plotly scikit-learn xgboost lightgbm\n",
    "    # Montar Google Drive si es necesario\n",
    "    from google.colab import drive\n",
    "    # drive.mount('/content/drive')\n",
    "else:\n",
    "    print(\"Ejecutando en entorno local\")\n",
    "    # Verificar dependencias locales\n",
    "    packages = ['plotly', 'scikit-learn', 'xgboost', 'lightgbm']\n",
    "    for package in packages:\n",
    "        try:\n",
    "            __import__(package.replace('-', '_'))\n",
    "        except ImportError:\n",
    "            subprocess.check_call([sys.executable, \"-m\", \"pip\", \"install\", package])\n",
    "\n",
    "print(f\"Entorno configurado correctamente\")\n",
    "\n"
   ]
  },
  {
   "cell_type": "code",
   "execution_count": 2,
   "metadata": {},
   "outputs": [
    {
     "name": "stdout",
     "output_type": "stream",
     "text": [
      "CatBoost importado correctamente\n",
      "Librerias importadas correctamente\n",
      "Timestamp: 2025-08-24 20:58:07\n"
     ]
    }
   ],
   "source": [
    "# Importacion de librerias\n",
    "import pandas as pd\n",
    "import numpy as np\n",
    "import matplotlib.pyplot as plt\n",
    "import seaborn as sns\n",
    "import plotly.express as px\n",
    "import plotly.graph_objects as go\n",
    "from plotly.subplots import make_subplots\n",
    "import warnings\n",
    "warnings.filterwarnings('ignore')\n",
    "\n",
    "# Machine learning y ensemble\n",
    "from sklearn.model_selection import train_test_split, cross_val_score, StratifiedKFold, GridSearchCV\n",
    "from sklearn.metrics import classification_report, confusion_matrix, roc_auc_score, f1_score, accuracy_score\n",
    "from sklearn.preprocessing import StandardScaler, LabelEncoder\n",
    "from sklearn.feature_extraction.text import TfidfVectorizer\n",
    "from sklearn.calibration import CalibratedClassifierCV, calibration_curve\n",
    "\n",
    "# Algoritmos base\n",
    "from sklearn.linear_model import LogisticRegression, RidgeClassifier\n",
    "from sklearn.tree import DecisionTreeClassifier\n",
    "from sklearn.ensemble import RandomForestClassifier, ExtraTreesClassifier, GradientBoostingClassifier\n",
    "from sklearn.svm import SVC\n",
    "from sklearn.neighbors import KNeighborsClassifier\n",
    "from sklearn.naive_bayes import MultinomialNB, GaussianNB\n",
    "from sklearn.discriminant_analysis import LinearDiscriminantAnalysis\n",
    "\n",
    "# Metodos de ensemble\n",
    "from sklearn.ensemble import BaggingClassifier, AdaBoostClassifier, VotingClassifier, StackingClassifier\n",
    "import xgboost as xgb\n",
    "import lightgbm as lgb\n",
    "\n",
    "# Intentar importar CatBoost\n",
    "try:\n",
    "    import catboost as cb\n",
    "    CATBOOST_AVAILABLE = True\n",
    "    print(\"CatBoost importado correctamente\")\n",
    "except ImportError:\n",
    "    CATBOOST_AVAILABLE = False\n",
    "    print(\"CatBoost no disponible\")\n",
    "\n",
    "# Procesamiento de texto\n",
    "import re\n",
    "import nltk\n",
    "from nltk.corpus import stopwords\n",
    "from nltk.tokenize import word_tokenize\n",
    "\n",
    "# Utilidades\n",
    "import os\n",
    "import pickle\n",
    "import joblib\n",
    "from pathlib import Path\n",
    "import time\n",
    "from datetime import datetime\n",
    "\n",
    "# Configuracion\n",
    "np.random.seed(42)\n",
    "if IN_COLAB:\n",
    "    plt.style.use('default')\n",
    "else:\n",
    "    plt.rcParams['figure.figsize'] = (10, 6)\n",
    "\n",
    "# Recursos NLTK\n",
    "nltk.download('punkt', quiet=True)\n",
    "nltk.download('stopwords', quiet=True)\n",
    "\n",
    "print(\"Librerias importadas correctamente\")\n",
    "print(f\"Timestamp: {datetime.now().strftime('%Y-%m-%d %H:%M:%S')}\")"
   ]
  },
  {
   "cell_type": "markdown",
   "metadata": {},
   "source": [
    "## Carga de Datos Truth Seeker\n",
    "\n",
    "Cargo el dataset para el sistema de ensemble completo."
   ]
  },
  {
   "cell_type": "code",
   "execution_count": 3,
   "metadata": {},
   "outputs": [
    {
     "name": "stdout",
     "output_type": "stream",
     "text": [
      "Dataset de features cargado: 134198 filas y 58 columnas.\n",
      "Dataset de texto cargado: 134198 filas y 2 columnas.\n",
      "\n",
      "Columnas features dataset:\n",
      "['BinaryNumTarget', 'followers_count', 'friends_count', 'favourites_count', 'statuses_count', 'listed_count', 'BotScore', 'BotScoreBinary', 'cred', 'normalize_influence', 'mentions', 'quotes', 'replies', 'retweets', 'favourites', 'hashtags', 'URLs', 'unique_count', 'total_count', 'ORG_percentage', 'NORP_percentage', 'GPE_percentage', 'PERSON_percentage', 'MONEY_percentage', 'DATE_percentage', 'CARDINAL_percentage', 'PERCENT_percentage', 'ORDINAL_percentage', 'FAC_percentage', 'LAW_percentage', 'PRODUCT_percentage', 'EVENT_percentage', 'TIME_percentage', 'LOC_percentage', 'WORK_OF_ART_percentage', 'QUANTITY_percentage', 'LANGUAGE_percentage', 'Word count', 'Max word length', 'Min word length', 'Average word length', 'present_verbs', 'past_verbs', 'adjectives', 'adverbs', 'adpositions', 'pronouns', 'TOs', 'determiners', 'conjunctions', 'dots', 'exclamation', 'questions', 'ampersand', 'capitals', 'digits', 'long_word_freq', 'short_word_freq']\n",
      "\n",
      "Columnas texto dataset:\n",
      "['statement', 'tweet']\n",
      "\n",
      "Columnas target encontradas: ['BinaryNumTarget']\n",
      "Columnas texto encontradas: ['statement']\n"
     ]
    }
   ],
   "source": [
    "# Carga de datasets procesados\n",
    "if IN_COLAB:\n",
    "    # Para Colab - usar datos procesados\n",
    "    df_features = pd.read_csv('dataset_features_processed.csv')\n",
    "    df_text = pd.read_csv('text_data_for_nlp.csv')\n",
    "else:\n",
    "    # Para ejecucion local - usar datos procesados\n",
    "    df_features = pd.read_csv('../processed_data/dataset_features_processed.csv')\n",
    "    df_text = pd.read_csv('../processed_data/text_data_for_nlp.csv')\n",
    "\n",
    "print(f\"Dataset de features cargado: {df_features.shape[0]} filas y {df_features.shape[1]} columnas.\")\n",
    "print(f\"Dataset de texto cargado: {df_text.shape[0]} filas y {df_text.shape[1]} columnas.\")\n",
    "\n",
    "print(\"\\nColumnas features dataset:\")\n",
    "print(list(df_features.columns))\n",
    "\n",
    "print(\"\\nColumnas texto dataset:\")\n",
    "print(list(df_text.columns))\n",
    "\n",
    "# Verificar columnas de interes\n",
    "target_columns = [col for col in df_features.columns if 'target' in col.lower()]\n",
    "text_columns = [col for col in df_text.columns if 'statement' in col.lower()]\n",
    "\n",
    "print(f\"\\nColumnas target encontradas: {target_columns}\")\n",
    "print(f\"Columnas texto encontradas: {text_columns}\")"
   ]
  },
  {
   "cell_type": "code",
   "execution_count": 4,
   "metadata": {},
   "outputs": [
    {
     "name": "stdout",
     "output_type": "stream",
     "text": [
      "Columna de texto agregada: statement\n",
      "Usando target: BinaryNumTarget\n",
      "Usando texto: statement\n",
      "Filas despues de eliminar nulos: 134198 (eliminadas: 0)\n",
      "Data leakage corregido: eliminados 133,140 duplicados de statements\n",
      "\n",
      "Distribucion BinaryNumTarget:\n",
      "BinaryNumTarget\n",
      "1.0    579\n",
      "0.0    479\n",
      "Name: count, dtype: int64\n",
      "Proporciones: BinaryNumTarget\n",
      "1.0    0.547\n",
      "0.0    0.453\n",
      "Name: proportion, dtype: float64\n"
     ]
    },
    {
     "data": {
      "application/vnd.plotly.v1+json": {
       "config": {
        "plotlyServerURL": "https://plot.ly"
       },
       "data": [
        {
         "domain": {
          "x": [
           0,
           1
          ],
          "y": [
           0,
           1
          ]
         },
         "hovertemplate": "label=%{label}<br>value=%{value}<extra></extra>",
         "labels": {
          "bdata": "AAAAAAAA8D8AAAAAAAAAAA==",
          "dtype": "f8"
         },
         "legendgroup": "",
         "name": "",
         "showlegend": true,
         "type": "pie",
         "values": {
          "bdata": "QwLfAQ==",
          "dtype": "i2"
         }
        }
       ],
       "layout": {
        "legend": {
         "tracegroupgap": 0
        },
        "template": {
         "data": {
          "bar": [
           {
            "error_x": {
             "color": "#2a3f5f"
            },
            "error_y": {
             "color": "#2a3f5f"
            },
            "marker": {
             "line": {
              "color": "#E5ECF6",
              "width": 0.5
             },
             "pattern": {
              "fillmode": "overlay",
              "size": 10,
              "solidity": 0.2
             }
            },
            "type": "bar"
           }
          ],
          "barpolar": [
           {
            "marker": {
             "line": {
              "color": "#E5ECF6",
              "width": 0.5
             },
             "pattern": {
              "fillmode": "overlay",
              "size": 10,
              "solidity": 0.2
             }
            },
            "type": "barpolar"
           }
          ],
          "carpet": [
           {
            "aaxis": {
             "endlinecolor": "#2a3f5f",
             "gridcolor": "white",
             "linecolor": "white",
             "minorgridcolor": "white",
             "startlinecolor": "#2a3f5f"
            },
            "baxis": {
             "endlinecolor": "#2a3f5f",
             "gridcolor": "white",
             "linecolor": "white",
             "minorgridcolor": "white",
             "startlinecolor": "#2a3f5f"
            },
            "type": "carpet"
           }
          ],
          "choropleth": [
           {
            "colorbar": {
             "outlinewidth": 0,
             "ticks": ""
            },
            "type": "choropleth"
           }
          ],
          "contour": [
           {
            "colorbar": {
             "outlinewidth": 0,
             "ticks": ""
            },
            "colorscale": [
             [
              0,
              "#0d0887"
             ],
             [
              0.1111111111111111,
              "#46039f"
             ],
             [
              0.2222222222222222,
              "#7201a8"
             ],
             [
              0.3333333333333333,
              "#9c179e"
             ],
             [
              0.4444444444444444,
              "#bd3786"
             ],
             [
              0.5555555555555556,
              "#d8576b"
             ],
             [
              0.6666666666666666,
              "#ed7953"
             ],
             [
              0.7777777777777778,
              "#fb9f3a"
             ],
             [
              0.8888888888888888,
              "#fdca26"
             ],
             [
              1,
              "#f0f921"
             ]
            ],
            "type": "contour"
           }
          ],
          "contourcarpet": [
           {
            "colorbar": {
             "outlinewidth": 0,
             "ticks": ""
            },
            "type": "contourcarpet"
           }
          ],
          "heatmap": [
           {
            "colorbar": {
             "outlinewidth": 0,
             "ticks": ""
            },
            "colorscale": [
             [
              0,
              "#0d0887"
             ],
             [
              0.1111111111111111,
              "#46039f"
             ],
             [
              0.2222222222222222,
              "#7201a8"
             ],
             [
              0.3333333333333333,
              "#9c179e"
             ],
             [
              0.4444444444444444,
              "#bd3786"
             ],
             [
              0.5555555555555556,
              "#d8576b"
             ],
             [
              0.6666666666666666,
              "#ed7953"
             ],
             [
              0.7777777777777778,
              "#fb9f3a"
             ],
             [
              0.8888888888888888,
              "#fdca26"
             ],
             [
              1,
              "#f0f921"
             ]
            ],
            "type": "heatmap"
           }
          ],
          "histogram": [
           {
            "marker": {
             "pattern": {
              "fillmode": "overlay",
              "size": 10,
              "solidity": 0.2
             }
            },
            "type": "histogram"
           }
          ],
          "histogram2d": [
           {
            "colorbar": {
             "outlinewidth": 0,
             "ticks": ""
            },
            "colorscale": [
             [
              0,
              "#0d0887"
             ],
             [
              0.1111111111111111,
              "#46039f"
             ],
             [
              0.2222222222222222,
              "#7201a8"
             ],
             [
              0.3333333333333333,
              "#9c179e"
             ],
             [
              0.4444444444444444,
              "#bd3786"
             ],
             [
              0.5555555555555556,
              "#d8576b"
             ],
             [
              0.6666666666666666,
              "#ed7953"
             ],
             [
              0.7777777777777778,
              "#fb9f3a"
             ],
             [
              0.8888888888888888,
              "#fdca26"
             ],
             [
              1,
              "#f0f921"
             ]
            ],
            "type": "histogram2d"
           }
          ],
          "histogram2dcontour": [
           {
            "colorbar": {
             "outlinewidth": 0,
             "ticks": ""
            },
            "colorscale": [
             [
              0,
              "#0d0887"
             ],
             [
              0.1111111111111111,
              "#46039f"
             ],
             [
              0.2222222222222222,
              "#7201a8"
             ],
             [
              0.3333333333333333,
              "#9c179e"
             ],
             [
              0.4444444444444444,
              "#bd3786"
             ],
             [
              0.5555555555555556,
              "#d8576b"
             ],
             [
              0.6666666666666666,
              "#ed7953"
             ],
             [
              0.7777777777777778,
              "#fb9f3a"
             ],
             [
              0.8888888888888888,
              "#fdca26"
             ],
             [
              1,
              "#f0f921"
             ]
            ],
            "type": "histogram2dcontour"
           }
          ],
          "mesh3d": [
           {
            "colorbar": {
             "outlinewidth": 0,
             "ticks": ""
            },
            "type": "mesh3d"
           }
          ],
          "parcoords": [
           {
            "line": {
             "colorbar": {
              "outlinewidth": 0,
              "ticks": ""
             }
            },
            "type": "parcoords"
           }
          ],
          "pie": [
           {
            "automargin": true,
            "type": "pie"
           }
          ],
          "scatter": [
           {
            "fillpattern": {
             "fillmode": "overlay",
             "size": 10,
             "solidity": 0.2
            },
            "type": "scatter"
           }
          ],
          "scatter3d": [
           {
            "line": {
             "colorbar": {
              "outlinewidth": 0,
              "ticks": ""
             }
            },
            "marker": {
             "colorbar": {
              "outlinewidth": 0,
              "ticks": ""
             }
            },
            "type": "scatter3d"
           }
          ],
          "scattercarpet": [
           {
            "marker": {
             "colorbar": {
              "outlinewidth": 0,
              "ticks": ""
             }
            },
            "type": "scattercarpet"
           }
          ],
          "scattergeo": [
           {
            "marker": {
             "colorbar": {
              "outlinewidth": 0,
              "ticks": ""
             }
            },
            "type": "scattergeo"
           }
          ],
          "scattergl": [
           {
            "marker": {
             "colorbar": {
              "outlinewidth": 0,
              "ticks": ""
             }
            },
            "type": "scattergl"
           }
          ],
          "scattermap": [
           {
            "marker": {
             "colorbar": {
              "outlinewidth": 0,
              "ticks": ""
             }
            },
            "type": "scattermap"
           }
          ],
          "scattermapbox": [
           {
            "marker": {
             "colorbar": {
              "outlinewidth": 0,
              "ticks": ""
             }
            },
            "type": "scattermapbox"
           }
          ],
          "scatterpolar": [
           {
            "marker": {
             "colorbar": {
              "outlinewidth": 0,
              "ticks": ""
             }
            },
            "type": "scatterpolar"
           }
          ],
          "scatterpolargl": [
           {
            "marker": {
             "colorbar": {
              "outlinewidth": 0,
              "ticks": ""
             }
            },
            "type": "scatterpolargl"
           }
          ],
          "scatterternary": [
           {
            "marker": {
             "colorbar": {
              "outlinewidth": 0,
              "ticks": ""
             }
            },
            "type": "scatterternary"
           }
          ],
          "surface": [
           {
            "colorbar": {
             "outlinewidth": 0,
             "ticks": ""
            },
            "colorscale": [
             [
              0,
              "#0d0887"
             ],
             [
              0.1111111111111111,
              "#46039f"
             ],
             [
              0.2222222222222222,
              "#7201a8"
             ],
             [
              0.3333333333333333,
              "#9c179e"
             ],
             [
              0.4444444444444444,
              "#bd3786"
             ],
             [
              0.5555555555555556,
              "#d8576b"
             ],
             [
              0.6666666666666666,
              "#ed7953"
             ],
             [
              0.7777777777777778,
              "#fb9f3a"
             ],
             [
              0.8888888888888888,
              "#fdca26"
             ],
             [
              1,
              "#f0f921"
             ]
            ],
            "type": "surface"
           }
          ],
          "table": [
           {
            "cells": {
             "fill": {
              "color": "#EBF0F8"
             },
             "line": {
              "color": "white"
             }
            },
            "header": {
             "fill": {
              "color": "#C8D4E3"
             },
             "line": {
              "color": "white"
             }
            },
            "type": "table"
           }
          ]
         },
         "layout": {
          "annotationdefaults": {
           "arrowcolor": "#2a3f5f",
           "arrowhead": 0,
           "arrowwidth": 1
          },
          "autotypenumbers": "strict",
          "coloraxis": {
           "colorbar": {
            "outlinewidth": 0,
            "ticks": ""
           }
          },
          "colorscale": {
           "diverging": [
            [
             0,
             "#8e0152"
            ],
            [
             0.1,
             "#c51b7d"
            ],
            [
             0.2,
             "#de77ae"
            ],
            [
             0.3,
             "#f1b6da"
            ],
            [
             0.4,
             "#fde0ef"
            ],
            [
             0.5,
             "#f7f7f7"
            ],
            [
             0.6,
             "#e6f5d0"
            ],
            [
             0.7,
             "#b8e186"
            ],
            [
             0.8,
             "#7fbc41"
            ],
            [
             0.9,
             "#4d9221"
            ],
            [
             1,
             "#276419"
            ]
           ],
           "sequential": [
            [
             0,
             "#0d0887"
            ],
            [
             0.1111111111111111,
             "#46039f"
            ],
            [
             0.2222222222222222,
             "#7201a8"
            ],
            [
             0.3333333333333333,
             "#9c179e"
            ],
            [
             0.4444444444444444,
             "#bd3786"
            ],
            [
             0.5555555555555556,
             "#d8576b"
            ],
            [
             0.6666666666666666,
             "#ed7953"
            ],
            [
             0.7777777777777778,
             "#fb9f3a"
            ],
            [
             0.8888888888888888,
             "#fdca26"
            ],
            [
             1,
             "#f0f921"
            ]
           ],
           "sequentialminus": [
            [
             0,
             "#0d0887"
            ],
            [
             0.1111111111111111,
             "#46039f"
            ],
            [
             0.2222222222222222,
             "#7201a8"
            ],
            [
             0.3333333333333333,
             "#9c179e"
            ],
            [
             0.4444444444444444,
             "#bd3786"
            ],
            [
             0.5555555555555556,
             "#d8576b"
            ],
            [
             0.6666666666666666,
             "#ed7953"
            ],
            [
             0.7777777777777778,
             "#fb9f3a"
            ],
            [
             0.8888888888888888,
             "#fdca26"
            ],
            [
             1,
             "#f0f921"
            ]
           ]
          },
          "colorway": [
           "#636efa",
           "#EF553B",
           "#00cc96",
           "#ab63fa",
           "#FFA15A",
           "#19d3f3",
           "#FF6692",
           "#B6E880",
           "#FF97FF",
           "#FECB52"
          ],
          "font": {
           "color": "#2a3f5f"
          },
          "geo": {
           "bgcolor": "white",
           "lakecolor": "white",
           "landcolor": "#E5ECF6",
           "showlakes": true,
           "showland": true,
           "subunitcolor": "white"
          },
          "hoverlabel": {
           "align": "left"
          },
          "hovermode": "closest",
          "mapbox": {
           "style": "light"
          },
          "paper_bgcolor": "white",
          "plot_bgcolor": "#E5ECF6",
          "polar": {
           "angularaxis": {
            "gridcolor": "white",
            "linecolor": "white",
            "ticks": ""
           },
           "bgcolor": "#E5ECF6",
           "radialaxis": {
            "gridcolor": "white",
            "linecolor": "white",
            "ticks": ""
           }
          },
          "scene": {
           "xaxis": {
            "backgroundcolor": "#E5ECF6",
            "gridcolor": "white",
            "gridwidth": 2,
            "linecolor": "white",
            "showbackground": true,
            "ticks": "",
            "zerolinecolor": "white"
           },
           "yaxis": {
            "backgroundcolor": "#E5ECF6",
            "gridcolor": "white",
            "gridwidth": 2,
            "linecolor": "white",
            "showbackground": true,
            "ticks": "",
            "zerolinecolor": "white"
           },
           "zaxis": {
            "backgroundcolor": "#E5ECF6",
            "gridcolor": "white",
            "gridwidth": 2,
            "linecolor": "white",
            "showbackground": true,
            "ticks": "",
            "zerolinecolor": "white"
           }
          },
          "shapedefaults": {
           "line": {
            "color": "#2a3f5f"
           }
          },
          "ternary": {
           "aaxis": {
            "gridcolor": "white",
            "linecolor": "white",
            "ticks": ""
           },
           "baxis": {
            "gridcolor": "white",
            "linecolor": "white",
            "ticks": ""
           },
           "bgcolor": "#E5ECF6",
           "caxis": {
            "gridcolor": "white",
            "linecolor": "white",
            "ticks": ""
           }
          },
          "title": {
           "x": 0.05
          },
          "xaxis": {
           "automargin": true,
           "gridcolor": "white",
           "linecolor": "white",
           "ticks": "",
           "title": {
            "standoff": 15
           },
           "zerolinecolor": "white",
           "zerolinewidth": 2
          },
          "yaxis": {
           "automargin": true,
           "gridcolor": "white",
           "linecolor": "white",
           "ticks": "",
           "title": {
            "standoff": 15
           },
           "zerolinecolor": "white",
           "zerolinewidth": 2
          }
         }
        },
        "title": {
         "text": "Distribucion BinaryNumTarget"
        }
       }
      }
     },
     "metadata": {},
     "output_type": "display_data"
    },
    {
     "name": "stdout",
     "output_type": "stream",
     "text": [
      "\n",
      "Dataset preparado: (1058, 59)\n",
      "Columnas disponibles: 59\n"
     ]
    }
   ],
   "source": [
    "# Preparacion y limpieza de datos\n",
    "def prepare_ensemble_data():\n",
    "    \"\"\"Prepara datos combinando features numericas y texto para ensemble\"\"\"\n",
    "    \n",
    "    # Combinar datasets por indice\n",
    "    df = df_features.copy()\n",
    "    \n",
    "    # Agregar columna de texto si existe\n",
    "    if 'statement' in df_text.columns:\n",
    "        df['statement'] = df_text['statement']\n",
    "        text_col = 'statement'\n",
    "        print(f\"Columna de texto agregada: {text_col}\")\n",
    "    else:\n",
    "        text_col = None\n",
    "        print(\"No se encontro columna de texto\")\n",
    "    \n",
    "    # Identificar columna target\n",
    "    if 'BinaryNumTarget' in df.columns:\n",
    "        target_col = 'BinaryNumTarget'\n",
    "    elif 'label' in df.columns:\n",
    "        target_col = 'label'\n",
    "    else:\n",
    "        # Buscar primera columna que contenga 'target'\n",
    "        target_candidates = [col for col in df.columns if 'target' in col.lower()]\n",
    "        if target_candidates:\n",
    "            target_col = target_candidates[0]\n",
    "        else:\n",
    "            raise ValueError(\"No se encontro columna target\")\n",
    "    \n",
    "    print(f\"Usando target: {target_col}\")\n",
    "    print(f\"Usando texto: {text_col}\")\n",
    "    \n",
    "    # Eliminar nulos\n",
    "    initial_size = len(df)\n",
    "    if text_col:\n",
    "        df = df.dropna(subset=[target_col, text_col]).copy()\n",
    "    else:\n",
    "        df = df.dropna(subset=[target_col]).copy()\n",
    "    \n",
    "    print(f\"Filas despues de eliminar nulos: {len(df)} (eliminadas: {initial_size - len(df)})\")\n",
    "    \n",
    "    # Aplicar correccion de data leakage - eliminar duplicados\n",
    "    if text_col and text_col in df.columns:\n",
    "        initial_size = len(df)\n",
    "        df_clean = df.drop_duplicates(subset=[text_col], keep='first')\n",
    "        final_size = len(df_clean)\n",
    "        duplicates_removed = initial_size - final_size\n",
    "        print(f\"Data leakage corregido: eliminados {duplicates_removed:,} duplicados de statements\")\n",
    "        df = df_clean\n",
    "    \n",
    "    # Verificar distribucion target\n",
    "    print(f\"\\nDistribucion {target_col}:\")\n",
    "    print(df[target_col].value_counts())\n",
    "    print(f\"Proporciones: {df[target_col].value_counts(normalize=True).round(3)}\")\n",
    "    \n",
    "    return df, target_col, text_col\n",
    "\n",
    "# Preparar datos\n",
    "df_clean, target_col, text_col = prepare_ensemble_data()\n",
    "\n",
    "# Visualizar distribucion\n",
    "if target_col in df_clean.columns:\n",
    "    fig = px.pie(values=df_clean[target_col].value_counts().values,\n",
    "                 names=df_clean[target_col].value_counts().index,\n",
    "                 title=f\"Distribucion {target_col}\")\n",
    "    fig.show()\n",
    "\n",
    "print(f\"\\nDataset preparado: {df_clean.shape}\")\n",
    "print(f\"Columnas disponibles: {len(df_clean.columns)}\")"
   ]
  },
  {
   "cell_type": "markdown",
   "metadata": {},
   "source": [
    "## Extraccion de Features para Ensemble\n",
    "\n",
    "Extraigo multiples tipos de caracteristicas para alimentar diferentes modelos del ensemble."
   ]
  },
  {
   "cell_type": "code",
   "execution_count": 5,
   "metadata": {},
   "outputs": [
    {
     "name": "stdout",
     "output_type": "stream",
     "text": [
      "Extrayendo features para ensemble...\n",
      "Features numericas: ['followers_count', 'friends_count', 'favourites_count', 'statuses_count', 'listed_count', 'BotScore', 'BotScoreBinary', 'cred', 'normalize_influence', 'mentions', 'quotes', 'replies', 'retweets', 'favourites', 'hashtags', 'URLs', 'unique_count', 'total_count', 'ORG_percentage', 'NORP_percentage', 'GPE_percentage', 'PERSON_percentage', 'MONEY_percentage', 'DATE_percentage', 'CARDINAL_percentage', 'PERCENT_percentage', 'ORDINAL_percentage', 'FAC_percentage', 'LAW_percentage', 'PRODUCT_percentage', 'EVENT_percentage', 'TIME_percentage', 'LOC_percentage', 'WORK_OF_ART_percentage', 'QUANTITY_percentage', 'LANGUAGE_percentage', 'Word count', 'Max word length', 'Min word length', 'Average word length', 'present_verbs', 'past_verbs', 'adjectives', 'adverbs', 'adpositions', 'pronouns', 'TOs', 'determiners', 'conjunctions', 'dots', 'exclamation', 'questions', 'ampersand', 'capitals', 'digits', 'long_word_freq', 'short_word_freq']\n",
      "\n",
      "Features extraidas:\n",
      "  numeric: (1058, 57)\n",
      "  text: (1058, 1791)\n",
      "Features numericas utilizadas: ['followers_count', 'friends_count', 'favourites_count', 'statuses_count', 'listed_count', 'BotScore', 'BotScoreBinary', 'cred', 'normalize_influence', 'mentions', 'quotes', 'replies', 'retweets', 'favourites', 'hashtags', 'URLs', 'unique_count', 'total_count', 'ORG_percentage', 'NORP_percentage', 'GPE_percentage', 'PERSON_percentage', 'MONEY_percentage', 'DATE_percentage', 'CARDINAL_percentage', 'PERCENT_percentage', 'ORDINAL_percentage', 'FAC_percentage', 'LAW_percentage', 'PRODUCT_percentage', 'EVENT_percentage', 'TIME_percentage', 'LOC_percentage', 'WORK_OF_ART_percentage', 'QUANTITY_percentage', 'LANGUAGE_percentage', 'Word count', 'Max word length', 'Min word length', 'Average word length', 'present_verbs', 'past_verbs', 'adjectives', 'adverbs', 'adpositions', 'pronouns', 'TOs', 'determiners', 'conjunctions', 'dots', 'exclamation', 'questions', 'ampersand', 'capitals', 'digits', 'long_word_freq', 'short_word_freq']\n"
     ]
    }
   ],
   "source": [
    "# Extractor de features completo\n",
    "class EnsembleFeatureExtractor:\n",
    "    \"\"\"Extrae multiples tipos de features para ensemble\"\"\"\n",
    "    \n",
    "    def __init__(self):\n",
    "        self.tfidf_vectorizer = None\n",
    "        self.scaler = None\n",
    "        self.text_features = None\n",
    "        self.numeric_features = None\n",
    "        \n",
    "    def preprocess_text(self, text):\n",
    "        \"\"\"Preprocesa texto\"\"\"\n",
    "        if pd.isna(text):\n",
    "            return \"\"\n",
    "        \n",
    "        text = str(text).lower()\n",
    "        text = re.sub(r'[^a-zA-Z0-9\\s\\.,;:!?]', '', text)\n",
    "        text = re.sub(r'\\s+', ' ', text)\n",
    "        text = text.strip()\n",
    "        \n",
    "        return text\n",
    "    \n",
    "    def extract_text_features(self, texts, fit=True):\n",
    "        \"\"\"Extrae features TF-IDF del texto\"\"\"\n",
    "        \n",
    "        if texts is None or len(texts) == 0:\n",
    "            return None\n",
    "        \n",
    "        # Preprocesar textos\n",
    "        processed_texts = [self.preprocess_text(text) for text in texts]\n",
    "        \n",
    "        if fit:\n",
    "            # Crear y ajustar vectorizador\n",
    "            self.tfidf_vectorizer = TfidfVectorizer(\n",
    "                max_features=5000,\n",
    "                stop_words='english',\n",
    "                ngram_range=(1, 2),\n",
    "                min_df=2,\n",
    "                max_df=0.95\n",
    "            )\n",
    "            text_features = self.tfidf_vectorizer.fit_transform(processed_texts)\n",
    "        else:\n",
    "            if self.tfidf_vectorizer is None:\n",
    "                raise ValueError(\"Vectorizador no ajustado\")\n",
    "            text_features = self.tfidf_vectorizer.transform(processed_texts)\n",
    "        \n",
    "        return text_features\n",
    "    \n",
    "    def extract_numeric_features(self, df, target_col, fit=True):\n",
    "        \"\"\"Extrae features numericas disponibles\"\"\"\n",
    "        \n",
    "        # Identificar columnas numericas (excluyendo target)\n",
    "        numeric_columns = df.select_dtypes(include=[np.number]).columns.tolist()\n",
    "        if target_col in numeric_columns:\n",
    "            numeric_columns.remove(target_col)\n",
    "        \n",
    "        if len(numeric_columns) == 0:\n",
    "            print(\"No se encontraron features numericas - creando features sinteticas\")\n",
    "            # Crear features sinteticas basadas en texto si disponible\n",
    "            if text_col and text_col in df.columns:\n",
    "                df['text_length'] = df[text_col].astype(str).str.len()\n",
    "                df['word_count'] = df[text_col].astype(str).str.split().str.len()\n",
    "                df['char_per_word'] = df['text_length'] / (df['word_count'] + 1)\n",
    "                df['exclamation_count'] = df[text_col].astype(str).str.count('!')\n",
    "                df['question_count'] = df[text_col].astype(str).str.count('\\?')\n",
    "                \n",
    "                numeric_columns = ['text_length', 'word_count', 'char_per_word', \n",
    "                                 'exclamation_count', 'question_count']\n",
    "            else:\n",
    "                # Features completamente sinteticas\n",
    "                np.random.seed(42)\n",
    "                df['synthetic_1'] = np.random.randn(len(df))\n",
    "                df['synthetic_2'] = np.random.randn(len(df))\n",
    "                df['synthetic_3'] = np.random.randn(len(df))\n",
    "                \n",
    "                numeric_columns = ['synthetic_1', 'synthetic_2', 'synthetic_3']\n",
    "        \n",
    "        print(f\"Features numericas: {numeric_columns}\")\n",
    "        \n",
    "        # Extraer y escalar features numericas\n",
    "        numeric_data = df[numeric_columns].fillna(0).values\n",
    "        \n",
    "        if fit:\n",
    "            self.scaler = StandardScaler()\n",
    "            numeric_features = self.scaler.fit_transform(numeric_data)\n",
    "        else:\n",
    "            if self.scaler is None:\n",
    "                raise ValueError(\"Scaler no ajustado\")\n",
    "            numeric_features = self.scaler.transform(numeric_data)\n",
    "        \n",
    "        return numeric_features, numeric_columns\n",
    "    \n",
    "    def extract_all_features(self, df, target_col, text_col=None, fit=True):\n",
    "        \"\"\"Extrae todos los tipos de features\"\"\"\n",
    "        \n",
    "        features = {}\n",
    "        \n",
    "        # Features numericas\n",
    "        numeric_features, numeric_cols = self.extract_numeric_features(df, target_col, fit=fit)\n",
    "        features['numeric'] = numeric_features\n",
    "        features['numeric_columns'] = numeric_cols\n",
    "        \n",
    "        # Features de texto si disponible\n",
    "        if text_col and text_col in df.columns:\n",
    "            text_features = self.extract_text_features(df[text_col].values, fit=fit)\n",
    "            if text_features is not None:\n",
    "                features['text'] = text_features\n",
    "        \n",
    "        return features\n",
    "\n",
    "# Crear extractor y procesar features\n",
    "feature_extractor = EnsembleFeatureExtractor()\n",
    "\n",
    "print(\"Extrayendo features para ensemble...\")\n",
    "all_features = feature_extractor.extract_all_features(df_clean, target_col, text_col, fit=True)\n",
    "\n",
    "print(f\"\\nFeatures extraidas:\")\n",
    "for feat_type, feat_data in all_features.items():\n",
    "    if feat_type != 'numeric_columns':\n",
    "        if hasattr(feat_data, 'shape'):\n",
    "            print(f\"  {feat_type}: {feat_data.shape}\")\n",
    "        else:\n",
    "            print(f\"  {feat_type}: {type(feat_data)}\")\n",
    "\n",
    "print(f\"Features numericas utilizadas: {all_features['numeric_columns']}\")"
   ]
  },
  {
   "cell_type": "markdown",
   "metadata": {},
   "source": [
    "## Division de Datos y Preparacion\n",
    "\n",
    "Divido los datos en conjuntos de entrenamiento y prueba para entrenar el ensemble."
   ]
  },
  {
   "cell_type": "code",
   "execution_count": 6,
   "metadata": {},
   "outputs": [
    {
     "name": "stdout",
     "output_type": "stream",
     "text": [
      "Features combinadas (texto + numericas): (1058, 1848)\n",
      "\n",
      "Division de datos:\n",
      "Entrenamiento: 846 muestras, 1848 features\n",
      "Prueba: 212 muestras, 1848 features\n",
      "\n",
      "Distribucion entrenamiento: [383 463]\n",
      "Distribucion prueba: [ 96 116]\n",
      "\n",
      "Balance entrenamiento: [0.453 0.547]\n",
      "Balance prueba: [0.453 0.547]\n",
      "\n",
      "Features numericas separadas preparadas\n",
      "Train numericas: (846, 57)\n",
      "Test numericas: (212, 57)\n"
     ]
    }
   ],
   "source": [
    "# Preparar datos para division\n",
    "y = df_clean[target_col].values.astype(int)\n",
    "\n",
    "# Crear matrices de features combinadas\n",
    "if 'text' in all_features:\n",
    "    # Combinar features numericas y texto\n",
    "    from scipy.sparse import hstack, csr_matrix\n",
    "    \n",
    "    numeric_sparse = csr_matrix(all_features['numeric'])\n",
    "    X_combined = hstack([all_features['text'], numeric_sparse])\n",
    "    print(f\"Features combinadas (texto + numericas): {X_combined.shape}\")\n",
    "else:\n",
    "    # Solo features numericas\n",
    "    X_combined = all_features['numeric']\n",
    "    print(f\"Features numericas solamente: {X_combined.shape}\")\n",
    "\n",
    "# Division train/test estratificada\n",
    "X_train, X_test, y_train, y_test = train_test_split(\n",
    "    X_combined, y, test_size=0.2, random_state=42, stratify=y\n",
    ")\n",
    "\n",
    "print(f\"\\nDivision de datos:\")\n",
    "print(f\"Entrenamiento: {X_train.shape[0]} muestras, {X_train.shape[1]} features\")\n",
    "print(f\"Prueba: {X_test.shape[0]} muestras, {X_test.shape[1]} features\")\n",
    "\n",
    "print(f\"\\nDistribucion entrenamiento: {np.bincount(y_train)}\")\n",
    "print(f\"Distribucion prueba: {np.bincount(y_test)}\")\n",
    "\n",
    "# Verificar balance\n",
    "train_balance = np.bincount(y_train) / len(y_train)\n",
    "test_balance = np.bincount(y_test) / len(y_test)\n",
    "\n",
    "print(f\"\\nBalance entrenamiento: {train_balance.round(3)}\")\n",
    "print(f\"Balance prueba: {test_balance.round(3)}\")\n",
    "\n",
    "# Preparar features solo numericas para algunos algoritmos\n",
    "X_train_numeric = all_features['numeric'][:X_train.shape[0]]\n",
    "X_test_numeric = all_features['numeric'][X_train.shape[0]:]\n",
    "\n",
    "print(f\"\\nFeatures numericas separadas preparadas\")\n",
    "print(f\"Train numericas: {X_train_numeric.shape}\")\n",
    "print(f\"Test numericas: {X_test_numeric.shape}\")"
   ]
  },
  {
   "cell_type": "markdown",
   "metadata": {},
   "source": [
    "## Algoritmos Base para Ensemble\n",
    "\n",
    "Defino y configuro todos los algoritmos base que integrare en el sistema de ensemble."
   ]
  },
  {
   "cell_type": "code",
   "execution_count": 7,
   "metadata": {},
   "outputs": [
    {
     "name": "stdout",
     "output_type": "stream",
     "text": [
      "Algoritmos compatibles con sparse matrices: 4\n",
      "  - logistic_elastic\n",
      "  - ridge_cv\n",
      "  - ridge_basic\n",
      "  - svm_linear_l1\n",
      "\n",
      "Algoritmos que requieren arrays densos: 8\n",
      "  - xgboost_aggressive\n",
      "  - lightgbm_balanced\n",
      "  - random_forest_best\n",
      "  - extra_trees_best\n",
      "  - gaussian_nb_smooth\n",
      "  - knn_15\n",
      "  - lda_best\n",
      "  - catboost_optimized\n",
      "\n",
      "Total algoritmos base: 12\n"
     ]
    }
   ],
   "source": [
    "# Definir algoritmos base optimizados basados en mejores resultados de notebooks 03-06\n",
    "def create_base_algorithms():\n",
    "    \"\"\"Crea conjunto de mejores algoritmos de cada notebook\"\"\"\n",
    "    \n",
    "    # Mejores modelos lineales (Notebook 04)\n",
    "    linear_models = {\n",
    "        'ridge_cv': RidgeClassifier(random_state=42, alpha=1.0),  # Mejor: 0.6554\n",
    "        'logistic_elastic': LogisticRegression(random_state=42, penalty='elasticnet', \n",
    "                                             C=1.0, l1_ratio=0.5, solver='saga', max_iter=1000),  # 0.6552\n",
    "        'ridge_basic': RidgeClassifier(random_state=42, alpha=1.0)  # 0.6547\n",
    "    }\n",
    "    \n",
    "    # Mejores boosting (Notebook 05) - Los que mas F1-Score dieron\n",
    "    boosting_models = {\n",
    "        'xgboost_aggressive': xgb.XGBClassifier(  # Mejor: 0.7150\n",
    "            n_estimators=200, learning_rate=0.15, max_depth=6, \n",
    "            subsample=0.9, colsample_bytree=0.9, gamma=0.1,\n",
    "            random_state=42, eval_metric='logloss'\n",
    "        ),\n",
    "        'lightgbm_balanced': lgb.LGBMClassifier(  # 0.6991\n",
    "            n_estimators=150, learning_rate=0.08, max_depth=6,\n",
    "            colsample_bytree=0.9, subsample=0.9, reg_alpha=0.1, reg_lambda=0.1,\n",
    "            random_state=42, verbose=-1\n",
    "        ),\n",
    "        'catboost_optimized': None  # Se agregará después de importar\n",
    "    }\n",
    "    \n",
    "    # Mejores tradicionales (Notebook 03)\n",
    "    traditional_models = {\n",
    "        'random_forest_best': RandomForestClassifier(  # Mejor: 0.6749\n",
    "            n_estimators=100, random_state=42, max_depth=15, min_samples_split=5\n",
    "        ),\n",
    "        'extra_trees_best': ExtraTreesClassifier(  # 0.6428\n",
    "            n_estimators=100, random_state=42, max_depth=15, min_samples_split=5\n",
    "        )\n",
    "    }\n",
    "    \n",
    "    # Mejores otros algoritmos (Notebook 06)\n",
    "    other_models = {\n",
    "        'gaussian_nb_smooth': GaussianNB(var_smoothing=1e-08),  # Mejor: 0.6822\n",
    "        'knn_15': KNeighborsClassifier(n_neighbors=15, weights='distance'),  # 0.6665\n",
    "        'lda_best': LinearDiscriminantAnalysis(),  # 0.6547\n",
    "        'svm_linear_l1': SVC(kernel='linear', C=1.0, probability=True, random_state=42)  # 0.6552\n",
    "    }\n",
    "    \n",
    "    # Combinar todos los modelos\n",
    "    all_models = {}\n",
    "    all_models.update(linear_models)\n",
    "    all_models.update(boosting_models)\n",
    "    all_models.update(traditional_models)\n",
    "    all_models.update(other_models)\n",
    "    \n",
    "    # Separar por compatibilidad con sparse matrices\n",
    "    sparse_compatible = {\n",
    "        'logistic_elastic': all_models['logistic_elastic'],\n",
    "        'ridge_cv': all_models['ridge_cv'],\n",
    "        'ridge_basic': all_models['ridge_basic'],\n",
    "        'svm_linear_l1': all_models['svm_linear_l1']\n",
    "    }\n",
    "    \n",
    "    dense_only = {\n",
    "        'xgboost_aggressive': all_models['xgboost_aggressive'],\n",
    "        'lightgbm_balanced': all_models['lightgbm_balanced'],\n",
    "        'random_forest_best': all_models['random_forest_best'],\n",
    "        'extra_trees_best': all_models['extra_trees_best'],\n",
    "        'gaussian_nb_smooth': all_models['gaussian_nb_smooth'],\n",
    "        'knn_15': all_models['knn_15'],\n",
    "        'lda_best': all_models['lda_best']\n",
    "    }\n",
    "    \n",
    "    # Agregar CatBoost si está disponible\n",
    "    try:\n",
    "        import catboost as cb\n",
    "        dense_only['catboost_optimized'] = cb.CatBoostClassifier(\n",
    "            iterations=150, learning_rate=0.08, depth=6, l2_leaf_reg=1,\n",
    "            random_seed=42, verbose=False, bootstrap_type='Bayesian'\n",
    "        )\n",
    "    except ImportError:\n",
    "        print(\"CatBoost no disponible, se omite del ensemble\")\n",
    "    \n",
    "    return sparse_compatible, dense_only\n",
    "\n",
    "# Crear algoritmos\n",
    "sparse_algorithms, dense_algorithms = create_base_algorithms()\n",
    "\n",
    "print(f\"Algoritmos compatibles con sparse matrices: {len(sparse_algorithms)}\")\n",
    "for name in sparse_algorithms.keys():\n",
    "    print(f\"  - {name}\")\n",
    "\n",
    "print(f\"\\nAlgoritmos que requieren arrays densos: {len(dense_algorithms)}\")\n",
    "for name in dense_algorithms.keys():\n",
    "    print(f\"  - {name}\")\n",
    "\n",
    "print(f\"\\nTotal algoritmos base: {len(sparse_algorithms) + len(dense_algorithms)}\")"
   ]
  },
  {
   "cell_type": "markdown",
   "metadata": {},
   "source": [
    "## Evaluacion Individual de Algoritmos\n",
    "\n",
    "Evaluo cada algoritmo individualmente para determinar su rendimiento y seleccionar los mejores para el ensemble."
   ]
  },
  {
   "cell_type": "code",
   "execution_count": 8,
   "metadata": {},
   "outputs": [
    {
     "name": "stdout",
     "output_type": "stream",
     "text": [
      "Evaluando algoritmos individuales...\n",
      "============================================================\n",
      "\n",
      "Algoritmos sparse-compatible:\n",
      "  logistic_elastic: F1=0.722, ROC-AUC=0.810, Time=5.16s\n",
      "  ridge_cv: F1=0.811, ROC-AUC=0.882, Time=2.30s\n",
      "  ridge_basic: F1=0.811, ROC-AUC=0.882, Time=2.39s\n",
      "  svm_linear_l1: F1=0.807, ROC-AUC=0.872, Time=3.68s\n",
      "\n",
      "Algoritmos dense-only:\n",
      "  xgboost_aggressive: F1=0.777, ROC-AUC=0.858, Time=2.12s\n",
      "  lightgbm_balanced: F1=0.782, ROC-AUC=0.852, Time=4.91s\n",
      "  random_forest_best: F1=0.764, ROC-AUC=0.840, Time=0.90s\n",
      "  extra_trees_best: F1=0.792, ROC-AUC=0.887, Time=0.99s\n",
      "  gaussian_nb_smooth: F1=0.741, ROC-AUC=0.755, Time=0.25s\n",
      "  knn_15: F1=0.626, ROC-AUC=0.673, Time=0.46s\n",
      "  lda_best: F1=0.689, ROC-AUC=0.749, Time=1.34s\n",
      "  catboost_optimized: F1=0.795, ROC-AUC=0.841, Time=5.85s\n",
      "\n",
      "============================================================\n",
      "Evaluacion individual completada\n"
     ]
    }
   ],
   "source": [
    "# Evaluador de algoritmos individuales\n",
    "def evaluate_algorithm(name, algorithm, X_train, X_test, y_train, y_test, use_sparse=True):\n",
    "    \"\"\"Evalua un algoritmo individual con proteccion de namespace\"\"\"\n",
    "    \n",
    "    start_time = time.time()\n",
    "    \n",
    "    try:\n",
    "        # Seleccionar tipo de datos\n",
    "        if use_sparse:\n",
    "            X_tr, X_te = X_train, X_test\n",
    "        else:\n",
    "            # Convertir a denso si es necesario\n",
    "            if hasattr(X_train, 'toarray'):\n",
    "                X_tr, X_te = X_train.toarray(), X_test.toarray()\n",
    "            else:\n",
    "                X_tr, X_te = X_train, X_test\n",
    "        \n",
    "        # Entrenar modelo\n",
    "        algorithm.fit(X_tr, y_train)\n",
    "        \n",
    "        # Predicciones\n",
    "        y_pred = algorithm.predict(X_te)\n",
    "        \n",
    "        # Probabilidades\n",
    "        if hasattr(algorithm, 'predict_proba'):\n",
    "            y_pred_proba = algorithm.predict_proba(X_te)[:, 1]\n",
    "        elif hasattr(algorithm, 'decision_function'):\n",
    "            from sklearn.preprocessing import MinMaxScaler\n",
    "            decision_scores = algorithm.decision_function(X_te)\n",
    "            scaler = MinMaxScaler()\n",
    "            y_pred_proba = scaler.fit_transform(decision_scores.reshape(-1, 1)).flatten()\n",
    "        else:\n",
    "            y_pred_proba = y_pred.astype(float)\n",
    "        \n",
    "        # Calcular metricas usando importacion directa para evitar namespace conflicts\n",
    "        import sklearn.metrics\n",
    "        accuracy_eval = sklearn.metrics.accuracy_score(y_test, y_pred)\n",
    "        f1_eval = sklearn.metrics.f1_score(y_test, y_pred, average='weighted')\n",
    "        \n",
    "        try:\n",
    "            roc_auc_eval = sklearn.metrics.roc_auc_score(y_test, y_pred_proba)\n",
    "        except:\n",
    "            roc_auc_eval = 0.0\n",
    "        \n",
    "        # Validacion cruzada rapida\n",
    "        try:\n",
    "            cv_scores = cross_val_score(\n",
    "                algorithm, X_tr, y_train, cv=3, scoring='f1_weighted', n_jobs=-1\n",
    "            )\n",
    "            cv_mean = cv_scores.mean()\n",
    "            cv_std = cv_scores.std()\n",
    "        except:\n",
    "            cv_mean = cv_std = 0.0\n",
    "        \n",
    "        training_time = time.time() - start_time\n",
    "        \n",
    "        result = {\n",
    "            'name': name,\n",
    "            'accuracy': accuracy_eval,\n",
    "            'f1_score': f1_eval,\n",
    "            'roc_auc': roc_auc_eval,\n",
    "            'cv_f1_mean': cv_mean,\n",
    "            'cv_f1_std': cv_std,\n",
    "            'training_time': training_time,\n",
    "            'success': True,\n",
    "            'model': algorithm\n",
    "        }\n",
    "        \n",
    "        print(f\"  {name}: F1={f1_eval:.3f}, ROC-AUC={roc_auc_eval:.3f}, Time={training_time:.2f}s\")\n",
    "        return result\n",
    "        \n",
    "    except Exception as e:\n",
    "        print(f\"  {name}: ERROR - {str(e)[:50]}\")\n",
    "        return {\n",
    "            'name': name,\n",
    "            'accuracy': 0.0,\n",
    "            'f1_score': 0.0,\n",
    "            'roc_auc': 0.0,\n",
    "            'cv_f1_mean': 0.0,\n",
    "            'cv_f1_std': 0.0,\n",
    "            'training_time': 0.0,\n",
    "            'success': False,\n",
    "            'model': None\n",
    "        }\n",
    "\n",
    "# Evaluar todos los algoritmos\n",
    "print(\"Evaluando algoritmos individuales...\")\n",
    "print(\"=\" * 60)\n",
    "\n",
    "individual_results = []\n",
    "\n",
    "# Evaluar algoritmos compatibles con sparse\n",
    "print(\"\\nAlgoritmos sparse-compatible:\")\n",
    "for name, algorithm in sparse_algorithms.items():\n",
    "    result = evaluate_algorithm(name, algorithm, X_train, X_test, y_train, y_test, use_sparse=True)\n",
    "    individual_results.append(result)\n",
    "\n",
    "# Evaluar algoritmos que requieren denso\n",
    "print(\"\\nAlgoritmos dense-only:\")\n",
    "for name, algorithm in dense_algorithms.items():\n",
    "    result = evaluate_algorithm(name, algorithm, X_train, X_test, y_train, y_test, use_sparse=False)\n",
    "    individual_results.append(result)\n",
    "\n",
    "print(\"\\n\" + \"=\" * 60)\n",
    "print(\"Evaluacion individual completada\")"
   ]
  },
  {
   "cell_type": "code",
   "execution_count": 9,
   "metadata": {},
   "outputs": [
    {
     "name": "stdout",
     "output_type": "stream",
     "text": [
      "\n",
      "Resultados de algoritmos individuales (12 exitosos):\n",
      "                  name  accuracy  f1_score  roc_auc  cv_f1_mean  training_time\n",
      "1             ridge_cv    0.8113    0.8115   0.8816      0.7682         2.2982\n",
      "2          ridge_basic    0.8113    0.8115   0.8816      0.7682         2.3907\n",
      "3        svm_linear_l1    0.8066    0.8068   0.8720      0.7568         3.6844\n",
      "11  catboost_optimized    0.7972    0.7947   0.8405      0.7452         5.8463\n",
      "7     extra_trees_best    0.7972    0.7919   0.8869      0.7308         0.9881\n",
      "5    lightgbm_balanced    0.7830    0.7823   0.8523      0.6998         4.9109\n",
      "4   xgboost_aggressive    0.7783    0.7774   0.8583      0.7042         2.1160\n",
      "6   random_forest_best    0.7689    0.7643   0.8398      0.7279         0.9002\n",
      "8   gaussian_nb_smooth    0.7406    0.7411   0.7552      0.7352         0.2537\n",
      "0     logistic_elastic    0.7217    0.7216   0.8096      0.6982         5.1559\n",
      "10            lda_best    0.6887    0.6893   0.7495      0.6824         1.3438\n",
      "9               knn_15    0.6274    0.6263   0.6728      0.6253         0.4610\n",
      "\n",
      "Top 5 algoritmos:\n",
      "  1. ridge_cv: F1=0.8115, CV=0.7682\n",
      "  2. ridge_basic: F1=0.8115, CV=0.7682\n",
      "  3. svm_linear_l1: F1=0.8068, CV=0.7568\n",
      "  4. catboost_optimized: F1=0.7947, CV=0.7452\n",
      "  5. extra_trees_best: F1=0.7919, CV=0.7308\n",
      "\n",
      "Estadisticas generales:\n",
      "  F1-Score promedio: 0.7599\n",
      "  Mejor F1-Score: 0.8115\n",
      "  Tiempo promedio: 2.53s\n",
      "\n",
      "Modelos seleccionados para ensemble: 12\n",
      "  - ridge_cv: F1=0.8115\n",
      "  - ridge_basic: F1=0.8115\n",
      "  - svm_linear_l1: F1=0.8068\n",
      "  - catboost_optimized: F1=0.7947\n",
      "  - extra_trees_best: F1=0.7919\n",
      "  - lightgbm_balanced: F1=0.7823\n",
      "  - xgboost_aggressive: F1=0.7774\n",
      "  - random_forest_best: F1=0.7643\n",
      "  - gaussian_nb_smooth: F1=0.7411\n",
      "  - logistic_elastic: F1=0.7216\n",
      "  - lda_best: F1=0.6893\n",
      "  - knn_15: F1=0.6263\n"
     ]
    }
   ],
   "source": [
    "# Analizar resultados individuales\n",
    "successful_results = [r for r in individual_results if r['success']]\n",
    "\n",
    "if len(successful_results) > 0:\n",
    "    # Crear DataFrame de resultados\n",
    "    results_df = pd.DataFrame(successful_results)\n",
    "    results_df = results_df.sort_values('f1_score', ascending=False)\n",
    "    \n",
    "    print(f\"\\nResultados de algoritmos individuales ({len(successful_results)} exitosos):\")\n",
    "    print(results_df[['name', 'accuracy', 'f1_score', 'roc_auc', 'cv_f1_mean', 'training_time']].round(4))\n",
    "    \n",
    "    # Mejores algoritmos\n",
    "    top_5 = results_df.head(5)\n",
    "    print(f\"\\nTop 5 algoritmos:\")\n",
    "    for i, (idx, row) in enumerate(top_5.iterrows(), 1):\n",
    "        print(f\"  {i}. {row['name']}: F1={row['f1_score']:.4f}, CV={row['cv_f1_mean']:.4f}\")\n",
    "    \n",
    "    # Estadisticas generales\n",
    "    print(f\"\\nEstadisticas generales:\")\n",
    "    print(f\"  F1-Score promedio: {results_df['f1_score'].mean():.4f}\")\n",
    "    print(f\"  Mejor F1-Score: {results_df['f1_score'].max():.4f}\")\n",
    "    print(f\"  Tiempo promedio: {results_df['training_time'].mean():.2f}s\")\n",
    "    \n",
    "    # Seleccionar modelos para ensemble (F1 > 0.6)\n",
    "    good_models = results_df[results_df['f1_score'] >= 0.6]\n",
    "    if len(good_models) == 0:\n",
    "        good_models = results_df.head(max(3, len(results_df)//2))  # Al menos 3 o la mitad\n",
    "    \n",
    "    print(f\"\\nModelos seleccionados para ensemble: {len(good_models)}\")\n",
    "    for _, row in good_models.iterrows():\n",
    "        print(f\"  - {row['name']}: F1={row['f1_score']:.4f}\")\n",
    "else:\n",
    "    print(\"No se evaluaron algoritmos exitosamente\")\n",
    "    results_df = None\n",
    "    good_models = None"
   ]
  },
  {
   "cell_type": "markdown",
   "metadata": {},
   "source": [
    "## Visualizacion de Rendimiento Individual\n",
    "\n",
    "Visualizo el rendimiento de cada algoritmo para analizar fortalezas y debilidades."
   ]
  },
  {
   "cell_type": "code",
   "execution_count": 10,
   "metadata": {},
   "outputs": [
    {
     "data": {
      "application/vnd.plotly.v1+json": {
       "config": {
        "plotlyServerURL": "https://plot.ly"
       },
       "data": [
        {
         "marker": {
          "color": "lightblue"
         },
         "name": "F1-Score",
         "text": [
          "0.811",
          "0.811",
          "0.807",
          "0.795",
          "0.792",
          "0.782",
          "0.777",
          "0.764",
          "0.741",
          "0.722",
          "0.689",
          "0.626"
         ],
         "textposition": "outside",
         "type": "bar",
         "x": [
          "ridge_cv",
          "ridge_basic",
          "svm_linear_l1",
          "catboost_optimized",
          "extra_trees_best",
          "lightgbm_balanced",
          "xgboost_aggressive",
          "random_forest_best",
          "gaussian_nb_smooth",
          "logistic_elastic",
          "lda_best",
          "knn_15"
         ],
         "xaxis": "x",
         "y": {
          "bdata": "LQDFMJb36T8tAMUwlvfpPzXeUu2B0ek/sMOEQXZu6T90jqOB3FbpP7iPFgU6COk/E+/I9hXg6D/fPrtA4nToP2/KaSlot+c/XHHbOxMX5z+yu2Wkcg7mP8EGg/a1CuQ/",
          "dtype": "f8"
         },
         "yaxis": "y"
        },
        {
         "marker": {
          "color": {
           "bdata": "LQDFMJb36T8tAMUwlvfpPzXeUu2B0ek/sMOEQXZu6T90jqOB3FbpP7iPFgU6COk/E+/I9hXg6D/fPrtA4nToP2/KaSlot+c/XHHbOxMX5z+yu2Wkcg7mP8EGg/a1CuQ/",
           "dtype": "f8"
          },
          "colorbar": {
           "title": {
            "text": "F1-Score"
           }
          },
          "colorscale": [
           [
            0,
            "#440154"
           ],
           [
            0.1111111111111111,
            "#482878"
           ],
           [
            0.2222222222222222,
            "#3e4989"
           ],
           [
            0.3333333333333333,
            "#31688e"
           ],
           [
            0.4444444444444444,
            "#26828e"
           ],
           [
            0.5555555555555556,
            "#1f9e89"
           ],
           [
            0.6666666666666666,
            "#35b779"
           ],
           [
            0.7777777777777778,
            "#6ece58"
           ],
           [
            0.8888888888888888,
            "#b5de2b"
           ],
           [
            1,
            "#fde725"
           ]
          ],
          "showscale": true,
          "size": {
           "bdata": "KrC4zRxYKEAqsLjNHFgoQFKwfc5pNChAdXds3Y7XJ0CNVYm5bsEnQLwmxWS2dydAImBclxRSJ0Dxiq8clO0mQMgt06bxOyZARrodCKKlJUD3Xx96i60kQFXWGpcKyiJA",
           "dtype": "f8"
          }
         },
         "mode": "markers+text",
         "name": "AUC vs Accuracy",
         "text": [
          "ridge_cv",
          "ridge_basic",
          "svm_linear_l1",
          "catboost_optimized",
          "extra_trees_best",
          "lightgbm_balanced",
          "xgboost_aggressive",
          "random_forest_best",
          "gaussian_nb_smooth",
          "logistic_elastic",
          "lda_best",
          "knn_15"
         ],
         "textposition": "top center",
         "type": "scatter",
         "x": {
          "bdata": "RGqC8Vb26T9EaoLxVvbpP1ITjLeyz+k/b2WfQ2qC6T9vZZ9DaoLpP5tgvJV9Duk/qQnGW9nn6D/GW9nnkJroPx1SE4y3suc/V/Y5pCYY5z+8lX0OqQnmP3kr+xxSE+Q/",
          "dtype": "f8"
         },
         "xaxis": "x2",
         "y": {
          "bdata": "/Gbr0G827D/8ZuvQbzbsP5d7GmG55+s/R1juaYTl6j+oEZZ7GmHsPyleIJPiRes/w3JPIyx36z8e+s3Wod/qP8ikeIFMKug/W4d+s3Xo6T9iuacRlvvnP7R16Ddbh+U/",
          "dtype": "f8"
         },
         "yaxis": "y2"
        },
        {
         "marker": {
          "color": "lightcoral"
         },
         "name": "Tiempo (s)",
         "text": [
          "2.30s",
          "2.39s",
          "3.68s",
          "5.85s",
          "0.99s",
          "4.91s",
          "2.12s",
          "0.90s",
          "0.25s",
          "5.16s",
          "1.34s",
          "0.46s"
         ],
         "textposition": "outside",
         "type": "bar",
         "x": [
          "ridge_cv",
          "ridge_basic",
          "svm_linear_l1",
          "catboost_optimized",
          "extra_trees_best",
          "lightgbm_balanced",
          "xgboost_aggressive",
          "random_forest_best",
          "gaussian_nb_smooth",
          "logistic_elastic",
          "lda_best",
          "knn_15"
         ],
         "xaxis": "x3",
         "y": {
          "bdata": "AAAAIK9iAkAAAABAMSADQAAAAKC3eQ1AAAAAYJliF0AAAAAAn57vPwAAAEC4pBNAAAAAIJftAEAAAACAkM7sPwAAAABGPNA/AAAAkJmfFEAAAABADoD1PwAAAABQgN0/",
          "dtype": "f8"
         },
         "yaxis": "y3"
        },
        {
         "error_y": {
          "array": {
           "bdata": "JNGQhkGRkT8k0ZCGQZGRP+w2MTgPsYg/xcdJy+o1jj/J42yJ2WecP/uY59B9QXM/jra/E9wslD/FzAGjXZ6FPx55rGAikI0/x/Hpq8Hsmj8D5DWVsxKSPxG9i+Y5hqM/",
           "dtype": "f8"
          },
          "type": "data"
         },
         "marker": {
          "color": "lightgreen"
         },
         "name": "CV F1-Score",
         "text": [
          "0.768±0.017",
          "0.768±0.017",
          "0.757±0.012",
          "0.745±0.015",
          "0.731±0.028",
          "0.700±0.005",
          "0.704±0.020",
          "0.728±0.011",
          "0.735±0.014",
          "0.698±0.026",
          "0.682±0.018",
          "0.625±0.038"
         ],
         "textposition": "outside",
         "type": "bar",
         "x": [
          "ridge_cv",
          "ridge_basic",
          "svm_linear_l1",
          "catboost_optimized",
          "extra_trees_best",
          "lightgbm_balanced",
          "xgboost_aggressive",
          "random_forest_best",
          "gaussian_nb_smooth",
          "logistic_elastic",
          "lda_best",
          "knn_15"
         ],
         "xaxis": "x4",
         "y": {
          "bdata": "dLaFoW2V6D90toWhbZXoP5/Tqc8cOOg/KEohZd3Y5z//WbuBcWLnP18jElqdZOY/K8P0WsaI5j+j+GqfEkvnP6Swht1ohuc/OGH8OJlX5j/Tt6uBadblP8cpo2x0AuQ/",
          "dtype": "f8"
         },
         "yaxis": "y4"
        }
       ],
       "layout": {
        "annotations": [
         {
          "font": {
           "size": 16
          },
          "showarrow": false,
          "text": "F1-Score por Algoritmo",
          "x": 0.225,
          "xanchor": "center",
          "xref": "paper",
          "y": 1,
          "yanchor": "bottom",
          "yref": "paper"
         },
         {
          "font": {
           "size": 16
          },
          "showarrow": false,
          "text": "ROC-AUC vs Accuracy",
          "x": 0.775,
          "xanchor": "center",
          "xref": "paper",
          "y": 1,
          "yanchor": "bottom",
          "yref": "paper"
         },
         {
          "font": {
           "size": 16
          },
          "showarrow": false,
          "text": "Tiempo de Entrenamiento",
          "x": 0.225,
          "xanchor": "center",
          "xref": "paper",
          "y": 0.375,
          "yanchor": "bottom",
          "yref": "paper"
         },
         {
          "font": {
           "size": 16
          },
          "showarrow": false,
          "text": "Validacion Cruzada",
          "x": 0.775,
          "xanchor": "center",
          "xref": "paper",
          "y": 0.375,
          "yanchor": "bottom",
          "yref": "paper"
         }
        ],
        "height": 800,
        "showlegend": false,
        "template": {
         "data": {
          "bar": [
           {
            "error_x": {
             "color": "#2a3f5f"
            },
            "error_y": {
             "color": "#2a3f5f"
            },
            "marker": {
             "line": {
              "color": "#E5ECF6",
              "width": 0.5
             },
             "pattern": {
              "fillmode": "overlay",
              "size": 10,
              "solidity": 0.2
             }
            },
            "type": "bar"
           }
          ],
          "barpolar": [
           {
            "marker": {
             "line": {
              "color": "#E5ECF6",
              "width": 0.5
             },
             "pattern": {
              "fillmode": "overlay",
              "size": 10,
              "solidity": 0.2
             }
            },
            "type": "barpolar"
           }
          ],
          "carpet": [
           {
            "aaxis": {
             "endlinecolor": "#2a3f5f",
             "gridcolor": "white",
             "linecolor": "white",
             "minorgridcolor": "white",
             "startlinecolor": "#2a3f5f"
            },
            "baxis": {
             "endlinecolor": "#2a3f5f",
             "gridcolor": "white",
             "linecolor": "white",
             "minorgridcolor": "white",
             "startlinecolor": "#2a3f5f"
            },
            "type": "carpet"
           }
          ],
          "choropleth": [
           {
            "colorbar": {
             "outlinewidth": 0,
             "ticks": ""
            },
            "type": "choropleth"
           }
          ],
          "contour": [
           {
            "colorbar": {
             "outlinewidth": 0,
             "ticks": ""
            },
            "colorscale": [
             [
              0,
              "#0d0887"
             ],
             [
              0.1111111111111111,
              "#46039f"
             ],
             [
              0.2222222222222222,
              "#7201a8"
             ],
             [
              0.3333333333333333,
              "#9c179e"
             ],
             [
              0.4444444444444444,
              "#bd3786"
             ],
             [
              0.5555555555555556,
              "#d8576b"
             ],
             [
              0.6666666666666666,
              "#ed7953"
             ],
             [
              0.7777777777777778,
              "#fb9f3a"
             ],
             [
              0.8888888888888888,
              "#fdca26"
             ],
             [
              1,
              "#f0f921"
             ]
            ],
            "type": "contour"
           }
          ],
          "contourcarpet": [
           {
            "colorbar": {
             "outlinewidth": 0,
             "ticks": ""
            },
            "type": "contourcarpet"
           }
          ],
          "heatmap": [
           {
            "colorbar": {
             "outlinewidth": 0,
             "ticks": ""
            },
            "colorscale": [
             [
              0,
              "#0d0887"
             ],
             [
              0.1111111111111111,
              "#46039f"
             ],
             [
              0.2222222222222222,
              "#7201a8"
             ],
             [
              0.3333333333333333,
              "#9c179e"
             ],
             [
              0.4444444444444444,
              "#bd3786"
             ],
             [
              0.5555555555555556,
              "#d8576b"
             ],
             [
              0.6666666666666666,
              "#ed7953"
             ],
             [
              0.7777777777777778,
              "#fb9f3a"
             ],
             [
              0.8888888888888888,
              "#fdca26"
             ],
             [
              1,
              "#f0f921"
             ]
            ],
            "type": "heatmap"
           }
          ],
          "histogram": [
           {
            "marker": {
             "pattern": {
              "fillmode": "overlay",
              "size": 10,
              "solidity": 0.2
             }
            },
            "type": "histogram"
           }
          ],
          "histogram2d": [
           {
            "colorbar": {
             "outlinewidth": 0,
             "ticks": ""
            },
            "colorscale": [
             [
              0,
              "#0d0887"
             ],
             [
              0.1111111111111111,
              "#46039f"
             ],
             [
              0.2222222222222222,
              "#7201a8"
             ],
             [
              0.3333333333333333,
              "#9c179e"
             ],
             [
              0.4444444444444444,
              "#bd3786"
             ],
             [
              0.5555555555555556,
              "#d8576b"
             ],
             [
              0.6666666666666666,
              "#ed7953"
             ],
             [
              0.7777777777777778,
              "#fb9f3a"
             ],
             [
              0.8888888888888888,
              "#fdca26"
             ],
             [
              1,
              "#f0f921"
             ]
            ],
            "type": "histogram2d"
           }
          ],
          "histogram2dcontour": [
           {
            "colorbar": {
             "outlinewidth": 0,
             "ticks": ""
            },
            "colorscale": [
             [
              0,
              "#0d0887"
             ],
             [
              0.1111111111111111,
              "#46039f"
             ],
             [
              0.2222222222222222,
              "#7201a8"
             ],
             [
              0.3333333333333333,
              "#9c179e"
             ],
             [
              0.4444444444444444,
              "#bd3786"
             ],
             [
              0.5555555555555556,
              "#d8576b"
             ],
             [
              0.6666666666666666,
              "#ed7953"
             ],
             [
              0.7777777777777778,
              "#fb9f3a"
             ],
             [
              0.8888888888888888,
              "#fdca26"
             ],
             [
              1,
              "#f0f921"
             ]
            ],
            "type": "histogram2dcontour"
           }
          ],
          "mesh3d": [
           {
            "colorbar": {
             "outlinewidth": 0,
             "ticks": ""
            },
            "type": "mesh3d"
           }
          ],
          "parcoords": [
           {
            "line": {
             "colorbar": {
              "outlinewidth": 0,
              "ticks": ""
             }
            },
            "type": "parcoords"
           }
          ],
          "pie": [
           {
            "automargin": true,
            "type": "pie"
           }
          ],
          "scatter": [
           {
            "fillpattern": {
             "fillmode": "overlay",
             "size": 10,
             "solidity": 0.2
            },
            "type": "scatter"
           }
          ],
          "scatter3d": [
           {
            "line": {
             "colorbar": {
              "outlinewidth": 0,
              "ticks": ""
             }
            },
            "marker": {
             "colorbar": {
              "outlinewidth": 0,
              "ticks": ""
             }
            },
            "type": "scatter3d"
           }
          ],
          "scattercarpet": [
           {
            "marker": {
             "colorbar": {
              "outlinewidth": 0,
              "ticks": ""
             }
            },
            "type": "scattercarpet"
           }
          ],
          "scattergeo": [
           {
            "marker": {
             "colorbar": {
              "outlinewidth": 0,
              "ticks": ""
             }
            },
            "type": "scattergeo"
           }
          ],
          "scattergl": [
           {
            "marker": {
             "colorbar": {
              "outlinewidth": 0,
              "ticks": ""
             }
            },
            "type": "scattergl"
           }
          ],
          "scattermap": [
           {
            "marker": {
             "colorbar": {
              "outlinewidth": 0,
              "ticks": ""
             }
            },
            "type": "scattermap"
           }
          ],
          "scattermapbox": [
           {
            "marker": {
             "colorbar": {
              "outlinewidth": 0,
              "ticks": ""
             }
            },
            "type": "scattermapbox"
           }
          ],
          "scatterpolar": [
           {
            "marker": {
             "colorbar": {
              "outlinewidth": 0,
              "ticks": ""
             }
            },
            "type": "scatterpolar"
           }
          ],
          "scatterpolargl": [
           {
            "marker": {
             "colorbar": {
              "outlinewidth": 0,
              "ticks": ""
             }
            },
            "type": "scatterpolargl"
           }
          ],
          "scatterternary": [
           {
            "marker": {
             "colorbar": {
              "outlinewidth": 0,
              "ticks": ""
             }
            },
            "type": "scatterternary"
           }
          ],
          "surface": [
           {
            "colorbar": {
             "outlinewidth": 0,
             "ticks": ""
            },
            "colorscale": [
             [
              0,
              "#0d0887"
             ],
             [
              0.1111111111111111,
              "#46039f"
             ],
             [
              0.2222222222222222,
              "#7201a8"
             ],
             [
              0.3333333333333333,
              "#9c179e"
             ],
             [
              0.4444444444444444,
              "#bd3786"
             ],
             [
              0.5555555555555556,
              "#d8576b"
             ],
             [
              0.6666666666666666,
              "#ed7953"
             ],
             [
              0.7777777777777778,
              "#fb9f3a"
             ],
             [
              0.8888888888888888,
              "#fdca26"
             ],
             [
              1,
              "#f0f921"
             ]
            ],
            "type": "surface"
           }
          ],
          "table": [
           {
            "cells": {
             "fill": {
              "color": "#EBF0F8"
             },
             "line": {
              "color": "white"
             }
            },
            "header": {
             "fill": {
              "color": "#C8D4E3"
             },
             "line": {
              "color": "white"
             }
            },
            "type": "table"
           }
          ]
         },
         "layout": {
          "annotationdefaults": {
           "arrowcolor": "#2a3f5f",
           "arrowhead": 0,
           "arrowwidth": 1
          },
          "autotypenumbers": "strict",
          "coloraxis": {
           "colorbar": {
            "outlinewidth": 0,
            "ticks": ""
           }
          },
          "colorscale": {
           "diverging": [
            [
             0,
             "#8e0152"
            ],
            [
             0.1,
             "#c51b7d"
            ],
            [
             0.2,
             "#de77ae"
            ],
            [
             0.3,
             "#f1b6da"
            ],
            [
             0.4,
             "#fde0ef"
            ],
            [
             0.5,
             "#f7f7f7"
            ],
            [
             0.6,
             "#e6f5d0"
            ],
            [
             0.7,
             "#b8e186"
            ],
            [
             0.8,
             "#7fbc41"
            ],
            [
             0.9,
             "#4d9221"
            ],
            [
             1,
             "#276419"
            ]
           ],
           "sequential": [
            [
             0,
             "#0d0887"
            ],
            [
             0.1111111111111111,
             "#46039f"
            ],
            [
             0.2222222222222222,
             "#7201a8"
            ],
            [
             0.3333333333333333,
             "#9c179e"
            ],
            [
             0.4444444444444444,
             "#bd3786"
            ],
            [
             0.5555555555555556,
             "#d8576b"
            ],
            [
             0.6666666666666666,
             "#ed7953"
            ],
            [
             0.7777777777777778,
             "#fb9f3a"
            ],
            [
             0.8888888888888888,
             "#fdca26"
            ],
            [
             1,
             "#f0f921"
            ]
           ],
           "sequentialminus": [
            [
             0,
             "#0d0887"
            ],
            [
             0.1111111111111111,
             "#46039f"
            ],
            [
             0.2222222222222222,
             "#7201a8"
            ],
            [
             0.3333333333333333,
             "#9c179e"
            ],
            [
             0.4444444444444444,
             "#bd3786"
            ],
            [
             0.5555555555555556,
             "#d8576b"
            ],
            [
             0.6666666666666666,
             "#ed7953"
            ],
            [
             0.7777777777777778,
             "#fb9f3a"
            ],
            [
             0.8888888888888888,
             "#fdca26"
            ],
            [
             1,
             "#f0f921"
            ]
           ]
          },
          "colorway": [
           "#636efa",
           "#EF553B",
           "#00cc96",
           "#ab63fa",
           "#FFA15A",
           "#19d3f3",
           "#FF6692",
           "#B6E880",
           "#FF97FF",
           "#FECB52"
          ],
          "font": {
           "color": "#2a3f5f"
          },
          "geo": {
           "bgcolor": "white",
           "lakecolor": "white",
           "landcolor": "#E5ECF6",
           "showlakes": true,
           "showland": true,
           "subunitcolor": "white"
          },
          "hoverlabel": {
           "align": "left"
          },
          "hovermode": "closest",
          "mapbox": {
           "style": "light"
          },
          "paper_bgcolor": "white",
          "plot_bgcolor": "#E5ECF6",
          "polar": {
           "angularaxis": {
            "gridcolor": "white",
            "linecolor": "white",
            "ticks": ""
           },
           "bgcolor": "#E5ECF6",
           "radialaxis": {
            "gridcolor": "white",
            "linecolor": "white",
            "ticks": ""
           }
          },
          "scene": {
           "xaxis": {
            "backgroundcolor": "#E5ECF6",
            "gridcolor": "white",
            "gridwidth": 2,
            "linecolor": "white",
            "showbackground": true,
            "ticks": "",
            "zerolinecolor": "white"
           },
           "yaxis": {
            "backgroundcolor": "#E5ECF6",
            "gridcolor": "white",
            "gridwidth": 2,
            "linecolor": "white",
            "showbackground": true,
            "ticks": "",
            "zerolinecolor": "white"
           },
           "zaxis": {
            "backgroundcolor": "#E5ECF6",
            "gridcolor": "white",
            "gridwidth": 2,
            "linecolor": "white",
            "showbackground": true,
            "ticks": "",
            "zerolinecolor": "white"
           }
          },
          "shapedefaults": {
           "line": {
            "color": "#2a3f5f"
           }
          },
          "ternary": {
           "aaxis": {
            "gridcolor": "white",
            "linecolor": "white",
            "ticks": ""
           },
           "baxis": {
            "gridcolor": "white",
            "linecolor": "white",
            "ticks": ""
           },
           "bgcolor": "#E5ECF6",
           "caxis": {
            "gridcolor": "white",
            "linecolor": "white",
            "ticks": ""
           }
          },
          "title": {
           "x": 0.05
          },
          "xaxis": {
           "automargin": true,
           "gridcolor": "white",
           "linecolor": "white",
           "ticks": "",
           "title": {
            "standoff": 15
           },
           "zerolinecolor": "white",
           "zerolinewidth": 2
          },
          "yaxis": {
           "automargin": true,
           "gridcolor": "white",
           "linecolor": "white",
           "ticks": "",
           "title": {
            "standoff": 15
           },
           "zerolinecolor": "white",
           "zerolinewidth": 2
          }
         }
        },
        "title": {
         "text": "Rendimiento Individual de Algoritmos - Ensemble Completo"
        },
        "xaxis": {
         "anchor": "y",
         "domain": [
          0,
          0.45
         ],
         "tickangle": 45
        },
        "xaxis2": {
         "anchor": "y2",
         "domain": [
          0.55,
          1
         ]
        },
        "xaxis3": {
         "anchor": "y3",
         "domain": [
          0,
          0.45
         ],
         "tickangle": 45
        },
        "xaxis4": {
         "anchor": "y4",
         "domain": [
          0.55,
          1
         ],
         "tickangle": 45
        },
        "yaxis": {
         "anchor": "x",
         "domain": [
          0.625,
          1
         ]
        },
        "yaxis2": {
         "anchor": "x2",
         "domain": [
          0.625,
          1
         ]
        },
        "yaxis3": {
         "anchor": "x3",
         "domain": [
          0,
          0.375
         ]
        },
        "yaxis4": {
         "anchor": "x4",
         "domain": [
          0,
          0.375
         ]
        }
       }
      }
     },
     "metadata": {},
     "output_type": "display_data"
    },
    {
     "data": {
      "application/vnd.plotly.v1+json": {
       "config": {
        "plotlyServerURL": "https://plot.ly"
       },
       "data": [
        {
         "coloraxis": "coloraxis",
         "hovertemplate": "x: %{x}<br>y: %{y}<br>color: %{z}<extra></extra>",
         "name": "0",
         "texttemplate": "%{z:.3f}",
         "type": "heatmap",
         "x": [
          "accuracy",
          "f1_score",
          "roc_auc",
          "cv_f1_mean",
          "training_time"
         ],
         "xaxis": "x",
         "y": [
          "accuracy",
          "f1_score",
          "roc_auc",
          "cv_f1_mean",
          "training_time"
         ],
         "yaxis": "y",
         "z": {
          "bdata": "AAAAAAAA8D/rVRyEIfvvPy2ak5Q5hu4/FUZdazS67D/MU2LlkRPXP+tVHIQh++8/AAAAAAAA8D8Yg2qcemnuP8uz9vjd4uw/rep/aGuL1z8tmpOUOYbuPxiDapx6ae4/AAAAAAAA8D/fuOxsUVbpP7qxZ2RSadg/FUZdazS67D/Ls/b43eLsP9+47GxRVuk/AAAAAAAA8D/9/j0eJEPLP8xTYuWRE9c/rep/aGuL1z+6sWdkUmnYP/3+PR4kQ8s/AAAAAAAA8D8=",
          "dtype": "f8",
          "shape": "5, 5"
         }
        }
       ],
       "layout": {
        "coloraxis": {
         "colorscale": [
          [
           0,
           "rgb(5,48,97)"
          ],
          [
           0.1,
           "rgb(33,102,172)"
          ],
          [
           0.2,
           "rgb(67,147,195)"
          ],
          [
           0.3,
           "rgb(146,197,222)"
          ],
          [
           0.4,
           "rgb(209,229,240)"
          ],
          [
           0.5,
           "rgb(247,247,247)"
          ],
          [
           0.6,
           "rgb(253,219,199)"
          ],
          [
           0.7,
           "rgb(244,165,130)"
          ],
          [
           0.8,
           "rgb(214,96,77)"
          ],
          [
           0.9,
           "rgb(178,24,43)"
          ],
          [
           1,
           "rgb(103,0,31)"
          ]
         ]
        },
        "template": {
         "data": {
          "bar": [
           {
            "error_x": {
             "color": "#2a3f5f"
            },
            "error_y": {
             "color": "#2a3f5f"
            },
            "marker": {
             "line": {
              "color": "#E5ECF6",
              "width": 0.5
             },
             "pattern": {
              "fillmode": "overlay",
              "size": 10,
              "solidity": 0.2
             }
            },
            "type": "bar"
           }
          ],
          "barpolar": [
           {
            "marker": {
             "line": {
              "color": "#E5ECF6",
              "width": 0.5
             },
             "pattern": {
              "fillmode": "overlay",
              "size": 10,
              "solidity": 0.2
             }
            },
            "type": "barpolar"
           }
          ],
          "carpet": [
           {
            "aaxis": {
             "endlinecolor": "#2a3f5f",
             "gridcolor": "white",
             "linecolor": "white",
             "minorgridcolor": "white",
             "startlinecolor": "#2a3f5f"
            },
            "baxis": {
             "endlinecolor": "#2a3f5f",
             "gridcolor": "white",
             "linecolor": "white",
             "minorgridcolor": "white",
             "startlinecolor": "#2a3f5f"
            },
            "type": "carpet"
           }
          ],
          "choropleth": [
           {
            "colorbar": {
             "outlinewidth": 0,
             "ticks": ""
            },
            "type": "choropleth"
           }
          ],
          "contour": [
           {
            "colorbar": {
             "outlinewidth": 0,
             "ticks": ""
            },
            "colorscale": [
             [
              0,
              "#0d0887"
             ],
             [
              0.1111111111111111,
              "#46039f"
             ],
             [
              0.2222222222222222,
              "#7201a8"
             ],
             [
              0.3333333333333333,
              "#9c179e"
             ],
             [
              0.4444444444444444,
              "#bd3786"
             ],
             [
              0.5555555555555556,
              "#d8576b"
             ],
             [
              0.6666666666666666,
              "#ed7953"
             ],
             [
              0.7777777777777778,
              "#fb9f3a"
             ],
             [
              0.8888888888888888,
              "#fdca26"
             ],
             [
              1,
              "#f0f921"
             ]
            ],
            "type": "contour"
           }
          ],
          "contourcarpet": [
           {
            "colorbar": {
             "outlinewidth": 0,
             "ticks": ""
            },
            "type": "contourcarpet"
           }
          ],
          "heatmap": [
           {
            "colorbar": {
             "outlinewidth": 0,
             "ticks": ""
            },
            "colorscale": [
             [
              0,
              "#0d0887"
             ],
             [
              0.1111111111111111,
              "#46039f"
             ],
             [
              0.2222222222222222,
              "#7201a8"
             ],
             [
              0.3333333333333333,
              "#9c179e"
             ],
             [
              0.4444444444444444,
              "#bd3786"
             ],
             [
              0.5555555555555556,
              "#d8576b"
             ],
             [
              0.6666666666666666,
              "#ed7953"
             ],
             [
              0.7777777777777778,
              "#fb9f3a"
             ],
             [
              0.8888888888888888,
              "#fdca26"
             ],
             [
              1,
              "#f0f921"
             ]
            ],
            "type": "heatmap"
           }
          ],
          "histogram": [
           {
            "marker": {
             "pattern": {
              "fillmode": "overlay",
              "size": 10,
              "solidity": 0.2
             }
            },
            "type": "histogram"
           }
          ],
          "histogram2d": [
           {
            "colorbar": {
             "outlinewidth": 0,
             "ticks": ""
            },
            "colorscale": [
             [
              0,
              "#0d0887"
             ],
             [
              0.1111111111111111,
              "#46039f"
             ],
             [
              0.2222222222222222,
              "#7201a8"
             ],
             [
              0.3333333333333333,
              "#9c179e"
             ],
             [
              0.4444444444444444,
              "#bd3786"
             ],
             [
              0.5555555555555556,
              "#d8576b"
             ],
             [
              0.6666666666666666,
              "#ed7953"
             ],
             [
              0.7777777777777778,
              "#fb9f3a"
             ],
             [
              0.8888888888888888,
              "#fdca26"
             ],
             [
              1,
              "#f0f921"
             ]
            ],
            "type": "histogram2d"
           }
          ],
          "histogram2dcontour": [
           {
            "colorbar": {
             "outlinewidth": 0,
             "ticks": ""
            },
            "colorscale": [
             [
              0,
              "#0d0887"
             ],
             [
              0.1111111111111111,
              "#46039f"
             ],
             [
              0.2222222222222222,
              "#7201a8"
             ],
             [
              0.3333333333333333,
              "#9c179e"
             ],
             [
              0.4444444444444444,
              "#bd3786"
             ],
             [
              0.5555555555555556,
              "#d8576b"
             ],
             [
              0.6666666666666666,
              "#ed7953"
             ],
             [
              0.7777777777777778,
              "#fb9f3a"
             ],
             [
              0.8888888888888888,
              "#fdca26"
             ],
             [
              1,
              "#f0f921"
             ]
            ],
            "type": "histogram2dcontour"
           }
          ],
          "mesh3d": [
           {
            "colorbar": {
             "outlinewidth": 0,
             "ticks": ""
            },
            "type": "mesh3d"
           }
          ],
          "parcoords": [
           {
            "line": {
             "colorbar": {
              "outlinewidth": 0,
              "ticks": ""
             }
            },
            "type": "parcoords"
           }
          ],
          "pie": [
           {
            "automargin": true,
            "type": "pie"
           }
          ],
          "scatter": [
           {
            "fillpattern": {
             "fillmode": "overlay",
             "size": 10,
             "solidity": 0.2
            },
            "type": "scatter"
           }
          ],
          "scatter3d": [
           {
            "line": {
             "colorbar": {
              "outlinewidth": 0,
              "ticks": ""
             }
            },
            "marker": {
             "colorbar": {
              "outlinewidth": 0,
              "ticks": ""
             }
            },
            "type": "scatter3d"
           }
          ],
          "scattercarpet": [
           {
            "marker": {
             "colorbar": {
              "outlinewidth": 0,
              "ticks": ""
             }
            },
            "type": "scattercarpet"
           }
          ],
          "scattergeo": [
           {
            "marker": {
             "colorbar": {
              "outlinewidth": 0,
              "ticks": ""
             }
            },
            "type": "scattergeo"
           }
          ],
          "scattergl": [
           {
            "marker": {
             "colorbar": {
              "outlinewidth": 0,
              "ticks": ""
             }
            },
            "type": "scattergl"
           }
          ],
          "scattermap": [
           {
            "marker": {
             "colorbar": {
              "outlinewidth": 0,
              "ticks": ""
             }
            },
            "type": "scattermap"
           }
          ],
          "scattermapbox": [
           {
            "marker": {
             "colorbar": {
              "outlinewidth": 0,
              "ticks": ""
             }
            },
            "type": "scattermapbox"
           }
          ],
          "scatterpolar": [
           {
            "marker": {
             "colorbar": {
              "outlinewidth": 0,
              "ticks": ""
             }
            },
            "type": "scatterpolar"
           }
          ],
          "scatterpolargl": [
           {
            "marker": {
             "colorbar": {
              "outlinewidth": 0,
              "ticks": ""
             }
            },
            "type": "scatterpolargl"
           }
          ],
          "scatterternary": [
           {
            "marker": {
             "colorbar": {
              "outlinewidth": 0,
              "ticks": ""
             }
            },
            "type": "scatterternary"
           }
          ],
          "surface": [
           {
            "colorbar": {
             "outlinewidth": 0,
             "ticks": ""
            },
            "colorscale": [
             [
              0,
              "#0d0887"
             ],
             [
              0.1111111111111111,
              "#46039f"
             ],
             [
              0.2222222222222222,
              "#7201a8"
             ],
             [
              0.3333333333333333,
              "#9c179e"
             ],
             [
              0.4444444444444444,
              "#bd3786"
             ],
             [
              0.5555555555555556,
              "#d8576b"
             ],
             [
              0.6666666666666666,
              "#ed7953"
             ],
             [
              0.7777777777777778,
              "#fb9f3a"
             ],
             [
              0.8888888888888888,
              "#fdca26"
             ],
             [
              1,
              "#f0f921"
             ]
            ],
            "type": "surface"
           }
          ],
          "table": [
           {
            "cells": {
             "fill": {
              "color": "#EBF0F8"
             },
             "line": {
              "color": "white"
             }
            },
            "header": {
             "fill": {
              "color": "#C8D4E3"
             },
             "line": {
              "color": "white"
             }
            },
            "type": "table"
           }
          ]
         },
         "layout": {
          "annotationdefaults": {
           "arrowcolor": "#2a3f5f",
           "arrowhead": 0,
           "arrowwidth": 1
          },
          "autotypenumbers": "strict",
          "coloraxis": {
           "colorbar": {
            "outlinewidth": 0,
            "ticks": ""
           }
          },
          "colorscale": {
           "diverging": [
            [
             0,
             "#8e0152"
            ],
            [
             0.1,
             "#c51b7d"
            ],
            [
             0.2,
             "#de77ae"
            ],
            [
             0.3,
             "#f1b6da"
            ],
            [
             0.4,
             "#fde0ef"
            ],
            [
             0.5,
             "#f7f7f7"
            ],
            [
             0.6,
             "#e6f5d0"
            ],
            [
             0.7,
             "#b8e186"
            ],
            [
             0.8,
             "#7fbc41"
            ],
            [
             0.9,
             "#4d9221"
            ],
            [
             1,
             "#276419"
            ]
           ],
           "sequential": [
            [
             0,
             "#0d0887"
            ],
            [
             0.1111111111111111,
             "#46039f"
            ],
            [
             0.2222222222222222,
             "#7201a8"
            ],
            [
             0.3333333333333333,
             "#9c179e"
            ],
            [
             0.4444444444444444,
             "#bd3786"
            ],
            [
             0.5555555555555556,
             "#d8576b"
            ],
            [
             0.6666666666666666,
             "#ed7953"
            ],
            [
             0.7777777777777778,
             "#fb9f3a"
            ],
            [
             0.8888888888888888,
             "#fdca26"
            ],
            [
             1,
             "#f0f921"
            ]
           ],
           "sequentialminus": [
            [
             0,
             "#0d0887"
            ],
            [
             0.1111111111111111,
             "#46039f"
            ],
            [
             0.2222222222222222,
             "#7201a8"
            ],
            [
             0.3333333333333333,
             "#9c179e"
            ],
            [
             0.4444444444444444,
             "#bd3786"
            ],
            [
             0.5555555555555556,
             "#d8576b"
            ],
            [
             0.6666666666666666,
             "#ed7953"
            ],
            [
             0.7777777777777778,
             "#fb9f3a"
            ],
            [
             0.8888888888888888,
             "#fdca26"
            ],
            [
             1,
             "#f0f921"
            ]
           ]
          },
          "colorway": [
           "#636efa",
           "#EF553B",
           "#00cc96",
           "#ab63fa",
           "#FFA15A",
           "#19d3f3",
           "#FF6692",
           "#B6E880",
           "#FF97FF",
           "#FECB52"
          ],
          "font": {
           "color": "#2a3f5f"
          },
          "geo": {
           "bgcolor": "white",
           "lakecolor": "white",
           "landcolor": "#E5ECF6",
           "showlakes": true,
           "showland": true,
           "subunitcolor": "white"
          },
          "hoverlabel": {
           "align": "left"
          },
          "hovermode": "closest",
          "mapbox": {
           "style": "light"
          },
          "paper_bgcolor": "white",
          "plot_bgcolor": "#E5ECF6",
          "polar": {
           "angularaxis": {
            "gridcolor": "white",
            "linecolor": "white",
            "ticks": ""
           },
           "bgcolor": "#E5ECF6",
           "radialaxis": {
            "gridcolor": "white",
            "linecolor": "white",
            "ticks": ""
           }
          },
          "scene": {
           "xaxis": {
            "backgroundcolor": "#E5ECF6",
            "gridcolor": "white",
            "gridwidth": 2,
            "linecolor": "white",
            "showbackground": true,
            "ticks": "",
            "zerolinecolor": "white"
           },
           "yaxis": {
            "backgroundcolor": "#E5ECF6",
            "gridcolor": "white",
            "gridwidth": 2,
            "linecolor": "white",
            "showbackground": true,
            "ticks": "",
            "zerolinecolor": "white"
           },
           "zaxis": {
            "backgroundcolor": "#E5ECF6",
            "gridcolor": "white",
            "gridwidth": 2,
            "linecolor": "white",
            "showbackground": true,
            "ticks": "",
            "zerolinecolor": "white"
           }
          },
          "shapedefaults": {
           "line": {
            "color": "#2a3f5f"
           }
          },
          "ternary": {
           "aaxis": {
            "gridcolor": "white",
            "linecolor": "white",
            "ticks": ""
           },
           "baxis": {
            "gridcolor": "white",
            "linecolor": "white",
            "ticks": ""
           },
           "bgcolor": "#E5ECF6",
           "caxis": {
            "gridcolor": "white",
            "linecolor": "white",
            "ticks": ""
           }
          },
          "title": {
           "x": 0.05
          },
          "xaxis": {
           "automargin": true,
           "gridcolor": "white",
           "linecolor": "white",
           "ticks": "",
           "title": {
            "standoff": 15
           },
           "zerolinecolor": "white",
           "zerolinewidth": 2
          },
          "yaxis": {
           "automargin": true,
           "gridcolor": "white",
           "linecolor": "white",
           "ticks": "",
           "title": {
            "standoff": 15
           },
           "zerolinecolor": "white",
           "zerolinewidth": 2
          }
         }
        },
        "title": {
         "text": "Correlacion entre Metricas de Rendimiento"
        },
        "xaxis": {
         "anchor": "y",
         "domain": [
          0,
          1
         ]
        },
        "yaxis": {
         "anchor": "x",
         "autorange": "reversed",
         "domain": [
          0,
          1
         ]
        }
       }
      }
     },
     "metadata": {},
     "output_type": "display_data"
    }
   ],
   "source": [
    "# Visualizaciones de rendimiento individual\n",
    "if results_df is not None and len(results_df) > 0:\n",
    "    # Dashboard de rendimiento\n",
    "    fig = make_subplots(\n",
    "        rows=2, cols=2,\n",
    "        subplot_titles=['F1-Score por Algoritmo', 'ROC-AUC vs Accuracy', \n",
    "                       'Tiempo de Entrenamiento', 'Validacion Cruzada']\n",
    "    )\n",
    "    \n",
    "    # 1. F1-Score por algoritmo\n",
    "    fig.add_trace(\n",
    "        go.Bar(\n",
    "            x=results_df['name'],\n",
    "            y=results_df['f1_score'],\n",
    "            name='F1-Score',\n",
    "            text=[f'{f:.3f}' for f in results_df['f1_score']],\n",
    "            textposition='outside',\n",
    "            marker_color='lightblue'\n",
    "        ),\n",
    "        row=1, col=1\n",
    "    )\n",
    "    \n",
    "    # 2. ROC-AUC vs Accuracy\n",
    "    fig.add_trace(\n",
    "        go.Scatter(\n",
    "            x=results_df['accuracy'],\n",
    "            y=results_df['roc_auc'],\n",
    "            mode='markers+text',\n",
    "            text=results_df['name'],\n",
    "            textposition='top center',\n",
    "            name='AUC vs Accuracy',\n",
    "            marker=dict(\n",
    "                size=results_df['f1_score'] * 15,\n",
    "                color=results_df['f1_score'],\n",
    "                colorscale='Viridis',\n",
    "                showscale=True,\n",
    "                colorbar=dict(title=\"F1-Score\")\n",
    "            )\n",
    "        ),\n",
    "        row=1, col=2\n",
    "    )\n",
    "    \n",
    "    # 3. Tiempo de entrenamiento\n",
    "    fig.add_trace(\n",
    "        go.Bar(\n",
    "            x=results_df['name'],\n",
    "            y=results_df['training_time'],\n",
    "            name='Tiempo (s)',\n",
    "            text=[f'{t:.2f}s' for t in results_df['training_time']],\n",
    "            textposition='outside',\n",
    "            marker_color='lightcoral'\n",
    "        ),\n",
    "        row=2, col=1\n",
    "    )\n",
    "    \n",
    "    # 4. Validacion cruzada\n",
    "    fig.add_trace(\n",
    "        go.Bar(\n",
    "            x=results_df['name'],\n",
    "            y=results_df['cv_f1_mean'],\n",
    "            error_y=dict(type='data', array=results_df['cv_f1_std']),\n",
    "            name='CV F1-Score',\n",
    "            text=[f'{cv:.3f}±{std:.3f}' for cv, std in \n",
    "                 zip(results_df['cv_f1_mean'], results_df['cv_f1_std'])],\n",
    "            textposition='outside',\n",
    "            marker_color='lightgreen'\n",
    "        ),\n",
    "        row=2, col=2\n",
    "    )\n",
    "    \n",
    "    # Configuracion del layout\n",
    "    fig.update_layout(\n",
    "        title='Rendimiento Individual de Algoritmos - Ensemble Completo',\n",
    "        height=800,\n",
    "        showlegend=False\n",
    "    )\n",
    "    \n",
    "    # Actualizar ejes\n",
    "    fig.update_xaxes(tickangle=45, row=1, col=1)\n",
    "    fig.update_xaxes(tickangle=45, row=2, col=1)\n",
    "    fig.update_xaxes(tickangle=45, row=2, col=2)\n",
    "    \n",
    "    fig.show()\n",
    "    \n",
    "    # Matriz de correlacion de metricas\n",
    "    metrics_cols = ['accuracy', 'f1_score', 'roc_auc', 'cv_f1_mean', 'training_time']\n",
    "    corr_matrix = results_df[metrics_cols].corr()\n",
    "    \n",
    "    fig_corr = px.imshow(\n",
    "        corr_matrix,\n",
    "        text_auto=\".3f\",\n",
    "        aspect=\"auto\",\n",
    "        title=\"Correlacion entre Metricas de Rendimiento\",\n",
    "        color_continuous_scale=\"RdBu_r\"\n",
    "    )\n",
    "    fig_corr.show()\n",
    "    \n",
    "else:\n",
    "    print(\"No hay datos para visualizar\")"
   ]
  },
  {
   "cell_type": "markdown",
   "metadata": {},
   "source": [
    "## Construccion del Ensemble\n",
    "\n",
    "Construyo diferentes tipos de ensemble usando los mejores algoritmos identificados."
   ]
  },
  {
   "cell_type": "code",
   "execution_count": 11,
   "metadata": {},
   "outputs": [
    {
     "name": "stdout",
     "output_type": "stream",
     "text": [
      "Construyendo ensembles...\n",
      "Voting ensemble creado con 10 modelos\n",
      "Stacking ensemble creado con 12 modelos\n",
      "Bagging ensemble creado con ridge_cv como base\n",
      "\n",
      "3 ensembles construidos:\n",
      "  - voting\n",
      "  - stacking\n",
      "  - bagging\n",
      "\n",
      "Ensembles construidos exitosamente\n"
     ]
    }
   ],
   "source": [
    "# Constructor de ensembles\n",
    "class EnsembleBuilder:\n",
    "    \"\"\"Construye diferentes tipos de ensemble\"\"\"\n",
    "\n",
    "    def __init__(self, good_models_df):\n",
    "        self.good_models = good_models_df\n",
    "        self.ensembles = {}\n",
    "        self.ensemble_results = {}\n",
    "\n",
    "    def calculate_weights(self):\n",
    "        \"\"\"Calcula pesos basados en rendimiento\"\"\"\n",
    "\n",
    "        try:\n",
    "            # Peso base por F1-score\n",
    "            f1_scores = self.good_models['f1_score'].values\n",
    "            f1_weights = f1_scores / f1_scores.sum()\n",
    "\n",
    "            # Bonus por estabilidad (menor std en CV)\n",
    "            stability_scores = 1 / (1 + self.good_models['cv_f1_std'].values)\n",
    "            stability_weights = stability_scores / stability_scores.sum()\n",
    "\n",
    "            # Combinar pesos\n",
    "            final_weights = 0.7 * f1_weights + 0.3 * stability_weights\n",
    "\n",
    "            # Normalizar\n",
    "            final_weights = final_weights / final_weights.sum()\n",
    "\n",
    "            return final_weights\n",
    "\n",
    "        except Exception as e:\n",
    "            print(f\"Error calculando pesos: {e}\")\n",
    "            # Retornar pesos uniformes como fallback\n",
    "            n_models = len(self.good_models)\n",
    "            return np.ones(n_models) / n_models\n",
    "\n",
    "    def create_voting_ensemble(self, X_train, X_test, y_train, y_test):\n",
    "        \"\"\"Crea ensemble de votacion solo con modelos que tienen predict_proba\"\"\"\n",
    "\n",
    "        if len(self.good_models) < 2:\n",
    "            print(\"Se necesitan al menos 2 modelos para voting\")\n",
    "            return None\n",
    "\n",
    "        try:\n",
    "            # Preparar estimadores que tengan predict_proba\n",
    "            estimators = []\n",
    "\n",
    "            for idx, (_, row) in enumerate(self.good_models.iterrows()):\n",
    "                if row['model'] is not None and hasattr(row['model'], 'predict_proba'):\n",
    "                    estimators.append((row['name'], row['model']))\n",
    "\n",
    "            if len(estimators) < 2:\n",
    "                print(\"No hay suficientes modelos con predict_proba para voting\")\n",
    "                return None\n",
    "\n",
    "            # Calcular pesos solo para modelos seleccionados\n",
    "            weights = self.calculate_weights()[:len(estimators)]\n",
    "\n",
    "            # Crear ensemble de votacion suave\n",
    "            voting_ensemble = VotingClassifier(\n",
    "                estimators=estimators,\n",
    "                voting='soft',\n",
    "                weights=weights\n",
    "            )\n",
    "\n",
    "            print(f\"Voting ensemble creado con {len(estimators)} modelos\")\n",
    "            return voting_ensemble\n",
    "\n",
    "        except Exception as e:\n",
    "            print(f\"Error creando voting ensemble: {e}\")\n",
    "            return None\n",
    "\n",
    "    def create_stacking_ensemble(self, X_train, X_test, y_train, y_test):\n",
    "        \"\"\"Crea ensemble de stacking\"\"\"\n",
    "\n",
    "        if len(self.good_models) < 2:\n",
    "            print(\"Se necesitan al menos 2 modelos para stacking\")\n",
    "            return None\n",
    "\n",
    "        try:\n",
    "            # Preparar estimadores base\n",
    "            estimators = []\n",
    "            for _, row in self.good_models.iterrows():\n",
    "                if row['model'] is not None:\n",
    "                    estimators.append((row['name'], row['model']))\n",
    "\n",
    "            if len(estimators) < 2:\n",
    "                print(\"No hay suficientes modelos validos para stacking\")\n",
    "                return None\n",
    "\n",
    "            # Meta-learner\n",
    "            meta_learner = LogisticRegression(random_state=42, max_iter=1000)\n",
    "\n",
    "            # Crear stacking ensemble\n",
    "            stacking_ensemble = StackingClassifier(\n",
    "                estimators=estimators,\n",
    "                final_estimator=meta_learner,\n",
    "                cv=3,\n",
    "                passthrough=False,\n",
    "                n_jobs=-1\n",
    "            )\n",
    "\n",
    "            print(f\"Stacking ensemble creado con {len(estimators)} modelos\")\n",
    "            return stacking_ensemble\n",
    "\n",
    "        except Exception as e:\n",
    "            print(f\"Error creando stacking ensemble: {e}\")\n",
    "            return None\n",
    "\n",
    "    def create_bagging_ensemble(self, X_train, X_test, y_train, y_test):\n",
    "        \"\"\"Crea ensemble de bagging con mejor modelo base\"\"\"\n",
    "\n",
    "        # Usar el mejor modelo como base\n",
    "        best_model_row = self.good_models.iloc[0]\n",
    "        best_model = best_model_row['model']\n",
    "\n",
    "        if best_model is None:\n",
    "            print(\"No hay modelo base valido para bagging\")\n",
    "            return None\n",
    "\n",
    "        try:\n",
    "            # Crear bagging ensemble usando estimator en lugar de base_estimator\n",
    "            bagging_ensemble = BaggingClassifier(\n",
    "                estimator=best_model,\n",
    "                n_estimators=50,\n",
    "                random_state=42,\n",
    "                n_jobs=-1\n",
    "            )\n",
    "\n",
    "            print(f\"Bagging ensemble creado con {best_model_row['name']} como base\")\n",
    "            return bagging_ensemble\n",
    "        except Exception as e:\n",
    "            print(f\"Error creando bagging ensemble: {e}\")\n",
    "            return None\n",
    "\n",
    "    def build_all_ensembles(self, X_train, X_test, y_train, y_test):\n",
    "        \"\"\"Construye todos los tipos de ensemble\"\"\"\n",
    "\n",
    "        print(\"Construyendo ensembles...\")\n",
    "\n",
    "        # Voting ensemble\n",
    "        voting_ens = self.create_voting_ensemble(X_train, X_test, y_train, y_test)\n",
    "        if voting_ens is not None:\n",
    "            self.ensembles['voting'] = voting_ens\n",
    "\n",
    "        # Stacking ensemble\n",
    "        stacking_ens = self.create_stacking_ensemble(X_train, X_test, y_train, y_test)\n",
    "        if stacking_ens is not None:\n",
    "            self.ensembles['stacking'] = stacking_ens\n",
    "\n",
    "        # Bagging ensemble\n",
    "        bagging_ens = self.create_bagging_ensemble(X_train, X_test, y_train, y_test)\n",
    "        if bagging_ens is not None:\n",
    "            self.ensembles['bagging'] = bagging_ens\n",
    "\n",
    "        print(f\"\\n{len(self.ensembles)} ensembles construidos:\")\n",
    "        for name in self.ensembles.keys():\n",
    "            print(f\"  - {name}\")\n",
    "\n",
    "        return len(self.ensembles)\n",
    "\n",
    "# Construir ensembles si tenemos buenos modelos\n",
    "if good_models is not None and len(good_models) > 0:\n",
    "    ensemble_builder = EnsembleBuilder(good_models)\n",
    "    num_ensembles = ensemble_builder.build_all_ensembles(X_train, X_test, y_train, y_test)\n",
    "\n",
    "    if num_ensembles > 0:\n",
    "        print(\"\\nEnsembles construidos exitosamente\")\n",
    "    else:\n",
    "        print(\"\\nNo se pudieron construir ensembles\")\n",
    "else:\n",
    "    print(\"No hay modelos suficientemente buenos para construir ensembles\")\n",
    "    ensemble_builder = None"
   ]
  },
  {
   "cell_type": "markdown",
   "metadata": {},
   "source": [
    "## Entrenamiento y Evaluacion de Ensembles\n",
    "\n",
    "Entreno y evaluo todos los ensembles construidos para comparar su rendimiento."
   ]
  },
  {
   "cell_type": "code",
   "execution_count": 12,
   "metadata": {},
   "outputs": [
    {
     "name": "stdout",
     "output_type": "stream",
     "text": [
      "Evaluando ensembles...\n",
      "==================================================\n",
      "\n",
      "Entrenando voting ensemble...\n",
      "  voting: Convertido a arrays densos\n",
      "  voting: F1=0.8296, AUC=0.8974, Conf=0.417\n",
      "\n",
      "Entrenando stacking ensemble...\n",
      "  stacking: Convertido a arrays densos\n",
      "  stacking: F1=0.8304, AUC=0.9011, Conf=0.630\n",
      "\n",
      "Entrenando bagging ensemble...\n",
      "  bagging: F1=0.8017, AUC=0.8830, Conf=0.804\n",
      "\n",
      "==================================================\n",
      "Evaluacion de ensembles completada\n",
      "\n",
      "Resultados de ensembles:\n",
      "       name  accuracy  f1_score  roc_auc  avg_confidence  training_time\n",
      "1  stacking    0.8302    0.8304   0.9011          0.6296        92.3475\n",
      "0    voting    0.8302    0.8296   0.8974          0.4168        47.8215\n",
      "2   bagging    0.8019    0.8017   0.8830          0.8043         2.2606\n",
      "\n",
      "Mejor ensemble: stacking\n",
      "  F1-Score: 0.8304\n",
      "  Accuracy: 0.8302\n",
      "  ROC-AUC: 0.9011\n",
      "  Confianza promedio: 0.630\n"
     ]
    }
   ],
   "source": [
    "# Evaluador de ensembles con proteccion de namespace\n",
    "def evaluate_ensemble(name, ensemble, X_train, X_test, y_train, y_test):\n",
    "    \"\"\"Evalua un ensemble completo con proteccion de namespace\"\"\"\n",
    "    \n",
    "    start_time = time.time()\n",
    "    \n",
    "    try:\n",
    "        print(f\"\\nEntrenando {name} ensemble...\")\n",
    "        \n",
    "        # Determinar tipo de datos segun ensemble\n",
    "        if hasattr(X_train, 'toarray'):  # Es sparse\n",
    "            # Algunos ensembles pueden manejar sparse, otros no\n",
    "            try:\n",
    "                ensemble.fit(X_train, y_train)\n",
    "                y_pred = ensemble.predict(X_test)\n",
    "                use_sparse = True\n",
    "            except:\n",
    "                # Convertir a denso si falla\n",
    "                X_tr_dense = X_train.toarray()\n",
    "                X_te_dense = X_test.toarray()\n",
    "                ensemble.fit(X_tr_dense, y_train)\n",
    "                y_pred = ensemble.predict(X_te_dense)\n",
    "                use_sparse = False\n",
    "                print(f\"  {name}: Convertido a arrays densos\")\n",
    "        else:\n",
    "            ensemble.fit(X_train, y_train)\n",
    "            y_pred = ensemble.predict(X_test)\n",
    "            use_sparse = False\n",
    "        \n",
    "        # Probabilidades\n",
    "        if hasattr(ensemble, 'predict_proba'):\n",
    "            if use_sparse:\n",
    "                y_pred_proba = ensemble.predict_proba(X_test)[:, 1]\n",
    "            else:\n",
    "                y_pred_proba = ensemble.predict_proba(X_te_dense if 'X_te_dense' in locals() else X_test)[:, 1]\n",
    "        else:\n",
    "            y_pred_proba = y_pred.astype(float)\n",
    "        \n",
    "        # Calcular metricas usando importacion directa para evitar namespace conflicts\n",
    "        import sklearn.metrics\n",
    "        accuracy_eval = sklearn.metrics.accuracy_score(y_test, y_pred)\n",
    "        f1_eval = sklearn.metrics.f1_score(y_test, y_pred, average='weighted')\n",
    "        \n",
    "        try:\n",
    "            roc_auc_eval = sklearn.metrics.roc_auc_score(y_test, y_pred_proba)\n",
    "        except:\n",
    "            roc_auc_eval = 0.0\n",
    "        \n",
    "        # Validacion cruzada\n",
    "        try:\n",
    "            if use_sparse:\n",
    "                cv_scores = cross_val_score(\n",
    "                    ensemble, X_train, y_train, cv=3, scoring='f1_weighted', n_jobs=-1\n",
    "                )\n",
    "            else:\n",
    "                cv_scores = cross_val_score(\n",
    "                    ensemble, X_tr_dense if 'X_tr_dense' in locals() else X_train, \n",
    "                    y_train, cv=3, scoring='f1_weighted', n_jobs=-1\n",
    "                )\n",
    "            cv_mean = cv_scores.mean()\n",
    "            cv_std = cv_scores.std()\n",
    "        except:\n",
    "            cv_mean = cv_std = 0.0\n",
    "        \n",
    "        training_time = time.time() - start_time\n",
    "        \n",
    "        # Metricas de confianza\n",
    "        confidence = np.abs(y_pred_proba - 0.5) * 2  # Normalizado 0-1\n",
    "        avg_confidence = confidence.mean()\n",
    "        \n",
    "        high_conf_mask = confidence >= 0.7\n",
    "        high_conf_accuracy = sklearn.metrics.accuracy_score(\n",
    "            y_test[high_conf_mask], y_pred[high_conf_mask]\n",
    "        ) if np.sum(high_conf_mask) > 0 else 0.0\n",
    "        \n",
    "        result = {\n",
    "            'name': name,\n",
    "            'accuracy': accuracy_eval,\n",
    "            'f1_score': f1_eval,\n",
    "            'roc_auc': roc_auc_eval,\n",
    "            'cv_f1_mean': cv_mean,\n",
    "            'cv_f1_std': cv_std,\n",
    "            'training_time': training_time,\n",
    "            'avg_confidence': avg_confidence,\n",
    "            'high_conf_samples': np.sum(high_conf_mask),\n",
    "            'high_conf_accuracy': high_conf_accuracy,\n",
    "            'predictions': y_pred,\n",
    "            'probabilities': y_pred_proba,\n",
    "            'confidence_scores': confidence,\n",
    "            'success': True\n",
    "        }\n",
    "        \n",
    "        print(f\"  {name}: F1={f1_eval:.4f}, AUC={roc_auc_eval:.4f}, Conf={avg_confidence:.3f}\")\n",
    "        return result\n",
    "        \n",
    "    except Exception as e:\n",
    "        print(f\"  {name}: ERROR - {str(e)}\")\n",
    "        return {\n",
    "            'name': name,\n",
    "            'success': False,\n",
    "            'error': str(e)\n",
    "        }\n",
    "\n",
    "# Evaluar todos los ensembles\n",
    "if ensemble_builder and len(ensemble_builder.ensembles) > 0:\n",
    "    print(\"Evaluando ensembles...\")\n",
    "    print(\"=\" * 50)\n",
    "    \n",
    "    ensemble_results = []\n",
    "    \n",
    "    for name, ensemble in ensemble_builder.ensembles.items():\n",
    "        result = evaluate_ensemble(name, ensemble, X_train, X_test, y_train, y_test)\n",
    "        ensemble_results.append(result)\n",
    "    \n",
    "    print(\"\\n\" + \"=\" * 50)\n",
    "    print(\"Evaluacion de ensembles completada\")\n",
    "    \n",
    "    # Filtrar resultados exitosos\n",
    "    successful_ensembles = [r for r in ensemble_results if r['success']]\n",
    "    \n",
    "    if len(successful_ensembles) > 0:\n",
    "        ensemble_df = pd.DataFrame(successful_ensembles)\n",
    "        ensemble_df = ensemble_df.sort_values('f1_score', ascending=False)\n",
    "        \n",
    "        print(f\"\\nResultados de ensembles:\")\n",
    "        display_cols = ['name', 'accuracy', 'f1_score', 'roc_auc', 'avg_confidence', 'training_time']\n",
    "        print(ensemble_df[display_cols].round(4))\n",
    "        \n",
    "        # Mejor ensemble\n",
    "        best_ensemble = ensemble_df.iloc[0]\n",
    "        print(f\"\\nMejor ensemble: {best_ensemble['name']}\")\n",
    "        print(f\"  F1-Score: {best_ensemble['f1_score']:.4f}\")\n",
    "        print(f\"  Accuracy: {best_ensemble['accuracy']:.4f}\")\n",
    "        print(f\"  ROC-AUC: {best_ensemble['roc_auc']:.4f}\")\n",
    "        print(f\"  Confianza promedio: {best_ensemble['avg_confidence']:.3f}\")\n",
    "    else:\n",
    "        print(\"No se evaluaron ensembles exitosamente\")\n",
    "        ensemble_df = None\n",
    "else:\n",
    "    print(\"No hay ensembles para evaluar\")\n",
    "    ensemble_results = []\n",
    "    ensemble_df = None"
   ]
  },
  {
   "cell_type": "markdown",
   "metadata": {},
   "source": [
    "## Comparacion Final: Individual vs Ensemble\n",
    "\n",
    "Comparo el rendimiento de los ensembles contra los mejores modelos individuales."
   ]
  },
  {
   "cell_type": "code",
   "execution_count": 13,
   "metadata": {},
   "outputs": [
    {
     "name": "stdout",
     "output_type": "stream",
     "text": [
      "COMPARACION FINAL: INDIVIDUAL vs ENSEMBLE\n",
      "============================================================\n",
      "\n",
      "MEJOR MODELO INDIVIDUAL:\n",
      "  Modelo: ridge_cv\n",
      "  F1-Score: 0.8115\n",
      "  Accuracy: 0.8113\n",
      "  ROC-AUC: 0.8816\n",
      "  Tiempo: 2.30s\n",
      "\n",
      "MEJOR ENSEMBLE:\n",
      "  Modelo: stacking\n",
      "  F1-Score: 0.8304\n",
      "  Accuracy: 0.8302\n",
      "  ROC-AUC: 0.9011\n",
      "  Confianza: 0.630\n",
      "  Tiempo: 92.35s\n",
      "\n",
      "MEJORAS DEL ENSEMBLE:\n",
      "  F1-Score: +0.0190 (+2.34%)\n",
      "  Accuracy: +0.0189 (+2.33%)\n",
      "  ROC-AUC: +0.0195 (+2.21%)\n",
      "\n",
      "VEREDICTO: ENSEMBLE SUPERIOR\n"
     ]
    }
   ],
   "source": [
    "# Comparacion comprehensiva\n",
    "def compare_all_approaches():\n",
    "    \"\"\"Compara todos los enfoques: individuales vs ensembles\"\"\"\n",
    "    \n",
    "    if results_df is None or ensemble_df is None:\n",
    "        print(\"Datos insuficientes para comparacion\")\n",
    "        return None\n",
    "    \n",
    "    # Mejor modelo individual\n",
    "    best_individual = results_df.iloc[0]\n",
    "    \n",
    "    # Mejor ensemble\n",
    "    best_ensemble = ensemble_df.iloc[0]\n",
    "    \n",
    "    print(\"COMPARACION FINAL: INDIVIDUAL vs ENSEMBLE\")\n",
    "    print(\"=\" * 60)\n",
    "    \n",
    "    print(f\"\\nMEJOR MODELO INDIVIDUAL:\")\n",
    "    print(f\"  Modelo: {best_individual['name']}\")\n",
    "    print(f\"  F1-Score: {best_individual['f1_score']:.4f}\")\n",
    "    print(f\"  Accuracy: {best_individual['accuracy']:.4f}\")\n",
    "    print(f\"  ROC-AUC: {best_individual['roc_auc']:.4f}\")\n",
    "    print(f\"  Tiempo: {best_individual['training_time']:.2f}s\")\n",
    "    \n",
    "    print(f\"\\nMEJOR ENSEMBLE:\")\n",
    "    print(f\"  Modelo: {best_ensemble['name']}\")\n",
    "    print(f\"  F1-Score: {best_ensemble['f1_score']:.4f}\")\n",
    "    print(f\"  Accuracy: {best_ensemble['accuracy']:.4f}\")\n",
    "    print(f\"  ROC-AUC: {best_ensemble['roc_auc']:.4f}\")\n",
    "    print(f\"  Confianza: {best_ensemble['avg_confidence']:.3f}\")\n",
    "    print(f\"  Tiempo: {best_ensemble['training_time']:.2f}s\")\n",
    "    \n",
    "    # Calcular mejoras\n",
    "    f1_improvement = best_ensemble['f1_score'] - best_individual['f1_score']\n",
    "    acc_improvement = best_ensemble['accuracy'] - best_individual['accuracy']\n",
    "    auc_improvement = best_ensemble['roc_auc'] - best_individual['roc_auc']\n",
    "    \n",
    "    f1_improvement_pct = (f1_improvement / best_individual['f1_score']) * 100\n",
    "    acc_improvement_pct = (acc_improvement / best_individual['accuracy']) * 100\n",
    "    auc_improvement_pct = (auc_improvement / best_individual['roc_auc']) * 100 if best_individual['roc_auc'] > 0 else 0\n",
    "    \n",
    "    print(f\"\\nMEJORAS DEL ENSEMBLE:\")\n",
    "    print(f\"  F1-Score: {f1_improvement:+.4f} ({f1_improvement_pct:+.2f}%)\")\n",
    "    print(f\"  Accuracy: {acc_improvement:+.4f} ({acc_improvement_pct:+.2f}%)\")\n",
    "    print(f\"  ROC-AUC: {auc_improvement:+.4f} ({auc_improvement_pct:+.2f}%)\")\n",
    "    \n",
    "    # Evaluacion general\n",
    "    if f1_improvement > 0.01:  # Mejora significativa\n",
    "        verdict = \"ENSEMBLE SUPERIOR\"\n",
    "    elif abs(f1_improvement) <= 0.01:  # Similar rendimiento\n",
    "        verdict = \"RENDIMIENTO SIMILAR\"\n",
    "    else:\n",
    "        verdict = \"INDIVIDUAL SUPERIOR\"\n",
    "    \n",
    "    print(f\"\\nVEREDICTO: {verdict}\")\n",
    "    \n",
    "    return {\n",
    "        'best_individual': best_individual,\n",
    "        'best_ensemble': best_ensemble,\n",
    "        'f1_improvement': f1_improvement,\n",
    "        'f1_improvement_pct': f1_improvement_pct,\n",
    "        'verdict': verdict\n",
    "    }\n",
    "\n",
    "# Realizar comparacion\n",
    "if results_df is not None and ensemble_df is not None:\n",
    "    comparison_results = compare_all_approaches()\n",
    "else:\n",
    "    print(\"No se puede realizar comparacion - datos faltantes\")\n",
    "    comparison_results = None"
   ]
  },
  {
   "cell_type": "markdown",
   "metadata": {},
   "source": [
    "## Visualizaciones Finales y Dashboard\n",
    "\n",
    "Genero visualizaciones completas que resumen todo el analisis del ensemble."
   ]
  },
  {
   "cell_type": "code",
   "execution_count": 14,
   "metadata": {},
   "outputs": [
    {
     "data": {
      "application/vnd.plotly.v1+json": {
       "config": {
        "plotlyServerURL": "https://plot.ly"
       },
       "data": [
        {
         "legendgroup": "Individual",
         "marker": {
          "color": "lightblue"
         },
         "name": "Individual",
         "showlegend": true,
         "text": [
          "0.811",
          "0.811",
          "0.807",
          "0.795",
          "0.792",
          "0.782",
          "0.777",
          "0.764",
          "0.741",
          "0.722",
          "0.689",
          "0.626"
         ],
         "textposition": "outside",
         "type": "bar",
         "x": [
          "ridge_cv",
          "ridge_basic",
          "svm_linear_l1",
          "catboost_optimized",
          "extra_trees_best",
          "lightgbm_balanced",
          "xgboost_aggressive",
          "random_forest_best",
          "gaussian_nb_smooth",
          "logistic_elastic",
          "lda_best",
          "knn_15"
         ],
         "xaxis": "x",
         "y": {
          "bdata": "LQDFMJb36T8tAMUwlvfpPzXeUu2B0ek/sMOEQXZu6T90jqOB3FbpP7iPFgU6COk/E+/I9hXg6D/fPrtA4nToP2/KaSlot+c/XHHbOxMX5z+yu2Wkcg7mP8EGg/a1CuQ/",
          "dtype": "f8"
         },
         "yaxis": "y"
        },
        {
         "legendgroup": "Ensemble",
         "marker": {
          "color": "lightcoral"
         },
         "name": "Ensemble",
         "showlegend": false,
         "text": [
          "0.830",
          "0.830",
          "0.802"
         ],
         "textposition": "outside",
         "type": "bar",
         "x": [
          "stacking",
          "voting",
          "bagging"
         ],
         "xaxis": "x",
         "y": {
          "bdata": "1ij/3eWS6j/SOJfiAIzqP8Dn0VBzp+k/",
          "dtype": "f8"
         },
         "yaxis": "y"
        },
        {
         "legendgroup": "Individual",
         "marker": {
          "color": "lightblue",
          "opacity": 0.7,
          "size": 10
         },
         "mode": "markers",
         "name": "Individual (AUC vs Acc)",
         "showlegend": false,
         "text": [
          "ridge_cv",
          "ridge_basic",
          "svm_linear_l1",
          "catboost_optimized",
          "extra_trees_best",
          "lightgbm_balanced",
          "xgboost_aggressive",
          "random_forest_best",
          "gaussian_nb_smooth",
          "logistic_elastic",
          "lda_best",
          "knn_15"
         ],
         "textposition": "top center",
         "type": "scatter",
         "x": {
          "bdata": "RGqC8Vb26T9EaoLxVvbpP1ITjLeyz+k/b2WfQ2qC6T9vZZ9DaoLpP5tgvJV9Duk/qQnGW9nn6D/GW9nnkJroPx1SE4y3suc/V/Y5pCYY5z+8lX0OqQnmP3kr+xxSE+Q/",
          "dtype": "f8"
         },
         "xaxis": "x2",
         "y": {
          "bdata": "/Gbr0G827D/8ZuvQbzbsP5d7GmG55+s/R1juaYTl6j+oEZZ7GmHsPyleIJPiRes/w3JPIyx36z8e+s3Wod/qP8ikeIFMKug/W4d+s3Xo6T9iuacRlvvnP7R16Ddbh+U/",
          "dtype": "f8"
         },
         "yaxis": "y2"
        },
        {
         "legendgroup": "Ensemble",
         "marker": {
          "color": "lightcoral",
          "opacity": 0.7,
          "size": 10
         },
         "mode": "markers",
         "name": "Ensemble (AUC vs Acc)",
         "showlegend": false,
         "text": [
          "stacking",
          "voting",
          "bagging"
         ],
         "textposition": "top center",
         "type": "scatter",
         "x": {
          "bdata": "CsZb2eeQ6j8KxlvZ55DqP2G8lX0Oqek/",
          "dtype": "f8"
         },
         "xaxis": "x2",
         "y": {
          "bdata": "G2G5pxHW7D/Bck8jLLfsP4oXyKR4Qew/",
          "dtype": "f8"
         },
         "yaxis": "y2"
        },
        {
         "marker": {
          "color": "lightgreen"
         },
         "name": "Tiempo",
         "showlegend": false,
         "text": [
          "2.3s",
          "2.4s",
          "3.7s",
          "5.8s",
          "1.0s",
          "4.9s",
          "2.1s",
          "0.9s",
          "0.3s",
          "5.2s",
          "1.3s",
          "0.5s",
          "92.3s",
          "47.8s",
          "2.3s"
         ],
         "textposition": "outside",
         "type": "bar",
         "x": [
          "ridge_cv",
          "ridge_basic",
          "svm_linear_l1",
          "catboost_optimized",
          "extra_trees_best",
          "lightgbm_balanced",
          "xgboost_aggressive",
          "random_forest_best",
          "gaussian_nb_smooth",
          "logistic_elastic",
          "lda_best",
          "knn_15",
          "stacking",
          "voting",
          "bagging"
         ],
         "xaxis": "x3",
         "y": {
          "bdata": "AAAAIK9iAkAAAABAMSADQAAAAKC3eQ1AAAAAYJliF0AAAAAAn57vPwAAAEC4pBNAAAAAIJftAEAAAACAkM7sPwAAAABGPNA/AAAAkJmfFEAAAABADoD1PwAAAABQgN0/AAAAHj4WV0AAAAC4JelHQAAAAEC+FQJA",
          "dtype": "f8"
         },
         "yaxis": "y3"
        },
        {
         "error_y": {
          "array": {
           "bdata": "JNGQhkGRkT8k0ZCGQZGRP+w2MTgPsYg/xcdJy+o1jj/J42yJ2WecP/uY59B9QXM/jra/E9wslD/FzAGjXZ6FPx55rGAikI0/x/Hpq8Hsmj8D5DWVsxKSPxG9i+Y5hqM/wBdDSib6jz8zVc9EwoKHP1VcGiQJL4Y/",
           "dtype": "f8"
          },
          "type": "data"
         },
         "marker": {
          "color": "lightyellow"
         },
         "name": "CV F1",
         "showlegend": false,
         "type": "bar",
         "x": [
          "ridge_cv",
          "ridge_basic",
          "svm_linear_l1",
          "catboost_optimized",
          "extra_trees_best",
          "lightgbm_balanced",
          "xgboost_aggressive",
          "random_forest_best",
          "gaussian_nb_smooth",
          "logistic_elastic",
          "lda_best",
          "knn_15",
          "stacking",
          "voting",
          "bagging"
         ],
         "xaxis": "x4",
         "y": {
          "bdata": "dLaFoW2V6D90toWhbZXoP5/Tqc8cOOg/KEohZd3Y5z//WbuBcWLnP18jElqdZOY/K8P0WsaI5j+j+GqfEkvnP6Swht1ohuc/OGH8OJlX5j/Tt6uBadblP8cpo2x0AuQ/YP0waKuG6T+Neg8tj+PoP6VJv30LUug/",
          "dtype": "f8"
         },
         "yaxis": "y4"
        },
        {
         "marker": {
          "color": [
           "lightcoral",
           "lightcoral",
           "lightblue",
           "lightblue",
           "lightblue",
           "lightcoral",
           "lightblue",
           "lightblue",
           "lightblue",
           "lightblue"
          ]
         },
         "name": "Top 10",
         "showlegend": false,
         "text": [
          "0.830",
          "0.830",
          "0.811",
          "0.811",
          "0.807",
          "0.802",
          "0.795",
          "0.792",
          "0.782",
          "0.777"
         ],
         "textposition": "outside",
         "type": "bar",
         "x": [
          "stacking",
          "voting",
          "ridge_cv",
          "ridge_basic",
          "svm_linear_l1",
          "bagging",
          "catboost_optimized",
          "extra_trees_best",
          "lightgbm_balanced",
          "xgboost_aggressive"
         ],
         "xaxis": "x5",
         "y": {
          "bdata": "1ij/3eWS6j/SOJfiAIzqPy0AxTCW9+k/LQDFMJb36T813lLtgdHpP8Dn0VBzp+k/sMOEQXZu6T90jqOB3FbpP7iPFgU6COk/E+/I9hXg6D8=",
          "dtype": "f8"
         },
         "yaxis": "y5"
        },
        {
         "marker": {
          "color": "rgb(141,211,199)"
         },
         "name": "F1 Score",
         "showlegend": false,
         "type": "box",
         "xaxis": "x6",
         "y": {
          "bdata": "LQDFMJb36T8tAMUwlvfpPzXeUu2B0ek/sMOEQXZu6T90jqOB3FbpP7iPFgU6COk/E+/I9hXg6D/fPrtA4nToP2/KaSlot+c/XHHbOxMX5z+yu2Wkcg7mP8EGg/a1CuQ/1ij/3eWS6j/SOJfiAIzqP8Dn0VBzp+k/",
          "dtype": "f8"
         },
         "yaxis": "y6"
        },
        {
         "marker": {
          "color": "rgb(255,255,179)"
         },
         "name": "Accuracy",
         "showlegend": false,
         "type": "box",
         "xaxis": "x6",
         "y": {
          "bdata": "RGqC8Vb26T9EaoLxVvbpP1ITjLeyz+k/b2WfQ2qC6T9vZZ9DaoLpP5tgvJV9Duk/qQnGW9nn6D/GW9nnkJroPx1SE4y3suc/V/Y5pCYY5z+8lX0OqQnmP3kr+xxSE+Q/CsZb2eeQ6j8KxlvZ55DqP2G8lX0Oqek/",
          "dtype": "f8"
         },
         "yaxis": "y6"
        },
        {
         "marker": {
          "color": "rgb(190,186,218)"
         },
         "name": "Roc Auc",
         "showlegend": false,
         "type": "box",
         "xaxis": "x6",
         "y": {
          "bdata": "/Gbr0G827D/8ZuvQbzbsP5d7GmG55+s/R1juaYTl6j+oEZZ7GmHsPyleIJPiRes/w3JPIyx36z8e+s3Wod/qP8ikeIFMKug/W4d+s3Xo6T9iuacRlvvnP7R16Ddbh+U/G2G5pxHW7D/Bck8jLLfsP4oXyKR4Qew/",
          "dtype": "f8"
         },
         "yaxis": "y6"
        }
       ],
       "layout": {
        "annotations": [
         {
          "font": {
           "size": 16
          },
          "showarrow": false,
          "text": "F1-Score: Individual vs Ensemble",
          "x": 0.225,
          "xanchor": "center",
          "xref": "paper",
          "y": 1,
          "yanchor": "bottom",
          "yref": "paper"
         },
         {
          "font": {
           "size": 16
          },
          "showarrow": false,
          "text": "ROC-AUC vs Accuracy",
          "x": 0.775,
          "xanchor": "center",
          "xref": "paper",
          "y": 1,
          "yanchor": "bottom",
          "yref": "paper"
         },
         {
          "font": {
           "size": 16
          },
          "showarrow": false,
          "text": "Tiempo de Entrenamiento",
          "x": 0.225,
          "xanchor": "center",
          "xref": "paper",
          "y": 0.6111111111111112,
          "yanchor": "bottom",
          "yref": "paper"
         },
         {
          "font": {
           "size": 16
          },
          "showarrow": false,
          "text": "Validacion Cruzada",
          "x": 0.775,
          "xanchor": "center",
          "xref": "paper",
          "y": 0.6111111111111112,
          "yanchor": "bottom",
          "yref": "paper"
         },
         {
          "font": {
           "size": 16
          },
          "showarrow": false,
          "text": "Top 10 Modelos",
          "x": 0.225,
          "xanchor": "center",
          "xref": "paper",
          "y": 0.22222222222222224,
          "yanchor": "bottom",
          "yref": "paper"
         },
         {
          "font": {
           "size": 16
          },
          "showarrow": false,
          "text": "Distribucion de Metricas",
          "x": 0.775,
          "xanchor": "center",
          "xref": "paper",
          "y": 0.22222222222222224,
          "yanchor": "bottom",
          "yref": "paper"
         }
        ],
        "height": 1200,
        "showlegend": true,
        "template": {
         "data": {
          "bar": [
           {
            "error_x": {
             "color": "#2a3f5f"
            },
            "error_y": {
             "color": "#2a3f5f"
            },
            "marker": {
             "line": {
              "color": "#E5ECF6",
              "width": 0.5
             },
             "pattern": {
              "fillmode": "overlay",
              "size": 10,
              "solidity": 0.2
             }
            },
            "type": "bar"
           }
          ],
          "barpolar": [
           {
            "marker": {
             "line": {
              "color": "#E5ECF6",
              "width": 0.5
             },
             "pattern": {
              "fillmode": "overlay",
              "size": 10,
              "solidity": 0.2
             }
            },
            "type": "barpolar"
           }
          ],
          "carpet": [
           {
            "aaxis": {
             "endlinecolor": "#2a3f5f",
             "gridcolor": "white",
             "linecolor": "white",
             "minorgridcolor": "white",
             "startlinecolor": "#2a3f5f"
            },
            "baxis": {
             "endlinecolor": "#2a3f5f",
             "gridcolor": "white",
             "linecolor": "white",
             "minorgridcolor": "white",
             "startlinecolor": "#2a3f5f"
            },
            "type": "carpet"
           }
          ],
          "choropleth": [
           {
            "colorbar": {
             "outlinewidth": 0,
             "ticks": ""
            },
            "type": "choropleth"
           }
          ],
          "contour": [
           {
            "colorbar": {
             "outlinewidth": 0,
             "ticks": ""
            },
            "colorscale": [
             [
              0,
              "#0d0887"
             ],
             [
              0.1111111111111111,
              "#46039f"
             ],
             [
              0.2222222222222222,
              "#7201a8"
             ],
             [
              0.3333333333333333,
              "#9c179e"
             ],
             [
              0.4444444444444444,
              "#bd3786"
             ],
             [
              0.5555555555555556,
              "#d8576b"
             ],
             [
              0.6666666666666666,
              "#ed7953"
             ],
             [
              0.7777777777777778,
              "#fb9f3a"
             ],
             [
              0.8888888888888888,
              "#fdca26"
             ],
             [
              1,
              "#f0f921"
             ]
            ],
            "type": "contour"
           }
          ],
          "contourcarpet": [
           {
            "colorbar": {
             "outlinewidth": 0,
             "ticks": ""
            },
            "type": "contourcarpet"
           }
          ],
          "heatmap": [
           {
            "colorbar": {
             "outlinewidth": 0,
             "ticks": ""
            },
            "colorscale": [
             [
              0,
              "#0d0887"
             ],
             [
              0.1111111111111111,
              "#46039f"
             ],
             [
              0.2222222222222222,
              "#7201a8"
             ],
             [
              0.3333333333333333,
              "#9c179e"
             ],
             [
              0.4444444444444444,
              "#bd3786"
             ],
             [
              0.5555555555555556,
              "#d8576b"
             ],
             [
              0.6666666666666666,
              "#ed7953"
             ],
             [
              0.7777777777777778,
              "#fb9f3a"
             ],
             [
              0.8888888888888888,
              "#fdca26"
             ],
             [
              1,
              "#f0f921"
             ]
            ],
            "type": "heatmap"
           }
          ],
          "histogram": [
           {
            "marker": {
             "pattern": {
              "fillmode": "overlay",
              "size": 10,
              "solidity": 0.2
             }
            },
            "type": "histogram"
           }
          ],
          "histogram2d": [
           {
            "colorbar": {
             "outlinewidth": 0,
             "ticks": ""
            },
            "colorscale": [
             [
              0,
              "#0d0887"
             ],
             [
              0.1111111111111111,
              "#46039f"
             ],
             [
              0.2222222222222222,
              "#7201a8"
             ],
             [
              0.3333333333333333,
              "#9c179e"
             ],
             [
              0.4444444444444444,
              "#bd3786"
             ],
             [
              0.5555555555555556,
              "#d8576b"
             ],
             [
              0.6666666666666666,
              "#ed7953"
             ],
             [
              0.7777777777777778,
              "#fb9f3a"
             ],
             [
              0.8888888888888888,
              "#fdca26"
             ],
             [
              1,
              "#f0f921"
             ]
            ],
            "type": "histogram2d"
           }
          ],
          "histogram2dcontour": [
           {
            "colorbar": {
             "outlinewidth": 0,
             "ticks": ""
            },
            "colorscale": [
             [
              0,
              "#0d0887"
             ],
             [
              0.1111111111111111,
              "#46039f"
             ],
             [
              0.2222222222222222,
              "#7201a8"
             ],
             [
              0.3333333333333333,
              "#9c179e"
             ],
             [
              0.4444444444444444,
              "#bd3786"
             ],
             [
              0.5555555555555556,
              "#d8576b"
             ],
             [
              0.6666666666666666,
              "#ed7953"
             ],
             [
              0.7777777777777778,
              "#fb9f3a"
             ],
             [
              0.8888888888888888,
              "#fdca26"
             ],
             [
              1,
              "#f0f921"
             ]
            ],
            "type": "histogram2dcontour"
           }
          ],
          "mesh3d": [
           {
            "colorbar": {
             "outlinewidth": 0,
             "ticks": ""
            },
            "type": "mesh3d"
           }
          ],
          "parcoords": [
           {
            "line": {
             "colorbar": {
              "outlinewidth": 0,
              "ticks": ""
             }
            },
            "type": "parcoords"
           }
          ],
          "pie": [
           {
            "automargin": true,
            "type": "pie"
           }
          ],
          "scatter": [
           {
            "fillpattern": {
             "fillmode": "overlay",
             "size": 10,
             "solidity": 0.2
            },
            "type": "scatter"
           }
          ],
          "scatter3d": [
           {
            "line": {
             "colorbar": {
              "outlinewidth": 0,
              "ticks": ""
             }
            },
            "marker": {
             "colorbar": {
              "outlinewidth": 0,
              "ticks": ""
             }
            },
            "type": "scatter3d"
           }
          ],
          "scattercarpet": [
           {
            "marker": {
             "colorbar": {
              "outlinewidth": 0,
              "ticks": ""
             }
            },
            "type": "scattercarpet"
           }
          ],
          "scattergeo": [
           {
            "marker": {
             "colorbar": {
              "outlinewidth": 0,
              "ticks": ""
             }
            },
            "type": "scattergeo"
           }
          ],
          "scattergl": [
           {
            "marker": {
             "colorbar": {
              "outlinewidth": 0,
              "ticks": ""
             }
            },
            "type": "scattergl"
           }
          ],
          "scattermap": [
           {
            "marker": {
             "colorbar": {
              "outlinewidth": 0,
              "ticks": ""
             }
            },
            "type": "scattermap"
           }
          ],
          "scattermapbox": [
           {
            "marker": {
             "colorbar": {
              "outlinewidth": 0,
              "ticks": ""
             }
            },
            "type": "scattermapbox"
           }
          ],
          "scatterpolar": [
           {
            "marker": {
             "colorbar": {
              "outlinewidth": 0,
              "ticks": ""
             }
            },
            "type": "scatterpolar"
           }
          ],
          "scatterpolargl": [
           {
            "marker": {
             "colorbar": {
              "outlinewidth": 0,
              "ticks": ""
             }
            },
            "type": "scatterpolargl"
           }
          ],
          "scatterternary": [
           {
            "marker": {
             "colorbar": {
              "outlinewidth": 0,
              "ticks": ""
             }
            },
            "type": "scatterternary"
           }
          ],
          "surface": [
           {
            "colorbar": {
             "outlinewidth": 0,
             "ticks": ""
            },
            "colorscale": [
             [
              0,
              "#0d0887"
             ],
             [
              0.1111111111111111,
              "#46039f"
             ],
             [
              0.2222222222222222,
              "#7201a8"
             ],
             [
              0.3333333333333333,
              "#9c179e"
             ],
             [
              0.4444444444444444,
              "#bd3786"
             ],
             [
              0.5555555555555556,
              "#d8576b"
             ],
             [
              0.6666666666666666,
              "#ed7953"
             ],
             [
              0.7777777777777778,
              "#fb9f3a"
             ],
             [
              0.8888888888888888,
              "#fdca26"
             ],
             [
              1,
              "#f0f921"
             ]
            ],
            "type": "surface"
           }
          ],
          "table": [
           {
            "cells": {
             "fill": {
              "color": "#EBF0F8"
             },
             "line": {
              "color": "white"
             }
            },
            "header": {
             "fill": {
              "color": "#C8D4E3"
             },
             "line": {
              "color": "white"
             }
            },
            "type": "table"
           }
          ]
         },
         "layout": {
          "annotationdefaults": {
           "arrowcolor": "#2a3f5f",
           "arrowhead": 0,
           "arrowwidth": 1
          },
          "autotypenumbers": "strict",
          "coloraxis": {
           "colorbar": {
            "outlinewidth": 0,
            "ticks": ""
           }
          },
          "colorscale": {
           "diverging": [
            [
             0,
             "#8e0152"
            ],
            [
             0.1,
             "#c51b7d"
            ],
            [
             0.2,
             "#de77ae"
            ],
            [
             0.3,
             "#f1b6da"
            ],
            [
             0.4,
             "#fde0ef"
            ],
            [
             0.5,
             "#f7f7f7"
            ],
            [
             0.6,
             "#e6f5d0"
            ],
            [
             0.7,
             "#b8e186"
            ],
            [
             0.8,
             "#7fbc41"
            ],
            [
             0.9,
             "#4d9221"
            ],
            [
             1,
             "#276419"
            ]
           ],
           "sequential": [
            [
             0,
             "#0d0887"
            ],
            [
             0.1111111111111111,
             "#46039f"
            ],
            [
             0.2222222222222222,
             "#7201a8"
            ],
            [
             0.3333333333333333,
             "#9c179e"
            ],
            [
             0.4444444444444444,
             "#bd3786"
            ],
            [
             0.5555555555555556,
             "#d8576b"
            ],
            [
             0.6666666666666666,
             "#ed7953"
            ],
            [
             0.7777777777777778,
             "#fb9f3a"
            ],
            [
             0.8888888888888888,
             "#fdca26"
            ],
            [
             1,
             "#f0f921"
            ]
           ],
           "sequentialminus": [
            [
             0,
             "#0d0887"
            ],
            [
             0.1111111111111111,
             "#46039f"
            ],
            [
             0.2222222222222222,
             "#7201a8"
            ],
            [
             0.3333333333333333,
             "#9c179e"
            ],
            [
             0.4444444444444444,
             "#bd3786"
            ],
            [
             0.5555555555555556,
             "#d8576b"
            ],
            [
             0.6666666666666666,
             "#ed7953"
            ],
            [
             0.7777777777777778,
             "#fb9f3a"
            ],
            [
             0.8888888888888888,
             "#fdca26"
            ],
            [
             1,
             "#f0f921"
            ]
           ]
          },
          "colorway": [
           "#636efa",
           "#EF553B",
           "#00cc96",
           "#ab63fa",
           "#FFA15A",
           "#19d3f3",
           "#FF6692",
           "#B6E880",
           "#FF97FF",
           "#FECB52"
          ],
          "font": {
           "color": "#2a3f5f"
          },
          "geo": {
           "bgcolor": "white",
           "lakecolor": "white",
           "landcolor": "#E5ECF6",
           "showlakes": true,
           "showland": true,
           "subunitcolor": "white"
          },
          "hoverlabel": {
           "align": "left"
          },
          "hovermode": "closest",
          "mapbox": {
           "style": "light"
          },
          "paper_bgcolor": "white",
          "plot_bgcolor": "#E5ECF6",
          "polar": {
           "angularaxis": {
            "gridcolor": "white",
            "linecolor": "white",
            "ticks": ""
           },
           "bgcolor": "#E5ECF6",
           "radialaxis": {
            "gridcolor": "white",
            "linecolor": "white",
            "ticks": ""
           }
          },
          "scene": {
           "xaxis": {
            "backgroundcolor": "#E5ECF6",
            "gridcolor": "white",
            "gridwidth": 2,
            "linecolor": "white",
            "showbackground": true,
            "ticks": "",
            "zerolinecolor": "white"
           },
           "yaxis": {
            "backgroundcolor": "#E5ECF6",
            "gridcolor": "white",
            "gridwidth": 2,
            "linecolor": "white",
            "showbackground": true,
            "ticks": "",
            "zerolinecolor": "white"
           },
           "zaxis": {
            "backgroundcolor": "#E5ECF6",
            "gridcolor": "white",
            "gridwidth": 2,
            "linecolor": "white",
            "showbackground": true,
            "ticks": "",
            "zerolinecolor": "white"
           }
          },
          "shapedefaults": {
           "line": {
            "color": "#2a3f5f"
           }
          },
          "ternary": {
           "aaxis": {
            "gridcolor": "white",
            "linecolor": "white",
            "ticks": ""
           },
           "baxis": {
            "gridcolor": "white",
            "linecolor": "white",
            "ticks": ""
           },
           "bgcolor": "#E5ECF6",
           "caxis": {
            "gridcolor": "white",
            "linecolor": "white",
            "ticks": ""
           }
          },
          "title": {
           "x": 0.05
          },
          "xaxis": {
           "automargin": true,
           "gridcolor": "white",
           "linecolor": "white",
           "ticks": "",
           "title": {
            "standoff": 15
           },
           "zerolinecolor": "white",
           "zerolinewidth": 2
          },
          "yaxis": {
           "automargin": true,
           "gridcolor": "white",
           "linecolor": "white",
           "ticks": "",
           "title": {
            "standoff": 15
           },
           "zerolinecolor": "white",
           "zerolinewidth": 2
          }
         }
        },
        "title": {
         "font": {
          "size": 20
         },
         "text": "Dashboard Final - Ensemble Completo con Todos los Enfoques",
         "x": 0.5
        },
        "xaxis": {
         "anchor": "y",
         "domain": [
          0,
          0.45
         ],
         "tickangle": 45
        },
        "xaxis2": {
         "anchor": "y2",
         "domain": [
          0.55,
          1
         ],
         "tickangle": 45
        },
        "xaxis3": {
         "anchor": "y3",
         "domain": [
          0,
          0.45
         ],
         "tickangle": 45
        },
        "xaxis4": {
         "anchor": "y4",
         "domain": [
          0.55,
          1
         ],
         "tickangle": 45
        },
        "xaxis5": {
         "anchor": "y5",
         "domain": [
          0,
          0.45
         ],
         "tickangle": 45
        },
        "xaxis6": {
         "anchor": "y6",
         "domain": [
          0.55,
          1
         ],
         "tickangle": 45
        },
        "yaxis": {
         "anchor": "x",
         "domain": [
          0.7777777777777778,
          1
         ]
        },
        "yaxis2": {
         "anchor": "x2",
         "domain": [
          0.7777777777777778,
          1
         ]
        },
        "yaxis3": {
         "anchor": "x3",
         "domain": [
          0.3888888888888889,
          0.6111111111111112
         ]
        },
        "yaxis4": {
         "anchor": "x4",
         "domain": [
          0.3888888888888889,
          0.6111111111111112
         ]
        },
        "yaxis5": {
         "anchor": "x5",
         "domain": [
          0,
          0.22222222222222224
         ]
        },
        "yaxis6": {
         "anchor": "x6",
         "domain": [
          0,
          0.22222222222222224
         ]
        }
       }
      }
     },
     "metadata": {},
     "output_type": "display_data"
    },
    {
     "name": "stdout",
     "output_type": "stream",
     "text": [
      "Dashboard final generado\n"
     ]
    }
   ],
   "source": [
    "# Dashboard final completo\n",
    "def create_final_dashboard():\n",
    "    \"\"\"Crea dashboard final con todas las comparaciones\"\"\"\n",
    "    \n",
    "    if results_df is None:\n",
    "        print(\"No hay datos para dashboard\")\n",
    "        return None\n",
    "    \n",
    "    # Combinar datos para visualizacion\n",
    "    individual_data = results_df.copy()\n",
    "    individual_data['type'] = 'Individual'\n",
    "    \n",
    "    if ensemble_df is not None:\n",
    "        ensemble_data = ensemble_df.copy()\n",
    "        ensemble_data['type'] = 'Ensemble'\n",
    "        \n",
    "        # Combinar datasets\n",
    "        combined_data = pd.concat([individual_data, ensemble_data], ignore_index=True)\n",
    "    else:\n",
    "        combined_data = individual_data\n",
    "    \n",
    "    # Dashboard con multiples subplots\n",
    "    fig = make_subplots(\n",
    "        rows=3, cols=2,\n",
    "        subplot_titles=[\n",
    "            'F1-Score: Individual vs Ensemble',\n",
    "            'ROC-AUC vs Accuracy',\n",
    "            'Tiempo de Entrenamiento',\n",
    "            'Validacion Cruzada',\n",
    "            'Top 10 Modelos',\n",
    "            'Distribucion de Metricas'\n",
    "        ]\n",
    "    )\n",
    "    \n",
    "    # 1. F1-Score comparacion\n",
    "    colors = {'Individual': 'lightblue', 'Ensemble': 'lightcoral'}\n",
    "    for model_type in combined_data['type'].unique():\n",
    "        subset = combined_data[combined_data['type'] == model_type]\n",
    "        fig.add_trace(\n",
    "            go.Bar(\n",
    "                x=subset['name'],\n",
    "                y=subset['f1_score'],\n",
    "                name=f'{model_type}',\n",
    "                marker_color=colors.get(model_type, 'gray'),\n",
    "                text=[f'{f:.3f}' for f in subset['f1_score']],\n",
    "                textposition='outside',\n",
    "                legendgroup=model_type,\n",
    "                showlegend=(model_type == 'Individual')  # Solo mostrar una leyenda\n",
    "            ),\n",
    "            row=1, col=1\n",
    "        )\n",
    "    \n",
    "    # 2. ROC-AUC vs Accuracy scatter\n",
    "    for model_type in combined_data['type'].unique():\n",
    "        subset = combined_data[combined_data['type'] == model_type]\n",
    "        fig.add_trace(\n",
    "            go.Scatter(\n",
    "                x=subset['accuracy'],\n",
    "                y=subset['roc_auc'],\n",
    "                mode='markers',\n",
    "                name=f'{model_type} (AUC vs Acc)',\n",
    "                marker=dict(\n",
    "                    size=10,\n",
    "                    color=colors.get(model_type, 'gray'),\n",
    "                    opacity=0.7\n",
    "                ),\n",
    "                text=subset['name'],\n",
    "                textposition='top center',\n",
    "                legendgroup=model_type,\n",
    "                showlegend=False\n",
    "            ),\n",
    "            row=1, col=2\n",
    "        )\n",
    "    \n",
    "    # 3. Tiempo de entrenamiento\n",
    "    fig.add_trace(\n",
    "        go.Bar(\n",
    "            x=combined_data['name'],\n",
    "            y=combined_data['training_time'],\n",
    "            name='Tiempo',\n",
    "            marker_color='lightgreen',\n",
    "            text=[f'{t:.1f}s' for t in combined_data['training_time']],\n",
    "            textposition='outside',\n",
    "            showlegend=False\n",
    "        ),\n",
    "        row=2, col=1\n",
    "    )\n",
    "    \n",
    "    # 4. Validacion cruzada\n",
    "    fig.add_trace(\n",
    "        go.Bar(\n",
    "            x=combined_data['name'],\n",
    "            y=combined_data['cv_f1_mean'],\n",
    "            error_y=dict(type='data', array=combined_data['cv_f1_std']),\n",
    "            name='CV F1',\n",
    "            marker_color='lightyellow',\n",
    "            showlegend=False\n",
    "        ),\n",
    "        row=2, col=2\n",
    "    )\n",
    "    \n",
    "    # 5. Top 10 modelos\n",
    "    top_10 = combined_data.nlargest(10, 'f1_score')\n",
    "    fig.add_trace(\n",
    "        go.Bar(\n",
    "            x=top_10['name'],\n",
    "            y=top_10['f1_score'],\n",
    "            name='Top 10',\n",
    "            marker_color=[colors.get(t, 'gray') for t in top_10['type']],\n",
    "            text=[f'{f:.3f}' for f in top_10['f1_score']],\n",
    "            textposition='outside',\n",
    "            showlegend=False\n",
    "        ),\n",
    "        row=3, col=1\n",
    "    )\n",
    "    \n",
    "    # 6. Box plot de metricas\n",
    "    metrics = ['f1_score', 'accuracy', 'roc_auc']\n",
    "    for i, metric in enumerate(metrics):\n",
    "        fig.add_trace(\n",
    "            go.Box(\n",
    "                y=combined_data[metric],\n",
    "                name=metric.replace('_', ' ').title(),\n",
    "                marker_color=px.colors.qualitative.Set3[i],\n",
    "                showlegend=False\n",
    "            ),\n",
    "            row=3, col=2\n",
    "        )\n",
    "    \n",
    "    # Configuracion del layout\n",
    "    fig.update_layout(\n",
    "        title={\n",
    "            'text': 'Dashboard Final - Ensemble Completo con Todos los Enfoques',\n",
    "            'x': 0.5,\n",
    "            'font': {'size': 20}\n",
    "        },\n",
    "        height=1200,\n",
    "        showlegend=True\n",
    "    )\n",
    "    \n",
    "    # Actualizar ejes\n",
    "    for row in range(1, 4):\n",
    "        for col in range(1, 3):\n",
    "            fig.update_xaxes(tickangle=45, row=row, col=col)\n",
    "    \n",
    "    return fig\n",
    "\n",
    "# Crear dashboard final\n",
    "final_dashboard = create_final_dashboard()\n",
    "if final_dashboard:\n",
    "    final_dashboard.show()\n",
    "    print(\"Dashboard final generado\")\n",
    "else:\n",
    "    print(\"No se pudo generar dashboard final\")"
   ]
  },
  {
   "cell_type": "code",
   "execution_count": 15,
   "metadata": {},
   "outputs": [
    {
     "data": {
      "application/vnd.plotly.v1+json": {
       "config": {
        "plotlyServerURL": "https://plot.ly"
       },
       "data": [
        {
         "coloraxis": "coloraxis",
         "hovertemplate": "Prediccion: %{x}<br>Verdadero: %{y}<br>Cantidad: %{z}<extra></extra>",
         "name": "0",
         "type": "heatmap",
         "x": [
          "Fake",
          "Real"
         ],
         "xaxis": "x",
         "y": [
          "Fake",
          "Real"
         ],
         "yaxis": "y",
         "z": {
          "bdata": "UBAUYA==",
          "dtype": "i1",
          "shape": "2, 2"
         }
        }
       ],
       "layout": {
        "annotations": [
         {
          "font": {
           "color": "white",
           "size": 16
          },
          "showarrow": false,
          "text": "80",
          "x": 0,
          "y": 0
         },
         {
          "font": {
           "color": "black",
           "size": 16
          },
          "showarrow": false,
          "text": "16",
          "x": 1,
          "y": 0
         },
         {
          "font": {
           "color": "black",
           "size": 16
          },
          "showarrow": false,
          "text": "20",
          "x": 0,
          "y": 1
         },
         {
          "font": {
           "color": "white",
           "size": 16
          },
          "showarrow": false,
          "text": "96",
          "x": 1,
          "y": 1
         }
        ],
        "coloraxis": {
         "colorbar": {
          "title": {
           "text": "Cantidad"
          }
         },
         "colorscale": [
          [
           0,
           "rgb(247,251,255)"
          ],
          [
           0.125,
           "rgb(222,235,247)"
          ],
          [
           0.25,
           "rgb(198,219,239)"
          ],
          [
           0.375,
           "rgb(158,202,225)"
          ],
          [
           0.5,
           "rgb(107,174,214)"
          ],
          [
           0.625,
           "rgb(66,146,198)"
          ],
          [
           0.75,
           "rgb(33,113,181)"
          ],
          [
           0.875,
           "rgb(8,81,156)"
          ],
          [
           1,
           "rgb(8,48,107)"
          ]
         ]
        },
        "template": {
         "data": {
          "bar": [
           {
            "error_x": {
             "color": "#2a3f5f"
            },
            "error_y": {
             "color": "#2a3f5f"
            },
            "marker": {
             "line": {
              "color": "#E5ECF6",
              "width": 0.5
             },
             "pattern": {
              "fillmode": "overlay",
              "size": 10,
              "solidity": 0.2
             }
            },
            "type": "bar"
           }
          ],
          "barpolar": [
           {
            "marker": {
             "line": {
              "color": "#E5ECF6",
              "width": 0.5
             },
             "pattern": {
              "fillmode": "overlay",
              "size": 10,
              "solidity": 0.2
             }
            },
            "type": "barpolar"
           }
          ],
          "carpet": [
           {
            "aaxis": {
             "endlinecolor": "#2a3f5f",
             "gridcolor": "white",
             "linecolor": "white",
             "minorgridcolor": "white",
             "startlinecolor": "#2a3f5f"
            },
            "baxis": {
             "endlinecolor": "#2a3f5f",
             "gridcolor": "white",
             "linecolor": "white",
             "minorgridcolor": "white",
             "startlinecolor": "#2a3f5f"
            },
            "type": "carpet"
           }
          ],
          "choropleth": [
           {
            "colorbar": {
             "outlinewidth": 0,
             "ticks": ""
            },
            "type": "choropleth"
           }
          ],
          "contour": [
           {
            "colorbar": {
             "outlinewidth": 0,
             "ticks": ""
            },
            "colorscale": [
             [
              0,
              "#0d0887"
             ],
             [
              0.1111111111111111,
              "#46039f"
             ],
             [
              0.2222222222222222,
              "#7201a8"
             ],
             [
              0.3333333333333333,
              "#9c179e"
             ],
             [
              0.4444444444444444,
              "#bd3786"
             ],
             [
              0.5555555555555556,
              "#d8576b"
             ],
             [
              0.6666666666666666,
              "#ed7953"
             ],
             [
              0.7777777777777778,
              "#fb9f3a"
             ],
             [
              0.8888888888888888,
              "#fdca26"
             ],
             [
              1,
              "#f0f921"
             ]
            ],
            "type": "contour"
           }
          ],
          "contourcarpet": [
           {
            "colorbar": {
             "outlinewidth": 0,
             "ticks": ""
            },
            "type": "contourcarpet"
           }
          ],
          "heatmap": [
           {
            "colorbar": {
             "outlinewidth": 0,
             "ticks": ""
            },
            "colorscale": [
             [
              0,
              "#0d0887"
             ],
             [
              0.1111111111111111,
              "#46039f"
             ],
             [
              0.2222222222222222,
              "#7201a8"
             ],
             [
              0.3333333333333333,
              "#9c179e"
             ],
             [
              0.4444444444444444,
              "#bd3786"
             ],
             [
              0.5555555555555556,
              "#d8576b"
             ],
             [
              0.6666666666666666,
              "#ed7953"
             ],
             [
              0.7777777777777778,
              "#fb9f3a"
             ],
             [
              0.8888888888888888,
              "#fdca26"
             ],
             [
              1,
              "#f0f921"
             ]
            ],
            "type": "heatmap"
           }
          ],
          "histogram": [
           {
            "marker": {
             "pattern": {
              "fillmode": "overlay",
              "size": 10,
              "solidity": 0.2
             }
            },
            "type": "histogram"
           }
          ],
          "histogram2d": [
           {
            "colorbar": {
             "outlinewidth": 0,
             "ticks": ""
            },
            "colorscale": [
             [
              0,
              "#0d0887"
             ],
             [
              0.1111111111111111,
              "#46039f"
             ],
             [
              0.2222222222222222,
              "#7201a8"
             ],
             [
              0.3333333333333333,
              "#9c179e"
             ],
             [
              0.4444444444444444,
              "#bd3786"
             ],
             [
              0.5555555555555556,
              "#d8576b"
             ],
             [
              0.6666666666666666,
              "#ed7953"
             ],
             [
              0.7777777777777778,
              "#fb9f3a"
             ],
             [
              0.8888888888888888,
              "#fdca26"
             ],
             [
              1,
              "#f0f921"
             ]
            ],
            "type": "histogram2d"
           }
          ],
          "histogram2dcontour": [
           {
            "colorbar": {
             "outlinewidth": 0,
             "ticks": ""
            },
            "colorscale": [
             [
              0,
              "#0d0887"
             ],
             [
              0.1111111111111111,
              "#46039f"
             ],
             [
              0.2222222222222222,
              "#7201a8"
             ],
             [
              0.3333333333333333,
              "#9c179e"
             ],
             [
              0.4444444444444444,
              "#bd3786"
             ],
             [
              0.5555555555555556,
              "#d8576b"
             ],
             [
              0.6666666666666666,
              "#ed7953"
             ],
             [
              0.7777777777777778,
              "#fb9f3a"
             ],
             [
              0.8888888888888888,
              "#fdca26"
             ],
             [
              1,
              "#f0f921"
             ]
            ],
            "type": "histogram2dcontour"
           }
          ],
          "mesh3d": [
           {
            "colorbar": {
             "outlinewidth": 0,
             "ticks": ""
            },
            "type": "mesh3d"
           }
          ],
          "parcoords": [
           {
            "line": {
             "colorbar": {
              "outlinewidth": 0,
              "ticks": ""
             }
            },
            "type": "parcoords"
           }
          ],
          "pie": [
           {
            "automargin": true,
            "type": "pie"
           }
          ],
          "scatter": [
           {
            "fillpattern": {
             "fillmode": "overlay",
             "size": 10,
             "solidity": 0.2
            },
            "type": "scatter"
           }
          ],
          "scatter3d": [
           {
            "line": {
             "colorbar": {
              "outlinewidth": 0,
              "ticks": ""
             }
            },
            "marker": {
             "colorbar": {
              "outlinewidth": 0,
              "ticks": ""
             }
            },
            "type": "scatter3d"
           }
          ],
          "scattercarpet": [
           {
            "marker": {
             "colorbar": {
              "outlinewidth": 0,
              "ticks": ""
             }
            },
            "type": "scattercarpet"
           }
          ],
          "scattergeo": [
           {
            "marker": {
             "colorbar": {
              "outlinewidth": 0,
              "ticks": ""
             }
            },
            "type": "scattergeo"
           }
          ],
          "scattergl": [
           {
            "marker": {
             "colorbar": {
              "outlinewidth": 0,
              "ticks": ""
             }
            },
            "type": "scattergl"
           }
          ],
          "scattermap": [
           {
            "marker": {
             "colorbar": {
              "outlinewidth": 0,
              "ticks": ""
             }
            },
            "type": "scattermap"
           }
          ],
          "scattermapbox": [
           {
            "marker": {
             "colorbar": {
              "outlinewidth": 0,
              "ticks": ""
             }
            },
            "type": "scattermapbox"
           }
          ],
          "scatterpolar": [
           {
            "marker": {
             "colorbar": {
              "outlinewidth": 0,
              "ticks": ""
             }
            },
            "type": "scatterpolar"
           }
          ],
          "scatterpolargl": [
           {
            "marker": {
             "colorbar": {
              "outlinewidth": 0,
              "ticks": ""
             }
            },
            "type": "scatterpolargl"
           }
          ],
          "scatterternary": [
           {
            "marker": {
             "colorbar": {
              "outlinewidth": 0,
              "ticks": ""
             }
            },
            "type": "scatterternary"
           }
          ],
          "surface": [
           {
            "colorbar": {
             "outlinewidth": 0,
             "ticks": ""
            },
            "colorscale": [
             [
              0,
              "#0d0887"
             ],
             [
              0.1111111111111111,
              "#46039f"
             ],
             [
              0.2222222222222222,
              "#7201a8"
             ],
             [
              0.3333333333333333,
              "#9c179e"
             ],
             [
              0.4444444444444444,
              "#bd3786"
             ],
             [
              0.5555555555555556,
              "#d8576b"
             ],
             [
              0.6666666666666666,
              "#ed7953"
             ],
             [
              0.7777777777777778,
              "#fb9f3a"
             ],
             [
              0.8888888888888888,
              "#fdca26"
             ],
             [
              1,
              "#f0f921"
             ]
            ],
            "type": "surface"
           }
          ],
          "table": [
           {
            "cells": {
             "fill": {
              "color": "#EBF0F8"
             },
             "line": {
              "color": "white"
             }
            },
            "header": {
             "fill": {
              "color": "#C8D4E3"
             },
             "line": {
              "color": "white"
             }
            },
            "type": "table"
           }
          ]
         },
         "layout": {
          "annotationdefaults": {
           "arrowcolor": "#2a3f5f",
           "arrowhead": 0,
           "arrowwidth": 1
          },
          "autotypenumbers": "strict",
          "coloraxis": {
           "colorbar": {
            "outlinewidth": 0,
            "ticks": ""
           }
          },
          "colorscale": {
           "diverging": [
            [
             0,
             "#8e0152"
            ],
            [
             0.1,
             "#c51b7d"
            ],
            [
             0.2,
             "#de77ae"
            ],
            [
             0.3,
             "#f1b6da"
            ],
            [
             0.4,
             "#fde0ef"
            ],
            [
             0.5,
             "#f7f7f7"
            ],
            [
             0.6,
             "#e6f5d0"
            ],
            [
             0.7,
             "#b8e186"
            ],
            [
             0.8,
             "#7fbc41"
            ],
            [
             0.9,
             "#4d9221"
            ],
            [
             1,
             "#276419"
            ]
           ],
           "sequential": [
            [
             0,
             "#0d0887"
            ],
            [
             0.1111111111111111,
             "#46039f"
            ],
            [
             0.2222222222222222,
             "#7201a8"
            ],
            [
             0.3333333333333333,
             "#9c179e"
            ],
            [
             0.4444444444444444,
             "#bd3786"
            ],
            [
             0.5555555555555556,
             "#d8576b"
            ],
            [
             0.6666666666666666,
             "#ed7953"
            ],
            [
             0.7777777777777778,
             "#fb9f3a"
            ],
            [
             0.8888888888888888,
             "#fdca26"
            ],
            [
             1,
             "#f0f921"
            ]
           ],
           "sequentialminus": [
            [
             0,
             "#0d0887"
            ],
            [
             0.1111111111111111,
             "#46039f"
            ],
            [
             0.2222222222222222,
             "#7201a8"
            ],
            [
             0.3333333333333333,
             "#9c179e"
            ],
            [
             0.4444444444444444,
             "#bd3786"
            ],
            [
             0.5555555555555556,
             "#d8576b"
            ],
            [
             0.6666666666666666,
             "#ed7953"
            ],
            [
             0.7777777777777778,
             "#fb9f3a"
            ],
            [
             0.8888888888888888,
             "#fdca26"
            ],
            [
             1,
             "#f0f921"
            ]
           ]
          },
          "colorway": [
           "#636efa",
           "#EF553B",
           "#00cc96",
           "#ab63fa",
           "#FFA15A",
           "#19d3f3",
           "#FF6692",
           "#B6E880",
           "#FF97FF",
           "#FECB52"
          ],
          "font": {
           "color": "#2a3f5f"
          },
          "geo": {
           "bgcolor": "white",
           "lakecolor": "white",
           "landcolor": "#E5ECF6",
           "showlakes": true,
           "showland": true,
           "subunitcolor": "white"
          },
          "hoverlabel": {
           "align": "left"
          },
          "hovermode": "closest",
          "mapbox": {
           "style": "light"
          },
          "paper_bgcolor": "white",
          "plot_bgcolor": "#E5ECF6",
          "polar": {
           "angularaxis": {
            "gridcolor": "white",
            "linecolor": "white",
            "ticks": ""
           },
           "bgcolor": "#E5ECF6",
           "radialaxis": {
            "gridcolor": "white",
            "linecolor": "white",
            "ticks": ""
           }
          },
          "scene": {
           "xaxis": {
            "backgroundcolor": "#E5ECF6",
            "gridcolor": "white",
            "gridwidth": 2,
            "linecolor": "white",
            "showbackground": true,
            "ticks": "",
            "zerolinecolor": "white"
           },
           "yaxis": {
            "backgroundcolor": "#E5ECF6",
            "gridcolor": "white",
            "gridwidth": 2,
            "linecolor": "white",
            "showbackground": true,
            "ticks": "",
            "zerolinecolor": "white"
           },
           "zaxis": {
            "backgroundcolor": "#E5ECF6",
            "gridcolor": "white",
            "gridwidth": 2,
            "linecolor": "white",
            "showbackground": true,
            "ticks": "",
            "zerolinecolor": "white"
           }
          },
          "shapedefaults": {
           "line": {
            "color": "#2a3f5f"
           }
          },
          "ternary": {
           "aaxis": {
            "gridcolor": "white",
            "linecolor": "white",
            "ticks": ""
           },
           "baxis": {
            "gridcolor": "white",
            "linecolor": "white",
            "ticks": ""
           },
           "bgcolor": "#E5ECF6",
           "caxis": {
            "gridcolor": "white",
            "linecolor": "white",
            "ticks": ""
           }
          },
          "title": {
           "x": 0.05
          },
          "xaxis": {
           "automargin": true,
           "gridcolor": "white",
           "linecolor": "white",
           "ticks": "",
           "title": {
            "standoff": 15
           },
           "zerolinecolor": "white",
           "zerolinewidth": 2
          },
          "yaxis": {
           "automargin": true,
           "gridcolor": "white",
           "linecolor": "white",
           "ticks": "",
           "title": {
            "standoff": 15
           },
           "zerolinecolor": "white",
           "zerolinewidth": 2
          }
         }
        },
        "title": {
         "text": "Matriz de Confusion - stacking"
        },
        "xaxis": {
         "anchor": "y",
         "constrain": "domain",
         "domain": [
          0,
          1
         ],
         "scaleanchor": "y",
         "title": {
          "text": "Prediccion"
         }
        },
        "yaxis": {
         "anchor": "x",
         "autorange": "reversed",
         "constrain": "domain",
         "domain": [
          0,
          1
         ],
         "title": {
          "text": "Verdadero"
         }
        }
       }
      }
     },
     "metadata": {},
     "output_type": "display_data"
    },
    {
     "name": "stdout",
     "output_type": "stream",
     "text": [
      "\n",
      "Metricas detalladas - stacking:\n",
      "True Positives: 96\n",
      "True Negatives: 80\n",
      "False Positives: 16\n",
      "False Negatives: 20\n",
      "Precision: 0.8571\n",
      "Recall: 0.8276\n",
      "Specificity: 0.8333\n",
      "\n",
      "Reporte de clasificacion completo:\n",
      "              precision    recall  f1-score   support\n",
      "\n",
      "        Fake       0.80      0.83      0.82        96\n",
      "        Real       0.86      0.83      0.84       116\n",
      "\n",
      "    accuracy                           0.83       212\n",
      "   macro avg       0.83      0.83      0.83       212\n",
      "weighted avg       0.83      0.83      0.83       212\n",
      "\n"
     ]
    }
   ],
   "source": [
    "# Matriz de confusion del mejor modelo\n",
    "if comparison_results:\n",
    "    best_model_data = comparison_results['best_ensemble'] if comparison_results['verdict'] != 'INDIVIDUAL SUPERIOR' else comparison_results['best_individual']\n",
    "    \n",
    "    if 'predictions' in best_model_data:\n",
    "        y_pred_best = best_model_data['predictions']\n",
    "        \n",
    "        # Matriz de confusion\n",
    "        cm = confusion_matrix(y_test, y_pred_best)\n",
    "        \n",
    "        fig_cm = px.imshow(\n",
    "            cm,\n",
    "            labels=dict(x=\"Prediccion\", y=\"Verdadero\", color=\"Cantidad\"),\n",
    "            x=['Fake', 'Real'],\n",
    "            y=['Fake', 'Real'],\n",
    "            color_continuous_scale='Blues',\n",
    "            title=f\"Matriz de Confusion - {best_model_data['name']}\"\n",
    "        )\n",
    "        \n",
    "        # Añadir texto a cada celda\n",
    "        for i in range(2):\n",
    "            for j in range(2):\n",
    "                fig_cm.add_annotation(\n",
    "                    x=j, y=i,\n",
    "                    text=str(cm[i, j]),\n",
    "                    showarrow=False,\n",
    "                    font=dict(color=\"white\" if cm[i, j] > cm.max()/2 else \"black\", size=16)\n",
    "                )\n",
    "        \n",
    "        fig_cm.show()\n",
    "        \n",
    "        # Calcular metricas de confusion matrix\n",
    "        tn, fp, fn, tp = cm.ravel()\n",
    "        precision = tp / (tp + fp) if (tp + fp) > 0 else 0\n",
    "        recall = tp / (tp + fn) if (tp + fn) > 0 else 0\n",
    "        specificity = tn / (tn + fp) if (tn + fp) > 0 else 0\n",
    "        \n",
    "        print(f\"\\nMetricas detalladas - {best_model_data['name']}:\")\n",
    "        print(f\"True Positives: {tp}\")\n",
    "        print(f\"True Negatives: {tn}\")\n",
    "        print(f\"False Positives: {fp}\")\n",
    "        print(f\"False Negatives: {fn}\")\n",
    "        print(f\"Precision: {precision:.4f}\")\n",
    "        print(f\"Recall: {recall:.4f}\")\n",
    "        print(f\"Specificity: {specificity:.4f}\")\n",
    "        \n",
    "        # Reporte de clasificacion\n",
    "        print(f\"\\nReporte de clasificacion completo:\")\n",
    "        print(classification_report(y_test, y_pred_best, target_names=['Fake', 'Real']))\n",
    "else:\n",
    "    print(\"No hay datos de mejor modelo para matriz de confusion\")"
   ]
  },
  {
   "cell_type": "markdown",
   "metadata": {},
   "source": [
    "## Resumen Final y Guardado\n",
    "\n",
    "Genero el resumen final completo y guardo todos los resultados del sistema de ensemble."
   ]
  },
  {
   "cell_type": "code",
   "execution_count": 16,
   "metadata": {},
   "outputs": [
    {
     "name": "stdout",
     "output_type": "stream",
     "text": [
      "ENSEMBLE AVANZADO - RESUMEN FINAL\n",
      "--------------------------------------------------\n",
      "Timestamp: 2025-08-24 21:01:03\n",
      "Dataset utilizado: Datos procesados del proyecto\n",
      "\n",
      "1. CONFIGURACION EXPERIMENTAL:\n",
      "   Dataset: (1058, 59) filas x columnas\n",
      "   Features numericas: 57\n",
      "   Features texto TF-IDF: 1791\n",
      "   Total features: 1848\n",
      "   Entrenamiento: 846 muestras\n",
      "   Prueba: 212 muestras\n",
      "\n",
      "2. ALGORITMOS INDIVIDUALES:\n",
      "   Total evaluados: 12\n",
      "   Mejor individual: ridge_cv F1: 0.8115\n",
      "   Top 5:\n",
      "     1. ridge_cv: 0.8115\n",
      "     2. ridge_basic: 0.8115\n",
      "     3. svm_linear_l1: 0.8068\n",
      "     4. catboost_optimized: 0.7947\n",
      "     5. extra_trees_best: 0.7919\n",
      "\n",
      "3. ENSEMBLES:\n",
      "   Total construidos: 3\n",
      "   Mejor ensemble: stacking F1: 0.8304\n",
      "   stacking: F1=0.8304\n",
      "   voting: F1=0.8296\n",
      "   bagging: F1=0.8017\n",
      "\n",
      "4. COMPARACION:\n",
      "   Individual: ridge_cv F1: 0.8115\n",
      "   Ensemble: stacking F1: 0.8304\n",
      "   Mejora: +0.0190 (+2.34%)\n",
      "   Resultado: ENSEMBLE SUPERIOR\n",
      "\n",
      "5. RECOMENDACIONES:\n",
      "   Usar stacking para implementacion\n",
      "Sistema de ensemble avanzado completado\n",
      "Resultados guardados en: ../models/ensemble_all_approaches\n",
      "Proceso finalizado\n"
     ]
    }
   ],
   "source": [
    "# Generar resumen final completo\n",
    "def generate_final_summary():\n",
    "    \"\"\"Genera resumen ejecutivo final\"\"\"\n",
    "    \n",
    "    print(\"ENSEMBLE AVANZADO - RESUMEN FINAL\")\n",
    "    print(\"-\" * 50)\n",
    "    \n",
    "    print(f\"Timestamp: {datetime.now().strftime('%Y-%m-%d %H:%M:%S')}\")\n",
    "    print(f\"Dataset utilizado: Datos procesados del proyecto\")\n",
    "    \n",
    "    if all_features:\n",
    "        print(f\"\\n1. CONFIGURACION EXPERIMENTAL:\")\n",
    "        print(f\"   Dataset: {df_clean.shape} filas x columnas\")\n",
    "        print(f\"   Features numericas: {len(all_features['numeric_columns'])}\")\n",
    "        if 'text' in all_features:\n",
    "            print(f\"   Features texto TF-IDF: {all_features['text'].shape[1]}\")\n",
    "            print(f\"   Total features: {X_train.shape[1]}\")\n",
    "        print(f\"   Entrenamiento: {X_train.shape[0]} muestras\")\n",
    "        print(f\"   Prueba: {X_test.shape[0]} muestras\")\n",
    "    \n",
    "    if results_df is not None:\n",
    "        print(f\"\\n2. ALGORITMOS INDIVIDUALES:\")\n",
    "        print(f\"   Total evaluados: {len(results_df)}\")\n",
    "        print(f\"   Mejor individual: {results_df.iloc[0]['name']} F1: {results_df.iloc[0]['f1_score']:.4f}\")\n",
    "        \n",
    "        print(f\"   Top 5:\")\n",
    "        for i, (_, row) in enumerate(results_df.head(5).iterrows(), 1):\n",
    "            print(f\"     {i}. {row['name']}: {row['f1_score']:.4f}\")\n",
    "    \n",
    "    if ensemble_df is not None:\n",
    "        print(f\"\\n3. ENSEMBLES:\")\n",
    "        print(f\"   Total construidos: {len(ensemble_df)}\")\n",
    "        print(f\"   Mejor ensemble: {ensemble_df.iloc[0]['name']} F1: {ensemble_df.iloc[0]['f1_score']:.4f}\")\n",
    "        \n",
    "        for _, row in ensemble_df.iterrows():\n",
    "            print(f\"   {row['name']}: F1={row['f1_score']:.4f}\")\n",
    "    \n",
    "    if comparison_results:\n",
    "        print(f\"\\n4. COMPARACION:\")\n",
    "        print(f\"   Individual: {comparison_results['best_individual']['name']} F1: {comparison_results['best_individual']['f1_score']:.4f}\")\n",
    "        print(f\"   Ensemble: {comparison_results['best_ensemble']['name']} F1: {comparison_results['best_ensemble']['f1_score']:.4f}\")\n",
    "        print(f\"   Mejora: {comparison_results['f1_improvement']:+.4f} ({comparison_results['f1_improvement_pct']:+.2f}%)\")\n",
    "        print(f\"   Resultado: {comparison_results['verdict']}\")\n",
    "    \n",
    "    print(f\"\\n5. RECOMENDACIONES:\")\n",
    "    if comparison_results and comparison_results['verdict'] == 'ENSEMBLE SUPERIOR':\n",
    "        print(f\"   Usar {comparison_results['best_ensemble']['name']} para implementacion\")\n",
    "    \n",
    "    print(\"Sistema de ensemble avanzado completado\")\n",
    "\n",
    "# Generar resumen\n",
    "generate_final_summary()\n",
    "\n",
    "# Guardar resultados\n",
    "try:\n",
    "    results_dir = '../models/ensemble_all_approaches' if not IN_COLAB else 'ensemble_results'\n",
    "    os.makedirs(results_dir, exist_ok=True)\n",
    "    \n",
    "    if results_df is not None:\n",
    "        results_df.to_csv(f'{results_dir}/individual_results.csv', index=False)\n",
    "        print(f\"Resultados guardados en: {results_dir}\")\n",
    "    \n",
    "    if ensemble_df is not None:\n",
    "        ensemble_df.to_csv(f'{results_dir}/ensemble_results.csv', index=False)\n",
    "    \n",
    "    if feature_extractor:\n",
    "        with open(f'{results_dir}/feature_extractor.pkl', 'wb') as f:\n",
    "            pickle.dump(feature_extractor, f)\n",
    "    \n",
    "except Exception as e:\n",
    "    print(f\"Error guardando: {e}\")\n",
    "\n",
    "print(\"Proceso finalizado\")"
   ]
  }
 ],
 "metadata": {
  "kernelspec": {
   "display_name": ".venv",
   "language": "python",
   "name": "python3"
  },
  "language_info": {
   "codemirror_mode": {
    "name": "ipython",
    "version": 3
   },
   "file_extension": ".py",
   "mimetype": "text/x-python",
   "name": "python",
   "nbconvert_exporter": "python",
   "pygments_lexer": "ipython3",
   "version": "3.13.3"
  }
 },
 "nbformat": 4,
 "nbformat_minor": 4
}
