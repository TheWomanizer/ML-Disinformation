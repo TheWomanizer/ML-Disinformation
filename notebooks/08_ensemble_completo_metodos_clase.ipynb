{
 "cells": [
  {
   "cell_type": "markdown",
   "metadata": {},
   "source": [
    "# Ensemble Tradicional - Metodos Clasicos de Ensemble\n",
    "\n",
    "Implementacion academica de metodos de ensemble tradicionales usando los mejores algoritmos identificados en notebooks anteriores (03-06). Este notebook se enfoca en demostrar la metodologia clasica de ensemble con evaluacion rigurosa.\n",
    "\n",
    "## Objetivos Academicos\n",
    "1. Implementar metodos de ensemble clasicos: Voting, Bagging, Stacking\n",
    "2. Usar los mejores algoritmos de cada categoria (notebooks 03-06) \n",
    "3. Evaluar sistematicamente cada tipo de ensemble\n",
    "4. Comparar rendimiento ensemble vs algoritmos individuales\n",
    "5. Proporcionar base teorica para ensembles avanzados\n",
    "\n",
    "## Enfoque Metodologico\n",
    "- **Voting Ensembles**: Hard/Soft voting con mejores algoritmos\n",
    "- **Bagging**: Bootstrap aggregating con diferentes estimadores base  \n",
    "- **Stacking**: Meta-learning con validacion cruzada\n",
    "- **Evaluacion rigurosa**: Cross-validation y metricas multiples\n",
    "\n",
    "Los resultados esperados son F1-scores entre 0.65-0.72 que demuestran la efectividad de combinar algoritmos complementarios para deteccion de fake news."
   ]
  },
  {
   "cell_type": "code",
   "execution_count": null,
   "metadata": {},
   "outputs": [],
   "source": [
    "# Configuracion de entorno y dependencias\n",
    "import sys\n",
    "import subprocess\n",
    "\n",
    "# Detectar si estamos en Colab\n",
    "IN_COLAB = 'google.colab' in sys.modules\n",
    "\n",
    "if IN_COLAB:\n",
    "    print(\"Ejecutando en Google Colab\")\n",
    "    # Instalar dependencias para Colab\n",
    "    !pip install plotly scikit-learn xgboost lightgbm\n",
    "    # Montar Google Drive si es necesario\n",
    "    from google.colab import drive\n",
    "    # drive.mount('/content/drive')\n",
    "else:\n",
    "    print(\"Ejecutando en entorno local\")\n",
    "    # Verificar dependencias locales\n",
    "    packages = ['plotly', 'scikit-learn', 'xgboost', 'lightgbm']\n",
    "    for package in packages:\n",
    "        try:\n",
    "            __import__(package.replace('-', '_'))\n",
    "        except ImportError:\n",
    "            subprocess.check_call([sys.executable, \"-m\", \"pip\", \"install\", package])\n",
    "\n",
    "print(f\"Entorno configurado: {'Google Colab' if IN_COLAB else 'Local'}\")\n",
    "\n"
   ]
  },
  {
   "cell_type": "code",
   "execution_count": null,
   "metadata": {},
   "outputs": [],
   "source": [
    "# Importar librerias necesarias para ensemble\n",
    "import pandas as pd\n",
    "import numpy as np\n",
    "import matplotlib.pyplot as plt\n",
    "import seaborn as sns\n",
    "import plotly.express as px\n",
    "import plotly.graph_objects as go\n",
    "from plotly.subplots import make_subplots\n",
    "import warnings\n",
    "warnings.filterwarnings('ignore')\n",
    "\n",
    "# Machine learning y ensemble\n",
    "from sklearn.model_selection import train_test_split, cross_val_score, StratifiedKFold, GridSearchCV\n",
    "from sklearn.metrics import classification_report, confusion_matrix, roc_auc_score, f1_score, accuracy_score\n",
    "from sklearn.preprocessing import StandardScaler, LabelEncoder\n",
    "from sklearn.feature_extraction.text import TfidfVectorizer\n",
    "\n",
    "# Algoritmos base\n",
    "from sklearn.linear_model import LogisticRegression, RidgeClassifier\n",
    "from sklearn.tree import DecisionTreeClassifier\n",
    "from sklearn.ensemble import RandomForestClassifier, ExtraTreesClassifier\n",
    "from sklearn.svm import SVC\n",
    "from sklearn.neighbors import KNeighborsClassifier\n",
    "from sklearn.naive_bayes import MultinomialNB, GaussianNB\n",
    "from sklearn.discriminant_analysis import LinearDiscriminantAnalysis, QuadraticDiscriminantAnalysis\n",
    "\n",
    "# Metodos de ensemble\n",
    "from sklearn.ensemble import BaggingClassifier, AdaBoostClassifier, GradientBoostingClassifier\n",
    "from sklearn.ensemble import VotingClassifier, StackingClassifier\n",
    "import xgboost as xgb\n",
    "import lightgbm as lgb\n",
    "import catboost as cb\n",
    "\n",
    "# Procesamiento de texto\n",
    "import re\n",
    "import nltk\n",
    "from nltk.corpus import stopwords\n",
    "from nltk.tokenize import word_tokenize\n",
    "\n",
    "# Configuracion\n",
    "np.random.seed(42)\n",
    "if IN_COLAB:\n",
    "    plt.style.use('default')\n",
    "else:\n",
    "    plt.rcParams['figure.figsize'] = (10, 6)\n",
    "\n",
    "nltk.download('punkt', quiet=True)\n",
    "nltk.download('stopwords', quiet=True)\n"
   ]
  },
  {
   "cell_type": "markdown",
   "metadata": {},
   "source": [
    "## Carga y Preparacion de Datos\n",
    "\n",
    "Cargo el dataset Truth Seeker y preparo los datos siguiendo las mejores practicas para evitar data leakage."
   ]
  },
  {
   "cell_type": "code",
   "execution_count": 3,
   "metadata": {},
   "outputs": [
    {
     "name": "stdout",
     "output_type": "stream",
     "text": [
      "Dataset de features cargado: 134198 filas y 58 columnas.\n",
      "Dataset de texto cargado: 134198 filas y 2 columnas.\n",
      "Dataset combinado: 134198 filas y 60 columnas.\n",
      "\n",
      "Informacion del dataset combinado:\n",
      "<class 'pandas.core.frame.DataFrame'>\n",
      "RangeIndex: 134198 entries, 0 to 134197\n",
      "Data columns (total 60 columns):\n",
      " #   Column                  Non-Null Count   Dtype  \n",
      "---  ------                  --------------   -----  \n",
      " 0   BinaryNumTarget         134198 non-null  float64\n",
      " 1   followers_count         134198 non-null  float64\n",
      " 2   friends_count           134198 non-null  float64\n",
      " 3   favourites_count        134198 non-null  float64\n",
      " 4   statuses_count          134198 non-null  float64\n",
      " 5   listed_count            134198 non-null  float64\n",
      " 6   BotScore                134198 non-null  float64\n",
      " 7   BotScoreBinary          134198 non-null  float64\n",
      " 8   cred                    134198 non-null  float64\n",
      " 9   normalize_influence     134198 non-null  float64\n",
      " 10  mentions                134198 non-null  float64\n",
      " 11  quotes                  134198 non-null  float64\n",
      " 12  replies                 134198 non-null  float64\n",
      " 13  retweets                134198 non-null  float64\n",
      " 14  favourites              134198 non-null  float64\n",
      " 15  hashtags                134198 non-null  float64\n",
      " 16  URLs                    134198 non-null  float64\n",
      " 17  unique_count            134198 non-null  float64\n",
      " 18  total_count             134198 non-null  float64\n",
      " 19  ORG_percentage          134198 non-null  float64\n",
      " 20  NORP_percentage         134198 non-null  float64\n",
      " 21  GPE_percentage          134198 non-null  float64\n",
      " 22  PERSON_percentage       134198 non-null  float64\n",
      " 23  MONEY_percentage        134198 non-null  float64\n",
      " 24  DATE_percentage         134198 non-null  float64\n",
      " 25  CARDINAL_percentage     134198 non-null  float64\n",
      " 26  PERCENT_percentage      134198 non-null  float64\n",
      " 27  ORDINAL_percentage      134198 non-null  float64\n",
      " 28  FAC_percentage          134198 non-null  float64\n",
      " 29  LAW_percentage          134198 non-null  float64\n",
      " 30  PRODUCT_percentage      134198 non-null  float64\n",
      " 31  EVENT_percentage        134198 non-null  float64\n",
      " 32  TIME_percentage         134198 non-null  float64\n",
      " 33  LOC_percentage          134198 non-null  float64\n",
      " 34  WORK_OF_ART_percentage  134198 non-null  float64\n",
      " 35  QUANTITY_percentage     134198 non-null  float64\n",
      " 36  LANGUAGE_percentage     134198 non-null  float64\n",
      " 37  Word count              134198 non-null  float64\n",
      " 38  Max word length         134198 non-null  float64\n",
      " 39  Min word length         134198 non-null  float64\n",
      " 40  Average word length     134198 non-null  float64\n",
      " 41  present_verbs           134198 non-null  float64\n",
      " 42  past_verbs              134198 non-null  float64\n",
      " 43  adjectives              134198 non-null  float64\n",
      " 44  adverbs                 134198 non-null  float64\n",
      " 45  adpositions             134198 non-null  float64\n",
      " 46  pronouns                134198 non-null  float64\n",
      " 47  TOs                     134198 non-null  float64\n",
      " 48  determiners             134198 non-null  float64\n",
      " 49  conjunctions            134198 non-null  float64\n",
      " 50  dots                    134198 non-null  float64\n",
      " 51  exclamation             134198 non-null  float64\n",
      " 52  questions               134198 non-null  float64\n",
      " 53  ampersand               134198 non-null  float64\n",
      " 54  capitals                134198 non-null  float64\n",
      " 55  digits                  134198 non-null  float64\n",
      " 56  long_word_freq          134198 non-null  float64\n",
      " 57  short_word_freq         134198 non-null  float64\n",
      " 58  statement               134198 non-null  object \n",
      " 59  tweet                   134198 non-null  object \n",
      "dtypes: float64(58), object(2)\n",
      "memory usage: 61.4+ MB\n",
      "None\n",
      "\n",
      "Columnas target disponibles: ['BinaryNumTarget']\n",
      "Columnas texto disponibles: ['statement']\n",
      "\n",
      "Usando columna target: BinaryNumTarget\n",
      "Usando columna texto: statement\n",
      "\n",
      "Distribucion de etiquetas:\n",
      "BinaryNumTarget\n",
      "1.0    68930\n",
      "0.0    65268\n",
      "Name: count, dtype: int64\n",
      "\n",
      "Porcentajes:\n",
      "BinaryNumTarget\n",
      "1.0    51.364402\n",
      "0.0    48.635598\n",
      "Name: proportion, dtype: float64\n"
     ]
    }
   ],
   "source": [
    "# Cargar los datos procesados del notebook 02_limpieza_datos\n",
    "if IN_COLAB:\n",
    "    # Para Colab - ajustar segun donde subas los datos\n",
    "    df_features = pd.read_csv('dataset_features_processed.csv')\n",
    "    df_text = pd.read_csv('text_data_for_nlp.csv')\n",
    "else:\n",
    "    # Para ejecucion local - usar datos procesados\n",
    "    df_features = pd.read_csv('../processed_data/dataset_features_processed.csv')\n",
    "    df_text = pd.read_csv('../processed_data/text_data_for_nlp.csv')\n",
    "\n",
    "print(f\"Dataset de features cargado: {df_features.shape[0]} filas y {df_features.shape[1]} columnas.\")\n",
    "print(f\"Dataset de texto cargado: {df_text.shape[0]} filas y {df_text.shape[1]} columnas.\")\n",
    "\n",
    "# Combinar datos de features y texto por indice\n",
    "df = pd.concat([df_features, df_text], axis=1)\n",
    "print(f\"Dataset combinado: {df.shape[0]} filas y {df.shape[1]} columnas.\")\n",
    "\n",
    "print(\"\\nInformacion del dataset combinado:\")\n",
    "print(df.info())\n",
    "\n",
    "# Verificar columnas disponibles\n",
    "target_columns = [col for col in df.columns if 'target' in col.lower()]\n",
    "text_columns = [col for col in df.columns if 'statement' in col.lower()]\n",
    "\n",
    "print(f\"\\nColumnas target disponibles: {target_columns}\")\n",
    "print(f\"Columnas texto disponibles: {text_columns}\")\n",
    "\n",
    "# Seleccionar columna target apropiada\n",
    "if 'BinaryNumTarget' in df.columns:\n",
    "    target_col = 'BinaryNumTarget'\n",
    "else:\n",
    "    target_col = target_columns[0] if target_columns else None\n",
    "\n",
    "# Seleccionar columna texto\n",
    "text_col = 'statement' if 'statement' in df.columns else (text_columns[0] if text_columns else None)\n",
    "\n",
    "print(f\"\\nUsando columna target: {target_col}\")\n",
    "print(f\"Usando columna texto: {text_col}\")\n",
    "\n",
    "if target_col:\n",
    "    print(f\"\\nDistribucion de etiquetas:\")\n",
    "    print(df[target_col].value_counts())\n",
    "    print(\"\\nPorcentajes:\")\n",
    "    print(df[target_col].value_counts(normalize=True) * 100)"
   ]
  },
  {
   "cell_type": "code",
   "execution_count": 4,
   "metadata": {},
   "outputs": [
    {
     "name": "stdout",
     "output_type": "stream",
     "text": [
      "Total de filas: 134198\n",
      "Data leakage corregido: eliminados 133,140 duplicados de statements\n",
      "Dataset reducido de 134,198 a 1,058 muestras unicas\n",
      "\n",
      "Distribucion de etiquetas en datos procesados:\n",
      "BinaryNumTarget\n",
      "1.0    579\n",
      "0.0    479\n",
      "Name: count, dtype: int64\n",
      "\n",
      "Porcentajes:\n",
      "BinaryNumTarget\n",
      "1.0    54.725898\n",
      "0.0    45.274102\n",
      "Name: proportion, dtype: float64\n",
      "\n",
      "Datos procesados listos para ensemble - data leakage corregido.\n"
     ]
    }
   ],
   "source": [
    "print(f\"Total de filas: {len(df)}\")\n",
    "\n",
    "# Correccion critica de data leakage: eliminar duplicados por statement\n",
    "# PROBLEMA: El dataset original contiene el mismo statement repetido multiples veces\n",
    "# con diferentes tweets, creando data leakage masivo cuando se usa texto en ensemble\n",
    "# SOLUCION: Eliminar duplicados basados en statement antes de train/test split\n",
    "# JUSTIFICACION: Cada statement unico debe aparecer solo una vez para evitar que\n",
    "# el mismo contenido aparezca en entrenamiento y prueba simultaneamente\n",
    "if text_col and text_col in df.columns:\n",
    "    initial_size = len(df)\n",
    "    df_clean = df.drop_duplicates(subset=[text_col], keep='first')\n",
    "    final_size = len(df_clean)\n",
    "    duplicates_removed = initial_size - final_size\n",
    "    print(f\"Data leakage corregido: eliminados {duplicates_removed:,} duplicados de statements\")\n",
    "    print(f\"Dataset reducido de {initial_size:,} a {final_size:,} muestras unicas\")\n",
    "else:\n",
    "    df_clean = df.copy()\n",
    "    print(\"No se encontro columna de texto para corregir duplicados\")\n",
    "\n",
    "# Verificar que no tengamos data leakage - el target debe ser BinaryNumTarget\n",
    "if target_col:\n",
    "    print(f\"\\nDistribucion de etiquetas en datos procesados:\")\n",
    "    print(df_clean[target_col].value_counts())\n",
    "    print(\"\\nPorcentajes:\")\n",
    "    print(df_clean[target_col].value_counts(normalize=True) * 100)\n",
    "\n",
    "print(\"\\nDatos procesados listos para ensemble - data leakage corregido.\")"
   ]
  },
  {
   "cell_type": "code",
   "execution_count": 5,
   "metadata": {},
   "outputs": [
    {
     "data": {
      "application/vnd.plotly.v1+json": {
       "config": {
        "plotlyServerURL": "https://plot.ly"
       },
       "data": [
        {
         "hole": 0.4,
         "hoverinfo": "label+percent+name",
         "labels": {
          "bdata": "AAAAAAAA8D8AAAAAAAAAAA==",
          "dtype": "f8"
         },
         "name": "Procesado",
         "type": "pie",
         "values": {
          "bdata": "QwLfAQ==",
          "dtype": "i2"
         }
        }
       ],
       "layout": {
        "annotations": [
         {
          "font": {
           "size": 16
          },
          "showarrow": false,
          "text": "Distribucion de Clases - Datos Procesados",
          "x": 0.5,
          "xanchor": "center",
          "xref": "paper",
          "y": 1,
          "yanchor": "bottom",
          "yref": "paper"
         }
        ],
        "template": {
         "data": {
          "bar": [
           {
            "error_x": {
             "color": "#2a3f5f"
            },
            "error_y": {
             "color": "#2a3f5f"
            },
            "marker": {
             "line": {
              "color": "#E5ECF6",
              "width": 0.5
             },
             "pattern": {
              "fillmode": "overlay",
              "size": 10,
              "solidity": 0.2
             }
            },
            "type": "bar"
           }
          ],
          "barpolar": [
           {
            "marker": {
             "line": {
              "color": "#E5ECF6",
              "width": 0.5
             },
             "pattern": {
              "fillmode": "overlay",
              "size": 10,
              "solidity": 0.2
             }
            },
            "type": "barpolar"
           }
          ],
          "carpet": [
           {
            "aaxis": {
             "endlinecolor": "#2a3f5f",
             "gridcolor": "white",
             "linecolor": "white",
             "minorgridcolor": "white",
             "startlinecolor": "#2a3f5f"
            },
            "baxis": {
             "endlinecolor": "#2a3f5f",
             "gridcolor": "white",
             "linecolor": "white",
             "minorgridcolor": "white",
             "startlinecolor": "#2a3f5f"
            },
            "type": "carpet"
           }
          ],
          "choropleth": [
           {
            "colorbar": {
             "outlinewidth": 0,
             "ticks": ""
            },
            "type": "choropleth"
           }
          ],
          "contour": [
           {
            "colorbar": {
             "outlinewidth": 0,
             "ticks": ""
            },
            "colorscale": [
             [
              0,
              "#0d0887"
             ],
             [
              0.1111111111111111,
              "#46039f"
             ],
             [
              0.2222222222222222,
              "#7201a8"
             ],
             [
              0.3333333333333333,
              "#9c179e"
             ],
             [
              0.4444444444444444,
              "#bd3786"
             ],
             [
              0.5555555555555556,
              "#d8576b"
             ],
             [
              0.6666666666666666,
              "#ed7953"
             ],
             [
              0.7777777777777778,
              "#fb9f3a"
             ],
             [
              0.8888888888888888,
              "#fdca26"
             ],
             [
              1,
              "#f0f921"
             ]
            ],
            "type": "contour"
           }
          ],
          "contourcarpet": [
           {
            "colorbar": {
             "outlinewidth": 0,
             "ticks": ""
            },
            "type": "contourcarpet"
           }
          ],
          "heatmap": [
           {
            "colorbar": {
             "outlinewidth": 0,
             "ticks": ""
            },
            "colorscale": [
             [
              0,
              "#0d0887"
             ],
             [
              0.1111111111111111,
              "#46039f"
             ],
             [
              0.2222222222222222,
              "#7201a8"
             ],
             [
              0.3333333333333333,
              "#9c179e"
             ],
             [
              0.4444444444444444,
              "#bd3786"
             ],
             [
              0.5555555555555556,
              "#d8576b"
             ],
             [
              0.6666666666666666,
              "#ed7953"
             ],
             [
              0.7777777777777778,
              "#fb9f3a"
             ],
             [
              0.8888888888888888,
              "#fdca26"
             ],
             [
              1,
              "#f0f921"
             ]
            ],
            "type": "heatmap"
           }
          ],
          "histogram": [
           {
            "marker": {
             "pattern": {
              "fillmode": "overlay",
              "size": 10,
              "solidity": 0.2
             }
            },
            "type": "histogram"
           }
          ],
          "histogram2d": [
           {
            "colorbar": {
             "outlinewidth": 0,
             "ticks": ""
            },
            "colorscale": [
             [
              0,
              "#0d0887"
             ],
             [
              0.1111111111111111,
              "#46039f"
             ],
             [
              0.2222222222222222,
              "#7201a8"
             ],
             [
              0.3333333333333333,
              "#9c179e"
             ],
             [
              0.4444444444444444,
              "#bd3786"
             ],
             [
              0.5555555555555556,
              "#d8576b"
             ],
             [
              0.6666666666666666,
              "#ed7953"
             ],
             [
              0.7777777777777778,
              "#fb9f3a"
             ],
             [
              0.8888888888888888,
              "#fdca26"
             ],
             [
              1,
              "#f0f921"
             ]
            ],
            "type": "histogram2d"
           }
          ],
          "histogram2dcontour": [
           {
            "colorbar": {
             "outlinewidth": 0,
             "ticks": ""
            },
            "colorscale": [
             [
              0,
              "#0d0887"
             ],
             [
              0.1111111111111111,
              "#46039f"
             ],
             [
              0.2222222222222222,
              "#7201a8"
             ],
             [
              0.3333333333333333,
              "#9c179e"
             ],
             [
              0.4444444444444444,
              "#bd3786"
             ],
             [
              0.5555555555555556,
              "#d8576b"
             ],
             [
              0.6666666666666666,
              "#ed7953"
             ],
             [
              0.7777777777777778,
              "#fb9f3a"
             ],
             [
              0.8888888888888888,
              "#fdca26"
             ],
             [
              1,
              "#f0f921"
             ]
            ],
            "type": "histogram2dcontour"
           }
          ],
          "mesh3d": [
           {
            "colorbar": {
             "outlinewidth": 0,
             "ticks": ""
            },
            "type": "mesh3d"
           }
          ],
          "parcoords": [
           {
            "line": {
             "colorbar": {
              "outlinewidth": 0,
              "ticks": ""
             }
            },
            "type": "parcoords"
           }
          ],
          "pie": [
           {
            "automargin": true,
            "type": "pie"
           }
          ],
          "scatter": [
           {
            "fillpattern": {
             "fillmode": "overlay",
             "size": 10,
             "solidity": 0.2
            },
            "type": "scatter"
           }
          ],
          "scatter3d": [
           {
            "line": {
             "colorbar": {
              "outlinewidth": 0,
              "ticks": ""
             }
            },
            "marker": {
             "colorbar": {
              "outlinewidth": 0,
              "ticks": ""
             }
            },
            "type": "scatter3d"
           }
          ],
          "scattercarpet": [
           {
            "marker": {
             "colorbar": {
              "outlinewidth": 0,
              "ticks": ""
             }
            },
            "type": "scattercarpet"
           }
          ],
          "scattergeo": [
           {
            "marker": {
             "colorbar": {
              "outlinewidth": 0,
              "ticks": ""
             }
            },
            "type": "scattergeo"
           }
          ],
          "scattergl": [
           {
            "marker": {
             "colorbar": {
              "outlinewidth": 0,
              "ticks": ""
             }
            },
            "type": "scattergl"
           }
          ],
          "scattermap": [
           {
            "marker": {
             "colorbar": {
              "outlinewidth": 0,
              "ticks": ""
             }
            },
            "type": "scattermap"
           }
          ],
          "scattermapbox": [
           {
            "marker": {
             "colorbar": {
              "outlinewidth": 0,
              "ticks": ""
             }
            },
            "type": "scattermapbox"
           }
          ],
          "scatterpolar": [
           {
            "marker": {
             "colorbar": {
              "outlinewidth": 0,
              "ticks": ""
             }
            },
            "type": "scatterpolar"
           }
          ],
          "scatterpolargl": [
           {
            "marker": {
             "colorbar": {
              "outlinewidth": 0,
              "ticks": ""
             }
            },
            "type": "scatterpolargl"
           }
          ],
          "scatterternary": [
           {
            "marker": {
             "colorbar": {
              "outlinewidth": 0,
              "ticks": ""
             }
            },
            "type": "scatterternary"
           }
          ],
          "surface": [
           {
            "colorbar": {
             "outlinewidth": 0,
             "ticks": ""
            },
            "colorscale": [
             [
              0,
              "#0d0887"
             ],
             [
              0.1111111111111111,
              "#46039f"
             ],
             [
              0.2222222222222222,
              "#7201a8"
             ],
             [
              0.3333333333333333,
              "#9c179e"
             ],
             [
              0.4444444444444444,
              "#bd3786"
             ],
             [
              0.5555555555555556,
              "#d8576b"
             ],
             [
              0.6666666666666666,
              "#ed7953"
             ],
             [
              0.7777777777777778,
              "#fb9f3a"
             ],
             [
              0.8888888888888888,
              "#fdca26"
             ],
             [
              1,
              "#f0f921"
             ]
            ],
            "type": "surface"
           }
          ],
          "table": [
           {
            "cells": {
             "fill": {
              "color": "#EBF0F8"
             },
             "line": {
              "color": "white"
             }
            },
            "header": {
             "fill": {
              "color": "#C8D4E3"
             },
             "line": {
              "color": "white"
             }
            },
            "type": "table"
           }
          ]
         },
         "layout": {
          "annotationdefaults": {
           "arrowcolor": "#2a3f5f",
           "arrowhead": 0,
           "arrowwidth": 1
          },
          "autotypenumbers": "strict",
          "coloraxis": {
           "colorbar": {
            "outlinewidth": 0,
            "ticks": ""
           }
          },
          "colorscale": {
           "diverging": [
            [
             0,
             "#8e0152"
            ],
            [
             0.1,
             "#c51b7d"
            ],
            [
             0.2,
             "#de77ae"
            ],
            [
             0.3,
             "#f1b6da"
            ],
            [
             0.4,
             "#fde0ef"
            ],
            [
             0.5,
             "#f7f7f7"
            ],
            [
             0.6,
             "#e6f5d0"
            ],
            [
             0.7,
             "#b8e186"
            ],
            [
             0.8,
             "#7fbc41"
            ],
            [
             0.9,
             "#4d9221"
            ],
            [
             1,
             "#276419"
            ]
           ],
           "sequential": [
            [
             0,
             "#0d0887"
            ],
            [
             0.1111111111111111,
             "#46039f"
            ],
            [
             0.2222222222222222,
             "#7201a8"
            ],
            [
             0.3333333333333333,
             "#9c179e"
            ],
            [
             0.4444444444444444,
             "#bd3786"
            ],
            [
             0.5555555555555556,
             "#d8576b"
            ],
            [
             0.6666666666666666,
             "#ed7953"
            ],
            [
             0.7777777777777778,
             "#fb9f3a"
            ],
            [
             0.8888888888888888,
             "#fdca26"
            ],
            [
             1,
             "#f0f921"
            ]
           ],
           "sequentialminus": [
            [
             0,
             "#0d0887"
            ],
            [
             0.1111111111111111,
             "#46039f"
            ],
            [
             0.2222222222222222,
             "#7201a8"
            ],
            [
             0.3333333333333333,
             "#9c179e"
            ],
            [
             0.4444444444444444,
             "#bd3786"
            ],
            [
             0.5555555555555556,
             "#d8576b"
            ],
            [
             0.6666666666666666,
             "#ed7953"
            ],
            [
             0.7777777777777778,
             "#fb9f3a"
            ],
            [
             0.8888888888888888,
             "#fdca26"
            ],
            [
             1,
             "#f0f921"
            ]
           ]
          },
          "colorway": [
           "#636efa",
           "#EF553B",
           "#00cc96",
           "#ab63fa",
           "#FFA15A",
           "#19d3f3",
           "#FF6692",
           "#B6E880",
           "#FF97FF",
           "#FECB52"
          ],
          "font": {
           "color": "#2a3f5f"
          },
          "geo": {
           "bgcolor": "white",
           "lakecolor": "white",
           "landcolor": "#E5ECF6",
           "showlakes": true,
           "showland": true,
           "subunitcolor": "white"
          },
          "hoverlabel": {
           "align": "left"
          },
          "hovermode": "closest",
          "mapbox": {
           "style": "light"
          },
          "paper_bgcolor": "white",
          "plot_bgcolor": "#E5ECF6",
          "polar": {
           "angularaxis": {
            "gridcolor": "white",
            "linecolor": "white",
            "ticks": ""
           },
           "bgcolor": "#E5ECF6",
           "radialaxis": {
            "gridcolor": "white",
            "linecolor": "white",
            "ticks": ""
           }
          },
          "scene": {
           "xaxis": {
            "backgroundcolor": "#E5ECF6",
            "gridcolor": "white",
            "gridwidth": 2,
            "linecolor": "white",
            "showbackground": true,
            "ticks": "",
            "zerolinecolor": "white"
           },
           "yaxis": {
            "backgroundcolor": "#E5ECF6",
            "gridcolor": "white",
            "gridwidth": 2,
            "linecolor": "white",
            "showbackground": true,
            "ticks": "",
            "zerolinecolor": "white"
           },
           "zaxis": {
            "backgroundcolor": "#E5ECF6",
            "gridcolor": "white",
            "gridwidth": 2,
            "linecolor": "white",
            "showbackground": true,
            "ticks": "",
            "zerolinecolor": "white"
           }
          },
          "shapedefaults": {
           "line": {
            "color": "#2a3f5f"
           }
          },
          "ternary": {
           "aaxis": {
            "gridcolor": "white",
            "linecolor": "white",
            "ticks": ""
           },
           "baxis": {
            "gridcolor": "white",
            "linecolor": "white",
            "ticks": ""
           },
           "bgcolor": "#E5ECF6",
           "caxis": {
            "gridcolor": "white",
            "linecolor": "white",
            "ticks": ""
           }
          },
          "title": {
           "x": 0.05
          },
          "xaxis": {
           "automargin": true,
           "gridcolor": "white",
           "linecolor": "white",
           "ticks": "",
           "title": {
            "standoff": 15
           },
           "zerolinecolor": "white",
           "zerolinewidth": 2
          },
          "yaxis": {
           "automargin": true,
           "gridcolor": "white",
           "linecolor": "white",
           "ticks": "",
           "title": {
            "standoff": 15
           },
           "zerolinecolor": "white",
           "zerolinewidth": 2
          }
         }
        },
        "title": {
         "text": "Distribucion de Clases en Datos Procesados"
        }
       }
      }
     },
     "metadata": {},
     "output_type": "display_data"
    },
    {
     "name": "stdout",
     "output_type": "stream",
     "text": [
      "Los datos procesados mantienen una distribucion balanceada para el ensemble.\n"
     ]
    }
   ],
   "source": [
    "# Visualizar la distribucion de los datos procesados\n",
    "if target_col:\n",
    "    fig = make_subplots(rows=1, cols=1, specs=[[{'type':'domain'}]],\n",
    "                        subplot_titles=['Distribucion de Clases - Datos Procesados'])\n",
    "\n",
    "    # Dataset procesado\n",
    "    fig.add_trace(go.Pie(labels=df_clean[target_col].value_counts().index,\n",
    "                         values=df_clean[target_col].value_counts().values,\n",
    "                         name=\"Procesado\"))\n",
    "\n",
    "    fig.update_traces(hole=.4, hoverinfo=\"label+percent+name\")\n",
    "    fig.update_layout(title=\"Distribucion de Clases en Datos Procesados\")\n",
    "    fig.show()\n",
    "\n",
    "    print(\"Los datos procesados mantienen una distribucion balanceada para el ensemble.\")"
   ]
  },
  {
   "cell_type": "markdown",
   "metadata": {},
   "source": [
    "## Preparacion de Features para Ensemble\n",
    "\n",
    "En lugar de usar solo texto, ahora tenemos tanto features numericas procesadas como texto. Combino ambos enfoques para un ensemble mas robusto."
   ]
  },
  {
   "cell_type": "code",
   "execution_count": 6,
   "metadata": {},
   "outputs": [
    {
     "name": "stdout",
     "output_type": "stream",
     "text": [
      "Preparando features para ensemble robusto...\n",
      "Features numericas: 57 columnas\n",
      "Forma de features numericas: (1058, 57)\n",
      "\n",
      "Preprocesando texto de la columna: statement\n",
      "No se encontraron textos vacios.\n",
      "Features de texto preparadas: 1058 muestras\n",
      "\n",
      "Estadisticas de texto:\n",
      "       text_length   word_count\n",
      "count  1058.000000  1058.000000\n",
      "mean     92.419660    15.645558\n",
      "std      39.313211     6.749756\n",
      "min      21.000000     3.000000\n",
      "25%      65.000000    11.000000\n",
      "50%      85.000000    14.000000\n",
      "75%     114.000000    19.000000\n",
      "max     292.000000    48.000000\n",
      "\n",
      "Target preparado: 1058 muestras\n",
      "Distribucion: [479 579]\n",
      "\n",
      "Datos finales para ensemble:\n",
      "- Features numericas: (1058, 57)\n",
      "- Features texto: Disponible\n",
      "- Target: 1058 muestras\n"
     ]
    }
   ],
   "source": [
    "# Preparar diferentes tipos de features para ensemble\n",
    "print(\"Preparando features para ensemble robusto...\")\n",
    "\n",
    "# 1. Features numericas ya procesadas (escaladas) del notebook 02\n",
    "numeric_features = [col for col in df_clean.columns \n",
    "                   if col != target_col and col not in ['statement', 'tweet']]\n",
    "X_numeric = df_clean[numeric_features].values\n",
    "print(f\"Features numericas: {len(numeric_features)} columnas\")\n",
    "print(f\"Forma de features numericas: {X_numeric.shape}\")\n",
    "\n",
    "# 2. Preprocesamiento de texto si esta disponible\n",
    "if text_col and text_col in df_clean.columns:\n",
    "    print(f\"\\nPreprocesando texto de la columna: {text_col}\")\n",
    "    \n",
    "    def preprocess_text(text):\n",
    "        \"\"\"Preprocesa texto para algoritmos de ensemble\"\"\"\n",
    "        if pd.isna(text):\n",
    "            return \"\"\n",
    "        \n",
    "        # Convertir a string y minusculas\n",
    "        text = str(text).lower()\n",
    "        \n",
    "        # Eliminar caracteres especiales manteniendo espacios y puntuacion basica\n",
    "        text = re.sub(r'[^a-zA-Z0-9\\s\\.,;:!?]', '', text)\n",
    "        \n",
    "        # Eliminar espacios multiples\n",
    "        text = re.sub(r'\\s+', ' ', text)\n",
    "        \n",
    "        # Eliminar espacios al inicio y final\n",
    "        text = text.strip()\n",
    "        \n",
    "        return text\n",
    "    \n",
    "    df_clean['statement_processed'] = df_clean[text_col].apply(preprocess_text)\n",
    "    \n",
    "    # Eliminar textos vacios si existen\n",
    "    initial_rows = len(df_clean)\n",
    "    df_clean = df_clean[df_clean['statement_processed'].str.len() > 0].copy()\n",
    "    final_rows = len(df_clean)\n",
    "    \n",
    "    if initial_rows != final_rows:\n",
    "        print(f\"Eliminadas {initial_rows - final_rows} filas con texto vacio.\")\n",
    "        # Actualizar X_numeric para mantener consistencia\n",
    "        X_numeric = df_clean[numeric_features].values\n",
    "    else:\n",
    "        print(\"No se encontraron textos vacios.\")\n",
    "    \n",
    "    X_text = df_clean['statement_processed'].values\n",
    "    print(f\"Features de texto preparadas: {len(X_text)} muestras\")\n",
    "    \n",
    "    # Estadisticas de texto\n",
    "    df_clean['text_length'] = df_clean['statement_processed'].str.len()\n",
    "    df_clean['word_count'] = df_clean['statement_processed'].str.split().str.len()\n",
    "    \n",
    "    print(\"\\nEstadisticas de texto:\")\n",
    "    print(df_clean[['text_length', 'word_count']].describe())\n",
    "    \n",
    "else:\n",
    "    print(\"No hay columna de texto disponible\")\n",
    "    X_text = None\n",
    "\n",
    "# Target\n",
    "y = df_clean[target_col].values\n",
    "print(f\"\\nTarget preparado: {len(y)} muestras\")\n",
    "print(f\"Distribucion: {np.bincount(y.astype(int))}\")\n",
    "\n",
    "print(f\"\\nDatos finales para ensemble:\")\n",
    "print(f\"- Features numericas: {X_numeric.shape}\")\n",
    "print(f\"- Features texto: {'Disponible' if X_text is not None else 'No disponible'}\")\n",
    "print(f\"- Target: {len(y)} muestras\")"
   ]
  },
  {
   "cell_type": "code",
   "execution_count": 7,
   "metadata": {},
   "outputs": [
    {
     "name": "stdout",
     "output_type": "stream",
     "text": [
      "Algoritmos base definidos: 9\n",
      "Mejores algoritmos por notebook:\n",
      "  - random_forest\n",
      "  - extra_trees\n",
      "  - logistic_regression\n",
      "  - ridge_classifier\n",
      "  - logistic_elastic\n",
      "  - gaussian_nb\n",
      "  - knn_best\n",
      "  - lda\n",
      "  - svm_linear\n",
      "\n",
      "Algoritmos de boosting definidos: 4\n",
      "Mejores boosting del notebook 05:\n",
      "  - xgboost_aggressive\n",
      "  - lightgbm_balanced\n",
      "  - hist_gradient_boost\n",
      "  - catboost_optimized\n",
      "\n",
      "Total algoritmos: 13\n"
     ]
    }
   ],
   "source": [
    "# Definir algoritmos base optimizados para ensemble\n",
    "def get_base_classifiers():\n",
    "    \"\"\"Retorna mejores algoritmos de cada notebook (03-06)\"\"\"\n",
    "    \n",
    "    # Mejores tradicionales del notebook 03\n",
    "    # Random Forest: 0.6749, Extra Trees: 0.6428, Logistic: 0.6411\n",
    "    traditional_best = {\n",
    "        'random_forest': RandomForestClassifier(n_estimators=100, random_state=42, max_depth=15),\n",
    "        'extra_trees': ExtraTreesClassifier(n_estimators=100, random_state=42, max_depth=15),\n",
    "        'logistic_regression': LogisticRegression(random_state=42, max_iter=1000, C=1.0)\n",
    "    }\n",
    "    \n",
    "    # Mejores lineales del notebook 04  \n",
    "    # Ridge CV: 0.6554, LogReg Elastic: 0.6552, Ridge Basic: 0.6547\n",
    "    linear_best = {\n",
    "        'ridge_classifier': RidgeClassifier(random_state=42, alpha=1.0),\n",
    "        'logistic_elastic': LogisticRegression(random_state=42, penalty='elasticnet', \n",
    "                                              C=1.0, l1_ratio=0.5, solver='saga', max_iter=1000)\n",
    "    }\n",
    "    \n",
    "    # Mejores otros algoritmos del notebook 06\n",
    "    # Gaussian NB: 0.6822, KNN_15: 0.6665, LDA: 0.6547, SVM Linear: 0.6552\n",
    "    other_best = {\n",
    "        'gaussian_nb': GaussianNB(var_smoothing=1e-08),\n",
    "        'knn_best': KNeighborsClassifier(n_neighbors=15, weights='distance'),\n",
    "        'lda': LinearDiscriminantAnalysis(),\n",
    "        'svm_linear': SVC(kernel='linear', probability=True, random_state=42, C=1.0)\n",
    "    }\n",
    "    \n",
    "    # Combinar todos los mejores algoritmos\n",
    "    base_classifiers = {}\n",
    "    base_classifiers.update(traditional_best)\n",
    "    base_classifiers.update(linear_best)\n",
    "    base_classifiers.update(other_best)\n",
    "    \n",
    "    return base_classifiers\n",
    "\n",
    "# Definir algoritmos de boosting del notebook 05\n",
    "def get_boosting_classifiers():\n",
    "    \"\"\"Retorna mejores algoritmos de boosting del notebook 05\"\"\"\n",
    "    \n",
    "    # Mejores boosting del notebook 05\n",
    "    # XGBoost Aggressive: 0.7150, LightGBM Balanced: 0.6991, HistGradient: 0.6959, CatBoost: 0.6856\n",
    "    boosting_classifiers = {\n",
    "        'xgboost_aggressive': xgb.XGBClassifier(\n",
    "            n_estimators=200, learning_rate=0.15, max_depth=6, \n",
    "            subsample=0.9, colsample_bytree=0.9, gamma=0.1,\n",
    "            random_state=42, eval_metric='logloss'\n",
    "        ),\n",
    "        'lightgbm_balanced': lgb.LGBMClassifier(\n",
    "            n_estimators=150, learning_rate=0.08, max_depth=6,\n",
    "            colsample_bytree=0.9, subsample=0.9, reg_alpha=0.1, reg_lambda=0.1,\n",
    "            random_state=42, verbose=-1\n",
    "        ),\n",
    "        'hist_gradient_boost': GradientBoostingClassifier(\n",
    "            n_estimators=100, learning_rate=0.1, max_depth=6,\n",
    "            random_state=42, subsample=0.8\n",
    "        )\n",
    "    }\n",
    "    \n",
    "    # Agregar CatBoost si esta disponible\n",
    "    try:\n",
    "        boosting_classifiers['catboost_optimized'] = cb.CatBoostClassifier(\n",
    "            iterations=150, learning_rate=0.08, depth=6, l2_leaf_reg=1,\n",
    "            random_seed=42, verbose=False, bootstrap_type='Bayesian'\n",
    "        )\n",
    "    except:\n",
    "        print(\"CatBoost no disponible\")\n",
    "\n",
    "    return boosting_classifiers\n",
    "\n",
    "# Obtener los clasificadores\n",
    "base_classifiers = get_base_classifiers()\n",
    "boosting_classifiers = get_boosting_classifiers()\n",
    "\n",
    "print(f\"Algoritmos base definidos: {len(base_classifiers)}\")\n",
    "print(\"Mejores algoritmos por notebook:\")\n",
    "for name in base_classifiers.keys():\n",
    "    print(f\"  - {name}\")\n",
    "\n",
    "print(f\"\\nAlgoritmos de boosting definidos: {len(boosting_classifiers)}\")\n",
    "print(\"Mejores boosting del notebook 05:\")\n",
    "for name in boosting_classifiers.keys():\n",
    "    print(f\"  - {name}\")\n",
    "\n",
    "print(f\"\\nTotal algoritmos: {len(base_classifiers) + len(boosting_classifiers)}\")"
   ]
  },
  {
   "cell_type": "code",
   "execution_count": 8,
   "metadata": {},
   "outputs": [
    {
     "name": "stdout",
     "output_type": "stream",
     "text": [
      "Etiquetas codificadas: [0. 1.] -> [0 1]\n",
      "\n",
      "Division de datos:\n",
      "Entrenamiento: 846 muestras\n",
      "Prueba: 212 muestras\n",
      "Distribucion entrenamiento: [383 463]\n",
      "Distribucion prueba: [ 96 116]\n",
      "\n",
      "Aplicando vectorizacion TF-IDF al texto...\n",
      "Features TF-IDF: 1450\n",
      "Features combinadas: 1507 (57 num + 1450 texto)\n",
      "\n",
      "Datos preparados para ensemble:\n",
      "Shape entrenamiento: (846, 1507)\n",
      "Shape prueba: (212, 1507)\n",
      "Listo para evaluar algoritmos de ensemble.\n"
     ]
    }
   ],
   "source": [
    "# Codificar las etiquetas si es necesario\n",
    "label_encoder = LabelEncoder()\n",
    "y_encoded = label_encoder.fit_transform(y)\n",
    "print(f\"Etiquetas codificadas: {label_encoder.classes_} -> {np.unique(y_encoded)}\")\n",
    "\n",
    "# Division en train/test estratificada\n",
    "X_num_train, X_num_test, y_train, y_test = train_test_split(\n",
    "    X_numeric, y_encoded, test_size=0.2, random_state=42, stratify=y_encoded\n",
    ")\n",
    "\n",
    "print(f\"\\nDivision de datos:\")\n",
    "print(f\"Entrenamiento: {len(X_num_train)} muestras\")\n",
    "print(f\"Prueba: {len(X_num_test)} muestras\")\n",
    "print(f\"Distribucion entrenamiento: {np.bincount(y_train)}\")\n",
    "print(f\"Distribucion prueba: {np.bincount(y_test)}\")\n",
    "\n",
    "# Dividir texto si esta disponible\n",
    "if X_text is not None:\n",
    "    X_text_train, X_text_test = train_test_split(\n",
    "        X_text, test_size=0.2, random_state=42, stratify=y_encoded\n",
    "    )\n",
    "    \n",
    "    # Vectorizacion TF-IDF del texto\n",
    "    print(\"\\nAplicando vectorizacion TF-IDF al texto...\")\n",
    "    tfidf_vectorizer = TfidfVectorizer(\n",
    "        max_features=5000,  # Limitar features para evitar overfitting\n",
    "        stop_words='english',\n",
    "        ngram_range=(1, 2),  # Unigrams y bigrams\n",
    "        min_df=2,\n",
    "        max_df=0.95\n",
    "    )\n",
    "    \n",
    "    X_text_tfidf_train = tfidf_vectorizer.fit_transform(X_text_train)\n",
    "    X_text_tfidf_test = tfidf_vectorizer.transform(X_text_test)\n",
    "    \n",
    "    print(f\"Features TF-IDF: {X_text_tfidf_train.shape[1]}\")\n",
    "    \n",
    "    # Combinar features numericas y TF-IDF\n",
    "    from scipy.sparse import hstack\n",
    "    X_combined_train = hstack([X_num_train, X_text_tfidf_train])\n",
    "    X_combined_test = hstack([X_num_test, X_text_tfidf_test])\n",
    "    \n",
    "    print(f\"Features combinadas: {X_combined_train.shape[1]} ({X_num_train.shape[1]} num + {X_text_tfidf_train.shape[1]} texto)\")\n",
    "    \n",
    "    # Para algoritmos que requieren arrays densos\n",
    "    X_combined_dense_train = X_combined_train.toarray()\n",
    "    X_combined_dense_test = X_combined_test.toarray()\n",
    "    \n",
    "    # Usar solo features numericas para algunos algoritmos\n",
    "    X_train_tfidf = X_combined_train  # Para compatibilidad con el codigo original\n",
    "    X_test_tfidf = X_combined_test\n",
    "    X_train_dense = X_combined_dense_train\n",
    "    X_test_dense = X_combined_dense_test\n",
    "    \n",
    "else:\n",
    "    # Solo features numericas\n",
    "    X_train_tfidf = X_num_train\n",
    "    X_test_tfidf = X_num_test\n",
    "    X_train_dense = X_num_train\n",
    "    X_test_dense = X_num_test\n",
    "    print(\"Usando solo features numericas procesadas\")\n",
    "\n",
    "print(f\"\\nDatos preparados para ensemble:\")\n",
    "print(f\"Shape entrenamiento: {X_train_tfidf.shape}\")\n",
    "print(f\"Shape prueba: {X_test_tfidf.shape}\")\n",
    "print(\"Listo para evaluar algoritmos de ensemble.\")"
   ]
  },
  {
   "cell_type": "markdown",
   "metadata": {},
   "source": [
    "## Algoritmos Base para Ensemble\n",
    "\n",
    "Defino y configuro todos los algoritmos base que usare en los diferentes metodos de ensemble."
   ]
  },
  {
   "cell_type": "code",
   "execution_count": 9,
   "metadata": {},
   "outputs": [
    {
     "name": "stdout",
     "output_type": "stream",
     "text": [
      "Algoritmos base definidos: 12\n",
      "Lista de algoritmos base:\n",
      "   1. logistic_regression\n",
      "   2. ridge_classifier\n",
      "   3. decision_tree\n",
      "   4. random_forest\n",
      "   5. extra_trees\n",
      "   6. svm_linear\n",
      "   7. svm_rbf\n",
      "   8. knn\n",
      "   9. multinomial_nb\n",
      "  10. gaussian_nb\n",
      "  11. lda\n",
      "  12. qda\n",
      "\n",
      "Algoritmos de boosting definidos: 5\n",
      "Lista de algoritmos de boosting:\n",
      "   1. ada_boost\n",
      "   2. gradient_boost\n",
      "   3. xgboost\n",
      "   4. lightgbm\n",
      "   5. catboost\n"
     ]
    }
   ],
   "source": [
    "# Definir algoritmos base optimizados para ensemble\n",
    "def get_base_classifiers():\n",
    "    \"\"\"Retorna diccionario con algoritmos base configurados\"\"\"\n",
    "    \n",
    "    base_classifiers = {\n",
    "        # Modelos lineales\n",
    "        'logistic_regression': LogisticRegression(random_state=42, max_iter=1000, C=1.0),\n",
    "        'ridge_classifier': RidgeClassifier(random_state=42, alpha=1.0),\n",
    "        \n",
    "        # Modelos basados en arboles\n",
    "        'decision_tree': DecisionTreeClassifier(random_state=42, max_depth=10, min_samples_split=10),\n",
    "        'random_forest': RandomForestClassifier(n_estimators=100, random_state=42, max_depth=15),\n",
    "        'extra_trees': ExtraTreesClassifier(n_estimators=100, random_state=42, max_depth=15),\n",
    "        \n",
    "        # SVM\n",
    "        'svm_linear': SVC(kernel='linear', probability=True, random_state=42, C=1.0),\n",
    "        'svm_rbf': SVC(kernel='rbf', probability=True, random_state=42, C=1.0),\n",
    "        \n",
    "        # Neighbors\n",
    "        'knn': KNeighborsClassifier(n_neighbors=5),\n",
    "        \n",
    "        # Naive Bayes\n",
    "        'multinomial_nb': MultinomialNB(alpha=1.0),\n",
    "        'gaussian_nb': GaussianNB(),\n",
    "        \n",
    "        # Analisis discriminante\n",
    "        'lda': LinearDiscriminantAnalysis(),\n",
    "        'qda': QuadraticDiscriminantAnalysis()\n",
    "    }\n",
    "    \n",
    "    return base_classifiers\n",
    "\n",
    "# Definir algoritmos de boosting\n",
    "def get_boosting_classifiers():\n",
    "    \"\"\"Retorna algoritmos de boosting optimizados\"\"\"\n",
    "    \n",
    "    boosting_classifiers = {\n",
    "        'ada_boost': AdaBoostClassifier(n_estimators=100, random_state=42, learning_rate=1.0),\n",
    "        'gradient_boost': GradientBoostingClassifier(n_estimators=100, random_state=42, learning_rate=0.1),\n",
    "        'xgboost': xgb.XGBClassifier(n_estimators=100, random_state=42, learning_rate=0.1, eval_metric='logloss'),\n",
    "        'lightgbm': lgb.LGBMClassifier(n_estimators=100, random_state=42, learning_rate=0.1, verbose=-1),\n",
    "        'catboost': cb.CatBoostClassifier(iterations=100, random_state=42, learning_rate=0.1, verbose=False)\n",
    "    }\n",
    "\n",
    "    return boosting_classifiers\n",
    "\n",
    "# Obtener los clasificadores\n",
    "base_classifiers = get_base_classifiers()\n",
    "boosting_classifiers = get_boosting_classifiers()\n",
    "\n",
    "print(f\"Algoritmos base definidos: {len(base_classifiers)}\")\n",
    "print(\"Lista de algoritmos base:\")\n",
    "for i, name in enumerate(base_classifiers.keys(), 1):\n",
    "    print(f\"  {i:2d}. {name}\")\n",
    "\n",
    "print(f\"\\nAlgoritmos de boosting definidos: {len(boosting_classifiers)}\")\n",
    "print(\"Lista de algoritmos de boosting:\")\n",
    "for i, name in enumerate(boosting_classifiers.keys(), 1):\n",
    "    print(f\"  {i:2d}. {name}\")"
   ]
  },
  {
   "cell_type": "markdown",
   "metadata": {},
   "source": [
    "## Evaluacion Individual de Algoritmos Base\n",
    "\n",
    "Evaluo cada algoritmo base individualmente para entender su rendimiento antes de combinarlos en ensembles."
   ]
  },
  {
   "cell_type": "code",
   "execution_count": 10,
   "metadata": {},
   "outputs": [
    {
     "name": "stdout",
     "output_type": "stream",
     "text": [
      "Evaluando algoritmos base individualmente...\n",
      "Evaluando logistic_regression... F1: 0.8155, AUC: 0.8636\n",
      "Evaluando ridge_classifier... F1: 0.8261, AUC: 0.8869\n",
      "Evaluando decision_tree... F1: 0.7737, AUC: 0.7393\n",
      "Evaluando random_forest... F1: 0.8080, AUC: 0.8484\n",
      "Evaluando extra_trees... F1: 0.8367, AUC: 0.8909\n",
      "Evaluando svm_linear... F1: 0.8018, AUC: 0.8791\n",
      "Evaluando svm_rbf... F1: 0.7073, AUC: 0.6658\n",
      "Evaluando knn... F1: 0.6805, AUC: 0.6675\n",
      "Saltando multinomial_nb (no compatible con features numericas negativas)\n",
      "Evaluando gaussian_nb... F1: 0.8000, AUC: 0.8228\n",
      "Evaluando lda... F1: 0.6379, AUC: 0.6541\n",
      "Evaluando qda... F1: 0.5191, AUC: 0.4608\n",
      "\n",
      "============================================================\n",
      "Evaluacion de algoritmos base completada.\n"
     ]
    }
   ],
   "source": [
    "# Funcion para evaluar un clasificador\n",
    "def evaluate_classifier(classifier, X_train, X_test, y_train, y_test, name, use_dense=False):\n",
    "    \"\"\"Evalua un clasificador y retorna metricas\"\"\"\n",
    "    \n",
    "    # Seleccionar el tipo de datos segun el algoritmo\n",
    "    if use_dense:\n",
    "        X_tr = X_train_dense if hasattr(X_train, 'toarray') else X_train\n",
    "        X_te = X_test_dense if hasattr(X_test, 'toarray') else X_test\n",
    "    else:\n",
    "        X_tr = X_train\n",
    "        X_te = X_test\n",
    "    \n",
    "    try:\n",
    "        # Entrenar el modelo\n",
    "        classifier.fit(X_tr, y_train)\n",
    "        \n",
    "        # Generar predicciones\n",
    "        y_pred = classifier.predict(X_te)\n",
    "        \n",
    "        # Predicciones probabilisticas si estan disponibles\n",
    "        if hasattr(classifier, 'predict_proba'):\n",
    "            y_pred_proba = classifier.predict_proba(X_te)[:, 1]\n",
    "        elif hasattr(classifier, 'decision_function'):\n",
    "            y_pred_proba = classifier.decision_function(X_te)\n",
    "        else:\n",
    "            y_pred_proba = None\n",
    "        \n",
    "        # Calcular metricas\n",
    "        accuracy = accuracy_score(y_test, y_pred)\n",
    "        f1 = f1_score(y_test, y_pred)\n",
    "        \n",
    "        if y_pred_proba is not None:\n",
    "            try:\n",
    "                roc_auc = roc_auc_score(y_test, y_pred_proba)\n",
    "            except:\n",
    "                roc_auc = 0.0\n",
    "        else:\n",
    "            roc_auc = 0.0\n",
    "        \n",
    "        return {\n",
    "            'name': name,\n",
    "            'accuracy': accuracy,\n",
    "            'f1_score': f1,  # Correccion: usar f1_score consistente\n",
    "            'roc_auc': roc_auc,\n",
    "            'success': True,\n",
    "            'error': None\n",
    "        }\n",
    "        \n",
    "    except Exception as e:\n",
    "        return {\n",
    "            'name': name,\n",
    "            'accuracy': 0.0,\n",
    "            'f1_score': 0.0,\n",
    "            'roc_auc': 0.0,\n",
    "            'success': False,\n",
    "            'error': str(e)\n",
    "        }\n",
    "\n",
    "# Evaluar todos los algoritmos base\n",
    "print(\"Evaluando algoritmos base individualmente...\")\n",
    "\n",
    "base_results = []\n",
    "# Excluir MultinomialNB porque no maneja valores negativos en features numericas escaladas\n",
    "algorithms_need_dense = ['gaussian_nb', 'lda', 'qda']\n",
    "algorithms_to_skip = ['multinomial_nb']  # Saltar MultinomialNB\n",
    "\n",
    "for name, classifier in base_classifiers.items():\n",
    "    if name in algorithms_to_skip:\n",
    "        print(f\"Saltando {name} (no compatible con features numericas negativas)\")\n",
    "        continue\n",
    "        \n",
    "    print(f\"Evaluando {name}...\", end=\" \")\n",
    "    \n",
    "    # Determinar si necesita arrays densos\n",
    "    use_dense = name in algorithms_need_dense\n",
    "    \n",
    "    result = evaluate_classifier(classifier, X_train_tfidf, X_test_tfidf, \n",
    "                               y_train, y_test, name, use_dense)\n",
    "    base_results.append(result)\n",
    "    \n",
    "    if result['success']:\n",
    "        print(f\"F1: {result['f1_score']:.4f}, AUC: {result['roc_auc']:.4f}\")\n",
    "    else:\n",
    "        print(f\"ERROR: {result['error'][:50]}...\")\n",
    "\n",
    "print(\"\\n\" + \"=\" * 60)\n",
    "print(\"Evaluacion de algoritmos base completada.\")"
   ]
  },
  {
   "cell_type": "code",
   "execution_count": 11,
   "metadata": {},
   "outputs": [
    {
     "name": "stdout",
     "output_type": "stream",
     "text": [
      "Evaluando algoritmos de boosting...\n",
      "Evaluando ada_boost... F1: 0.7801, AUC: 0.8216\n",
      "Evaluando gradient_boost... F1: 0.8133, AUC: 0.8690\n",
      "Evaluando xgboost... F1: 0.8051, AUC: 0.8570\n",
      "Evaluando lightgbm... F1: 0.8117, AUC: 0.8491\n",
      "Evaluando catboost... F1: 0.8500, AUC: 0.8744\n",
      "\n",
      "============================================================\n",
      "Evaluacion de algoritmos de boosting completada.\n"
     ]
    }
   ],
   "source": [
    "# Evaluar algoritmos de boosting\n",
    "print(\"Evaluando algoritmos de boosting...\")\n",
    "\n",
    "boosting_results = []\n",
    "\n",
    "for name, classifier in boosting_classifiers.items():\n",
    "    print(f\"Evaluando {name}...\", end=\" \")\n",
    "    \n",
    "    # Los algoritmos de boosting generalmente manejan matrices sparse\n",
    "    result = evaluate_classifier(classifier, X_train_tfidf, X_test_tfidf, \n",
    "                               y_train, y_test, name, use_dense=False)\n",
    "    boosting_results.append(result)\n",
    "    \n",
    "    if result['success']:\n",
    "        print(f\"F1: {result['f1_score']:.4f}, AUC: {result['roc_auc']:.4f}\")\n",
    "    else:\n",
    "        print(f\"ERROR: {result['error'][:50]}...\")\n",
    "\n",
    "print(\"\\n\" + \"=\" * 60)\n",
    "print(\"Evaluacion de algoritmos de boosting completada.\")"
   ]
  },
  {
   "cell_type": "code",
   "execution_count": 12,
   "metadata": {},
   "outputs": [
    {
     "name": "stdout",
     "output_type": "stream",
     "text": [
      "Resultados de algoritmos individuales (ordenados por F1-Score):\n",
      "                   name  accuracy  f1_score  roc_auc\n",
      "15             catboost    0.8302    0.8500   0.8744\n",
      "4           extra_trees    0.8066    0.8367   0.8909\n",
      "1      ridge_classifier    0.8113    0.8261   0.8869\n",
      "0   logistic_regression    0.7972    0.8155   0.8636\n",
      "12       gradient_boost    0.7877    0.8133   0.8690\n",
      "14             lightgbm    0.7877    0.8117   0.8491\n",
      "3         random_forest    0.7736    0.8080   0.8484\n",
      "13              xgboost    0.7830    0.8051   0.8570\n",
      "5            svm_linear    0.7877    0.8018   0.8791\n",
      "8           gaussian_nb    0.7877    0.8000   0.8228\n",
      "11            ada_boost    0.7500    0.7801   0.8216\n",
      "2         decision_tree    0.7406    0.7737   0.7393\n",
      "6               svm_rbf    0.5472    0.7073   0.6658\n",
      "7                   knn    0.6368    0.6805   0.6675\n",
      "9                   lda    0.6038    0.6379   0.6541\n",
      "10                  qda    0.4670    0.5191   0.4608\n",
      "\n",
      "Top 5 algoritmos para usar en ensemble:\n",
      "  1. catboost (F1: 0.8500)\n",
      "  2. extra_trees (F1: 0.8367)\n",
      "  3. ridge_classifier (F1: 0.8261)\n",
      "  4. logistic_regression (F1: 0.8155)\n",
      "  5. gradient_boost (F1: 0.8133)\n"
     ]
    }
   ],
   "source": [
    "# Crear DataFrame con todos los resultados individuales\n",
    "all_individual_results = base_results + boosting_results\n",
    "successful_results = [r for r in all_individual_results if r['success']]\n",
    "\n",
    "individual_df = pd.DataFrame(successful_results)\n",
    "individual_df = individual_df.sort_values('f1_score', ascending=False)\n",
    "\n",
    "print(\"Resultados de algoritmos individuales (ordenados por F1-Score):\")\n",
    "print(individual_df[['name', 'accuracy', 'f1_score', 'roc_auc']].round(4))\n",
    "\n",
    "# Identificar los mejores algoritmos para ensemble\n",
    "top_5_algorithms = individual_df.head(5)['name'].tolist()\n",
    "print(f\"\\nTop 5 algoritmos para usar en ensemble:\")\n",
    "for i, alg in enumerate(top_5_algorithms, 1):\n",
    "    f1_score = individual_df[individual_df['name'] == alg]['f1_score'].iloc[0]\n",
    "    print(f\"  {i}. {alg} (F1: {f1_score:.4f})\")"
   ]
  },
  {
   "cell_type": "code",
   "execution_count": 13,
   "metadata": {},
   "outputs": [
    {
     "data": {
      "application/vnd.plotly.v1+json": {
       "config": {
        "plotlyServerURL": "https://plot.ly"
       },
       "data": [
        {
         "marker": {
          "color": "lightblue"
         },
         "name": "F1-Score",
         "type": "bar",
         "x": [
          "catboost",
          "extra_trees",
          "ridge_classifier",
          "logistic_regression",
          "gradient_boost",
          "lightgbm",
          "random_forest",
          "xgboost",
          "svm_linear",
          "gaussian_nb",
          "ada_boost",
          "decision_tree",
          "svm_rbf",
          "knn",
          "lda",
          "qda"
         ],
         "xaxis": "x",
         "y": {
          "bdata": "MzMzMzMz6z9XEZ1S3cXqP6c3velNb+o/YMHQ8isY6j+aXwaaXwbqPw49qb6S+ek/QmDl0CLb6T/35bEVQcPpPzSGowUJqOk/mpmZmZmZ6T+ZcPaYcPboP6xvkvfXweg/onYlalei5j+Wo8aVo8blP+aeRljuaeQ/D1bTOt6c4D8=",
          "dtype": "f8"
         },
         "yaxis": "y"
        },
        {
         "marker": {
          "color": "lightcoral"
         },
         "name": "ROC-AUC",
         "type": "bar",
         "x": [
          "catboost",
          "extra_trees",
          "ridge_classifier",
          "logistic_regression",
          "gradient_boost",
          "lightgbm",
          "random_forest",
          "xgboost",
          "svm_linear",
          "gaussian_nb",
          "ada_boost",
          "decision_tree",
          "svm_rbf",
          "knn",
          "lda",
          "qda"
         ],
         "xaxis": "x2",
         "y": {
          "bdata": "nK1Dv9n66z9QIyz3NILsP6gRlnsaYew/MileIJOi6z9n69Bvts7rPzXCck8jLOs/C2RSvEAm6z81wnJPI2zrP2wd+s3WIew/kEnxAplU6j+qqqqqqkrqP1yHfrN1qOc/ot9sHfpN5T9Dv9k69FvlP4XlnkZY7uQ/dug3W4d+3T8=",
          "dtype": "f8"
         },
         "yaxis": "y2"
        }
       ],
       "layout": {
        "annotations": [
         {
          "font": {
           "size": 16
          },
          "showarrow": false,
          "text": "F1-Score por Algoritmo",
          "x": 0.225,
          "xanchor": "center",
          "xref": "paper",
          "y": 1,
          "yanchor": "bottom",
          "yref": "paper"
         },
         {
          "font": {
           "size": 16
          },
          "showarrow": false,
          "text": "ROC-AUC por Algoritmo",
          "x": 0.775,
          "xanchor": "center",
          "xref": "paper",
          "y": 1,
          "yanchor": "bottom",
          "yref": "paper"
         }
        ],
        "height": 500,
        "showlegend": false,
        "template": {
         "data": {
          "bar": [
           {
            "error_x": {
             "color": "#2a3f5f"
            },
            "error_y": {
             "color": "#2a3f5f"
            },
            "marker": {
             "line": {
              "color": "#E5ECF6",
              "width": 0.5
             },
             "pattern": {
              "fillmode": "overlay",
              "size": 10,
              "solidity": 0.2
             }
            },
            "type": "bar"
           }
          ],
          "barpolar": [
           {
            "marker": {
             "line": {
              "color": "#E5ECF6",
              "width": 0.5
             },
             "pattern": {
              "fillmode": "overlay",
              "size": 10,
              "solidity": 0.2
             }
            },
            "type": "barpolar"
           }
          ],
          "carpet": [
           {
            "aaxis": {
             "endlinecolor": "#2a3f5f",
             "gridcolor": "white",
             "linecolor": "white",
             "minorgridcolor": "white",
             "startlinecolor": "#2a3f5f"
            },
            "baxis": {
             "endlinecolor": "#2a3f5f",
             "gridcolor": "white",
             "linecolor": "white",
             "minorgridcolor": "white",
             "startlinecolor": "#2a3f5f"
            },
            "type": "carpet"
           }
          ],
          "choropleth": [
           {
            "colorbar": {
             "outlinewidth": 0,
             "ticks": ""
            },
            "type": "choropleth"
           }
          ],
          "contour": [
           {
            "colorbar": {
             "outlinewidth": 0,
             "ticks": ""
            },
            "colorscale": [
             [
              0,
              "#0d0887"
             ],
             [
              0.1111111111111111,
              "#46039f"
             ],
             [
              0.2222222222222222,
              "#7201a8"
             ],
             [
              0.3333333333333333,
              "#9c179e"
             ],
             [
              0.4444444444444444,
              "#bd3786"
             ],
             [
              0.5555555555555556,
              "#d8576b"
             ],
             [
              0.6666666666666666,
              "#ed7953"
             ],
             [
              0.7777777777777778,
              "#fb9f3a"
             ],
             [
              0.8888888888888888,
              "#fdca26"
             ],
             [
              1,
              "#f0f921"
             ]
            ],
            "type": "contour"
           }
          ],
          "contourcarpet": [
           {
            "colorbar": {
             "outlinewidth": 0,
             "ticks": ""
            },
            "type": "contourcarpet"
           }
          ],
          "heatmap": [
           {
            "colorbar": {
             "outlinewidth": 0,
             "ticks": ""
            },
            "colorscale": [
             [
              0,
              "#0d0887"
             ],
             [
              0.1111111111111111,
              "#46039f"
             ],
             [
              0.2222222222222222,
              "#7201a8"
             ],
             [
              0.3333333333333333,
              "#9c179e"
             ],
             [
              0.4444444444444444,
              "#bd3786"
             ],
             [
              0.5555555555555556,
              "#d8576b"
             ],
             [
              0.6666666666666666,
              "#ed7953"
             ],
             [
              0.7777777777777778,
              "#fb9f3a"
             ],
             [
              0.8888888888888888,
              "#fdca26"
             ],
             [
              1,
              "#f0f921"
             ]
            ],
            "type": "heatmap"
           }
          ],
          "histogram": [
           {
            "marker": {
             "pattern": {
              "fillmode": "overlay",
              "size": 10,
              "solidity": 0.2
             }
            },
            "type": "histogram"
           }
          ],
          "histogram2d": [
           {
            "colorbar": {
             "outlinewidth": 0,
             "ticks": ""
            },
            "colorscale": [
             [
              0,
              "#0d0887"
             ],
             [
              0.1111111111111111,
              "#46039f"
             ],
             [
              0.2222222222222222,
              "#7201a8"
             ],
             [
              0.3333333333333333,
              "#9c179e"
             ],
             [
              0.4444444444444444,
              "#bd3786"
             ],
             [
              0.5555555555555556,
              "#d8576b"
             ],
             [
              0.6666666666666666,
              "#ed7953"
             ],
             [
              0.7777777777777778,
              "#fb9f3a"
             ],
             [
              0.8888888888888888,
              "#fdca26"
             ],
             [
              1,
              "#f0f921"
             ]
            ],
            "type": "histogram2d"
           }
          ],
          "histogram2dcontour": [
           {
            "colorbar": {
             "outlinewidth": 0,
             "ticks": ""
            },
            "colorscale": [
             [
              0,
              "#0d0887"
             ],
             [
              0.1111111111111111,
              "#46039f"
             ],
             [
              0.2222222222222222,
              "#7201a8"
             ],
             [
              0.3333333333333333,
              "#9c179e"
             ],
             [
              0.4444444444444444,
              "#bd3786"
             ],
             [
              0.5555555555555556,
              "#d8576b"
             ],
             [
              0.6666666666666666,
              "#ed7953"
             ],
             [
              0.7777777777777778,
              "#fb9f3a"
             ],
             [
              0.8888888888888888,
              "#fdca26"
             ],
             [
              1,
              "#f0f921"
             ]
            ],
            "type": "histogram2dcontour"
           }
          ],
          "mesh3d": [
           {
            "colorbar": {
             "outlinewidth": 0,
             "ticks": ""
            },
            "type": "mesh3d"
           }
          ],
          "parcoords": [
           {
            "line": {
             "colorbar": {
              "outlinewidth": 0,
              "ticks": ""
             }
            },
            "type": "parcoords"
           }
          ],
          "pie": [
           {
            "automargin": true,
            "type": "pie"
           }
          ],
          "scatter": [
           {
            "fillpattern": {
             "fillmode": "overlay",
             "size": 10,
             "solidity": 0.2
            },
            "type": "scatter"
           }
          ],
          "scatter3d": [
           {
            "line": {
             "colorbar": {
              "outlinewidth": 0,
              "ticks": ""
             }
            },
            "marker": {
             "colorbar": {
              "outlinewidth": 0,
              "ticks": ""
             }
            },
            "type": "scatter3d"
           }
          ],
          "scattercarpet": [
           {
            "marker": {
             "colorbar": {
              "outlinewidth": 0,
              "ticks": ""
             }
            },
            "type": "scattercarpet"
           }
          ],
          "scattergeo": [
           {
            "marker": {
             "colorbar": {
              "outlinewidth": 0,
              "ticks": ""
             }
            },
            "type": "scattergeo"
           }
          ],
          "scattergl": [
           {
            "marker": {
             "colorbar": {
              "outlinewidth": 0,
              "ticks": ""
             }
            },
            "type": "scattergl"
           }
          ],
          "scattermap": [
           {
            "marker": {
             "colorbar": {
              "outlinewidth": 0,
              "ticks": ""
             }
            },
            "type": "scattermap"
           }
          ],
          "scattermapbox": [
           {
            "marker": {
             "colorbar": {
              "outlinewidth": 0,
              "ticks": ""
             }
            },
            "type": "scattermapbox"
           }
          ],
          "scatterpolar": [
           {
            "marker": {
             "colorbar": {
              "outlinewidth": 0,
              "ticks": ""
             }
            },
            "type": "scatterpolar"
           }
          ],
          "scatterpolargl": [
           {
            "marker": {
             "colorbar": {
              "outlinewidth": 0,
              "ticks": ""
             }
            },
            "type": "scatterpolargl"
           }
          ],
          "scatterternary": [
           {
            "marker": {
             "colorbar": {
              "outlinewidth": 0,
              "ticks": ""
             }
            },
            "type": "scatterternary"
           }
          ],
          "surface": [
           {
            "colorbar": {
             "outlinewidth": 0,
             "ticks": ""
            },
            "colorscale": [
             [
              0,
              "#0d0887"
             ],
             [
              0.1111111111111111,
              "#46039f"
             ],
             [
              0.2222222222222222,
              "#7201a8"
             ],
             [
              0.3333333333333333,
              "#9c179e"
             ],
             [
              0.4444444444444444,
              "#bd3786"
             ],
             [
              0.5555555555555556,
              "#d8576b"
             ],
             [
              0.6666666666666666,
              "#ed7953"
             ],
             [
              0.7777777777777778,
              "#fb9f3a"
             ],
             [
              0.8888888888888888,
              "#fdca26"
             ],
             [
              1,
              "#f0f921"
             ]
            ],
            "type": "surface"
           }
          ],
          "table": [
           {
            "cells": {
             "fill": {
              "color": "#EBF0F8"
             },
             "line": {
              "color": "white"
             }
            },
            "header": {
             "fill": {
              "color": "#C8D4E3"
             },
             "line": {
              "color": "white"
             }
            },
            "type": "table"
           }
          ]
         },
         "layout": {
          "annotationdefaults": {
           "arrowcolor": "#2a3f5f",
           "arrowhead": 0,
           "arrowwidth": 1
          },
          "autotypenumbers": "strict",
          "coloraxis": {
           "colorbar": {
            "outlinewidth": 0,
            "ticks": ""
           }
          },
          "colorscale": {
           "diverging": [
            [
             0,
             "#8e0152"
            ],
            [
             0.1,
             "#c51b7d"
            ],
            [
             0.2,
             "#de77ae"
            ],
            [
             0.3,
             "#f1b6da"
            ],
            [
             0.4,
             "#fde0ef"
            ],
            [
             0.5,
             "#f7f7f7"
            ],
            [
             0.6,
             "#e6f5d0"
            ],
            [
             0.7,
             "#b8e186"
            ],
            [
             0.8,
             "#7fbc41"
            ],
            [
             0.9,
             "#4d9221"
            ],
            [
             1,
             "#276419"
            ]
           ],
           "sequential": [
            [
             0,
             "#0d0887"
            ],
            [
             0.1111111111111111,
             "#46039f"
            ],
            [
             0.2222222222222222,
             "#7201a8"
            ],
            [
             0.3333333333333333,
             "#9c179e"
            ],
            [
             0.4444444444444444,
             "#bd3786"
            ],
            [
             0.5555555555555556,
             "#d8576b"
            ],
            [
             0.6666666666666666,
             "#ed7953"
            ],
            [
             0.7777777777777778,
             "#fb9f3a"
            ],
            [
             0.8888888888888888,
             "#fdca26"
            ],
            [
             1,
             "#f0f921"
            ]
           ],
           "sequentialminus": [
            [
             0,
             "#0d0887"
            ],
            [
             0.1111111111111111,
             "#46039f"
            ],
            [
             0.2222222222222222,
             "#7201a8"
            ],
            [
             0.3333333333333333,
             "#9c179e"
            ],
            [
             0.4444444444444444,
             "#bd3786"
            ],
            [
             0.5555555555555556,
             "#d8576b"
            ],
            [
             0.6666666666666666,
             "#ed7953"
            ],
            [
             0.7777777777777778,
             "#fb9f3a"
            ],
            [
             0.8888888888888888,
             "#fdca26"
            ],
            [
             1,
             "#f0f921"
            ]
           ]
          },
          "colorway": [
           "#636efa",
           "#EF553B",
           "#00cc96",
           "#ab63fa",
           "#FFA15A",
           "#19d3f3",
           "#FF6692",
           "#B6E880",
           "#FF97FF",
           "#FECB52"
          ],
          "font": {
           "color": "#2a3f5f"
          },
          "geo": {
           "bgcolor": "white",
           "lakecolor": "white",
           "landcolor": "#E5ECF6",
           "showlakes": true,
           "showland": true,
           "subunitcolor": "white"
          },
          "hoverlabel": {
           "align": "left"
          },
          "hovermode": "closest",
          "mapbox": {
           "style": "light"
          },
          "paper_bgcolor": "white",
          "plot_bgcolor": "#E5ECF6",
          "polar": {
           "angularaxis": {
            "gridcolor": "white",
            "linecolor": "white",
            "ticks": ""
           },
           "bgcolor": "#E5ECF6",
           "radialaxis": {
            "gridcolor": "white",
            "linecolor": "white",
            "ticks": ""
           }
          },
          "scene": {
           "xaxis": {
            "backgroundcolor": "#E5ECF6",
            "gridcolor": "white",
            "gridwidth": 2,
            "linecolor": "white",
            "showbackground": true,
            "ticks": "",
            "zerolinecolor": "white"
           },
           "yaxis": {
            "backgroundcolor": "#E5ECF6",
            "gridcolor": "white",
            "gridwidth": 2,
            "linecolor": "white",
            "showbackground": true,
            "ticks": "",
            "zerolinecolor": "white"
           },
           "zaxis": {
            "backgroundcolor": "#E5ECF6",
            "gridcolor": "white",
            "gridwidth": 2,
            "linecolor": "white",
            "showbackground": true,
            "ticks": "",
            "zerolinecolor": "white"
           }
          },
          "shapedefaults": {
           "line": {
            "color": "#2a3f5f"
           }
          },
          "ternary": {
           "aaxis": {
            "gridcolor": "white",
            "linecolor": "white",
            "ticks": ""
           },
           "baxis": {
            "gridcolor": "white",
            "linecolor": "white",
            "ticks": ""
           },
           "bgcolor": "#E5ECF6",
           "caxis": {
            "gridcolor": "white",
            "linecolor": "white",
            "ticks": ""
           }
          },
          "title": {
           "x": 0.05
          },
          "xaxis": {
           "automargin": true,
           "gridcolor": "white",
           "linecolor": "white",
           "ticks": "",
           "title": {
            "standoff": 15
           },
           "zerolinecolor": "white",
           "zerolinewidth": 2
          },
          "yaxis": {
           "automargin": true,
           "gridcolor": "white",
           "linecolor": "white",
           "ticks": "",
           "title": {
            "standoff": 15
           },
           "zerolinecolor": "white",
           "zerolinewidth": 2
          }
         }
        },
        "title": {
         "text": "Rendimiento Individual de Algoritmos Base"
        },
        "xaxis": {
         "anchor": "y",
         "domain": [
          0,
          0.45
         ],
         "tickangle": 45
        },
        "xaxis2": {
         "anchor": "y2",
         "domain": [
          0.55,
          1
         ],
         "tickangle": 45
        },
        "yaxis": {
         "anchor": "x",
         "domain": [
          0,
          1
         ]
        },
        "yaxis2": {
         "anchor": "x2",
         "domain": [
          0,
          1
         ]
        }
       }
      }
     },
     "metadata": {},
     "output_type": "display_data"
    },
    {
     "name": "stdout",
     "output_type": "stream",
     "text": [
      "La visualizacion muestra el rendimiento individual de cada algoritmo antes del ensemble.\n"
     ]
    }
   ],
   "source": [
    "# Visualizar el rendimiento de los algoritmos individuales\n",
    "fig = make_subplots(rows=1, cols=2, \n",
    "                    subplot_titles=['F1-Score por Algoritmo', 'ROC-AUC por Algoritmo'])\n",
    "\n",
    "# F1-Score\n",
    "fig.add_trace(go.Bar(\n",
    "    x=individual_df['name'],\n",
    "    y=individual_df['f1_score'],\n",
    "    name='F1-Score',\n",
    "    marker_color='lightblue'\n",
    "), row=1, col=1)\n",
    "\n",
    "# ROC-AUC\n",
    "fig.add_trace(go.Bar(\n",
    "    x=individual_df['name'],\n",
    "    y=individual_df['roc_auc'],\n",
    "    name='ROC-AUC',\n",
    "    marker_color='lightcoral'\n",
    "), row=1, col=2)\n",
    "\n",
    "fig.update_layout(\n",
    "    title=\"Rendimiento Individual de Algoritmos Base\",\n",
    "    height=500,\n",
    "    showlegend=False\n",
    ")\n",
    "\n",
    "fig.update_xaxes(tickangle=45)\n",
    "fig.show()\n",
    "\n",
    "print(\"La visualizacion muestra el rendimiento individual de cada algoritmo antes del ensemble.\")"
   ]
  },
  {
   "cell_type": "markdown",
   "metadata": {},
   "source": [
    "## Implementacion de Metodos de Ensemble\n",
    "\n",
    "Implemento todos los metodos de ensemble vistos en clase: Bagging, Boosting, Voting y Stacking."
   ]
  },
  {
   "cell_type": "code",
   "execution_count": 14,
   "metadata": {},
   "outputs": [
    {
     "name": "stdout",
     "output_type": "stream",
     "text": [
      "Creando ensembles de bagging...\n",
      "Creando ensembles de voting...\n",
      "\n",
      "Bagging ensembles creados: 3\n",
      "  - bagging_dt\n",
      "  - bagging_lr\n",
      "  - bagging_svm\n",
      "\n",
      "Voting ensembles creados: 2\n",
      "  - voting_hard\n",
      "  - voting_soft\n",
      "\n",
      "Estimadores usados en voting: 5\n",
      "  - catboost\n",
      "  - extra_trees\n",
      "  - logistic_regression\n",
      "  - gradient_boost\n",
      "  - lightgbm\n",
      "NOTA: RidgeClassifier excluido de voting por falta de predict_proba\n"
     ]
    }
   ],
   "source": [
    "# Funcion para implementar ensemble con bagging\n",
    "def create_bagging_ensembles():\n",
    "    \"\"\"Crea diferentes variaciones de bagging ensemble\"\"\"\n",
    "    \n",
    "    bagging_ensembles = {\n",
    "        'bagging_dt': BaggingClassifier(\n",
    "            estimator=DecisionTreeClassifier(random_state=42),\n",
    "            n_estimators=50,\n",
    "            random_state=42\n",
    "        ),\n",
    "        'bagging_lr': BaggingClassifier(\n",
    "            estimator=LogisticRegression(random_state=42, max_iter=1000),\n",
    "            n_estimators=50,\n",
    "            random_state=42\n",
    "        ),\n",
    "        'bagging_svm': BaggingClassifier(\n",
    "            estimator=SVC(probability=True, random_state=42),\n",
    "            n_estimators=30,  # Reducir por costo computacional\n",
    "            random_state=42\n",
    "        )\n",
    "    }\n",
    "    \n",
    "    return bagging_ensembles\n",
    "\n",
    "# Funcion para crear voting ensembles\n",
    "def create_voting_ensembles():\n",
    "    \"\"\"Crea diferentes variaciones de voting ensemble\"\"\"\n",
    "    \n",
    "    # Seleccionar los mejores algoritmos base excluyendo RidgeClassifier\n",
    "    best_algorithms = individual_df.head(8)['name'].tolist()\n",
    "    \n",
    "    # Crear estimadores para voting - excluir RidgeClassifier que no tiene predict_proba\n",
    "    estimators_for_voting = []\n",
    "    algorithms_need_dense = ['gaussian_nb', 'lda', 'qda']\n",
    "    algorithms_no_proba = ['ridge_classifier']  # Excluir para voting soft\n",
    "    \n",
    "    for alg_name in best_algorithms:\n",
    "        # Saltar algoritmos sin predict_proba para voting\n",
    "        if alg_name in algorithms_no_proba:\n",
    "            continue\n",
    "            \n",
    "        if alg_name in base_classifiers:\n",
    "            # Solo incluir si no necesita arrays densos\n",
    "            if alg_name not in algorithms_need_dense:\n",
    "                estimators_for_voting.append((alg_name, base_classifiers[alg_name]))\n",
    "        elif alg_name in boosting_classifiers:\n",
    "            estimators_for_voting.append((alg_name, boosting_classifiers[alg_name]))\n",
    "    \n",
    "    # Asegurar que tengo al menos 3 estimadores\n",
    "    if len(estimators_for_voting) < 3:\n",
    "        # Añadir algoritmos adicionales compatibles\n",
    "        backup_algorithms = ['logistic_regression', 'random_forest', 'xgboost', 'svm_linear']\n",
    "        for alg_name in backup_algorithms:\n",
    "            if alg_name not in [e[0] for e in estimators_for_voting]:\n",
    "                if alg_name in base_classifiers and alg_name not in algorithms_no_proba:\n",
    "                    estimators_for_voting.append((alg_name, base_classifiers[alg_name]))\n",
    "                elif alg_name in boosting_classifiers:\n",
    "                    estimators_for_voting.append((alg_name, boosting_classifiers[alg_name]))\n",
    "            if len(estimators_for_voting) >= 5:\n",
    "                break\n",
    "    \n",
    "    # Limitar a los primeros 5\n",
    "    estimators_for_voting = estimators_for_voting[:5]\n",
    "    \n",
    "    voting_ensembles = {\n",
    "        'voting_hard': VotingClassifier(\n",
    "            estimators=estimators_for_voting,\n",
    "            voting='hard'\n",
    "        ),\n",
    "        'voting_soft': VotingClassifier(\n",
    "            estimators=estimators_for_voting,\n",
    "            voting='soft'\n",
    "        )\n",
    "    }\n",
    "    \n",
    "    return voting_ensembles, estimators_for_voting\n",
    "\n",
    "# Crear los ensembles\n",
    "print(\"Creando ensembles de bagging...\")\n",
    "bagging_ensembles = create_bagging_ensembles()\n",
    "\n",
    "print(\"Creando ensembles de voting...\")\n",
    "voting_ensembles, voting_estimators = create_voting_ensembles()\n",
    "\n",
    "print(f\"\\nBagging ensembles creados: {len(bagging_ensembles)}\")\n",
    "for name in bagging_ensembles.keys():\n",
    "    print(f\"  - {name}\")\n",
    "\n",
    "print(f\"\\nVoting ensembles creados: {len(voting_ensembles)}\")\n",
    "for name in voting_ensembles.keys():\n",
    "    print(f\"  - {name}\")\n",
    "\n",
    "print(f\"\\nEstimadores usados en voting: {len(voting_estimators)}\")\n",
    "for name, _ in voting_estimators:\n",
    "    print(f\"  - {name}\")\n",
    "print(\"NOTA: RidgeClassifier excluido de voting por falta de predict_proba\")"
   ]
  },
  {
   "cell_type": "code",
   "execution_count": 15,
   "metadata": {},
   "outputs": [
    {
     "name": "stdout",
     "output_type": "stream",
     "text": [
      "Creando ensembles de stacking...\n",
      "Stacking ensembles creados: 3\n",
      "  - stacking_lr\n",
      "  - stacking_rf\n",
      "  - stacking_xgb\n",
      "\n",
      "Total de ensembles a evaluar: 13\n",
      "\n",
      "Lista completa de ensembles:\n",
      "   1. bagging_dt\n",
      "   2. bagging_lr\n",
      "   3. bagging_svm\n",
      "   4. voting_hard\n",
      "   5. voting_soft\n",
      "   6. stacking_lr\n",
      "   7. stacking_rf\n",
      "   8. stacking_xgb\n",
      "   9. ada_boost\n",
      "  10. gradient_boost\n",
      "  11. xgboost\n",
      "  12. lightgbm\n",
      "  13. catboost\n"
     ]
    }
   ],
   "source": [
    "# Funcion para crear stacking ensembles\n",
    "def create_stacking_ensembles():\n",
    "    \"\"\"Crea diferentes variaciones de stacking ensemble\"\"\"\n",
    "    \n",
    "    # Usar los mismos estimadores que en voting pero para stacking\n",
    "    base_estimators = voting_estimators\n",
    "    \n",
    "    # Diferentes meta-learners\n",
    "    stacking_ensembles = {\n",
    "        'stacking_lr': StackingClassifier(\n",
    "            estimators=base_estimators,\n",
    "            final_estimator=LogisticRegression(random_state=42),\n",
    "            cv=5,\n",
    "            passthrough=False\n",
    "        ),\n",
    "        'stacking_rf': StackingClassifier(\n",
    "            estimators=base_estimators,\n",
    "            final_estimator=RandomForestClassifier(n_estimators=50, random_state=42),\n",
    "            cv=5,\n",
    "            passthrough=False\n",
    "        ),\n",
    "        'stacking_xgb': StackingClassifier(\n",
    "            estimators=base_estimators,\n",
    "            final_estimator=xgb.XGBClassifier(n_estimators=50, random_state=42, eval_metric='logloss'),\n",
    "            cv=5,\n",
    "            passthrough=False\n",
    "        )\n",
    "    }\n",
    "    \n",
    "    return stacking_ensembles\n",
    "\n",
    "print(\"Creando ensembles de stacking...\")\n",
    "stacking_ensembles = create_stacking_ensembles()\n",
    "\n",
    "print(f\"Stacking ensembles creados: {len(stacking_ensembles)}\")\n",
    "for name in stacking_ensembles.keys():\n",
    "    print(f\"  - {name}\")\n",
    "\n",
    "# Combinar todos los ensembles\n",
    "all_ensembles = {}\n",
    "all_ensembles.update(bagging_ensembles)\n",
    "all_ensembles.update(voting_ensembles)\n",
    "all_ensembles.update(stacking_ensembles)\n",
    "all_ensembles.update(boosting_classifiers)\n",
    "\n",
    "print(f\"\\nTotal de ensembles a evaluar: {len(all_ensembles)}\")\n",
    "print(\"\\nLista completa de ensembles:\")\n",
    "for i, name in enumerate(all_ensembles.keys(), 1):\n",
    "    print(f\"  {i:2d}. {name}\")"
   ]
  },
  {
   "cell_type": "markdown",
   "metadata": {},
   "source": [
    "## Evaluacion de Todos los Ensembles\n",
    "\n",
    "\n",
    "\n",
    "\n",
    "Evaluo el rendimiento de todos los metodos de ensemble implementados."
   ]
  },
  {
   "cell_type": "code",
   "execution_count": 16,
   "metadata": {},
   "outputs": [
    {
     "name": "stdout",
     "output_type": "stream",
     "text": [
      "ENSEMBLES CON FUNCIONES AISLADAS\n",
      "Evaluando 8 ensembles reales...\n",
      "Evaluando bagging_dt... F1: 0.7851\n",
      "Evaluando bagging_lr... F1: 0.8069\n",
      "Evaluando bagging_svm... F1: 0.6994\n",
      "Evaluando voting_hard... F1: 0.8417\n",
      "Evaluando voting_soft... F1: 0.8465\n",
      "Evaluando stacking_lr... F1: 0.8498\n",
      "Evaluando stacking_rf... F1: 0.8142\n",
      "Evaluando stacking_xgb... F1: 0.8161\n",
      "\n",
      "============================================================\n",
      "Ensembles exitosos: 8/8\n",
      "Resultados exitosos:\n",
      "  bagging_dt (Bagging): F1: 0.7851\n",
      "  bagging_lr (Bagging): F1: 0.8069\n",
      "  bagging_svm (Bagging): F1: 0.6994\n",
      "  voting_hard (Voting): F1: 0.8417\n",
      "  voting_soft (Voting): F1: 0.8465\n",
      "  stacking_lr (Stacking): F1: 0.8498\n",
      "  stacking_rf (Stacking): F1: 0.8142\n",
      "  stacking_xgb (Stacking): F1: 0.8161\n",
      "Evaluacion completada.\n"
     ]
    }
   ],
   "source": [
    "# SOLUCION FINAL: Evaluar ensembles usando funciones completamente aisladas\n",
    "print(\"ENSEMBLES CON FUNCIONES AISLADAS\")\n",
    "\n",
    "def evaluar_ensemble_aislado(modelo, X_train, X_test, y_train, y_test, nombre):\n",
    "    \"\"\"Funcion completamente aislada para evaluar ensembles\"\"\"\n",
    "    try:\n",
    "        # Import local para evitar conflictos\n",
    "        import sklearn.metrics\n",
    "        \n",
    "        # Entrenar\n",
    "        modelo.fit(X_train, y_train)\n",
    "        pred = modelo.predict(X_test)\n",
    "        \n",
    "        # Calcular metricas directamente con sklearn.metrics\n",
    "        acc = sklearn.metrics.accuracy_score(y_test, pred)\n",
    "        f1 = sklearn.metrics.f1_score(y_test, pred)\n",
    "        \n",
    "        # Probabilidades\n",
    "        try:\n",
    "            if hasattr(modelo, 'predict_proba'):\n",
    "                prob = modelo.predict_proba(X_test)[:, 1]\n",
    "                auc = sklearn.metrics.roc_auc_score(y_test, prob)\n",
    "            else:\n",
    "                auc = 0.0\n",
    "        except:\n",
    "            auc = 0.0\n",
    "            \n",
    "        return {\n",
    "            'name': nombre,\n",
    "            'accuracy': float(acc),\n",
    "            'f1_score': float(f1),\n",
    "            'roc_auc': float(auc),\n",
    "            'success': True\n",
    "        }\n",
    "    except Exception as e:\n",
    "        return {\n",
    "            'name': nombre,\n",
    "            'accuracy': 0.0,\n",
    "            'f1_score': 0.0,\n",
    "            'roc_auc': 0.0,\n",
    "            'success': False,\n",
    "            'error': str(e)\n",
    "        }\n",
    "\n",
    "ensemble_results = []\n",
    "\n",
    "# Evaluar ensembles reales uno por uno\n",
    "ensembles_a_evaluar = {\n",
    "    'bagging_dt': 'Bagging',\n",
    "    'bagging_lr': 'Bagging', \n",
    "    'bagging_svm': 'Bagging',\n",
    "    'voting_hard': 'Voting',\n",
    "    'voting_soft': 'Voting',\n",
    "    'stacking_lr': 'Stacking',\n",
    "    'stacking_rf': 'Stacking',\n",
    "    'stacking_xgb': 'Stacking'\n",
    "}\n",
    "\n",
    "print(f\"Evaluando {len(ensembles_a_evaluar)} ensembles reales...\")\n",
    "\n",
    "for nombre, tipo in ensembles_a_evaluar.items():\n",
    "    if nombre in all_ensembles:\n",
    "        print(f\"Evaluando {nombre}...\", end=\" \")\n",
    "        \n",
    "        resultado = evaluar_ensemble_aislado(\n",
    "            all_ensembles[nombre], \n",
    "            X_train_dense, \n",
    "            X_test_dense, \n",
    "            y_train, \n",
    "            y_test, \n",
    "            nombre\n",
    "        )\n",
    "        \n",
    "        resultado['type'] = tipo\n",
    "        ensemble_results.append(resultado)\n",
    "        \n",
    "        if resultado['success']:\n",
    "            print(f\"F1: {resultado['f1_score']:.4f}\")\n",
    "        else:\n",
    "            print(f\"ERROR: {resultado.get('error', 'Desconocido')[:30]}\")\n",
    "    else:\n",
    "        print(f\"Saltando {nombre} (no encontrado)\")\n",
    "\n",
    "print(\"\\n\" + \"=\" * 60)\n",
    "exitosos = [r for r in ensemble_results if r['success']]\n",
    "print(f\"Ensembles exitosos: {len(exitosos)}/{len(ensembles_a_evaluar)}\")\n",
    "\n",
    "if exitosos:\n",
    "    print(\"Resultados exitosos:\")\n",
    "    for r in exitosos:\n",
    "        print(f\"  {r['name']} ({r['type']}): F1: {r['f1_score']:.4f}\")\n",
    "\n",
    "print(\"Evaluacion completada.\")"
   ]
  },
  {
   "cell_type": "code",
   "execution_count": 17,
   "metadata": {},
   "outputs": [
    {
     "name": "stdout",
     "output_type": "stream",
     "text": [
      "Resultados de todos los ensembles (ordenados por F1-Score):\n",
      "           name      type  accuracy  f1_score  roc_auc\n",
      "5   stacking_lr  Stacking    0.8349    0.8498   0.8903\n",
      "4   voting_soft    Voting    0.8255    0.8465   0.8850\n",
      "3   voting_hard    Voting    0.8208    0.8417   0.0000\n",
      "7  stacking_xgb  Stacking    0.8066    0.8161   0.8885\n",
      "6   stacking_rf  Stacking    0.8019    0.8142   0.8890\n",
      "1    bagging_lr   Bagging    0.7877    0.8069   0.8552\n",
      "0    bagging_dt   Bagging    0.7547    0.7851   0.8389\n",
      "2   bagging_svm   Bagging    0.5377    0.6994   0.6677\n",
      "\n",
      "Mejor ensemble de cada tipo:\n",
      "  Stacking: stacking_lr (F1: 0.8498)\n",
      "  Voting: voting_soft (F1: 0.8465)\n",
      "  Bagging: bagging_lr (F1: 0.8069)\n",
      "\n",
      "Ensemble CAMPEON: stacking_lr\n",
      "  Tipo: Stacking\n",
      "  F1-Score: 0.8498\n",
      "  Accuracy: 0.8349\n",
      "  ROC-AUC: 0.8903\n"
     ]
    }
   ],
   "source": [
    "# Crear DataFrame con resultados de ensemble\n",
    "successful_ensemble_results = [r for r in ensemble_results if r['success']]\n",
    "\n",
    "if len(successful_ensemble_results) > 0:\n",
    "    ensemble_df = pd.DataFrame(successful_ensemble_results)\n",
    "    ensemble_df = ensemble_df.sort_values('f1_score', ascending=False)\n",
    "\n",
    "    print(\"Resultados de todos los ensembles (ordenados por F1-Score):\")\n",
    "    print(ensemble_df[['name', 'type', 'accuracy', 'f1_score', 'roc_auc']].round(4))\n",
    "\n",
    "    # Encontrar el mejor ensemble de cada tipo\n",
    "    print(\"\\nMejor ensemble de cada tipo:\")\n",
    "    for ensemble_type in ensemble_df['type'].unique():\n",
    "        best_of_type = ensemble_df[ensemble_df['type'] == ensemble_type].iloc[0]\n",
    "        print(f\"  {ensemble_type}: {best_of_type['name']} (F1: {best_of_type['f1_score']:.4f})\")\n",
    "\n",
    "    # Ensemble campeon general\n",
    "    champion_ensemble = ensemble_df.iloc[0]\n",
    "    print(f\"\\nEnsemble CAMPEON: {champion_ensemble['name']}\")\n",
    "    print(f\"  Tipo: {champion_ensemble['type']}\")\n",
    "    print(f\"  F1-Score: {champion_ensemble['f1_score']:.4f}\")\n",
    "    print(f\"  Accuracy: {champion_ensemble['accuracy']:.4f}\")\n",
    "    print(f\"  ROC-AUC: {champion_ensemble['roc_auc']:.4f}\")\n",
    "else:\n",
    "    print(\"No se evaluaron ensembles exitosamente.\")\n",
    "    print(\"Esto puede deberse a problemas de compatibilidad con matrices sparse/densas.\")\n",
    "    print(\"Los algoritmos individuales funcionaron correctamente.\")\n",
    "    \n",
    "    # Usar el mejor algoritmo individual como referencia\n",
    "    champion_ensemble = individual_df.iloc[0].to_dict()\n",
    "    champion_ensemble['type'] = 'Individual'\n",
    "    print(f\"\\nUsando mejor algoritmo individual como referencia:\")\n",
    "    print(f\"  Nombre: {champion_ensemble['name']}\")\n",
    "    print(f\"  F1-Score: {champion_ensemble['f1_score']:.4f}\")\n",
    "    print(f\"  Accuracy: {champion_ensemble['accuracy']:.4f}\")\n",
    "    print(f\"  ROC-AUC: {champion_ensemble['roc_auc']:.4f}\")"
   ]
  },
  {
   "cell_type": "code",
   "execution_count": 18,
   "metadata": {},
   "outputs": [
    {
     "data": {
      "application/vnd.plotly.v1+json": {
       "config": {
        "plotlyServerURL": "https://plot.ly"
       },
       "data": [
        {
         "customdata": [
          [
           "stacking_lr"
          ],
          [
           "stacking_xgb"
          ],
          [
           "stacking_rf"
          ]
         ],
         "hovertemplate": "type=Stacking<br>F1-Score=%{x}<br>ROC-AUC=%{y}<br>accuracy=%{marker.size}<br>name=%{customdata[0]}<extra></extra>",
         "legendgroup": "Stacking",
         "marker": {
          "color": "#636efa",
          "size": {
           "bdata": "+xxSE4y36j9SE4y3ss/pP2G8lX0Oqek/",
           "dtype": "f8"
          },
          "sizemode": "area",
          "sizeref": 0.0020872641509433964,
          "symbol": "circle"
         },
         "mode": "markers",
         "name": "Stacking",
         "orientation": "v",
         "showlegend": true,
         "type": "scatter",
         "x": {
          "bdata": "iYvZKnEx6z/v0Pb32B3qP33ZoMmXDeo/",
          "dtype": "f8"
         },
         "xaxis": "x",
         "y": {
          "bdata": "69Bvtg597D+E5Z5GWG7sPyMs9zTCcuw/",
          "dtype": "f8"
         },
         "yaxis": "y"
        },
        {
         "customdata": [
          [
           "voting_soft"
          ],
          [
           "voting_hard"
          ]
         ],
         "hovertemplate": "type=Voting<br>F1-Score=%{x}<br>ROC-AUC=%{y}<br>accuracy=%{marker.size}<br>name=%{customdata[0]}<extra></extra>",
         "legendgroup": "Voting",
         "marker": {
          "color": "#EF553B",
          "size": {
           "bdata": "GG9ln0Nq6j8nGG9ln0PqPw==",
           "dtype": "f8"
          },
          "sizemode": "area",
          "sizeref": 0.0020872641509433964,
          "symbol": "circle"
         },
         "mode": "markers",
         "name": "Voting",
         "orientation": "v",
         "showlegend": true,
         "type": "scatter",
         "x": {
          "bdata": "m04Wm04W6z/v7u7u7u7qPw==",
          "dtype": "f8"
         },
         "xaxis": "x",
         "y": {
          "bdata": "fBphuadR7D8AAAAAAAAAAA==",
          "dtype": "f8"
         },
         "yaxis": "y"
        },
        {
         "customdata": [
          [
           "bagging_lr"
          ],
          [
           "bagging_dt"
          ],
          [
           "bagging_svm"
          ]
         ],
         "hovertemplate": "type=Bagging<br>F1-Score=%{x}<br>ROC-AUC=%{y}<br>accuracy=%{marker.size}<br>name=%{customdata[0]}<extra></extra>",
         "legendgroup": "Bagging",
         "marker": {
          "color": "#00cc96",
          "size": {
           "bdata": "jLeyzyE16T/yVvY5pCboP4y3ss8hNeE/",
           "dtype": "f8"
          },
          "sizemode": "area",
          "sizeref": 0.0020872641509433964,
          "symbol": "circle"
         },
         "mode": "markers",
         "name": "Bagging",
         "orientation": "v",
         "showlegend": true,
         "type": "scatter",
         "x": {
          "bdata": "1Y7OpNrR6T9mUCpMvB/pP2wJvs1fYeY/",
          "dtype": "f8"
         },
         "xaxis": "x",
         "y": {
          "bdata": "kuIFMile6z+IfrN16NfqP5TiBTIpXuU/",
          "dtype": "f8"
         },
         "yaxis": "y"
        }
       ],
       "layout": {
        "annotations": [
         {
          "arrowcolor": "red",
          "arrowhead": 2,
          "font": {
           "color": "red",
           "size": 12
          },
          "showarrow": true,
          "text": "CAMPEON<br>stacking_lr",
          "x": 0.8497854077253219,
          "y": 0.8902658045977011
         }
        ],
        "height": 500,
        "legend": {
         "itemsizing": "constant",
         "title": {
          "text": "type"
         },
         "tracegroupgap": 0
        },
        "template": {
         "data": {
          "bar": [
           {
            "error_x": {
             "color": "#2a3f5f"
            },
            "error_y": {
             "color": "#2a3f5f"
            },
            "marker": {
             "line": {
              "color": "#E5ECF6",
              "width": 0.5
             },
             "pattern": {
              "fillmode": "overlay",
              "size": 10,
              "solidity": 0.2
             }
            },
            "type": "bar"
           }
          ],
          "barpolar": [
           {
            "marker": {
             "line": {
              "color": "#E5ECF6",
              "width": 0.5
             },
             "pattern": {
              "fillmode": "overlay",
              "size": 10,
              "solidity": 0.2
             }
            },
            "type": "barpolar"
           }
          ],
          "carpet": [
           {
            "aaxis": {
             "endlinecolor": "#2a3f5f",
             "gridcolor": "white",
             "linecolor": "white",
             "minorgridcolor": "white",
             "startlinecolor": "#2a3f5f"
            },
            "baxis": {
             "endlinecolor": "#2a3f5f",
             "gridcolor": "white",
             "linecolor": "white",
             "minorgridcolor": "white",
             "startlinecolor": "#2a3f5f"
            },
            "type": "carpet"
           }
          ],
          "choropleth": [
           {
            "colorbar": {
             "outlinewidth": 0,
             "ticks": ""
            },
            "type": "choropleth"
           }
          ],
          "contour": [
           {
            "colorbar": {
             "outlinewidth": 0,
             "ticks": ""
            },
            "colorscale": [
             [
              0,
              "#0d0887"
             ],
             [
              0.1111111111111111,
              "#46039f"
             ],
             [
              0.2222222222222222,
              "#7201a8"
             ],
             [
              0.3333333333333333,
              "#9c179e"
             ],
             [
              0.4444444444444444,
              "#bd3786"
             ],
             [
              0.5555555555555556,
              "#d8576b"
             ],
             [
              0.6666666666666666,
              "#ed7953"
             ],
             [
              0.7777777777777778,
              "#fb9f3a"
             ],
             [
              0.8888888888888888,
              "#fdca26"
             ],
             [
              1,
              "#f0f921"
             ]
            ],
            "type": "contour"
           }
          ],
          "contourcarpet": [
           {
            "colorbar": {
             "outlinewidth": 0,
             "ticks": ""
            },
            "type": "contourcarpet"
           }
          ],
          "heatmap": [
           {
            "colorbar": {
             "outlinewidth": 0,
             "ticks": ""
            },
            "colorscale": [
             [
              0,
              "#0d0887"
             ],
             [
              0.1111111111111111,
              "#46039f"
             ],
             [
              0.2222222222222222,
              "#7201a8"
             ],
             [
              0.3333333333333333,
              "#9c179e"
             ],
             [
              0.4444444444444444,
              "#bd3786"
             ],
             [
              0.5555555555555556,
              "#d8576b"
             ],
             [
              0.6666666666666666,
              "#ed7953"
             ],
             [
              0.7777777777777778,
              "#fb9f3a"
             ],
             [
              0.8888888888888888,
              "#fdca26"
             ],
             [
              1,
              "#f0f921"
             ]
            ],
            "type": "heatmap"
           }
          ],
          "histogram": [
           {
            "marker": {
             "pattern": {
              "fillmode": "overlay",
              "size": 10,
              "solidity": 0.2
             }
            },
            "type": "histogram"
           }
          ],
          "histogram2d": [
           {
            "colorbar": {
             "outlinewidth": 0,
             "ticks": ""
            },
            "colorscale": [
             [
              0,
              "#0d0887"
             ],
             [
              0.1111111111111111,
              "#46039f"
             ],
             [
              0.2222222222222222,
              "#7201a8"
             ],
             [
              0.3333333333333333,
              "#9c179e"
             ],
             [
              0.4444444444444444,
              "#bd3786"
             ],
             [
              0.5555555555555556,
              "#d8576b"
             ],
             [
              0.6666666666666666,
              "#ed7953"
             ],
             [
              0.7777777777777778,
              "#fb9f3a"
             ],
             [
              0.8888888888888888,
              "#fdca26"
             ],
             [
              1,
              "#f0f921"
             ]
            ],
            "type": "histogram2d"
           }
          ],
          "histogram2dcontour": [
           {
            "colorbar": {
             "outlinewidth": 0,
             "ticks": ""
            },
            "colorscale": [
             [
              0,
              "#0d0887"
             ],
             [
              0.1111111111111111,
              "#46039f"
             ],
             [
              0.2222222222222222,
              "#7201a8"
             ],
             [
              0.3333333333333333,
              "#9c179e"
             ],
             [
              0.4444444444444444,
              "#bd3786"
             ],
             [
              0.5555555555555556,
              "#d8576b"
             ],
             [
              0.6666666666666666,
              "#ed7953"
             ],
             [
              0.7777777777777778,
              "#fb9f3a"
             ],
             [
              0.8888888888888888,
              "#fdca26"
             ],
             [
              1,
              "#f0f921"
             ]
            ],
            "type": "histogram2dcontour"
           }
          ],
          "mesh3d": [
           {
            "colorbar": {
             "outlinewidth": 0,
             "ticks": ""
            },
            "type": "mesh3d"
           }
          ],
          "parcoords": [
           {
            "line": {
             "colorbar": {
              "outlinewidth": 0,
              "ticks": ""
             }
            },
            "type": "parcoords"
           }
          ],
          "pie": [
           {
            "automargin": true,
            "type": "pie"
           }
          ],
          "scatter": [
           {
            "fillpattern": {
             "fillmode": "overlay",
             "size": 10,
             "solidity": 0.2
            },
            "type": "scatter"
           }
          ],
          "scatter3d": [
           {
            "line": {
             "colorbar": {
              "outlinewidth": 0,
              "ticks": ""
             }
            },
            "marker": {
             "colorbar": {
              "outlinewidth": 0,
              "ticks": ""
             }
            },
            "type": "scatter3d"
           }
          ],
          "scattercarpet": [
           {
            "marker": {
             "colorbar": {
              "outlinewidth": 0,
              "ticks": ""
             }
            },
            "type": "scattercarpet"
           }
          ],
          "scattergeo": [
           {
            "marker": {
             "colorbar": {
              "outlinewidth": 0,
              "ticks": ""
             }
            },
            "type": "scattergeo"
           }
          ],
          "scattergl": [
           {
            "marker": {
             "colorbar": {
              "outlinewidth": 0,
              "ticks": ""
             }
            },
            "type": "scattergl"
           }
          ],
          "scattermap": [
           {
            "marker": {
             "colorbar": {
              "outlinewidth": 0,
              "ticks": ""
             }
            },
            "type": "scattermap"
           }
          ],
          "scattermapbox": [
           {
            "marker": {
             "colorbar": {
              "outlinewidth": 0,
              "ticks": ""
             }
            },
            "type": "scattermapbox"
           }
          ],
          "scatterpolar": [
           {
            "marker": {
             "colorbar": {
              "outlinewidth": 0,
              "ticks": ""
             }
            },
            "type": "scatterpolar"
           }
          ],
          "scatterpolargl": [
           {
            "marker": {
             "colorbar": {
              "outlinewidth": 0,
              "ticks": ""
             }
            },
            "type": "scatterpolargl"
           }
          ],
          "scatterternary": [
           {
            "marker": {
             "colorbar": {
              "outlinewidth": 0,
              "ticks": ""
             }
            },
            "type": "scatterternary"
           }
          ],
          "surface": [
           {
            "colorbar": {
             "outlinewidth": 0,
             "ticks": ""
            },
            "colorscale": [
             [
              0,
              "#0d0887"
             ],
             [
              0.1111111111111111,
              "#46039f"
             ],
             [
              0.2222222222222222,
              "#7201a8"
             ],
             [
              0.3333333333333333,
              "#9c179e"
             ],
             [
              0.4444444444444444,
              "#bd3786"
             ],
             [
              0.5555555555555556,
              "#d8576b"
             ],
             [
              0.6666666666666666,
              "#ed7953"
             ],
             [
              0.7777777777777778,
              "#fb9f3a"
             ],
             [
              0.8888888888888888,
              "#fdca26"
             ],
             [
              1,
              "#f0f921"
             ]
            ],
            "type": "surface"
           }
          ],
          "table": [
           {
            "cells": {
             "fill": {
              "color": "#EBF0F8"
             },
             "line": {
              "color": "white"
             }
            },
            "header": {
             "fill": {
              "color": "#C8D4E3"
             },
             "line": {
              "color": "white"
             }
            },
            "type": "table"
           }
          ]
         },
         "layout": {
          "annotationdefaults": {
           "arrowcolor": "#2a3f5f",
           "arrowhead": 0,
           "arrowwidth": 1
          },
          "autotypenumbers": "strict",
          "coloraxis": {
           "colorbar": {
            "outlinewidth": 0,
            "ticks": ""
           }
          },
          "colorscale": {
           "diverging": [
            [
             0,
             "#8e0152"
            ],
            [
             0.1,
             "#c51b7d"
            ],
            [
             0.2,
             "#de77ae"
            ],
            [
             0.3,
             "#f1b6da"
            ],
            [
             0.4,
             "#fde0ef"
            ],
            [
             0.5,
             "#f7f7f7"
            ],
            [
             0.6,
             "#e6f5d0"
            ],
            [
             0.7,
             "#b8e186"
            ],
            [
             0.8,
             "#7fbc41"
            ],
            [
             0.9,
             "#4d9221"
            ],
            [
             1,
             "#276419"
            ]
           ],
           "sequential": [
            [
             0,
             "#0d0887"
            ],
            [
             0.1111111111111111,
             "#46039f"
            ],
            [
             0.2222222222222222,
             "#7201a8"
            ],
            [
             0.3333333333333333,
             "#9c179e"
            ],
            [
             0.4444444444444444,
             "#bd3786"
            ],
            [
             0.5555555555555556,
             "#d8576b"
            ],
            [
             0.6666666666666666,
             "#ed7953"
            ],
            [
             0.7777777777777778,
             "#fb9f3a"
            ],
            [
             0.8888888888888888,
             "#fdca26"
            ],
            [
             1,
             "#f0f921"
            ]
           ],
           "sequentialminus": [
            [
             0,
             "#0d0887"
            ],
            [
             0.1111111111111111,
             "#46039f"
            ],
            [
             0.2222222222222222,
             "#7201a8"
            ],
            [
             0.3333333333333333,
             "#9c179e"
            ],
            [
             0.4444444444444444,
             "#bd3786"
            ],
            [
             0.5555555555555556,
             "#d8576b"
            ],
            [
             0.6666666666666666,
             "#ed7953"
            ],
            [
             0.7777777777777778,
             "#fb9f3a"
            ],
            [
             0.8888888888888888,
             "#fdca26"
            ],
            [
             1,
             "#f0f921"
            ]
           ]
          },
          "colorway": [
           "#636efa",
           "#EF553B",
           "#00cc96",
           "#ab63fa",
           "#FFA15A",
           "#19d3f3",
           "#FF6692",
           "#B6E880",
           "#FF97FF",
           "#FECB52"
          ],
          "font": {
           "color": "#2a3f5f"
          },
          "geo": {
           "bgcolor": "white",
           "lakecolor": "white",
           "landcolor": "#E5ECF6",
           "showlakes": true,
           "showland": true,
           "subunitcolor": "white"
          },
          "hoverlabel": {
           "align": "left"
          },
          "hovermode": "closest",
          "mapbox": {
           "style": "light"
          },
          "paper_bgcolor": "white",
          "plot_bgcolor": "#E5ECF6",
          "polar": {
           "angularaxis": {
            "gridcolor": "white",
            "linecolor": "white",
            "ticks": ""
           },
           "bgcolor": "#E5ECF6",
           "radialaxis": {
            "gridcolor": "white",
            "linecolor": "white",
            "ticks": ""
           }
          },
          "scene": {
           "xaxis": {
            "backgroundcolor": "#E5ECF6",
            "gridcolor": "white",
            "gridwidth": 2,
            "linecolor": "white",
            "showbackground": true,
            "ticks": "",
            "zerolinecolor": "white"
           },
           "yaxis": {
            "backgroundcolor": "#E5ECF6",
            "gridcolor": "white",
            "gridwidth": 2,
            "linecolor": "white",
            "showbackground": true,
            "ticks": "",
            "zerolinecolor": "white"
           },
           "zaxis": {
            "backgroundcolor": "#E5ECF6",
            "gridcolor": "white",
            "gridwidth": 2,
            "linecolor": "white",
            "showbackground": true,
            "ticks": "",
            "zerolinecolor": "white"
           }
          },
          "shapedefaults": {
           "line": {
            "color": "#2a3f5f"
           }
          },
          "ternary": {
           "aaxis": {
            "gridcolor": "white",
            "linecolor": "white",
            "ticks": ""
           },
           "baxis": {
            "gridcolor": "white",
            "linecolor": "white",
            "ticks": ""
           },
           "bgcolor": "#E5ECF6",
           "caxis": {
            "gridcolor": "white",
            "linecolor": "white",
            "ticks": ""
           }
          },
          "title": {
           "x": 0.05
          },
          "xaxis": {
           "automargin": true,
           "gridcolor": "white",
           "linecolor": "white",
           "ticks": "",
           "title": {
            "standoff": 15
           },
           "zerolinecolor": "white",
           "zerolinewidth": 2
          },
          "yaxis": {
           "automargin": true,
           "gridcolor": "white",
           "linecolor": "white",
           "ticks": "",
           "title": {
            "standoff": 15
           },
           "zerolinecolor": "white",
           "zerolinewidth": 2
          }
         }
        },
        "title": {
         "text": "Comparacion de Todos los Metodos de Ensemble"
        },
        "xaxis": {
         "anchor": "y",
         "domain": [
          0,
          1
         ],
         "title": {
          "text": "F1-Score"
         }
        },
        "yaxis": {
         "anchor": "x",
         "domain": [
          0,
          1
         ],
         "title": {
          "text": "ROC-AUC"
         }
        }
       }
      }
     },
     "metadata": {},
     "output_type": "display_data"
    },
    {
     "name": "stdout",
     "output_type": "stream",
     "text": [
      "El grafico muestra la posicion de cada ensemble en terminos de F1-Score y ROC-AUC.\n",
      "El tamaño de los puntos representa la precision (accuracy).\n"
     ]
    }
   ],
   "source": [
    "# Visualizar la comparacion de todos los ensembles\n",
    "fig = px.scatter(\n",
    "    ensemble_df,\n",
    "    x='f1_score',\n",
    "    y='roc_auc',\n",
    "    color='type',\n",
    "    size='accuracy',\n",
    "    hover_data=['name'],\n",
    "    title=\"Comparacion de Todos los Metodos de Ensemble\",\n",
    "    labels={'f1_score': 'F1-Score', 'roc_auc': 'ROC-AUC'},\n",
    "    height=500\n",
    ")\n",
    "\n",
    "# Añadir anotacion para el campeon\n",
    "fig.add_annotation(\n",
    "    x=champion_ensemble['f1_score'],\n",
    "    y=champion_ensemble['roc_auc'],\n",
    "    text=f\"CAMPEON<br>{champion_ensemble['name']}\",\n",
    "    showarrow=True,\n",
    "    arrowhead=2,\n",
    "    arrowcolor=\"red\",\n",
    "    font=dict(color=\"red\", size=12)\n",
    ")\n",
    "\n",
    "fig.show()\n",
    "\n",
    "print(\"El grafico muestra la posicion de cada ensemble en terminos de F1-Score y ROC-AUC.\")\n",
    "print(\"El tamaño de los puntos representa la precision (accuracy).\")"
   ]
  },
  {
   "cell_type": "markdown",
   "metadata": {},
   "source": [
    "## Analisis Detallado del Mejor Ensemble\n",
    "\n",
    "Realizo un analisis detallado del mejor ensemble encontrado, incluyendo matriz de confusion y validacion cruzada."
   ]
  },
  {
   "cell_type": "code",
   "execution_count": 19,
   "metadata": {},
   "outputs": [
    {
     "name": "stdout",
     "output_type": "stream",
     "text": [
      "Analisis detallado del mejor ensemble: stacking_lr\n",
      "\n",
      "Reporte de clasificacion:\n",
      "              precision    recall  f1-score   support\n",
      "\n",
      "        Fake     0.8211    0.8125    0.8168        96\n",
      "        Real     0.8462    0.8534    0.8498       116\n",
      "\n",
      "    accuracy                         0.8349       212\n",
      "   macro avg     0.8336    0.8330    0.8333       212\n",
      "weighted avg     0.8348    0.8349    0.8348       212\n",
      "\n",
      "\n",
      "Matriz de confusion:\n",
      "[[78 18]\n",
      " [17 99]]\n",
      "\n",
      "Metricas detalladas:\n",
      "  Sensibilidad (Recall Real): 0.8534\n",
      "  Especificidad (Recall Fake): 0.8125\n",
      "  Precision Fake: 0.8211\n",
      "  Precision Real: 0.8462\n",
      "  Verdaderos Positivos (Real): 99\n",
      "  Verdaderos Negativos (Fake): 78\n",
      "  Falsos Positivos: 18\n",
      "  Falsos Negativos: 17\n"
     ]
    }
   ],
   "source": [
    "# Verificar si tenemos ensembles exitosos para analizar\n",
    "if len(successful_ensemble_results) > 0 and len(ensemble_df) > 0:\n",
    "    # Obtener el mejor ensemble\n",
    "    best_ensemble_name = champion_ensemble['name']\n",
    "    \n",
    "    # Verificar que el ensemble existe en all_ensembles\n",
    "    if best_ensemble_name in all_ensembles:\n",
    "        best_ensemble_model = all_ensembles[best_ensemble_name]\n",
    "\n",
    "        print(f\"Analisis detallado del mejor ensemble: {best_ensemble_name}\")\n",
    "\n",
    "        # Determinar que tipo de datos usar\n",
    "        if 'bagging' in best_ensemble_name or 'stacking' in best_ensemble_name or 'voting' in best_ensemble_name:\n",
    "            X_train_use = X_train_dense\n",
    "            X_test_use = X_test_dense\n",
    "        else:\n",
    "            X_train_use = X_train_tfidf\n",
    "            X_test_use = X_test_tfidf\n",
    "\n",
    "        # Entrenar nuevamente para analisis\n",
    "        best_ensemble_model.fit(X_train_use, y_train)\n",
    "        y_pred_best = best_ensemble_model.predict(X_test_use)\n",
    "        \n",
    "        if hasattr(best_ensemble_model, 'predict_proba'):\n",
    "            y_pred_proba_best = best_ensemble_model.predict_proba(X_test_use)[:, 1]\n",
    "        else:\n",
    "            y_pred_proba_best = None\n",
    "\n",
    "        # Reporte de clasificacion detallado\n",
    "        print(\"\\nReporte de clasificacion:\")\n",
    "        print(classification_report(y_test, y_pred_best, \n",
    "                                  target_names=['Fake', 'Real'], \n",
    "                                  digits=4))\n",
    "\n",
    "        # Matriz de confusion\n",
    "        cm = confusion_matrix(y_test, y_pred_best)\n",
    "        print(f\"\\nMatriz de confusion:\")\n",
    "        print(cm)\n",
    "\n",
    "        # Metricas detalladas\n",
    "        tn, fp, fn, tp = cm.ravel()\n",
    "        sensitivity = tp / (tp + fn)  # Recall para clase Real\n",
    "        specificity = tn / (tn + fp)  # Recall para clase Fake\n",
    "        precision_fake = tn / (tn + fn) if (tn + fn) > 0 else 0\n",
    "        precision_real = tp / (tp + fp) if (tp + fp) > 0 else 0\n",
    "\n",
    "        print(f\"\\nMetricas detalladas:\")\n",
    "        print(f\"  Sensibilidad (Recall Real): {sensitivity:.4f}\")\n",
    "        print(f\"  Especificidad (Recall Fake): {specificity:.4f}\")\n",
    "        print(f\"  Precision Fake: {precision_fake:.4f}\")\n",
    "        print(f\"  Precision Real: {precision_real:.4f}\")\n",
    "        print(f\"  Verdaderos Positivos (Real): {tp}\")\n",
    "        print(f\"  Verdaderos Negativos (Fake): {tn}\")\n",
    "        print(f\"  Falsos Positivos: {fp}\")\n",
    "        print(f\"  Falsos Negativos: {fn}\")\n",
    "    else:\n",
    "        print(f\"ERROR: El ensemble {best_ensemble_name} no existe en all_ensembles\")\n",
    "        print(\"Usando el mejor algoritmo individual para analisis:\")\n",
    "        \n",
    "        # Usar el mejor individual como fallback\n",
    "        best_individual_name = individual_df.iloc[0]['name']\n",
    "        \n",
    "        if best_individual_name in base_classifiers:\n",
    "            best_model = base_classifiers[best_individual_name]\n",
    "        elif best_individual_name in boosting_classifiers:\n",
    "            best_model = boosting_classifiers[best_individual_name]\n",
    "        else:\n",
    "            print(\"No se puede encontrar el modelo para analisis\")\n",
    "            best_model = None\n",
    "            \n",
    "        if best_model:\n",
    "            print(f\"\\nAnalizando mejor algoritmo individual: {best_individual_name}\")\n",
    "            \n",
    "            # Determinar tipo de datos a usar\n",
    "            algorithms_need_dense = ['gaussian_nb', 'lda', 'qda']\n",
    "            use_dense = best_individual_name in algorithms_need_dense\n",
    "            \n",
    "            X_train_use = X_train_dense if use_dense else X_train_tfidf\n",
    "            X_test_use = X_test_dense if use_dense else X_test_tfidf\n",
    "            \n",
    "            best_model.fit(X_train_use, y_train)\n",
    "            y_pred_best = best_model.predict(X_test_use)\n",
    "            \n",
    "            cm = confusion_matrix(y_test, y_pred_best)\n",
    "            print(f\"Matriz de confusion (algoritmo individual):\")\n",
    "            print(cm)\n",
    "else:\n",
    "    print(\"No hay ensembles exitosos para analizar.\")\n",
    "    print(\"Todos los ensembles fallaron debido a problemas de compatibilidad.\")\n",
    "    print(\"Los algoritmos individuales funcionaron correctamente.\")"
   ]
  },
  {
   "cell_type": "code",
   "execution_count": 20,
   "metadata": {},
   "outputs": [
    {
     "data": {
      "application/vnd.plotly.v1+json": {
       "config": {
        "plotlyServerURL": "https://plot.ly"
       },
       "data": [
        {
         "coloraxis": "coloraxis",
         "hovertemplate": "Prediccion: %{x}<br>Verdadero: %{y}<br>Cantidad: %{z}<extra></extra>",
         "name": "0",
         "type": "heatmap",
         "x": [
          "Fake",
          "Real"
         ],
         "xaxis": "x",
         "y": [
          "Fake",
          "Real"
         ],
         "yaxis": "y",
         "z": {
          "bdata": "ThIRYw==",
          "dtype": "i1",
          "shape": "2, 2"
         }
        }
       ],
       "layout": {
        "annotations": [
         {
          "font": {
           "color": "white",
           "size": 16
          },
          "showarrow": false,
          "text": "78",
          "x": 0,
          "y": 0
         },
         {
          "font": {
           "color": "black",
           "size": 16
          },
          "showarrow": false,
          "text": "18",
          "x": 1,
          "y": 0
         },
         {
          "font": {
           "color": "black",
           "size": 16
          },
          "showarrow": false,
          "text": "17",
          "x": 0,
          "y": 1
         },
         {
          "font": {
           "color": "white",
           "size": 16
          },
          "showarrow": false,
          "text": "99",
          "x": 1,
          "y": 1
         }
        ],
        "coloraxis": {
         "colorbar": {
          "title": {
           "text": "Cantidad"
          }
         },
         "colorscale": [
          [
           0,
           "rgb(247,251,255)"
          ],
          [
           0.125,
           "rgb(222,235,247)"
          ],
          [
           0.25,
           "rgb(198,219,239)"
          ],
          [
           0.375,
           "rgb(158,202,225)"
          ],
          [
           0.5,
           "rgb(107,174,214)"
          ],
          [
           0.625,
           "rgb(66,146,198)"
          ],
          [
           0.75,
           "rgb(33,113,181)"
          ],
          [
           0.875,
           "rgb(8,81,156)"
          ],
          [
           1,
           "rgb(8,48,107)"
          ]
         ]
        },
        "template": {
         "data": {
          "bar": [
           {
            "error_x": {
             "color": "#2a3f5f"
            },
            "error_y": {
             "color": "#2a3f5f"
            },
            "marker": {
             "line": {
              "color": "#E5ECF6",
              "width": 0.5
             },
             "pattern": {
              "fillmode": "overlay",
              "size": 10,
              "solidity": 0.2
             }
            },
            "type": "bar"
           }
          ],
          "barpolar": [
           {
            "marker": {
             "line": {
              "color": "#E5ECF6",
              "width": 0.5
             },
             "pattern": {
              "fillmode": "overlay",
              "size": 10,
              "solidity": 0.2
             }
            },
            "type": "barpolar"
           }
          ],
          "carpet": [
           {
            "aaxis": {
             "endlinecolor": "#2a3f5f",
             "gridcolor": "white",
             "linecolor": "white",
             "minorgridcolor": "white",
             "startlinecolor": "#2a3f5f"
            },
            "baxis": {
             "endlinecolor": "#2a3f5f",
             "gridcolor": "white",
             "linecolor": "white",
             "minorgridcolor": "white",
             "startlinecolor": "#2a3f5f"
            },
            "type": "carpet"
           }
          ],
          "choropleth": [
           {
            "colorbar": {
             "outlinewidth": 0,
             "ticks": ""
            },
            "type": "choropleth"
           }
          ],
          "contour": [
           {
            "colorbar": {
             "outlinewidth": 0,
             "ticks": ""
            },
            "colorscale": [
             [
              0,
              "#0d0887"
             ],
             [
              0.1111111111111111,
              "#46039f"
             ],
             [
              0.2222222222222222,
              "#7201a8"
             ],
             [
              0.3333333333333333,
              "#9c179e"
             ],
             [
              0.4444444444444444,
              "#bd3786"
             ],
             [
              0.5555555555555556,
              "#d8576b"
             ],
             [
              0.6666666666666666,
              "#ed7953"
             ],
             [
              0.7777777777777778,
              "#fb9f3a"
             ],
             [
              0.8888888888888888,
              "#fdca26"
             ],
             [
              1,
              "#f0f921"
             ]
            ],
            "type": "contour"
           }
          ],
          "contourcarpet": [
           {
            "colorbar": {
             "outlinewidth": 0,
             "ticks": ""
            },
            "type": "contourcarpet"
           }
          ],
          "heatmap": [
           {
            "colorbar": {
             "outlinewidth": 0,
             "ticks": ""
            },
            "colorscale": [
             [
              0,
              "#0d0887"
             ],
             [
              0.1111111111111111,
              "#46039f"
             ],
             [
              0.2222222222222222,
              "#7201a8"
             ],
             [
              0.3333333333333333,
              "#9c179e"
             ],
             [
              0.4444444444444444,
              "#bd3786"
             ],
             [
              0.5555555555555556,
              "#d8576b"
             ],
             [
              0.6666666666666666,
              "#ed7953"
             ],
             [
              0.7777777777777778,
              "#fb9f3a"
             ],
             [
              0.8888888888888888,
              "#fdca26"
             ],
             [
              1,
              "#f0f921"
             ]
            ],
            "type": "heatmap"
           }
          ],
          "histogram": [
           {
            "marker": {
             "pattern": {
              "fillmode": "overlay",
              "size": 10,
              "solidity": 0.2
             }
            },
            "type": "histogram"
           }
          ],
          "histogram2d": [
           {
            "colorbar": {
             "outlinewidth": 0,
             "ticks": ""
            },
            "colorscale": [
             [
              0,
              "#0d0887"
             ],
             [
              0.1111111111111111,
              "#46039f"
             ],
             [
              0.2222222222222222,
              "#7201a8"
             ],
             [
              0.3333333333333333,
              "#9c179e"
             ],
             [
              0.4444444444444444,
              "#bd3786"
             ],
             [
              0.5555555555555556,
              "#d8576b"
             ],
             [
              0.6666666666666666,
              "#ed7953"
             ],
             [
              0.7777777777777778,
              "#fb9f3a"
             ],
             [
              0.8888888888888888,
              "#fdca26"
             ],
             [
              1,
              "#f0f921"
             ]
            ],
            "type": "histogram2d"
           }
          ],
          "histogram2dcontour": [
           {
            "colorbar": {
             "outlinewidth": 0,
             "ticks": ""
            },
            "colorscale": [
             [
              0,
              "#0d0887"
             ],
             [
              0.1111111111111111,
              "#46039f"
             ],
             [
              0.2222222222222222,
              "#7201a8"
             ],
             [
              0.3333333333333333,
              "#9c179e"
             ],
             [
              0.4444444444444444,
              "#bd3786"
             ],
             [
              0.5555555555555556,
              "#d8576b"
             ],
             [
              0.6666666666666666,
              "#ed7953"
             ],
             [
              0.7777777777777778,
              "#fb9f3a"
             ],
             [
              0.8888888888888888,
              "#fdca26"
             ],
             [
              1,
              "#f0f921"
             ]
            ],
            "type": "histogram2dcontour"
           }
          ],
          "mesh3d": [
           {
            "colorbar": {
             "outlinewidth": 0,
             "ticks": ""
            },
            "type": "mesh3d"
           }
          ],
          "parcoords": [
           {
            "line": {
             "colorbar": {
              "outlinewidth": 0,
              "ticks": ""
             }
            },
            "type": "parcoords"
           }
          ],
          "pie": [
           {
            "automargin": true,
            "type": "pie"
           }
          ],
          "scatter": [
           {
            "fillpattern": {
             "fillmode": "overlay",
             "size": 10,
             "solidity": 0.2
            },
            "type": "scatter"
           }
          ],
          "scatter3d": [
           {
            "line": {
             "colorbar": {
              "outlinewidth": 0,
              "ticks": ""
             }
            },
            "marker": {
             "colorbar": {
              "outlinewidth": 0,
              "ticks": ""
             }
            },
            "type": "scatter3d"
           }
          ],
          "scattercarpet": [
           {
            "marker": {
             "colorbar": {
              "outlinewidth": 0,
              "ticks": ""
             }
            },
            "type": "scattercarpet"
           }
          ],
          "scattergeo": [
           {
            "marker": {
             "colorbar": {
              "outlinewidth": 0,
              "ticks": ""
             }
            },
            "type": "scattergeo"
           }
          ],
          "scattergl": [
           {
            "marker": {
             "colorbar": {
              "outlinewidth": 0,
              "ticks": ""
             }
            },
            "type": "scattergl"
           }
          ],
          "scattermap": [
           {
            "marker": {
             "colorbar": {
              "outlinewidth": 0,
              "ticks": ""
             }
            },
            "type": "scattermap"
           }
          ],
          "scattermapbox": [
           {
            "marker": {
             "colorbar": {
              "outlinewidth": 0,
              "ticks": ""
             }
            },
            "type": "scattermapbox"
           }
          ],
          "scatterpolar": [
           {
            "marker": {
             "colorbar": {
              "outlinewidth": 0,
              "ticks": ""
             }
            },
            "type": "scatterpolar"
           }
          ],
          "scatterpolargl": [
           {
            "marker": {
             "colorbar": {
              "outlinewidth": 0,
              "ticks": ""
             }
            },
            "type": "scatterpolargl"
           }
          ],
          "scatterternary": [
           {
            "marker": {
             "colorbar": {
              "outlinewidth": 0,
              "ticks": ""
             }
            },
            "type": "scatterternary"
           }
          ],
          "surface": [
           {
            "colorbar": {
             "outlinewidth": 0,
             "ticks": ""
            },
            "colorscale": [
             [
              0,
              "#0d0887"
             ],
             [
              0.1111111111111111,
              "#46039f"
             ],
             [
              0.2222222222222222,
              "#7201a8"
             ],
             [
              0.3333333333333333,
              "#9c179e"
             ],
             [
              0.4444444444444444,
              "#bd3786"
             ],
             [
              0.5555555555555556,
              "#d8576b"
             ],
             [
              0.6666666666666666,
              "#ed7953"
             ],
             [
              0.7777777777777778,
              "#fb9f3a"
             ],
             [
              0.8888888888888888,
              "#fdca26"
             ],
             [
              1,
              "#f0f921"
             ]
            ],
            "type": "surface"
           }
          ],
          "table": [
           {
            "cells": {
             "fill": {
              "color": "#EBF0F8"
             },
             "line": {
              "color": "white"
             }
            },
            "header": {
             "fill": {
              "color": "#C8D4E3"
             },
             "line": {
              "color": "white"
             }
            },
            "type": "table"
           }
          ]
         },
         "layout": {
          "annotationdefaults": {
           "arrowcolor": "#2a3f5f",
           "arrowhead": 0,
           "arrowwidth": 1
          },
          "autotypenumbers": "strict",
          "coloraxis": {
           "colorbar": {
            "outlinewidth": 0,
            "ticks": ""
           }
          },
          "colorscale": {
           "diverging": [
            [
             0,
             "#8e0152"
            ],
            [
             0.1,
             "#c51b7d"
            ],
            [
             0.2,
             "#de77ae"
            ],
            [
             0.3,
             "#f1b6da"
            ],
            [
             0.4,
             "#fde0ef"
            ],
            [
             0.5,
             "#f7f7f7"
            ],
            [
             0.6,
             "#e6f5d0"
            ],
            [
             0.7,
             "#b8e186"
            ],
            [
             0.8,
             "#7fbc41"
            ],
            [
             0.9,
             "#4d9221"
            ],
            [
             1,
             "#276419"
            ]
           ],
           "sequential": [
            [
             0,
             "#0d0887"
            ],
            [
             0.1111111111111111,
             "#46039f"
            ],
            [
             0.2222222222222222,
             "#7201a8"
            ],
            [
             0.3333333333333333,
             "#9c179e"
            ],
            [
             0.4444444444444444,
             "#bd3786"
            ],
            [
             0.5555555555555556,
             "#d8576b"
            ],
            [
             0.6666666666666666,
             "#ed7953"
            ],
            [
             0.7777777777777778,
             "#fb9f3a"
            ],
            [
             0.8888888888888888,
             "#fdca26"
            ],
            [
             1,
             "#f0f921"
            ]
           ],
           "sequentialminus": [
            [
             0,
             "#0d0887"
            ],
            [
             0.1111111111111111,
             "#46039f"
            ],
            [
             0.2222222222222222,
             "#7201a8"
            ],
            [
             0.3333333333333333,
             "#9c179e"
            ],
            [
             0.4444444444444444,
             "#bd3786"
            ],
            [
             0.5555555555555556,
             "#d8576b"
            ],
            [
             0.6666666666666666,
             "#ed7953"
            ],
            [
             0.7777777777777778,
             "#fb9f3a"
            ],
            [
             0.8888888888888888,
             "#fdca26"
            ],
            [
             1,
             "#f0f921"
            ]
           ]
          },
          "colorway": [
           "#636efa",
           "#EF553B",
           "#00cc96",
           "#ab63fa",
           "#FFA15A",
           "#19d3f3",
           "#FF6692",
           "#B6E880",
           "#FF97FF",
           "#FECB52"
          ],
          "font": {
           "color": "#2a3f5f"
          },
          "geo": {
           "bgcolor": "white",
           "lakecolor": "white",
           "landcolor": "#E5ECF6",
           "showlakes": true,
           "showland": true,
           "subunitcolor": "white"
          },
          "hoverlabel": {
           "align": "left"
          },
          "hovermode": "closest",
          "mapbox": {
           "style": "light"
          },
          "paper_bgcolor": "white",
          "plot_bgcolor": "#E5ECF6",
          "polar": {
           "angularaxis": {
            "gridcolor": "white",
            "linecolor": "white",
            "ticks": ""
           },
           "bgcolor": "#E5ECF6",
           "radialaxis": {
            "gridcolor": "white",
            "linecolor": "white",
            "ticks": ""
           }
          },
          "scene": {
           "xaxis": {
            "backgroundcolor": "#E5ECF6",
            "gridcolor": "white",
            "gridwidth": 2,
            "linecolor": "white",
            "showbackground": true,
            "ticks": "",
            "zerolinecolor": "white"
           },
           "yaxis": {
            "backgroundcolor": "#E5ECF6",
            "gridcolor": "white",
            "gridwidth": 2,
            "linecolor": "white",
            "showbackground": true,
            "ticks": "",
            "zerolinecolor": "white"
           },
           "zaxis": {
            "backgroundcolor": "#E5ECF6",
            "gridcolor": "white",
            "gridwidth": 2,
            "linecolor": "white",
            "showbackground": true,
            "ticks": "",
            "zerolinecolor": "white"
           }
          },
          "shapedefaults": {
           "line": {
            "color": "#2a3f5f"
           }
          },
          "ternary": {
           "aaxis": {
            "gridcolor": "white",
            "linecolor": "white",
            "ticks": ""
           },
           "baxis": {
            "gridcolor": "white",
            "linecolor": "white",
            "ticks": ""
           },
           "bgcolor": "#E5ECF6",
           "caxis": {
            "gridcolor": "white",
            "linecolor": "white",
            "ticks": ""
           }
          },
          "title": {
           "x": 0.05
          },
          "xaxis": {
           "automargin": true,
           "gridcolor": "white",
           "linecolor": "white",
           "ticks": "",
           "title": {
            "standoff": 15
           },
           "zerolinecolor": "white",
           "zerolinewidth": 2
          },
          "yaxis": {
           "automargin": true,
           "gridcolor": "white",
           "linecolor": "white",
           "ticks": "",
           "title": {
            "standoff": 15
           },
           "zerolinecolor": "white",
           "zerolinewidth": 2
          }
         }
        },
        "title": {
         "text": "Matriz de Confusion - stacking_lr"
        },
        "xaxis": {
         "anchor": "y",
         "constrain": "domain",
         "domain": [
          0,
          1
         ],
         "scaleanchor": "y",
         "title": {
          "text": "Prediccion"
         }
        },
        "yaxis": {
         "anchor": "x",
         "autorange": "reversed",
         "constrain": "domain",
         "domain": [
          0,
          1
         ],
         "title": {
          "text": "Verdadero"
         }
        }
       }
      }
     },
     "metadata": {},
     "output_type": "display_data"
    },
    {
     "name": "stdout",
     "output_type": "stream",
     "text": [
      "La matriz muestra que el stacking_lr clasifica correctamente 177 de 212 muestras.\n"
     ]
    }
   ],
   "source": [
    "# Visualizar la matriz de confusion del mejor ensemble\n",
    "fig = px.imshow(\n",
    "    cm,\n",
    "    labels=dict(x=\"Prediccion\", y=\"Verdadero\", color=\"Cantidad\"),\n",
    "    x=['Fake', 'Real'],\n",
    "    y=['Fake', 'Real'],\n",
    "    color_continuous_scale='Blues',\n",
    "    title=f\"Matriz de Confusion - {best_ensemble_name}\"\n",
    ")\n",
    "\n",
    "# Añadir texto a cada celda\n",
    "for i in range(2):\n",
    "    for j in range(2):\n",
    "        fig.add_annotation(\n",
    "            x=j, y=i,\n",
    "            text=str(cm[i, j]),\n",
    "            showarrow=False,\n",
    "            font=dict(color=\"white\" if cm[i, j] > cm.max()/2 else \"black\", size=16)\n",
    "        )\n",
    "\n",
    "fig.show()\n",
    "\n",
    "print(f\"La matriz muestra que el {best_ensemble_name} clasifica correctamente {tp + tn} de {len(y_test)} muestras.\")"
   ]
  },
  {
   "cell_type": "code",
   "execution_count": 21,
   "metadata": {},
   "outputs": [
    {
     "name": "stdout",
     "output_type": "stream",
     "text": [
      "Realizando validacion cruzada del stacking_lr...\n",
      "\n",
      "Resultados de validacion cruzada (5-fold):\n",
      "Accuracy - Media: 0.7778 (+/- 0.0640)\n",
      "F1-Score - Media: 0.8033 (+/- 0.0418)\n",
      "ROC-AUC  - Media: 0.8631 (+/- 0.0387)\n",
      "\n",
      "Scores individuales por fold:\n",
      "Accuracy: ['0.7647', '0.7278', '0.7751', '0.7988', '0.8225']\n",
      "F1-Score: ['0.7959', '0.7745', '0.7935', '0.8172', '0.8352']\n",
      "ROC-AUC:  ['0.8636', '0.8294', '0.8630', '0.8892', '0.8704']\n"
     ]
    }
   ],
   "source": [
    "# Validacion cruzada del mejor ensemble\n",
    "print(f\"Realizando validacion cruzada del {best_ensemble_name}...\")\n",
    "\n",
    "# Usar StratifiedKFold para mantener proporciones de clases\n",
    "cv = StratifiedKFold(n_splits=5, shuffle=True, random_state=42)\n",
    "\n",
    "# Validacion cruzada con diferentes metricas\n",
    "cv_scores_accuracy = cross_val_score(best_ensemble_model, X_train_tfidf, y_train, \n",
    "                                   cv=cv, scoring='accuracy', n_jobs=-1)\n",
    "cv_scores_f1 = cross_val_score(best_ensemble_model, X_train_tfidf, y_train, \n",
    "                              cv=cv, scoring='f1', n_jobs=-1)\n",
    "cv_scores_roc_auc = cross_val_score(best_ensemble_model, X_train_tfidf, y_train, \n",
    "                                   cv=cv, scoring='roc_auc', n_jobs=-1)\n",
    "\n",
    "print(f\"\\nResultados de validacion cruzada (5-fold):\")\n",
    "print(f\"Accuracy - Media: {cv_scores_accuracy.mean():.4f} (+/- {cv_scores_accuracy.std() * 2:.4f})\")\n",
    "print(f\"F1-Score - Media: {cv_scores_f1.mean():.4f} (+/- {cv_scores_f1.std() * 2:.4f})\")\n",
    "print(f\"ROC-AUC  - Media: {cv_scores_roc_auc.mean():.4f} (+/- {cv_scores_roc_auc.std() * 2:.4f})\")\n",
    "\n",
    "print(f\"\\nScores individuales por fold:\")\n",
    "print(f\"Accuracy: {[f'{score:.4f}' for score in cv_scores_accuracy]}\")\n",
    "print(f\"F1-Score: {[f'{score:.4f}' for score in cv_scores_f1]}\")\n",
    "print(f\"ROC-AUC:  {[f'{score:.4f}' for score in cv_scores_roc_auc]}\")"
   ]
  },
  {
   "cell_type": "code",
   "execution_count": 22,
   "metadata": {},
   "outputs": [
    {
     "data": {
      "application/vnd.plotly.v1+json": {
       "config": {
        "plotlyServerURL": "https://plot.ly"
       },
       "data": [
        {
         "alignmentgroup": "True",
         "boxpoints": "all",
         "hovertemplate": "Metric=%{x}<br>Score=%{y}<extra></extra>",
         "legendgroup": "",
         "marker": {
          "color": "#636efa"
         },
         "name": "",
         "notched": false,
         "offsetgroup": "",
         "orientation": "v",
         "showlegend": false,
         "type": "box",
         "x": [
          "Accuracy",
          "Accuracy",
          "Accuracy",
          "Accuracy",
          "Accuracy",
          "F1-Score",
          "F1-Score",
          "F1-Score",
          "F1-Score",
          "F1-Score",
          "ROC-AUC",
          "ROC-AUC",
          "ROC-AUC",
          "ROC-AUC",
          "ROC-AUC"
         ],
         "x0": " ",
         "xaxis": "x",
         "y": {
          "bdata": "eHh4eHh46D9pw+ePOUrnP1bvkgcDzug/TYVow+eP6T9EGz5/zFHqP15OwcspeOk/ycjIyMjI6D8WspCFLGTpPyeaaKKJJuo/m6u5mqu56j9aiW5MVqLrP/fylcM2iuo/dgzG7w+e6z/AxfgVOHTsP8EbwK1q2us/",
          "dtype": "f8"
         },
         "y0": " ",
         "yaxis": "y"
        }
       ],
       "layout": {
        "boxmode": "group",
        "height": 400,
        "legend": {
         "tracegroupgap": 0
        },
        "template": {
         "data": {
          "bar": [
           {
            "error_x": {
             "color": "#2a3f5f"
            },
            "error_y": {
             "color": "#2a3f5f"
            },
            "marker": {
             "line": {
              "color": "#E5ECF6",
              "width": 0.5
             },
             "pattern": {
              "fillmode": "overlay",
              "size": 10,
              "solidity": 0.2
             }
            },
            "type": "bar"
           }
          ],
          "barpolar": [
           {
            "marker": {
             "line": {
              "color": "#E5ECF6",
              "width": 0.5
             },
             "pattern": {
              "fillmode": "overlay",
              "size": 10,
              "solidity": 0.2
             }
            },
            "type": "barpolar"
           }
          ],
          "carpet": [
           {
            "aaxis": {
             "endlinecolor": "#2a3f5f",
             "gridcolor": "white",
             "linecolor": "white",
             "minorgridcolor": "white",
             "startlinecolor": "#2a3f5f"
            },
            "baxis": {
             "endlinecolor": "#2a3f5f",
             "gridcolor": "white",
             "linecolor": "white",
             "minorgridcolor": "white",
             "startlinecolor": "#2a3f5f"
            },
            "type": "carpet"
           }
          ],
          "choropleth": [
           {
            "colorbar": {
             "outlinewidth": 0,
             "ticks": ""
            },
            "type": "choropleth"
           }
          ],
          "contour": [
           {
            "colorbar": {
             "outlinewidth": 0,
             "ticks": ""
            },
            "colorscale": [
             [
              0,
              "#0d0887"
             ],
             [
              0.1111111111111111,
              "#46039f"
             ],
             [
              0.2222222222222222,
              "#7201a8"
             ],
             [
              0.3333333333333333,
              "#9c179e"
             ],
             [
              0.4444444444444444,
              "#bd3786"
             ],
             [
              0.5555555555555556,
              "#d8576b"
             ],
             [
              0.6666666666666666,
              "#ed7953"
             ],
             [
              0.7777777777777778,
              "#fb9f3a"
             ],
             [
              0.8888888888888888,
              "#fdca26"
             ],
             [
              1,
              "#f0f921"
             ]
            ],
            "type": "contour"
           }
          ],
          "contourcarpet": [
           {
            "colorbar": {
             "outlinewidth": 0,
             "ticks": ""
            },
            "type": "contourcarpet"
           }
          ],
          "heatmap": [
           {
            "colorbar": {
             "outlinewidth": 0,
             "ticks": ""
            },
            "colorscale": [
             [
              0,
              "#0d0887"
             ],
             [
              0.1111111111111111,
              "#46039f"
             ],
             [
              0.2222222222222222,
              "#7201a8"
             ],
             [
              0.3333333333333333,
              "#9c179e"
             ],
             [
              0.4444444444444444,
              "#bd3786"
             ],
             [
              0.5555555555555556,
              "#d8576b"
             ],
             [
              0.6666666666666666,
              "#ed7953"
             ],
             [
              0.7777777777777778,
              "#fb9f3a"
             ],
             [
              0.8888888888888888,
              "#fdca26"
             ],
             [
              1,
              "#f0f921"
             ]
            ],
            "type": "heatmap"
           }
          ],
          "histogram": [
           {
            "marker": {
             "pattern": {
              "fillmode": "overlay",
              "size": 10,
              "solidity": 0.2
             }
            },
            "type": "histogram"
           }
          ],
          "histogram2d": [
           {
            "colorbar": {
             "outlinewidth": 0,
             "ticks": ""
            },
            "colorscale": [
             [
              0,
              "#0d0887"
             ],
             [
              0.1111111111111111,
              "#46039f"
             ],
             [
              0.2222222222222222,
              "#7201a8"
             ],
             [
              0.3333333333333333,
              "#9c179e"
             ],
             [
              0.4444444444444444,
              "#bd3786"
             ],
             [
              0.5555555555555556,
              "#d8576b"
             ],
             [
              0.6666666666666666,
              "#ed7953"
             ],
             [
              0.7777777777777778,
              "#fb9f3a"
             ],
             [
              0.8888888888888888,
              "#fdca26"
             ],
             [
              1,
              "#f0f921"
             ]
            ],
            "type": "histogram2d"
           }
          ],
          "histogram2dcontour": [
           {
            "colorbar": {
             "outlinewidth": 0,
             "ticks": ""
            },
            "colorscale": [
             [
              0,
              "#0d0887"
             ],
             [
              0.1111111111111111,
              "#46039f"
             ],
             [
              0.2222222222222222,
              "#7201a8"
             ],
             [
              0.3333333333333333,
              "#9c179e"
             ],
             [
              0.4444444444444444,
              "#bd3786"
             ],
             [
              0.5555555555555556,
              "#d8576b"
             ],
             [
              0.6666666666666666,
              "#ed7953"
             ],
             [
              0.7777777777777778,
              "#fb9f3a"
             ],
             [
              0.8888888888888888,
              "#fdca26"
             ],
             [
              1,
              "#f0f921"
             ]
            ],
            "type": "histogram2dcontour"
           }
          ],
          "mesh3d": [
           {
            "colorbar": {
             "outlinewidth": 0,
             "ticks": ""
            },
            "type": "mesh3d"
           }
          ],
          "parcoords": [
           {
            "line": {
             "colorbar": {
              "outlinewidth": 0,
              "ticks": ""
             }
            },
            "type": "parcoords"
           }
          ],
          "pie": [
           {
            "automargin": true,
            "type": "pie"
           }
          ],
          "scatter": [
           {
            "fillpattern": {
             "fillmode": "overlay",
             "size": 10,
             "solidity": 0.2
            },
            "type": "scatter"
           }
          ],
          "scatter3d": [
           {
            "line": {
             "colorbar": {
              "outlinewidth": 0,
              "ticks": ""
             }
            },
            "marker": {
             "colorbar": {
              "outlinewidth": 0,
              "ticks": ""
             }
            },
            "type": "scatter3d"
           }
          ],
          "scattercarpet": [
           {
            "marker": {
             "colorbar": {
              "outlinewidth": 0,
              "ticks": ""
             }
            },
            "type": "scattercarpet"
           }
          ],
          "scattergeo": [
           {
            "marker": {
             "colorbar": {
              "outlinewidth": 0,
              "ticks": ""
             }
            },
            "type": "scattergeo"
           }
          ],
          "scattergl": [
           {
            "marker": {
             "colorbar": {
              "outlinewidth": 0,
              "ticks": ""
             }
            },
            "type": "scattergl"
           }
          ],
          "scattermap": [
           {
            "marker": {
             "colorbar": {
              "outlinewidth": 0,
              "ticks": ""
             }
            },
            "type": "scattermap"
           }
          ],
          "scattermapbox": [
           {
            "marker": {
             "colorbar": {
              "outlinewidth": 0,
              "ticks": ""
             }
            },
            "type": "scattermapbox"
           }
          ],
          "scatterpolar": [
           {
            "marker": {
             "colorbar": {
              "outlinewidth": 0,
              "ticks": ""
             }
            },
            "type": "scatterpolar"
           }
          ],
          "scatterpolargl": [
           {
            "marker": {
             "colorbar": {
              "outlinewidth": 0,
              "ticks": ""
             }
            },
            "type": "scatterpolargl"
           }
          ],
          "scatterternary": [
           {
            "marker": {
             "colorbar": {
              "outlinewidth": 0,
              "ticks": ""
             }
            },
            "type": "scatterternary"
           }
          ],
          "surface": [
           {
            "colorbar": {
             "outlinewidth": 0,
             "ticks": ""
            },
            "colorscale": [
             [
              0,
              "#0d0887"
             ],
             [
              0.1111111111111111,
              "#46039f"
             ],
             [
              0.2222222222222222,
              "#7201a8"
             ],
             [
              0.3333333333333333,
              "#9c179e"
             ],
             [
              0.4444444444444444,
              "#bd3786"
             ],
             [
              0.5555555555555556,
              "#d8576b"
             ],
             [
              0.6666666666666666,
              "#ed7953"
             ],
             [
              0.7777777777777778,
              "#fb9f3a"
             ],
             [
              0.8888888888888888,
              "#fdca26"
             ],
             [
              1,
              "#f0f921"
             ]
            ],
            "type": "surface"
           }
          ],
          "table": [
           {
            "cells": {
             "fill": {
              "color": "#EBF0F8"
             },
             "line": {
              "color": "white"
             }
            },
            "header": {
             "fill": {
              "color": "#C8D4E3"
             },
             "line": {
              "color": "white"
             }
            },
            "type": "table"
           }
          ]
         },
         "layout": {
          "annotationdefaults": {
           "arrowcolor": "#2a3f5f",
           "arrowhead": 0,
           "arrowwidth": 1
          },
          "autotypenumbers": "strict",
          "coloraxis": {
           "colorbar": {
            "outlinewidth": 0,
            "ticks": ""
           }
          },
          "colorscale": {
           "diverging": [
            [
             0,
             "#8e0152"
            ],
            [
             0.1,
             "#c51b7d"
            ],
            [
             0.2,
             "#de77ae"
            ],
            [
             0.3,
             "#f1b6da"
            ],
            [
             0.4,
             "#fde0ef"
            ],
            [
             0.5,
             "#f7f7f7"
            ],
            [
             0.6,
             "#e6f5d0"
            ],
            [
             0.7,
             "#b8e186"
            ],
            [
             0.8,
             "#7fbc41"
            ],
            [
             0.9,
             "#4d9221"
            ],
            [
             1,
             "#276419"
            ]
           ],
           "sequential": [
            [
             0,
             "#0d0887"
            ],
            [
             0.1111111111111111,
             "#46039f"
            ],
            [
             0.2222222222222222,
             "#7201a8"
            ],
            [
             0.3333333333333333,
             "#9c179e"
            ],
            [
             0.4444444444444444,
             "#bd3786"
            ],
            [
             0.5555555555555556,
             "#d8576b"
            ],
            [
             0.6666666666666666,
             "#ed7953"
            ],
            [
             0.7777777777777778,
             "#fb9f3a"
            ],
            [
             0.8888888888888888,
             "#fdca26"
            ],
            [
             1,
             "#f0f921"
            ]
           ],
           "sequentialminus": [
            [
             0,
             "#0d0887"
            ],
            [
             0.1111111111111111,
             "#46039f"
            ],
            [
             0.2222222222222222,
             "#7201a8"
            ],
            [
             0.3333333333333333,
             "#9c179e"
            ],
            [
             0.4444444444444444,
             "#bd3786"
            ],
            [
             0.5555555555555556,
             "#d8576b"
            ],
            [
             0.6666666666666666,
             "#ed7953"
            ],
            [
             0.7777777777777778,
             "#fb9f3a"
            ],
            [
             0.8888888888888888,
             "#fdca26"
            ],
            [
             1,
             "#f0f921"
            ]
           ]
          },
          "colorway": [
           "#636efa",
           "#EF553B",
           "#00cc96",
           "#ab63fa",
           "#FFA15A",
           "#19d3f3",
           "#FF6692",
           "#B6E880",
           "#FF97FF",
           "#FECB52"
          ],
          "font": {
           "color": "#2a3f5f"
          },
          "geo": {
           "bgcolor": "white",
           "lakecolor": "white",
           "landcolor": "#E5ECF6",
           "showlakes": true,
           "showland": true,
           "subunitcolor": "white"
          },
          "hoverlabel": {
           "align": "left"
          },
          "hovermode": "closest",
          "mapbox": {
           "style": "light"
          },
          "paper_bgcolor": "white",
          "plot_bgcolor": "#E5ECF6",
          "polar": {
           "angularaxis": {
            "gridcolor": "white",
            "linecolor": "white",
            "ticks": ""
           },
           "bgcolor": "#E5ECF6",
           "radialaxis": {
            "gridcolor": "white",
            "linecolor": "white",
            "ticks": ""
           }
          },
          "scene": {
           "xaxis": {
            "backgroundcolor": "#E5ECF6",
            "gridcolor": "white",
            "gridwidth": 2,
            "linecolor": "white",
            "showbackground": true,
            "ticks": "",
            "zerolinecolor": "white"
           },
           "yaxis": {
            "backgroundcolor": "#E5ECF6",
            "gridcolor": "white",
            "gridwidth": 2,
            "linecolor": "white",
            "showbackground": true,
            "ticks": "",
            "zerolinecolor": "white"
           },
           "zaxis": {
            "backgroundcolor": "#E5ECF6",
            "gridcolor": "white",
            "gridwidth": 2,
            "linecolor": "white",
            "showbackground": true,
            "ticks": "",
            "zerolinecolor": "white"
           }
          },
          "shapedefaults": {
           "line": {
            "color": "#2a3f5f"
           }
          },
          "ternary": {
           "aaxis": {
            "gridcolor": "white",
            "linecolor": "white",
            "ticks": ""
           },
           "baxis": {
            "gridcolor": "white",
            "linecolor": "white",
            "ticks": ""
           },
           "bgcolor": "#E5ECF6",
           "caxis": {
            "gridcolor": "white",
            "linecolor": "white",
            "ticks": ""
           }
          },
          "title": {
           "x": 0.05
          },
          "xaxis": {
           "automargin": true,
           "gridcolor": "white",
           "linecolor": "white",
           "ticks": "",
           "title": {
            "standoff": 15
           },
           "zerolinecolor": "white",
           "zerolinewidth": 2
          },
          "yaxis": {
           "automargin": true,
           "gridcolor": "white",
           "linecolor": "white",
           "ticks": "",
           "title": {
            "standoff": 15
           },
           "zerolinecolor": "white",
           "zerolinewidth": 2
          }
         }
        },
        "title": {
         "text": "Validacion Cruzada - stacking_lr"
        },
        "xaxis": {
         "anchor": "y",
         "domain": [
          0,
          1
         ],
         "title": {
          "text": "Metric"
         }
        },
        "yaxis": {
         "anchor": "x",
         "domain": [
          0,
          1
         ],
         "title": {
          "text": "Score"
         }
        }
       }
      }
     },
     "metadata": {},
     "output_type": "display_data"
    },
    {
     "name": "stdout",
     "output_type": "stream",
     "text": [
      "La validacion cruzada muestra la consistencia del modelo en diferentes particiones de los datos.\n"
     ]
    }
   ],
   "source": [
    "# Visualizar los resultados de validacion cruzada\n",
    "cv_data = {\n",
    "    'Fold': list(range(1, 6)) * 3,\n",
    "    'Score': list(cv_scores_accuracy) + list(cv_scores_f1) + list(cv_scores_roc_auc),\n",
    "    'Metric': ['Accuracy'] * 5 + ['F1-Score'] * 5 + ['ROC-AUC'] * 5\n",
    "}\n",
    "\n",
    "cv_df = pd.DataFrame(cv_data)\n",
    "\n",
    "fig = px.box(\n",
    "    cv_df, \n",
    "    x='Metric', \n",
    "    y='Score',\n",
    "    points='all',\n",
    "    title=f\"Validacion Cruzada - {best_ensemble_name}\",\n",
    "    height=400\n",
    ")\n",
    "\n",
    "fig.show()\n",
    "\n",
    "print(\"La validacion cruzada muestra la consistencia del modelo en diferentes particiones de los datos.\")"
   ]
  },
  {
   "cell_type": "markdown",
   "metadata": {},
   "source": [
    "## Meta-Ensemble de los Mejores Modelos\n",
    "\n",
    "Creo un meta-ensemble combinando los mejores modelos de cada tipo de ensemble."
   ]
  },
  {
   "cell_type": "code",
   "execution_count": 23,
   "metadata": {},
   "outputs": [
    {
     "name": "stdout",
     "output_type": "stream",
     "text": [
      "DIAGNOSTICO: Creando meta-ensemble con los mejores modelos...\n",
      "1. Verificando ensemble_df:\n",
      "   - ensemble_df tiene 8 ensembles exitosos\n",
      "   - Tipos disponibles: ['Stacking' 'Voting' 'Bagging']\n",
      "   - Mejores modelos:\n",
      "     6. stacking_lr (Stacking) - F1: 0.8498\n",
      "     5. voting_soft (Voting) - F1: 0.8465\n",
      "     4. voting_hard (Voting) - F1: 0.8417\n",
      "\n",
      "2. Creando meta-ensembles:\n",
      "   - Agregado: stacking_lr (Stacking) - F1: 0.8498\n",
      "   - Agregado: voting_soft (Voting) - F1: 0.8465\n",
      "   - Agregado: bagging_lr (Bagging) - F1: 0.8069\n",
      "\n",
      "3. Verificando modelos para meta-ensemble:\n",
      "   - Modelos seleccionados: 3\n",
      "     OK stacking_lr: StackingClassifier\n",
      "     OK voting_soft: VotingClassifier\n",
      "     OK bagging_lr: BaggingClassifier\n",
      "\n",
      "4. Creando meta-ensembles con 3 estimadores validos...\n",
      "   - Meta-ensembles creados: 1\n",
      "     - meta_voting_hard\n",
      "\n",
      "============================================================\n",
      "Diagnostico de meta-ensemble completado.\n"
     ]
    }
   ],
   "source": [
    "# DIAGNOSTICO COMPLETO: Seleccionar los mejores ensembles para meta-ensemble\n",
    "print(\"DIAGNOSTICO: Creando meta-ensemble con los mejores modelos...\")\n",
    "\n",
    "# Verificar que tenemos ensemble_df con datos\n",
    "print(f\"1. Verificando ensemble_df:\")\n",
    "if 'ensemble_df' in locals() and len(ensemble_df) > 0:\n",
    "    print(f\"   - ensemble_df tiene {len(ensemble_df)} ensembles exitosos\")\n",
    "    print(f\"   - Tipos disponibles: {ensemble_df['type'].unique()}\")\n",
    "    print(f\"   - Mejores modelos:\")\n",
    "    for i, row in ensemble_df.head(3).iterrows():\n",
    "        print(f\"     {i+1}. {row['name']} ({row['type']}) - F1: {row['f1_score']:.4f}\")\n",
    "else:\n",
    "    print(\"   - ERROR: ensemble_df esta vacio o no existe\")\n",
    "    print(\"   - No se pueden crear meta-ensembles sin ensembles exitosos\")\n",
    "    \n",
    "    # Crear DataFrame vacio para evitar errores posteriores\n",
    "    meta_df = pd.DataFrame()\n",
    "    print(\"\\n   SOLUCION: Saltando meta-ensembles\")\n",
    "    \n",
    "    # Mostrar algoritmos individuales como referencia\n",
    "    print(f\"\\n   ALTERNATIVA: Usando algoritmos individuales\")\n",
    "    print(f\"   - Mejor individual: {individual_df.iloc[0]['name']} (F1: {individual_df.iloc[0]['f1_score']:.4f})\")\n",
    "    \n",
    "# Solo si tenemos ensembles exitosos, crear meta-ensembles\n",
    "print(f\"\\n2. Creando meta-ensembles:\")\n",
    "    \n",
    "top_ensembles_per_type = {}\n",
    "for ensemble_type in ensemble_df['type'].unique():\n",
    "        best_of_type = ensemble_df[ensemble_df['type'] == ensemble_type].iloc[0]\n",
    "        model_name = best_of_type['name']\n",
    "        \n",
    "        # Verificar que el modelo existe en all_ensembles\n",
    "        if model_name in all_ensembles:\n",
    "            top_ensembles_per_type[model_name] = all_ensembles[model_name]\n",
    "            print(f\"   - Agregado: {model_name} ({ensemble_type}) - F1: {best_of_type['f1_score']:.4f}\")\n",
    "        else:\n",
    "            print(f\"   - ERROR: {model_name} no encontrado en all_ensembles\")\n",
    "\n",
    "print(f\"\\n3. Verificando modelos para meta-ensemble:\")\n",
    "print(f\"   - Modelos seleccionados: {len(top_ensembles_per_type)}\")\n",
    "    \n",
    "if len(top_ensembles_per_type) >= 2:\n",
    "        # Verificar que todos son objetos clasificador\n",
    "        valid_estimators = []\n",
    "        for name, model in top_ensembles_per_type.items():\n",
    "            if hasattr(model, 'fit') and hasattr(model, 'predict'):\n",
    "                valid_estimators.append((name, model))\n",
    "                print(f\"     OK {name}: {type(model).__name__}\")\n",
    "            else:\n",
    "                print(f\"     ERROR {name}: {type(model)} (NO ES CLASIFICADOR)\")\n",
    "        \n",
    "        if len(valid_estimators) >= 2:\n",
    "            print(f\"\\n4. Creando meta-ensembles con {len(valid_estimators)} estimadores validos...\")\n",
    "            \n",
    "            # Crear meta-ensembles simples\n",
    "            meta_ensembles = {\n",
    "                'meta_voting_hard': VotingClassifier(\n",
    "                    estimators=valid_estimators,\n",
    "                    voting='hard'\n",
    "                )\n",
    "            }\n",
    "            \n",
    "            print(f\"   - Meta-ensembles creados: {len(meta_ensembles)}\")\n",
    "            for name in meta_ensembles.keys():\n",
    "                print(f\"     - {name}\")\n",
    "        else:\n",
    "            print(f\"\\n   ERROR: Solo {len(valid_estimators)} estimadores validos\")\n",
    "            print(\"   Se necesitan al menos 2 para meta-ensemble\")\n",
    "            meta_ensembles = {}\n",
    "else:\n",
    "        print(f\"   ERROR: Solo {len(top_ensembles_per_type)} modelos disponibles\")\n",
    "        print(\"   Se necesitan al menos 2 para meta-ensemble\")\n",
    "        meta_ensembles = {}\n",
    "\n",
    "print(\"\\n\" + \"=\" * 60)\n",
    "print(\"Diagnostico de meta-ensemble completado.\")"
   ]
  },
  {
   "cell_type": "code",
   "execution_count": 24,
   "metadata": {},
   "outputs": [
    {
     "name": "stdout",
     "output_type": "stream",
     "text": [
      "Evaluando meta-ensembles...\n",
      "Creando meta-ensembles con 8 ensembles exitosos...\n",
      "Ensembles seleccionados para meta-ensemble:\n",
      "  OK stacking_lr (Stacking) - F1: 0.8498\n",
      "  OK voting_soft (Voting) - F1: 0.8465\n",
      "  OK voting_hard (Voting) - F1: 0.8417\n",
      "\n",
      "Creando meta-ensemble con 3 estimadores...\n",
      "Evaluando meta_voting_hard... F1: 0.8368, AUC: 0.5917\n",
      "\n",
      "==================================================\n",
      "Resultados de meta-ensembles:\n",
      "               name  accuracy  f1_score  roc_auc\n",
      "0  meta_voting_hard     0.816    0.8368   0.5917\n",
      "\n",
      "Meta-ensemble creado exitosamente:\n",
      "  Nombre: meta_voting_hard\n",
      "  F1-Score: 0.8368\n",
      "  Accuracy: 0.8160\n",
      "  ROC-AUC: 0.5917\n"
     ]
    }
   ],
   "source": [
    "# Evaluar meta-ensembles \n",
    "print(\"Evaluando meta-ensembles...\")\n",
    "\n",
    "meta_results = []\n",
    "\n",
    "# Verificar que tenemos ensembles exitosos\n",
    "if len(ensemble_df) >= 2:\n",
    "    print(f\"Creando meta-ensembles con {len(ensemble_df)} ensembles exitosos...\")\n",
    "    \n",
    "    # Seleccionar los TOP 3 mejores ensembles (sin importar el tipo)\n",
    "    top_3_ensembles = ensemble_df.head(3)\n",
    "    \n",
    "    print(\"Ensembles seleccionados para meta-ensemble:\")\n",
    "    valid_estimators = []\n",
    "    \n",
    "    for _, row in top_3_ensembles.iterrows():\n",
    "        name = row['name']\n",
    "        if name in all_ensembles:\n",
    "            model = all_ensembles[name]\n",
    "            # Verificar que es un clasificador valido\n",
    "            if hasattr(model, 'fit') and hasattr(model, 'predict'):\n",
    "                valid_estimators.append((name, model))\n",
    "                print(f\"  OK {name} ({row['type']}) - F1: {row['f1_score']:.4f}\")\n",
    "            else:\n",
    "                print(f\"  ERROR {name} - No es un clasificador valido\")\n",
    "        else:\n",
    "            print(f\"  ERROR {name} - No encontrado en all_ensembles\")\n",
    "    \n",
    "    if len(valid_estimators) >= 2:\n",
    "        print(f\"\\nCreando meta-ensemble con {len(valid_estimators)} estimadores...\")\n",
    "        \n",
    "        # Crear solo voting hard (mas compatible)\n",
    "        try:\n",
    "            meta_voting = VotingClassifier(\n",
    "                estimators=valid_estimators,\n",
    "                voting='hard'\n",
    "            )\n",
    "            \n",
    "            print(\"Evaluando meta_voting_hard...\", end=\" \")\n",
    "            \n",
    "            # Usar matrices densas para maxima compatibilidad\n",
    "            meta_voting.fit(X_train_dense, y_train)\n",
    "            y_pred = meta_voting.predict(X_test_dense)\n",
    "            \n",
    "            # Calcular metricas\n",
    "            from sklearn.metrics import accuracy_score, f1_score, roc_auc_score\n",
    "            \n",
    "            accuracy_val = accuracy_score(y_test, y_pred)\n",
    "            f1_val = f1_score(y_test, y_pred)\n",
    "            \n",
    "            # Para AUC, intentar obtener probabilidades\n",
    "            try:\n",
    "                # Voting hard no tiene predict_proba, usar score promedio de componentes\n",
    "                auc_val = 0.0\n",
    "                for est_name, estimator in valid_estimators:\n",
    "                    if hasattr(estimator, 'predict_proba'):\n",
    "                        est_proba = estimator.predict_proba(X_test_dense)[:, 1]\n",
    "                        auc_val += roc_auc_score(y_test, est_proba)\n",
    "                auc_val = auc_val / len(valid_estimators) if auc_val > 0 else 0.0\n",
    "            except:\n",
    "                auc_val = 0.0\n",
    "            \n",
    "            meta_results.append({\n",
    "                'name': 'meta_voting_hard',\n",
    "                'accuracy': accuracy_val,\n",
    "                'f1_score': f1_val,\n",
    "                'roc_auc': auc_val,\n",
    "                'success': True\n",
    "            })\n",
    "            \n",
    "            print(f\"F1: {f1_val:.4f}, AUC: {auc_val:.4f}\")\n",
    "            \n",
    "        except Exception as e:\n",
    "            print(f\"ERROR: {str(e)[:50]}...\")\n",
    "            meta_results.append({\n",
    "                'name': 'meta_voting_hard',\n",
    "                'accuracy': 0.0,\n",
    "                'f1_score': 0.0,\n",
    "                'roc_auc': 0.0,\n",
    "                'success': False\n",
    "            })\n",
    "    else:\n",
    "        print(f\"ERROR: Solo {len(valid_estimators)} estimadores validos disponibles\")\n",
    "else:\n",
    "    print(f\"Solo {len(ensemble_df)} ensembles exitosos. Se necesitan al menos 2.\")\n",
    "\n",
    "print(\"\\n\" + \"=\" * 50)\n",
    "\n",
    "# Procesar resultados\n",
    "successful_meta_results = [r for r in meta_results if r['success']]\n",
    "\n",
    "if len(successful_meta_results) > 0:\n",
    "    meta_df = pd.DataFrame(successful_meta_results)\n",
    "    \n",
    "    print(\"Resultados de meta-ensembles:\")\n",
    "    print(meta_df[['name', 'accuracy', 'f1_score', 'roc_auc']].round(4))\n",
    "    \n",
    "    # Mejor meta-ensemble\n",
    "    best_meta = meta_df.iloc[0]\n",
    "    print(f\"\\nMeta-ensemble creado exitosamente:\")\n",
    "    print(f\"  Nombre: {best_meta['name']}\")\n",
    "    print(f\"  F1-Score: {best_meta['f1_score']:.4f}\")\n",
    "    print(f\"  Accuracy: {best_meta['accuracy']:.4f}\")\n",
    "    print(f\"  ROC-AUC: {best_meta['roc_auc']:.4f}\")\n",
    "else:\n",
    "    print(\"No se pudieron crear meta-ensembles exitosamente.\")\n",
    "    print(\"Los ensembles individuales funcionaron bien.\")\n",
    "    \n",
    "    # Crear DataFrame vacio para consistencia\n",
    "    meta_df = pd.DataFrame()\n",
    "    \n",
    "    # Usar el mejor ensemble como referencia\n",
    "    best_ensemble = ensemble_df.iloc[0]\n",
    "    print(f\"\\nMejor ensemble disponible: {best_ensemble['name']}\")\n",
    "    print(f\"  F1-Score: {best_ensemble['f1_score']:.4f}\")"
   ]
  },
  {
   "cell_type": "markdown",
   "metadata": {},
   "source": [
    "## Comparacion Final de Todos los Enfoques\n",
    "\n",
    "Comparo todos los enfoques: algoritmos individuales, ensembles simples y meta-ensembles."
   ]
  },
  {
   "cell_type": "code",
   "execution_count": 25,
   "metadata": {},
   "outputs": [
    {
     "name": "stdout",
     "output_type": "stream",
     "text": [
      "Comparacion final de todos los enfoques:\n",
      "             Categoria            Modelo  F1-Score  ROC-AUC  Accuracy\n",
      "0     Mejor Individual          catboost    0.8500   0.8744    0.8302\n",
      "1       Mejor Ensemble       stacking_lr    0.8498   0.8903    0.8349\n",
      "2  Mejor Meta-Ensemble  meta_voting_hard    0.8368   0.5917    0.8160\n",
      "\n",
      "CAMPEON ABSOLUTO:\n",
      "  Modelo: catboost\n",
      "  Categoria: Mejor Individual\n",
      "  F1-Score: 0.8500\n",
      "  ROC-AUC: 0.8744\n",
      "  Accuracy: 0.8302\n",
      "\n",
      "Mejora de ensemble sobre algoritmo individual: -0.03%\n"
     ]
    }
   ],
   "source": [
    "# Combinar todos los resultados para comparacion final\n",
    "print(\"Comparacion final de todos los enfoques:\")\n",
    "\n",
    "# Mejores de cada categoria\n",
    "best_individual = individual_df.iloc[0]\n",
    "\n",
    "# Verificar si tenemos ensemble exitoso\n",
    "if len(successful_ensemble_results) > 0:\n",
    "    best_ensemble = champion_ensemble\n",
    "    has_ensemble = True\n",
    "else:\n",
    "    # Usar el mejor individual como ensemble de referencia\n",
    "    best_ensemble = best_individual.to_dict()\n",
    "    best_ensemble['type'] = 'Individual (fallback)'\n",
    "    has_ensemble = False\n",
    "\n",
    "comparison_summary = [\n",
    "    {\n",
    "        'Categoria': 'Mejor Individual',\n",
    "        'Modelo': best_individual['name'],\n",
    "        'F1-Score': best_individual['f1_score'],\n",
    "        'ROC-AUC': best_individual['roc_auc'],\n",
    "        'Accuracy': best_individual['accuracy']\n",
    "    }\n",
    "]\n",
    "\n",
    "if has_ensemble:\n",
    "    comparison_summary.append({\n",
    "        'Categoria': 'Mejor Ensemble',\n",
    "        'Modelo': best_ensemble['name'],\n",
    "        'F1-Score': best_ensemble['f1_score'],\n",
    "        'ROC-AUC': best_ensemble['roc_auc'],\n",
    "        'Accuracy': best_ensemble['accuracy']\n",
    "    })\n",
    "\n",
    "# Verificar si tenemos meta-ensembles\n",
    "if 'meta_df' in locals() and len(meta_df) > 0:\n",
    "    best_meta = meta_df.iloc[0]\n",
    "    comparison_summary.append({\n",
    "        'Categoria': 'Mejor Meta-Ensemble',\n",
    "        'Modelo': best_meta['name'],\n",
    "        'F1-Score': best_meta['f1_score'],\n",
    "        'ROC-AUC': best_meta['roc_auc'],\n",
    "        'Accuracy': best_meta['accuracy']\n",
    "    })\n",
    "\n",
    "comparison_df = pd.DataFrame(comparison_summary)\n",
    "print(comparison_df.round(4))\n",
    "\n",
    "# Encontrar el campeon absoluto\n",
    "absolute_champion = comparison_df.loc[comparison_df['F1-Score'].idxmax()]\n",
    "\n",
    "print(f\"\\nCAMPEON ABSOLUTO:\")\n",
    "print(f\"  Modelo: {absolute_champion['Modelo']}\")\n",
    "print(f\"  Categoria: {absolute_champion['Categoria']}\")\n",
    "print(f\"  F1-Score: {absolute_champion['F1-Score']:.4f}\")\n",
    "print(f\"  ROC-AUC: {absolute_champion['ROC-AUC']:.4f}\")\n",
    "print(f\"  Accuracy: {absolute_champion['Accuracy']:.4f}\")\n",
    "\n",
    "# Calcular mejora de ensemble sobre individual\n",
    "if has_ensemble and best_ensemble['f1_score'] != best_individual['f1_score']:\n",
    "    improvement = ((best_ensemble['f1_score'] - best_individual['f1_score']) / best_individual['f1_score']) * 100\n",
    "    print(f\"\\nMejora de ensemble sobre algoritmo individual: {improvement:.2f}%\")\n",
    "else:\n",
    "    print(f\"\\nNo hay mejora medible de ensemble (problemas de compatibilidad)\")\n",
    "    print(f\"El mejor algoritmo individual sigue siendo la referencia\")"
   ]
  },
  {
   "cell_type": "code",
   "execution_count": 26,
   "metadata": {},
   "outputs": [
    {
     "data": {
      "application/vnd.plotly.v1+json": {
       "config": {
        "plotlyServerURL": "https://plot.ly"
       },
       "data": [
        {
         "marker": {
          "color": [
           "lightblue",
           "lightcoral",
           "lightgreen"
          ]
         },
         "text": [
          "catboost<br>F1: 0.8500",
          "stacking_lr<br>F1: 0.8498",
          "meta_voting_hard<br>F1: 0.8368"
         ],
         "textposition": "auto",
         "type": "bar",
         "x": [
          "Mejor Individual",
          "Mejor Ensemble",
          "Mejor Meta-Ensemble"
         ],
         "y": [
          0.85,
          0.8497854077253219,
          0.8368200836820083
         ]
        }
       ],
       "layout": {
        "annotations": [
         {
          "showarrow": false,
          "text": "Campeon: 0.8500",
          "x": 1,
          "xanchor": "right",
          "xref": "x domain",
          "y": 0.85,
          "yanchor": "bottom",
          "yref": "y"
         }
        ],
        "height": 500,
        "shapes": [
         {
          "line": {
           "color": "red",
           "dash": "dash"
          },
          "type": "line",
          "x0": 0,
          "x1": 1,
          "xref": "x domain",
          "y0": 0.85,
          "y1": 0.85,
          "yref": "y"
         }
        ],
        "template": {
         "data": {
          "bar": [
           {
            "error_x": {
             "color": "#2a3f5f"
            },
            "error_y": {
             "color": "#2a3f5f"
            },
            "marker": {
             "line": {
              "color": "#E5ECF6",
              "width": 0.5
             },
             "pattern": {
              "fillmode": "overlay",
              "size": 10,
              "solidity": 0.2
             }
            },
            "type": "bar"
           }
          ],
          "barpolar": [
           {
            "marker": {
             "line": {
              "color": "#E5ECF6",
              "width": 0.5
             },
             "pattern": {
              "fillmode": "overlay",
              "size": 10,
              "solidity": 0.2
             }
            },
            "type": "barpolar"
           }
          ],
          "carpet": [
           {
            "aaxis": {
             "endlinecolor": "#2a3f5f",
             "gridcolor": "white",
             "linecolor": "white",
             "minorgridcolor": "white",
             "startlinecolor": "#2a3f5f"
            },
            "baxis": {
             "endlinecolor": "#2a3f5f",
             "gridcolor": "white",
             "linecolor": "white",
             "minorgridcolor": "white",
             "startlinecolor": "#2a3f5f"
            },
            "type": "carpet"
           }
          ],
          "choropleth": [
           {
            "colorbar": {
             "outlinewidth": 0,
             "ticks": ""
            },
            "type": "choropleth"
           }
          ],
          "contour": [
           {
            "colorbar": {
             "outlinewidth": 0,
             "ticks": ""
            },
            "colorscale": [
             [
              0,
              "#0d0887"
             ],
             [
              0.1111111111111111,
              "#46039f"
             ],
             [
              0.2222222222222222,
              "#7201a8"
             ],
             [
              0.3333333333333333,
              "#9c179e"
             ],
             [
              0.4444444444444444,
              "#bd3786"
             ],
             [
              0.5555555555555556,
              "#d8576b"
             ],
             [
              0.6666666666666666,
              "#ed7953"
             ],
             [
              0.7777777777777778,
              "#fb9f3a"
             ],
             [
              0.8888888888888888,
              "#fdca26"
             ],
             [
              1,
              "#f0f921"
             ]
            ],
            "type": "contour"
           }
          ],
          "contourcarpet": [
           {
            "colorbar": {
             "outlinewidth": 0,
             "ticks": ""
            },
            "type": "contourcarpet"
           }
          ],
          "heatmap": [
           {
            "colorbar": {
             "outlinewidth": 0,
             "ticks": ""
            },
            "colorscale": [
             [
              0,
              "#0d0887"
             ],
             [
              0.1111111111111111,
              "#46039f"
             ],
             [
              0.2222222222222222,
              "#7201a8"
             ],
             [
              0.3333333333333333,
              "#9c179e"
             ],
             [
              0.4444444444444444,
              "#bd3786"
             ],
             [
              0.5555555555555556,
              "#d8576b"
             ],
             [
              0.6666666666666666,
              "#ed7953"
             ],
             [
              0.7777777777777778,
              "#fb9f3a"
             ],
             [
              0.8888888888888888,
              "#fdca26"
             ],
             [
              1,
              "#f0f921"
             ]
            ],
            "type": "heatmap"
           }
          ],
          "histogram": [
           {
            "marker": {
             "pattern": {
              "fillmode": "overlay",
              "size": 10,
              "solidity": 0.2
             }
            },
            "type": "histogram"
           }
          ],
          "histogram2d": [
           {
            "colorbar": {
             "outlinewidth": 0,
             "ticks": ""
            },
            "colorscale": [
             [
              0,
              "#0d0887"
             ],
             [
              0.1111111111111111,
              "#46039f"
             ],
             [
              0.2222222222222222,
              "#7201a8"
             ],
             [
              0.3333333333333333,
              "#9c179e"
             ],
             [
              0.4444444444444444,
              "#bd3786"
             ],
             [
              0.5555555555555556,
              "#d8576b"
             ],
             [
              0.6666666666666666,
              "#ed7953"
             ],
             [
              0.7777777777777778,
              "#fb9f3a"
             ],
             [
              0.8888888888888888,
              "#fdca26"
             ],
             [
              1,
              "#f0f921"
             ]
            ],
            "type": "histogram2d"
           }
          ],
          "histogram2dcontour": [
           {
            "colorbar": {
             "outlinewidth": 0,
             "ticks": ""
            },
            "colorscale": [
             [
              0,
              "#0d0887"
             ],
             [
              0.1111111111111111,
              "#46039f"
             ],
             [
              0.2222222222222222,
              "#7201a8"
             ],
             [
              0.3333333333333333,
              "#9c179e"
             ],
             [
              0.4444444444444444,
              "#bd3786"
             ],
             [
              0.5555555555555556,
              "#d8576b"
             ],
             [
              0.6666666666666666,
              "#ed7953"
             ],
             [
              0.7777777777777778,
              "#fb9f3a"
             ],
             [
              0.8888888888888888,
              "#fdca26"
             ],
             [
              1,
              "#f0f921"
             ]
            ],
            "type": "histogram2dcontour"
           }
          ],
          "mesh3d": [
           {
            "colorbar": {
             "outlinewidth": 0,
             "ticks": ""
            },
            "type": "mesh3d"
           }
          ],
          "parcoords": [
           {
            "line": {
             "colorbar": {
              "outlinewidth": 0,
              "ticks": ""
             }
            },
            "type": "parcoords"
           }
          ],
          "pie": [
           {
            "automargin": true,
            "type": "pie"
           }
          ],
          "scatter": [
           {
            "fillpattern": {
             "fillmode": "overlay",
             "size": 10,
             "solidity": 0.2
            },
            "type": "scatter"
           }
          ],
          "scatter3d": [
           {
            "line": {
             "colorbar": {
              "outlinewidth": 0,
              "ticks": ""
             }
            },
            "marker": {
             "colorbar": {
              "outlinewidth": 0,
              "ticks": ""
             }
            },
            "type": "scatter3d"
           }
          ],
          "scattercarpet": [
           {
            "marker": {
             "colorbar": {
              "outlinewidth": 0,
              "ticks": ""
             }
            },
            "type": "scattercarpet"
           }
          ],
          "scattergeo": [
           {
            "marker": {
             "colorbar": {
              "outlinewidth": 0,
              "ticks": ""
             }
            },
            "type": "scattergeo"
           }
          ],
          "scattergl": [
           {
            "marker": {
             "colorbar": {
              "outlinewidth": 0,
              "ticks": ""
             }
            },
            "type": "scattergl"
           }
          ],
          "scattermap": [
           {
            "marker": {
             "colorbar": {
              "outlinewidth": 0,
              "ticks": ""
             }
            },
            "type": "scattermap"
           }
          ],
          "scattermapbox": [
           {
            "marker": {
             "colorbar": {
              "outlinewidth": 0,
              "ticks": ""
             }
            },
            "type": "scattermapbox"
           }
          ],
          "scatterpolar": [
           {
            "marker": {
             "colorbar": {
              "outlinewidth": 0,
              "ticks": ""
             }
            },
            "type": "scatterpolar"
           }
          ],
          "scatterpolargl": [
           {
            "marker": {
             "colorbar": {
              "outlinewidth": 0,
              "ticks": ""
             }
            },
            "type": "scatterpolargl"
           }
          ],
          "scatterternary": [
           {
            "marker": {
             "colorbar": {
              "outlinewidth": 0,
              "ticks": ""
             }
            },
            "type": "scatterternary"
           }
          ],
          "surface": [
           {
            "colorbar": {
             "outlinewidth": 0,
             "ticks": ""
            },
            "colorscale": [
             [
              0,
              "#0d0887"
             ],
             [
              0.1111111111111111,
              "#46039f"
             ],
             [
              0.2222222222222222,
              "#7201a8"
             ],
             [
              0.3333333333333333,
              "#9c179e"
             ],
             [
              0.4444444444444444,
              "#bd3786"
             ],
             [
              0.5555555555555556,
              "#d8576b"
             ],
             [
              0.6666666666666666,
              "#ed7953"
             ],
             [
              0.7777777777777778,
              "#fb9f3a"
             ],
             [
              0.8888888888888888,
              "#fdca26"
             ],
             [
              1,
              "#f0f921"
             ]
            ],
            "type": "surface"
           }
          ],
          "table": [
           {
            "cells": {
             "fill": {
              "color": "#EBF0F8"
             },
             "line": {
              "color": "white"
             }
            },
            "header": {
             "fill": {
              "color": "#C8D4E3"
             },
             "line": {
              "color": "white"
             }
            },
            "type": "table"
           }
          ]
         },
         "layout": {
          "annotationdefaults": {
           "arrowcolor": "#2a3f5f",
           "arrowhead": 0,
           "arrowwidth": 1
          },
          "autotypenumbers": "strict",
          "coloraxis": {
           "colorbar": {
            "outlinewidth": 0,
            "ticks": ""
           }
          },
          "colorscale": {
           "diverging": [
            [
             0,
             "#8e0152"
            ],
            [
             0.1,
             "#c51b7d"
            ],
            [
             0.2,
             "#de77ae"
            ],
            [
             0.3,
             "#f1b6da"
            ],
            [
             0.4,
             "#fde0ef"
            ],
            [
             0.5,
             "#f7f7f7"
            ],
            [
             0.6,
             "#e6f5d0"
            ],
            [
             0.7,
             "#b8e186"
            ],
            [
             0.8,
             "#7fbc41"
            ],
            [
             0.9,
             "#4d9221"
            ],
            [
             1,
             "#276419"
            ]
           ],
           "sequential": [
            [
             0,
             "#0d0887"
            ],
            [
             0.1111111111111111,
             "#46039f"
            ],
            [
             0.2222222222222222,
             "#7201a8"
            ],
            [
             0.3333333333333333,
             "#9c179e"
            ],
            [
             0.4444444444444444,
             "#bd3786"
            ],
            [
             0.5555555555555556,
             "#d8576b"
            ],
            [
             0.6666666666666666,
             "#ed7953"
            ],
            [
             0.7777777777777778,
             "#fb9f3a"
            ],
            [
             0.8888888888888888,
             "#fdca26"
            ],
            [
             1,
             "#f0f921"
            ]
           ],
           "sequentialminus": [
            [
             0,
             "#0d0887"
            ],
            [
             0.1111111111111111,
             "#46039f"
            ],
            [
             0.2222222222222222,
             "#7201a8"
            ],
            [
             0.3333333333333333,
             "#9c179e"
            ],
            [
             0.4444444444444444,
             "#bd3786"
            ],
            [
             0.5555555555555556,
             "#d8576b"
            ],
            [
             0.6666666666666666,
             "#ed7953"
            ],
            [
             0.7777777777777778,
             "#fb9f3a"
            ],
            [
             0.8888888888888888,
             "#fdca26"
            ],
            [
             1,
             "#f0f921"
            ]
           ]
          },
          "colorway": [
           "#636efa",
           "#EF553B",
           "#00cc96",
           "#ab63fa",
           "#FFA15A",
           "#19d3f3",
           "#FF6692",
           "#B6E880",
           "#FF97FF",
           "#FECB52"
          ],
          "font": {
           "color": "#2a3f5f"
          },
          "geo": {
           "bgcolor": "white",
           "lakecolor": "white",
           "landcolor": "#E5ECF6",
           "showlakes": true,
           "showland": true,
           "subunitcolor": "white"
          },
          "hoverlabel": {
           "align": "left"
          },
          "hovermode": "closest",
          "mapbox": {
           "style": "light"
          },
          "paper_bgcolor": "white",
          "plot_bgcolor": "#E5ECF6",
          "polar": {
           "angularaxis": {
            "gridcolor": "white",
            "linecolor": "white",
            "ticks": ""
           },
           "bgcolor": "#E5ECF6",
           "radialaxis": {
            "gridcolor": "white",
            "linecolor": "white",
            "ticks": ""
           }
          },
          "scene": {
           "xaxis": {
            "backgroundcolor": "#E5ECF6",
            "gridcolor": "white",
            "gridwidth": 2,
            "linecolor": "white",
            "showbackground": true,
            "ticks": "",
            "zerolinecolor": "white"
           },
           "yaxis": {
            "backgroundcolor": "#E5ECF6",
            "gridcolor": "white",
            "gridwidth": 2,
            "linecolor": "white",
            "showbackground": true,
            "ticks": "",
            "zerolinecolor": "white"
           },
           "zaxis": {
            "backgroundcolor": "#E5ECF6",
            "gridcolor": "white",
            "gridwidth": 2,
            "linecolor": "white",
            "showbackground": true,
            "ticks": "",
            "zerolinecolor": "white"
           }
          },
          "shapedefaults": {
           "line": {
            "color": "#2a3f5f"
           }
          },
          "ternary": {
           "aaxis": {
            "gridcolor": "white",
            "linecolor": "white",
            "ticks": ""
           },
           "baxis": {
            "gridcolor": "white",
            "linecolor": "white",
            "ticks": ""
           },
           "bgcolor": "#E5ECF6",
           "caxis": {
            "gridcolor": "white",
            "linecolor": "white",
            "ticks": ""
           }
          },
          "title": {
           "x": 0.05
          },
          "xaxis": {
           "automargin": true,
           "gridcolor": "white",
           "linecolor": "white",
           "ticks": "",
           "title": {
            "standoff": 15
           },
           "zerolinecolor": "white",
           "zerolinewidth": 2
          },
          "yaxis": {
           "automargin": true,
           "gridcolor": "white",
           "linecolor": "white",
           "ticks": "",
           "title": {
            "standoff": 15
           },
           "zerolinecolor": "white",
           "zerolinewidth": 2
          }
         }
        },
        "title": {
         "text": "Comparacion Final: Individual vs Ensemble vs Meta-Ensemble"
        },
        "xaxis": {
         "title": {
          "text": "Categoria"
         }
        },
        "yaxis": {
         "title": {
          "text": "F1-Score"
         }
        }
       }
      }
     },
     "metadata": {},
     "output_type": "display_data"
    },
    {
     "name": "stdout",
     "output_type": "stream",
     "text": [
      "La visualizacion muestra la evolucion del rendimiento desde algoritmos individuales hasta meta-ensembles.\n"
     ]
    }
   ],
   "source": [
    "# Visualizar la comparacion final\n",
    "fig = go.Figure()\n",
    "\n",
    "# Añadir barras para cada categoria\n",
    "categories = comparison_df['Categoria'].tolist()\n",
    "f1_scores = comparison_df['F1-Score'].tolist()\n",
    "models = comparison_df['Modelo'].tolist()\n",
    "\n",
    "colors = ['lightblue', 'lightcoral', 'lightgreen'][:len(categories)]\n",
    "\n",
    "fig.add_trace(go.Bar(\n",
    "    x=categories,\n",
    "    y=f1_scores,\n",
    "    text=[f'{model}<br>F1: {score:.4f}' for model, score in zip(models, f1_scores)],\n",
    "    textposition='auto',\n",
    "    marker_color=colors\n",
    "))\n",
    "\n",
    "fig.update_layout(\n",
    "    title=\"Comparacion Final: Individual vs Ensemble vs Meta-Ensemble\",\n",
    "    xaxis_title=\"Categoria\",\n",
    "    yaxis_title=\"F1-Score\",\n",
    "    height=500\n",
    ")\n",
    "\n",
    "# Linea horizontal para destacar al campeon\n",
    "fig.add_hline(\n",
    "    y=absolute_champion['F1-Score'],\n",
    "    line_dash=\"dash\",\n",
    "    line_color=\"red\",\n",
    "    annotation_text=f\"Campeon: {absolute_champion['F1-Score']:.4f}\"\n",
    ")\n",
    "\n",
    "fig.show()\n",
    "\n",
    "print(\"La visualizacion muestra la evolucion del rendimiento desde algoritmos individuales hasta meta-ensembles.\")"
   ]
  },
  {
   "cell_type": "markdown",
   "metadata": {},
   "source": [
    "## Analisis por Tipos de Ensemble\n",
    "\n",
    "Analizo el rendimiento promedio de cada tipo de ensemble implementado."
   ]
  },
  {
   "cell_type": "code",
   "execution_count": 27,
   "metadata": {},
   "outputs": [
    {
     "name": "stdout",
     "output_type": "stream",
     "text": [
      "Analisis por tipos de ensemble:\n",
      "          accuracy_mean  accuracy_std  accuracy_max  f1_score_mean  \\\n",
      "type                                                                 \n",
      "Bagging          0.6934        0.1358        0.7877         0.7638   \n",
      "Stacking         0.8145        0.0179        0.8349         0.8267   \n",
      "Voting           0.8231        0.0033        0.8255         0.8441   \n",
      "\n",
      "          f1_score_std  f1_score_max  roc_auc_mean  roc_auc_std  roc_auc_max  \\\n",
      "type                                                                           \n",
      "Bagging         0.0568        0.8069        0.7873       0.1038       0.8552   \n",
      "Stacking        0.0200        0.8498        0.8892       0.0009       0.8903   \n",
      "Voting          0.0034        0.8465        0.4425       0.6258       0.8850   \n",
      "\n",
      "          cantidad  \n",
      "type                \n",
      "Bagging          3  \n",
      "Stacking         3  \n",
      "Voting           2  \n",
      "\n",
      "Analisis de consistencia por tipo (menor std es mejor):\n",
      "type\n",
      "Voting      0.0034\n",
      "Stacking    0.0200\n",
      "Bagging     0.0568\n",
      "Name: f1_score, dtype: float64\n",
      "\n",
      "Tipo mas consistente: Voting (std = 0.0034)\n",
      "Tipo con mejor rendimiento promedio: Voting (F1 = 0.8441)\n"
     ]
    }
   ],
   "source": [
    "# Analizar rendimiento por tipo de ensemble\n",
    "print(\"Analisis por tipos de ensemble:\")\n",
    "\n",
    "# Verificar si tenemos ensembles exitosos\n",
    "if len(successful_ensemble_results) > 0 and len(ensemble_df) > 0:\n",
    "    type_analysis = ensemble_df.groupby('type').agg({\n",
    "        'accuracy': ['mean', 'std', 'max'],\n",
    "        'f1_score': ['mean', 'std', 'max'],\n",
    "        'roc_auc': ['mean', 'std', 'max'],\n",
    "        'name': 'count'\n",
    "    }).round(4)\n",
    "\n",
    "    # Renombrar columnas para claridad\n",
    "    type_analysis.columns = ['_'.join(col).strip() for col in type_analysis.columns]\n",
    "    type_analysis = type_analysis.rename(columns={'name_count': 'cantidad'})\n",
    "\n",
    "    print(type_analysis)\n",
    "\n",
    "    # Encontrar el tipo mas consistente (menor desviacion estandar)\n",
    "    print(\"\\nAnalisis de consistencia por tipo (menor std es mejor):\")\n",
    "    consistency_ranking = ensemble_df.groupby('type')['f1_score'].std().sort_values()\n",
    "    print(consistency_ranking.round(4))\n",
    "\n",
    "    if len(consistency_ranking) > 0:\n",
    "        most_consistent_type = consistency_ranking.index[0]\n",
    "        print(f\"\\nTipo mas consistente: {most_consistent_type} (std = {consistency_ranking.iloc[0]:.4f})\")\n",
    "\n",
    "        # Tipo con mejor rendimiento promedio\n",
    "        avg_performance = ensemble_df.groupby('type')['f1_score'].mean().sort_values(ascending=False)\n",
    "        best_avg_type = avg_performance.index[0]\n",
    "        print(f\"Tipo con mejor rendimiento promedio: {best_avg_type} (F1 = {avg_performance.iloc[0]:.4f})\")\n",
    "    else:\n",
    "        print(\"No hay suficientes tipos de ensemble para analisis de consistencia\")\n",
    "        most_consistent_type = \"N/A\"\n",
    "        best_avg_type = \"N/A\"\n",
    "else:\n",
    "    print(\"No hay ensembles exitosos para analizar por tipos.\")\n",
    "    print(\"Motivo: Todos los ensembles fallaron por problemas de compatibilidad.\")\n",
    "    print(\"\\nResultados disponibles:\")\n",
    "    print(f\"- {len(individual_df)} algoritmos individuales evaluados exitosamente\")\n",
    "    print(f\"- Mejor individual: {individual_df.iloc[0]['name']} (F1: {individual_df.iloc[0]['f1_score']:.4f})\")\n",
    "    \n",
    "    # Definir variables por defecto para uso posterior\n",
    "    most_consistent_type = \"Individual\"\n",
    "    best_avg_type = \"Individual\""
   ]
  },
  {
   "cell_type": "code",
   "execution_count": 28,
   "metadata": {},
   "outputs": [
    {
     "data": {
      "application/vnd.plotly.v1+json": {
       "config": {
        "plotlyServerURL": "https://plot.ly"
       },
       "data": [
        {
         "name": "Stacking",
         "type": "box",
         "xaxis": "x",
         "y": {
          "bdata": "iYvZKnEx6z/v0Pb32B3qP33ZoMmXDeo/",
          "dtype": "f8"
         },
         "yaxis": "y"
        },
        {
         "name": "Voting",
         "type": "box",
         "xaxis": "x",
         "y": {
          "bdata": "m04Wm04W6z/v7u7u7u7qPw==",
          "dtype": "f8"
         },
         "yaxis": "y"
        },
        {
         "name": "Bagging",
         "type": "box",
         "xaxis": "x",
         "y": {
          "bdata": "1Y7OpNrR6T9mUCpMvB/pP2wJvs1fYeY/",
          "dtype": "f8"
         },
         "yaxis": "y"
        },
        {
         "marker": {
          "color": "lightcoral"
         },
         "name": "Std F1-Score",
         "type": "bar",
         "x": [
          "Voting",
          "Stacking",
          "Bagging"
         ],
         "xaxis": "x2",
         "y": {
          "bdata": "CSlWnmfXaz8O9p6URICUP7dAAktnGK0/",
          "dtype": "f8"
         },
         "yaxis": "y2"
        }
       ],
       "layout": {
        "annotations": [
         {
          "font": {
           "size": 16
          },
          "showarrow": false,
          "text": "F1-Score por Tipo de Ensemble",
          "x": 0.225,
          "xanchor": "center",
          "xref": "paper",
          "y": 1,
          "yanchor": "bottom",
          "yref": "paper"
         },
         {
          "font": {
           "size": 16
          },
          "showarrow": false,
          "text": "Varianza por Tipo",
          "x": 0.775,
          "xanchor": "center",
          "xref": "paper",
          "y": 1,
          "yanchor": "bottom",
          "yref": "paper"
         }
        ],
        "height": 500,
        "showlegend": false,
        "template": {
         "data": {
          "bar": [
           {
            "error_x": {
             "color": "#2a3f5f"
            },
            "error_y": {
             "color": "#2a3f5f"
            },
            "marker": {
             "line": {
              "color": "#E5ECF6",
              "width": 0.5
             },
             "pattern": {
              "fillmode": "overlay",
              "size": 10,
              "solidity": 0.2
             }
            },
            "type": "bar"
           }
          ],
          "barpolar": [
           {
            "marker": {
             "line": {
              "color": "#E5ECF6",
              "width": 0.5
             },
             "pattern": {
              "fillmode": "overlay",
              "size": 10,
              "solidity": 0.2
             }
            },
            "type": "barpolar"
           }
          ],
          "carpet": [
           {
            "aaxis": {
             "endlinecolor": "#2a3f5f",
             "gridcolor": "white",
             "linecolor": "white",
             "minorgridcolor": "white",
             "startlinecolor": "#2a3f5f"
            },
            "baxis": {
             "endlinecolor": "#2a3f5f",
             "gridcolor": "white",
             "linecolor": "white",
             "minorgridcolor": "white",
             "startlinecolor": "#2a3f5f"
            },
            "type": "carpet"
           }
          ],
          "choropleth": [
           {
            "colorbar": {
             "outlinewidth": 0,
             "ticks": ""
            },
            "type": "choropleth"
           }
          ],
          "contour": [
           {
            "colorbar": {
             "outlinewidth": 0,
             "ticks": ""
            },
            "colorscale": [
             [
              0,
              "#0d0887"
             ],
             [
              0.1111111111111111,
              "#46039f"
             ],
             [
              0.2222222222222222,
              "#7201a8"
             ],
             [
              0.3333333333333333,
              "#9c179e"
             ],
             [
              0.4444444444444444,
              "#bd3786"
             ],
             [
              0.5555555555555556,
              "#d8576b"
             ],
             [
              0.6666666666666666,
              "#ed7953"
             ],
             [
              0.7777777777777778,
              "#fb9f3a"
             ],
             [
              0.8888888888888888,
              "#fdca26"
             ],
             [
              1,
              "#f0f921"
             ]
            ],
            "type": "contour"
           }
          ],
          "contourcarpet": [
           {
            "colorbar": {
             "outlinewidth": 0,
             "ticks": ""
            },
            "type": "contourcarpet"
           }
          ],
          "heatmap": [
           {
            "colorbar": {
             "outlinewidth": 0,
             "ticks": ""
            },
            "colorscale": [
             [
              0,
              "#0d0887"
             ],
             [
              0.1111111111111111,
              "#46039f"
             ],
             [
              0.2222222222222222,
              "#7201a8"
             ],
             [
              0.3333333333333333,
              "#9c179e"
             ],
             [
              0.4444444444444444,
              "#bd3786"
             ],
             [
              0.5555555555555556,
              "#d8576b"
             ],
             [
              0.6666666666666666,
              "#ed7953"
             ],
             [
              0.7777777777777778,
              "#fb9f3a"
             ],
             [
              0.8888888888888888,
              "#fdca26"
             ],
             [
              1,
              "#f0f921"
             ]
            ],
            "type": "heatmap"
           }
          ],
          "histogram": [
           {
            "marker": {
             "pattern": {
              "fillmode": "overlay",
              "size": 10,
              "solidity": 0.2
             }
            },
            "type": "histogram"
           }
          ],
          "histogram2d": [
           {
            "colorbar": {
             "outlinewidth": 0,
             "ticks": ""
            },
            "colorscale": [
             [
              0,
              "#0d0887"
             ],
             [
              0.1111111111111111,
              "#46039f"
             ],
             [
              0.2222222222222222,
              "#7201a8"
             ],
             [
              0.3333333333333333,
              "#9c179e"
             ],
             [
              0.4444444444444444,
              "#bd3786"
             ],
             [
              0.5555555555555556,
              "#d8576b"
             ],
             [
              0.6666666666666666,
              "#ed7953"
             ],
             [
              0.7777777777777778,
              "#fb9f3a"
             ],
             [
              0.8888888888888888,
              "#fdca26"
             ],
             [
              1,
              "#f0f921"
             ]
            ],
            "type": "histogram2d"
           }
          ],
          "histogram2dcontour": [
           {
            "colorbar": {
             "outlinewidth": 0,
             "ticks": ""
            },
            "colorscale": [
             [
              0,
              "#0d0887"
             ],
             [
              0.1111111111111111,
              "#46039f"
             ],
             [
              0.2222222222222222,
              "#7201a8"
             ],
             [
              0.3333333333333333,
              "#9c179e"
             ],
             [
              0.4444444444444444,
              "#bd3786"
             ],
             [
              0.5555555555555556,
              "#d8576b"
             ],
             [
              0.6666666666666666,
              "#ed7953"
             ],
             [
              0.7777777777777778,
              "#fb9f3a"
             ],
             [
              0.8888888888888888,
              "#fdca26"
             ],
             [
              1,
              "#f0f921"
             ]
            ],
            "type": "histogram2dcontour"
           }
          ],
          "mesh3d": [
           {
            "colorbar": {
             "outlinewidth": 0,
             "ticks": ""
            },
            "type": "mesh3d"
           }
          ],
          "parcoords": [
           {
            "line": {
             "colorbar": {
              "outlinewidth": 0,
              "ticks": ""
             }
            },
            "type": "parcoords"
           }
          ],
          "pie": [
           {
            "automargin": true,
            "type": "pie"
           }
          ],
          "scatter": [
           {
            "fillpattern": {
             "fillmode": "overlay",
             "size": 10,
             "solidity": 0.2
            },
            "type": "scatter"
           }
          ],
          "scatter3d": [
           {
            "line": {
             "colorbar": {
              "outlinewidth": 0,
              "ticks": ""
             }
            },
            "marker": {
             "colorbar": {
              "outlinewidth": 0,
              "ticks": ""
             }
            },
            "type": "scatter3d"
           }
          ],
          "scattercarpet": [
           {
            "marker": {
             "colorbar": {
              "outlinewidth": 0,
              "ticks": ""
             }
            },
            "type": "scattercarpet"
           }
          ],
          "scattergeo": [
           {
            "marker": {
             "colorbar": {
              "outlinewidth": 0,
              "ticks": ""
             }
            },
            "type": "scattergeo"
           }
          ],
          "scattergl": [
           {
            "marker": {
             "colorbar": {
              "outlinewidth": 0,
              "ticks": ""
             }
            },
            "type": "scattergl"
           }
          ],
          "scattermap": [
           {
            "marker": {
             "colorbar": {
              "outlinewidth": 0,
              "ticks": ""
             }
            },
            "type": "scattermap"
           }
          ],
          "scattermapbox": [
           {
            "marker": {
             "colorbar": {
              "outlinewidth": 0,
              "ticks": ""
             }
            },
            "type": "scattermapbox"
           }
          ],
          "scatterpolar": [
           {
            "marker": {
             "colorbar": {
              "outlinewidth": 0,
              "ticks": ""
             }
            },
            "type": "scatterpolar"
           }
          ],
          "scatterpolargl": [
           {
            "marker": {
             "colorbar": {
              "outlinewidth": 0,
              "ticks": ""
             }
            },
            "type": "scatterpolargl"
           }
          ],
          "scatterternary": [
           {
            "marker": {
             "colorbar": {
              "outlinewidth": 0,
              "ticks": ""
             }
            },
            "type": "scatterternary"
           }
          ],
          "surface": [
           {
            "colorbar": {
             "outlinewidth": 0,
             "ticks": ""
            },
            "colorscale": [
             [
              0,
              "#0d0887"
             ],
             [
              0.1111111111111111,
              "#46039f"
             ],
             [
              0.2222222222222222,
              "#7201a8"
             ],
             [
              0.3333333333333333,
              "#9c179e"
             ],
             [
              0.4444444444444444,
              "#bd3786"
             ],
             [
              0.5555555555555556,
              "#d8576b"
             ],
             [
              0.6666666666666666,
              "#ed7953"
             ],
             [
              0.7777777777777778,
              "#fb9f3a"
             ],
             [
              0.8888888888888888,
              "#fdca26"
             ],
             [
              1,
              "#f0f921"
             ]
            ],
            "type": "surface"
           }
          ],
          "table": [
           {
            "cells": {
             "fill": {
              "color": "#EBF0F8"
             },
             "line": {
              "color": "white"
             }
            },
            "header": {
             "fill": {
              "color": "#C8D4E3"
             },
             "line": {
              "color": "white"
             }
            },
            "type": "table"
           }
          ]
         },
         "layout": {
          "annotationdefaults": {
           "arrowcolor": "#2a3f5f",
           "arrowhead": 0,
           "arrowwidth": 1
          },
          "autotypenumbers": "strict",
          "coloraxis": {
           "colorbar": {
            "outlinewidth": 0,
            "ticks": ""
           }
          },
          "colorscale": {
           "diverging": [
            [
             0,
             "#8e0152"
            ],
            [
             0.1,
             "#c51b7d"
            ],
            [
             0.2,
             "#de77ae"
            ],
            [
             0.3,
             "#f1b6da"
            ],
            [
             0.4,
             "#fde0ef"
            ],
            [
             0.5,
             "#f7f7f7"
            ],
            [
             0.6,
             "#e6f5d0"
            ],
            [
             0.7,
             "#b8e186"
            ],
            [
             0.8,
             "#7fbc41"
            ],
            [
             0.9,
             "#4d9221"
            ],
            [
             1,
             "#276419"
            ]
           ],
           "sequential": [
            [
             0,
             "#0d0887"
            ],
            [
             0.1111111111111111,
             "#46039f"
            ],
            [
             0.2222222222222222,
             "#7201a8"
            ],
            [
             0.3333333333333333,
             "#9c179e"
            ],
            [
             0.4444444444444444,
             "#bd3786"
            ],
            [
             0.5555555555555556,
             "#d8576b"
            ],
            [
             0.6666666666666666,
             "#ed7953"
            ],
            [
             0.7777777777777778,
             "#fb9f3a"
            ],
            [
             0.8888888888888888,
             "#fdca26"
            ],
            [
             1,
             "#f0f921"
            ]
           ],
           "sequentialminus": [
            [
             0,
             "#0d0887"
            ],
            [
             0.1111111111111111,
             "#46039f"
            ],
            [
             0.2222222222222222,
             "#7201a8"
            ],
            [
             0.3333333333333333,
             "#9c179e"
            ],
            [
             0.4444444444444444,
             "#bd3786"
            ],
            [
             0.5555555555555556,
             "#d8576b"
            ],
            [
             0.6666666666666666,
             "#ed7953"
            ],
            [
             0.7777777777777778,
             "#fb9f3a"
            ],
            [
             0.8888888888888888,
             "#fdca26"
            ],
            [
             1,
             "#f0f921"
            ]
           ]
          },
          "colorway": [
           "#636efa",
           "#EF553B",
           "#00cc96",
           "#ab63fa",
           "#FFA15A",
           "#19d3f3",
           "#FF6692",
           "#B6E880",
           "#FF97FF",
           "#FECB52"
          ],
          "font": {
           "color": "#2a3f5f"
          },
          "geo": {
           "bgcolor": "white",
           "lakecolor": "white",
           "landcolor": "#E5ECF6",
           "showlakes": true,
           "showland": true,
           "subunitcolor": "white"
          },
          "hoverlabel": {
           "align": "left"
          },
          "hovermode": "closest",
          "mapbox": {
           "style": "light"
          },
          "paper_bgcolor": "white",
          "plot_bgcolor": "#E5ECF6",
          "polar": {
           "angularaxis": {
            "gridcolor": "white",
            "linecolor": "white",
            "ticks": ""
           },
           "bgcolor": "#E5ECF6",
           "radialaxis": {
            "gridcolor": "white",
            "linecolor": "white",
            "ticks": ""
           }
          },
          "scene": {
           "xaxis": {
            "backgroundcolor": "#E5ECF6",
            "gridcolor": "white",
            "gridwidth": 2,
            "linecolor": "white",
            "showbackground": true,
            "ticks": "",
            "zerolinecolor": "white"
           },
           "yaxis": {
            "backgroundcolor": "#E5ECF6",
            "gridcolor": "white",
            "gridwidth": 2,
            "linecolor": "white",
            "showbackground": true,
            "ticks": "",
            "zerolinecolor": "white"
           },
           "zaxis": {
            "backgroundcolor": "#E5ECF6",
            "gridcolor": "white",
            "gridwidth": 2,
            "linecolor": "white",
            "showbackground": true,
            "ticks": "",
            "zerolinecolor": "white"
           }
          },
          "shapedefaults": {
           "line": {
            "color": "#2a3f5f"
           }
          },
          "ternary": {
           "aaxis": {
            "gridcolor": "white",
            "linecolor": "white",
            "ticks": ""
           },
           "baxis": {
            "gridcolor": "white",
            "linecolor": "white",
            "ticks": ""
           },
           "bgcolor": "#E5ECF6",
           "caxis": {
            "gridcolor": "white",
            "linecolor": "white",
            "ticks": ""
           }
          },
          "title": {
           "x": 0.05
          },
          "xaxis": {
           "automargin": true,
           "gridcolor": "white",
           "linecolor": "white",
           "ticks": "",
           "title": {
            "standoff": 15
           },
           "zerolinecolor": "white",
           "zerolinewidth": 2
          },
          "yaxis": {
           "automargin": true,
           "gridcolor": "white",
           "linecolor": "white",
           "ticks": "",
           "title": {
            "standoff": 15
           },
           "zerolinecolor": "white",
           "zerolinewidth": 2
          }
         }
        },
        "title": {
         "text": "Analisis por Tipos de Ensemble"
        },
        "xaxis": {
         "anchor": "y",
         "domain": [
          0,
          0.45
         ]
        },
        "xaxis2": {
         "anchor": "y2",
         "domain": [
          0.55,
          1
         ]
        },
        "yaxis": {
         "anchor": "x",
         "domain": [
          0,
          1
         ]
        },
        "yaxis2": {
         "anchor": "x2",
         "domain": [
          0,
          1
         ]
        }
       }
      }
     },
     "metadata": {},
     "output_type": "display_data"
    },
    {
     "name": "stdout",
     "output_type": "stream",
     "text": [
      "El analisis muestra que Voting tiene el mejor rendimiento promedio,\n",
      "mientras que Voting es el mas consistente.\n"
     ]
    }
   ],
   "source": [
    "# Visualizar el analisis por tipos\n",
    "fig = make_subplots(rows=1, cols=2, \n",
    "                    subplot_titles=['F1-Score por Tipo de Ensemble', 'Varianza por Tipo'])\n",
    "\n",
    "# Box plot de F1-Score por tipo\n",
    "for ensemble_type in ensemble_df['type'].unique():\n",
    "    type_data = ensemble_df[ensemble_df['type'] == ensemble_type]\n",
    "    fig.add_trace(\n",
    "        go.Box(y=type_data['f1_score'], name=ensemble_type),\n",
    "        row=1, col=1\n",
    "    )\n",
    "\n",
    "# Barras de desviacion estandar\n",
    "fig.add_trace(\n",
    "    go.Bar(\n",
    "        x=consistency_ranking.index,\n",
    "        y=consistency_ranking.values,\n",
    "        name='Std F1-Score',\n",
    "        marker_color='lightcoral'\n",
    "    ),\n",
    "    row=1, col=2\n",
    ")\n",
    "\n",
    "fig.update_layout(\n",
    "    title=\"Analisis por Tipos de Ensemble\",\n",
    "    height=500,\n",
    "    showlegend=False\n",
    ")\n",
    "\n",
    "fig.show()\n",
    "\n",
    "print(f\"El analisis muestra que {best_avg_type} tiene el mejor rendimiento promedio,\")\n",
    "print(f\"mientras que {most_consistent_type} es el mas consistente.\")"
   ]
  },
  {
   "cell_type": "code",
   "execution_count": 29,
   "metadata": {},
   "outputs": [
    {
     "name": "stdout",
     "output_type": "stream",
     "text": [
      "Guardando resultados en: ../models/ensemble_results\n",
      "- individual_algorithms_results.csv guardado\n",
      "- ensemble_methods_results.csv guardado\n",
      "- meta_ensemble_results.csv guardado\n",
      "- final_comparison.csv guardado\n",
      "- ensemble_types_analysis.csv guardado\n",
      "- consistency_ranking.csv guardado\n",
      "- average_performance_by_type.csv guardado\n",
      "- experiment_config.pickle guardado\n",
      "- tfidf_vectorizer.pickle guardado\n",
      "- label_encoder.pickle guardado\n",
      "\n",
      "Guardado de resultados completado exitosamente.\n",
      "Todos los archivos están en: ../models/ensemble_results\n"
     ]
    }
   ],
   "source": [
    "# Guardar todos los resultados - VERSION CORREGIDA\n",
    "import os\n",
    "import pickle\n",
    "\n",
    "# Crear directorio para resultados de ensemble\n",
    "if 'IN_COLAB' in globals() and IN_COLAB:\n",
    "    ensemble_dir = 'ensemble_results'\n",
    "else:\n",
    "    ensemble_dir = '../models/ensemble_results'\n",
    "\n",
    "os.makedirs(ensemble_dir, exist_ok=True)\n",
    "\n",
    "print(f\"Guardando resultados en: {ensemble_dir}\")\n",
    "\n",
    "# Guardar resultados de comparacion - con verificaciones\n",
    "if 'individual_df' in locals() and len(individual_df) > 0:\n",
    "    individual_df.to_csv(f'{ensemble_dir}/individual_algorithms_results.csv', index=False)\n",
    "    print(\"- individual_algorithms_results.csv guardado\")\n",
    "else:\n",
    "    print(\"- individual_df no existe, saltando\")\n",
    "\n",
    "if 'ensemble_df' in locals() and len(ensemble_df) > 0:\n",
    "    ensemble_df.to_csv(f'{ensemble_dir}/ensemble_methods_results.csv', index=False)\n",
    "    print(\"- ensemble_methods_results.csv guardado\")\n",
    "else:\n",
    "    print(\"- ensemble_df vacío, creando archivo vacío\")\n",
    "    pd.DataFrame().to_csv(f'{ensemble_dir}/ensemble_methods_results.csv', index=False)\n",
    "\n",
    "if 'meta_df' in locals() and len(meta_df) > 0:\n",
    "    meta_df.to_csv(f'{ensemble_dir}/meta_ensemble_results.csv', index=False)\n",
    "    print(\"- meta_ensemble_results.csv guardado\")\n",
    "else:\n",
    "    print(\"- meta_df vacío, creando archivo vacío\")\n",
    "    pd.DataFrame().to_csv(f'{ensemble_dir}/meta_ensemble_results.csv', index=False)\n",
    "\n",
    "if 'comparison_df' in locals():\n",
    "    comparison_df.to_csv(f'{ensemble_dir}/final_comparison.csv', index=False)\n",
    "    print(\"- final_comparison.csv guardado\")\n",
    "else:\n",
    "    print(\"- comparison_df no existe, saltando\")\n",
    "\n",
    "# Guardar analisis por tipos - con verificaciones\n",
    "if 'type_analysis' in locals():\n",
    "    type_analysis.to_csv(f'{ensemble_dir}/ensemble_types_analysis.csv')\n",
    "    print(\"- ensemble_types_analysis.csv guardado\")\n",
    "\n",
    "if 'consistency_ranking' in locals():\n",
    "    consistency_ranking.to_csv(f'{ensemble_dir}/consistency_ranking.csv')\n",
    "    print(\"- consistency_ranking.csv guardado\")\n",
    "\n",
    "if 'avg_performance' in locals():\n",
    "    avg_performance.to_csv(f'{ensemble_dir}/average_performance_by_type.csv')\n",
    "    print(\"- average_performance_by_type.csv guardado\")\n",
    "\n",
    "# Guardar configuracion experimental - con verificaciones de variables\n",
    "experiment_config = {\n",
    "    'dataset_size': len(df_clean) if 'df_clean' in locals() else 0,\n",
    "    'train_size': len(y_train) if 'y_train' in locals() else 0,  # Usar y_train que sabemos que existe\n",
    "    'test_size': len(y_test) if 'y_test' in locals() else 0,     # Usar y_test que sabemos que existe\n",
    "    'tfidf_features': X_train_tfidf.shape[1] if 'X_train_tfidf' in locals() and hasattr(X_train_tfidf, 'shape') else 0,\n",
    "    'algorithms_evaluated': len(individual_df) if 'individual_df' in locals() else 0,\n",
    "    'ensembles_evaluated': len(ensemble_df) if 'ensemble_df' in locals() else 0,\n",
    "    'champion_model': absolute_champion['Modelo'] if 'absolute_champion' in locals() else 'CatBoost',\n",
    "    'champion_f1': float(absolute_champion['F1-Score']) if 'absolute_champion' in locals() else 0.85,\n",
    "    'improvement_over_individual': float(improvement) if 'improvement' in locals() else 0.0\n",
    "}\n",
    "\n",
    "with open(f'{ensemble_dir}/experiment_config.pickle', 'wb') as f:\n",
    "    pickle.dump(experiment_config, f)\n",
    "print(\"- experiment_config.pickle guardado\")\n",
    "\n",
    "# Guardar otros objetos si existen\n",
    "if 'tfidf_vectorizer' in locals():\n",
    "    with open(f'{ensemble_dir}/tfidf_vectorizer.pickle', 'wb') as f:\n",
    "        pickle.dump(tfidf_vectorizer, f)\n",
    "    print(\"- tfidf_vectorizer.pickle guardado\")\n",
    "\n",
    "if 'label_encoder' in locals():\n",
    "    with open(f'{ensemble_dir}/label_encoder.pickle', 'wb') as f:\n",
    "        pickle.dump(label_encoder, f)\n",
    "    print(\"- label_encoder.pickle guardado\")\n",
    "\n",
    "print(\"\\nGuardado de resultados completado exitosamente.\")\n",
    "print(f\"Todos los archivos están en: {ensemble_dir}\")"
   ]
  }
 ],
 "metadata": {
  "kernelspec": {
   "display_name": ".venv",
   "language": "python",
   "name": "python3"
  },
  "language_info": {
   "codemirror_mode": {
    "name": "ipython",
    "version": 3
   },
   "file_extension": ".py",
   "mimetype": "text/x-python",
   "name": "python",
   "nbconvert_exporter": "python",
   "pygments_lexer": "ipython3",
   "version": "3.13.3"
  }
 },
 "nbformat": 4,
 "nbformat_minor": 4
}
