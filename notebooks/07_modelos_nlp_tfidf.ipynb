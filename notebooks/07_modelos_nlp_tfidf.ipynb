{
 "cells": [
  {
   "cell_type": "markdown",
   "id": "cell-0",
   "metadata": {},
   "source": [
    "# Modelos NLP con TF-IDF para Detección de Desinformación\n",
    "\n",
    "En este notebook implemento el análisis de procesamiento de lenguaje natural usando TF-IDF y modelos tradicionales de machine learning. Mi objetivo es crear un sistema robusto para detectar noticias falsas basándome únicamente en el contenido textual.\n",
    "\n",
    "## Mi Approach de NLP\n",
    "\n",
    "Voy a seguir estos pasos principales:\n",
    "\n",
    "1. **Preprocesamiento de texto**: Limpio y normalizo el texto eliminando ruido\n",
    "2. **Corrección de data leakage**: Elimino duplicados para evitar sobreajuste\n",
    "3. **Vectorización TF-IDF**: Convierto texto a representación numérica\n",
    "4. **Modelos tradicionales**: Pruebo LR, SVM, NB, RF optimizados para texto\n",
    "5. **Análisis de features**: Identifico palabras más importantes\n",
    "6. **Evaluación completa**: Métricas detalladas y visualizaciones\n",
    "\n",
    "Mi meta es conseguir al menos 70% de F1-Score con modelos tradicionales para luego integrarlos en el ensemble final."
   ]
  },
  {
   "cell_type": "code",
   "execution_count": 1,
   "id": "cell-1",
   "metadata": {},
   "outputs": [
    {
     "name": "stdout",
     "output_type": "stream",
     "text": [
      "Inicio del análisis NLP: 2025-08-22 16:33:25\n",
      "Implementando modelos de detección de desinformación basados en texto\n"
     ]
    }
   ],
   "source": [
    "# Importo todas las librerías que necesito para el análisis NLP\n",
    "import pandas as pd\n",
    "import numpy as np\n",
    "import matplotlib.pyplot as plt\n",
    "import seaborn as sns\n",
    "import plotly.express as px\n",
    "import plotly.graph_objects as go\n",
    "from plotly.subplots import make_subplots\n",
    "\n",
    "# Librerías específicas para NLP\n",
    "import re\n",
    "import string\n",
    "from collections import Counter\n",
    "import nltk\n",
    "from nltk.corpus import stopwords\n",
    "from nltk.tokenize import word_tokenize\n",
    "from nltk.stem import SnowballStemmer\n",
    "\n",
    "# Vectorización y modelos\n",
    "from sklearn.feature_extraction.text import TfidfVectorizer, CountVectorizer\n",
    "from sklearn.model_selection import train_test_split, cross_val_score, StratifiedKFold\n",
    "from sklearn.preprocessing import StandardScaler\n",
    "\n",
    "# Modelos de machine learning\n",
    "from sklearn.linear_model import LogisticRegression\n",
    "from sklearn.svm import SVC\n",
    "from sklearn.naive_bayes import MultinomialNB\n",
    "from sklearn.ensemble import RandomForestClassifier\n",
    "from sklearn.neighbors import KNeighborsClassifier\n",
    "\n",
    "# Métricas y evaluación\n",
    "from sklearn.metrics import (\n",
    "    accuracy_score, precision_recall_fscore_support, roc_auc_score,\n",
    "    classification_report, confusion_matrix, roc_curve\n",
    ")\n",
    "\n",
    "import pickle\n",
    "import json\n",
    "from datetime import datetime\n",
    "import warnings\n",
    "warnings.filterwarnings('ignore')\n",
    "\n",
    "# Descargo recursos NLTK si no los tengo\n",
    "try:\n",
    "    nltk.data.find('tokenizers/punkt')\n",
    "    nltk.data.find('corpora/stopwords')\n",
    "except LookupError:\n",
    "    print(\"Descargando recursos NLTK necesarios...\")\n",
    "    nltk.download('punkt', quiet=True)\n",
    "    nltk.download('stopwords', quiet=True)\n",
    "\n",
    "print(f\"Inicio del análisis NLP: {datetime.now().strftime('%Y-%m-%d %H:%M:%S')}\")\n",
    "print(\"Implementando modelos de detección de desinformación basados en texto\")"
   ]
  },
  {
   "cell_type": "markdown",
   "id": "cell-2",
   "metadata": {},
   "source": [
    "## Carga y Análisis Inicial de Datos\n",
    "\n",
    "Primero cargo los datos y hago un análisis exploratorio para entender con qué estoy trabajando. Es crucial identificar problemas de data leakage desde el inicio."
   ]
  },
  {
   "cell_type": "code",
   "execution_count": null,
   "id": "cell-3",
   "metadata": {},
   "outputs": [
    {
     "name": "stdout",
     "output_type": "stream",
     "text": [
      "Cargando datos para análisis NLP...\n",
      "Datos de texto cargados: (134198, 2)\n",
      "Features cargadas: (134198, 58)\n",
      "Datasets alineados correctamente\n",
      "\n",
      "Analisis de data leakage:\n",
      "Total de filas en dataset: 134,198\n",
      "Statements únicos: 1,058\n",
      "Tweets únicos: 134,198\n",
      "Factor de duplicación de statements: 126.8x\n",
      "PROBLEMA: Cada statement aparece 126.8 veces en promedio\n",
      "Esto causará data leakage si no lo corrijo antes del train/test split\n",
      "\n",
      "Distribución de clases:\n",
      "- Verdadero: 51.4% (68,930 casos)\n",
      "- Falso: 48.6% (65,268 casos)\n",
      "\n",
      "Ejemplos de statements:\n",
      "\n",
      "1. [Verdadero] End of eviction moratorium means millions of Americans could lose their housing in the middle of a pandemic....\n",
      "\n",
      "2. [Verdadero] End of eviction moratorium means millions of Americans could lose their housing in the middle of a pandemic....\n",
      "\n",
      "3. [Verdadero] End of eviction moratorium means millions of Americans could lose their housing in the middle of a pandemic....\n"
     ]
    }
   ],
   "source": [
    "# Cargo los datos de texto y features procesadas\n",
    "print(\"Cargando datos para análisis NLP...\")\n",
    "\n",
    "try:\n",
    "    # Cargo datos de texto que preparé en notebooks anteriores\n",
    "    df_text = pd.read_csv('../processed_data/text_data_for_nlp.csv')\n",
    "    print(f\"Datos de texto cargados: {df_text.shape}\")\n",
    "    \n",
    "    # Cargo features procesadas para obtener los targets\n",
    "    df_features = pd.read_csv('../processed_data/dataset_features_processed_winsorized.csv')\n",
    "    print(f\"Features cargadas: {df_features.shape}\")\n",
    "    \n",
    "    # Verifico que los índices estén alineados\n",
    "    assert len(df_text) == len(df_features), \"Los datasets no están alineados\"\n",
    "    print(\"Datasets alineados correctamente\")\n",
    "    \n",
    "except FileNotFoundError as e:\n",
    "    print(f\"Error cargando datos: {e}\")\n",
    "    print(\"Necesito ejecutar primero los notebooks de limpieza (01-02)\")\n",
    "\n",
    "# Analizo el problema de data leakage\n",
    "print(f\"\\nAnalisis de data leakage:\")\n",
    "print(f\"Total de filas en dataset: {len(df_text):,}\")\n",
    "print(f\"Statements únicos: {df_text['statement'].nunique():,}\")\n",
    "print(f\"Tweets únicos: {df_text['tweet'].nunique():,}\")\n",
    "\n",
    "# Calculo el factor de duplicación - esto me dice qué tan grave es el data leakage\n",
    "duplication_factor = len(df_text) / df_text['statement'].nunique()\n",
    "print(f\"Factor de duplicación de statements: {duplication_factor:.1f}x\")\n",
    "\n",
    "if duplication_factor > 2:\n",
    "    print(f\"PROBLEMA: Cada statement aparece {duplication_factor:.1f} veces en promedio\")\n",
    "    #Esto causará data leakage si no lo corrijo antes del train/test split\n",
    "else:\n",
    "    print(f\"El factor de duplicación es aceptable\")\n",
    "\n",
    "# Analizo la distribución de clases\n",
    "target_col = 'BinaryNumTarget'\n",
    "y = df_features[target_col]\n",
    "\n",
    "class_dist = y.value_counts(normalize=True)\n",
    "print(f\"\\nDistribución de clases:\")\n",
    "for clase, prop in class_dist.items():\n",
    "    label = \"Verdadero\" if clase == 1.0 else \"Falso\"\n",
    "    print(f\"- {label}: {prop:.1%} ({y.value_counts()[clase]:,} casos)\")\n",
    "\n",
    "# Muestro algunos ejemplos de texto\n",
    "print(f\"\\nEjemplos de statements:\")\n",
    "for i in range(3):\n",
    "    stmt = df_text['statement'].iloc[i]\n",
    "    target = y.iloc[i]\n",
    "    label = \"Verdadero\" if target == 1.0 else \"Falso\"\n",
    "    print(f\"\\n{i+1}. [{label}] {stmt[:150]}...\")"
   ]
  },
  {
   "cell_type": "code",
   "execution_count": 28,
   "id": "8bf898e0",
   "metadata": {},
   "outputs": [
    {
     "name": "stdout",
     "output_type": "stream",
     "text": [
      "\n",
      "CORRECCION DE DATA LEAKAGE\n",
      "==============================\n",
      "Antes de la corrección:\n",
      "- Total filas: 134,198\n",
      "- Tweets únicos: 134,198\n",
      "\n",
      "Eliminando duplicados por tweet...\n",
      "\n",
      "Después de la corrección:\n",
      "- Total filas: 134,198\n",
      "- Tweets únicos: 134,198\n",
      "- Filas eliminadas: 0\n",
      "- Porcentaje eliminado: 0.0%\n",
      "\n",
      "Verificación: Data leakage corregido exitosamente\n",
      "\n",
      "Distribución de clases después de limpieza:\n",
      "- Verdadero: 51.4% (68,930 casos)\n",
      "- Falso: 48.6% (65,268 casos)\n",
      "\n",
      "Datos finales para NLP: 134,198 tweets únicos\n",
      "Data leakage eliminado correctamente\n"
     ]
    }
   ],
   "source": [
    "# Corrijo el data leakage eliminando duplicados\n",
    "print(\"\\nCORRECCION DE DATA LEAKAGE\")\n",
    "print(\"=\" * 30)\n",
    "\n",
    "print(f\"Antes de la corrección:\")\n",
    "print(f\"- Total filas: {len(df_text):,}\")\n",
    "print(f\"- Tweets únicos: {df_text['tweet'].nunique():,}\")\n",
    "\n",
    "# Elimino duplicados manteniendo la primera ocurrencia\n",
    "print(f\"\\nEliminando duplicados por tweet...\")\n",
    "df_text_unique = df_text.drop_duplicates(subset=['tweet'], keep='first')\n",
    "df_features_unique = df_features.loc[df_text_unique.index]\n",
    "\n",
    "print(f\"\\nDespués de la corrección:\")\n",
    "print(f\"- Total filas: {len(df_text_unique):,}\")\n",
    "print(f\"- Tweets únicos: {df_text_unique['tweet'].nunique():,}\")\n",
    "print(f\"- Filas eliminadas: {len(df_text) - len(df_text_unique):,}\")\n",
    "print(f\"- Porcentaje eliminado: {(len(df_text) - len(df_text_unique)) / len(df_text) * 100:.1f}%\")\n",
    "\n",
    "# Verifico que efectivamente no hay duplicados\n",
    "assert df_text_unique['tweet'].nunique() == len(df_text_unique), \"Todavía hay duplicados\"\n",
    "print(f\"\\nVerificación: Data leakage corregido exitosamente\")\n",
    "\n",
    "# Actualizo los targets\n",
    "y_unique = df_features_unique[target_col]\n",
    "\n",
    "# Verifico que la distribución de clases se mantenga similar\n",
    "class_dist_clean = y_unique.value_counts(normalize=True)\n",
    "print(f\"\\nDistribución de clases después de limpieza:\")\n",
    "for clase, prop in class_dist_clean.items():\n",
    "    label = \"Verdadero\" if clase == 1.0 else \"Falso\"\n",
    "    print(f\"- {label}: {prop:.1%} ({y_unique.value_counts()[clase]:,} casos)\")\n",
    "\n",
    "# Uso los datos limpios para el resto del análisis\n",
    "df_text_final = df_text_unique.copy()\n",
    "y_final = y_unique.copy()\n",
    "\n",
    "print(f\"\\nDatos finales para NLP: {len(df_text_final):,} tweets únicos\")\n",
    "print(f\"Data leakage eliminado correctamente\")"
   ]
  },
  {
   "cell_type": "code",
   "execution_count": 15,
   "id": "cell-4",
   "metadata": {},
   "outputs": [
    {
     "name": "stdout",
     "output_type": "stream",
     "text": [
      "\n",
      "CORRECCION DE DATA LEAKAGE\n",
      "==============================\n",
      "Antes de la corrección:\n",
      "- Total filas: 134,198\n",
      "- Statements únicos: 1,058\n",
      "\n",
      "Eliminando duplicados por statement...\n",
      "\n",
      "Después de la corrección:\n",
      "- Total filas: 1,058\n",
      "- Statements únicos: 1,058\n",
      "- Filas eliminadas: 133,140\n",
      "- Porcentaje eliminado: 99.2%\n",
      "\n",
      "Verificación: Data leakage corregido exitosamente\n",
      "\n",
      "Distribución de clases después de limpieza:\n",
      "- Verdadero: 54.7% (579 casos)\n",
      "- Falso: 45.3% (479 casos)\n",
      "\n",
      "Datos finales para NLP: 1,058 statements únicos\n",
      "Data leakage eliminado correctamente\n"
     ]
    }
   ],
   "source": [
    "# Corrijo el data leakage eliminando duplicados\n",
    "print(\"\\nCORRECCION DE DATA LEAKAGE\")\n",
    "print(\"=\" * 30)\n",
    "\n",
    "print(f\"Antes de la corrección:\")\n",
    "print(f\"- Total filas: {len(df_text):,}\")\n",
    "print(f\"- Statements únicos: {df_text['statement'].nunique():,}\")\n",
    "\n",
    "# Elimino duplicados manteniendo la primera ocurrencia\n",
    "print(f\"\\nEliminando duplicados por statement...\")\n",
    "df_text_unique = df_text.drop_duplicates(subset=['statement'], keep='first')\n",
    "df_features_unique = df_features.loc[df_text_unique.index]\n",
    "\n",
    "print(f\"\\nDespués de la corrección:\")\n",
    "print(f\"- Total filas: {len(df_text_unique):,}\")\n",
    "print(f\"- Statements únicos: {df_text_unique['statement'].nunique():,}\")\n",
    "print(f\"- Filas eliminadas: {len(df_text) - len(df_text_unique):,}\")\n",
    "print(f\"- Porcentaje eliminado: {(len(df_text) - len(df_text_unique)) / len(df_text) * 100:.1f}%\")\n",
    "\n",
    "# Verifico que efectivamente no hay duplicados\n",
    "assert df_text_unique['statement'].nunique() == len(df_text_unique), \"Todavía hay duplicados\"\n",
    "print(f\"\\nVerificación: Data leakage corregido exitosamente\")\n",
    "\n",
    "# Actualizo los targets\n",
    "y_unique = df_features_unique[target_col]\n",
    "\n",
    "# Verifico que la distribución de clases se mantenga similar\n",
    "class_dist_clean = y_unique.value_counts(normalize=True)\n",
    "print(f\"\\nDistribución de clases después de limpieza:\")\n",
    "for clase, prop in class_dist_clean.items():\n",
    "    label = \"Verdadero\" if clase == 1.0 else \"Falso\"\n",
    "    print(f\"- {label}: {prop:.1%} ({y_unique.value_counts()[clase]:,} casos)\")\n",
    "\n",
    "# Uso los datos limpios para el resto del análisis\n",
    "df_text_final = df_text_unique.copy()\n",
    "y_final = y_unique.copy()\n",
    "\n",
    "print(f\"\\nDatos finales para NLP: {len(df_text_final):,} statements únicos\")\n",
    "print(f\"Data leakage eliminado correctamente\")"
   ]
  },
  {
   "cell_type": "markdown",
   "id": "cell-5",
   "metadata": {},
   "source": [
    "## Preprocesamiento de Texto\n",
    "\n",
    "Ahora preproceso el texto para optimizarlo para machine learning. Voy a limpiar, normalizar y tokenizar el contenido."
   ]
  },
  {
   "cell_type": "code",
   "execution_count": 4,
   "id": "cell-6",
   "metadata": {},
   "outputs": [
    {
     "name": "stdout",
     "output_type": "stream",
     "text": [
      "Aplicando preprocesamiento de texto...\n",
      "Preprocesando con stemming...\n",
      "Preprocesando sin stemming...\n",
      "\n",
      "Textos válidos después de preprocesamiento:\n",
      "- Con stemming: 1,057 de 1,058\n",
      "- Sin stemming: 1,058 de 1,058\n",
      "- Textos finales válidos: 1,057\n",
      "\n",
      "Ejemplos de preprocesamiento:\n",
      "\n",
      "Ejemplo 1:\n",
      "Original: End of eviction moratorium means millions of Americans could lose their housing in the middle of a pandemic....\n",
      "Procesado: end evict moratorium mean million american could lose hous middl pandem...\n",
      "\n",
      "Ejemplo 2:\n",
      "Original: The Trump administration worked to free 5,000 Taliban prisoners....\n",
      "Procesado: trump administr work free number_token number_token taliban prison...\n",
      "\n",
      "Ejemplo 3:\n",
      "Original: In Afghanistan, over 100 billion dollars spent on military contracts....\n",
      "Procesado: afghanistan number_token billion dollar spent militari contract...\n",
      "\n",
      "Preprocesamiento completado exitosamente\n"
     ]
    }
   ],
   "source": [
    "# Creo mi función de preprocesamiento de texto optimizada\n",
    "def preprocess_text_for_ml(text, use_stemming=True, remove_stopwords=True):\n",
    "    \"\"\"\n",
    "    Preproceso texto para machine learning\n",
    "    - Limpio URLs, menciones, caracteres especiales\n",
    "    - Normalizo a minúsculas\n",
    "    - Tokenizo y filtro stopwords\n",
    "    - Aplico stemming si se requiere\n",
    "    \"\"\"\n",
    "    \n",
    "    if pd.isna(text) or text == '':\n",
    "        return ''\n",
    "    \n",
    "    # Convierto a string y minúsculas\n",
    "    text = str(text).lower()\n",
    "    \n",
    "    # Limpio URLs y menciones - los reemplazo con tokens especiales\n",
    "    text = re.sub(r'http\\S+|www\\S+|https\\S+', 'URL_TOKEN', text)\n",
    "    text = re.sub(r'@\\w+', 'MENTION_TOKEN', text)\n",
    "    text = re.sub(r'#\\w+', 'HASHTAG_TOKEN', text)\n",
    "    \n",
    "    # Reemplazo números con token\n",
    "    text = re.sub(r'\\d+', 'NUMBER_TOKEN', text)\n",
    "    \n",
    "    # Elimino caracteres especiales pero mantengo espacios\n",
    "    text = re.sub(r'[^\\w\\s]', ' ', text)\n",
    "    \n",
    "    # Normalizo espacios múltiples\n",
    "    text = re.sub(r'\\s+', ' ', text).strip()\n",
    "    \n",
    "    # Tokenizo el texto\n",
    "    tokens = word_tokenize(text)\n",
    "    \n",
    "    # Elimino stopwords si se especifica\n",
    "    if remove_stopwords:\n",
    "        stop_words = set(stopwords.words('english'))\n",
    "        tokens = [token for token in tokens if token not in stop_words]\n",
    "    \n",
    "    # Aplico stemming si se especifica\n",
    "    if use_stemming:\n",
    "        stemmer = SnowballStemmer('english')\n",
    "        tokens = [stemmer.stem(token) for token in tokens]\n",
    "    \n",
    "    # Filtro tokens muy cortos (menos de 3 caracteres)\n",
    "    tokens = [token for token in tokens if len(token) >= 3]\n",
    "    \n",
    "    return ' '.join(tokens)\n",
    "\n",
    "# Aplico preprocesamiento a los statements\n",
    "print(\"Aplicando preprocesamiento de texto...\")\n",
    "\n",
    "# Uso statements porque son más informativos que tweets\n",
    "texts_raw = df_text_final['statement'].fillna('')\n",
    "\n",
    "# Preproceso con stemming\n",
    "print(\"Preprocesando con stemming...\")\n",
    "texts_stemmed = texts_raw.apply(lambda x: preprocess_text_for_ml(x, use_stemming=True))\n",
    "\n",
    "# Preproceso sin stemming para comparar\n",
    "print(\"Preprocesando sin stemming...\")\n",
    "texts_no_stem = texts_raw.apply(lambda x: preprocess_text_for_ml(x, use_stemming=False))\n",
    "\n",
    "# Filtro textos muy cortos después del preprocesamiento\n",
    "min_text_length = 15  # Al menos 15 caracteres\n",
    "valid_mask_stem = texts_stemmed.str.len() >= min_text_length\n",
    "valid_mask_no_stem = texts_no_stem.str.len() >= min_text_length\n",
    "\n",
    "print(f\"\\nTextos válidos después de preprocesamiento:\")\n",
    "print(f\"- Con stemming: {valid_mask_stem.sum():,} de {len(texts_raw):,}\")\n",
    "print(f\"- Sin stemming: {valid_mask_no_stem.sum():,} de {len(texts_raw):,}\")\n",
    "\n",
    "# Uso la intersección para asegurar consistencia\n",
    "valid_mask = valid_mask_stem & valid_mask_no_stem\n",
    "print(f\"- Textos finales válidos: {valid_mask.sum():,}\")\n",
    "\n",
    "# Aplico el filtro final\n",
    "texts_stemmed_final = texts_stemmed[valid_mask]\n",
    "texts_no_stem_final = texts_no_stem[valid_mask]\n",
    "y_text_final = y_final[valid_mask]\n",
    "\n",
    "print(f\"\\nEjemplos de preprocesamiento:\")\n",
    "for i in range(min(3, len(texts_stemmed_final))):\n",
    "    idx = texts_stemmed_final.index[i]\n",
    "    original = texts_raw.loc[idx]\n",
    "    processed = texts_stemmed_final.iloc[i]\n",
    "    \n",
    "    print(f\"\\nEjemplo {i+1}:\")\n",
    "    print(f\"Original: {original[:120]}...\")\n",
    "    print(f\"Procesado: {processed[:120]}...\")\n",
    "\n",
    "print(f\"\\nPreprocesamiento completado exitosamente\")"
   ]
  },
  {
   "cell_type": "markdown",
   "id": "cell-7",
   "metadata": {},
   "source": [
    "## Análisis Exploratorio de Texto\n",
    "\n",
    "Antes de vectorizar, analizo las características del texto preprocesado para entender mejor mis datos."
   ]
  },
  {
   "cell_type": "code",
   "execution_count": 5,
   "id": "cell-8",
   "metadata": {},
   "outputs": [
    {
     "name": "stdout",
     "output_type": "stream",
     "text": [
      "ANALISIS EXPLORATORIO DE TEXTO\n",
      "===================================\n",
      "Estadísticas de longitud de texto:\n",
      "- Caracteres promedio: 65\n",
      "- Caracteres mediana: 60\n",
      "- Caracteres min: 16\n",
      "- Caracteres max: 265\n",
      "\n",
      "- Palabras promedio: 10\n",
      "- Palabras mediana: 9\n",
      "- Palabras min: 3\n",
      "- Palabras max: 31\n",
      "\n",
      "Comparación por clase:\n",
      "Noticias VERDADERAS:\n",
      "- Caracteres promedio: 68\n",
      "- Palabras promedio: 10\n",
      "Noticias FALSAS:\n",
      "- Caracteres promedio: 62\n",
      "- Palabras promedio: 10\n"
     ]
    },
    {
     "data": {
      "application/vnd.plotly.v1+json": {
       "config": {
        "plotlyServerURL": "https://plot.ly"
       },
       "data": [
        {
         "marker": {
          "color": "blue"
         },
         "name": "Longitud Texto",
         "nbinsx": 50,
         "showlegend": false,
         "type": "histogram",
         "x": {
          "bdata": "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",
          "dtype": "i2"
         },
         "xaxis": "x",
         "yaxis": "y"
        },
        {
         "marker": {
          "color": "green"
         },
         "name": "Verdadero",
         "type": "box",
         "xaxis": "x2",
         "y": {
          "bdata": "RwBCAD8ASwBRADEAZACpADIATwAcAEEANgAjADcAGwBGADYANwBEAEsANgA/AEAAWgA8AGcAMABPAJMASQArAGAAtwBJAEUASgA9AEcAUgBIAFAAOwBQADcAUQA2ADkAZgB0AF4AcwBiACkAQwA+AFgAPgA8ADcAUQBCABAAJwAoACYANABBAE0ANAA/ADIAWACOAEgAfwCmAFQAgQDjACEATwC6AEoAQgAzACoASQBuADUAXwBqADkALQAyAD4AYwA1AB8AOgAvAEIASAA4ADgAMgA/AFsAVgBhAFMAOQBzAD8AJABGAHwAeQB3ACoAbQA+AD4AYABTADMAfQAjADgAMQAyALoAOQA6ADYAJgBdAFAAZAAVADwATABrADoAKwA4ADgAZACaAHQAIwA4ADgALgA7AFgAggBKAEEAJABWAFoAVAAvAFoATQCpAC4ALwBvAC0AMgAiACsAWQAZACYALgBSAEcAOQAxAF8AGwB1AFUASQBYAHcAOwA6AB0AJQBKADUAOwAzADYAWwAhAEEAUwBTACAARgBhACwAKgA1AEMAQAA9ADoAVwByAH0AbAA0AEoANQAtAC0AJgBKAD8AWwA2AE8AJAAiAFYAVwBGAB4AOgBUACYAQgAlAFoAQwAtAFUARAAoAD8AGgA/AIIAPABcADwAJABLAIUAPABSACYAIgA6AEIASwA6AEIASAA9ADEAMgBaAFMAIAA3ACQAOgDqAFUAKwBtAEEAJwAoAEcAIQAwAGMAYgAwADMASQCGACcASgAeACMAUQA7ACoAIAAvACwArwAhADIAPABKAFcARwAiAC8ANwA5ADYAPACQAEcAXwAuAFYAPQA1ACgASQBGABsAIQA4AFYAVQA2ACwAcAAZAEgASgA1AEsAMQBxAD0AJAA7AEAAPwA+AEAALQBIAGwANwA+ADYATgBJAFkASAA6ADwAIQAnAEIAQgA1AC8AOABdACgAWgBUAKwASAAoAC0AKwBFAEsAUgBTAGgAQAA1ACgALAA9AFAANAAjAFQATgBiAD8AdAAqACcAcgBSAGcARQApAC8ATgBLACoAQQA0AC8AcAApACMAOABTAEoAeQBKADEAPwCHAD0AUgA9ACYATQBOAB4AMABpAD4AUABFADYAGABfAC0AFgBSAFUALABJAG0AJQAqAEIARgArAEUAJwBNAE8AQgAWAC0AKQAfAEUALQA3AHIALABjAEwAJAAgAC0AVgA7ADwAagBWAGIAUABzACsATQBLACwAFgBUAFAAJQBDACIAVgAiADsAXwBeACYAiQBFAHUALwBjADUAQwBKAEsAMgBeAEsAKwAlADUAJwA8AEgAKwBWAHUATQAoAFAAZwAuAFYAQgBDADIAKAA8ACQAEQA0ADYAOAAuAGcALwA2ADMAPQAeAFcAJQA7AGoAOQBxAEwAPgA8AFwAXQBDAEAANgBeADUAYgAsABsAbABnADoAOwA0ACQASAAwAB0ALwAaACwAawBHAEcALQAuAB0APAAqAFAANQBRADsAYABRADAATQBQAA==",
          "dtype": "i2"
         },
         "yaxis": "y2"
        },
        {
         "marker": {
          "color": "red"
         },
         "name": "Falso",
         "type": "box",
         "xaxis": "x2",
         "y": {
          "bdata": "SgBRAB8AWQBAACcAHQA1AGAAOwArAD4AaAAeAC0AOQAjACEANgB0ACcAPAAyACEAMQAdAF8AFQAWAC8AVgAYAIsANgB0AFIATABMAG8ALQBaAFEAKgBMACYAMABTACYANgCDAFAASQBZAFAAMwAiAF8ARwBiADwANwAwAEAANgAkADMAJwAvAE4AMgBCAHgAcgA5AFwAoQBAACgAMABNAD4AZwAcAGUAMgBSACYANgBAAH8AVAAlACoAVwAxAGoAIQBAAFYAEAA/ADwAMwBUAC8AHwAsADgAKwAoAG4AVQAyAEoAPQA/AEkAIgAoAGEAOQBaAFsARABfAD4AWQBAADEANAA+AC4AKgApADYAWgBNAEUAOgA0ADEAMAAbABsAKgAmAGUALgApAHQAKAB8AFgAIQBGAHcAQQB6AEoAMgApAI0AVQBUACoAQwBJADsANwA7AEAAGgAyAH8ASQBBAEAAOAAoADQAPgAkAE0AVQAVAGcARwBOABwARwA2AGEAMQA2AGYAVAAdAF8AQwAsAB4AJgAhACwAUwBKAFYARQA6ADAAPAAzAF8AKQAsACYAOgAgADYAJwAvAFUAQwAkADYALwAvADgAEwA3AFIANAA7AE4ALwAtACAANAA1AFIAEwBEAHoAaQBNABgACQE8ADYARwBeAEsAQgBZABgALgAuAG8AUgAeAFwALQBaAC4AVwBBADoATABTAEcAIwAsADsAPQAtAG4AJABJAG0ALgA4ADsAJgBIADoALgAnAFYANQAxADsAMQBjAEEASgA1ACUAUQAlADQANABBAB4AKwBGADwANgA2AC0AIAAvACwALAAiADEATQAtAFAAIgAXACwAMQA5AB8AKQAxACsAQwArAGEAOwA5AEoAOwA5ADQAJQAvADMAGAAlAB4AWQA7ACUANQBDAD4AIwAqALkAQQAsABsAZwAmACAAPgAqACIALABiAF8ALwBXADMAWgCTACYAGABRADwAOgA4AHwAfQAmABsAGgA0ACgAKwAtAB8AGAA5AEkALQAtAF4AQAAlAB4AXABcAEgAQwBCADEAOwAlAB8AnwAtAEoAOwBFAJMARAAvAFsANwBFACoAMgBqAE4AIQB+AEAASgBYACkAIABNABAAYwAmABwAPQAoAIwAVABBACsALQAgADIAIAAuABsAQgBBACEAMwAdADYALwA/AGQAIABBADgAYwA5AEAANwAkAG8ALwAQADIAaAA9ACEAPwAcAEUAXAAiADcAWAA9ABwAPgA1ACcAUABFAA==",
          "dtype": "i2"
         },
         "yaxis": "y2"
        },
        {
         "marker": {
          "color": "orange"
         },
         "name": "Num Palabras",
         "nbinsx": 40,
         "showlegend": false,
         "type": "histogram",
         "x": {
          "bdata": "CwgHCw0GCxQIDQULCAUIBAkKCAsKCQkIDgoQBw0TCwUOFg0LDAoJCwwLCgsKDQgKEBEOEQ4GCQoNCAkIDQgDBwYFCAsKBwkHDBQMEhkODx8GCRsKCAcJDBAIEBEIBwcKDgcEBwcLDAgIBwoMCxALCA4LBgkTEw8GDwoLDgoIEgYLCAcXCQkJBg0MDwQJDhEICAgJEBQRBQgICAkKEgsJCAwQDQkPChcIBxAHCAQHDQQHBgwMCgkOBQ8NCg4RCQkFBgkICgkIDQYKCgwGChAGBgcLCwkHDxISEAgKCAcIBgsKDgcMBQYLCgoFCA0HCQcPCgYPDAcIBAsQChAJBQ4XCQ4GBQkKCgsKDQcICA0MBAgGCB0MCBIKBgcKBQkQEAYIDBQGDAYGDAkGBQgHGQYICAkKCwYICQkICRUKEAYMCQkHCwoEBgoNDAkGEgUMCAgLBw8IBwkICggKCAsRCAgICwwNCwYKBgUKCgkHBw0HDwoYCQcIBwwMCwwOCQgGBwgMCAYLDA4KFQcGCwoFDgsFBQgOCQYKEQUGCwUGCRIGCQcFBgUMBAMGDgQQCA8MDQgSBw0MBgwHBwsGCBEMCgwOCQYNCxAICgcKCQYJBgkNCQwQEggPCw8KBwcKCgcJCAcNBgYKDQsQDAYJEgoMCgYMCAUGDwcLCwcEDgcDDA8GDBAFBwsMBwkGCgkJBAkHBQoICRAHDwoHBQcLCAkSDA4LEwgMDgcEDAwGCgYMBQoODgcOFgoGBgsJDgQOCAwGBxIIEAcNCQkMCgUMCwYFCQYICwYNDwwHCxMGDQgLBwYIBgMKCQkGDAkIBwkJEQwIBw4JDwYKDAMICQYNBwUICQYHDw0IDAcLCgUHDwkOCwkQCQwKBggJBwcHCg0KDAkIBwgEBQcHDwgHEQcUCgYLDAkRDggGGA0MBg0LCQkJCgQHEAoMCgcGCAkGDA0EDgoMBQsIDAcIDA0EDQoFCQcKEAkPDAsLDg0LCAoPCAwHBhEPCAkIBQoIBQcFBhIICwYHBgkFDAkMCg4MBw0MCAYHBgYPDgoKCAgJCQ4HCAYJBQcFCQ4LBwoHBgkECgwKCg0HCAUJCQ0DCRYOCwUbCQcLCwsJDgQHBxELBQ4GDwgOCgoJDQoFBgkIBhEGDA8ICQoGCggGBwsJCAkFDgwNCQUPBwkJCQUIDAoJCAgFCAgHBggNBwwGBAUICgYICAgKBw0KBgsKCQkGBwgEBwYMCgYJCgoGCBwIBwUPBwQIBwYIEg8JEAkOFQYECgkICRUUBgUFCQcGCAUECgwIBxAKBwUNDQsKCgkKBgYXCAwLCxgMCAsICwgIDw4GDwoLDwcFCgMNBgQJBxgLCwcHBggGBwQMCgUIBQcGCxAFCQoQCgkJBxEIAwgSCQYJBAwOBgcOCAQJCAUMCg==",
          "dtype": "i1"
         },
         "xaxis": "x3",
         "yaxis": "y3"
        },
        {
         "marker": {
          "color": "green"
         },
         "name": "Verdadero",
         "showlegend": false,
         "type": "box",
         "xaxis": "x4",
         "y": {
          "bdata": "CwgHCw0GCxQIDQULCAUIBAkKCAsKCQkIDgoQBw0TCwUOFg0LDAoJCwwLCgsKDQgKEBEOEQ4GCQoNCAkIDQgDBwYFCAsKBwkHDBQMEhkODx8GCRsKCAcJDBAIEBEIBwcKDgcEBwcLDAgIBwoMCxALCA4LBgkTEw8GDwoLDgoIEgYLCAcXCQkJBg0MDwQJDhEICAgJEBQRBQgICAkKEgsJCAwQDQkPChcIBxAHCAQHDQQHBgwMCgkOBQ8NCg4RCQkFBgkICgkIDQYKCgwGChAGBgcLCwkHDxISEAgKCAcIBgsKDgcMBQYLCgoFCA0HCQcPCgYPDAcIBAsQChAJBQ4XCQ4GBQkKCgsKDQcICA0MBAgGCB0MCBIKBgcKBQkQEAYIDBQGDAYGDAkGBQgHGQYICAkKCwYICQkICRUKEAYMCQkHCwoEBgoNDAkGEgUMCAgLBw8IBwkICggKCAsRCAgICwwNCwYKBgUKCgkHBw0HDwoYCQcIBwwMCwwOCQgGBwgMCAYLDA4KFQcGDwsPCgcHCgoHCQgHDQYGCg0LEAwGCRIKDAoGDAgFBg8HCwsHBA4HAwwPBgwQBQcLDAcJBgoJCQQJBwUKCAkQBw8KBwUHCwgJEgwOCxMIDA4HBAwMBgoGDAUKDg4HEggQBw0JCQwKBQwLBgUJBggLBg0PDAcLEwYNCAsHBggGAwoJCQYMCQgHCQUJBwoQCQ8MCwsODQsICg8IDAcGEQ8ICQgFCggFBwUGEggLBgcGCQUMCQwKDgwHDQw=",
          "dtype": "i1"
         },
         "yaxis": "y4"
        },
        {
         "marker": {
          "color": "red"
         },
         "name": "Falso",
         "showlegend": false,
         "type": "box",
         "xaxis": "x4",
         "y": {
          "bdata": "CwoFDgsFBQgOCQYKEQUGCwUGCRIGCQcFBgUMBAMGDgQQCA8MDQgSBw0MBgwHBwsGCBEMCgwOCQYNCxAICgcKCQYJBgkNCQwQEggOFgoGBgsJDgQOCAwGBwkRDAgHDgkPBgoMAwgJBg0HBQgJBgcPDQgMBwsKBQcPCQ4LCRAJDAoGCAkHBwcKDQoMCQgHCAQFBwcPCAcRBxQKBgsMCREOCAYYDQwGDQsJCQkKBAcQCgwKBwYICQYMDQQOCgwFCwgMBwgMDQQNCggGBwYGDw4KCggICQkOBwgGCQUHBQkOCwcKBwYJBAoMCgoNBwgFCQkNAwkWDgsFGwkHCwsLCQ4EBwcRCwUOBg8IDgoKCQ0KBQYJCAYRBgwPCAkKBgoIBgcLCQgJBQ4MDQkFDwcJCQkFCAwKCQgIBQgIBwYIDQcMBgQFCAoGCAgICgcNCgYLCgkJBgcIBAcGDAoGCQoKBggcCAcFDwcECAcGCBIPCRAJDhUGBAoJCAkVFAYFBQkHBggFBAoMCAcQCgcFDQ0LCgoJCgYGFwgMCwsYDAgLCAsICA8OBg8KCw8HBQoDDQYECQcYCwsHBwYIBgcEDAoFCAUHBgsQBQkKEAoJCQcRCAMIEgkGCQQMDgYHDggECQgFDAo=",
          "dtype": "i1"
         },
         "yaxis": "y4"
        }
       ],
       "layout": {
        "annotations": [
         {
          "font": {
           "size": 16
          },
          "showarrow": false,
          "text": "Distribución de Longitud de Texto",
          "x": 0.225,
          "xanchor": "center",
          "xref": "paper",
          "y": 1,
          "yanchor": "bottom",
          "yref": "paper"
         },
         {
          "font": {
           "size": 16
          },
          "showarrow": false,
          "text": "Longitud por Clase",
          "x": 0.775,
          "xanchor": "center",
          "xref": "paper",
          "y": 1,
          "yanchor": "bottom",
          "yref": "paper"
         },
         {
          "font": {
           "size": 16
          },
          "showarrow": false,
          "text": "Distribución de Número de Palabras",
          "x": 0.225,
          "xanchor": "center",
          "xref": "paper",
          "y": 0.375,
          "yanchor": "bottom",
          "yref": "paper"
         },
         {
          "font": {
           "size": 16
          },
          "showarrow": false,
          "text": "Palabras por Clase",
          "x": 0.775,
          "xanchor": "center",
          "xref": "paper",
          "y": 0.375,
          "yanchor": "bottom",
          "yref": "paper"
         }
        ],
        "height": 600,
        "template": {
         "data": {
          "bar": [
           {
            "error_x": {
             "color": "#2a3f5f"
            },
            "error_y": {
             "color": "#2a3f5f"
            },
            "marker": {
             "line": {
              "color": "#E5ECF6",
              "width": 0.5
             },
             "pattern": {
              "fillmode": "overlay",
              "size": 10,
              "solidity": 0.2
             }
            },
            "type": "bar"
           }
          ],
          "barpolar": [
           {
            "marker": {
             "line": {
              "color": "#E5ECF6",
              "width": 0.5
             },
             "pattern": {
              "fillmode": "overlay",
              "size": 10,
              "solidity": 0.2
             }
            },
            "type": "barpolar"
           }
          ],
          "carpet": [
           {
            "aaxis": {
             "endlinecolor": "#2a3f5f",
             "gridcolor": "white",
             "linecolor": "white",
             "minorgridcolor": "white",
             "startlinecolor": "#2a3f5f"
            },
            "baxis": {
             "endlinecolor": "#2a3f5f",
             "gridcolor": "white",
             "linecolor": "white",
             "minorgridcolor": "white",
             "startlinecolor": "#2a3f5f"
            },
            "type": "carpet"
           }
          ],
          "choropleth": [
           {
            "colorbar": {
             "outlinewidth": 0,
             "ticks": ""
            },
            "type": "choropleth"
           }
          ],
          "contour": [
           {
            "colorbar": {
             "outlinewidth": 0,
             "ticks": ""
            },
            "colorscale": [
             [
              0,
              "#0d0887"
             ],
             [
              0.1111111111111111,
              "#46039f"
             ],
             [
              0.2222222222222222,
              "#7201a8"
             ],
             [
              0.3333333333333333,
              "#9c179e"
             ],
             [
              0.4444444444444444,
              "#bd3786"
             ],
             [
              0.5555555555555556,
              "#d8576b"
             ],
             [
              0.6666666666666666,
              "#ed7953"
             ],
             [
              0.7777777777777778,
              "#fb9f3a"
             ],
             [
              0.8888888888888888,
              "#fdca26"
             ],
             [
              1,
              "#f0f921"
             ]
            ],
            "type": "contour"
           }
          ],
          "contourcarpet": [
           {
            "colorbar": {
             "outlinewidth": 0,
             "ticks": ""
            },
            "type": "contourcarpet"
           }
          ],
          "heatmap": [
           {
            "colorbar": {
             "outlinewidth": 0,
             "ticks": ""
            },
            "colorscale": [
             [
              0,
              "#0d0887"
             ],
             [
              0.1111111111111111,
              "#46039f"
             ],
             [
              0.2222222222222222,
              "#7201a8"
             ],
             [
              0.3333333333333333,
              "#9c179e"
             ],
             [
              0.4444444444444444,
              "#bd3786"
             ],
             [
              0.5555555555555556,
              "#d8576b"
             ],
             [
              0.6666666666666666,
              "#ed7953"
             ],
             [
              0.7777777777777778,
              "#fb9f3a"
             ],
             [
              0.8888888888888888,
              "#fdca26"
             ],
             [
              1,
              "#f0f921"
             ]
            ],
            "type": "heatmap"
           }
          ],
          "histogram": [
           {
            "marker": {
             "pattern": {
              "fillmode": "overlay",
              "size": 10,
              "solidity": 0.2
             }
            },
            "type": "histogram"
           }
          ],
          "histogram2d": [
           {
            "colorbar": {
             "outlinewidth": 0,
             "ticks": ""
            },
            "colorscale": [
             [
              0,
              "#0d0887"
             ],
             [
              0.1111111111111111,
              "#46039f"
             ],
             [
              0.2222222222222222,
              "#7201a8"
             ],
             [
              0.3333333333333333,
              "#9c179e"
             ],
             [
              0.4444444444444444,
              "#bd3786"
             ],
             [
              0.5555555555555556,
              "#d8576b"
             ],
             [
              0.6666666666666666,
              "#ed7953"
             ],
             [
              0.7777777777777778,
              "#fb9f3a"
             ],
             [
              0.8888888888888888,
              "#fdca26"
             ],
             [
              1,
              "#f0f921"
             ]
            ],
            "type": "histogram2d"
           }
          ],
          "histogram2dcontour": [
           {
            "colorbar": {
             "outlinewidth": 0,
             "ticks": ""
            },
            "colorscale": [
             [
              0,
              "#0d0887"
             ],
             [
              0.1111111111111111,
              "#46039f"
             ],
             [
              0.2222222222222222,
              "#7201a8"
             ],
             [
              0.3333333333333333,
              "#9c179e"
             ],
             [
              0.4444444444444444,
              "#bd3786"
             ],
             [
              0.5555555555555556,
              "#d8576b"
             ],
             [
              0.6666666666666666,
              "#ed7953"
             ],
             [
              0.7777777777777778,
              "#fb9f3a"
             ],
             [
              0.8888888888888888,
              "#fdca26"
             ],
             [
              1,
              "#f0f921"
             ]
            ],
            "type": "histogram2dcontour"
           }
          ],
          "mesh3d": [
           {
            "colorbar": {
             "outlinewidth": 0,
             "ticks": ""
            },
            "type": "mesh3d"
           }
          ],
          "parcoords": [
           {
            "line": {
             "colorbar": {
              "outlinewidth": 0,
              "ticks": ""
             }
            },
            "type": "parcoords"
           }
          ],
          "pie": [
           {
            "automargin": true,
            "type": "pie"
           }
          ],
          "scatter": [
           {
            "fillpattern": {
             "fillmode": "overlay",
             "size": 10,
             "solidity": 0.2
            },
            "type": "scatter"
           }
          ],
          "scatter3d": [
           {
            "line": {
             "colorbar": {
              "outlinewidth": 0,
              "ticks": ""
             }
            },
            "marker": {
             "colorbar": {
              "outlinewidth": 0,
              "ticks": ""
             }
            },
            "type": "scatter3d"
           }
          ],
          "scattercarpet": [
           {
            "marker": {
             "colorbar": {
              "outlinewidth": 0,
              "ticks": ""
             }
            },
            "type": "scattercarpet"
           }
          ],
          "scattergeo": [
           {
            "marker": {
             "colorbar": {
              "outlinewidth": 0,
              "ticks": ""
             }
            },
            "type": "scattergeo"
           }
          ],
          "scattergl": [
           {
            "marker": {
             "colorbar": {
              "outlinewidth": 0,
              "ticks": ""
             }
            },
            "type": "scattergl"
           }
          ],
          "scattermap": [
           {
            "marker": {
             "colorbar": {
              "outlinewidth": 0,
              "ticks": ""
             }
            },
            "type": "scattermap"
           }
          ],
          "scattermapbox": [
           {
            "marker": {
             "colorbar": {
              "outlinewidth": 0,
              "ticks": ""
             }
            },
            "type": "scattermapbox"
           }
          ],
          "scatterpolar": [
           {
            "marker": {
             "colorbar": {
              "outlinewidth": 0,
              "ticks": ""
             }
            },
            "type": "scatterpolar"
           }
          ],
          "scatterpolargl": [
           {
            "marker": {
             "colorbar": {
              "outlinewidth": 0,
              "ticks": ""
             }
            },
            "type": "scatterpolargl"
           }
          ],
          "scatterternary": [
           {
            "marker": {
             "colorbar": {
              "outlinewidth": 0,
              "ticks": ""
             }
            },
            "type": "scatterternary"
           }
          ],
          "surface": [
           {
            "colorbar": {
             "outlinewidth": 0,
             "ticks": ""
            },
            "colorscale": [
             [
              0,
              "#0d0887"
             ],
             [
              0.1111111111111111,
              "#46039f"
             ],
             [
              0.2222222222222222,
              "#7201a8"
             ],
             [
              0.3333333333333333,
              "#9c179e"
             ],
             [
              0.4444444444444444,
              "#bd3786"
             ],
             [
              0.5555555555555556,
              "#d8576b"
             ],
             [
              0.6666666666666666,
              "#ed7953"
             ],
             [
              0.7777777777777778,
              "#fb9f3a"
             ],
             [
              0.8888888888888888,
              "#fdca26"
             ],
             [
              1,
              "#f0f921"
             ]
            ],
            "type": "surface"
           }
          ],
          "table": [
           {
            "cells": {
             "fill": {
              "color": "#EBF0F8"
             },
             "line": {
              "color": "white"
             }
            },
            "header": {
             "fill": {
              "color": "#C8D4E3"
             },
             "line": {
              "color": "white"
             }
            },
            "type": "table"
           }
          ]
         },
         "layout": {
          "annotationdefaults": {
           "arrowcolor": "#2a3f5f",
           "arrowhead": 0,
           "arrowwidth": 1
          },
          "autotypenumbers": "strict",
          "coloraxis": {
           "colorbar": {
            "outlinewidth": 0,
            "ticks": ""
           }
          },
          "colorscale": {
           "diverging": [
            [
             0,
             "#8e0152"
            ],
            [
             0.1,
             "#c51b7d"
            ],
            [
             0.2,
             "#de77ae"
            ],
            [
             0.3,
             "#f1b6da"
            ],
            [
             0.4,
             "#fde0ef"
            ],
            [
             0.5,
             "#f7f7f7"
            ],
            [
             0.6,
             "#e6f5d0"
            ],
            [
             0.7,
             "#b8e186"
            ],
            [
             0.8,
             "#7fbc41"
            ],
            [
             0.9,
             "#4d9221"
            ],
            [
             1,
             "#276419"
            ]
           ],
           "sequential": [
            [
             0,
             "#0d0887"
            ],
            [
             0.1111111111111111,
             "#46039f"
            ],
            [
             0.2222222222222222,
             "#7201a8"
            ],
            [
             0.3333333333333333,
             "#9c179e"
            ],
            [
             0.4444444444444444,
             "#bd3786"
            ],
            [
             0.5555555555555556,
             "#d8576b"
            ],
            [
             0.6666666666666666,
             "#ed7953"
            ],
            [
             0.7777777777777778,
             "#fb9f3a"
            ],
            [
             0.8888888888888888,
             "#fdca26"
            ],
            [
             1,
             "#f0f921"
            ]
           ],
           "sequentialminus": [
            [
             0,
             "#0d0887"
            ],
            [
             0.1111111111111111,
             "#46039f"
            ],
            [
             0.2222222222222222,
             "#7201a8"
            ],
            [
             0.3333333333333333,
             "#9c179e"
            ],
            [
             0.4444444444444444,
             "#bd3786"
            ],
            [
             0.5555555555555556,
             "#d8576b"
            ],
            [
             0.6666666666666666,
             "#ed7953"
            ],
            [
             0.7777777777777778,
             "#fb9f3a"
            ],
            [
             0.8888888888888888,
             "#fdca26"
            ],
            [
             1,
             "#f0f921"
            ]
           ]
          },
          "colorway": [
           "#636efa",
           "#EF553B",
           "#00cc96",
           "#ab63fa",
           "#FFA15A",
           "#19d3f3",
           "#FF6692",
           "#B6E880",
           "#FF97FF",
           "#FECB52"
          ],
          "font": {
           "color": "#2a3f5f"
          },
          "geo": {
           "bgcolor": "white",
           "lakecolor": "white",
           "landcolor": "#E5ECF6",
           "showlakes": true,
           "showland": true,
           "subunitcolor": "white"
          },
          "hoverlabel": {
           "align": "left"
          },
          "hovermode": "closest",
          "mapbox": {
           "style": "light"
          },
          "paper_bgcolor": "white",
          "plot_bgcolor": "#E5ECF6",
          "polar": {
           "angularaxis": {
            "gridcolor": "white",
            "linecolor": "white",
            "ticks": ""
           },
           "bgcolor": "#E5ECF6",
           "radialaxis": {
            "gridcolor": "white",
            "linecolor": "white",
            "ticks": ""
           }
          },
          "scene": {
           "xaxis": {
            "backgroundcolor": "#E5ECF6",
            "gridcolor": "white",
            "gridwidth": 2,
            "linecolor": "white",
            "showbackground": true,
            "ticks": "",
            "zerolinecolor": "white"
           },
           "yaxis": {
            "backgroundcolor": "#E5ECF6",
            "gridcolor": "white",
            "gridwidth": 2,
            "linecolor": "white",
            "showbackground": true,
            "ticks": "",
            "zerolinecolor": "white"
           },
           "zaxis": {
            "backgroundcolor": "#E5ECF6",
            "gridcolor": "white",
            "gridwidth": 2,
            "linecolor": "white",
            "showbackground": true,
            "ticks": "",
            "zerolinecolor": "white"
           }
          },
          "shapedefaults": {
           "line": {
            "color": "#2a3f5f"
           }
          },
          "ternary": {
           "aaxis": {
            "gridcolor": "white",
            "linecolor": "white",
            "ticks": ""
           },
           "baxis": {
            "gridcolor": "white",
            "linecolor": "white",
            "ticks": ""
           },
           "bgcolor": "#E5ECF6",
           "caxis": {
            "gridcolor": "white",
            "linecolor": "white",
            "ticks": ""
           }
          },
          "title": {
           "x": 0.05
          },
          "xaxis": {
           "automargin": true,
           "gridcolor": "white",
           "linecolor": "white",
           "ticks": "",
           "title": {
            "standoff": 15
           },
           "zerolinecolor": "white",
           "zerolinewidth": 2
          },
          "yaxis": {
           "automargin": true,
           "gridcolor": "white",
           "linecolor": "white",
           "ticks": "",
           "title": {
            "standoff": 15
           },
           "zerolinecolor": "white",
           "zerolinewidth": 2
          }
         }
        },
        "title": {
         "text": "Análisis Exploratorio de Texto Preprocesado"
        },
        "xaxis": {
         "anchor": "y",
         "domain": [
          0,
          0.45
         ]
        },
        "xaxis2": {
         "anchor": "y2",
         "domain": [
          0.55,
          1
         ]
        },
        "xaxis3": {
         "anchor": "y3",
         "domain": [
          0,
          0.45
         ]
        },
        "xaxis4": {
         "anchor": "y4",
         "domain": [
          0.55,
          1
         ]
        },
        "yaxis": {
         "anchor": "x",
         "domain": [
          0.625,
          1
         ]
        },
        "yaxis2": {
         "anchor": "x2",
         "domain": [
          0.625,
          1
         ]
        },
        "yaxis3": {
         "anchor": "x3",
         "domain": [
          0,
          0.375
         ]
        },
        "yaxis4": {
         "anchor": "x4",
         "domain": [
          0,
          0.375
         ]
        }
       }
      }
     },
     "metadata": {},
     "output_type": "display_data"
    },
    {
     "name": "stdout",
     "output_type": "stream",
     "text": [
      "\n",
      "Visualizaciones de distribuciones creadas\n"
     ]
    }
   ],
   "source": [
    "# Analizo las características del texto preprocesado\n",
    "print(\"ANALISIS EXPLORATORIO DE TEXTO\")\n",
    "print(\"=\" * 35)\n",
    "\n",
    "# Calculo estadísticas básicas de longitud\n",
    "text_lengths = texts_stemmed_final.str.len()\n",
    "word_counts = texts_stemmed_final.str.split().str.len()\n",
    "\n",
    "print(f\"Estadísticas de longitud de texto:\")\n",
    "print(f\"- Caracteres promedio: {text_lengths.mean():.0f}\")\n",
    "print(f\"- Caracteres mediana: {text_lengths.median():.0f}\")\n",
    "print(f\"- Caracteres min: {text_lengths.min()}\")\n",
    "print(f\"- Caracteres max: {text_lengths.max()}\")\n",
    "print(f\"\\n- Palabras promedio: {word_counts.mean():.0f}\")\n",
    "print(f\"- Palabras mediana: {word_counts.median():.0f}\")\n",
    "print(f\"- Palabras min: {word_counts.min()}\")\n",
    "print(f\"- Palabras max: {word_counts.max()}\")\n",
    "\n",
    "# Analizo diferencias entre clases\n",
    "true_texts = texts_stemmed_final[y_text_final == 1.0]\n",
    "false_texts = texts_stemmed_final[y_text_final == 0.0]\n",
    "\n",
    "true_lengths = true_texts.str.len()\n",
    "false_lengths = false_texts.str.len()\n",
    "true_words = true_texts.str.split().str.len()\n",
    "false_words = false_texts.str.split().str.len()\n",
    "\n",
    "print(f\"\\nComparación por clase:\")\n",
    "print(f\"Noticias VERDADERAS:\")\n",
    "print(f\"- Caracteres promedio: {true_lengths.mean():.0f}\")\n",
    "print(f\"- Palabras promedio: {true_words.mean():.0f}\")\n",
    "\n",
    "print(f\"Noticias FALSAS:\")\n",
    "print(f\"- Caracteres promedio: {false_lengths.mean():.0f}\")\n",
    "print(f\"- Palabras promedio: {false_words.mean():.0f}\")\n",
    "\n",
    "# Creo visualizaciones\n",
    "fig = make_subplots(\n",
    "    rows=2, cols=2,\n",
    "    subplot_titles=(\n",
    "        'Distribución de Longitud de Texto',\n",
    "        'Longitud por Clase',\n",
    "        'Distribución de Número de Palabras',\n",
    "        'Palabras por Clase'\n",
    "    )\n",
    ")\n",
    "\n",
    "# Histograma de longitudes de texto\n",
    "fig.add_trace(\n",
    "    go.Histogram(\n",
    "        x=text_lengths,\n",
    "        nbinsx=50,\n",
    "        name='Longitud Texto',\n",
    "        marker_color='blue',\n",
    "        showlegend=False\n",
    "    ),\n",
    "    row=1, col=1\n",
    ")\n",
    "\n",
    "# Box plot de longitudes por clase\n",
    "fig.add_trace(\n",
    "    go.Box(\n",
    "        y=true_lengths,\n",
    "        name='Verdadero',\n",
    "        marker_color='green'\n",
    "    ),\n",
    "    row=1, col=2\n",
    ")\n",
    "\n",
    "fig.add_trace(\n",
    "    go.Box(\n",
    "        y=false_lengths,\n",
    "        name='Falso',\n",
    "        marker_color='red'\n",
    "    ),\n",
    "    row=1, col=2\n",
    ")\n",
    "\n",
    "# Histograma de número de palabras\n",
    "fig.add_trace(\n",
    "    go.Histogram(\n",
    "        x=word_counts,\n",
    "        nbinsx=40,\n",
    "        name='Num Palabras',\n",
    "        marker_color='orange',\n",
    "        showlegend=False\n",
    "    ),\n",
    "    row=2, col=1\n",
    ")\n",
    "\n",
    "# Box plot de palabras por clase\n",
    "fig.add_trace(\n",
    "    go.Box(\n",
    "        y=true_words,\n",
    "        name='Verdadero',\n",
    "        marker_color='green',\n",
    "        showlegend=False\n",
    "    ),\n",
    "    row=2, col=2\n",
    ")\n",
    "\n",
    "fig.add_trace(\n",
    "    go.Box(\n",
    "        y=false_words,\n",
    "        name='Falso',\n",
    "        marker_color='red',\n",
    "        showlegend=False\n",
    "    ),\n",
    "    row=2, col=2\n",
    ")\n",
    "\n",
    "fig.update_layout(\n",
    "    title='Análisis Exploratorio de Texto Preprocesado',\n",
    "    height=600\n",
    ")\n",
    "\n",
    "fig.show()\n",
    "\n",
    "print(f\"\\nVisualizaciones de distribuciones creadas\")"
   ]
  },
  {
   "cell_type": "code",
   "execution_count": 6,
   "id": "cell-9",
   "metadata": {},
   "outputs": [
    {
     "name": "stdout",
     "output_type": "stream",
     "text": [
      "\n",
      "ANALISIS DE PALABRAS MAS FRECUENTES\n",
      "----------------------------------------\n",
      "Top 20 palabras en noticias VERDADERAS:\n",
      " 1. number_token    (360 veces)\n",
      " 2. say             (112 veces)\n",
      " 3. year            (86 veces)\n",
      " 4. state           (76 veces)\n",
      " 5. american        (54 veces)\n",
      " 6. percent         (54 veces)\n",
      " 7. trump           (47 veces)\n",
      " 8. million         (40 veces)\n",
      " 9. tax             (39 veces)\n",
      "10. nation          (37 veces)\n",
      "11. peopl           (36 veces)\n",
      "12. texa            (34 veces)\n",
      "13. presid          (34 veces)\n",
      "14. time            (33 veces)\n",
      "15. rate            (33 veces)\n",
      "16. one             (32 veces)\n",
      "17. countri         (32 veces)\n",
      "18. new             (31 veces)\n",
      "19. sinc            (30 veces)\n",
      "20. job             (30 veces)\n",
      "\n",
      "Top 20 palabras en noticias FALSAS:\n",
      " 1. number_token    (242 veces)\n",
      " 2. say             (145 veces)\n",
      " 3. biden           (89 veces)\n",
      " 4. vaccin          (72 veces)\n",
      " 5. covid           (57 veces)\n",
      " 6. joe             (53 veces)\n",
      " 7. show            (47 veces)\n",
      " 8. trump           (42 veces)\n",
      " 9. peopl           (40 veces)\n",
      "10. said            (35 veces)\n",
      "11. vote            (35 veces)\n",
      "12. photo           (26 veces)\n",
      "13. elect           (26 veces)\n",
      "14. presid          (22 veces)\n",
      "15. state           (21 veces)\n",
      "16. die             (20 veces)\n",
      "17. ballot          (19 veces)\n",
      "18. video           (18 veces)\n",
      "19. donald          (18 veces)\n",
      "20. tax             (17 veces)\n"
     ]
    },
    {
     "data": {
      "application/vnd.plotly.v1+json": {
       "config": {
        "plotlyServerURL": "https://plot.ly"
       },
       "data": [
        {
         "marker": {
          "color": "green"
         },
         "orientation": "h",
         "showlegend": false,
         "type": "bar",
         "x": [
          360,
          112,
          86,
          76,
          54,
          54,
          47,
          40,
          39,
          37,
          36,
          34,
          34,
          33,
          33
         ],
         "xaxis": "x",
         "y": [
          "number_token",
          "say",
          "year",
          "state",
          "american",
          "percent",
          "trump",
          "million",
          "tax",
          "nation",
          "peopl",
          "texa",
          "presid",
          "time",
          "rate"
         ],
         "yaxis": "y"
        },
        {
         "marker": {
          "color": "red"
         },
         "orientation": "h",
         "showlegend": false,
         "type": "bar",
         "x": [
          242,
          145,
          89,
          72,
          57,
          53,
          47,
          42,
          40,
          35,
          35,
          26,
          26,
          22,
          21
         ],
         "xaxis": "x2",
         "y": [
          "number_token",
          "say",
          "biden",
          "vaccin",
          "covid",
          "joe",
          "show",
          "trump",
          "peopl",
          "said",
          "vote",
          "photo",
          "elect",
          "presid",
          "state"
         ],
         "yaxis": "y2"
        }
       ],
       "layout": {
        "annotations": [
         {
          "font": {
           "size": 16
          },
          "showarrow": false,
          "text": "Top 15 Palabras - Verdadero",
          "x": 0.225,
          "xanchor": "center",
          "xref": "paper",
          "y": 1,
          "yanchor": "bottom",
          "yref": "paper"
         },
         {
          "font": {
           "size": 16
          },
          "showarrow": false,
          "text": "Top 15 Palabras - Falso",
          "x": 0.775,
          "xanchor": "center",
          "xref": "paper",
          "y": 1,
          "yanchor": "bottom",
          "yref": "paper"
         }
        ],
        "height": 500,
        "template": {
         "data": {
          "bar": [
           {
            "error_x": {
             "color": "#2a3f5f"
            },
            "error_y": {
             "color": "#2a3f5f"
            },
            "marker": {
             "line": {
              "color": "#E5ECF6",
              "width": 0.5
             },
             "pattern": {
              "fillmode": "overlay",
              "size": 10,
              "solidity": 0.2
             }
            },
            "type": "bar"
           }
          ],
          "barpolar": [
           {
            "marker": {
             "line": {
              "color": "#E5ECF6",
              "width": 0.5
             },
             "pattern": {
              "fillmode": "overlay",
              "size": 10,
              "solidity": 0.2
             }
            },
            "type": "barpolar"
           }
          ],
          "carpet": [
           {
            "aaxis": {
             "endlinecolor": "#2a3f5f",
             "gridcolor": "white",
             "linecolor": "white",
             "minorgridcolor": "white",
             "startlinecolor": "#2a3f5f"
            },
            "baxis": {
             "endlinecolor": "#2a3f5f",
             "gridcolor": "white",
             "linecolor": "white",
             "minorgridcolor": "white",
             "startlinecolor": "#2a3f5f"
            },
            "type": "carpet"
           }
          ],
          "choropleth": [
           {
            "colorbar": {
             "outlinewidth": 0,
             "ticks": ""
            },
            "type": "choropleth"
           }
          ],
          "contour": [
           {
            "colorbar": {
             "outlinewidth": 0,
             "ticks": ""
            },
            "colorscale": [
             [
              0,
              "#0d0887"
             ],
             [
              0.1111111111111111,
              "#46039f"
             ],
             [
              0.2222222222222222,
              "#7201a8"
             ],
             [
              0.3333333333333333,
              "#9c179e"
             ],
             [
              0.4444444444444444,
              "#bd3786"
             ],
             [
              0.5555555555555556,
              "#d8576b"
             ],
             [
              0.6666666666666666,
              "#ed7953"
             ],
             [
              0.7777777777777778,
              "#fb9f3a"
             ],
             [
              0.8888888888888888,
              "#fdca26"
             ],
             [
              1,
              "#f0f921"
             ]
            ],
            "type": "contour"
           }
          ],
          "contourcarpet": [
           {
            "colorbar": {
             "outlinewidth": 0,
             "ticks": ""
            },
            "type": "contourcarpet"
           }
          ],
          "heatmap": [
           {
            "colorbar": {
             "outlinewidth": 0,
             "ticks": ""
            },
            "colorscale": [
             [
              0,
              "#0d0887"
             ],
             [
              0.1111111111111111,
              "#46039f"
             ],
             [
              0.2222222222222222,
              "#7201a8"
             ],
             [
              0.3333333333333333,
              "#9c179e"
             ],
             [
              0.4444444444444444,
              "#bd3786"
             ],
             [
              0.5555555555555556,
              "#d8576b"
             ],
             [
              0.6666666666666666,
              "#ed7953"
             ],
             [
              0.7777777777777778,
              "#fb9f3a"
             ],
             [
              0.8888888888888888,
              "#fdca26"
             ],
             [
              1,
              "#f0f921"
             ]
            ],
            "type": "heatmap"
           }
          ],
          "histogram": [
           {
            "marker": {
             "pattern": {
              "fillmode": "overlay",
              "size": 10,
              "solidity": 0.2
             }
            },
            "type": "histogram"
           }
          ],
          "histogram2d": [
           {
            "colorbar": {
             "outlinewidth": 0,
             "ticks": ""
            },
            "colorscale": [
             [
              0,
              "#0d0887"
             ],
             [
              0.1111111111111111,
              "#46039f"
             ],
             [
              0.2222222222222222,
              "#7201a8"
             ],
             [
              0.3333333333333333,
              "#9c179e"
             ],
             [
              0.4444444444444444,
              "#bd3786"
             ],
             [
              0.5555555555555556,
              "#d8576b"
             ],
             [
              0.6666666666666666,
              "#ed7953"
             ],
             [
              0.7777777777777778,
              "#fb9f3a"
             ],
             [
              0.8888888888888888,
              "#fdca26"
             ],
             [
              1,
              "#f0f921"
             ]
            ],
            "type": "histogram2d"
           }
          ],
          "histogram2dcontour": [
           {
            "colorbar": {
             "outlinewidth": 0,
             "ticks": ""
            },
            "colorscale": [
             [
              0,
              "#0d0887"
             ],
             [
              0.1111111111111111,
              "#46039f"
             ],
             [
              0.2222222222222222,
              "#7201a8"
             ],
             [
              0.3333333333333333,
              "#9c179e"
             ],
             [
              0.4444444444444444,
              "#bd3786"
             ],
             [
              0.5555555555555556,
              "#d8576b"
             ],
             [
              0.6666666666666666,
              "#ed7953"
             ],
             [
              0.7777777777777778,
              "#fb9f3a"
             ],
             [
              0.8888888888888888,
              "#fdca26"
             ],
             [
              1,
              "#f0f921"
             ]
            ],
            "type": "histogram2dcontour"
           }
          ],
          "mesh3d": [
           {
            "colorbar": {
             "outlinewidth": 0,
             "ticks": ""
            },
            "type": "mesh3d"
           }
          ],
          "parcoords": [
           {
            "line": {
             "colorbar": {
              "outlinewidth": 0,
              "ticks": ""
             }
            },
            "type": "parcoords"
           }
          ],
          "pie": [
           {
            "automargin": true,
            "type": "pie"
           }
          ],
          "scatter": [
           {
            "fillpattern": {
             "fillmode": "overlay",
             "size": 10,
             "solidity": 0.2
            },
            "type": "scatter"
           }
          ],
          "scatter3d": [
           {
            "line": {
             "colorbar": {
              "outlinewidth": 0,
              "ticks": ""
             }
            },
            "marker": {
             "colorbar": {
              "outlinewidth": 0,
              "ticks": ""
             }
            },
            "type": "scatter3d"
           }
          ],
          "scattercarpet": [
           {
            "marker": {
             "colorbar": {
              "outlinewidth": 0,
              "ticks": ""
             }
            },
            "type": "scattercarpet"
           }
          ],
          "scattergeo": [
           {
            "marker": {
             "colorbar": {
              "outlinewidth": 0,
              "ticks": ""
             }
            },
            "type": "scattergeo"
           }
          ],
          "scattergl": [
           {
            "marker": {
             "colorbar": {
              "outlinewidth": 0,
              "ticks": ""
             }
            },
            "type": "scattergl"
           }
          ],
          "scattermap": [
           {
            "marker": {
             "colorbar": {
              "outlinewidth": 0,
              "ticks": ""
             }
            },
            "type": "scattermap"
           }
          ],
          "scattermapbox": [
           {
            "marker": {
             "colorbar": {
              "outlinewidth": 0,
              "ticks": ""
             }
            },
            "type": "scattermapbox"
           }
          ],
          "scatterpolar": [
           {
            "marker": {
             "colorbar": {
              "outlinewidth": 0,
              "ticks": ""
             }
            },
            "type": "scatterpolar"
           }
          ],
          "scatterpolargl": [
           {
            "marker": {
             "colorbar": {
              "outlinewidth": 0,
              "ticks": ""
             }
            },
            "type": "scatterpolargl"
           }
          ],
          "scatterternary": [
           {
            "marker": {
             "colorbar": {
              "outlinewidth": 0,
              "ticks": ""
             }
            },
            "type": "scatterternary"
           }
          ],
          "surface": [
           {
            "colorbar": {
             "outlinewidth": 0,
             "ticks": ""
            },
            "colorscale": [
             [
              0,
              "#0d0887"
             ],
             [
              0.1111111111111111,
              "#46039f"
             ],
             [
              0.2222222222222222,
              "#7201a8"
             ],
             [
              0.3333333333333333,
              "#9c179e"
             ],
             [
              0.4444444444444444,
              "#bd3786"
             ],
             [
              0.5555555555555556,
              "#d8576b"
             ],
             [
              0.6666666666666666,
              "#ed7953"
             ],
             [
              0.7777777777777778,
              "#fb9f3a"
             ],
             [
              0.8888888888888888,
              "#fdca26"
             ],
             [
              1,
              "#f0f921"
             ]
            ],
            "type": "surface"
           }
          ],
          "table": [
           {
            "cells": {
             "fill": {
              "color": "#EBF0F8"
             },
             "line": {
              "color": "white"
             }
            },
            "header": {
             "fill": {
              "color": "#C8D4E3"
             },
             "line": {
              "color": "white"
             }
            },
            "type": "table"
           }
          ]
         },
         "layout": {
          "annotationdefaults": {
           "arrowcolor": "#2a3f5f",
           "arrowhead": 0,
           "arrowwidth": 1
          },
          "autotypenumbers": "strict",
          "coloraxis": {
           "colorbar": {
            "outlinewidth": 0,
            "ticks": ""
           }
          },
          "colorscale": {
           "diverging": [
            [
             0,
             "#8e0152"
            ],
            [
             0.1,
             "#c51b7d"
            ],
            [
             0.2,
             "#de77ae"
            ],
            [
             0.3,
             "#f1b6da"
            ],
            [
             0.4,
             "#fde0ef"
            ],
            [
             0.5,
             "#f7f7f7"
            ],
            [
             0.6,
             "#e6f5d0"
            ],
            [
             0.7,
             "#b8e186"
            ],
            [
             0.8,
             "#7fbc41"
            ],
            [
             0.9,
             "#4d9221"
            ],
            [
             1,
             "#276419"
            ]
           ],
           "sequential": [
            [
             0,
             "#0d0887"
            ],
            [
             0.1111111111111111,
             "#46039f"
            ],
            [
             0.2222222222222222,
             "#7201a8"
            ],
            [
             0.3333333333333333,
             "#9c179e"
            ],
            [
             0.4444444444444444,
             "#bd3786"
            ],
            [
             0.5555555555555556,
             "#d8576b"
            ],
            [
             0.6666666666666666,
             "#ed7953"
            ],
            [
             0.7777777777777778,
             "#fb9f3a"
            ],
            [
             0.8888888888888888,
             "#fdca26"
            ],
            [
             1,
             "#f0f921"
            ]
           ],
           "sequentialminus": [
            [
             0,
             "#0d0887"
            ],
            [
             0.1111111111111111,
             "#46039f"
            ],
            [
             0.2222222222222222,
             "#7201a8"
            ],
            [
             0.3333333333333333,
             "#9c179e"
            ],
            [
             0.4444444444444444,
             "#bd3786"
            ],
            [
             0.5555555555555556,
             "#d8576b"
            ],
            [
             0.6666666666666666,
             "#ed7953"
            ],
            [
             0.7777777777777778,
             "#fb9f3a"
            ],
            [
             0.8888888888888888,
             "#fdca26"
            ],
            [
             1,
             "#f0f921"
            ]
           ]
          },
          "colorway": [
           "#636efa",
           "#EF553B",
           "#00cc96",
           "#ab63fa",
           "#FFA15A",
           "#19d3f3",
           "#FF6692",
           "#B6E880",
           "#FF97FF",
           "#FECB52"
          ],
          "font": {
           "color": "#2a3f5f"
          },
          "geo": {
           "bgcolor": "white",
           "lakecolor": "white",
           "landcolor": "#E5ECF6",
           "showlakes": true,
           "showland": true,
           "subunitcolor": "white"
          },
          "hoverlabel": {
           "align": "left"
          },
          "hovermode": "closest",
          "mapbox": {
           "style": "light"
          },
          "paper_bgcolor": "white",
          "plot_bgcolor": "#E5ECF6",
          "polar": {
           "angularaxis": {
            "gridcolor": "white",
            "linecolor": "white",
            "ticks": ""
           },
           "bgcolor": "#E5ECF6",
           "radialaxis": {
            "gridcolor": "white",
            "linecolor": "white",
            "ticks": ""
           }
          },
          "scene": {
           "xaxis": {
            "backgroundcolor": "#E5ECF6",
            "gridcolor": "white",
            "gridwidth": 2,
            "linecolor": "white",
            "showbackground": true,
            "ticks": "",
            "zerolinecolor": "white"
           },
           "yaxis": {
            "backgroundcolor": "#E5ECF6",
            "gridcolor": "white",
            "gridwidth": 2,
            "linecolor": "white",
            "showbackground": true,
            "ticks": "",
            "zerolinecolor": "white"
           },
           "zaxis": {
            "backgroundcolor": "#E5ECF6",
            "gridcolor": "white",
            "gridwidth": 2,
            "linecolor": "white",
            "showbackground": true,
            "ticks": "",
            "zerolinecolor": "white"
           }
          },
          "shapedefaults": {
           "line": {
            "color": "#2a3f5f"
           }
          },
          "ternary": {
           "aaxis": {
            "gridcolor": "white",
            "linecolor": "white",
            "ticks": ""
           },
           "baxis": {
            "gridcolor": "white",
            "linecolor": "white",
            "ticks": ""
           },
           "bgcolor": "#E5ECF6",
           "caxis": {
            "gridcolor": "white",
            "linecolor": "white",
            "ticks": ""
           }
          },
          "title": {
           "x": 0.05
          },
          "xaxis": {
           "automargin": true,
           "gridcolor": "white",
           "linecolor": "white",
           "ticks": "",
           "title": {
            "standoff": 15
           },
           "zerolinecolor": "white",
           "zerolinewidth": 2
          },
          "yaxis": {
           "automargin": true,
           "gridcolor": "white",
           "linecolor": "white",
           "ticks": "",
           "title": {
            "standoff": 15
           },
           "zerolinecolor": "white",
           "zerolinewidth": 2
          }
         }
        },
        "title": {
         "text": "Palabras Más Frecuentes por Clase"
        },
        "xaxis": {
         "anchor": "y",
         "domain": [
          0,
          0.45
         ]
        },
        "xaxis2": {
         "anchor": "y2",
         "domain": [
          0.55,
          1
         ]
        },
        "yaxis": {
         "anchor": "x",
         "domain": [
          0,
          1
         ]
        },
        "yaxis2": {
         "anchor": "x2",
         "domain": [
          0,
          1
         ]
        }
       }
      }
     },
     "metadata": {},
     "output_type": "display_data"
    },
    {
     "name": "stdout",
     "output_type": "stream",
     "text": [
      "\n",
      "Analisis de palabras distintivas:\n",
      "Palabras solo en verdaderas: ['american', 'countri', 'job', 'million', 'nation', 'new', 'one', 'percent', 'rate', 'sinc', 'texa', 'time', 'year']\n",
      "Palabras solo en falsas: ['ballot', 'biden', 'covid', 'die', 'donald', 'elect', 'joe', 'photo', 'said', 'show', 'vaccin', 'video', 'vote']\n",
      "Palabras comunes: ['number_token', 'peopl', 'presid', 'say', 'state', 'tax', 'trump']\n",
      "\n",
      "Analisis de vocabulario completado\n"
     ]
    }
   ],
   "source": [
    "# Analizo las palabras más frecuentes por clase\n",
    "print(\"\\nANALISIS DE PALABRAS MAS FRECUENTES\")\n",
    "print(\"-\" * 40)\n",
    "\n",
    "def get_top_words(texts, n=20):\n",
    "    \"\"\"\n",
    "    Obtengo las n palabras más frecuentes de una colección de textos\n",
    "    \"\"\"\n",
    "    all_words = ' '.join(texts).split()\n",
    "    word_freq = Counter(all_words)\n",
    "    return word_freq.most_common(n)\n",
    "\n",
    "# Obtengo palabras más frecuentes por clase\n",
    "true_top_words = get_top_words(true_texts, 20)\n",
    "false_top_words = get_top_words(false_texts, 20)\n",
    "\n",
    "print(f\"Top 20 palabras en noticias VERDADERAS:\")\n",
    "for i, (word, count) in enumerate(true_top_words, 1):\n",
    "    print(f\"{i:2d}. {word:<15} ({count:,} veces)\")\n",
    "\n",
    "print(f\"\\nTop 20 palabras en noticias FALSAS:\")\n",
    "for i, (word, count) in enumerate(false_top_words, 1):\n",
    "    print(f\"{i:2d}. {word:<15} ({count:,} veces)\")\n",
    "\n",
    "# Visualizo palabras más frecuentes\n",
    "fig_words = make_subplots(\n",
    "    rows=1, cols=2,\n",
    "    subplot_titles=('Top 15 Palabras - Verdadero', 'Top 15 Palabras - Falso')\n",
    ")\n",
    "\n",
    "# Palabras en noticias verdaderas\n",
    "true_words_list, true_counts_list = zip(*true_top_words[:15])\n",
    "fig_words.add_trace(\n",
    "    go.Bar(\n",
    "        x=list(true_counts_list),\n",
    "        y=list(true_words_list),\n",
    "        orientation='h',\n",
    "        marker_color='green',\n",
    "        showlegend=False\n",
    "    ),\n",
    "    row=1, col=1\n",
    ")\n",
    "\n",
    "# Palabras en noticias falsas\n",
    "false_words_list, false_counts_list = zip(*false_top_words[:15])\n",
    "fig_words.add_trace(\n",
    "    go.Bar(\n",
    "        x=list(false_counts_list),\n",
    "        y=list(false_words_list),\n",
    "        orientation='h',\n",
    "        marker_color='red',\n",
    "        showlegend=False\n",
    "    ),\n",
    "    row=1, col=2\n",
    ")\n",
    "\n",
    "fig_words.update_layout(\n",
    "    title='Palabras Más Frecuentes por Clase',\n",
    "    height=500\n",
    ")\n",
    "\n",
    "fig_words.show()\n",
    "\n",
    "# Analizo palabras distintivas entre clases\n",
    "print(f\"\\nAnalisis de palabras distintivas:\")\n",
    "true_words_set = set([word for word, _ in true_top_words])\n",
    "false_words_set = set([word for word, _ in false_top_words])\n",
    "\n",
    "only_true = true_words_set - false_words_set\n",
    "only_false = false_words_set - true_words_set\n",
    "common_words = true_words_set & false_words_set\n",
    "\n",
    "print(f\"Palabras solo en verdaderas: {sorted(only_true)}\")\n",
    "print(f\"Palabras solo en falsas: {sorted(only_false)}\")\n",
    "print(f\"Palabras comunes: {sorted(common_words)}\")\n",
    "\n",
    "print(f\"\\nAnalisis de vocabulario completado\")"
   ]
  },
  {
   "cell_type": "markdown",
   "id": "cell-10",
   "metadata": {},
   "source": [
    "## Vectorización TF-IDF\n",
    "\n",
    "Ahora convierto el texto preprocesado a una representación numérica usando TF-IDF. Es crucial hacer la división train/test ANTES de vectorizar para evitar data leakage."
   ]
  },
  {
   "cell_type": "code",
   "execution_count": 7,
   "id": "cell-11",
   "metadata": {},
   "outputs": [
    {
     "name": "stdout",
     "output_type": "stream",
     "text": [
      "VECTORIZACION TF-IDF\n",
      "====================\n",
      "Dividiendo datos antes de vectorización...\n",
      "IMPORTANTE: Hago esto ANTES de TF-IDF para evitar data leakage\n",
      "División completada:\n",
      "- Entrenamiento: 676 textos\n",
      "- Validación: 169 textos\n",
      "- Prueba: 212 textos\n",
      "\n",
      "Configurando vectorizador TF-IDF...\n",
      "Parámetros del vectorizador:\n",
      "- Máximo features: 8,000\n",
      "- N-grams: (1, 2)\n",
      "- Min document frequency: 2\n",
      "- Max document frequency: 0.95\n",
      "\n",
      "Entrenando vectorizador con datos de entrenamiento...\n",
      "Transformando datos de validación y prueba...\n",
      "\n",
      "Matrices TF-IDF generadas:\n",
      "- Entrenamiento: (676, 1250)\n",
      "- Validación: (169, 1250)\n",
      "- Prueba: (212, 1250)\n",
      "- Sparsity de la matriz: 99.3%\n",
      "- Features reales generadas: 1,250\n",
      "\n",
      "Vectorizador guardado en ../processed_data/tfidf_vectorizer.pkl\n",
      "Vectorización TF-IDF completada exitosamente\n"
     ]
    }
   ],
   "source": [
    "# Divido los datos ANTES de vectorizar para evitar data leakage\n",
    "print(\"VECTORIZACION TF-IDF\")\n",
    "print(\"=\" * 20)\n",
    "\n",
    "print(\"Dividiendo datos antes de vectorización...\")\n",
    "print(\"IMPORTANTE: Hago esto ANTES de TF-IDF para evitar data leakage\")\n",
    "\n",
    "# División estratificada train/test\n",
    "X_train_text, X_test_text, y_train, y_test = train_test_split(\n",
    "    texts_stemmed_final,\n",
    "    y_text_final,\n",
    "    test_size=0.2,\n",
    "    random_state=42,\n",
    "    stratify=y_text_final\n",
    ")\n",
    "\n",
    "# División train/validation\n",
    "X_train_text, X_val_text, y_train, y_val = train_test_split(\n",
    "    X_train_text,\n",
    "    y_train,\n",
    "    test_size=0.2,\n",
    "    random_state=42,\n",
    "    stratify=y_train\n",
    ")\n",
    "\n",
    "print(f\"División completada:\")\n",
    "print(f\"- Entrenamiento: {len(X_train_text):,} textos\")\n",
    "print(f\"- Validación: {len(X_val_text):,} textos\")\n",
    "print(f\"- Prueba: {len(X_test_text):,} textos\")\n",
    "\n",
    "# Configuro el vectorizador TF-IDF con parámetros optimizados\n",
    "print(f\"\\nConfigurando vectorizador TF-IDF...\")\n",
    "\n",
    "tfidf_vectorizer = TfidfVectorizer(\n",
    "    max_features=8000,          # Top 8000 features\n",
    "    min_df=2,                   # Mínimo en 2 documentos\n",
    "    max_df=0.95,                # Máximo en 95% de documentos\n",
    "    ngram_range=(1, 2),         # Unigrams y bigrams\n",
    "    sublinear_tf=True,          # Escalado sublinear tf\n",
    "    norm='l2',                  # Normalización L2\n",
    "    use_idf=True,               # Usar pesos IDF\n",
    "    smooth_idf=True,            # Suavizado IDF\n",
    "    stop_words=None             # Ya eliminé stopwords en preprocesamiento\n",
    ")\n",
    "\n",
    "print(f\"Parámetros del vectorizador:\")\n",
    "print(f\"- Máximo features: {tfidf_vectorizer.max_features:,}\")\n",
    "print(f\"- N-grams: {tfidf_vectorizer.ngram_range}\")\n",
    "print(f\"- Min document frequency: {tfidf_vectorizer.min_df}\")\n",
    "print(f\"- Max document frequency: {tfidf_vectorizer.max_df}\")\n",
    "\n",
    "# Entreno el vectorizador SOLO con datos de entrenamiento\n",
    "print(f\"\\nEntrenando vectorizador con datos de entrenamiento...\")\n",
    "X_train_tfidf = tfidf_vectorizer.fit_transform(X_train_text)\n",
    "\n",
    "# Transformo datos de validación y prueba\n",
    "print(f\"Transformando datos de validación y prueba...\")\n",
    "X_val_tfidf = tfidf_vectorizer.transform(X_val_text)\n",
    "X_test_tfidf = tfidf_vectorizer.transform(X_test_text)\n",
    "\n",
    "print(f\"\\nMatrices TF-IDF generadas:\")\n",
    "print(f\"- Entrenamiento: {X_train_tfidf.shape}\")\n",
    "print(f\"- Validación: {X_val_tfidf.shape}\")\n",
    "print(f\"- Prueba: {X_test_tfidf.shape}\")\n",
    "\n",
    "# Calculo sparsity\n",
    "sparsity = 1 - (X_train_tfidf.nnz / np.prod(X_train_tfidf.shape))\n",
    "print(f\"- Sparsity de la matriz: {sparsity:.1%}\")\n",
    "print(f\"- Features reales generadas: {X_train_tfidf.shape[1]:,}\")\n",
    "\n",
    "# Guardo el vectorizador para uso posterior\n",
    "with open('../processed_data/tfidf_vectorizer.pkl', 'wb') as f:\n",
    "    pickle.dump(tfidf_vectorizer, f)\n",
    "\n",
    "print(f\"\\nVectorizador guardado en ../processed_data/tfidf_vectorizer.pkl\")\n",
    "print(f\"Vectorización TF-IDF completada exitosamente\")"
   ]
  },
  {
   "cell_type": "code",
   "execution_count": null,
   "id": "cell-12",
   "metadata": {},
   "outputs": [
    {
     "name": "stdout",
     "output_type": "stream",
     "text": [
      "\n",
      "ANALISIS DE FEATURES TF-IDF\n",
      "------------------------------\n",
      "Total de features TF-IDF generadas: 1,250\n",
      "Entrenando modelo temporal para análisis de features...\n",
      "\n",
      "Top 25 features que indican NOTICIAS VERDADERAS:\n",
      " 1. percent              (coef: +1.519)\n",
      " 2. year                 (coef: +1.217)\n",
      " 3. american             (coef: +1.177)\n",
      " 4. rate                 (coef: +1.160)\n",
      " 5. number_token percent (coef: +1.100)\n",
      " 6. nation               (coef: +0.976)\n",
      " 7. last                 (coef: +0.976)\n",
      " 8. sinc                 (coef: +0.880)\n",
      " 9. million              (coef: +0.859)\n",
      "10. support              (coef: +0.857)\n",
      "11. countri              (coef: +0.856)\n",
      "12. obama                (coef: +0.838)\n",
      "13. iran                 (coef: +0.807)\n",
      "14. half                 (coef: +0.780)\n",
      "15. marijuana            (coef: +0.768)\n",
      "16. job                  (coef: +0.733)\n",
      "17. tax                  (coef: +0.729)\n",
      "18. texa                 (coef: +0.725)\n",
      "19. three                (coef: +0.708)\n",
      "20. highest              (coef: +0.666)\n",
      "21. border               (coef: +0.665)\n",
      "22. part                 (coef: +0.658)\n",
      "23. spend                (coef: +0.654)\n",
      "24. state                (coef: +0.651)\n",
      "25. mani                 (coef: +0.649)\n",
      "\n",
      "Top 25 features que indican NOTICIAS FALSAS:\n",
      " 1. biden                (coef: -2.506)\n",
      " 2. vaccin               (coef: -2.273)\n",
      " 3. covid                (coef: -1.948)\n",
      " 4. joe biden            (coef: -1.434)\n",
      " 5. joe                  (coef: -1.366)\n",
      " 6. covid number_token   (coef: -1.259)\n",
      " 7. show                 (coef: -1.148)\n",
      " 8. say                  (coef: -1.072)\n",
      " 9. ballot               (coef: -0.998)\n",
      "10. photo                (coef: -0.958)\n",
      "11. said                 (coef: -0.910)\n",
      "12. mask                 (coef: -0.909)\n",
      "13. say joe              (coef: -0.903)\n",
      "14. photo show           (coef: -0.869)\n",
      "15. pelosi               (coef: -0.842)\n",
      "16. end                  (coef: -0.795)\n",
      "17. facebook             (coef: -0.777)\n",
      "18. number_token vaccin  (coef: -0.766)\n",
      "19. elect                (coef: -0.765)\n",
      "20. order                (coef: -0.757)\n",
      "21. kamala               (coef: -0.737)\n",
      "22. jan                  (coef: -0.734)\n",
      "23. jan number_token     (coef: -0.734)\n",
      "24. coronavirus          (coef: -0.732)\n",
      "25. biden administr      (coef: -0.715)\n"
     ]
    },
    {
     "data": {
      "application/vnd.plotly.v1+json": {
       "config": {
        "plotlyServerURL": "https://plot.ly"
       },
       "data": [
        {
         "marker": {
          "color": "green"
         },
         "orientation": "h",
         "showlegend": false,
         "type": "bar",
         "x": [
          0.8379973950921769,
          0.8560989533034915,
          0.856846231197823,
          0.859446658769633,
          0.8801785567007067,
          0.9758451487745916,
          0.9761883569261712,
          1.1000586834936392,
          1.1600885435020893,
          1.1767702361606778,
          1.2174087999330754,
          1.518781072024526
         ],
         "xaxis": "x",
         "y": [
          "obama",
          "countri",
          "support",
          "million",
          "sinc",
          "last",
          "nation",
          "number_token percent",
          "rate",
          "american",
          "year",
          "percent"
         ],
         "yaxis": "y"
        },
        {
         "marker": {
          "color": "red"
         },
         "orientation": "h",
         "showlegend": false,
         "type": "bar",
         "x": [
          -2.50609515460859,
          -2.2734213443580873,
          -1.9478789825443314,
          -1.4340432092193192,
          -1.3656280687710431,
          -1.2588312181105688,
          -1.1478735806740328,
          -1.072493304419497,
          -0.9984602927429773,
          -0.9578263547849558,
          -0.9103158695630027,
          -0.9086163419075988
         ],
         "xaxis": "x2",
         "y": [
          "biden",
          "vaccin",
          "covid",
          "joe biden",
          "joe",
          "covid number_token",
          "show",
          "say",
          "ballot",
          "photo",
          "said",
          "mask"
         ],
         "yaxis": "y2"
        }
       ],
       "layout": {
        "annotations": [
         {
          "font": {
           "size": 16
          },
          "showarrow": false,
          "text": "Features Indicadoras de Verdadero",
          "x": 0.225,
          "xanchor": "center",
          "xref": "paper",
          "y": 1,
          "yanchor": "bottom",
          "yref": "paper"
         },
         {
          "font": {
           "size": 16
          },
          "showarrow": false,
          "text": "Features Indicadoras de Falso",
          "x": 0.775,
          "xanchor": "center",
          "xref": "paper",
          "y": 1,
          "yanchor": "bottom",
          "yref": "paper"
         }
        ],
        "height": 600,
        "template": {
         "data": {
          "bar": [
           {
            "error_x": {
             "color": "#2a3f5f"
            },
            "error_y": {
             "color": "#2a3f5f"
            },
            "marker": {
             "line": {
              "color": "#E5ECF6",
              "width": 0.5
             },
             "pattern": {
              "fillmode": "overlay",
              "size": 10,
              "solidity": 0.2
             }
            },
            "type": "bar"
           }
          ],
          "barpolar": [
           {
            "marker": {
             "line": {
              "color": "#E5ECF6",
              "width": 0.5
             },
             "pattern": {
              "fillmode": "overlay",
              "size": 10,
              "solidity": 0.2
             }
            },
            "type": "barpolar"
           }
          ],
          "carpet": [
           {
            "aaxis": {
             "endlinecolor": "#2a3f5f",
             "gridcolor": "white",
             "linecolor": "white",
             "minorgridcolor": "white",
             "startlinecolor": "#2a3f5f"
            },
            "baxis": {
             "endlinecolor": "#2a3f5f",
             "gridcolor": "white",
             "linecolor": "white",
             "minorgridcolor": "white",
             "startlinecolor": "#2a3f5f"
            },
            "type": "carpet"
           }
          ],
          "choropleth": [
           {
            "colorbar": {
             "outlinewidth": 0,
             "ticks": ""
            },
            "type": "choropleth"
           }
          ],
          "contour": [
           {
            "colorbar": {
             "outlinewidth": 0,
             "ticks": ""
            },
            "colorscale": [
             [
              0,
              "#0d0887"
             ],
             [
              0.1111111111111111,
              "#46039f"
             ],
             [
              0.2222222222222222,
              "#7201a8"
             ],
             [
              0.3333333333333333,
              "#9c179e"
             ],
             [
              0.4444444444444444,
              "#bd3786"
             ],
             [
              0.5555555555555556,
              "#d8576b"
             ],
             [
              0.6666666666666666,
              "#ed7953"
             ],
             [
              0.7777777777777778,
              "#fb9f3a"
             ],
             [
              0.8888888888888888,
              "#fdca26"
             ],
             [
              1,
              "#f0f921"
             ]
            ],
            "type": "contour"
           }
          ],
          "contourcarpet": [
           {
            "colorbar": {
             "outlinewidth": 0,
             "ticks": ""
            },
            "type": "contourcarpet"
           }
          ],
          "heatmap": [
           {
            "colorbar": {
             "outlinewidth": 0,
             "ticks": ""
            },
            "colorscale": [
             [
              0,
              "#0d0887"
             ],
             [
              0.1111111111111111,
              "#46039f"
             ],
             [
              0.2222222222222222,
              "#7201a8"
             ],
             [
              0.3333333333333333,
              "#9c179e"
             ],
             [
              0.4444444444444444,
              "#bd3786"
             ],
             [
              0.5555555555555556,
              "#d8576b"
             ],
             [
              0.6666666666666666,
              "#ed7953"
             ],
             [
              0.7777777777777778,
              "#fb9f3a"
             ],
             [
              0.8888888888888888,
              "#fdca26"
             ],
             [
              1,
              "#f0f921"
             ]
            ],
            "type": "heatmap"
           }
          ],
          "histogram": [
           {
            "marker": {
             "pattern": {
              "fillmode": "overlay",
              "size": 10,
              "solidity": 0.2
             }
            },
            "type": "histogram"
           }
          ],
          "histogram2d": [
           {
            "colorbar": {
             "outlinewidth": 0,
             "ticks": ""
            },
            "colorscale": [
             [
              0,
              "#0d0887"
             ],
             [
              0.1111111111111111,
              "#46039f"
             ],
             [
              0.2222222222222222,
              "#7201a8"
             ],
             [
              0.3333333333333333,
              "#9c179e"
             ],
             [
              0.4444444444444444,
              "#bd3786"
             ],
             [
              0.5555555555555556,
              "#d8576b"
             ],
             [
              0.6666666666666666,
              "#ed7953"
             ],
             [
              0.7777777777777778,
              "#fb9f3a"
             ],
             [
              0.8888888888888888,
              "#fdca26"
             ],
             [
              1,
              "#f0f921"
             ]
            ],
            "type": "histogram2d"
           }
          ],
          "histogram2dcontour": [
           {
            "colorbar": {
             "outlinewidth": 0,
             "ticks": ""
            },
            "colorscale": [
             [
              0,
              "#0d0887"
             ],
             [
              0.1111111111111111,
              "#46039f"
             ],
             [
              0.2222222222222222,
              "#7201a8"
             ],
             [
              0.3333333333333333,
              "#9c179e"
             ],
             [
              0.4444444444444444,
              "#bd3786"
             ],
             [
              0.5555555555555556,
              "#d8576b"
             ],
             [
              0.6666666666666666,
              "#ed7953"
             ],
             [
              0.7777777777777778,
              "#fb9f3a"
             ],
             [
              0.8888888888888888,
              "#fdca26"
             ],
             [
              1,
              "#f0f921"
             ]
            ],
            "type": "histogram2dcontour"
           }
          ],
          "mesh3d": [
           {
            "colorbar": {
             "outlinewidth": 0,
             "ticks": ""
            },
            "type": "mesh3d"
           }
          ],
          "parcoords": [
           {
            "line": {
             "colorbar": {
              "outlinewidth": 0,
              "ticks": ""
             }
            },
            "type": "parcoords"
           }
          ],
          "pie": [
           {
            "automargin": true,
            "type": "pie"
           }
          ],
          "scatter": [
           {
            "fillpattern": {
             "fillmode": "overlay",
             "size": 10,
             "solidity": 0.2
            },
            "type": "scatter"
           }
          ],
          "scatter3d": [
           {
            "line": {
             "colorbar": {
              "outlinewidth": 0,
              "ticks": ""
             }
            },
            "marker": {
             "colorbar": {
              "outlinewidth": 0,
              "ticks": ""
             }
            },
            "type": "scatter3d"
           }
          ],
          "scattercarpet": [
           {
            "marker": {
             "colorbar": {
              "outlinewidth": 0,
              "ticks": ""
             }
            },
            "type": "scattercarpet"
           }
          ],
          "scattergeo": [
           {
            "marker": {
             "colorbar": {
              "outlinewidth": 0,
              "ticks": ""
             }
            },
            "type": "scattergeo"
           }
          ],
          "scattergl": [
           {
            "marker": {
             "colorbar": {
              "outlinewidth": 0,
              "ticks": ""
             }
            },
            "type": "scattergl"
           }
          ],
          "scattermap": [
           {
            "marker": {
             "colorbar": {
              "outlinewidth": 0,
              "ticks": ""
             }
            },
            "type": "scattermap"
           }
          ],
          "scattermapbox": [
           {
            "marker": {
             "colorbar": {
              "outlinewidth": 0,
              "ticks": ""
             }
            },
            "type": "scattermapbox"
           }
          ],
          "scatterpolar": [
           {
            "marker": {
             "colorbar": {
              "outlinewidth": 0,
              "ticks": ""
             }
            },
            "type": "scatterpolar"
           }
          ],
          "scatterpolargl": [
           {
            "marker": {
             "colorbar": {
              "outlinewidth": 0,
              "ticks": ""
             }
            },
            "type": "scatterpolargl"
           }
          ],
          "scatterternary": [
           {
            "marker": {
             "colorbar": {
              "outlinewidth": 0,
              "ticks": ""
             }
            },
            "type": "scatterternary"
           }
          ],
          "surface": [
           {
            "colorbar": {
             "outlinewidth": 0,
             "ticks": ""
            },
            "colorscale": [
             [
              0,
              "#0d0887"
             ],
             [
              0.1111111111111111,
              "#46039f"
             ],
             [
              0.2222222222222222,
              "#7201a8"
             ],
             [
              0.3333333333333333,
              "#9c179e"
             ],
             [
              0.4444444444444444,
              "#bd3786"
             ],
             [
              0.5555555555555556,
              "#d8576b"
             ],
             [
              0.6666666666666666,
              "#ed7953"
             ],
             [
              0.7777777777777778,
              "#fb9f3a"
             ],
             [
              0.8888888888888888,
              "#fdca26"
             ],
             [
              1,
              "#f0f921"
             ]
            ],
            "type": "surface"
           }
          ],
          "table": [
           {
            "cells": {
             "fill": {
              "color": "#EBF0F8"
             },
             "line": {
              "color": "white"
             }
            },
            "header": {
             "fill": {
              "color": "#C8D4E3"
             },
             "line": {
              "color": "white"
             }
            },
            "type": "table"
           }
          ]
         },
         "layout": {
          "annotationdefaults": {
           "arrowcolor": "#2a3f5f",
           "arrowhead": 0,
           "arrowwidth": 1
          },
          "autotypenumbers": "strict",
          "coloraxis": {
           "colorbar": {
            "outlinewidth": 0,
            "ticks": ""
           }
          },
          "colorscale": {
           "diverging": [
            [
             0,
             "#8e0152"
            ],
            [
             0.1,
             "#c51b7d"
            ],
            [
             0.2,
             "#de77ae"
            ],
            [
             0.3,
             "#f1b6da"
            ],
            [
             0.4,
             "#fde0ef"
            ],
            [
             0.5,
             "#f7f7f7"
            ],
            [
             0.6,
             "#e6f5d0"
            ],
            [
             0.7,
             "#b8e186"
            ],
            [
             0.8,
             "#7fbc41"
            ],
            [
             0.9,
             "#4d9221"
            ],
            [
             1,
             "#276419"
            ]
           ],
           "sequential": [
            [
             0,
             "#0d0887"
            ],
            [
             0.1111111111111111,
             "#46039f"
            ],
            [
             0.2222222222222222,
             "#7201a8"
            ],
            [
             0.3333333333333333,
             "#9c179e"
            ],
            [
             0.4444444444444444,
             "#bd3786"
            ],
            [
             0.5555555555555556,
             "#d8576b"
            ],
            [
             0.6666666666666666,
             "#ed7953"
            ],
            [
             0.7777777777777778,
             "#fb9f3a"
            ],
            [
             0.8888888888888888,
             "#fdca26"
            ],
            [
             1,
             "#f0f921"
            ]
           ],
           "sequentialminus": [
            [
             0,
             "#0d0887"
            ],
            [
             0.1111111111111111,
             "#46039f"
            ],
            [
             0.2222222222222222,
             "#7201a8"
            ],
            [
             0.3333333333333333,
             "#9c179e"
            ],
            [
             0.4444444444444444,
             "#bd3786"
            ],
            [
             0.5555555555555556,
             "#d8576b"
            ],
            [
             0.6666666666666666,
             "#ed7953"
            ],
            [
             0.7777777777777778,
             "#fb9f3a"
            ],
            [
             0.8888888888888888,
             "#fdca26"
            ],
            [
             1,
             "#f0f921"
            ]
           ]
          },
          "colorway": [
           "#636efa",
           "#EF553B",
           "#00cc96",
           "#ab63fa",
           "#FFA15A",
           "#19d3f3",
           "#FF6692",
           "#B6E880",
           "#FF97FF",
           "#FECB52"
          ],
          "font": {
           "color": "#2a3f5f"
          },
          "geo": {
           "bgcolor": "white",
           "lakecolor": "white",
           "landcolor": "#E5ECF6",
           "showlakes": true,
           "showland": true,
           "subunitcolor": "white"
          },
          "hoverlabel": {
           "align": "left"
          },
          "hovermode": "closest",
          "mapbox": {
           "style": "light"
          },
          "paper_bgcolor": "white",
          "plot_bgcolor": "#E5ECF6",
          "polar": {
           "angularaxis": {
            "gridcolor": "white",
            "linecolor": "white",
            "ticks": ""
           },
           "bgcolor": "#E5ECF6",
           "radialaxis": {
            "gridcolor": "white",
            "linecolor": "white",
            "ticks": ""
           }
          },
          "scene": {
           "xaxis": {
            "backgroundcolor": "#E5ECF6",
            "gridcolor": "white",
            "gridwidth": 2,
            "linecolor": "white",
            "showbackground": true,
            "ticks": "",
            "zerolinecolor": "white"
           },
           "yaxis": {
            "backgroundcolor": "#E5ECF6",
            "gridcolor": "white",
            "gridwidth": 2,
            "linecolor": "white",
            "showbackground": true,
            "ticks": "",
            "zerolinecolor": "white"
           },
           "zaxis": {
            "backgroundcolor": "#E5ECF6",
            "gridcolor": "white",
            "gridwidth": 2,
            "linecolor": "white",
            "showbackground": true,
            "ticks": "",
            "zerolinecolor": "white"
           }
          },
          "shapedefaults": {
           "line": {
            "color": "#2a3f5f"
           }
          },
          "ternary": {
           "aaxis": {
            "gridcolor": "white",
            "linecolor": "white",
            "ticks": ""
           },
           "baxis": {
            "gridcolor": "white",
            "linecolor": "white",
            "ticks": ""
           },
           "bgcolor": "#E5ECF6",
           "caxis": {
            "gridcolor": "white",
            "linecolor": "white",
            "ticks": ""
           }
          },
          "title": {
           "x": 0.05
          },
          "xaxis": {
           "automargin": true,
           "gridcolor": "white",
           "linecolor": "white",
           "ticks": "",
           "title": {
            "standoff": 15
           },
           "zerolinecolor": "white",
           "zerolinewidth": 2
          },
          "yaxis": {
           "automargin": true,
           "gridcolor": "white",
           "linecolor": "white",
           "ticks": "",
           "title": {
            "standoff": 15
           },
           "zerolinecolor": "white",
           "zerolinewidth": 2
          }
         }
        },
        "title": {
         "text": "Features TF-IDF Más Importantes (Coeficientes Logistic Regression)"
        },
        "xaxis": {
         "anchor": "y",
         "domain": [
          0,
          0.45
         ]
        },
        "xaxis2": {
         "anchor": "y2",
         "domain": [
          0.55,
          1
         ]
        },
        "yaxis": {
         "anchor": "x",
         "domain": [
          0,
          1
         ]
        },
        "yaxis2": {
         "anchor": "x2",
         "domain": [
          0,
          1
         ]
        }
       }
      }
     },
     "metadata": {},
     "output_type": "display_data"
    },
    {
     "name": "stdout",
     "output_type": "stream",
     "text": [
      "\n",
      "Estadísticas de coeficientes:\n",
      "- Total features: 1,250\n",
      "- Features con coef positivo: 681\n",
      "- Features con coef negativo: 569\n",
      "- Coeficiente máximo: 1.519\n",
      "- Coeficiente mínimo: -2.506\n",
      "- Desviación estándar: 0.323\n",
      "\n",
      "Analisis de features TF-IDF completado\n"
     ]
    }
   ],
   "source": [
    "# Analizo las features TF-IDF más importantes\n",
    "print(\"\\nANALISIS DE FEATURES TF-IDF\")\n",
    "print(\"-\" * 30)\n",
    "\n",
    "# Obtengo los nombres de las features\n",
    "feature_names = tfidf_vectorizer.get_feature_names_out()\n",
    "print(f\"Total de features TF-IDF generadas: {len(feature_names):,}\")\n",
    "\n",
    "# Entreno un modelo rápido para analizar importancia de features\n",
    "print(f\"Entrenando modelo temporal para análisis de features...\")\n",
    "lr_temp = LogisticRegression(random_state=42, max_iter=1000)\n",
    "lr_temp.fit(X_train_tfidf, y_train)\n",
    "\n",
    "# Obtengo coeficientes del modelo\n",
    "coefficients = lr_temp.coef_[0]\n",
    "\n",
    "# Features que más indican noticias verdaderas (coeficientes positivos altos)\n",
    "positive_indices = np.argsort(coefficients)[-25:]\n",
    "positive_features = [(feature_names[i], coefficients[i]) for i in positive_indices]\n",
    "\n",
    "# Features que más indican noticias falsas (coeficientes negativos altos)\n",
    "negative_indices = np.argsort(coefficients)[:25]\n",
    "negative_features = [(feature_names[i], coefficients[i]) for i in negative_indices]\n",
    "\n",
    "print(f\"\\nTop 25 features que indican NOTICIAS VERDADERAS:\")\n",
    "for i, (feature, coef) in enumerate(reversed(positive_features), 1):\n",
    "    print(f\"{i:2d}. {feature:<20} (coef: {coef:+.3f})\")\n",
    "\n",
    "print(f\"\\nTop 25 features que indican NOTICIAS FALSAS:\")\n",
    "for i, (feature, coef) in enumerate(negative_features, 1):\n",
    "    print(f\"{i:2d}. {feature:<20} (coef: {coef:+.3f})\")\n",
    "\n",
    "# Visualizo la importancia de features\n",
    "fig_importance = make_subplots(\n",
    "    rows=1, cols=2,\n",
    "    subplot_titles=('Features Indicadoras de Verdadero', 'Features Indicadoras de Falso')\n",
    ")\n",
    "\n",
    "# Features para verdadero (top 12)\n",
    "pos_names, pos_coefs = zip(*positive_features[-12:])\n",
    "fig_importance.add_trace(\n",
    "    go.Bar(\n",
    "        x=list(pos_coefs),\n",
    "        y=list(pos_names),\n",
    "        orientation='h',\n",
    "        marker_color='green',\n",
    "        showlegend=False\n",
    "    ),\n",
    "    row=1, col=1\n",
    ")\n",
    "\n",
    "# Features para falso (top 12)\n",
    "neg_names, neg_coefs = zip(*negative_features[:12])\n",
    "fig_importance.add_trace(\n",
    "    go.Bar(\n",
    "        x=list(neg_coefs),\n",
    "        y=list(neg_names),\n",
    "        orientation='h',\n",
    "        marker_color='red',\n",
    "        showlegend=False\n",
    "    ),\n",
    "    row=1, col=2\n",
    ")\n",
    "\n",
    "fig_importance.update_layout(\n",
    "    title='Features TF-IDF Más Importantes (Coeficientes Logistic Regression)',\n",
    "    height=600\n",
    ")\n",
    "\n",
    "fig_importance.show()\n",
    "\n",
    "# Estadísticas de los coeficientes\n",
    "print(f\"\\nEstadísticas de coeficientes:\")\n",
    "print(f\"- Total features: {len(coefficients):,}\")\n",
    "print(f\"- Features con coef positivo: {(coefficients > 0).sum():,}\")\n",
    "print(f\"- Features con coef negativo: {(coefficients < 0).sum():,}\")\n",
    "print(f\"- Coeficiente máximo: {coefficients.max():.3f}\")\n",
    "print(f\"- Coeficiente mínimo: {coefficients.min():.3f}\")\n",
    "print(f\"- Desviación estándar: {coefficients.std():.3f}\")\n",
    "\n",
    "print(f\"\\nAnalisis de features TF-IDF completado\")"
   ]
  },
  {
   "cell_type": "markdown",
   "id": "cell-13",
   "metadata": {},
   "source": [
    "## Entrenamiento de Modelos de Machine Learning\n",
    "\n",
    "Ahora entreno varios modelos tradicionales optimizados para datos de texto sparse como los de TF-IDF."
   ]
  },
  {
   "cell_type": "code",
   "execution_count": 26,
   "id": "cell-14",
   "metadata": {},
   "outputs": [
    {
     "name": "stdout",
     "output_type": "stream",
     "text": [
      "ENTRENAMIENTO DE MODELOS DE MACHINE LEARNING\n",
      "==================================================\n",
      "Modelos configurados para entrenamiento: 6\n",
      "1. Logistic Regression\n",
      "2. SVM Linear\n",
      "3. SVM RBF\n",
      "4. Multinomial NB\n",
      "5. Random Forest\n",
      "6. KNN Cosine\n",
      "\n",
      "Iniciando entrenamiento y evaluación...\n"
     ]
    }
   ],
   "source": [
    "# Configuro los modelos optimizados para texto\n",
    "print(\"ENTRENAMIENTO DE MODELOS DE MACHINE LEARNING\")\n",
    "print(\"=\" * 50)\n",
    "\n",
    "def evaluate_text_model(model, X_train, X_val, X_test, y_train, y_val, y_test, model_name):\n",
    "    \"\"\"\n",
    "    Evalúo un modelo de texto con métricas completas\n",
    "    Devuelvo diccionario con todos los resultados\n",
    "    \"\"\"\n",
    "    \n",
    "    print(f\"\\nEntrenando {model_name}...\")\n",
    "    start_time = datetime.now()\n",
    "    \n",
    "    # Entreno el modelo\n",
    "    model.fit(X_train, y_train)\n",
    "    training_time = (datetime.now() - start_time).total_seconds()\n",
    "    \n",
    "    # Hago predicciones\n",
    "    y_val_pred = model.predict(X_val)\n",
    "    y_test_pred = model.predict(X_test)\n",
    "    \n",
    "    # Obtengo probabilidades si están disponibles\n",
    "    try:\n",
    "        y_test_proba = model.predict_proba(X_test)[:, 1]\n",
    "        auc_score = roc_auc_score(y_test, y_test_proba)\n",
    "    except:\n",
    "        y_test_proba = None\n",
    "        auc_score = np.nan\n",
    "    \n",
    "    # Calculo métricas\n",
    "    val_precision, val_recall, val_f1, _ = precision_recall_fscore_support(\n",
    "        y_val, y_val_pred, average='binary'\n",
    "    )\n",
    "    \n",
    "    test_precision, test_recall, test_f1, _ = precision_recall_fscore_support(\n",
    "        y_test, y_test_pred, average='binary'\n",
    "    )\n",
    "    \n",
    "    test_acc = accuracy_score(y_test, y_test_pred)\n",
    "    \n",
    "    print(f\"{model_name:<20} Val F1: {val_f1:.4f}  Test F1: {test_f1:.4f}  Test Acc: {test_acc:.4f}  AUC: {auc_score:.4f}  Tiempo: {training_time:.1f}s\")\n",
    "    \n",
    "    return {\n",
    "        'model_name': model_name,\n",
    "        'model': model,\n",
    "        'val_f1': val_f1,\n",
    "        'val_precision': val_precision,\n",
    "        'val_recall': val_recall,\n",
    "        'test_f1': test_f1,\n",
    "        'test_precision': test_precision,\n",
    "        'test_recall': test_recall,\n",
    "        'test_accuracy': test_acc,\n",
    "        'test_auc': auc_score,\n",
    "        'training_time': training_time,\n",
    "        'test_predictions': y_test_pred,\n",
    "        'test_probabilities': y_test_proba\n",
    "    }\n",
    "\n",
    "# Configuro modelos optimizados específicamente para texto\n",
    "text_models = {\n",
    "    'Logistic Regression': LogisticRegression(\n",
    "        C=1.0,                    # Regularización moderada\n",
    "        penalty='l2',             # Regularización L2\n",
    "        random_state=42,\n",
    "        max_iter=1000,            # Suficientes iteraciones\n",
    "        solver='lbfgs'            # Solver eficiente\n",
    "    ),\n",
    "    \n",
    "    'SVM Linear': SVC(\n",
    "        C=1.0,                    # Regularización moderada\n",
    "        kernel='linear',          # Kernel lineal para texto\n",
    "        probability=True,         # Para obtener probabilidades\n",
    "        random_state=42\n",
    "    ),\n",
    "    \n",
    "    'SVM RBF': SVC(\n",
    "        C=1.0,\n",
    "        kernel='rbf',             # Kernel no lineal\n",
    "        gamma='scale',            # Gamma automático\n",
    "        probability=True,\n",
    "        random_state=42\n",
    "    ),\n",
    "    \n",
    "    'Multinomial NB': MultinomialNB(\n",
    "        alpha=1.0                 # Suavizado de Laplace\n",
    "    ),\n",
    "    \n",
    "    'Random Forest': RandomForestClassifier(\n",
    "        n_estimators=100,         # 100 árboles\n",
    "        max_depth=20,             # Profundidad controlada\n",
    "        min_samples_split=5,      # Mínimo para split\n",
    "        min_samples_leaf=2,       # Mínimo en hojas\n",
    "        random_state=42,\n",
    "        n_jobs=-1                 # Paralelización\n",
    "    ),\n",
    "    \n",
    "    'KNN Cosine': KNeighborsClassifier(\n",
    "        n_neighbors=5,            # 5 vecinos\n",
    "        metric='cosine',          # Métrica coseno para texto\n",
    "        n_jobs=-1\n",
    "    )\n",
    "}\n",
    "\n",
    "print(f\"Modelos configurados para entrenamiento: {len(text_models)}\")\n",
    "for i, name in enumerate(text_models.keys(), 1):\n",
    "    print(f\"{i}. {name}\")\n",
    "\n",
    "print(f\"\\nIniciando entrenamiento y evaluación...\")"
   ]
  },
  {
   "cell_type": "code",
   "execution_count": null,
   "id": "cell-15",
   "metadata": {},
   "outputs": [
    {
     "name": "stdout",
     "output_type": "stream",
     "text": [
      "\n",
      "ENTRENAMIENTO Y EVALUACION\n",
      "==============================\n",
      "\n",
      "Entrenando Logistic Regression...\n",
      "Logistic Regression  Val F1: 0.8159  Test F1: 0.8362  Test Acc: 0.8208  AUC: 0.9076  Tiempo: 0.0s\n",
      "\n",
      "Entrenando SVM Linear...\n",
      "SVM Linear           Val F1: 0.8384  Test F1: 0.8261  Test Acc: 0.8113  AUC: 0.8976  Tiempo: 0.4s\n",
      "\n",
      "Entrenando SVM RBF...\n",
      "SVM RBF              Val F1: 0.8269  Test F1: 0.8511  Test Acc: 0.8349  AUC: 0.9043  Tiempo: 0.5s\n",
      "\n",
      "Entrenando Multinomial NB...\n",
      "Multinomial NB       Val F1: 0.8060  Test F1: 0.8174  Test Acc: 0.8019  AUC: 0.9064  Tiempo: 0.0s\n",
      "\n",
      "Entrenando Random Forest...\n",
      "Random Forest        Val F1: 0.8018  Test F1: 0.8379  Test Acc: 0.8066  AUC: 0.8869  Tiempo: 0.4s\n",
      "\n",
      "Entrenando KNN Cosine...\n",
      "KNN Cosine           Val F1: 0.7553  Test F1: 0.8054  Test Acc: 0.7972  AUC: 0.8917  Tiempo: 0.0s\n",
      "\n",
      "Entrenamiento completado: 6/6 modelos exitosos\n",
      "\n",
      "RESULTADOS FINALES (ordenados por F1-Score):\n",
      "======================================================================\n",
      "             Modelo  Test_F1  Test_Accuracy  Test_Precision  Test_Recall  Test_AUC\n",
      "            SVM RBF   0.8511         0.8349          0.8403       0.8621    0.9043\n",
      "      Random Forest   0.8379         0.8066          0.7737       0.9138    0.8869\n",
      "Logistic Regression   0.8362         0.8208          0.8362       0.8362    0.9076\n",
      "         SVM Linear   0.8261         0.8113          0.8333       0.8190    0.8976\n",
      "     Multinomial NB   0.8174         0.8019          0.8246       0.8103    0.9064\n",
      "         KNN Cosine   0.8054         0.7972          0.8476       0.7672    0.8917\n",
      "\n",
      "MEJOR MODELO NLP: SVM RBF\n",
      "- F1-Score: 0.8511\n",
      "- Accuracy: 0.8349\n",
      "- AUC: 0.9043\n",
      "\n",
      "Evaluación vs objetivo:\n",
      "- Objetivo F1-Score: 70%\n",
      "- F1-Score alcanzado: 85%\n",
      "- OBJETIVO ALCANZADO (superavit: +15.1%)\n",
      "\n",
      "Modelo más rápido: KNN Cosine (0.0s)\n"
     ]
    }
   ],
   "source": [
    "# Entreno y evalúo todos los modelos\n",
    "print(f\"\\nENTRENAMIENTO Y EVALUACION\")\n",
    "print(\"=\" * 30)\n",
    "\n",
    "text_results = {}\n",
    "successful_models = 0\n",
    "\n",
    "for name, model in text_models.items():\n",
    "    try:\n",
    "        result = evaluate_text_model(\n",
    "            model, X_train_tfidf, X_val_tfidf, X_test_tfidf,\n",
    "            y_train, y_val, y_test, name\n",
    "        )\n",
    "        text_results[name] = result\n",
    "        successful_models += 1\n",
    "        \n",
    "    except Exception as e:\n",
    "        print(f\"Error entrenando {name}: {str(e)}\")\n",
    "\n",
    "print(f\"\\nEntrenamiento completado: {successful_models}/{len(text_models)} modelos exitosos\")\n",
    "\n",
    "# Creo tabla de resultados si hay modelos exitosos\n",
    "if len(text_results) > 0:\n",
    "    results_data = []\n",
    "    for name, result in text_results.items():\n",
    "        results_data.append({\n",
    "            'Modelo': name,\n",
    "            'Val_F1': result['val_f1'],\n",
    "            'Test_F1': result['test_f1'],\n",
    "            'Test_Accuracy': result['test_accuracy'],\n",
    "            'Test_Precision': result['test_precision'],\n",
    "            'Test_Recall': result['test_recall'],\n",
    "            'Test_AUC': result['test_auc'],\n",
    "            'Training_Time': result['training_time']\n",
    "        })\n",
    "    \n",
    "    results_df = pd.DataFrame(results_data)\n",
    "    results_df = results_df.sort_values('Test_F1', ascending=False)\n",
    "    \n",
    "    print(f\"\\nRESULTADOS FINALES (ordenados por F1-Score):\")\n",
    "    print(\"=\" * 70)\n",
    "    display_cols = ['Modelo', 'Test_F1', 'Test_Accuracy', 'Test_Precision', 'Test_Recall', 'Test_AUC']\n",
    "    print(results_df[display_cols].round(4).to_string(index=False))\n",
    "    \n",
    "    # Identifico el mejor modelo\n",
    "    best_model_name = results_df.iloc[0]['Modelo']\n",
    "    best_f1 = results_df.iloc[0]['Test_F1']\n",
    "    best_acc = results_df.iloc[0]['Test_Accuracy']\n",
    "    best_auc = results_df.iloc[0]['Test_AUC']\n",
    "    \n",
    "    print(f\"\\nMEJOR MODELO NLP: {best_model_name}\")\n",
    "    print(f\"- F1-Score: {best_f1:.4f}\")\n",
    "    print(f\"- Accuracy: {best_acc:.4f}\")\n",
    "    if not pd.isna(best_auc):\n",
    "        print(f\"- AUC: {best_auc:.4f}\")\n",
    "    \n",
    "    # Evalúo vs objetivo\n",
    "    target_f1 = 0.70\n",
    "    print(f\"\\nEvaluación vs objetivo:\")\n",
    "    print(f\"- Objetivo F1-Score: {target_f1:.0%}\")\n",
    "    print(f\"- F1-Score alcanzado: {best_f1:.0%}\")\n",
    "    \n",
    "    if best_f1 >= target_f1:\n",
    "        surplus = best_f1 - target_f1\n",
    "        print(f\"- OBJETIVO ALCANZADO (superavit: {surplus:+.1%})\")\n",
    "        objetivo_alcanzado = True\n",
    "    else:\n",
    "        deficit = target_f1 - best_f1\n",
    "        print(f\"- OBJETIVO NO ALCANZADO (deficit: {deficit:.1%})\")\n",
    "        objetivo_alcanzado = False\n",
    "    \n",
    "    # Modelo más rápido\n",
    "    fastest_idx = results_df['Training_Time'].idxmin()\n",
    "    fastest_model = results_df.loc[fastest_idx, 'Modelo']\n",
    "    fastest_time = results_df.loc[fastest_idx, 'Training_Time']\n",
    "    print(f\"\\nModelo más rápido: {fastest_model} ({fastest_time:.1f}s)\")\n",
    "    \n",
    "else:\n",
    "    print(\"No se entrenaron modelos exitosamente\")\n",
    "    objetivo_alcanzado = False"
   ]
  },
  {
   "cell_type": "markdown",
   "id": "cell-16",
   "metadata": {},
   "source": [
    "## Análisis Detallado del Mejor Modelo\n",
    "\n",
    "Analizo en profundidad el desempeño del mejor modelo, incluyendo matriz de confusión, curva ROC y análisis de errores."
   ]
  },
  {
   "cell_type": "code",
   "execution_count": 11,
   "id": "cell-17",
   "metadata": {},
   "outputs": [
    {
     "name": "stdout",
     "output_type": "stream",
     "text": [
      "\n",
      "ANALISIS DETALLADO DEL MEJOR MODELO: SVM RBF\n",
      "=================================================================\n",
      "\n",
      "Reporte de clasificación detallado:\n",
      "              precision    recall  f1-score   support\n",
      "\n",
      "       Falso     0.8280    0.8021    0.8148        96\n",
      "   Verdadero     0.8403    0.8621    0.8511       116\n",
      "\n",
      "    accuracy                         0.8349       212\n",
      "   macro avg     0.8341    0.8321    0.8329       212\n",
      "weighted avg     0.8347    0.8349    0.8346       212\n",
      "\n",
      "\n",
      "Matriz de confusión:\n",
      "                Predicho\n",
      "Real      Falso  Verdadero\n",
      "Falso        77         19\n",
      "Verdadero    16        100\n"
     ]
    },
    {
     "data": {
      "application/vnd.plotly.v1+json": {
       "config": {
        "plotlyServerURL": "https://plot.ly"
       },
       "data": [
        {
         "coloraxis": "coloraxis",
         "hovertemplate": "Predicho: %{x}<br>Real: %{y}<br>color: %{z}<extra></extra>",
         "name": "0",
         "texttemplate": "%{z}",
         "type": "heatmap",
         "x": [
          "Falso",
          "Verdadero"
         ],
         "xaxis": "x",
         "y": [
          "Falso",
          "Verdadero"
         ],
         "yaxis": "y",
         "z": {
          "bdata": "TRMQZA==",
          "dtype": "i1",
          "shape": "2, 2"
         }
        }
       ],
       "layout": {
        "coloraxis": {
         "colorscale": [
          [
           0,
           "rgb(247,251,255)"
          ],
          [
           0.125,
           "rgb(222,235,247)"
          ],
          [
           0.25,
           "rgb(198,219,239)"
          ],
          [
           0.375,
           "rgb(158,202,225)"
          ],
          [
           0.5,
           "rgb(107,174,214)"
          ],
          [
           0.625,
           "rgb(66,146,198)"
          ],
          [
           0.75,
           "rgb(33,113,181)"
          ],
          [
           0.875,
           "rgb(8,81,156)"
          ],
          [
           1,
           "rgb(8,48,107)"
          ]
         ]
        },
        "template": {
         "data": {
          "bar": [
           {
            "error_x": {
             "color": "#2a3f5f"
            },
            "error_y": {
             "color": "#2a3f5f"
            },
            "marker": {
             "line": {
              "color": "#E5ECF6",
              "width": 0.5
             },
             "pattern": {
              "fillmode": "overlay",
              "size": 10,
              "solidity": 0.2
             }
            },
            "type": "bar"
           }
          ],
          "barpolar": [
           {
            "marker": {
             "line": {
              "color": "#E5ECF6",
              "width": 0.5
             },
             "pattern": {
              "fillmode": "overlay",
              "size": 10,
              "solidity": 0.2
             }
            },
            "type": "barpolar"
           }
          ],
          "carpet": [
           {
            "aaxis": {
             "endlinecolor": "#2a3f5f",
             "gridcolor": "white",
             "linecolor": "white",
             "minorgridcolor": "white",
             "startlinecolor": "#2a3f5f"
            },
            "baxis": {
             "endlinecolor": "#2a3f5f",
             "gridcolor": "white",
             "linecolor": "white",
             "minorgridcolor": "white",
             "startlinecolor": "#2a3f5f"
            },
            "type": "carpet"
           }
          ],
          "choropleth": [
           {
            "colorbar": {
             "outlinewidth": 0,
             "ticks": ""
            },
            "type": "choropleth"
           }
          ],
          "contour": [
           {
            "colorbar": {
             "outlinewidth": 0,
             "ticks": ""
            },
            "colorscale": [
             [
              0,
              "#0d0887"
             ],
             [
              0.1111111111111111,
              "#46039f"
             ],
             [
              0.2222222222222222,
              "#7201a8"
             ],
             [
              0.3333333333333333,
              "#9c179e"
             ],
             [
              0.4444444444444444,
              "#bd3786"
             ],
             [
              0.5555555555555556,
              "#d8576b"
             ],
             [
              0.6666666666666666,
              "#ed7953"
             ],
             [
              0.7777777777777778,
              "#fb9f3a"
             ],
             [
              0.8888888888888888,
              "#fdca26"
             ],
             [
              1,
              "#f0f921"
             ]
            ],
            "type": "contour"
           }
          ],
          "contourcarpet": [
           {
            "colorbar": {
             "outlinewidth": 0,
             "ticks": ""
            },
            "type": "contourcarpet"
           }
          ],
          "heatmap": [
           {
            "colorbar": {
             "outlinewidth": 0,
             "ticks": ""
            },
            "colorscale": [
             [
              0,
              "#0d0887"
             ],
             [
              0.1111111111111111,
              "#46039f"
             ],
             [
              0.2222222222222222,
              "#7201a8"
             ],
             [
              0.3333333333333333,
              "#9c179e"
             ],
             [
              0.4444444444444444,
              "#bd3786"
             ],
             [
              0.5555555555555556,
              "#d8576b"
             ],
             [
              0.6666666666666666,
              "#ed7953"
             ],
             [
              0.7777777777777778,
              "#fb9f3a"
             ],
             [
              0.8888888888888888,
              "#fdca26"
             ],
             [
              1,
              "#f0f921"
             ]
            ],
            "type": "heatmap"
           }
          ],
          "histogram": [
           {
            "marker": {
             "pattern": {
              "fillmode": "overlay",
              "size": 10,
              "solidity": 0.2
             }
            },
            "type": "histogram"
           }
          ],
          "histogram2d": [
           {
            "colorbar": {
             "outlinewidth": 0,
             "ticks": ""
            },
            "colorscale": [
             [
              0,
              "#0d0887"
             ],
             [
              0.1111111111111111,
              "#46039f"
             ],
             [
              0.2222222222222222,
              "#7201a8"
             ],
             [
              0.3333333333333333,
              "#9c179e"
             ],
             [
              0.4444444444444444,
              "#bd3786"
             ],
             [
              0.5555555555555556,
              "#d8576b"
             ],
             [
              0.6666666666666666,
              "#ed7953"
             ],
             [
              0.7777777777777778,
              "#fb9f3a"
             ],
             [
              0.8888888888888888,
              "#fdca26"
             ],
             [
              1,
              "#f0f921"
             ]
            ],
            "type": "histogram2d"
           }
          ],
          "histogram2dcontour": [
           {
            "colorbar": {
             "outlinewidth": 0,
             "ticks": ""
            },
            "colorscale": [
             [
              0,
              "#0d0887"
             ],
             [
              0.1111111111111111,
              "#46039f"
             ],
             [
              0.2222222222222222,
              "#7201a8"
             ],
             [
              0.3333333333333333,
              "#9c179e"
             ],
             [
              0.4444444444444444,
              "#bd3786"
             ],
             [
              0.5555555555555556,
              "#d8576b"
             ],
             [
              0.6666666666666666,
              "#ed7953"
             ],
             [
              0.7777777777777778,
              "#fb9f3a"
             ],
             [
              0.8888888888888888,
              "#fdca26"
             ],
             [
              1,
              "#f0f921"
             ]
            ],
            "type": "histogram2dcontour"
           }
          ],
          "mesh3d": [
           {
            "colorbar": {
             "outlinewidth": 0,
             "ticks": ""
            },
            "type": "mesh3d"
           }
          ],
          "parcoords": [
           {
            "line": {
             "colorbar": {
              "outlinewidth": 0,
              "ticks": ""
             }
            },
            "type": "parcoords"
           }
          ],
          "pie": [
           {
            "automargin": true,
            "type": "pie"
           }
          ],
          "scatter": [
           {
            "fillpattern": {
             "fillmode": "overlay",
             "size": 10,
             "solidity": 0.2
            },
            "type": "scatter"
           }
          ],
          "scatter3d": [
           {
            "line": {
             "colorbar": {
              "outlinewidth": 0,
              "ticks": ""
             }
            },
            "marker": {
             "colorbar": {
              "outlinewidth": 0,
              "ticks": ""
             }
            },
            "type": "scatter3d"
           }
          ],
          "scattercarpet": [
           {
            "marker": {
             "colorbar": {
              "outlinewidth": 0,
              "ticks": ""
             }
            },
            "type": "scattercarpet"
           }
          ],
          "scattergeo": [
           {
            "marker": {
             "colorbar": {
              "outlinewidth": 0,
              "ticks": ""
             }
            },
            "type": "scattergeo"
           }
          ],
          "scattergl": [
           {
            "marker": {
             "colorbar": {
              "outlinewidth": 0,
              "ticks": ""
             }
            },
            "type": "scattergl"
           }
          ],
          "scattermap": [
           {
            "marker": {
             "colorbar": {
              "outlinewidth": 0,
              "ticks": ""
             }
            },
            "type": "scattermap"
           }
          ],
          "scattermapbox": [
           {
            "marker": {
             "colorbar": {
              "outlinewidth": 0,
              "ticks": ""
             }
            },
            "type": "scattermapbox"
           }
          ],
          "scatterpolar": [
           {
            "marker": {
             "colorbar": {
              "outlinewidth": 0,
              "ticks": ""
             }
            },
            "type": "scatterpolar"
           }
          ],
          "scatterpolargl": [
           {
            "marker": {
             "colorbar": {
              "outlinewidth": 0,
              "ticks": ""
             }
            },
            "type": "scatterpolargl"
           }
          ],
          "scatterternary": [
           {
            "marker": {
             "colorbar": {
              "outlinewidth": 0,
              "ticks": ""
             }
            },
            "type": "scatterternary"
           }
          ],
          "surface": [
           {
            "colorbar": {
             "outlinewidth": 0,
             "ticks": ""
            },
            "colorscale": [
             [
              0,
              "#0d0887"
             ],
             [
              0.1111111111111111,
              "#46039f"
             ],
             [
              0.2222222222222222,
              "#7201a8"
             ],
             [
              0.3333333333333333,
              "#9c179e"
             ],
             [
              0.4444444444444444,
              "#bd3786"
             ],
             [
              0.5555555555555556,
              "#d8576b"
             ],
             [
              0.6666666666666666,
              "#ed7953"
             ],
             [
              0.7777777777777778,
              "#fb9f3a"
             ],
             [
              0.8888888888888888,
              "#fdca26"
             ],
             [
              1,
              "#f0f921"
             ]
            ],
            "type": "surface"
           }
          ],
          "table": [
           {
            "cells": {
             "fill": {
              "color": "#EBF0F8"
             },
             "line": {
              "color": "white"
             }
            },
            "header": {
             "fill": {
              "color": "#C8D4E3"
             },
             "line": {
              "color": "white"
             }
            },
            "type": "table"
           }
          ]
         },
         "layout": {
          "annotationdefaults": {
           "arrowcolor": "#2a3f5f",
           "arrowhead": 0,
           "arrowwidth": 1
          },
          "autotypenumbers": "strict",
          "coloraxis": {
           "colorbar": {
            "outlinewidth": 0,
            "ticks": ""
           }
          },
          "colorscale": {
           "diverging": [
            [
             0,
             "#8e0152"
            ],
            [
             0.1,
             "#c51b7d"
            ],
            [
             0.2,
             "#de77ae"
            ],
            [
             0.3,
             "#f1b6da"
            ],
            [
             0.4,
             "#fde0ef"
            ],
            [
             0.5,
             "#f7f7f7"
            ],
            [
             0.6,
             "#e6f5d0"
            ],
            [
             0.7,
             "#b8e186"
            ],
            [
             0.8,
             "#7fbc41"
            ],
            [
             0.9,
             "#4d9221"
            ],
            [
             1,
             "#276419"
            ]
           ],
           "sequential": [
            [
             0,
             "#0d0887"
            ],
            [
             0.1111111111111111,
             "#46039f"
            ],
            [
             0.2222222222222222,
             "#7201a8"
            ],
            [
             0.3333333333333333,
             "#9c179e"
            ],
            [
             0.4444444444444444,
             "#bd3786"
            ],
            [
             0.5555555555555556,
             "#d8576b"
            ],
            [
             0.6666666666666666,
             "#ed7953"
            ],
            [
             0.7777777777777778,
             "#fb9f3a"
            ],
            [
             0.8888888888888888,
             "#fdca26"
            ],
            [
             1,
             "#f0f921"
            ]
           ],
           "sequentialminus": [
            [
             0,
             "#0d0887"
            ],
            [
             0.1111111111111111,
             "#46039f"
            ],
            [
             0.2222222222222222,
             "#7201a8"
            ],
            [
             0.3333333333333333,
             "#9c179e"
            ],
            [
             0.4444444444444444,
             "#bd3786"
            ],
            [
             0.5555555555555556,
             "#d8576b"
            ],
            [
             0.6666666666666666,
             "#ed7953"
            ],
            [
             0.7777777777777778,
             "#fb9f3a"
            ],
            [
             0.8888888888888888,
             "#fdca26"
            ],
            [
             1,
             "#f0f921"
            ]
           ]
          },
          "colorway": [
           "#636efa",
           "#EF553B",
           "#00cc96",
           "#ab63fa",
           "#FFA15A",
           "#19d3f3",
           "#FF6692",
           "#B6E880",
           "#FF97FF",
           "#FECB52"
          ],
          "font": {
           "color": "#2a3f5f"
          },
          "geo": {
           "bgcolor": "white",
           "lakecolor": "white",
           "landcolor": "#E5ECF6",
           "showlakes": true,
           "showland": true,
           "subunitcolor": "white"
          },
          "hoverlabel": {
           "align": "left"
          },
          "hovermode": "closest",
          "mapbox": {
           "style": "light"
          },
          "paper_bgcolor": "white",
          "plot_bgcolor": "#E5ECF6",
          "polar": {
           "angularaxis": {
            "gridcolor": "white",
            "linecolor": "white",
            "ticks": ""
           },
           "bgcolor": "#E5ECF6",
           "radialaxis": {
            "gridcolor": "white",
            "linecolor": "white",
            "ticks": ""
           }
          },
          "scene": {
           "xaxis": {
            "backgroundcolor": "#E5ECF6",
            "gridcolor": "white",
            "gridwidth": 2,
            "linecolor": "white",
            "showbackground": true,
            "ticks": "",
            "zerolinecolor": "white"
           },
           "yaxis": {
            "backgroundcolor": "#E5ECF6",
            "gridcolor": "white",
            "gridwidth": 2,
            "linecolor": "white",
            "showbackground": true,
            "ticks": "",
            "zerolinecolor": "white"
           },
           "zaxis": {
            "backgroundcolor": "#E5ECF6",
            "gridcolor": "white",
            "gridwidth": 2,
            "linecolor": "white",
            "showbackground": true,
            "ticks": "",
            "zerolinecolor": "white"
           }
          },
          "shapedefaults": {
           "line": {
            "color": "#2a3f5f"
           }
          },
          "ternary": {
           "aaxis": {
            "gridcolor": "white",
            "linecolor": "white",
            "ticks": ""
           },
           "baxis": {
            "gridcolor": "white",
            "linecolor": "white",
            "ticks": ""
           },
           "bgcolor": "#E5ECF6",
           "caxis": {
            "gridcolor": "white",
            "linecolor": "white",
            "ticks": ""
           }
          },
          "title": {
           "x": 0.05
          },
          "xaxis": {
           "automargin": true,
           "gridcolor": "white",
           "linecolor": "white",
           "ticks": "",
           "title": {
            "standoff": 15
           },
           "zerolinecolor": "white",
           "zerolinewidth": 2
          },
          "yaxis": {
           "automargin": true,
           "gridcolor": "white",
           "linecolor": "white",
           "ticks": "",
           "title": {
            "standoff": 15
           },
           "zerolinecolor": "white",
           "zerolinewidth": 2
          }
         }
        },
        "title": {
         "text": "Matriz de Confusión - SVM RBF"
        },
        "xaxis": {
         "anchor": "y",
         "domain": [
          0,
          1
         ],
         "title": {
          "text": "Predicho"
         }
        },
        "yaxis": {
         "anchor": "x",
         "autorange": "reversed",
         "domain": [
          0,
          1
         ],
         "title": {
          "text": "Real"
         }
        }
       }
      }
     },
     "metadata": {},
     "output_type": "display_data"
    },
    {
     "name": "stdout",
     "output_type": "stream",
     "text": [
      "\n",
      "Analisis de errores:\n",
      "- Total predicciones: 212\n",
      "- Predicciones correctas: 177\n",
      "- Predicciones incorrectas: 35\n",
      "- Tasa de error: 16.5%\n",
      "- Falsos positivos (predice verdadero cuando es falso): 19\n",
      "- Falsos negativos (predice falso cuando es verdadero): 16\n",
      "\n",
      "Ejemplos de errores (primeros 3):\n",
      "\n",
      "Error 1:\n",
      "- Real: Falso, Predicho: Verdadero\n",
      "- Texto: say trump didnt campaign cut debt that promis...\n",
      "\n",
      "Error 2:\n",
      "- Real: Falso, Predicho: Verdadero\n",
      "- Texto: cdc cancel halloween kid...\n",
      "\n",
      "Error 3:\n",
      "- Real: Falso, Predicho: Verdadero\n",
      "- Texto: southern border open anyon anywher world wish enter countri...\n"
     ]
    },
    {
     "data": {
      "application/vnd.plotly.v1+json": {
       "config": {
        "plotlyServerURL": "https://plot.ly"
       },
       "data": [
        {
         "line": {
          "color": "blue",
          "width": 3
         },
         "mode": "lines",
         "name": "SVM RBF (AUC: 0.904)",
         "type": "scatter",
         "x": {
          "bdata": "AAAAAAAAAAAAAAAAAAAAAAAAAAAAAAAAVVVVVVVVhT9VVVVVVVWFP1VVVVVVVZU/VVVVVVVVlT8AAAAAAACgPwAAAAAAAKA/VVVVVVVVpT9VVVVVVVWlP6uqqqqqqqo/q6qqqqqqqj8AAAAAAACwPwAAAAAAALA/q6qqqqqqsj+rqqqqqqqyP1VVVVVVVbU/VVVVVVVVtT9VVVVVVVW9P1VVVVVVVb0/AAAAAAAAwD8AAAAAAADAP1VVVVVVVcE/VVVVVVVVwT9VVVVVVVXFP1VVVVVVVcU/AAAAAAAAyD8AAAAAAADIP1VVVVVVVck/VVVVVVVVyT+rqqqqqqrKP6uqqqqqqso/AAAAAAAAzD8AAAAAAADMP1VVVVVVVdE/VVVVVVVV0T+rqqqqqqrSP6uqqqqqqtI/VVVVVVVV0z9VVVVVVVXTP1VVVVVVVdU/VVVVVVVV1T8AAAAAAADWPwAAAAAAANY/q6qqqqqq1j+rqqqqqqrWPwAAAAAAANo/AAAAAAAA2j9VVVVVVVXhP1VVVVVVVeE/q6qqqqqq5z+rqqqqqqrnPwAAAAAAAOg/AAAAAAAA6D8AAAAAAADwPw==",
          "dtype": "f8"
         },
         "y": {
          "bdata": "AAAAAAAAAACWexphuaeBP5Z7GmG5p5E/lnsaYbmnkT9HWO5phOXOP0dY7mmE5c4/wnJPIyz31D/Cck8jLPfUPxphuacRlts/GmG5pxGW2z9qhOWeRljeP2qE5Z5GWN4/n0ZY7mmE5T+fRljuaYTlP3waYbmnEeY/fBphuacR5j9qhOWeRljmP2qE5Z5GWOY/WO5phOWe5j9Y7mmE5Z7mPzXCck8jLOc/NcJyTyMs5z+5pxGWexrpP7mnEZZ7Guk/qBGWexph6T+oEZZ7GmHpP4TlnkZY7uk/hOWeRlju6T9zTyMs9zTqP3NPIyz3NOo/GmG5pxGW6z8aYbmnEZbrP/c0wnJPI+w/9zTCck8j7D/UCMs9jbDsP9QIyz2NsOw/sdzTCMs97T+x3NMIyz3tP59GWO5phO0/n0ZY7mmE7T+NsNzTCMvtP42w3NMIy+0/fBphuacR7j98GmG5pxHuP2qE5Z5GWO4/aoTlnkZY7j9HWO5phOXuP0dY7mmE5e4/NcJyTyMs7z81wnJPIyzvPyMs9zTCcu8/Iyz3NMJy7z8SlnsaYbnvPxKWexphue8/AAAAAAAA8D8AAAAAAADwPw==",
          "dtype": "f8"
         }
        },
        {
         "line": {
          "color": "red",
          "dash": "dash",
          "width": 2
         },
         "mode": "lines",
         "name": "Clasificador Aleatorio",
         "type": "scatter",
         "x": [
          0,
          1
         ],
         "y": [
          0,
          1
         ]
        }
       ],
       "layout": {
        "height": 500,
        "template": {
         "data": {
          "bar": [
           {
            "error_x": {
             "color": "#2a3f5f"
            },
            "error_y": {
             "color": "#2a3f5f"
            },
            "marker": {
             "line": {
              "color": "#E5ECF6",
              "width": 0.5
             },
             "pattern": {
              "fillmode": "overlay",
              "size": 10,
              "solidity": 0.2
             }
            },
            "type": "bar"
           }
          ],
          "barpolar": [
           {
            "marker": {
             "line": {
              "color": "#E5ECF6",
              "width": 0.5
             },
             "pattern": {
              "fillmode": "overlay",
              "size": 10,
              "solidity": 0.2
             }
            },
            "type": "barpolar"
           }
          ],
          "carpet": [
           {
            "aaxis": {
             "endlinecolor": "#2a3f5f",
             "gridcolor": "white",
             "linecolor": "white",
             "minorgridcolor": "white",
             "startlinecolor": "#2a3f5f"
            },
            "baxis": {
             "endlinecolor": "#2a3f5f",
             "gridcolor": "white",
             "linecolor": "white",
             "minorgridcolor": "white",
             "startlinecolor": "#2a3f5f"
            },
            "type": "carpet"
           }
          ],
          "choropleth": [
           {
            "colorbar": {
             "outlinewidth": 0,
             "ticks": ""
            },
            "type": "choropleth"
           }
          ],
          "contour": [
           {
            "colorbar": {
             "outlinewidth": 0,
             "ticks": ""
            },
            "colorscale": [
             [
              0,
              "#0d0887"
             ],
             [
              0.1111111111111111,
              "#46039f"
             ],
             [
              0.2222222222222222,
              "#7201a8"
             ],
             [
              0.3333333333333333,
              "#9c179e"
             ],
             [
              0.4444444444444444,
              "#bd3786"
             ],
             [
              0.5555555555555556,
              "#d8576b"
             ],
             [
              0.6666666666666666,
              "#ed7953"
             ],
             [
              0.7777777777777778,
              "#fb9f3a"
             ],
             [
              0.8888888888888888,
              "#fdca26"
             ],
             [
              1,
              "#f0f921"
             ]
            ],
            "type": "contour"
           }
          ],
          "contourcarpet": [
           {
            "colorbar": {
             "outlinewidth": 0,
             "ticks": ""
            },
            "type": "contourcarpet"
           }
          ],
          "heatmap": [
           {
            "colorbar": {
             "outlinewidth": 0,
             "ticks": ""
            },
            "colorscale": [
             [
              0,
              "#0d0887"
             ],
             [
              0.1111111111111111,
              "#46039f"
             ],
             [
              0.2222222222222222,
              "#7201a8"
             ],
             [
              0.3333333333333333,
              "#9c179e"
             ],
             [
              0.4444444444444444,
              "#bd3786"
             ],
             [
              0.5555555555555556,
              "#d8576b"
             ],
             [
              0.6666666666666666,
              "#ed7953"
             ],
             [
              0.7777777777777778,
              "#fb9f3a"
             ],
             [
              0.8888888888888888,
              "#fdca26"
             ],
             [
              1,
              "#f0f921"
             ]
            ],
            "type": "heatmap"
           }
          ],
          "histogram": [
           {
            "marker": {
             "pattern": {
              "fillmode": "overlay",
              "size": 10,
              "solidity": 0.2
             }
            },
            "type": "histogram"
           }
          ],
          "histogram2d": [
           {
            "colorbar": {
             "outlinewidth": 0,
             "ticks": ""
            },
            "colorscale": [
             [
              0,
              "#0d0887"
             ],
             [
              0.1111111111111111,
              "#46039f"
             ],
             [
              0.2222222222222222,
              "#7201a8"
             ],
             [
              0.3333333333333333,
              "#9c179e"
             ],
             [
              0.4444444444444444,
              "#bd3786"
             ],
             [
              0.5555555555555556,
              "#d8576b"
             ],
             [
              0.6666666666666666,
              "#ed7953"
             ],
             [
              0.7777777777777778,
              "#fb9f3a"
             ],
             [
              0.8888888888888888,
              "#fdca26"
             ],
             [
              1,
              "#f0f921"
             ]
            ],
            "type": "histogram2d"
           }
          ],
          "histogram2dcontour": [
           {
            "colorbar": {
             "outlinewidth": 0,
             "ticks": ""
            },
            "colorscale": [
             [
              0,
              "#0d0887"
             ],
             [
              0.1111111111111111,
              "#46039f"
             ],
             [
              0.2222222222222222,
              "#7201a8"
             ],
             [
              0.3333333333333333,
              "#9c179e"
             ],
             [
              0.4444444444444444,
              "#bd3786"
             ],
             [
              0.5555555555555556,
              "#d8576b"
             ],
             [
              0.6666666666666666,
              "#ed7953"
             ],
             [
              0.7777777777777778,
              "#fb9f3a"
             ],
             [
              0.8888888888888888,
              "#fdca26"
             ],
             [
              1,
              "#f0f921"
             ]
            ],
            "type": "histogram2dcontour"
           }
          ],
          "mesh3d": [
           {
            "colorbar": {
             "outlinewidth": 0,
             "ticks": ""
            },
            "type": "mesh3d"
           }
          ],
          "parcoords": [
           {
            "line": {
             "colorbar": {
              "outlinewidth": 0,
              "ticks": ""
             }
            },
            "type": "parcoords"
           }
          ],
          "pie": [
           {
            "automargin": true,
            "type": "pie"
           }
          ],
          "scatter": [
           {
            "fillpattern": {
             "fillmode": "overlay",
             "size": 10,
             "solidity": 0.2
            },
            "type": "scatter"
           }
          ],
          "scatter3d": [
           {
            "line": {
             "colorbar": {
              "outlinewidth": 0,
              "ticks": ""
             }
            },
            "marker": {
             "colorbar": {
              "outlinewidth": 0,
              "ticks": ""
             }
            },
            "type": "scatter3d"
           }
          ],
          "scattercarpet": [
           {
            "marker": {
             "colorbar": {
              "outlinewidth": 0,
              "ticks": ""
             }
            },
            "type": "scattercarpet"
           }
          ],
          "scattergeo": [
           {
            "marker": {
             "colorbar": {
              "outlinewidth": 0,
              "ticks": ""
             }
            },
            "type": "scattergeo"
           }
          ],
          "scattergl": [
           {
            "marker": {
             "colorbar": {
              "outlinewidth": 0,
              "ticks": ""
             }
            },
            "type": "scattergl"
           }
          ],
          "scattermap": [
           {
            "marker": {
             "colorbar": {
              "outlinewidth": 0,
              "ticks": ""
             }
            },
            "type": "scattermap"
           }
          ],
          "scattermapbox": [
           {
            "marker": {
             "colorbar": {
              "outlinewidth": 0,
              "ticks": ""
             }
            },
            "type": "scattermapbox"
           }
          ],
          "scatterpolar": [
           {
            "marker": {
             "colorbar": {
              "outlinewidth": 0,
              "ticks": ""
             }
            },
            "type": "scatterpolar"
           }
          ],
          "scatterpolargl": [
           {
            "marker": {
             "colorbar": {
              "outlinewidth": 0,
              "ticks": ""
             }
            },
            "type": "scatterpolargl"
           }
          ],
          "scatterternary": [
           {
            "marker": {
             "colorbar": {
              "outlinewidth": 0,
              "ticks": ""
             }
            },
            "type": "scatterternary"
           }
          ],
          "surface": [
           {
            "colorbar": {
             "outlinewidth": 0,
             "ticks": ""
            },
            "colorscale": [
             [
              0,
              "#0d0887"
             ],
             [
              0.1111111111111111,
              "#46039f"
             ],
             [
              0.2222222222222222,
              "#7201a8"
             ],
             [
              0.3333333333333333,
              "#9c179e"
             ],
             [
              0.4444444444444444,
              "#bd3786"
             ],
             [
              0.5555555555555556,
              "#d8576b"
             ],
             [
              0.6666666666666666,
              "#ed7953"
             ],
             [
              0.7777777777777778,
              "#fb9f3a"
             ],
             [
              0.8888888888888888,
              "#fdca26"
             ],
             [
              1,
              "#f0f921"
             ]
            ],
            "type": "surface"
           }
          ],
          "table": [
           {
            "cells": {
             "fill": {
              "color": "#EBF0F8"
             },
             "line": {
              "color": "white"
             }
            },
            "header": {
             "fill": {
              "color": "#C8D4E3"
             },
             "line": {
              "color": "white"
             }
            },
            "type": "table"
           }
          ]
         },
         "layout": {
          "annotationdefaults": {
           "arrowcolor": "#2a3f5f",
           "arrowhead": 0,
           "arrowwidth": 1
          },
          "autotypenumbers": "strict",
          "coloraxis": {
           "colorbar": {
            "outlinewidth": 0,
            "ticks": ""
           }
          },
          "colorscale": {
           "diverging": [
            [
             0,
             "#8e0152"
            ],
            [
             0.1,
             "#c51b7d"
            ],
            [
             0.2,
             "#de77ae"
            ],
            [
             0.3,
             "#f1b6da"
            ],
            [
             0.4,
             "#fde0ef"
            ],
            [
             0.5,
             "#f7f7f7"
            ],
            [
             0.6,
             "#e6f5d0"
            ],
            [
             0.7,
             "#b8e186"
            ],
            [
             0.8,
             "#7fbc41"
            ],
            [
             0.9,
             "#4d9221"
            ],
            [
             1,
             "#276419"
            ]
           ],
           "sequential": [
            [
             0,
             "#0d0887"
            ],
            [
             0.1111111111111111,
             "#46039f"
            ],
            [
             0.2222222222222222,
             "#7201a8"
            ],
            [
             0.3333333333333333,
             "#9c179e"
            ],
            [
             0.4444444444444444,
             "#bd3786"
            ],
            [
             0.5555555555555556,
             "#d8576b"
            ],
            [
             0.6666666666666666,
             "#ed7953"
            ],
            [
             0.7777777777777778,
             "#fb9f3a"
            ],
            [
             0.8888888888888888,
             "#fdca26"
            ],
            [
             1,
             "#f0f921"
            ]
           ],
           "sequentialminus": [
            [
             0,
             "#0d0887"
            ],
            [
             0.1111111111111111,
             "#46039f"
            ],
            [
             0.2222222222222222,
             "#7201a8"
            ],
            [
             0.3333333333333333,
             "#9c179e"
            ],
            [
             0.4444444444444444,
             "#bd3786"
            ],
            [
             0.5555555555555556,
             "#d8576b"
            ],
            [
             0.6666666666666666,
             "#ed7953"
            ],
            [
             0.7777777777777778,
             "#fb9f3a"
            ],
            [
             0.8888888888888888,
             "#fdca26"
            ],
            [
             1,
             "#f0f921"
            ]
           ]
          },
          "colorway": [
           "#636efa",
           "#EF553B",
           "#00cc96",
           "#ab63fa",
           "#FFA15A",
           "#19d3f3",
           "#FF6692",
           "#B6E880",
           "#FF97FF",
           "#FECB52"
          ],
          "font": {
           "color": "#2a3f5f"
          },
          "geo": {
           "bgcolor": "white",
           "lakecolor": "white",
           "landcolor": "#E5ECF6",
           "showlakes": true,
           "showland": true,
           "subunitcolor": "white"
          },
          "hoverlabel": {
           "align": "left"
          },
          "hovermode": "closest",
          "mapbox": {
           "style": "light"
          },
          "paper_bgcolor": "white",
          "plot_bgcolor": "#E5ECF6",
          "polar": {
           "angularaxis": {
            "gridcolor": "white",
            "linecolor": "white",
            "ticks": ""
           },
           "bgcolor": "#E5ECF6",
           "radialaxis": {
            "gridcolor": "white",
            "linecolor": "white",
            "ticks": ""
           }
          },
          "scene": {
           "xaxis": {
            "backgroundcolor": "#E5ECF6",
            "gridcolor": "white",
            "gridwidth": 2,
            "linecolor": "white",
            "showbackground": true,
            "ticks": "",
            "zerolinecolor": "white"
           },
           "yaxis": {
            "backgroundcolor": "#E5ECF6",
            "gridcolor": "white",
            "gridwidth": 2,
            "linecolor": "white",
            "showbackground": true,
            "ticks": "",
            "zerolinecolor": "white"
           },
           "zaxis": {
            "backgroundcolor": "#E5ECF6",
            "gridcolor": "white",
            "gridwidth": 2,
            "linecolor": "white",
            "showbackground": true,
            "ticks": "",
            "zerolinecolor": "white"
           }
          },
          "shapedefaults": {
           "line": {
            "color": "#2a3f5f"
           }
          },
          "ternary": {
           "aaxis": {
            "gridcolor": "white",
            "linecolor": "white",
            "ticks": ""
           },
           "baxis": {
            "gridcolor": "white",
            "linecolor": "white",
            "ticks": ""
           },
           "bgcolor": "#E5ECF6",
           "caxis": {
            "gridcolor": "white",
            "linecolor": "white",
            "ticks": ""
           }
          },
          "title": {
           "x": 0.05
          },
          "xaxis": {
           "automargin": true,
           "gridcolor": "white",
           "linecolor": "white",
           "ticks": "",
           "title": {
            "standoff": 15
           },
           "zerolinecolor": "white",
           "zerolinewidth": 2
          },
          "yaxis": {
           "automargin": true,
           "gridcolor": "white",
           "linecolor": "white",
           "ticks": "",
           "title": {
            "standoff": 15
           },
           "zerolinecolor": "white",
           "zerolinewidth": 2
          }
         }
        },
        "title": {
         "text": "Curva ROC - SVM RBF"
        },
        "width": 600,
        "xaxis": {
         "title": {
          "text": "Tasa de Falsos Positivos (1 - Especificidad)"
         }
        },
        "yaxis": {
         "title": {
          "text": "Tasa de Verdaderos Positivos (Sensibilidad)"
         }
        }
       }
      }
     },
     "metadata": {},
     "output_type": "display_data"
    },
    {
     "name": "stdout",
     "output_type": "stream",
     "text": [
      "\n",
      "Analisis detallado del mejor modelo completado\n"
     ]
    }
   ],
   "source": [
    "# Análisis detallado del mejor modelo\n",
    "if len(text_results) > 0:\n",
    "    print(f\"\\nANALISIS DETALLADO DEL MEJOR MODELO: {best_model_name}\")\n",
    "    print(\"=\" * 65)\n",
    "    \n",
    "    best_result = text_results[best_model_name]\n",
    "    best_model = best_result['model']\n",
    "    \n",
    "    # Reporte de clasificación completo\n",
    "    print(f\"\\nReporte de clasificación detallado:\")\n",
    "    print(classification_report(\n",
    "        y_test, best_result['test_predictions'],\n",
    "        target_names=['Falso', 'Verdadero'],\n",
    "        digits=4\n",
    "    ))\n",
    "    \n",
    "    # Matriz de confusión\n",
    "    cm = confusion_matrix(y_test, best_result['test_predictions'])\n",
    "    \n",
    "    print(f\"\\nMatriz de confusión:\")\n",
    "    print(f\"                Predicho\")\n",
    "    print(f\"Real      Falso  Verdadero\")\n",
    "    print(f\"Falso     {cm[0,0]:5d}  {cm[0,1]:9d}\")\n",
    "    print(f\"Verdadero {cm[1,0]:5d}  {cm[1,1]:9d}\")\n",
    "    \n",
    "    # Visualizo matriz de confusión\n",
    "    fig_cm = px.imshow(\n",
    "        cm,\n",
    "        text_auto=True,\n",
    "        aspect=\"auto\",\n",
    "        title=f'Matriz de Confusión - {best_model_name}',\n",
    "        labels=dict(x=\"Predicho\", y=\"Real\"),\n",
    "        x=['Falso', 'Verdadero'],\n",
    "        y=['Falso', 'Verdadero'],\n",
    "        color_continuous_scale='Blues'\n",
    "    )\n",
    "    \n",
    "    fig_cm.show()\n",
    "    \n",
    "    # Análisis de errores\n",
    "    correct_predictions = (best_result['test_predictions'] == y_test)\n",
    "    total_errors = (~correct_predictions).sum()\n",
    "    error_rate = total_errors / len(y_test)\n",
    "    \n",
    "    print(f\"\\nAnalisis de errores:\")\n",
    "    print(f\"- Total predicciones: {len(y_test):,}\")\n",
    "    print(f\"- Predicciones correctas: {correct_predictions.sum():,}\")\n",
    "    print(f\"- Predicciones incorrectas: {total_errors:,}\")\n",
    "    print(f\"- Tasa de error: {error_rate:.1%}\")\n",
    "    \n",
    "    # Tipos de errores\n",
    "    false_positives = ((best_result['test_predictions'] == 1) & (y_test == 0)).sum()\n",
    "    false_negatives = ((best_result['test_predictions'] == 0) & (y_test == 1)).sum()\n",
    "    \n",
    "    print(f\"- Falsos positivos (predice verdadero cuando es falso): {false_positives}\")\n",
    "    print(f\"- Falsos negativos (predice falso cuando es verdadero): {false_negatives}\")\n",
    "    \n",
    "    # Muestro algunos ejemplos de errores\n",
    "    if total_errors > 0:\n",
    "        error_indices = np.where(~correct_predictions)[0]\n",
    "        \n",
    "        print(f\"\\nEjemplos de errores (primeros 3):\")\n",
    "        for i, error_idx in enumerate(error_indices[:3]):\n",
    "            actual = y_test.iloc[error_idx]\n",
    "            predicted = best_result['test_predictions'][error_idx]\n",
    "            text_idx = X_test_text.index[error_idx]\n",
    "            text_content = X_test_text.iloc[error_idx]\n",
    "            \n",
    "            actual_label = \"Verdadero\" if actual == 1.0 else \"Falso\"\n",
    "            predicted_label = \"Verdadero\" if predicted == 1.0 else \"Falso\"\n",
    "            \n",
    "            print(f\"\\nError {i+1}:\")\n",
    "            print(f\"- Real: {actual_label}, Predicho: {predicted_label}\")\n",
    "            print(f\"- Texto: {text_content[:180]}...\")\n",
    "    \n",
    "    # Curva ROC si hay probabilidades\n",
    "    if best_result['test_probabilities'] is not None:\n",
    "        fpr, tpr, _ = roc_curve(y_test, best_result['test_probabilities'])\n",
    "        \n",
    "        fig_roc = go.Figure()\n",
    "        \n",
    "        # Curva ROC del modelo\n",
    "        fig_roc.add_trace(\n",
    "            go.Scatter(\n",
    "                x=fpr,\n",
    "                y=tpr,\n",
    "                mode='lines',\n",
    "                name=f'{best_model_name} (AUC: {best_result[\"test_auc\"]:.3f})',\n",
    "                line=dict(color='blue', width=3)\n",
    "            )\n",
    "        )\n",
    "        \n",
    "        # Línea diagonal (clasificador aleatorio)\n",
    "        fig_roc.add_trace(\n",
    "            go.Scatter(\n",
    "                x=[0, 1],\n",
    "                y=[0, 1],\n",
    "                mode='lines',\n",
    "                name='Clasificador Aleatorio',\n",
    "                line=dict(color='red', width=2, dash='dash')\n",
    "            )\n",
    "        )\n",
    "        \n",
    "        fig_roc.update_layout(\n",
    "            title=f'Curva ROC - {best_model_name}',\n",
    "            xaxis_title='Tasa de Falsos Positivos (1 - Especificidad)',\n",
    "            yaxis_title='Tasa de Verdaderos Positivos (Sensibilidad)',\n",
    "            width=600,\n",
    "            height=500\n",
    "        )\n",
    "        \n",
    "        fig_roc.show()\n",
    "    \n",
    "    print(f\"\\nAnalisis detallado del mejor modelo completado\")\n",
    "else:\n",
    "    print(\"No hay modelos para analizar en detalle\")"
   ]
  },
  {
   "cell_type": "markdown",
   "id": "cell-18",
   "metadata": {},
   "source": [
    "## Visualización Comparativa de Todos los Modelos\n",
    "\n",
    "Creo un dashboard completo comparando el desempeño de todos los modelos entrenados."
   ]
  },
  {
   "cell_type": "code",
   "execution_count": 12,
   "id": "cell-19",
   "metadata": {},
   "outputs": [
    {
     "name": "stdout",
     "output_type": "stream",
     "text": [
      "Creando dashboard comparativo de modelos...\n"
     ]
    },
    {
     "data": {
      "application/vnd.plotly.v1+json": {
       "config": {
        "plotlyServerURL": "https://plot.ly"
       },
       "data": [
        {
         "marker": {
          "color": [
           "gold",
           "lightblue",
           "lightblue",
           "lightblue",
           "lightblue",
           "lightblue"
          ]
         },
         "showlegend": false,
         "text": [
          "0.851",
          "0.838",
          "0.836",
          "0.826",
          "0.817",
          "0.805"
         ],
         "textposition": "outside",
         "type": "bar",
         "x": [
          "SVM RBF",
          "Random Forest",
          "Logistic Regression",
          "SVM Linear",
          "Multinomial NB",
          "KNN Cosine"
         ],
         "xaxis": "x",
         "y": {
          "bdata": "bdR3Nuo76z/c8/tTcdDqP08jLPc0wuo/pze96U1v6j+jrQbPESjqP9oUxtkUxuk/",
          "dtype": "f8"
         },
         "yaxis": "y"
        },
        {
         "marker": {
          "color": "blue",
          "size": 12
         },
         "mode": "markers+text",
         "showlegend": false,
         "text": [
          "SVM RBF",
          "Random Forest",
          "Logistic Regression",
          "SVM Linear",
          "Multinomial NB",
          "KNN Cosine"
         ],
         "textposition": "top center",
         "type": "scatter",
         "x": {
          "bdata": "+xxSE4y36j9SE4y3ss/pPycYb2WfQ+o/RGqC8Vb26T9hvJV9DqnpP29ln0Nqguk/",
          "dtype": "f8"
         },
         "xaxis": "x2",
         "y": {
          "bdata": "bdR3Nuo76z/c8/tTcdDqP08jLPc0wuo/pze96U1v6j+jrQbPESjqP9oUxtkUxuk/",
          "dtype": "f8"
         },
         "yaxis": "y2"
        },
        {
         "marker": {
          "color": "orange"
         },
         "showlegend": false,
         "text": [
          "0.5s",
          "0.4s",
          "0.0s",
          "0.4s",
          "0.0s",
          "0.0s"
         ],
         "textposition": "outside",
         "type": "bar",
         "x": [
          "SVM RBF",
          "Random Forest",
          "Logistic Regression",
          "SVM Linear",
          "Multinomial NB",
          "KNN Cosine"
         ],
         "xaxis": "x3",
         "y": {
          "bdata": "CKpGrwao4D//sRAdAkfZP5Rqn47HDJQ/IAiQoWMH2T8UWWsotRdxP+F5qdiY11E/",
          "dtype": "f8"
         },
         "yaxis": "y3"
        },
        {
         "marker": {
          "color": "green",
          "size": 12
         },
         "mode": "markers+text",
         "showlegend": false,
         "text": [
          "SVM RBF",
          "Random Forest",
          "Logistic Regression",
          "SVM Linear",
          "Multinomial NB",
          "KNN Cosine"
         ],
         "textposition": "top center",
         "type": "scatter",
         "x": {
          "bdata": "GmG5pxGW6z+x3NMIyz3tP08jLPc0wuo/c08jLPc06j+E5Z5GWO7pP93TCMs9jeg/",
          "dtype": "f8"
         },
         "xaxis": "x4",
         "y": {
          "bdata": "mwjkmgjk6j9rz8n0VcLoP08jLPc0wuo/q6qqqqqq6j8tprOYzmLqP/uxH/uxH+s/",
          "dtype": "f8"
         },
         "yaxis": "y4"
        }
       ],
       "layout": {
        "annotations": [
         {
          "font": {
           "size": 16
          },
          "showarrow": false,
          "text": "F1-Score por Modelo",
          "x": 0.225,
          "xanchor": "center",
          "xref": "paper",
          "y": 1,
          "yanchor": "bottom",
          "yref": "paper"
         },
         {
          "font": {
           "size": 16
          },
          "showarrow": false,
          "text": "Accuracy vs F1-Score",
          "x": 0.775,
          "xanchor": "center",
          "xref": "paper",
          "y": 1,
          "yanchor": "bottom",
          "yref": "paper"
         },
         {
          "font": {
           "size": 16
          },
          "showarrow": false,
          "text": "Tiempo de Entrenamiento",
          "x": 0.225,
          "xanchor": "center",
          "xref": "paper",
          "y": 0.375,
          "yanchor": "bottom",
          "yref": "paper"
         },
         {
          "font": {
           "size": 16
          },
          "showarrow": false,
          "text": "Precision vs Recall",
          "x": 0.775,
          "xanchor": "center",
          "xref": "paper",
          "y": 0.375,
          "yanchor": "bottom",
          "yref": "paper"
         }
        ],
        "height": 800,
        "template": {
         "data": {
          "bar": [
           {
            "error_x": {
             "color": "#2a3f5f"
            },
            "error_y": {
             "color": "#2a3f5f"
            },
            "marker": {
             "line": {
              "color": "#E5ECF6",
              "width": 0.5
             },
             "pattern": {
              "fillmode": "overlay",
              "size": 10,
              "solidity": 0.2
             }
            },
            "type": "bar"
           }
          ],
          "barpolar": [
           {
            "marker": {
             "line": {
              "color": "#E5ECF6",
              "width": 0.5
             },
             "pattern": {
              "fillmode": "overlay",
              "size": 10,
              "solidity": 0.2
             }
            },
            "type": "barpolar"
           }
          ],
          "carpet": [
           {
            "aaxis": {
             "endlinecolor": "#2a3f5f",
             "gridcolor": "white",
             "linecolor": "white",
             "minorgridcolor": "white",
             "startlinecolor": "#2a3f5f"
            },
            "baxis": {
             "endlinecolor": "#2a3f5f",
             "gridcolor": "white",
             "linecolor": "white",
             "minorgridcolor": "white",
             "startlinecolor": "#2a3f5f"
            },
            "type": "carpet"
           }
          ],
          "choropleth": [
           {
            "colorbar": {
             "outlinewidth": 0,
             "ticks": ""
            },
            "type": "choropleth"
           }
          ],
          "contour": [
           {
            "colorbar": {
             "outlinewidth": 0,
             "ticks": ""
            },
            "colorscale": [
             [
              0,
              "#0d0887"
             ],
             [
              0.1111111111111111,
              "#46039f"
             ],
             [
              0.2222222222222222,
              "#7201a8"
             ],
             [
              0.3333333333333333,
              "#9c179e"
             ],
             [
              0.4444444444444444,
              "#bd3786"
             ],
             [
              0.5555555555555556,
              "#d8576b"
             ],
             [
              0.6666666666666666,
              "#ed7953"
             ],
             [
              0.7777777777777778,
              "#fb9f3a"
             ],
             [
              0.8888888888888888,
              "#fdca26"
             ],
             [
              1,
              "#f0f921"
             ]
            ],
            "type": "contour"
           }
          ],
          "contourcarpet": [
           {
            "colorbar": {
             "outlinewidth": 0,
             "ticks": ""
            },
            "type": "contourcarpet"
           }
          ],
          "heatmap": [
           {
            "colorbar": {
             "outlinewidth": 0,
             "ticks": ""
            },
            "colorscale": [
             [
              0,
              "#0d0887"
             ],
             [
              0.1111111111111111,
              "#46039f"
             ],
             [
              0.2222222222222222,
              "#7201a8"
             ],
             [
              0.3333333333333333,
              "#9c179e"
             ],
             [
              0.4444444444444444,
              "#bd3786"
             ],
             [
              0.5555555555555556,
              "#d8576b"
             ],
             [
              0.6666666666666666,
              "#ed7953"
             ],
             [
              0.7777777777777778,
              "#fb9f3a"
             ],
             [
              0.8888888888888888,
              "#fdca26"
             ],
             [
              1,
              "#f0f921"
             ]
            ],
            "type": "heatmap"
           }
          ],
          "histogram": [
           {
            "marker": {
             "pattern": {
              "fillmode": "overlay",
              "size": 10,
              "solidity": 0.2
             }
            },
            "type": "histogram"
           }
          ],
          "histogram2d": [
           {
            "colorbar": {
             "outlinewidth": 0,
             "ticks": ""
            },
            "colorscale": [
             [
              0,
              "#0d0887"
             ],
             [
              0.1111111111111111,
              "#46039f"
             ],
             [
              0.2222222222222222,
              "#7201a8"
             ],
             [
              0.3333333333333333,
              "#9c179e"
             ],
             [
              0.4444444444444444,
              "#bd3786"
             ],
             [
              0.5555555555555556,
              "#d8576b"
             ],
             [
              0.6666666666666666,
              "#ed7953"
             ],
             [
              0.7777777777777778,
              "#fb9f3a"
             ],
             [
              0.8888888888888888,
              "#fdca26"
             ],
             [
              1,
              "#f0f921"
             ]
            ],
            "type": "histogram2d"
           }
          ],
          "histogram2dcontour": [
           {
            "colorbar": {
             "outlinewidth": 0,
             "ticks": ""
            },
            "colorscale": [
             [
              0,
              "#0d0887"
             ],
             [
              0.1111111111111111,
              "#46039f"
             ],
             [
              0.2222222222222222,
              "#7201a8"
             ],
             [
              0.3333333333333333,
              "#9c179e"
             ],
             [
              0.4444444444444444,
              "#bd3786"
             ],
             [
              0.5555555555555556,
              "#d8576b"
             ],
             [
              0.6666666666666666,
              "#ed7953"
             ],
             [
              0.7777777777777778,
              "#fb9f3a"
             ],
             [
              0.8888888888888888,
              "#fdca26"
             ],
             [
              1,
              "#f0f921"
             ]
            ],
            "type": "histogram2dcontour"
           }
          ],
          "mesh3d": [
           {
            "colorbar": {
             "outlinewidth": 0,
             "ticks": ""
            },
            "type": "mesh3d"
           }
          ],
          "parcoords": [
           {
            "line": {
             "colorbar": {
              "outlinewidth": 0,
              "ticks": ""
             }
            },
            "type": "parcoords"
           }
          ],
          "pie": [
           {
            "automargin": true,
            "type": "pie"
           }
          ],
          "scatter": [
           {
            "fillpattern": {
             "fillmode": "overlay",
             "size": 10,
             "solidity": 0.2
            },
            "type": "scatter"
           }
          ],
          "scatter3d": [
           {
            "line": {
             "colorbar": {
              "outlinewidth": 0,
              "ticks": ""
             }
            },
            "marker": {
             "colorbar": {
              "outlinewidth": 0,
              "ticks": ""
             }
            },
            "type": "scatter3d"
           }
          ],
          "scattercarpet": [
           {
            "marker": {
             "colorbar": {
              "outlinewidth": 0,
              "ticks": ""
             }
            },
            "type": "scattercarpet"
           }
          ],
          "scattergeo": [
           {
            "marker": {
             "colorbar": {
              "outlinewidth": 0,
              "ticks": ""
             }
            },
            "type": "scattergeo"
           }
          ],
          "scattergl": [
           {
            "marker": {
             "colorbar": {
              "outlinewidth": 0,
              "ticks": ""
             }
            },
            "type": "scattergl"
           }
          ],
          "scattermap": [
           {
            "marker": {
             "colorbar": {
              "outlinewidth": 0,
              "ticks": ""
             }
            },
            "type": "scattermap"
           }
          ],
          "scattermapbox": [
           {
            "marker": {
             "colorbar": {
              "outlinewidth": 0,
              "ticks": ""
             }
            },
            "type": "scattermapbox"
           }
          ],
          "scatterpolar": [
           {
            "marker": {
             "colorbar": {
              "outlinewidth": 0,
              "ticks": ""
             }
            },
            "type": "scatterpolar"
           }
          ],
          "scatterpolargl": [
           {
            "marker": {
             "colorbar": {
              "outlinewidth": 0,
              "ticks": ""
             }
            },
            "type": "scatterpolargl"
           }
          ],
          "scatterternary": [
           {
            "marker": {
             "colorbar": {
              "outlinewidth": 0,
              "ticks": ""
             }
            },
            "type": "scatterternary"
           }
          ],
          "surface": [
           {
            "colorbar": {
             "outlinewidth": 0,
             "ticks": ""
            },
            "colorscale": [
             [
              0,
              "#0d0887"
             ],
             [
              0.1111111111111111,
              "#46039f"
             ],
             [
              0.2222222222222222,
              "#7201a8"
             ],
             [
              0.3333333333333333,
              "#9c179e"
             ],
             [
              0.4444444444444444,
              "#bd3786"
             ],
             [
              0.5555555555555556,
              "#d8576b"
             ],
             [
              0.6666666666666666,
              "#ed7953"
             ],
             [
              0.7777777777777778,
              "#fb9f3a"
             ],
             [
              0.8888888888888888,
              "#fdca26"
             ],
             [
              1,
              "#f0f921"
             ]
            ],
            "type": "surface"
           }
          ],
          "table": [
           {
            "cells": {
             "fill": {
              "color": "#EBF0F8"
             },
             "line": {
              "color": "white"
             }
            },
            "header": {
             "fill": {
              "color": "#C8D4E3"
             },
             "line": {
              "color": "white"
             }
            },
            "type": "table"
           }
          ]
         },
         "layout": {
          "annotationdefaults": {
           "arrowcolor": "#2a3f5f",
           "arrowhead": 0,
           "arrowwidth": 1
          },
          "autotypenumbers": "strict",
          "coloraxis": {
           "colorbar": {
            "outlinewidth": 0,
            "ticks": ""
           }
          },
          "colorscale": {
           "diverging": [
            [
             0,
             "#8e0152"
            ],
            [
             0.1,
             "#c51b7d"
            ],
            [
             0.2,
             "#de77ae"
            ],
            [
             0.3,
             "#f1b6da"
            ],
            [
             0.4,
             "#fde0ef"
            ],
            [
             0.5,
             "#f7f7f7"
            ],
            [
             0.6,
             "#e6f5d0"
            ],
            [
             0.7,
             "#b8e186"
            ],
            [
             0.8,
             "#7fbc41"
            ],
            [
             0.9,
             "#4d9221"
            ],
            [
             1,
             "#276419"
            ]
           ],
           "sequential": [
            [
             0,
             "#0d0887"
            ],
            [
             0.1111111111111111,
             "#46039f"
            ],
            [
             0.2222222222222222,
             "#7201a8"
            ],
            [
             0.3333333333333333,
             "#9c179e"
            ],
            [
             0.4444444444444444,
             "#bd3786"
            ],
            [
             0.5555555555555556,
             "#d8576b"
            ],
            [
             0.6666666666666666,
             "#ed7953"
            ],
            [
             0.7777777777777778,
             "#fb9f3a"
            ],
            [
             0.8888888888888888,
             "#fdca26"
            ],
            [
             1,
             "#f0f921"
            ]
           ],
           "sequentialminus": [
            [
             0,
             "#0d0887"
            ],
            [
             0.1111111111111111,
             "#46039f"
            ],
            [
             0.2222222222222222,
             "#7201a8"
            ],
            [
             0.3333333333333333,
             "#9c179e"
            ],
            [
             0.4444444444444444,
             "#bd3786"
            ],
            [
             0.5555555555555556,
             "#d8576b"
            ],
            [
             0.6666666666666666,
             "#ed7953"
            ],
            [
             0.7777777777777778,
             "#fb9f3a"
            ],
            [
             0.8888888888888888,
             "#fdca26"
            ],
            [
             1,
             "#f0f921"
            ]
           ]
          },
          "colorway": [
           "#636efa",
           "#EF553B",
           "#00cc96",
           "#ab63fa",
           "#FFA15A",
           "#19d3f3",
           "#FF6692",
           "#B6E880",
           "#FF97FF",
           "#FECB52"
          ],
          "font": {
           "color": "#2a3f5f"
          },
          "geo": {
           "bgcolor": "white",
           "lakecolor": "white",
           "landcolor": "#E5ECF6",
           "showlakes": true,
           "showland": true,
           "subunitcolor": "white"
          },
          "hoverlabel": {
           "align": "left"
          },
          "hovermode": "closest",
          "mapbox": {
           "style": "light"
          },
          "paper_bgcolor": "white",
          "plot_bgcolor": "#E5ECF6",
          "polar": {
           "angularaxis": {
            "gridcolor": "white",
            "linecolor": "white",
            "ticks": ""
           },
           "bgcolor": "#E5ECF6",
           "radialaxis": {
            "gridcolor": "white",
            "linecolor": "white",
            "ticks": ""
           }
          },
          "scene": {
           "xaxis": {
            "backgroundcolor": "#E5ECF6",
            "gridcolor": "white",
            "gridwidth": 2,
            "linecolor": "white",
            "showbackground": true,
            "ticks": "",
            "zerolinecolor": "white"
           },
           "yaxis": {
            "backgroundcolor": "#E5ECF6",
            "gridcolor": "white",
            "gridwidth": 2,
            "linecolor": "white",
            "showbackground": true,
            "ticks": "",
            "zerolinecolor": "white"
           },
           "zaxis": {
            "backgroundcolor": "#E5ECF6",
            "gridcolor": "white",
            "gridwidth": 2,
            "linecolor": "white",
            "showbackground": true,
            "ticks": "",
            "zerolinecolor": "white"
           }
          },
          "shapedefaults": {
           "line": {
            "color": "#2a3f5f"
           }
          },
          "ternary": {
           "aaxis": {
            "gridcolor": "white",
            "linecolor": "white",
            "ticks": ""
           },
           "baxis": {
            "gridcolor": "white",
            "linecolor": "white",
            "ticks": ""
           },
           "bgcolor": "#E5ECF6",
           "caxis": {
            "gridcolor": "white",
            "linecolor": "white",
            "ticks": ""
           }
          },
          "title": {
           "x": 0.05
          },
          "xaxis": {
           "automargin": true,
           "gridcolor": "white",
           "linecolor": "white",
           "ticks": "",
           "title": {
            "standoff": 15
           },
           "zerolinecolor": "white",
           "zerolinewidth": 2
          },
          "yaxis": {
           "automargin": true,
           "gridcolor": "white",
           "linecolor": "white",
           "ticks": "",
           "title": {
            "standoff": 15
           },
           "zerolinecolor": "white",
           "zerolinewidth": 2
          }
         }
        },
        "title": {
         "text": "Dashboard Comparativo de Modelos NLP - Ganador: SVM RBF"
        },
        "xaxis": {
         "anchor": "y",
         "domain": [
          0,
          0.45
         ],
         "tickangle": 45
        },
        "xaxis2": {
         "anchor": "y2",
         "domain": [
          0.55,
          1
         ]
        },
        "xaxis3": {
         "anchor": "y3",
         "domain": [
          0,
          0.45
         ],
         "tickangle": 45
        },
        "xaxis4": {
         "anchor": "y4",
         "domain": [
          0.55,
          1
         ]
        },
        "yaxis": {
         "anchor": "x",
         "domain": [
          0.625,
          1
         ]
        },
        "yaxis2": {
         "anchor": "x2",
         "domain": [
          0.625,
          1
         ]
        },
        "yaxis3": {
         "anchor": "x3",
         "domain": [
          0,
          0.375
         ]
        },
        "yaxis4": {
         "anchor": "x4",
         "domain": [
          0,
          0.375
         ]
        }
       }
      }
     },
     "metadata": {},
     "output_type": "display_data"
    },
    {
     "data": {
      "application/vnd.plotly.v1+json": {
       "config": {
        "plotlyServerURL": "https://plot.ly"
       },
       "data": [
        {
         "marker": {
          "color": "gold"
         },
         "text": [
          "0.835",
          "0.840",
          "0.862",
          "0.851"
         ],
         "textposition": "outside",
         "type": "bar",
         "x": [
          "Accuracy",
          "Precision",
          "Recall",
          "F1-Score"
         ],
         "y": [
          0.8349056603773585,
          0.8403361344537815,
          0.8620689655172413,
          0.851063829787234
         ]
        }
       ],
       "layout": {
        "height": 400,
        "template": {
         "data": {
          "bar": [
           {
            "error_x": {
             "color": "#2a3f5f"
            },
            "error_y": {
             "color": "#2a3f5f"
            },
            "marker": {
             "line": {
              "color": "#E5ECF6",
              "width": 0.5
             },
             "pattern": {
              "fillmode": "overlay",
              "size": 10,
              "solidity": 0.2
             }
            },
            "type": "bar"
           }
          ],
          "barpolar": [
           {
            "marker": {
             "line": {
              "color": "#E5ECF6",
              "width": 0.5
             },
             "pattern": {
              "fillmode": "overlay",
              "size": 10,
              "solidity": 0.2
             }
            },
            "type": "barpolar"
           }
          ],
          "carpet": [
           {
            "aaxis": {
             "endlinecolor": "#2a3f5f",
             "gridcolor": "white",
             "linecolor": "white",
             "minorgridcolor": "white",
             "startlinecolor": "#2a3f5f"
            },
            "baxis": {
             "endlinecolor": "#2a3f5f",
             "gridcolor": "white",
             "linecolor": "white",
             "minorgridcolor": "white",
             "startlinecolor": "#2a3f5f"
            },
            "type": "carpet"
           }
          ],
          "choropleth": [
           {
            "colorbar": {
             "outlinewidth": 0,
             "ticks": ""
            },
            "type": "choropleth"
           }
          ],
          "contour": [
           {
            "colorbar": {
             "outlinewidth": 0,
             "ticks": ""
            },
            "colorscale": [
             [
              0,
              "#0d0887"
             ],
             [
              0.1111111111111111,
              "#46039f"
             ],
             [
              0.2222222222222222,
              "#7201a8"
             ],
             [
              0.3333333333333333,
              "#9c179e"
             ],
             [
              0.4444444444444444,
              "#bd3786"
             ],
             [
              0.5555555555555556,
              "#d8576b"
             ],
             [
              0.6666666666666666,
              "#ed7953"
             ],
             [
              0.7777777777777778,
              "#fb9f3a"
             ],
             [
              0.8888888888888888,
              "#fdca26"
             ],
             [
              1,
              "#f0f921"
             ]
            ],
            "type": "contour"
           }
          ],
          "contourcarpet": [
           {
            "colorbar": {
             "outlinewidth": 0,
             "ticks": ""
            },
            "type": "contourcarpet"
           }
          ],
          "heatmap": [
           {
            "colorbar": {
             "outlinewidth": 0,
             "ticks": ""
            },
            "colorscale": [
             [
              0,
              "#0d0887"
             ],
             [
              0.1111111111111111,
              "#46039f"
             ],
             [
              0.2222222222222222,
              "#7201a8"
             ],
             [
              0.3333333333333333,
              "#9c179e"
             ],
             [
              0.4444444444444444,
              "#bd3786"
             ],
             [
              0.5555555555555556,
              "#d8576b"
             ],
             [
              0.6666666666666666,
              "#ed7953"
             ],
             [
              0.7777777777777778,
              "#fb9f3a"
             ],
             [
              0.8888888888888888,
              "#fdca26"
             ],
             [
              1,
              "#f0f921"
             ]
            ],
            "type": "heatmap"
           }
          ],
          "histogram": [
           {
            "marker": {
             "pattern": {
              "fillmode": "overlay",
              "size": 10,
              "solidity": 0.2
             }
            },
            "type": "histogram"
           }
          ],
          "histogram2d": [
           {
            "colorbar": {
             "outlinewidth": 0,
             "ticks": ""
            },
            "colorscale": [
             [
              0,
              "#0d0887"
             ],
             [
              0.1111111111111111,
              "#46039f"
             ],
             [
              0.2222222222222222,
              "#7201a8"
             ],
             [
              0.3333333333333333,
              "#9c179e"
             ],
             [
              0.4444444444444444,
              "#bd3786"
             ],
             [
              0.5555555555555556,
              "#d8576b"
             ],
             [
              0.6666666666666666,
              "#ed7953"
             ],
             [
              0.7777777777777778,
              "#fb9f3a"
             ],
             [
              0.8888888888888888,
              "#fdca26"
             ],
             [
              1,
              "#f0f921"
             ]
            ],
            "type": "histogram2d"
           }
          ],
          "histogram2dcontour": [
           {
            "colorbar": {
             "outlinewidth": 0,
             "ticks": ""
            },
            "colorscale": [
             [
              0,
              "#0d0887"
             ],
             [
              0.1111111111111111,
              "#46039f"
             ],
             [
              0.2222222222222222,
              "#7201a8"
             ],
             [
              0.3333333333333333,
              "#9c179e"
             ],
             [
              0.4444444444444444,
              "#bd3786"
             ],
             [
              0.5555555555555556,
              "#d8576b"
             ],
             [
              0.6666666666666666,
              "#ed7953"
             ],
             [
              0.7777777777777778,
              "#fb9f3a"
             ],
             [
              0.8888888888888888,
              "#fdca26"
             ],
             [
              1,
              "#f0f921"
             ]
            ],
            "type": "histogram2dcontour"
           }
          ],
          "mesh3d": [
           {
            "colorbar": {
             "outlinewidth": 0,
             "ticks": ""
            },
            "type": "mesh3d"
           }
          ],
          "parcoords": [
           {
            "line": {
             "colorbar": {
              "outlinewidth": 0,
              "ticks": ""
             }
            },
            "type": "parcoords"
           }
          ],
          "pie": [
           {
            "automargin": true,
            "type": "pie"
           }
          ],
          "scatter": [
           {
            "fillpattern": {
             "fillmode": "overlay",
             "size": 10,
             "solidity": 0.2
            },
            "type": "scatter"
           }
          ],
          "scatter3d": [
           {
            "line": {
             "colorbar": {
              "outlinewidth": 0,
              "ticks": ""
             }
            },
            "marker": {
             "colorbar": {
              "outlinewidth": 0,
              "ticks": ""
             }
            },
            "type": "scatter3d"
           }
          ],
          "scattercarpet": [
           {
            "marker": {
             "colorbar": {
              "outlinewidth": 0,
              "ticks": ""
             }
            },
            "type": "scattercarpet"
           }
          ],
          "scattergeo": [
           {
            "marker": {
             "colorbar": {
              "outlinewidth": 0,
              "ticks": ""
             }
            },
            "type": "scattergeo"
           }
          ],
          "scattergl": [
           {
            "marker": {
             "colorbar": {
              "outlinewidth": 0,
              "ticks": ""
             }
            },
            "type": "scattergl"
           }
          ],
          "scattermap": [
           {
            "marker": {
             "colorbar": {
              "outlinewidth": 0,
              "ticks": ""
             }
            },
            "type": "scattermap"
           }
          ],
          "scattermapbox": [
           {
            "marker": {
             "colorbar": {
              "outlinewidth": 0,
              "ticks": ""
             }
            },
            "type": "scattermapbox"
           }
          ],
          "scatterpolar": [
           {
            "marker": {
             "colorbar": {
              "outlinewidth": 0,
              "ticks": ""
             }
            },
            "type": "scatterpolar"
           }
          ],
          "scatterpolargl": [
           {
            "marker": {
             "colorbar": {
              "outlinewidth": 0,
              "ticks": ""
             }
            },
            "type": "scatterpolargl"
           }
          ],
          "scatterternary": [
           {
            "marker": {
             "colorbar": {
              "outlinewidth": 0,
              "ticks": ""
             }
            },
            "type": "scatterternary"
           }
          ],
          "surface": [
           {
            "colorbar": {
             "outlinewidth": 0,
             "ticks": ""
            },
            "colorscale": [
             [
              0,
              "#0d0887"
             ],
             [
              0.1111111111111111,
              "#46039f"
             ],
             [
              0.2222222222222222,
              "#7201a8"
             ],
             [
              0.3333333333333333,
              "#9c179e"
             ],
             [
              0.4444444444444444,
              "#bd3786"
             ],
             [
              0.5555555555555556,
              "#d8576b"
             ],
             [
              0.6666666666666666,
              "#ed7953"
             ],
             [
              0.7777777777777778,
              "#fb9f3a"
             ],
             [
              0.8888888888888888,
              "#fdca26"
             ],
             [
              1,
              "#f0f921"
             ]
            ],
            "type": "surface"
           }
          ],
          "table": [
           {
            "cells": {
             "fill": {
              "color": "#EBF0F8"
             },
             "line": {
              "color": "white"
             }
            },
            "header": {
             "fill": {
              "color": "#C8D4E3"
             },
             "line": {
              "color": "white"
             }
            },
            "type": "table"
           }
          ]
         },
         "layout": {
          "annotationdefaults": {
           "arrowcolor": "#2a3f5f",
           "arrowhead": 0,
           "arrowwidth": 1
          },
          "autotypenumbers": "strict",
          "coloraxis": {
           "colorbar": {
            "outlinewidth": 0,
            "ticks": ""
           }
          },
          "colorscale": {
           "diverging": [
            [
             0,
             "#8e0152"
            ],
            [
             0.1,
             "#c51b7d"
            ],
            [
             0.2,
             "#de77ae"
            ],
            [
             0.3,
             "#f1b6da"
            ],
            [
             0.4,
             "#fde0ef"
            ],
            [
             0.5,
             "#f7f7f7"
            ],
            [
             0.6,
             "#e6f5d0"
            ],
            [
             0.7,
             "#b8e186"
            ],
            [
             0.8,
             "#7fbc41"
            ],
            [
             0.9,
             "#4d9221"
            ],
            [
             1,
             "#276419"
            ]
           ],
           "sequential": [
            [
             0,
             "#0d0887"
            ],
            [
             0.1111111111111111,
             "#46039f"
            ],
            [
             0.2222222222222222,
             "#7201a8"
            ],
            [
             0.3333333333333333,
             "#9c179e"
            ],
            [
             0.4444444444444444,
             "#bd3786"
            ],
            [
             0.5555555555555556,
             "#d8576b"
            ],
            [
             0.6666666666666666,
             "#ed7953"
            ],
            [
             0.7777777777777778,
             "#fb9f3a"
            ],
            [
             0.8888888888888888,
             "#fdca26"
            ],
            [
             1,
             "#f0f921"
            ]
           ],
           "sequentialminus": [
            [
             0,
             "#0d0887"
            ],
            [
             0.1111111111111111,
             "#46039f"
            ],
            [
             0.2222222222222222,
             "#7201a8"
            ],
            [
             0.3333333333333333,
             "#9c179e"
            ],
            [
             0.4444444444444444,
             "#bd3786"
            ],
            [
             0.5555555555555556,
             "#d8576b"
            ],
            [
             0.6666666666666666,
             "#ed7953"
            ],
            [
             0.7777777777777778,
             "#fb9f3a"
            ],
            [
             0.8888888888888888,
             "#fdca26"
            ],
            [
             1,
             "#f0f921"
            ]
           ]
          },
          "colorway": [
           "#636efa",
           "#EF553B",
           "#00cc96",
           "#ab63fa",
           "#FFA15A",
           "#19d3f3",
           "#FF6692",
           "#B6E880",
           "#FF97FF",
           "#FECB52"
          ],
          "font": {
           "color": "#2a3f5f"
          },
          "geo": {
           "bgcolor": "white",
           "lakecolor": "white",
           "landcolor": "#E5ECF6",
           "showlakes": true,
           "showland": true,
           "subunitcolor": "white"
          },
          "hoverlabel": {
           "align": "left"
          },
          "hovermode": "closest",
          "mapbox": {
           "style": "light"
          },
          "paper_bgcolor": "white",
          "plot_bgcolor": "#E5ECF6",
          "polar": {
           "angularaxis": {
            "gridcolor": "white",
            "linecolor": "white",
            "ticks": ""
           },
           "bgcolor": "#E5ECF6",
           "radialaxis": {
            "gridcolor": "white",
            "linecolor": "white",
            "ticks": ""
           }
          },
          "scene": {
           "xaxis": {
            "backgroundcolor": "#E5ECF6",
            "gridcolor": "white",
            "gridwidth": 2,
            "linecolor": "white",
            "showbackground": true,
            "ticks": "",
            "zerolinecolor": "white"
           },
           "yaxis": {
            "backgroundcolor": "#E5ECF6",
            "gridcolor": "white",
            "gridwidth": 2,
            "linecolor": "white",
            "showbackground": true,
            "ticks": "",
            "zerolinecolor": "white"
           },
           "zaxis": {
            "backgroundcolor": "#E5ECF6",
            "gridcolor": "white",
            "gridwidth": 2,
            "linecolor": "white",
            "showbackground": true,
            "ticks": "",
            "zerolinecolor": "white"
           }
          },
          "shapedefaults": {
           "line": {
            "color": "#2a3f5f"
           }
          },
          "ternary": {
           "aaxis": {
            "gridcolor": "white",
            "linecolor": "white",
            "ticks": ""
           },
           "baxis": {
            "gridcolor": "white",
            "linecolor": "white",
            "ticks": ""
           },
           "bgcolor": "#E5ECF6",
           "caxis": {
            "gridcolor": "white",
            "linecolor": "white",
            "ticks": ""
           }
          },
          "title": {
           "x": 0.05
          },
          "xaxis": {
           "automargin": true,
           "gridcolor": "white",
           "linecolor": "white",
           "ticks": "",
           "title": {
            "standoff": 15
           },
           "zerolinecolor": "white",
           "zerolinewidth": 2
          },
          "yaxis": {
           "automargin": true,
           "gridcolor": "white",
           "linecolor": "white",
           "ticks": "",
           "title": {
            "standoff": 15
           },
           "zerolinecolor": "white",
           "zerolinewidth": 2
          }
         }
        },
        "title": {
         "text": "Métricas del Mejor Modelo: SVM RBF"
        },
        "yaxis": {
         "title": {
          "text": "Score"
         }
        }
       }
      }
     },
     "metadata": {},
     "output_type": "display_data"
    },
    {
     "name": "stdout",
     "output_type": "stream",
     "text": [
      "Dashboard comparativo creado exitosamente\n"
     ]
    }
   ],
   "source": [
    "# Dashboard comparativo de todos los modelos\n",
    "if len(text_results) > 0:\n",
    "    print(\"Creando dashboard comparativo de modelos...\")\n",
    "    \n",
    "    # Dashboard principal con múltiples métricas\n",
    "    fig = make_subplots(\n",
    "        rows=2, cols=2,\n",
    "        subplot_titles=(\n",
    "            'F1-Score por Modelo',\n",
    "            'Accuracy vs F1-Score',\n",
    "            'Tiempo de Entrenamiento',\n",
    "            'Precision vs Recall'\n",
    "        )\n",
    "    )\n",
    "    \n",
    "    # 1. F1-Score por modelo (barras)\n",
    "    colors = ['gold' if i == 0 else 'lightblue' for i in range(len(results_df))]\n",
    "    \n",
    "    fig.add_trace(\n",
    "        go.Bar(\n",
    "            x=results_df['Modelo'],\n",
    "            y=results_df['Test_F1'],\n",
    "            text=[f'{f:.3f}' for f in results_df['Test_F1']],\n",
    "            textposition='outside',\n",
    "            marker_color=colors,\n",
    "            showlegend=False\n",
    "        ),\n",
    "        row=1, col=1\n",
    "    )\n",
    "    \n",
    "    # 2. Accuracy vs F1-Score (scatter)\n",
    "    fig.add_trace(\n",
    "        go.Scatter(\n",
    "            x=results_df['Test_Accuracy'],\n",
    "            y=results_df['Test_F1'],\n",
    "            mode='markers+text',\n",
    "            text=results_df['Modelo'],\n",
    "            textposition='top center',\n",
    "            marker=dict(size=12, color='blue'),\n",
    "            showlegend=False\n",
    "        ),\n",
    "        row=1, col=2\n",
    "    )\n",
    "    \n",
    "    # 3. Tiempo de entrenamiento (barras)\n",
    "    fig.add_trace(\n",
    "        go.Bar(\n",
    "            x=results_df['Modelo'],\n",
    "            y=results_df['Training_Time'],\n",
    "            text=[f'{t:.1f}s' for t in results_df['Training_Time']],\n",
    "            textposition='outside',\n",
    "            marker_color='orange',\n",
    "            showlegend=False\n",
    "        ),\n",
    "        row=2, col=1\n",
    "    )\n",
    "    \n",
    "    # 4. Precision vs Recall (scatter)\n",
    "    fig.add_trace(\n",
    "        go.Scatter(\n",
    "            x=results_df['Test_Recall'],\n",
    "            y=results_df['Test_Precision'],\n",
    "            mode='markers+text',\n",
    "            text=results_df['Modelo'],\n",
    "            textposition='top center',\n",
    "            marker=dict(size=12, color='green'),\n",
    "            showlegend=False\n",
    "        ),\n",
    "        row=2, col=2\n",
    "    )\n",
    "    \n",
    "    # Actualizo layout\n",
    "    fig.update_layout(\n",
    "        title=f'Dashboard Comparativo de Modelos NLP - Ganador: {best_model_name}',\n",
    "        height=800\n",
    "    )\n",
    "    \n",
    "    # Roto etiquetas en gráficos de barras\n",
    "    fig.update_xaxes(tickangle=45, row=1, col=1)\n",
    "    fig.update_xaxes(tickangle=45, row=2, col=1)\n",
    "    \n",
    "    fig.show()\n",
    "    \n",
    "    # Gráfico adicional: Comparación de métricas del mejor modelo\n",
    "    best_metrics = ['Test_Accuracy', 'Test_Precision', 'Test_Recall', 'Test_F1']\n",
    "    best_values = [results_df.iloc[0][metric] for metric in best_metrics]\n",
    "    metric_labels = ['Accuracy', 'Precision', 'Recall', 'F1-Score']\n",
    "    \n",
    "    fig_best = go.Figure()\n",
    "    \n",
    "    fig_best.add_trace(\n",
    "        go.Bar(\n",
    "            x=metric_labels,\n",
    "            y=best_values,\n",
    "            text=[f'{v:.3f}' for v in best_values],\n",
    "            textposition='outside',\n",
    "            marker_color='gold'\n",
    "        )\n",
    "    )\n",
    "    \n",
    "    fig_best.update_layout(\n",
    "        title=f'Métricas del Mejor Modelo: {best_model_name}',\n",
    "        yaxis_title='Score',\n",
    "        height=400\n",
    "    )\n",
    "    \n",
    "    fig_best.show()\n",
    "    \n",
    "    print(f\"Dashboard comparativo creado exitosamente\")\n",
    "else:\n",
    "    print(\"No hay resultados para visualizar\")"
   ]
  },
  {
   "cell_type": "markdown",
   "id": "cell-20",
   "metadata": {},
   "source": [
    "## Guardado de Resultados y Modelos\n",
    "\n",
    "Guardo todos los resultados, modelos entrenados y configuraciones para uso posterior en el ensemble."
   ]
  },
  {
   "cell_type": "code",
   "execution_count": 13,
   "id": "cell-21",
   "metadata": {},
   "outputs": [
    {
     "name": "stdout",
     "output_type": "stream",
     "text": [
      "\n",
      "GUARDANDO RESULTADOS Y MODELOS\n",
      "===================================\n",
      "Resultados guardados en: ../models/nlp_tfidf_results.csv\n",
      "Mejor modelo guardado en: ../models/best_nlp_model_svm_rbf.pkl\n",
      "Configuración guardada en: ../models/nlp_tfidf_config.json\n",
      "Vectorizador ya guardado en: ../processed_data/tfidf_vectorizer.pkl\n",
      "\n",
      "Archivos generados:\n",
      "1. ../models/nlp_tfidf_results.csv - Resultados comparativos\n",
      "2. ../models/best_nlp_model_svm_rbf.pkl - Mejor modelo completo\n",
      "3. ../models/nlp_tfidf_config.json - Configuración para ensemble\n",
      "4. ../processed_data/tfidf_vectorizer.pkl - Vectorizador TF-IDF\n"
     ]
    }
   ],
   "source": [
    "# Guardo todos los resultados y modelos\n",
    "if len(text_results) > 0:\n",
    "    print(\"\\nGUARDANDO RESULTADOS Y MODELOS\")\n",
    "    print(\"=\" * 35)\n",
    "    \n",
    "    # Guardo tabla de resultados\n",
    "    results_df.to_csv('../models/nlp_tfidf_results.csv', index=False)\n",
    "    print(f\"Resultados guardados en: ../models/nlp_tfidf_results.csv\")\n",
    "    \n",
    "    # Guardo el mejor modelo completo\n",
    "    best_model_package = {\n",
    "        'model': best_result['model'],\n",
    "        'vectorizer': tfidf_vectorizer,\n",
    "        'results': best_result,\n",
    "        'feature_names': feature_names,\n",
    "        'preprocessing_params': {\n",
    "            'use_stemming': True,\n",
    "            'remove_stopwords': True,\n",
    "            'min_text_length': 15\n",
    "        }\n",
    "    }\n",
    "    \n",
    "    model_filename = f'../models/best_nlp_model_{best_model_name.replace(\" \", \"_\").lower()}.pkl'\n",
    "    with open(model_filename, 'wb') as f:\n",
    "        pickle.dump(best_model_package, f)\n",
    "    \n",
    "    print(f\"Mejor modelo guardado en: {model_filename}\")\n",
    "    \n",
    "    # Guardo configuración para ensemble\n",
    "    nlp_config = {\n",
    "        'best_model_name': best_model_name,\n",
    "        'best_f1_score': float(best_f1),\n",
    "        'best_accuracy': float(best_acc),\n",
    "        'best_auc': float(best_auc) if not pd.isna(best_auc) else None,\n",
    "        'vectorizer_features': int(X_train_tfidf.shape[1]),\n",
    "        'tfidf_params': {\n",
    "            'max_features': tfidf_vectorizer.max_features,\n",
    "            'ngram_range': tfidf_vectorizer.ngram_range,\n",
    "            'min_df': tfidf_vectorizer.min_df,\n",
    "            'max_df': tfidf_vectorizer.max_df\n",
    "        },\n",
    "        'data_stats': {\n",
    "            'original_samples': len(df_text),\n",
    "            'unique_samples': len(df_text_final),\n",
    "            'final_samples': len(texts_stemmed_final),\n",
    "            'train_samples': len(X_train_text),\n",
    "            'test_samples': len(X_test_text)\n",
    "        },\n",
    "        'data_leakage_corrected': True,\n",
    "        'objetivo_alcanzado': objetivo_alcanzado,\n",
    "        'ready_for_ensemble': True,\n",
    "        'timestamp': datetime.now().isoformat()\n",
    "    }\n",
    "    \n",
    "    with open('../models/nlp_tfidf_config.json', 'w') as f:\n",
    "        json.dump(nlp_config, f, indent=2)\n",
    "    \n",
    "    print(f\"Configuración guardada en: ../models/nlp_tfidf_config.json\")\n",
    "    \n",
    "    # Guardo también el vectorizador por separado para fácil acceso\n",
    "    print(f\"Vectorizador ya guardado en: ../processed_data/tfidf_vectorizer.pkl\")\n",
    "    \n",
    "    print(f\"\\nArchivos generados:\")\n",
    "    print(f\"1. ../models/nlp_tfidf_results.csv - Resultados comparativos\")\n",
    "    print(f\"2. {model_filename} - Mejor modelo completo\")\n",
    "    print(f\"3. ../models/nlp_tfidf_config.json - Configuración para ensemble\")\n",
    "    print(f\"4. ../processed_data/tfidf_vectorizer.pkl - Vectorizador TF-IDF\")\n",
    "    \n",
    "else:\n",
    "    print(\"No hay resultados para guardar\")"
   ]
  },
  {
   "cell_type": "markdown",
   "id": "cell-22",
   "metadata": {},
   "source": [
    "## Resumen Final y Próximos Pasos\n",
    "\n",
    "Resumo todo el trabajo realizado y defino los próximos pasos para integrar estos modelos en el ensemble final."
   ]
  },
  {
   "cell_type": "code",
   "execution_count": 14,
   "id": "cell-23",
   "metadata": {},
   "outputs": [
    {
     "name": "stdout",
     "output_type": "stream",
     "text": [
      "\n",
      "RESUMEN FINAL - MODELOS NLP CON TF-IDF\n",
      "==================================================\n",
      "\n",
      "TRABAJO REALIZADO:\n",
      "1. Carga y análisis de 134,198 textos originales\n",
      "2. Corrección de data leakage eliminando 133,140 duplicados\n",
      "3. Preprocesamiento avanzado de texto con NLTK\n",
      "4. Vectorización TF-IDF con 1,250 features\n",
      "5. Entrenamiento de 6 modelos exitosos\n",
      "6. Evaluación completa con métricas detalladas\n",
      "\n",
      "DATOS PROCESADOS:\n",
      "- Dataset original: 134,198 filas\n",
      "- Después de eliminar duplicados: 1,058 filas\n",
      "- Después de filtrar texto válido: 1,058 filas\n",
      "- Reducción total: 99.2%\n",
      "\n",
      "VECTORIZACION TF-IDF:\n",
      "- Features máximas configuradas: 8,000\n",
      "- Features reales generadas: 1,250\n",
      "- N-gramas utilizados: (1, 2)\n",
      "- Sparsity de la matriz: 99.3%\n",
      "\n",
      "MODELOS ENTRENADOS Y RESULTADOS:\n",
      "1. Logistic Regression:\n",
      "   - F1-Score: 0.8362\n",
      "   - Accuracy: 0.8208\n",
      "   - Tiempo: 0.0s\n",
      "2. SVM Linear:\n",
      "   - F1-Score: 0.8261\n",
      "   - Accuracy: 0.8113\n",
      "   - Tiempo: 0.4s\n",
      "3. SVM RBF:\n",
      "   - F1-Score: 0.8511\n",
      "   - Accuracy: 0.8349\n",
      "   - Tiempo: 0.5s\n",
      "4. Multinomial NB:\n",
      "   - F1-Score: 0.8174\n",
      "   - Accuracy: 0.8019\n",
      "   - Tiempo: 0.0s\n",
      "5. Random Forest:\n",
      "   - F1-Score: 0.8379\n",
      "   - Accuracy: 0.8066\n",
      "   - Tiempo: 0.4s\n",
      "6. KNN Cosine:\n",
      "   - F1-Score: 0.8054\n",
      "   - Accuracy: 0.7972\n",
      "   - Tiempo: 0.0s\n",
      "\n",
      "MEJOR RENDIMIENTO ALCANZADO:\n",
      "- Modelo ganador: SVM RBF\n",
      "- F1-Score: 0.8511 (85.1%)\n",
      "- Accuracy: 0.8349 (83.5%)\n",
      "- AUC: 0.9043\n",
      "\n",
      "EVALUACION FINAL:\n",
      "- Objetivo F1-Score: 70%\n",
      "- F1-Score alcanzado: 85%\n",
      "- EXITO: Objetivo alcanzado con +15.1% de superavit\n",
      "\n",
      "INSIGHTS IMPORTANTES:\n",
      "1. Eliminar duplicados fue crucial - redujo overfitting\n",
      "2. TF-IDF con bigrams capturó patrones importantes\n",
      "3. SVM RBF demostró mejor balance precision/recall\n",
      "4. Diferencia entre mejor y peor F1: 0.046\n",
      "5. Diferencia de tiempo: 0.5s\n",
      "\n",
      "PROXIMOS PASOS PARA ENSEMBLE:\n",
      "1. Integrar SVM RBF como componente NLP principal\n",
      "2. Combinar con modelos BERT para mejor cobertura\n",
      "3. Usar features TF-IDF como input para meta-modelos\n",
      "4. Implementar ensemble voting con modelos top 3\n",
      "5. Optimizar hiperparámetros en conjunto\n",
      "\n",
      "ESTADO FINAL: EXITOSO\n",
      "Preparado para integración en ensemble híbrido\n",
      "\n",
      "Finalizado: 2025-08-22 16:33:38\n",
      "ANALISIS NLP CON TF-IDF COMPLETADO\n",
      "Estado: EXITOSO\n",
      "Sin data leakage - Listo para ensemble\n"
     ]
    }
   ],
   "source": [
    "# Resumen final completo\n",
    "print(\"\\nRESUMEN FINAL - MODELOS NLP CON TF-IDF\")\n",
    "print(\"=\" * 50)\n",
    "\n",
    "if len(text_results) > 0:\n",
    "    print(f\"\\nTRABAJO REALIZADO:\")\n",
    "    print(f\"1. Carga y análisis de {len(df_text):,} textos originales\")\n",
    "    print(f\"2. Corrección de data leakage eliminando {len(df_text) - len(df_text_unique):,} duplicados\")\n",
    "    print(f\"3. Preprocesamiento avanzado de texto con NLTK\")\n",
    "    print(f\"4. Vectorización TF-IDF con {X_train_tfidf.shape[1]:,} features\")\n",
    "    print(f\"5. Entrenamiento de {len(text_results)} modelos exitosos\")\n",
    "    print(f\"6. Evaluación completa con métricas detalladas\")\n",
    "    \n",
    "    print(f\"\\nDATOS PROCESADOS:\")\n",
    "    print(f\"- Dataset original: {len(df_text):,} filas\")\n",
    "    print(f\"- Después de eliminar duplicados: {len(df_text_unique):,} filas\")\n",
    "    print(f\"- Después de filtrar texto válido: {len(df_text_final):,} filas\")\n",
    "    print(f\"- Reducción total: {(1 - len(df_text_final)/len(df_text))*100:.1f}%\")\n",
    "    \n",
    "    print(f\"\\nVECTORIZACION TF-IDF:\")\n",
    "    print(f\"- Features máximas configuradas: {tfidf_vectorizer.max_features:,}\")\n",
    "    print(f\"- Features reales generadas: {X_train_tfidf.shape[1]:,}\")\n",
    "    print(f\"- N-gramas utilizados: {tfidf_vectorizer.ngram_range}\")\n",
    "    print(f\"- Sparsity de la matriz: {sparsity:.1%}\")\n",
    "    \n",
    "    print(f\"\\nMODELOS ENTRENADOS Y RESULTADOS:\")\n",
    "    for i, (name, result) in enumerate(text_results.items(), 1):\n",
    "        print(f\"{i}. {name}:\")\n",
    "        print(f\"   - F1-Score: {result['test_f1']:.4f}\")\n",
    "        print(f\"   - Accuracy: {result['test_accuracy']:.4f}\")\n",
    "        print(f\"   - Tiempo: {result['training_time']:.1f}s\")\n",
    "    \n",
    "    print(f\"\\nMEJOR RENDIMIENTO ALCANZADO:\")\n",
    "    print(f\"- Modelo ganador: {best_model_name}\")\n",
    "    print(f\"- F1-Score: {best_f1:.4f} ({best_f1:.1%})\")\n",
    "    print(f\"- Accuracy: {best_acc:.4f} ({best_acc:.1%})\")\n",
    "    if not pd.isna(best_auc):\n",
    "        print(f\"- AUC: {best_auc:.4f}\")\n",
    "    \n",
    "    # Evaluación final vs objetivos\n",
    "    target_f1 = 0.70\n",
    "    print(f\"\\nEVALUACION FINAL:\")\n",
    "    print(f\"- Objetivo F1-Score: {target_f1:.0%}\")\n",
    "    print(f\"- F1-Score alcanzado: {best_f1:.0%}\")\n",
    "    \n",
    "    if objetivo_alcanzado:\n",
    "        surplus = best_f1 - target_f1\n",
    "        print(f\"- EXITO: Objetivo alcanzado con {surplus:+.1%} de superavit\")\n",
    "        status = \"EXITOSO\"\n",
    "    else:\n",
    "        deficit = target_f1 - best_f1\n",
    "        print(f\"- DEFICIT: Faltan {deficit:.1%} para alcanzar objetivo\")\n",
    "        status = \"REQUIERE MEJORAS\"\n",
    "    \n",
    "    # Insights y lecciones aprendidas\n",
    "    print(f\"\\nINSIGHTS IMPORTANTES:\")\n",
    "    print(f\"1. Eliminar duplicados fue crucial - redujo overfitting\")\n",
    "    print(f\"2. TF-IDF con bigrams capturó patrones importantes\")\n",
    "    print(f\"3. {best_model_name} demostró mejor balance precision/recall\")\n",
    "    \n",
    "    # Encuentra diferencias entre modelos\n",
    "    best_time = results_df['Training_Time'].min()\n",
    "    slowest_time = results_df['Training_Time'].max()\n",
    "    best_f1_model = results_df.iloc[0]['Modelo']\n",
    "    worst_f1_model = results_df.iloc[-1]['Modelo']\n",
    "    worst_f1 = results_df.iloc[-1]['Test_F1']\n",
    "    \n",
    "    print(f\"4. Diferencia entre mejor y peor F1: {best_f1 - worst_f1:.3f}\")\n",
    "    print(f\"5. Diferencia de tiempo: {slowest_time - best_time:.1f}s\")\n",
    "    \n",
    "    print(f\"\\nPROXIMOS PASOS PARA ENSEMBLE:\")\n",
    "    print(f\"1. Integrar {best_model_name} como componente NLP principal\")\n",
    "    print(f\"2. Combinar con modelos BERT para mejor cobertura\")\n",
    "    print(f\"3. Usar features TF-IDF como input para meta-modelos\")\n",
    "    print(f\"4. Implementar ensemble voting con modelos top 3\")\n",
    "    print(f\"5. Optimizar hiperparámetros en conjunto\")\n",
    "    \n",
    "    print(f\"\\nESTADO FINAL: {status}\")\n",
    "    print(f\"Preparado para integración en ensemble híbrido\")\n",
    "    \n",
    "else:\n",
    "    print(f\"\\nPROBLEMA: No se entrenaron modelos exitosamente\")\n",
    "    print(f\"Revisar datos de entrada y configuración\")\n",
    "    status = \"FALLIDO\"\n",
    "\n",
    "print(f\"\\nFinalizado: {datetime.now().strftime('%Y-%m-%d %H:%M:%S')}\")\n",
    "print(f\"ANALISIS NLP CON TF-IDF COMPLETADO\")\n",
    "print(f\"Estado: {status}\")\n",
    "print(f\"Sin data leakage - Listo para ensemble\")"
   ]
  }
 ],
 "metadata": {
  "kernelspec": {
   "display_name": ".venv",
   "language": "python",
   "name": "python3"
  },
  "language_info": {
   "codemirror_mode": {
    "name": "ipython",
    "version": 3
   },
   "file_extension": ".py",
   "mimetype": "text/x-python",
   "name": "python",
   "nbconvert_exporter": "python",
   "pygments_lexer": "ipython3",
   "version": "3.13.3"
  }
 },
 "nbformat": 4,
 "nbformat_minor": 5
}
