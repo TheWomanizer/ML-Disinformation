{
 "cells": [
  {
   "cell_type": "markdown",
   "metadata": {},
   "source": [
    "# 05.6 - Comparación Completa de TODOS los Modelos\n",
    "\n",
    "Este notebook consolida y compara TODOS los modelos evaluados en los notebooks 05, 05.1, 05.2, 05.3, 05.4 y 05.5. Voy a cargar todos los resultados, hacer análisis comparativos profundos con gráficas descriptivas, y analizar qué parámetros/features prioriza cada tipo de modelo.\n",
    "\n",
    "**Objetivo:** Entender cuáles son los mejores modelos globalmente y qué características los hacen exitosos."
   ]
  },
  {
   "cell_type": "code",
   "execution_count": 1,
   "metadata": {},
   "outputs": [
    {
     "name": "stdout",
     "output_type": "stream",
     "text": [
      "Notebook 05.6 - Comparación Completa iniciado: 2025-08-20 17:39:32\n",
      "Voy a consolidar y comparar TODOS los modelos evaluados\n"
     ]
    }
   ],
   "source": [
    "# Importaciones completas\n",
    "import pandas as pd\n",
    "import numpy as np\n",
    "import matplotlib.pyplot as plt\n",
    "from datetime import datetime\n",
    "import json\n",
    "import os\n",
    "import warnings\n",
    "warnings.filterwarnings('ignore')\n",
    "\n",
    "# Plotly para visualizaciones interactivas\n",
    "import plotly.graph_objects as go\n",
    "import plotly.express as px\n",
    "import plotly.figure_factory as ff\n",
    "from plotly.subplots import make_subplots\n",
    "import plotly.colors as colors\n",
    "\n",
    "# Para análisis estadístico\n",
    "from scipy import stats\n",
    "import seaborn as sns\n",
    "\n",
    "print(f\"Notebook 05.6 - Comparación Completa iniciado: {datetime.now().strftime('%Y-%m-%d %H:%M:%S')}\")\n",
    "print(\"Voy a consolidar y comparar TODOS los modelos evaluados\")"
   ]
  },
  {
   "cell_type": "code",
   "execution_count": 2,
   "metadata": {},
   "outputs": [
    {
     "name": "stdout",
     "output_type": "stream",
     "text": [
      "Cargando resultados de todos los notebooks...\n",
      "+ Cargado Boosting: 11 modelos\n",
      "+ Cargado Redes_Neuronales: 12 modelos\n",
      "* No encontrado: ../models/resultados_svm.json\n",
      "+ Cargado Modelos_Lineales: 21 modelos\n",
      "+ Cargado Ensemble: 14 modelos\n",
      "+ Cargado Otros_Algoritmos: 20 modelos\n",
      "\n",
      "- Total modelos cargados: 78\n",
      "\n",
      "Estructura ejemplo (Boosting_XGBoost_Conservative):\n",
      "  - nombre\n",
      "  - timestamp\n",
      "  - parametros\n",
      "  - tiempo_entrenamiento\n",
      "  - metricas_test\n",
      "  - cv_scores\n",
      "  - predicciones\n",
      "  - categoria\n"
     ]
    }
   ],
   "source": [
    "# Cargar todos los resultados de los notebooks anteriores\n",
    "print(\"Cargando resultados de todos los notebooks...\")\n",
    "\n",
    "# Diccionario para almacenar todos los resultados\n",
    "todos_los_resultados = {}\n",
    "archivos_resultados = {\n",
    "    'Boosting': '../models/resultados_boosting.json',\n",
    "    'Redes_Neuronales': '../models/resultados_redes_neuronales.json', \n",
    "    'SVM': '../models/resultados_svm.json',\n",
    "    'Modelos_Lineales': '../models/resultados_modelos_lineales.json',\n",
    "    'Ensemble': '../models/resultados_ensemble.json',\n",
    "    'Otros_Algoritmos': '../models/resultados_otros_algoritmos.json'\n",
    "}\n",
    "\n",
    "# Cargar cada archivo\n",
    "for categoria, archivo in archivos_resultados.items():\n",
    "    if os.path.exists(archivo):\n",
    "        with open(archivo, 'r') as f:\n",
    "            resultados = json.load(f)\n",
    "            # Agregar categoría a cada modelo\n",
    "            for modelo, datos in resultados.items():\n",
    "                datos['categoria'] = categoria\n",
    "                todos_los_resultados[f\"{categoria}_{modelo}\"] = datos\n",
    "        print(f\"+ Cargado {categoria}: {len(resultados)} modelos\")\n",
    "    else:\n",
    "        print(f\"* No encontrado: {archivo}\")\n",
    "\n",
    "print(f\"\\n- Total modelos cargados: {len(todos_los_resultados)}\")\n",
    "\n",
    "# Verificar estructura de datos\n",
    "if todos_los_resultados:\n",
    "    primer_modelo = list(todos_los_resultados.keys())[0]\n",
    "    print(f\"\\nEstructura ejemplo ({primer_modelo}):\")\n",
    "    for key in todos_los_resultados[primer_modelo].keys():\n",
    "        print(f\"  - {key}\")"
   ]
  },
  {
   "cell_type": "code",
   "execution_count": 3,
   "metadata": {},
   "outputs": [
    {
     "name": "stdout",
     "output_type": "stream",
     "text": [
      "Creando DataFrame consolidado...\n",
      "DataFrame creado: 78 modelos x 19 columnas\n",
      "\n",
      "Categorías encontradas: {'Modelos_Lineales': 21, 'Otros_Algoritmos': 20, 'Ensemble': 14, 'Redes_Neuronales': 12, 'Boosting': 11}\n",
      "\n",
      "Rango F1-Score: 0.0000 - 0.6956\n",
      "Rango Tiempo: 0.000s - 2527.54s\n"
     ]
    }
   ],
   "source": [
    "# Convertir a DataFrame para análisis\n",
    "print(\"Creando DataFrame consolidado...\")\n",
    "\n",
    "datos_consolidados = []\n",
    "\n",
    "for modelo_id, datos in todos_los_resultados.items():\n",
    "    # Extraer información básica\n",
    "    fila = {\n",
    "        'Modelo_ID': modelo_id,\n",
    "        'Nombre': datos.get('nombre', modelo_id),\n",
    "        'Categoria': datos.get('categoria', 'Unknown'),\n",
    "        'Tipo_Algoritmo': datos.get('tipo_modelo', datos.get('tipo_svm', datos.get('tipo_algoritmo', datos.get('tipo_ensemble', 'Unknown')))),\n",
    "        'Tiempo_Entrenamiento': datos.get('tiempo_entrenamiento', 0),\n",
    "        'Usar_Escalado': datos.get('usar_escalado', False)\n",
    "    }\n",
    "    \n",
    "    # Extraer métricas\n",
    "    metricas = datos.get('metricas', {})\n",
    "    fila.update({\n",
    "        'Accuracy': metricas.get('accuracy', 0),\n",
    "        'Precision': metricas.get('precision', 0),\n",
    "        'Recall': metricas.get('recall', 0),\n",
    "        'F1_Score': metricas.get('f1', 0),\n",
    "        'ROC_AUC': metricas.get('roc_auc', 0) or 0\n",
    "    })\n",
    "    \n",
    "    # Cross-validation\n",
    "    fila.update({\n",
    "        'CV_F1_Mean': datos.get('cv_f1_mean', 0),\n",
    "        'CV_F1_Std': datos.get('cv_f1_std', 0)\n",
    "    })\n",
    "    \n",
    "    # Información específica por tipo de modelo\n",
    "    fila.update({\n",
    "        'N_Estimators': datos.get('n_estimators', datos.get('n_estimadores', 0)) or 0,\n",
    "        'Support_Vectors': datos.get('n_support_vectors', 0) or 0,\n",
    "        'Features_Activos': datos.get('features_activos', 0) or 0,\n",
    "        'Hidden_Layers': datos.get('hidden_layers', 0) or 0,\n",
    "        'N_Neighbors': datos.get('n_neighbors', 0) or 0\n",
    "    })\n",
    "    \n",
    "    # Parámetros importantes (convertir a string para análisis)\n",
    "    parametros = datos.get('parametros', {})\n",
    "    fila['Parametros_JSON'] = json.dumps(parametros) if parametros else '{}'\n",
    "    \n",
    "    datos_consolidados.append(fila)\n",
    "\n",
    "# Crear DataFrame\n",
    "df_completo = pd.DataFrame(datos_consolidados)\n",
    "\n",
    "print(f\"DataFrame creado: {len(df_completo)} modelos x {len(df_completo.columns)} columnas\")\n",
    "print(f\"\\nCategorías encontradas: {df_completo['Categoria'].value_counts().to_dict()}\")\n",
    "print(f\"\\nRango F1-Score: {df_completo['F1_Score'].min():.4f} - {df_completo['F1_Score'].max():.4f}\")\n",
    "print(f\"Rango Tiempo: {df_completo['Tiempo_Entrenamiento'].min():.3f}s - {df_completo['Tiempo_Entrenamiento'].max():.2f}s\")"
   ]
  },
  {
   "cell_type": "markdown",
   "metadata": {},
   "source": [
    "## Análisis Global de Rendimiento\n",
    "\n",
    "Primero veo el panorama general de todos los modelos."
   ]
  },
  {
   "cell_type": "code",
   "execution_count": 4,
   "metadata": {},
   "outputs": [
    {
     "name": "stdout",
     "output_type": "stream",
     "text": [
      "\n",
      "====================================================================================================\n",
      "RANKING GLOBAL - TOP 20 MODELOS POR F1-SCORE\n",
      "====================================================================================================\n",
      " 1. NN Two Classic (100,50)             F1: 0.6956 | [Redes_Neuronales]   | 46.93s   \n",
      " 2. NN High Regularization (100,50)     F1: 0.6918 | [Redes_Neuronales]   | 36.80s   \n",
      " 3. NN Two Symmetric (80,80)            F1: 0.6902 | [Redes_Neuronales]   | 45.57s   \n",
      " 4. Voting Soft (RF+DT+LR+NB)           F1: 0.6896 | [Ensemble]           | 2229.28s (Scaled)\n",
      " 5. NN Tiny (50)                        F1: 0.6894 | [Redes_Neuronales]   | 99.54s   \n",
      " 6. NN Small (100)                      F1: 0.6873 | [Redes_Neuronales]   | 2527.54s \n",
      " 7. NN Diamond (80,120,80)              F1: 0.6869 | [Redes_Neuronales]   | 77.37s   \n",
      " 8. NN Deep Decreasing (150,100,50)     F1: 0.6858 | [Redes_Neuronales]   | 79.41s   \n",
      " 9. NN Deep Uniform (100,100,100)       F1: 0.6849 | [Redes_Neuronales]   | 64.49s   \n",
      "10. NN Bottleneck (120,30)              F1: 0.6839 | [Redes_Neuronales]   | 205.80s  \n",
      "11. Gradient Boosting (100, depth=4)    F1: 0.6838 | [Ensemble]           | 61.85s   \n",
      "12. Naive Bayes Gaussian Low Smooth     F1: 0.6823 | [Otros_Algoritmos]   | 0.17s    \n",
      "13. Quadratic Discriminant Analysis     F1: 0.6822 | [Otros_Algoritmos]   | 1.07s    (Scaled)\n",
      "14. Naive Bayes Gaussian                F1: 0.6821 | [Otros_Algoritmos]   | 0.16s    \n",
      "15. NN SGD Momentum (100,50)            F1: 0.6816 | [Redes_Neuronales]   | 182.91s  \n",
      "16. NN Small Tanh (100)                 F1: 0.6813 | [Redes_Neuronales]   | 58.32s   \n",
      "17. NN Low Regularization (100,50)      F1: 0.6807 | [Redes_Neuronales]   | 37.78s   \n",
      "18. Voting Linear (LR+SGD+NB)           F1: 0.6798 | [Ensemble]           | 3.09s    (Scaled)\n",
      "19. Voting Trees (RF+XGB+LGB+ET)        F1: 0.6791 | [Ensemble]           | 19.94s   \n",
      "20. AdaBoost (100, depth=3)             F1: 0.6691 | [Ensemble]           | 59.81s   \n",
      "\n",
      "- CAMPEÓN ABSOLUTO: NN Two Classic (100,50)\n",
      "   F1-Score: 0.6956\n",
      "   Categoría: Redes_Neuronales\n",
      "   Tipo: Unknown\n",
      "   Tiempo: 46.928s\n",
      "   ROC-AUC: 0.7504\n",
      "   Accuracy: 0.6830\n"
     ]
    }
   ],
   "source": [
    "# Ranking global de modelos\n",
    "print(\"\\n\" + \"=\"*100)\n",
    "print(\"RANKING GLOBAL - TOP 20 MODELOS POR F1-SCORE\")\n",
    "print(\"=\"*100)\n",
    "\n",
    "df_ranking = df_completo.sort_values('F1_Score', ascending=False).head(20)\n",
    "\n",
    "for i, (_, row) in enumerate(df_ranking.iterrows(), 1):\n",
    "    tiempo_info = f\"{row['Tiempo_Entrenamiento']:.2f}s\"\n",
    "    escalado_info = \"(Scaled)\" if row['Usar_Escalado'] else \"\"\n",
    "    categoria_info = f\"[{row['Categoria']}]\"\n",
    "    \n",
    "    print(f\"{i:2d}. {row['Nombre']:<35} F1: {row['F1_Score']:.4f} | \"\n",
    "          f\"{categoria_info:<20} | {tiempo_info:<8} {escalado_info}\")\n",
    "\n",
    "# Campeón absoluto\n",
    "campeon = df_ranking.iloc[0]\n",
    "print(f\"\\n- CAMPEÓN ABSOLUTO: {campeon['Nombre']}\")\n",
    "print(f\"   F1-Score: {campeon['F1_Score']:.4f}\")\n",
    "print(f\"   Categoría: {campeon['Categoria']}\")\n",
    "print(f\"   Tipo: {campeon['Tipo_Algoritmo']}\")\n",
    "print(f\"   Tiempo: {campeon['Tiempo_Entrenamiento']:.3f}s\")\n",
    "print(f\"   ROC-AUC: {campeon['ROC_AUC']:.4f}\")\n",
    "print(f\"   Accuracy: {campeon['Accuracy']:.4f}\")"
   ]
  },
  {
   "cell_type": "code",
   "execution_count": 5,
   "metadata": {},
   "outputs": [
    {
     "data": {
      "application/vnd.plotly.v1+json": {
       "config": {
        "plotlyServerURL": "https://plot.ly"
       },
       "data": [
        {
         "hovertemplate": "Categoria=Redes_Neuronales<br>F1_Score=%{x}<br>Nombre=%{y}<extra></extra>",
         "legendgroup": "Redes_Neuronales",
         "marker": {
          "color": "rgb(141,211,199)",
          "pattern": {
           "shape": ""
          }
         },
         "name": "Redes_Neuronales",
         "orientation": "h",
         "showlegend": true,
         "textposition": "auto",
         "type": "bar",
         "x": {
          "bdata": "BWxyPSVC5j94AJ5kQyPmP5iGf8taFuY/qkKxvKsP5j/5+6s8lf7lP70zML10++U/b/R5KFXy5T9LOEtfm+rlP1jeciGP4uU/XGOZE2vP5T8y2+mrbc3lP8BelmssyOU/",
          "dtype": "f8"
         },
         "xaxis": "x",
         "y": [
          "NN Two Classic (100,50)",
          "NN High Regularization (100,50)",
          "NN Two Symmetric (80,80)",
          "NN Tiny (50)",
          "NN Small (100)",
          "NN Diamond (80,120,80)",
          "NN Deep Decreasing (150,100,50)",
          "NN Deep Uniform (100,100,100)",
          "NN Bottleneck (120,30)",
          "NN SGD Momentum (100,50)",
          "NN Small Tanh (100)",
          "NN Low Regularization (100,50)"
         ],
         "yaxis": "y"
        },
        {
         "hovertemplate": "Categoria=Ensemble<br>F1_Score=%{x}<br>Nombre=%{y}<extra></extra>",
         "legendgroup": "Ensemble",
         "marker": {
          "color": "rgb(255,255,179)",
          "pattern": {
           "shape": ""
          }
         },
         "name": "Ensemble",
         "orientation": "h",
         "showlegend": true,
         "textposition": "auto",
         "type": "bar",
         "x": {
          "bdata": "JbqnynYR5j/VyQPG3OHlP7YrYwDvwOU/NLBhS4m75T8Sav21UWnlPw==",
          "dtype": "f8"
         },
         "xaxis": "x",
         "y": [
          "Voting Soft (RF+DT+LR+NB)",
          "Gradient Boosting (100, depth=4)",
          "Voting Linear (LR+SGD+NB)",
          "Voting Trees (RF+XGB+LGB+ET)",
          "AdaBoost (100, depth=3)"
         ],
         "yaxis": "y"
        },
        {
         "hovertemplate": "Categoria=Otros_Algoritmos<br>F1_Score=%{x}<br>Nombre=%{y}<extra></extra>",
         "legendgroup": "Otros_Algoritmos",
         "marker": {
          "color": "rgb(190,186,218)",
          "pattern": {
           "shape": ""
          }
         },
         "name": "Otros_Algoritmos",
         "orientation": "h",
         "showlegend": true,
         "textposition": "auto",
         "type": "bar",
         "x": {
          "bdata": "bM9L4xXV5T90sU+xZdTlP3FUll3a0+U/",
          "dtype": "f8"
         },
         "xaxis": "x",
         "y": [
          "Naive Bayes Gaussian Low Smooth",
          "Quadratic Discriminant Analysis",
          "Naive Bayes Gaussian"
         ],
         "yaxis": "y"
        }
       ],
       "layout": {
        "barmode": "relative",
        "font": {
         "size": 12
        },
        "height": 800,
        "legend": {
         "title": {
          "text": "Categoria"
         },
         "tracegroupgap": 0
        },
        "template": {
         "data": {
          "bar": [
           {
            "error_x": {
             "color": "#2a3f5f"
            },
            "error_y": {
             "color": "#2a3f5f"
            },
            "marker": {
             "line": {
              "color": "#E5ECF6",
              "width": 0.5
             },
             "pattern": {
              "fillmode": "overlay",
              "size": 10,
              "solidity": 0.2
             }
            },
            "type": "bar"
           }
          ],
          "barpolar": [
           {
            "marker": {
             "line": {
              "color": "#E5ECF6",
              "width": 0.5
             },
             "pattern": {
              "fillmode": "overlay",
              "size": 10,
              "solidity": 0.2
             }
            },
            "type": "barpolar"
           }
          ],
          "carpet": [
           {
            "aaxis": {
             "endlinecolor": "#2a3f5f",
             "gridcolor": "white",
             "linecolor": "white",
             "minorgridcolor": "white",
             "startlinecolor": "#2a3f5f"
            },
            "baxis": {
             "endlinecolor": "#2a3f5f",
             "gridcolor": "white",
             "linecolor": "white",
             "minorgridcolor": "white",
             "startlinecolor": "#2a3f5f"
            },
            "type": "carpet"
           }
          ],
          "choropleth": [
           {
            "colorbar": {
             "outlinewidth": 0,
             "ticks": ""
            },
            "type": "choropleth"
           }
          ],
          "contour": [
           {
            "colorbar": {
             "outlinewidth": 0,
             "ticks": ""
            },
            "colorscale": [
             [
              0,
              "#0d0887"
             ],
             [
              0.1111111111111111,
              "#46039f"
             ],
             [
              0.2222222222222222,
              "#7201a8"
             ],
             [
              0.3333333333333333,
              "#9c179e"
             ],
             [
              0.4444444444444444,
              "#bd3786"
             ],
             [
              0.5555555555555556,
              "#d8576b"
             ],
             [
              0.6666666666666666,
              "#ed7953"
             ],
             [
              0.7777777777777778,
              "#fb9f3a"
             ],
             [
              0.8888888888888888,
              "#fdca26"
             ],
             [
              1,
              "#f0f921"
             ]
            ],
            "type": "contour"
           }
          ],
          "contourcarpet": [
           {
            "colorbar": {
             "outlinewidth": 0,
             "ticks": ""
            },
            "type": "contourcarpet"
           }
          ],
          "heatmap": [
           {
            "colorbar": {
             "outlinewidth": 0,
             "ticks": ""
            },
            "colorscale": [
             [
              0,
              "#0d0887"
             ],
             [
              0.1111111111111111,
              "#46039f"
             ],
             [
              0.2222222222222222,
              "#7201a8"
             ],
             [
              0.3333333333333333,
              "#9c179e"
             ],
             [
              0.4444444444444444,
              "#bd3786"
             ],
             [
              0.5555555555555556,
              "#d8576b"
             ],
             [
              0.6666666666666666,
              "#ed7953"
             ],
             [
              0.7777777777777778,
              "#fb9f3a"
             ],
             [
              0.8888888888888888,
              "#fdca26"
             ],
             [
              1,
              "#f0f921"
             ]
            ],
            "type": "heatmap"
           }
          ],
          "histogram": [
           {
            "marker": {
             "pattern": {
              "fillmode": "overlay",
              "size": 10,
              "solidity": 0.2
             }
            },
            "type": "histogram"
           }
          ],
          "histogram2d": [
           {
            "colorbar": {
             "outlinewidth": 0,
             "ticks": ""
            },
            "colorscale": [
             [
              0,
              "#0d0887"
             ],
             [
              0.1111111111111111,
              "#46039f"
             ],
             [
              0.2222222222222222,
              "#7201a8"
             ],
             [
              0.3333333333333333,
              "#9c179e"
             ],
             [
              0.4444444444444444,
              "#bd3786"
             ],
             [
              0.5555555555555556,
              "#d8576b"
             ],
             [
              0.6666666666666666,
              "#ed7953"
             ],
             [
              0.7777777777777778,
              "#fb9f3a"
             ],
             [
              0.8888888888888888,
              "#fdca26"
             ],
             [
              1,
              "#f0f921"
             ]
            ],
            "type": "histogram2d"
           }
          ],
          "histogram2dcontour": [
           {
            "colorbar": {
             "outlinewidth": 0,
             "ticks": ""
            },
            "colorscale": [
             [
              0,
              "#0d0887"
             ],
             [
              0.1111111111111111,
              "#46039f"
             ],
             [
              0.2222222222222222,
              "#7201a8"
             ],
             [
              0.3333333333333333,
              "#9c179e"
             ],
             [
              0.4444444444444444,
              "#bd3786"
             ],
             [
              0.5555555555555556,
              "#d8576b"
             ],
             [
              0.6666666666666666,
              "#ed7953"
             ],
             [
              0.7777777777777778,
              "#fb9f3a"
             ],
             [
              0.8888888888888888,
              "#fdca26"
             ],
             [
              1,
              "#f0f921"
             ]
            ],
            "type": "histogram2dcontour"
           }
          ],
          "mesh3d": [
           {
            "colorbar": {
             "outlinewidth": 0,
             "ticks": ""
            },
            "type": "mesh3d"
           }
          ],
          "parcoords": [
           {
            "line": {
             "colorbar": {
              "outlinewidth": 0,
              "ticks": ""
             }
            },
            "type": "parcoords"
           }
          ],
          "pie": [
           {
            "automargin": true,
            "type": "pie"
           }
          ],
          "scatter": [
           {
            "fillpattern": {
             "fillmode": "overlay",
             "size": 10,
             "solidity": 0.2
            },
            "type": "scatter"
           }
          ],
          "scatter3d": [
           {
            "line": {
             "colorbar": {
              "outlinewidth": 0,
              "ticks": ""
             }
            },
            "marker": {
             "colorbar": {
              "outlinewidth": 0,
              "ticks": ""
             }
            },
            "type": "scatter3d"
           }
          ],
          "scattercarpet": [
           {
            "marker": {
             "colorbar": {
              "outlinewidth": 0,
              "ticks": ""
             }
            },
            "type": "scattercarpet"
           }
          ],
          "scattergeo": [
           {
            "marker": {
             "colorbar": {
              "outlinewidth": 0,
              "ticks": ""
             }
            },
            "type": "scattergeo"
           }
          ],
          "scattergl": [
           {
            "marker": {
             "colorbar": {
              "outlinewidth": 0,
              "ticks": ""
             }
            },
            "type": "scattergl"
           }
          ],
          "scattermap": [
           {
            "marker": {
             "colorbar": {
              "outlinewidth": 0,
              "ticks": ""
             }
            },
            "type": "scattermap"
           }
          ],
          "scattermapbox": [
           {
            "marker": {
             "colorbar": {
              "outlinewidth": 0,
              "ticks": ""
             }
            },
            "type": "scattermapbox"
           }
          ],
          "scatterpolar": [
           {
            "marker": {
             "colorbar": {
              "outlinewidth": 0,
              "ticks": ""
             }
            },
            "type": "scatterpolar"
           }
          ],
          "scatterpolargl": [
           {
            "marker": {
             "colorbar": {
              "outlinewidth": 0,
              "ticks": ""
             }
            },
            "type": "scatterpolargl"
           }
          ],
          "scatterternary": [
           {
            "marker": {
             "colorbar": {
              "outlinewidth": 0,
              "ticks": ""
             }
            },
            "type": "scatterternary"
           }
          ],
          "surface": [
           {
            "colorbar": {
             "outlinewidth": 0,
             "ticks": ""
            },
            "colorscale": [
             [
              0,
              "#0d0887"
             ],
             [
              0.1111111111111111,
              "#46039f"
             ],
             [
              0.2222222222222222,
              "#7201a8"
             ],
             [
              0.3333333333333333,
              "#9c179e"
             ],
             [
              0.4444444444444444,
              "#bd3786"
             ],
             [
              0.5555555555555556,
              "#d8576b"
             ],
             [
              0.6666666666666666,
              "#ed7953"
             ],
             [
              0.7777777777777778,
              "#fb9f3a"
             ],
             [
              0.8888888888888888,
              "#fdca26"
             ],
             [
              1,
              "#f0f921"
             ]
            ],
            "type": "surface"
           }
          ],
          "table": [
           {
            "cells": {
             "fill": {
              "color": "#EBF0F8"
             },
             "line": {
              "color": "white"
             }
            },
            "header": {
             "fill": {
              "color": "#C8D4E3"
             },
             "line": {
              "color": "white"
             }
            },
            "type": "table"
           }
          ]
         },
         "layout": {
          "annotationdefaults": {
           "arrowcolor": "#2a3f5f",
           "arrowhead": 0,
           "arrowwidth": 1
          },
          "autotypenumbers": "strict",
          "coloraxis": {
           "colorbar": {
            "outlinewidth": 0,
            "ticks": ""
           }
          },
          "colorscale": {
           "diverging": [
            [
             0,
             "#8e0152"
            ],
            [
             0.1,
             "#c51b7d"
            ],
            [
             0.2,
             "#de77ae"
            ],
            [
             0.3,
             "#f1b6da"
            ],
            [
             0.4,
             "#fde0ef"
            ],
            [
             0.5,
             "#f7f7f7"
            ],
            [
             0.6,
             "#e6f5d0"
            ],
            [
             0.7,
             "#b8e186"
            ],
            [
             0.8,
             "#7fbc41"
            ],
            [
             0.9,
             "#4d9221"
            ],
            [
             1,
             "#276419"
            ]
           ],
           "sequential": [
            [
             0,
             "#0d0887"
            ],
            [
             0.1111111111111111,
             "#46039f"
            ],
            [
             0.2222222222222222,
             "#7201a8"
            ],
            [
             0.3333333333333333,
             "#9c179e"
            ],
            [
             0.4444444444444444,
             "#bd3786"
            ],
            [
             0.5555555555555556,
             "#d8576b"
            ],
            [
             0.6666666666666666,
             "#ed7953"
            ],
            [
             0.7777777777777778,
             "#fb9f3a"
            ],
            [
             0.8888888888888888,
             "#fdca26"
            ],
            [
             1,
             "#f0f921"
            ]
           ],
           "sequentialminus": [
            [
             0,
             "#0d0887"
            ],
            [
             0.1111111111111111,
             "#46039f"
            ],
            [
             0.2222222222222222,
             "#7201a8"
            ],
            [
             0.3333333333333333,
             "#9c179e"
            ],
            [
             0.4444444444444444,
             "#bd3786"
            ],
            [
             0.5555555555555556,
             "#d8576b"
            ],
            [
             0.6666666666666666,
             "#ed7953"
            ],
            [
             0.7777777777777778,
             "#fb9f3a"
            ],
            [
             0.8888888888888888,
             "#fdca26"
            ],
            [
             1,
             "#f0f921"
            ]
           ]
          },
          "colorway": [
           "#636efa",
           "#EF553B",
           "#00cc96",
           "#ab63fa",
           "#FFA15A",
           "#19d3f3",
           "#FF6692",
           "#B6E880",
           "#FF97FF",
           "#FECB52"
          ],
          "font": {
           "color": "#2a3f5f"
          },
          "geo": {
           "bgcolor": "white",
           "lakecolor": "white",
           "landcolor": "#E5ECF6",
           "showlakes": true,
           "showland": true,
           "subunitcolor": "white"
          },
          "hoverlabel": {
           "align": "left"
          },
          "hovermode": "closest",
          "mapbox": {
           "style": "light"
          },
          "paper_bgcolor": "white",
          "plot_bgcolor": "#E5ECF6",
          "polar": {
           "angularaxis": {
            "gridcolor": "white",
            "linecolor": "white",
            "ticks": ""
           },
           "bgcolor": "#E5ECF6",
           "radialaxis": {
            "gridcolor": "white",
            "linecolor": "white",
            "ticks": ""
           }
          },
          "scene": {
           "xaxis": {
            "backgroundcolor": "#E5ECF6",
            "gridcolor": "white",
            "gridwidth": 2,
            "linecolor": "white",
            "showbackground": true,
            "ticks": "",
            "zerolinecolor": "white"
           },
           "yaxis": {
            "backgroundcolor": "#E5ECF6",
            "gridcolor": "white",
            "gridwidth": 2,
            "linecolor": "white",
            "showbackground": true,
            "ticks": "",
            "zerolinecolor": "white"
           },
           "zaxis": {
            "backgroundcolor": "#E5ECF6",
            "gridcolor": "white",
            "gridwidth": 2,
            "linecolor": "white",
            "showbackground": true,
            "ticks": "",
            "zerolinecolor": "white"
           }
          },
          "shapedefaults": {
           "line": {
            "color": "#2a3f5f"
           }
          },
          "ternary": {
           "aaxis": {
            "gridcolor": "white",
            "linecolor": "white",
            "ticks": ""
           },
           "baxis": {
            "gridcolor": "white",
            "linecolor": "white",
            "ticks": ""
           },
           "bgcolor": "#E5ECF6",
           "caxis": {
            "gridcolor": "white",
            "linecolor": "white",
            "ticks": ""
           }
          },
          "title": {
           "x": 0.05
          },
          "xaxis": {
           "automargin": true,
           "gridcolor": "white",
           "linecolor": "white",
           "ticks": "",
           "title": {
            "standoff": 15
           },
           "zerolinecolor": "white",
           "zerolinewidth": 2
          },
          "yaxis": {
           "automargin": true,
           "gridcolor": "white",
           "linecolor": "white",
           "ticks": "",
           "title": {
            "standoff": 15
           },
           "zerolinecolor": "white",
           "zerolinewidth": 2
          }
         }
        },
        "title": {
         "font": {
          "size": 16
         },
         "text": "- TOP 20 MODELOS - Ranking Global por F1-Score"
        },
        "xaxis": {
         "anchor": "y",
         "domain": [
          0,
          1
         ],
         "title": {
          "text": "F1_Score"
         }
        },
        "yaxis": {
         "anchor": "x",
         "categoryorder": "total ascending",
         "domain": [
          0,
          1
         ],
         "title": {
          "text": "Nombre"
         }
        }
       }
      }
     },
     "metadata": {},
     "output_type": "display_data"
    },
    {
     "data": {
      "application/vnd.plotly.v1+json": {
       "config": {
        "plotlyServerURL": "https://plot.ly"
       },
       "data": [
        {
         "alignmentgroup": "True",
         "boxpoints": "all",
         "hovertemplate": "Categoria=%{x}<br>F1_Score=%{y}<extra></extra>",
         "legendgroup": "Boosting",
         "marker": {
          "color": "#636efa"
         },
         "name": "Boosting",
         "notched": false,
         "offsetgroup": "Boosting",
         "orientation": "v",
         "showlegend": true,
         "type": "box",
         "x": [
          "Boosting",
          "Boosting",
          "Boosting",
          "Boosting",
          "Boosting",
          "Boosting",
          "Boosting",
          "Boosting",
          "Boosting",
          "Boosting",
          "Boosting"
         ],
         "x0": " ",
         "xaxis": "x",
         "y": {
          "bdata": "AAAAAAAAAAAAAAAAAAAAAAAAAAAAAAAAAAAAAAAAAAAAAAAAAAAAAAAAAAAAAAAAAAAAAAAAAAAAAAAAAAAAAAAAAAAAAAAAAAAAAAAAAAAAAAAAAAAAAA==",
          "dtype": "f8"
         },
         "y0": " ",
         "yaxis": "y"
        },
        {
         "alignmentgroup": "True",
         "boxpoints": "all",
         "hovertemplate": "Categoria=%{x}<br>F1_Score=%{y}<extra></extra>",
         "legendgroup": "Redes_Neuronales",
         "marker": {
          "color": "#EF553B"
         },
         "name": "Redes_Neuronales",
         "notched": false,
         "offsetgroup": "Redes_Neuronales",
         "orientation": "v",
         "showlegend": true,
         "type": "box",
         "x": [
          "Redes_Neuronales",
          "Redes_Neuronales",
          "Redes_Neuronales",
          "Redes_Neuronales",
          "Redes_Neuronales",
          "Redes_Neuronales",
          "Redes_Neuronales",
          "Redes_Neuronales",
          "Redes_Neuronales",
          "Redes_Neuronales",
          "Redes_Neuronales",
          "Redes_Neuronales"
         ],
         "x0": " ",
         "xaxis": "x",
         "y": {
          "bdata": "qkKxvKsP5j/5+6s8lf7lPzLb6attzeU/BWxyPSVC5j+Yhn/LWhbmP1jeciGP4uU/b/R5KFXy5T9LOEtfm+rlP70zML10++U/XGOZE2vP5T94AJ5kQyPmP8BelmssyOU/",
          "dtype": "f8"
         },
         "y0": " ",
         "yaxis": "y"
        },
        {
         "alignmentgroup": "True",
         "boxpoints": "all",
         "hovertemplate": "Categoria=%{x}<br>F1_Score=%{y}<extra></extra>",
         "legendgroup": "Modelos_Lineales",
         "marker": {
          "color": "#00cc96"
         },
         "name": "Modelos_Lineales",
         "notched": false,
         "offsetgroup": "Modelos_Lineales",
         "orientation": "v",
         "showlegend": true,
         "type": "box",
         "x": [
          "Modelos_Lineales",
          "Modelos_Lineales",
          "Modelos_Lineales",
          "Modelos_Lineales",
          "Modelos_Lineales",
          "Modelos_Lineales",
          "Modelos_Lineales",
          "Modelos_Lineales",
          "Modelos_Lineales",
          "Modelos_Lineales",
          "Modelos_Lineales",
          "Modelos_Lineales",
          "Modelos_Lineales",
          "Modelos_Lineales",
          "Modelos_Lineales",
          "Modelos_Lineales",
          "Modelos_Lineales",
          "Modelos_Lineales",
          "Modelos_Lineales",
          "Modelos_Lineales",
          "Modelos_Lineales"
         ],
         "x0": " ",
         "xaxis": "x",
         "y": {
          "bdata": "E6Wg0yP05D93m+N1V/TkPxALBHW79eQ/LSXzr8fy5D/EZP6CF/fkP4RV3h1a9OQ/nvc7Xibz5D+/hnjN8vLkP2moBzhe8eQ/7RGcrAr55D+x9JQwvszkP1FIAPWCoeQ/IjOKgWOI5D+0BfALKrjkP4XLFewl9eQ/KXgqRLlL4j8YhU9AL2LiP5uCRrC4TeI/PCcydO4N4j+glDhaHjLiP+98LV+JyOI/",
          "dtype": "f8"
         },
         "y0": " ",
         "yaxis": "y"
        },
        {
         "alignmentgroup": "True",
         "boxpoints": "all",
         "hovertemplate": "Categoria=%{x}<br>F1_Score=%{y}<extra></extra>",
         "legendgroup": "Ensemble",
         "marker": {
          "color": "#ab63fa"
         },
         "name": "Ensemble",
         "notched": false,
         "offsetgroup": "Ensemble",
         "orientation": "v",
         "showlegend": true,
         "type": "box",
         "x": [
          "Ensemble",
          "Ensemble",
          "Ensemble",
          "Ensemble",
          "Ensemble",
          "Ensemble",
          "Ensemble",
          "Ensemble",
          "Ensemble",
          "Ensemble",
          "Ensemble",
          "Ensemble",
          "Ensemble",
          "Ensemble"
         ],
         "x0": " ",
         "xaxis": "x",
         "y": {
          "bdata": "yYdGQQgQ5T8luqfKdhHmPzSwYUuJu+U/titjAO/A5T/Ms6ADbdvkPxi0u0Ch9eQ/DCjTLMj+5D/GS2sLr/LkP8M4PTdxI+U/KEfNhafs5D8J//1xADzlPxJq/bVRaeU/1ckDxtzh5T+vQ3UpU1TlPw==",
          "dtype": "f8"
         },
         "y0": " ",
         "yaxis": "y"
        },
        {
         "alignmentgroup": "True",
         "boxpoints": "all",
         "hovertemplate": "Categoria=%{x}<br>F1_Score=%{y}<extra></extra>",
         "legendgroup": "Otros_Algoritmos",
         "marker": {
          "color": "#FFA15A"
         },
         "name": "Otros_Algoritmos",
         "notched": false,
         "offsetgroup": "Otros_Algoritmos",
         "orientation": "v",
         "showlegend": true,
         "type": "box",
         "x": [
          "Otros_Algoritmos",
          "Otros_Algoritmos",
          "Otros_Algoritmos",
          "Otros_Algoritmos",
          "Otros_Algoritmos",
          "Otros_Algoritmos",
          "Otros_Algoritmos",
          "Otros_Algoritmos",
          "Otros_Algoritmos",
          "Otros_Algoritmos",
          "Otros_Algoritmos",
          "Otros_Algoritmos",
          "Otros_Algoritmos",
          "Otros_Algoritmos",
          "Otros_Algoritmos",
          "Otros_Algoritmos",
          "Otros_Algoritmos",
          "Otros_Algoritmos",
          "Otros_Algoritmos",
          "Otros_Algoritmos"
         ],
         "x0": " ",
         "xaxis": "x",
         "y": {
          "bdata": "8Smtnbjq5D+IoPJMeL3kP2wZrmpfSeQ/7hQCv41Q5T8AVBlh7xrlP8BtsdJVVOU/cVSWXdrT5T9sz0vjFdXlP7o76e6ku+M/V5h8oYnH5D9plOthtvfjP6FfZoyrYuQ/JwpBuOq34z9kutILsTDkP/kScoqlIOQ/hsrqfHt/4z8EG/SuI/PkPyp0esNe6uQ/dLFPsWXU5T/tRZer8k7kPw==",
          "dtype": "f8"
         },
         "y0": " ",
         "yaxis": "y"
        }
       ],
       "layout": {
        "boxmode": "overlay",
        "height": 600,
        "legend": {
         "title": {
          "text": "Categoria"
         },
         "tracegroupgap": 0
        },
        "template": {
         "data": {
          "bar": [
           {
            "error_x": {
             "color": "#2a3f5f"
            },
            "error_y": {
             "color": "#2a3f5f"
            },
            "marker": {
             "line": {
              "color": "#E5ECF6",
              "width": 0.5
             },
             "pattern": {
              "fillmode": "overlay",
              "size": 10,
              "solidity": 0.2
             }
            },
            "type": "bar"
           }
          ],
          "barpolar": [
           {
            "marker": {
             "line": {
              "color": "#E5ECF6",
              "width": 0.5
             },
             "pattern": {
              "fillmode": "overlay",
              "size": 10,
              "solidity": 0.2
             }
            },
            "type": "barpolar"
           }
          ],
          "carpet": [
           {
            "aaxis": {
             "endlinecolor": "#2a3f5f",
             "gridcolor": "white",
             "linecolor": "white",
             "minorgridcolor": "white",
             "startlinecolor": "#2a3f5f"
            },
            "baxis": {
             "endlinecolor": "#2a3f5f",
             "gridcolor": "white",
             "linecolor": "white",
             "minorgridcolor": "white",
             "startlinecolor": "#2a3f5f"
            },
            "type": "carpet"
           }
          ],
          "choropleth": [
           {
            "colorbar": {
             "outlinewidth": 0,
             "ticks": ""
            },
            "type": "choropleth"
           }
          ],
          "contour": [
           {
            "colorbar": {
             "outlinewidth": 0,
             "ticks": ""
            },
            "colorscale": [
             [
              0,
              "#0d0887"
             ],
             [
              0.1111111111111111,
              "#46039f"
             ],
             [
              0.2222222222222222,
              "#7201a8"
             ],
             [
              0.3333333333333333,
              "#9c179e"
             ],
             [
              0.4444444444444444,
              "#bd3786"
             ],
             [
              0.5555555555555556,
              "#d8576b"
             ],
             [
              0.6666666666666666,
              "#ed7953"
             ],
             [
              0.7777777777777778,
              "#fb9f3a"
             ],
             [
              0.8888888888888888,
              "#fdca26"
             ],
             [
              1,
              "#f0f921"
             ]
            ],
            "type": "contour"
           }
          ],
          "contourcarpet": [
           {
            "colorbar": {
             "outlinewidth": 0,
             "ticks": ""
            },
            "type": "contourcarpet"
           }
          ],
          "heatmap": [
           {
            "colorbar": {
             "outlinewidth": 0,
             "ticks": ""
            },
            "colorscale": [
             [
              0,
              "#0d0887"
             ],
             [
              0.1111111111111111,
              "#46039f"
             ],
             [
              0.2222222222222222,
              "#7201a8"
             ],
             [
              0.3333333333333333,
              "#9c179e"
             ],
             [
              0.4444444444444444,
              "#bd3786"
             ],
             [
              0.5555555555555556,
              "#d8576b"
             ],
             [
              0.6666666666666666,
              "#ed7953"
             ],
             [
              0.7777777777777778,
              "#fb9f3a"
             ],
             [
              0.8888888888888888,
              "#fdca26"
             ],
             [
              1,
              "#f0f921"
             ]
            ],
            "type": "heatmap"
           }
          ],
          "histogram": [
           {
            "marker": {
             "pattern": {
              "fillmode": "overlay",
              "size": 10,
              "solidity": 0.2
             }
            },
            "type": "histogram"
           }
          ],
          "histogram2d": [
           {
            "colorbar": {
             "outlinewidth": 0,
             "ticks": ""
            },
            "colorscale": [
             [
              0,
              "#0d0887"
             ],
             [
              0.1111111111111111,
              "#46039f"
             ],
             [
              0.2222222222222222,
              "#7201a8"
             ],
             [
              0.3333333333333333,
              "#9c179e"
             ],
             [
              0.4444444444444444,
              "#bd3786"
             ],
             [
              0.5555555555555556,
              "#d8576b"
             ],
             [
              0.6666666666666666,
              "#ed7953"
             ],
             [
              0.7777777777777778,
              "#fb9f3a"
             ],
             [
              0.8888888888888888,
              "#fdca26"
             ],
             [
              1,
              "#f0f921"
             ]
            ],
            "type": "histogram2d"
           }
          ],
          "histogram2dcontour": [
           {
            "colorbar": {
             "outlinewidth": 0,
             "ticks": ""
            },
            "colorscale": [
             [
              0,
              "#0d0887"
             ],
             [
              0.1111111111111111,
              "#46039f"
             ],
             [
              0.2222222222222222,
              "#7201a8"
             ],
             [
              0.3333333333333333,
              "#9c179e"
             ],
             [
              0.4444444444444444,
              "#bd3786"
             ],
             [
              0.5555555555555556,
              "#d8576b"
             ],
             [
              0.6666666666666666,
              "#ed7953"
             ],
             [
              0.7777777777777778,
              "#fb9f3a"
             ],
             [
              0.8888888888888888,
              "#fdca26"
             ],
             [
              1,
              "#f0f921"
             ]
            ],
            "type": "histogram2dcontour"
           }
          ],
          "mesh3d": [
           {
            "colorbar": {
             "outlinewidth": 0,
             "ticks": ""
            },
            "type": "mesh3d"
           }
          ],
          "parcoords": [
           {
            "line": {
             "colorbar": {
              "outlinewidth": 0,
              "ticks": ""
             }
            },
            "type": "parcoords"
           }
          ],
          "pie": [
           {
            "automargin": true,
            "type": "pie"
           }
          ],
          "scatter": [
           {
            "fillpattern": {
             "fillmode": "overlay",
             "size": 10,
             "solidity": 0.2
            },
            "type": "scatter"
           }
          ],
          "scatter3d": [
           {
            "line": {
             "colorbar": {
              "outlinewidth": 0,
              "ticks": ""
             }
            },
            "marker": {
             "colorbar": {
              "outlinewidth": 0,
              "ticks": ""
             }
            },
            "type": "scatter3d"
           }
          ],
          "scattercarpet": [
           {
            "marker": {
             "colorbar": {
              "outlinewidth": 0,
              "ticks": ""
             }
            },
            "type": "scattercarpet"
           }
          ],
          "scattergeo": [
           {
            "marker": {
             "colorbar": {
              "outlinewidth": 0,
              "ticks": ""
             }
            },
            "type": "scattergeo"
           }
          ],
          "scattergl": [
           {
            "marker": {
             "colorbar": {
              "outlinewidth": 0,
              "ticks": ""
             }
            },
            "type": "scattergl"
           }
          ],
          "scattermap": [
           {
            "marker": {
             "colorbar": {
              "outlinewidth": 0,
              "ticks": ""
             }
            },
            "type": "scattermap"
           }
          ],
          "scattermapbox": [
           {
            "marker": {
             "colorbar": {
              "outlinewidth": 0,
              "ticks": ""
             }
            },
            "type": "scattermapbox"
           }
          ],
          "scatterpolar": [
           {
            "marker": {
             "colorbar": {
              "outlinewidth": 0,
              "ticks": ""
             }
            },
            "type": "scatterpolar"
           }
          ],
          "scatterpolargl": [
           {
            "marker": {
             "colorbar": {
              "outlinewidth": 0,
              "ticks": ""
             }
            },
            "type": "scatterpolargl"
           }
          ],
          "scatterternary": [
           {
            "marker": {
             "colorbar": {
              "outlinewidth": 0,
              "ticks": ""
             }
            },
            "type": "scatterternary"
           }
          ],
          "surface": [
           {
            "colorbar": {
             "outlinewidth": 0,
             "ticks": ""
            },
            "colorscale": [
             [
              0,
              "#0d0887"
             ],
             [
              0.1111111111111111,
              "#46039f"
             ],
             [
              0.2222222222222222,
              "#7201a8"
             ],
             [
              0.3333333333333333,
              "#9c179e"
             ],
             [
              0.4444444444444444,
              "#bd3786"
             ],
             [
              0.5555555555555556,
              "#d8576b"
             ],
             [
              0.6666666666666666,
              "#ed7953"
             ],
             [
              0.7777777777777778,
              "#fb9f3a"
             ],
             [
              0.8888888888888888,
              "#fdca26"
             ],
             [
              1,
              "#f0f921"
             ]
            ],
            "type": "surface"
           }
          ],
          "table": [
           {
            "cells": {
             "fill": {
              "color": "#EBF0F8"
             },
             "line": {
              "color": "white"
             }
            },
            "header": {
             "fill": {
              "color": "#C8D4E3"
             },
             "line": {
              "color": "white"
             }
            },
            "type": "table"
           }
          ]
         },
         "layout": {
          "annotationdefaults": {
           "arrowcolor": "#2a3f5f",
           "arrowhead": 0,
           "arrowwidth": 1
          },
          "autotypenumbers": "strict",
          "coloraxis": {
           "colorbar": {
            "outlinewidth": 0,
            "ticks": ""
           }
          },
          "colorscale": {
           "diverging": [
            [
             0,
             "#8e0152"
            ],
            [
             0.1,
             "#c51b7d"
            ],
            [
             0.2,
             "#de77ae"
            ],
            [
             0.3,
             "#f1b6da"
            ],
            [
             0.4,
             "#fde0ef"
            ],
            [
             0.5,
             "#f7f7f7"
            ],
            [
             0.6,
             "#e6f5d0"
            ],
            [
             0.7,
             "#b8e186"
            ],
            [
             0.8,
             "#7fbc41"
            ],
            [
             0.9,
             "#4d9221"
            ],
            [
             1,
             "#276419"
            ]
           ],
           "sequential": [
            [
             0,
             "#0d0887"
            ],
            [
             0.1111111111111111,
             "#46039f"
            ],
            [
             0.2222222222222222,
             "#7201a8"
            ],
            [
             0.3333333333333333,
             "#9c179e"
            ],
            [
             0.4444444444444444,
             "#bd3786"
            ],
            [
             0.5555555555555556,
             "#d8576b"
            ],
            [
             0.6666666666666666,
             "#ed7953"
            ],
            [
             0.7777777777777778,
             "#fb9f3a"
            ],
            [
             0.8888888888888888,
             "#fdca26"
            ],
            [
             1,
             "#f0f921"
            ]
           ],
           "sequentialminus": [
            [
             0,
             "#0d0887"
            ],
            [
             0.1111111111111111,
             "#46039f"
            ],
            [
             0.2222222222222222,
             "#7201a8"
            ],
            [
             0.3333333333333333,
             "#9c179e"
            ],
            [
             0.4444444444444444,
             "#bd3786"
            ],
            [
             0.5555555555555556,
             "#d8576b"
            ],
            [
             0.6666666666666666,
             "#ed7953"
            ],
            [
             0.7777777777777778,
             "#fb9f3a"
            ],
            [
             0.8888888888888888,
             "#fdca26"
            ],
            [
             1,
             "#f0f921"
            ]
           ]
          },
          "colorway": [
           "#636efa",
           "#EF553B",
           "#00cc96",
           "#ab63fa",
           "#FFA15A",
           "#19d3f3",
           "#FF6692",
           "#B6E880",
           "#FF97FF",
           "#FECB52"
          ],
          "font": {
           "color": "#2a3f5f"
          },
          "geo": {
           "bgcolor": "white",
           "lakecolor": "white",
           "landcolor": "#E5ECF6",
           "showlakes": true,
           "showland": true,
           "subunitcolor": "white"
          },
          "hoverlabel": {
           "align": "left"
          },
          "hovermode": "closest",
          "mapbox": {
           "style": "light"
          },
          "paper_bgcolor": "white",
          "plot_bgcolor": "#E5ECF6",
          "polar": {
           "angularaxis": {
            "gridcolor": "white",
            "linecolor": "white",
            "ticks": ""
           },
           "bgcolor": "#E5ECF6",
           "radialaxis": {
            "gridcolor": "white",
            "linecolor": "white",
            "ticks": ""
           }
          },
          "scene": {
           "xaxis": {
            "backgroundcolor": "#E5ECF6",
            "gridcolor": "white",
            "gridwidth": 2,
            "linecolor": "white",
            "showbackground": true,
            "ticks": "",
            "zerolinecolor": "white"
           },
           "yaxis": {
            "backgroundcolor": "#E5ECF6",
            "gridcolor": "white",
            "gridwidth": 2,
            "linecolor": "white",
            "showbackground": true,
            "ticks": "",
            "zerolinecolor": "white"
           },
           "zaxis": {
            "backgroundcolor": "#E5ECF6",
            "gridcolor": "white",
            "gridwidth": 2,
            "linecolor": "white",
            "showbackground": true,
            "ticks": "",
            "zerolinecolor": "white"
           }
          },
          "shapedefaults": {
           "line": {
            "color": "#2a3f5f"
           }
          },
          "ternary": {
           "aaxis": {
            "gridcolor": "white",
            "linecolor": "white",
            "ticks": ""
           },
           "baxis": {
            "gridcolor": "white",
            "linecolor": "white",
            "ticks": ""
           },
           "bgcolor": "#E5ECF6",
           "caxis": {
            "gridcolor": "white",
            "linecolor": "white",
            "ticks": ""
           }
          },
          "title": {
           "x": 0.05
          },
          "xaxis": {
           "automargin": true,
           "gridcolor": "white",
           "linecolor": "white",
           "ticks": "",
           "title": {
            "standoff": 15
           },
           "zerolinecolor": "white",
           "zerolinewidth": 2
          },
          "yaxis": {
           "automargin": true,
           "gridcolor": "white",
           "linecolor": "white",
           "ticks": "",
           "title": {
            "standoff": 15
           },
           "zerolinecolor": "white",
           "zerolinewidth": 2
          }
         }
        },
        "title": {
         "text": "- Distribución de F1-Score por Categoría de Modelo"
        },
        "xaxis": {
         "anchor": "y",
         "categoryarray": [
          "Boosting",
          "Redes_Neuronales",
          "Modelos_Lineales",
          "Ensemble",
          "Otros_Algoritmos"
         ],
         "categoryorder": "array",
         "domain": [
          0,
          1
         ],
         "tickangle": -45,
         "title": {
          "text": "Categoria"
         }
        },
        "yaxis": {
         "anchor": "x",
         "domain": [
          0,
          1
         ],
         "title": {
          "text": "F1_Score"
         }
        }
       }
      }
     },
     "metadata": {},
     "output_type": "display_data"
    }
   ],
   "source": [
    "# Gráfica de ranking global\n",
    "fig_ranking = px.bar(\n",
    "    df_ranking,\n",
    "    x='F1_Score',\n",
    "    y='Nombre',\n",
    "    color='Categoria',\n",
    "    title='- TOP 20 MODELOS - Ranking Global por F1-Score',\n",
    "    orientation='h',\n",
    "    color_discrete_sequence=px.colors.qualitative.Set3\n",
    ")\n",
    "\n",
    "fig_ranking.update_layout(\n",
    "    height=800,\n",
    "    yaxis={'categoryorder': 'total ascending'},\n",
    "    font=dict(size=12),\n",
    "    title_font=dict(size=16)\n",
    ")\n",
    "\n",
    "fig_ranking.show()\n",
    "\n",
    "# Distribución de rendimiento por categoría\n",
    "fig_box = px.box(\n",
    "    df_completo,\n",
    "    x='Categoria',\n",
    "    y='F1_Score',\n",
    "    title='- Distribución de F1-Score por Categoría de Modelo',\n",
    "    color='Categoria',\n",
    "    points='all'\n",
    ")\n",
    "\n",
    "fig_box.update_layout(\n",
    "    height=600,\n",
    "    xaxis_tickangle=-45\n",
    ")\n",
    "\n",
    "fig_box.show()"
   ]
  },
  {
   "cell_type": "markdown",
   "metadata": {},
   "source": [
    "## Análisis de Eficiencia: Tiempo vs Rendimiento\n",
    "\n",
    "Analizo la relación entre tiempo de entrenamiento y rendimiento."
   ]
  },
  {
   "cell_type": "code",
   "execution_count": 6,
   "metadata": {},
   "outputs": [
    {
     "data": {
      "application/vnd.plotly.v1+json": {
       "config": {
        "plotlyServerURL": "https://plot.ly"
       },
       "data": [
        {
         "customdata": [
          [
           "XGBoost Conservative",
           0
          ],
          [
           "XGBoost Aggressive",
           0
          ],
          [
           "XGBoost Regularized",
           0
          ],
          [
           "LightGBM Fast",
           0
          ],
          [
           "LightGBM Balanced",
           0
          ],
          [
           "CatBoost Simple",
           0
          ],
          [
           "CatBoost Optimized",
           0
          ],
          [
           "AdaBoost Classic",
           0
          ],
          [
           "AdaBoost Conservative",
           0
          ],
          [
           "Gradient Boosting Classic",
           0
          ],
          [
           "Hist Gradient Boosting",
           0
          ]
         ],
         "hovertemplate": "Categoria=Boosting<br>Tiempo_Entrenamiento=%{x}<br>F1_Score=%{y}<br>ROC_AUC=%{marker.size}<br>Nombre=%{customdata[0]}<br>Accuracy=%{customdata[1]}<extra></extra>",
         "legendgroup": "Boosting",
         "marker": {
          "color": "#636efa",
          "size": {
           "bdata": "AAAAAAAAAAAAAAAAAAAAAAAAAAAAAAAAAAAAAAAAAAAAAAAAAAAAAAAAAAAAAAAAAAAAAAAAAAAAAAAAAAAAAAAAAAAAAAAAAAAAAAAAAAAAAAAAAAAAAA==",
           "dtype": "f8"
          },
          "sizemode": "area",
          "sizeref": 0.0018950398478695919,
          "symbol": "circle"
         },
         "mode": "markers",
         "name": "Boosting",
         "orientation": "v",
         "showlegend": true,
         "type": "scatter",
         "x": {
          "bdata": "AAAAgGCo7T8AAAAA4Ff5PwAAAMCb6Pw/AAAAAJ2J7j8AAADA30D2PwAAAMAAaAdAAAAA0E59EUAAAAAAAAAAAAAAAAAAAAAAAAAAmh6pRkAAAACQuCQZQA==",
          "dtype": "f8"
         },
         "xaxis": "x",
         "y": {
          "bdata": "AAAAAAAAAAAAAAAAAAAAAAAAAAAAAAAAAAAAAAAAAAAAAAAAAAAAAAAAAAAAAAAAAAAAAAAAAAAAAAAAAAAAAAAAAAAAAAAAAAAAAAAAAAAAAAAAAAAAAA==",
          "dtype": "f8"
         },
         "yaxis": "y"
        },
        {
         "customdata": [
          [
           "NN Tiny (50)",
           0.677123695976155
          ],
          [
           "NN Small (100)",
           0.6801043219076006
          ],
          [
           "NN Small Tanh (100)",
           0.674962742175857
          ],
          [
           "NN Two Classic (100,50)",
           0.682973174366617
          ],
          [
           "NN Two Symmetric (80,80)",
           0.6822652757078986
          ],
          [
           "NN Bottleneck (120,30)",
           0.6802906110283159
          ],
          [
           "NN Deep Decreasing (150,100,50)",
           0.6864754098360656
          ],
          [
           "NN Deep Uniform (100,100,100)",
           0.6855812220566319
          ],
          [
           "NN Diamond (80,120,80)",
           0.6832712369597616
          ],
          [
           "NN SGD Momentum (100,50)",
           0.6789120715350223
          ],
          [
           "NN High Regularization (100,50)",
           0.6857302533532041
          ],
          [
           "NN Low Regularization (100,50)",
           0.6763785394932936
          ]
         ],
         "hovertemplate": "Categoria=Redes_Neuronales<br>Tiempo_Entrenamiento=%{x}<br>F1_Score=%{y}<br>ROC_AUC=%{marker.size}<br>Nombre=%{customdata[0]}<br>Accuracy=%{customdata[1]}<extra></extra>",
         "legendgroup": "Redes_Neuronales",
         "marker": {
          "color": "#EF553B",
          "size": {
           "bdata": "Y7I4G8LL5z/TF4Im39TnPxp0zhDc0Oc/BHoy9W0D6D88Azn8xBDoP1BL9K9l/+c/7JKPpKpB6D+i1u1dSiHoP9dA/pXjEeg/z1wGWe+55z+8qpD3ACroPxBsp3cs2Oc/",
           "dtype": "f8"
          },
          "sizemode": "area",
          "sizeref": 0.0018950398478695919,
          "symbol": "circle"
         },
         "mode": "markers",
         "name": "Redes_Neuronales",
         "orientation": "v",
         "showlegend": true,
         "type": "scatter",
         "x": {
          "bdata": "AAAAAZfiWEAAAKguE7+jQAAAAA5rKU1AAAAApsV2R0AAAAAg18hGQAAAAGOWuWlAAAAAdj3aU0AAAADZrB9QQAAAAAh1V1NAAAAAM0DdZkAAAAAA1mZCQAAAANxD40JA",
          "dtype": "f8"
         },
         "xaxis": "x",
         "y": {
          "bdata": "qkKxvKsP5j/5+6s8lf7lPzLb6attzeU/BWxyPSVC5j+Yhn/LWhbmP1jeciGP4uU/b/R5KFXy5T9LOEtfm+rlP70zML10++U/XGOZE2vP5T94AJ5kQyPmP8BelmssyOU/",
          "dtype": "f8"
         },
         "yaxis": "y"
        },
        {
         "customdata": [
          [
           "Logistic Regression Basic (C=1.0)",
           0.639381520119225
          ],
          [
           "Logistic Regression Low Reg (C=10.0)",
           0.639381520119225
          ],
          [
           "Logistic Regression High Reg (C=0.1)",
           0.6394560357675112
          ],
          [
           "Logistic Regression L1 (C=1.0)",
           0.6391952309985097
          ],
          [
           "Logistic Regression ElasticNet (l1_ratio=0.5)",
           0.6396423248882265
          ],
          [
           "Logistic Regression LBFGS",
           0.639344262295082
          ],
          [
           "Ridge Classifier Basic (alpha=1.0)",
           0.6385991058122206
          ],
          [
           "Ridge Classifier Low Reg (alpha=0.1)",
           0.6385991058122206
          ],
          [
           "Ridge Classifier High Reg (alpha=10.0)",
           0.6384873323397914
          ],
          [
           "Ridge Classifier CV (mejor alpha)",
           0.6391207153502235
          ],
          [
           "SGD Classifier Log Loss",
           0.6256333830104321
          ],
          [
           "SGD Classifier Hinge Loss",
           0.6281296572280178
          ],
          [
           "SGD Classifier L1 Penalty",
           0.628204172876304
          ],
          [
           "SGD Classifier ElasticNet",
           0.6321535022354694
          ],
          [
           "SGD Classifier Adaptive LR",
           0.639381520119225
          ],
          [
           "Passive Aggressive Basic (C=1.0)",
           0.5514157973174366
          ],
          [
           "Passive Aggressive High Reg (C=0.1)",
           0.5524962742175857
          ],
          [
           "Passive Aggressive Squared Hinge",
           0.5516393442622951
          ],
          [
           "Perceptron Basic",
           0.5584202682563338
          ],
          [
           "Perceptron L2 Penalty",
           0.567026825633383
          ],
          [
           "Perceptron L1 Penalty",
           0.5790238450074515
          ]
         ],
         "hovertemplate": "Categoria=Modelos_Lineales<br>Tiempo_Entrenamiento=%{x}<br>F1_Score=%{y}<br>ROC_AUC=%{marker.size}<br>Nombre=%{customdata[0]}<br>Accuracy=%{customdata[1]}<extra></extra>",
         "legendgroup": "Modelos_Lineales",
         "marker": {
          "color": "#00cc96",
          "size": {
           "bdata": "JFg/L70g5j/rrH422iDmP4xWekwRIOY/jNaxdpIg5j/c2tZF2h7mP8zcx7yqIOY/X3A+h3YV5j/5NwLdehXmP4iNX9tHFeY//rEwnEsU5j+ARIxlYKjlP8/Z43jNmeU/Aje5AYvL5T8QmbUWKNHlP50bkODfH+Y/9GQHERYz4j8SwrGJtkjiPw3En/g2OOI/lJlTDTOC4j8rGZO/2f3iP++gx6/ij+M/",
           "dtype": "f8"
          },
          "sizemode": "area",
          "sizeref": 0.0018950398478695919,
          "symbol": "circle"
         },
         "mode": "markers",
         "name": "Modelos_Lineales",
         "orientation": "v",
         "showlegend": true,
         "type": "scatter",
         "x": {
          "bdata": "AAAA3E0rMUAAAADIdiEzQAAAABCfVCpAAAD4DQico0AAAACJcntvQAAAAOBHVABAAAAAAGj1uT8AAAAADuDCPwAAAABud8s/AAAAwO1z/z8AAADA0CD5PwAAAIBwZ/o/AAAAwN4n9z8AAABANO3+PwAAAEBLWvk/AAAAAAc/2z8AAAAAF9zbPwAAAABmIeA/AAAAAMGn0T8AAAAAcVDUPwAAAIAFUu0/",
          "dtype": "f8"
         },
         "xaxis": "x",
         "y": {
          "bdata": "E6Wg0yP05D93m+N1V/TkPxALBHW79eQ/LSXzr8fy5D/EZP6CF/fkP4RV3h1a9OQ/nvc7Xibz5D+/hnjN8vLkP2moBzhe8eQ/7RGcrAr55D+x9JQwvszkP1FIAPWCoeQ/IjOKgWOI5D+0BfALKrjkP4XLFewl9eQ/KXgqRLlL4j8YhU9AL2LiP5uCRrC4TeI/PCcydO4N4j+glDhaHjLiP+98LV+JyOI/",
          "dtype": "f8"
         },
         "yaxis": "y"
        },
        {
         "customdata": [
          [
           "Voting Hard (RF+DT+LR+NB)",
           0.6587928464977645
          ],
          [
           "Voting Soft (RF+DT+LR+NB)",
           0.6240312965722802
          ],
          [
           "Voting Trees (RF+XGB+LGB+ET)",
           0.6748509687034278
          ],
          [
           "Voting Linear (LR+SGD+NB)",
           0.6058122205663189
          ],
          [
           "Bagging Decision Trees (50)",
           0.6530178837555887
          ],
          [
           "Bagging Logistic Regression (30)",
           0.6398286140089419
          ],
          [
           "Bagging KNN (20)",
           0.6499254843517138
          ],
          [
           "Bagging LinearSVM (15)",
           0.638822652757079
          ],
          [
           "ExtraTrees Basic (100, depth=10)",
           0.6428464977645305
          ],
          [
           "ExtraTrees More (200, depth=8)",
           0.636698956780924
          ],
          [
           "ExtraTrees Bootstrap (100, OOB)",
           0.6540983606557377
          ],
          [
           "AdaBoost (100, depth=3)",
           0.6631147540983606
          ],
          [
           "Gradient Boosting (100, depth=4)",
           0.6799925484351714
          ],
          [
           "Random Forest (100, depth=10)",
           0.6635991058122206
          ]
         ],
         "hovertemplate": "Categoria=Ensemble<br>Tiempo_Entrenamiento=%{x}<br>F1_Score=%{y}<br>ROC_AUC=%{marker.size}<br>Nombre=%{customdata[0]}<br>Accuracy=%{customdata[1]}<extra></extra>",
         "legendgroup": "Ensemble",
         "marker": {
          "color": "#ab63fa",
          "size": {
           "bdata": "AAAAAAAAAAB/uuIg5J/mP8ytoAEPvuc/QIsnZbnB5T/U+11edr/mPxj9z0E+IOY/IZxU+6nM5j8E3pJw3cXkP7XHHXHxReY/0hJW3JDw5T8Om44M+qzmP/Gngn5IN+c/SOBOVs7t5z+qZCXeHk3nPw==",
           "dtype": "f8"
          },
          "sizemode": "area",
          "sizeref": 0.0018950398478695919,
          "symbol": "circle"
         },
         "mode": "markers",
         "name": "Ensemble",
         "orientation": "v",
         "showlegend": true,
         "type": "scatter",
         "x": {
          "bdata": "AAAADu5aXEAAACjGjWqhQAAAAKBt8DNAAAAAwFy2CEAAAABIj3k2QAAAAGw9iTZAAAAAsFBdE0AAAADYiPk9QAAAAIAHggFAAAAAoBQCCUAAAAAgQ6sMQAAAAC41501AAAAAFs3sTkAAAABQzQYVQA==",
          "dtype": "f8"
         },
         "xaxis": "x",
         "y": {
          "bdata": "yYdGQQgQ5T8luqfKdhHmPzSwYUuJu+U/titjAO/A5T/Ms6ADbdvkPxi0u0Ch9eQ/DCjTLMj+5D/GS2sLr/LkP8M4PTdxI+U/KEfNhafs5D8J//1xADzlPxJq/bVRaeU/1ckDxtzh5T+vQ3UpU1TlPw==",
          "dtype": "f8"
         },
         "yaxis": "y"
        },
        {
         "customdata": [
          [
           "KNN k=5 Uniform",
           0.6463487332339791
          ],
          [
           "KNN k=3 Distance Weight",
           0.638859910581222
          ],
          [
           "KNN k=10 Uniform",
           0.6528315946348733
          ],
          [
           "KNN k=5 Manhattan Distance",
           0.6588301043219076
          ],
          [
           "KNN k=7 Distance KDTree",
           0.6524217585692995
          ],
          [
           "KNN k=15 Distance",
           0.660096870342772
          ],
          [
           "Naive Bayes Gaussian",
           0.5623695976154992
          ],
          [
           "Naive Bayes Gaussian Low Smooth",
           0.5495901639344263
          ],
          [
           "Naive Bayes Bernoulli",
           0.6058867362146051
          ],
          [
           "Naive Bayes Multinomial",
           0.6105439642324888
          ],
          [
           "Naive Bayes Complement",
           0.6157228017883756
          ],
          [
           "Decision Tree Basic (depth=10)",
           0.6335692995529061
          ],
          [
           "Decision Tree Deep (depth=20)",
           0.6091654247391952
          ],
          [
           "Decision Tree Entropy (depth=12)",
           0.6376676602086438
          ],
          [
           "Decision Tree Balanced (depth=15)",
           0.6258196721311475
          ],
          [
           "Extra Tree Single (depth=12)",
           0.5932563338301043
          ],
          [
           "Linear Discriminant Analysis",
           0.6386363636363637
          ],
          [
           "LDA with Shrinkage",
           0.6369225037257824
          ],
          [
           "Quadratic Discriminant Analysis",
           0.5714605067064084
          ],
          [
           "Gaussian Process RBF",
           0.6279806259314457
          ]
         ],
         "hovertemplate": "Categoria=Otros_Algoritmos<br>Tiempo_Entrenamiento=%{x}<br>F1_Score=%{y}<br>ROC_AUC=%{marker.size}<br>Nombre=%{customdata[0]}<br>Accuracy=%{customdata[1]}<extra></extra>",
         "legendgroup": "Otros_Algoritmos",
         "marker": {
          "color": "#FFA15A",
          "size": {
           "bdata": "Js4Xe/Fq5j8JsWHz+f3lP+jhUb3lBOc/EKl1BY0p5z8aK+pCp/XmP5JSrZBxYuc/Ko4kkIIJ5T/VjeKddOPkP766wukYt+Q/YLhzi2of5T9guHOLah/lP5AIXC2j5eU/1jOtjzKj5D8mIW9+l/TlP0aMyCD7ouU/tYgWfs4u5D90CVihehXmPwDHi45jB+Y/ViE4eZeI5T8uljadrKLlPw==",
           "dtype": "f8"
          },
          "sizemode": "area",
          "sizeref": 0.0018950398478695919,
          "symbol": "circle"
         },
         "mode": "markers",
         "name": "Otros_Algoritmos",
         "orientation": "v",
         "showlegend": true,
         "type": "scatter",
         "x": {
          "bdata": "AAAAAJz3tT8AAAAA4Ji3PwAAAABYesU/AAAAAAjCuj8AAAATy0BoQAAAAAB0bLA/AAAAACzuxD8AAAAAGlHFPwAAAACQkMA/AAAAAABknT8AAAAAoG2VPwAAAEDGDQZAAAAAAELlEkAAAADAGn8OQAAAAJBHlBBAAAAAAChvxT8AAAAAqi7sPwAAAAB0Ods/AAAAAHQs8T8AAADE8NU/QA==",
          "dtype": "f8"
         },
         "xaxis": "x",
         "y": {
          "bdata": "8Smtnbjq5D+IoPJMeL3kP2wZrmpfSeQ/7hQCv41Q5T8AVBlh7xrlP8BtsdJVVOU/cVSWXdrT5T9sz0vjFdXlP7o76e6ku+M/V5h8oYnH5D9plOthtvfjP6FfZoyrYuQ/JwpBuOq34z9kutILsTDkP/kScoqlIOQ/hsrqfHt/4z8EG/SuI/PkPyp0esNe6uQ/dLFPsWXU5T/tRZer8k7kPw==",
          "dtype": "f8"
         },
         "yaxis": "y"
        }
       ],
       "layout": {
        "height": 600,
        "legend": {
         "itemsizing": "constant",
         "title": {
          "text": "Categoria"
         },
         "tracegroupgap": 0
        },
        "template": {
         "data": {
          "bar": [
           {
            "error_x": {
             "color": "#2a3f5f"
            },
            "error_y": {
             "color": "#2a3f5f"
            },
            "marker": {
             "line": {
              "color": "#E5ECF6",
              "width": 0.5
             },
             "pattern": {
              "fillmode": "overlay",
              "size": 10,
              "solidity": 0.2
             }
            },
            "type": "bar"
           }
          ],
          "barpolar": [
           {
            "marker": {
             "line": {
              "color": "#E5ECF6",
              "width": 0.5
             },
             "pattern": {
              "fillmode": "overlay",
              "size": 10,
              "solidity": 0.2
             }
            },
            "type": "barpolar"
           }
          ],
          "carpet": [
           {
            "aaxis": {
             "endlinecolor": "#2a3f5f",
             "gridcolor": "white",
             "linecolor": "white",
             "minorgridcolor": "white",
             "startlinecolor": "#2a3f5f"
            },
            "baxis": {
             "endlinecolor": "#2a3f5f",
             "gridcolor": "white",
             "linecolor": "white",
             "minorgridcolor": "white",
             "startlinecolor": "#2a3f5f"
            },
            "type": "carpet"
           }
          ],
          "choropleth": [
           {
            "colorbar": {
             "outlinewidth": 0,
             "ticks": ""
            },
            "type": "choropleth"
           }
          ],
          "contour": [
           {
            "colorbar": {
             "outlinewidth": 0,
             "ticks": ""
            },
            "colorscale": [
             [
              0,
              "#0d0887"
             ],
             [
              0.1111111111111111,
              "#46039f"
             ],
             [
              0.2222222222222222,
              "#7201a8"
             ],
             [
              0.3333333333333333,
              "#9c179e"
             ],
             [
              0.4444444444444444,
              "#bd3786"
             ],
             [
              0.5555555555555556,
              "#d8576b"
             ],
             [
              0.6666666666666666,
              "#ed7953"
             ],
             [
              0.7777777777777778,
              "#fb9f3a"
             ],
             [
              0.8888888888888888,
              "#fdca26"
             ],
             [
              1,
              "#f0f921"
             ]
            ],
            "type": "contour"
           }
          ],
          "contourcarpet": [
           {
            "colorbar": {
             "outlinewidth": 0,
             "ticks": ""
            },
            "type": "contourcarpet"
           }
          ],
          "heatmap": [
           {
            "colorbar": {
             "outlinewidth": 0,
             "ticks": ""
            },
            "colorscale": [
             [
              0,
              "#0d0887"
             ],
             [
              0.1111111111111111,
              "#46039f"
             ],
             [
              0.2222222222222222,
              "#7201a8"
             ],
             [
              0.3333333333333333,
              "#9c179e"
             ],
             [
              0.4444444444444444,
              "#bd3786"
             ],
             [
              0.5555555555555556,
              "#d8576b"
             ],
             [
              0.6666666666666666,
              "#ed7953"
             ],
             [
              0.7777777777777778,
              "#fb9f3a"
             ],
             [
              0.8888888888888888,
              "#fdca26"
             ],
             [
              1,
              "#f0f921"
             ]
            ],
            "type": "heatmap"
           }
          ],
          "histogram": [
           {
            "marker": {
             "pattern": {
              "fillmode": "overlay",
              "size": 10,
              "solidity": 0.2
             }
            },
            "type": "histogram"
           }
          ],
          "histogram2d": [
           {
            "colorbar": {
             "outlinewidth": 0,
             "ticks": ""
            },
            "colorscale": [
             [
              0,
              "#0d0887"
             ],
             [
              0.1111111111111111,
              "#46039f"
             ],
             [
              0.2222222222222222,
              "#7201a8"
             ],
             [
              0.3333333333333333,
              "#9c179e"
             ],
             [
              0.4444444444444444,
              "#bd3786"
             ],
             [
              0.5555555555555556,
              "#d8576b"
             ],
             [
              0.6666666666666666,
              "#ed7953"
             ],
             [
              0.7777777777777778,
              "#fb9f3a"
             ],
             [
              0.8888888888888888,
              "#fdca26"
             ],
             [
              1,
              "#f0f921"
             ]
            ],
            "type": "histogram2d"
           }
          ],
          "histogram2dcontour": [
           {
            "colorbar": {
             "outlinewidth": 0,
             "ticks": ""
            },
            "colorscale": [
             [
              0,
              "#0d0887"
             ],
             [
              0.1111111111111111,
              "#46039f"
             ],
             [
              0.2222222222222222,
              "#7201a8"
             ],
             [
              0.3333333333333333,
              "#9c179e"
             ],
             [
              0.4444444444444444,
              "#bd3786"
             ],
             [
              0.5555555555555556,
              "#d8576b"
             ],
             [
              0.6666666666666666,
              "#ed7953"
             ],
             [
              0.7777777777777778,
              "#fb9f3a"
             ],
             [
              0.8888888888888888,
              "#fdca26"
             ],
             [
              1,
              "#f0f921"
             ]
            ],
            "type": "histogram2dcontour"
           }
          ],
          "mesh3d": [
           {
            "colorbar": {
             "outlinewidth": 0,
             "ticks": ""
            },
            "type": "mesh3d"
           }
          ],
          "parcoords": [
           {
            "line": {
             "colorbar": {
              "outlinewidth": 0,
              "ticks": ""
             }
            },
            "type": "parcoords"
           }
          ],
          "pie": [
           {
            "automargin": true,
            "type": "pie"
           }
          ],
          "scatter": [
           {
            "fillpattern": {
             "fillmode": "overlay",
             "size": 10,
             "solidity": 0.2
            },
            "type": "scatter"
           }
          ],
          "scatter3d": [
           {
            "line": {
             "colorbar": {
              "outlinewidth": 0,
              "ticks": ""
             }
            },
            "marker": {
             "colorbar": {
              "outlinewidth": 0,
              "ticks": ""
             }
            },
            "type": "scatter3d"
           }
          ],
          "scattercarpet": [
           {
            "marker": {
             "colorbar": {
              "outlinewidth": 0,
              "ticks": ""
             }
            },
            "type": "scattercarpet"
           }
          ],
          "scattergeo": [
           {
            "marker": {
             "colorbar": {
              "outlinewidth": 0,
              "ticks": ""
             }
            },
            "type": "scattergeo"
           }
          ],
          "scattergl": [
           {
            "marker": {
             "colorbar": {
              "outlinewidth": 0,
              "ticks": ""
             }
            },
            "type": "scattergl"
           }
          ],
          "scattermap": [
           {
            "marker": {
             "colorbar": {
              "outlinewidth": 0,
              "ticks": ""
             }
            },
            "type": "scattermap"
           }
          ],
          "scattermapbox": [
           {
            "marker": {
             "colorbar": {
              "outlinewidth": 0,
              "ticks": ""
             }
            },
            "type": "scattermapbox"
           }
          ],
          "scatterpolar": [
           {
            "marker": {
             "colorbar": {
              "outlinewidth": 0,
              "ticks": ""
             }
            },
            "type": "scatterpolar"
           }
          ],
          "scatterpolargl": [
           {
            "marker": {
             "colorbar": {
              "outlinewidth": 0,
              "ticks": ""
             }
            },
            "type": "scatterpolargl"
           }
          ],
          "scatterternary": [
           {
            "marker": {
             "colorbar": {
              "outlinewidth": 0,
              "ticks": ""
             }
            },
            "type": "scatterternary"
           }
          ],
          "surface": [
           {
            "colorbar": {
             "outlinewidth": 0,
             "ticks": ""
            },
            "colorscale": [
             [
              0,
              "#0d0887"
             ],
             [
              0.1111111111111111,
              "#46039f"
             ],
             [
              0.2222222222222222,
              "#7201a8"
             ],
             [
              0.3333333333333333,
              "#9c179e"
             ],
             [
              0.4444444444444444,
              "#bd3786"
             ],
             [
              0.5555555555555556,
              "#d8576b"
             ],
             [
              0.6666666666666666,
              "#ed7953"
             ],
             [
              0.7777777777777778,
              "#fb9f3a"
             ],
             [
              0.8888888888888888,
              "#fdca26"
             ],
             [
              1,
              "#f0f921"
             ]
            ],
            "type": "surface"
           }
          ],
          "table": [
           {
            "cells": {
             "fill": {
              "color": "#EBF0F8"
             },
             "line": {
              "color": "white"
             }
            },
            "header": {
             "fill": {
              "color": "#C8D4E3"
             },
             "line": {
              "color": "white"
             }
            },
            "type": "table"
           }
          ]
         },
         "layout": {
          "annotationdefaults": {
           "arrowcolor": "#2a3f5f",
           "arrowhead": 0,
           "arrowwidth": 1
          },
          "autotypenumbers": "strict",
          "coloraxis": {
           "colorbar": {
            "outlinewidth": 0,
            "ticks": ""
           }
          },
          "colorscale": {
           "diverging": [
            [
             0,
             "#8e0152"
            ],
            [
             0.1,
             "#c51b7d"
            ],
            [
             0.2,
             "#de77ae"
            ],
            [
             0.3,
             "#f1b6da"
            ],
            [
             0.4,
             "#fde0ef"
            ],
            [
             0.5,
             "#f7f7f7"
            ],
            [
             0.6,
             "#e6f5d0"
            ],
            [
             0.7,
             "#b8e186"
            ],
            [
             0.8,
             "#7fbc41"
            ],
            [
             0.9,
             "#4d9221"
            ],
            [
             1,
             "#276419"
            ]
           ],
           "sequential": [
            [
             0,
             "#0d0887"
            ],
            [
             0.1111111111111111,
             "#46039f"
            ],
            [
             0.2222222222222222,
             "#7201a8"
            ],
            [
             0.3333333333333333,
             "#9c179e"
            ],
            [
             0.4444444444444444,
             "#bd3786"
            ],
            [
             0.5555555555555556,
             "#d8576b"
            ],
            [
             0.6666666666666666,
             "#ed7953"
            ],
            [
             0.7777777777777778,
             "#fb9f3a"
            ],
            [
             0.8888888888888888,
             "#fdca26"
            ],
            [
             1,
             "#f0f921"
            ]
           ],
           "sequentialminus": [
            [
             0,
             "#0d0887"
            ],
            [
             0.1111111111111111,
             "#46039f"
            ],
            [
             0.2222222222222222,
             "#7201a8"
            ],
            [
             0.3333333333333333,
             "#9c179e"
            ],
            [
             0.4444444444444444,
             "#bd3786"
            ],
            [
             0.5555555555555556,
             "#d8576b"
            ],
            [
             0.6666666666666666,
             "#ed7953"
            ],
            [
             0.7777777777777778,
             "#fb9f3a"
            ],
            [
             0.8888888888888888,
             "#fdca26"
            ],
            [
             1,
             "#f0f921"
            ]
           ]
          },
          "colorway": [
           "#636efa",
           "#EF553B",
           "#00cc96",
           "#ab63fa",
           "#FFA15A",
           "#19d3f3",
           "#FF6692",
           "#B6E880",
           "#FF97FF",
           "#FECB52"
          ],
          "font": {
           "color": "#2a3f5f"
          },
          "geo": {
           "bgcolor": "white",
           "lakecolor": "white",
           "landcolor": "#E5ECF6",
           "showlakes": true,
           "showland": true,
           "subunitcolor": "white"
          },
          "hoverlabel": {
           "align": "left"
          },
          "hovermode": "closest",
          "mapbox": {
           "style": "light"
          },
          "paper_bgcolor": "white",
          "plot_bgcolor": "#E5ECF6",
          "polar": {
           "angularaxis": {
            "gridcolor": "white",
            "linecolor": "white",
            "ticks": ""
           },
           "bgcolor": "#E5ECF6",
           "radialaxis": {
            "gridcolor": "white",
            "linecolor": "white",
            "ticks": ""
           }
          },
          "scene": {
           "xaxis": {
            "backgroundcolor": "#E5ECF6",
            "gridcolor": "white",
            "gridwidth": 2,
            "linecolor": "white",
            "showbackground": true,
            "ticks": "",
            "zerolinecolor": "white"
           },
           "yaxis": {
            "backgroundcolor": "#E5ECF6",
            "gridcolor": "white",
            "gridwidth": 2,
            "linecolor": "white",
            "showbackground": true,
            "ticks": "",
            "zerolinecolor": "white"
           },
           "zaxis": {
            "backgroundcolor": "#E5ECF6",
            "gridcolor": "white",
            "gridwidth": 2,
            "linecolor": "white",
            "showbackground": true,
            "ticks": "",
            "zerolinecolor": "white"
           }
          },
          "shapedefaults": {
           "line": {
            "color": "#2a3f5f"
           }
          },
          "ternary": {
           "aaxis": {
            "gridcolor": "white",
            "linecolor": "white",
            "ticks": ""
           },
           "baxis": {
            "gridcolor": "white",
            "linecolor": "white",
            "ticks": ""
           },
           "bgcolor": "#E5ECF6",
           "caxis": {
            "gridcolor": "white",
            "linecolor": "white",
            "ticks": ""
           }
          },
          "title": {
           "x": 0.05
          },
          "xaxis": {
           "automargin": true,
           "gridcolor": "white",
           "linecolor": "white",
           "ticks": "",
           "title": {
            "standoff": 15
           },
           "zerolinecolor": "white",
           "zerolinewidth": 2
          },
          "yaxis": {
           "automargin": true,
           "gridcolor": "white",
           "linecolor": "white",
           "ticks": "",
           "title": {
            "standoff": 15
           },
           "zerolinecolor": "white",
           "zerolinewidth": 2
          }
         }
        },
        "title": {
         "text": "- Eficiencia de Modelos: Tiempo vs F1-Score (tamaño = ROC-AUC)"
        },
        "xaxis": {
         "anchor": "y",
         "domain": [
          0,
          1
         ],
         "title": {
          "text": "Tiempo_Entrenamiento"
         },
         "type": "log"
        },
        "yaxis": {
         "anchor": "x",
         "domain": [
          0,
          1
         ],
         "title": {
          "text": "F1_Score"
         }
        }
       }
      }
     },
     "metadata": {},
     "output_type": "display_data"
    },
    {
     "name": "stdout",
     "output_type": "stream",
     "text": [
      "\n",
      "- ANÁLISIS DE EFICIENCIA\n",
      "==================================================\n",
      "\n",
      "- MODELOS RÁPIDOS Y BUENOS (< 1s, F1 > Q3):\n",
      "   Naive Bayes Gaussian Low Smooth F1: 0.6823 | 0.167s\n",
      "   Naive Bayes Gaussian           F1: 0.6821 | 0.164s\n",
      "\n",
      "- TOP 10 POR RATIO EFICIENCIA (F1/Tiempo):\n",
      "   Naive Bayes Complement         Ratio: 28.5 | F1: 0.6240 | 0.021s\n",
      "   Naive Bayes Multinomial        Ratio: 21.9 | F1: 0.6494 | 0.029s\n",
      "   KNN k=15 Distance              Ratio: 10.2 | F1: 0.6665 | 0.064s\n",
      "   KNN k=5 Uniform                Ratio: 7.5 | F1: 0.6537 | 0.086s\n",
      "   KNN k=3 Distance Weight        Ratio: 7.0 | F1: 0.6481 | 0.092s\n",
      "   Ridge Classifier Basic (alpha=1.0) Ratio: 6.4 | F1: 0.6547 | 0.101s\n",
      "   KNN k=5 Manhattan Distance     Ratio: 6.3 | F1: 0.6661 | 0.105s\n",
      "   Naive Bayes Bernoulli          Ratio: 4.7 | F1: 0.6167 | 0.129s\n",
      "   Ridge Classifier Low Reg (alpha=0.1) Ratio: 4.4 | F1: 0.6547 | 0.147s\n",
      "   Naive Bayes Gaussian           Ratio: 4.1 | F1: 0.6821 | 0.164s\n"
     ]
    }
   ],
   "source": [
    "# Scatter plot: Tiempo vs F1-Score\n",
    "fig_efficiency = px.scatter(\n",
    "    df_completo,\n",
    "    x='Tiempo_Entrenamiento',\n",
    "    y='F1_Score',\n",
    "    color='Categoria',\n",
    "    size='ROC_AUC',\n",
    "    hover_data=['Nombre', 'Accuracy'],\n",
    "    title='- Eficiencia de Modelos: Tiempo vs F1-Score (tamaño = ROC-AUC)',\n",
    "    log_x=True  # Escala logarítmica para tiempo\n",
    ")\n",
    "\n",
    "fig_efficiency.update_layout(height=600)\n",
    "fig_efficiency.show()\n",
    "\n",
    "# Análisis de eficiencia: mejores modelos por tiempo\n",
    "print(\"\\n- ANÁLISIS DE EFICIENCIA\")\n",
    "print(\"=\"*50)\n",
    "\n",
    "# Modelos rápidos (< 1 segundo) con buen rendimiento\n",
    "rapidos_buenos = df_completo[\n",
    "    (df_completo['Tiempo_Entrenamiento'] < 1.0) & \n",
    "    (df_completo['F1_Score'] > df_completo['F1_Score'].quantile(0.75))\n",
    "].sort_values('F1_Score', ascending=False)\n",
    "\n",
    "print(f\"\\n- MODELOS RÁPIDOS Y BUENOS (< 1s, F1 > Q3):\")\n",
    "for _, row in rapidos_buenos.head(10).iterrows():\n",
    "    print(f\"   {row['Nombre']:<30} F1: {row['F1_Score']:.4f} | {row['Tiempo_Entrenamiento']:.3f}s\")\n",
    "\n",
    "# Calcular ratio eficiencia (F1/tiempo)\n",
    "df_completo['Ratio_Eficiencia'] = df_completo['F1_Score'] / (df_completo['Tiempo_Entrenamiento'] + 0.001)  # +0.001 para evitar división por 0\n",
    "\n",
    "print(f\"\\n- TOP 10 POR RATIO EFICIENCIA (F1/Tiempo):\")\n",
    "top_eficiencia = df_completo.sort_values('Ratio_Eficiencia', ascending=False).head(10)\n",
    "for _, row in top_eficiencia.iterrows():\n",
    "    print(f\"   {row['Nombre']:<30} Ratio: {row['Ratio_Eficiencia']:.1f} | F1: {row['F1_Score']:.4f} | {row['Tiempo_Entrenamiento']:.3f}s\")"
   ]
  },
  {
   "cell_type": "markdown",
   "metadata": {},
   "source": [
    "## Análisis Profundo por Categoría\n",
    "\n",
    "Analizo cada categoría de modelos en detalle."
   ]
  },
  {
   "cell_type": "code",
   "execution_count": 7,
   "metadata": {},
   "outputs": [
    {
     "name": "stdout",
     "output_type": "stream",
     "text": [
      "\n",
      "ESTADÍSTICAS DETALLADAS POR CATEGORÍA\n",
      "================================================================================\n",
      "\n",
      "- Boosting:\n",
      "   Modelos: 11\n",
      "   F1 promedio: 0.0000 ± 0.0000\n",
      "   F1 rango: [0.0000 - 0.0000]\n",
      "   Tiempo promedio: 5.961s ± 13.190s\n",
      "   ROC-AUC promedio: 0.0000\n",
      "   - Mejor: XGBoost Conservative (F1: 0.0000)\n",
      "\n",
      "- Ensemble:\n",
      "   Modelos: 14\n",
      "   F1 promedio: 0.6658 ± 0.0125\n",
      "   F1 rango: [0.6518 - 0.6896]\n",
      "   Tiempo promedio: 184.383s ± 589.418s\n",
      "   ROC-AUC promedio: 0.6560\n",
      "   - Mejor: Voting Soft (RF+DT+LR+NB) (F1: 0.6896)\n",
      "\n",
      "- Modelos_Lineales:\n",
      "   Modelos: 21\n",
      "   F1 promedio: 0.6298 ± 0.0372\n",
      "   F1 rango: [0.5642 - 0.6554]\n",
      "   Tiempo promedio: 134.613s ± 546.989s\n",
      "   ROC-AUC promedio: 0.6575\n",
      "   - Mejor: Ridge Classifier CV (mejor alpha) (F1: 0.6554)\n",
      "\n",
      "- Otros_Algoritmos:\n",
      "   Modelos: 20\n",
      "   F1 promedio: 0.6465 ± 0.0225\n",
      "   F1 rango: [0.6093 - 0.6823]\n",
      "   Tiempo promedio: 12.243s ± 43.362s\n",
      "   ROC-AUC promedio: 0.6803\n",
      "   - Mejor: Naive Bayes Gaussian Low Smooth (F1: 0.6823)\n",
      "\n",
      "- Redes_Neuronales:\n",
      "   Modelos: 12\n",
      "   F1 promedio: 0.6866 ± 0.0046\n",
      "   F1 rango: [0.6807 - 0.6956]\n",
      "   Tiempo promedio: 288.538s ± 707.237s\n",
      "   ROC-AUC promedio: 0.7492\n",
      "   - Mejor: NN Two Classic (100,50) (F1: 0.6956)\n"
     ]
    },
    {
     "data": {
      "application/vnd.plotly.v1+json": {
       "config": {
        "plotlyServerURL": "https://plot.ly"
       },
       "data": [
        {
         "coloraxis": "coloraxis",
         "hovertemplate": "Categoria: %{x}<br>y: %{y}<br>color: %{z}<extra></extra>",
         "name": "0",
         "type": "heatmap",
         "x": [
          "Boosting",
          "Ensemble",
          "Modelos_Lineales",
          "Otros_Algoritmos",
          "Redes_Neuronales"
         ],
         "xaxis": "x",
         "y": [
          "F1_Score",
          "Accuracy",
          "ROC_AUC",
          "Precision",
          "Recall"
         ],
         "yaxis": "y",
         "z": {
          "bdata": "AAAAAAAAAADefsX5k07lPy5y0dAZJ+Q/wvBS+xKw5D8nQQkq1fjlPwAAAAAAAAAASVmVl0bE5D/4HAQME6rjP1zqpTiA4uM/aA2hBCrM5T8AAAAAAAAAAO+y6OZB/uQ/Knsu/1QK5T/klgIRScXlP2iYDUfW+ec/AAAAAAAAAADocxxkjfTkP14fjiEV3+M/nip/bxAg5D/d/8s29DDmPwAAAAAAAAAAHSyy1mrV5T/IqOOo53LkP1J2Zze9vuU/R7km+LXD5T8=",
          "dtype": "f8",
          "shape": "5, 5"
         }
        }
       ],
       "layout": {
        "coloraxis": {
         "colorscale": [
          [
           0,
           "rgb(49,54,149)"
          ],
          [
           0.1,
           "rgb(69,117,180)"
          ],
          [
           0.2,
           "rgb(116,173,209)"
          ],
          [
           0.3,
           "rgb(171,217,233)"
          ],
          [
           0.4,
           "rgb(224,243,248)"
          ],
          [
           0.5,
           "rgb(255,255,191)"
          ],
          [
           0.6,
           "rgb(254,224,144)"
          ],
          [
           0.7,
           "rgb(253,174,97)"
          ],
          [
           0.8,
           "rgb(244,109,67)"
          ],
          [
           0.9,
           "rgb(215,48,39)"
          ],
          [
           1,
           "rgb(165,0,38)"
          ]
         ]
        },
        "height": 400,
        "template": {
         "data": {
          "bar": [
           {
            "error_x": {
             "color": "#2a3f5f"
            },
            "error_y": {
             "color": "#2a3f5f"
            },
            "marker": {
             "line": {
              "color": "#E5ECF6",
              "width": 0.5
             },
             "pattern": {
              "fillmode": "overlay",
              "size": 10,
              "solidity": 0.2
             }
            },
            "type": "bar"
           }
          ],
          "barpolar": [
           {
            "marker": {
             "line": {
              "color": "#E5ECF6",
              "width": 0.5
             },
             "pattern": {
              "fillmode": "overlay",
              "size": 10,
              "solidity": 0.2
             }
            },
            "type": "barpolar"
           }
          ],
          "carpet": [
           {
            "aaxis": {
             "endlinecolor": "#2a3f5f",
             "gridcolor": "white",
             "linecolor": "white",
             "minorgridcolor": "white",
             "startlinecolor": "#2a3f5f"
            },
            "baxis": {
             "endlinecolor": "#2a3f5f",
             "gridcolor": "white",
             "linecolor": "white",
             "minorgridcolor": "white",
             "startlinecolor": "#2a3f5f"
            },
            "type": "carpet"
           }
          ],
          "choropleth": [
           {
            "colorbar": {
             "outlinewidth": 0,
             "ticks": ""
            },
            "type": "choropleth"
           }
          ],
          "contour": [
           {
            "colorbar": {
             "outlinewidth": 0,
             "ticks": ""
            },
            "colorscale": [
             [
              0,
              "#0d0887"
             ],
             [
              0.1111111111111111,
              "#46039f"
             ],
             [
              0.2222222222222222,
              "#7201a8"
             ],
             [
              0.3333333333333333,
              "#9c179e"
             ],
             [
              0.4444444444444444,
              "#bd3786"
             ],
             [
              0.5555555555555556,
              "#d8576b"
             ],
             [
              0.6666666666666666,
              "#ed7953"
             ],
             [
              0.7777777777777778,
              "#fb9f3a"
             ],
             [
              0.8888888888888888,
              "#fdca26"
             ],
             [
              1,
              "#f0f921"
             ]
            ],
            "type": "contour"
           }
          ],
          "contourcarpet": [
           {
            "colorbar": {
             "outlinewidth": 0,
             "ticks": ""
            },
            "type": "contourcarpet"
           }
          ],
          "heatmap": [
           {
            "colorbar": {
             "outlinewidth": 0,
             "ticks": ""
            },
            "colorscale": [
             [
              0,
              "#0d0887"
             ],
             [
              0.1111111111111111,
              "#46039f"
             ],
             [
              0.2222222222222222,
              "#7201a8"
             ],
             [
              0.3333333333333333,
              "#9c179e"
             ],
             [
              0.4444444444444444,
              "#bd3786"
             ],
             [
              0.5555555555555556,
              "#d8576b"
             ],
             [
              0.6666666666666666,
              "#ed7953"
             ],
             [
              0.7777777777777778,
              "#fb9f3a"
             ],
             [
              0.8888888888888888,
              "#fdca26"
             ],
             [
              1,
              "#f0f921"
             ]
            ],
            "type": "heatmap"
           }
          ],
          "histogram": [
           {
            "marker": {
             "pattern": {
              "fillmode": "overlay",
              "size": 10,
              "solidity": 0.2
             }
            },
            "type": "histogram"
           }
          ],
          "histogram2d": [
           {
            "colorbar": {
             "outlinewidth": 0,
             "ticks": ""
            },
            "colorscale": [
             [
              0,
              "#0d0887"
             ],
             [
              0.1111111111111111,
              "#46039f"
             ],
             [
              0.2222222222222222,
              "#7201a8"
             ],
             [
              0.3333333333333333,
              "#9c179e"
             ],
             [
              0.4444444444444444,
              "#bd3786"
             ],
             [
              0.5555555555555556,
              "#d8576b"
             ],
             [
              0.6666666666666666,
              "#ed7953"
             ],
             [
              0.7777777777777778,
              "#fb9f3a"
             ],
             [
              0.8888888888888888,
              "#fdca26"
             ],
             [
              1,
              "#f0f921"
             ]
            ],
            "type": "histogram2d"
           }
          ],
          "histogram2dcontour": [
           {
            "colorbar": {
             "outlinewidth": 0,
             "ticks": ""
            },
            "colorscale": [
             [
              0,
              "#0d0887"
             ],
             [
              0.1111111111111111,
              "#46039f"
             ],
             [
              0.2222222222222222,
              "#7201a8"
             ],
             [
              0.3333333333333333,
              "#9c179e"
             ],
             [
              0.4444444444444444,
              "#bd3786"
             ],
             [
              0.5555555555555556,
              "#d8576b"
             ],
             [
              0.6666666666666666,
              "#ed7953"
             ],
             [
              0.7777777777777778,
              "#fb9f3a"
             ],
             [
              0.8888888888888888,
              "#fdca26"
             ],
             [
              1,
              "#f0f921"
             ]
            ],
            "type": "histogram2dcontour"
           }
          ],
          "mesh3d": [
           {
            "colorbar": {
             "outlinewidth": 0,
             "ticks": ""
            },
            "type": "mesh3d"
           }
          ],
          "parcoords": [
           {
            "line": {
             "colorbar": {
              "outlinewidth": 0,
              "ticks": ""
             }
            },
            "type": "parcoords"
           }
          ],
          "pie": [
           {
            "automargin": true,
            "type": "pie"
           }
          ],
          "scatter": [
           {
            "fillpattern": {
             "fillmode": "overlay",
             "size": 10,
             "solidity": 0.2
            },
            "type": "scatter"
           }
          ],
          "scatter3d": [
           {
            "line": {
             "colorbar": {
              "outlinewidth": 0,
              "ticks": ""
             }
            },
            "marker": {
             "colorbar": {
              "outlinewidth": 0,
              "ticks": ""
             }
            },
            "type": "scatter3d"
           }
          ],
          "scattercarpet": [
           {
            "marker": {
             "colorbar": {
              "outlinewidth": 0,
              "ticks": ""
             }
            },
            "type": "scattercarpet"
           }
          ],
          "scattergeo": [
           {
            "marker": {
             "colorbar": {
              "outlinewidth": 0,
              "ticks": ""
             }
            },
            "type": "scattergeo"
           }
          ],
          "scattergl": [
           {
            "marker": {
             "colorbar": {
              "outlinewidth": 0,
              "ticks": ""
             }
            },
            "type": "scattergl"
           }
          ],
          "scattermap": [
           {
            "marker": {
             "colorbar": {
              "outlinewidth": 0,
              "ticks": ""
             }
            },
            "type": "scattermap"
           }
          ],
          "scattermapbox": [
           {
            "marker": {
             "colorbar": {
              "outlinewidth": 0,
              "ticks": ""
             }
            },
            "type": "scattermapbox"
           }
          ],
          "scatterpolar": [
           {
            "marker": {
             "colorbar": {
              "outlinewidth": 0,
              "ticks": ""
             }
            },
            "type": "scatterpolar"
           }
          ],
          "scatterpolargl": [
           {
            "marker": {
             "colorbar": {
              "outlinewidth": 0,
              "ticks": ""
             }
            },
            "type": "scatterpolargl"
           }
          ],
          "scatterternary": [
           {
            "marker": {
             "colorbar": {
              "outlinewidth": 0,
              "ticks": ""
             }
            },
            "type": "scatterternary"
           }
          ],
          "surface": [
           {
            "colorbar": {
             "outlinewidth": 0,
             "ticks": ""
            },
            "colorscale": [
             [
              0,
              "#0d0887"
             ],
             [
              0.1111111111111111,
              "#46039f"
             ],
             [
              0.2222222222222222,
              "#7201a8"
             ],
             [
              0.3333333333333333,
              "#9c179e"
             ],
             [
              0.4444444444444444,
              "#bd3786"
             ],
             [
              0.5555555555555556,
              "#d8576b"
             ],
             [
              0.6666666666666666,
              "#ed7953"
             ],
             [
              0.7777777777777778,
              "#fb9f3a"
             ],
             [
              0.8888888888888888,
              "#fdca26"
             ],
             [
              1,
              "#f0f921"
             ]
            ],
            "type": "surface"
           }
          ],
          "table": [
           {
            "cells": {
             "fill": {
              "color": "#EBF0F8"
             },
             "line": {
              "color": "white"
             }
            },
            "header": {
             "fill": {
              "color": "#C8D4E3"
             },
             "line": {
              "color": "white"
             }
            },
            "type": "table"
           }
          ]
         },
         "layout": {
          "annotationdefaults": {
           "arrowcolor": "#2a3f5f",
           "arrowhead": 0,
           "arrowwidth": 1
          },
          "autotypenumbers": "strict",
          "coloraxis": {
           "colorbar": {
            "outlinewidth": 0,
            "ticks": ""
           }
          },
          "colorscale": {
           "diverging": [
            [
             0,
             "#8e0152"
            ],
            [
             0.1,
             "#c51b7d"
            ],
            [
             0.2,
             "#de77ae"
            ],
            [
             0.3,
             "#f1b6da"
            ],
            [
             0.4,
             "#fde0ef"
            ],
            [
             0.5,
             "#f7f7f7"
            ],
            [
             0.6,
             "#e6f5d0"
            ],
            [
             0.7,
             "#b8e186"
            ],
            [
             0.8,
             "#7fbc41"
            ],
            [
             0.9,
             "#4d9221"
            ],
            [
             1,
             "#276419"
            ]
           ],
           "sequential": [
            [
             0,
             "#0d0887"
            ],
            [
             0.1111111111111111,
             "#46039f"
            ],
            [
             0.2222222222222222,
             "#7201a8"
            ],
            [
             0.3333333333333333,
             "#9c179e"
            ],
            [
             0.4444444444444444,
             "#bd3786"
            ],
            [
             0.5555555555555556,
             "#d8576b"
            ],
            [
             0.6666666666666666,
             "#ed7953"
            ],
            [
             0.7777777777777778,
             "#fb9f3a"
            ],
            [
             0.8888888888888888,
             "#fdca26"
            ],
            [
             1,
             "#f0f921"
            ]
           ],
           "sequentialminus": [
            [
             0,
             "#0d0887"
            ],
            [
             0.1111111111111111,
             "#46039f"
            ],
            [
             0.2222222222222222,
             "#7201a8"
            ],
            [
             0.3333333333333333,
             "#9c179e"
            ],
            [
             0.4444444444444444,
             "#bd3786"
            ],
            [
             0.5555555555555556,
             "#d8576b"
            ],
            [
             0.6666666666666666,
             "#ed7953"
            ],
            [
             0.7777777777777778,
             "#fb9f3a"
            ],
            [
             0.8888888888888888,
             "#fdca26"
            ],
            [
             1,
             "#f0f921"
            ]
           ]
          },
          "colorway": [
           "#636efa",
           "#EF553B",
           "#00cc96",
           "#ab63fa",
           "#FFA15A",
           "#19d3f3",
           "#FF6692",
           "#B6E880",
           "#FF97FF",
           "#FECB52"
          ],
          "font": {
           "color": "#2a3f5f"
          },
          "geo": {
           "bgcolor": "white",
           "lakecolor": "white",
           "landcolor": "#E5ECF6",
           "showlakes": true,
           "showland": true,
           "subunitcolor": "white"
          },
          "hoverlabel": {
           "align": "left"
          },
          "hovermode": "closest",
          "mapbox": {
           "style": "light"
          },
          "paper_bgcolor": "white",
          "plot_bgcolor": "#E5ECF6",
          "polar": {
           "angularaxis": {
            "gridcolor": "white",
            "linecolor": "white",
            "ticks": ""
           },
           "bgcolor": "#E5ECF6",
           "radialaxis": {
            "gridcolor": "white",
            "linecolor": "white",
            "ticks": ""
           }
          },
          "scene": {
           "xaxis": {
            "backgroundcolor": "#E5ECF6",
            "gridcolor": "white",
            "gridwidth": 2,
            "linecolor": "white",
            "showbackground": true,
            "ticks": "",
            "zerolinecolor": "white"
           },
           "yaxis": {
            "backgroundcolor": "#E5ECF6",
            "gridcolor": "white",
            "gridwidth": 2,
            "linecolor": "white",
            "showbackground": true,
            "ticks": "",
            "zerolinecolor": "white"
           },
           "zaxis": {
            "backgroundcolor": "#E5ECF6",
            "gridcolor": "white",
            "gridwidth": 2,
            "linecolor": "white",
            "showbackground": true,
            "ticks": "",
            "zerolinecolor": "white"
           }
          },
          "shapedefaults": {
           "line": {
            "color": "#2a3f5f"
           }
          },
          "ternary": {
           "aaxis": {
            "gridcolor": "white",
            "linecolor": "white",
            "ticks": ""
           },
           "baxis": {
            "gridcolor": "white",
            "linecolor": "white",
            "ticks": ""
           },
           "bgcolor": "#E5ECF6",
           "caxis": {
            "gridcolor": "white",
            "linecolor": "white",
            "ticks": ""
           }
          },
          "title": {
           "x": 0.05
          },
          "xaxis": {
           "automargin": true,
           "gridcolor": "white",
           "linecolor": "white",
           "ticks": "",
           "title": {
            "standoff": 15
           },
           "zerolinecolor": "white",
           "zerolinewidth": 2
          },
          "yaxis": {
           "automargin": true,
           "gridcolor": "white",
           "linecolor": "white",
           "ticks": "",
           "title": {
            "standoff": 15
           },
           "zerolinecolor": "white",
           "zerolinewidth": 2
          }
         }
        },
        "title": {
         "text": "- Heatmap de Rendimiento Promedio por Categoría"
        },
        "xaxis": {
         "anchor": "y",
         "domain": [
          0,
          1
         ],
         "title": {
          "text": "Categoría de Modelo"
         }
        },
        "yaxis": {
         "anchor": "x",
         "autorange": "reversed",
         "domain": [
          0,
          1
         ],
         "title": {
          "text": "Métrica"
         }
        }
       }
      }
     },
     "metadata": {},
     "output_type": "display_data"
    }
   ],
   "source": [
    "# Estadísticas por categoría\n",
    "print(\"\\nESTADÍSTICAS DETALLADAS POR CATEGORÍA\")\n",
    "print(\"=\"*80)\n",
    "\n",
    "stats_categoria = df_completo.groupby('Categoria').agg({\n",
    "    'F1_Score': ['count', 'mean', 'std', 'min', 'max'],\n",
    "    'Tiempo_Entrenamiento': ['mean', 'std', 'min', 'max'],\n",
    "    'ROC_AUC': ['mean', 'max'],\n",
    "    'Accuracy': ['mean', 'max']\n",
    "}).round(4)\n",
    "\n",
    "for categoria in stats_categoria.index:\n",
    "    print(f\"\\n- {categoria}:\")\n",
    "    print(f\"   Modelos: {int(stats_categoria.loc[categoria, ('F1_Score', 'count')])}\")\n",
    "    print(f\"   F1 promedio: {stats_categoria.loc[categoria, ('F1_Score', 'mean')]:.4f} ± {stats_categoria.loc[categoria, ('F1_Score', 'std')]:.4f}\")\n",
    "    print(f\"   F1 rango: [{stats_categoria.loc[categoria, ('F1_Score', 'min')]:.4f} - {stats_categoria.loc[categoria, ('F1_Score', 'max')]:.4f}]\")\n",
    "    print(f\"   Tiempo promedio: {stats_categoria.loc[categoria, ('Tiempo_Entrenamiento', 'mean')]:.3f}s ± {stats_categoria.loc[categoria, ('Tiempo_Entrenamiento', 'std')]:.3f}s\")\n",
    "    print(f\"   ROC-AUC promedio: {stats_categoria.loc[categoria, ('ROC_AUC', 'mean')]:.4f}\")\n",
    "    \n",
    "    # Mejor modelo de esta categoría\n",
    "    mejor_categoria = df_completo[df_completo['Categoria'] == categoria].sort_values('F1_Score', ascending=False).iloc[0]\n",
    "    print(f\"   - Mejor: {mejor_categoria['Nombre']} (F1: {mejor_categoria['F1_Score']:.4f})\")\n",
    "\n",
    "# Heatmap de rendimiento por categoría\n",
    "categoria_metrics = df_completo.groupby('Categoria')[['F1_Score', 'Accuracy', 'ROC_AUC', 'Precision', 'Recall']].mean()\n",
    "\n",
    "fig_heatmap = px.imshow(\n",
    "    categoria_metrics.T,\n",
    "    title='- Heatmap de Rendimiento Promedio por Categoría',\n",
    "    color_continuous_scale='RdYlBu_r',\n",
    "    aspect='auto'\n",
    ")\n",
    "\n",
    "fig_heatmap.update_layout(\n",
    "    height=400,\n",
    "    xaxis_title='Categoría de Modelo',\n",
    "    yaxis_title='Métrica'\n",
    ")\n",
    "\n",
    "fig_heatmap.show()"
   ]
  },
  {
   "cell_type": "markdown",
   "metadata": {},
   "source": [
    "## Análisis de Características de Modelos\n",
    "\n",
    "Analizo qué características técnicas influyen en el rendimiento."
   ]
  },
  {
   "cell_type": "code",
   "execution_count": 8,
   "metadata": {},
   "outputs": [
    {
     "name": "stdout",
     "output_type": "stream",
     "text": [
      "\n",
      "ANÁLISIS DE CARACTERÍSTICAS TÉCNICAS\n",
      "============================================================\n",
      "\n",
      "- Impacto del Escalado de Datos:\n",
      "               count    mean     std\n",
      "Usar_Escalado                       \n",
      "False             60  0.5316  0.2561\n",
      "True              18  0.6567  0.0166\n",
      "\n",
      "- Modelos Ensemble (con estimators): 14\n",
      "   Estimators promedio: 59.3\n",
      "   F1 promedio: 0.6658\n",
      "   Correlación estimators-F1: -0.228\n"
     ]
    },
    {
     "data": {
      "application/vnd.plotly.v1+json": {
       "config": {
        "plotlyServerURL": "https://plot.ly"
       },
       "data": [
        {
         "mode": "markers",
         "name": "Ensemble",
         "text": [
          "Voting Hard (RF+DT+LR+NB)",
          "Voting Soft (RF+DT+LR+NB)",
          "Voting Trees (RF+XGB+LGB+ET)",
          "Voting Linear (LR+SGD+NB)",
          "Bagging Decision Trees (50)",
          "Bagging Logistic Regression (30)",
          "Bagging KNN (20)",
          "Bagging LinearSVM (15)",
          "ExtraTrees Basic (100, depth=10)",
          "ExtraTrees More (200, depth=8)",
          "ExtraTrees Bootstrap (100, OOB)",
          "AdaBoost (100, depth=3)",
          "Gradient Boosting (100, depth=4)",
          "Random Forest (100, depth=10)"
         ],
         "type": "scatter",
         "x": {
          "bdata": "BAAEAAQAAwAyAB4AFAAPAGQAyABkAGQAZABkAA==",
          "dtype": "i2"
         },
         "xaxis": "x",
         "y": {
          "bdata": "yYdGQQgQ5T8luqfKdhHmPzSwYUuJu+U/titjAO/A5T/Ms6ADbdvkPxi0u0Ch9eQ/DCjTLMj+5D/GS2sLr/LkP8M4PTdxI+U/KEfNhafs5D8J//1xADzlPxJq/bVRaeU/1ckDxtzh5T+vQ3UpU1TlPw==",
          "dtype": "f8"
         },
         "yaxis": "y"
        },
        {
         "mode": "markers",
         "name": "Lineales",
         "text": [
          "Logistic Regression Basic (C=1.0)",
          "Logistic Regression Low Reg (C=10.0)",
          "Logistic Regression High Reg (C=0.1)",
          "Logistic Regression L1 (C=1.0)",
          "Logistic Regression ElasticNet (l1_ratio=0.5)",
          "Logistic Regression LBFGS",
          "Ridge Classifier Basic (alpha=1.0)",
          "Ridge Classifier Low Reg (alpha=0.1)",
          "Ridge Classifier High Reg (alpha=10.0)",
          "Ridge Classifier CV (mejor alpha)",
          "SGD Classifier Log Loss",
          "SGD Classifier Hinge Loss",
          "SGD Classifier L1 Penalty",
          "SGD Classifier ElasticNet",
          "SGD Classifier Adaptive LR",
          "Passive Aggressive Basic (C=1.0)",
          "Passive Aggressive High Reg (C=0.1)",
          "Passive Aggressive Squared Hinge",
          "Perceptron Basic",
          "Perceptron L2 Penalty",
          "Perceptron L1 Penalty"
         ],
         "type": "scatter",
         "x": {
          "bdata": "OTk5OTk5OTk5OTk5Ki05OTk5OTkL",
          "dtype": "i1"
         },
         "xaxis": "x3",
         "y": {
          "bdata": "E6Wg0yP05D93m+N1V/TkPxALBHW79eQ/LSXzr8fy5D/EZP6CF/fkP4RV3h1a9OQ/nvc7Xibz5D+/hnjN8vLkP2moBzhe8eQ/7RGcrAr55D+x9JQwvszkP1FIAPWCoeQ/IjOKgWOI5D+0BfALKrjkP4XLFewl9eQ/KXgqRLlL4j8YhU9AL2LiP5uCRrC4TeI/PCcydO4N4j+glDhaHjLiP+98LV+JyOI/",
          "dtype": "f8"
         },
         "yaxis": "y3"
        },
        {
         "mode": "markers",
         "name": "Escalado: True",
         "text": [
          "Voting Hard (RF+DT+LR+NB)",
          "Voting Soft (RF+DT+LR+NB)",
          "Voting Linear (LR+SGD+NB)",
          "Bagging Logistic Regression (30)",
          "Bagging KNN (20)",
          "Bagging LinearSVM (15)",
          "KNN k=5 Uniform",
          "KNN k=3 Distance Weight",
          "KNN k=10 Uniform",
          "KNN k=5 Manhattan Distance",
          "KNN k=7 Distance KDTree",
          "KNN k=15 Distance",
          "Naive Bayes Multinomial",
          "Naive Bayes Complement",
          "Linear Discriminant Analysis",
          "LDA with Shrinkage",
          "Quadratic Discriminant Analysis",
          "Gaussian Process RBF"
         ],
         "type": "scatter",
         "x": {
          "bdata": "AAAADu5aXEAAACjGjWqhQAAAAMBctghAAAAAbD2JNkAAAACwUF0TQAAAANiI+T1AAAAAAJz3tT8AAAAA4Ji3PwAAAABYesU/AAAAAAjCuj8AAAATy0BoQAAAAAB0bLA/AAAAAABknT8AAAAAoG2VPwAAAACqLuw/AAAAAHQ52z8AAAAAdCzxPwAAAMTw1T9A",
          "dtype": "f8"
         },
         "xaxis": "x4",
         "y": {
          "bdata": "yYdGQQgQ5T8luqfKdhHmP7YrYwDvwOU/GLS7QKH15D8MKNMsyP7kP8ZLawuv8uQ/8Smtnbjq5D+IoPJMeL3kP2wZrmpfSeQ/7hQCv41Q5T8AVBlh7xrlP8BtsdJVVOU/V5h8oYnH5D9plOthtvfjPwQb9K4j8+Q/KnR6w17q5D90sU+xZdTlP+1Fl6vyTuQ/",
          "dtype": "f8"
         },
         "yaxis": "y4"
        },
        {
         "mode": "markers",
         "name": "Escalado: False",
         "text": [
          "XGBoost Conservative",
          "XGBoost Aggressive",
          "XGBoost Regularized",
          "LightGBM Fast",
          "LightGBM Balanced",
          "CatBoost Simple",
          "CatBoost Optimized",
          "AdaBoost Classic",
          "AdaBoost Conservative",
          "Gradient Boosting Classic",
          "Hist Gradient Boosting",
          "NN Tiny (50)",
          "NN Small (100)",
          "NN Small Tanh (100)",
          "NN Two Classic (100,50)",
          "NN Two Symmetric (80,80)",
          "NN Bottleneck (120,30)",
          "NN Deep Decreasing (150,100,50)",
          "NN Deep Uniform (100,100,100)",
          "NN Diamond (80,120,80)",
          "NN SGD Momentum (100,50)",
          "NN High Regularization (100,50)",
          "NN Low Regularization (100,50)",
          "Logistic Regression Basic (C=1.0)",
          "Logistic Regression Low Reg (C=10.0)",
          "Logistic Regression High Reg (C=0.1)",
          "Logistic Regression L1 (C=1.0)",
          "Logistic Regression ElasticNet (l1_ratio=0.5)",
          "Logistic Regression LBFGS",
          "Ridge Classifier Basic (alpha=1.0)",
          "Ridge Classifier Low Reg (alpha=0.1)",
          "Ridge Classifier High Reg (alpha=10.0)",
          "Ridge Classifier CV (mejor alpha)",
          "SGD Classifier Log Loss",
          "SGD Classifier Hinge Loss",
          "SGD Classifier L1 Penalty",
          "SGD Classifier ElasticNet",
          "SGD Classifier Adaptive LR",
          "Passive Aggressive Basic (C=1.0)",
          "Passive Aggressive High Reg (C=0.1)",
          "Passive Aggressive Squared Hinge",
          "Perceptron Basic",
          "Perceptron L2 Penalty",
          "Perceptron L1 Penalty",
          "Voting Trees (RF+XGB+LGB+ET)",
          "Bagging Decision Trees (50)",
          "ExtraTrees Basic (100, depth=10)",
          "ExtraTrees More (200, depth=8)",
          "ExtraTrees Bootstrap (100, OOB)",
          "AdaBoost (100, depth=3)",
          "Gradient Boosting (100, depth=4)",
          "Random Forest (100, depth=10)",
          "Naive Bayes Gaussian",
          "Naive Bayes Gaussian Low Smooth",
          "Naive Bayes Bernoulli",
          "Decision Tree Basic (depth=10)",
          "Decision Tree Deep (depth=20)",
          "Decision Tree Entropy (depth=12)",
          "Decision Tree Balanced (depth=15)",
          "Extra Tree Single (depth=12)"
         ],
         "type": "scatter",
         "x": {
          "bdata": "AAAAgGCo7T8AAAAA4Ff5PwAAAMCb6Pw/AAAAAJ2J7j8AAADA30D2PwAAAMAAaAdAAAAA0E59EUAAAAAAAAAAAAAAAAAAAAAAAAAAmh6pRkAAAACQuCQZQAAAAAGX4lhAAACoLhO/o0AAAAAOaylNQAAAAKbFdkdAAAAAINfIRkAAAABjlrlpQAAAAHY92lNAAAAA2awfUEAAAAAIdVdTQAAAADNA3WZAAAAAANZmQkAAAADcQ+NCQAAAANxNKzFAAAAAyHYhM0AAAAAQn1QqQAAA+A0InKNAAAAAiXJ7b0AAAADgR1QAQAAAAABo9bk/AAAAAA7gwj8AAAAAbnfLPwAAAMDtc/8/AAAAwNAg+T8AAACAcGf6PwAAAMDeJ/c/AAAAQDTt/j8AAABAS1r5PwAAAAAHP9s/AAAAABfc2z8AAAAAZiHgPwAAAADBp9E/AAAAAHFQ1D8AAACABVLtPwAAAKBt8DNAAAAASI95NkAAAACAB4IBQAAAAKAUAglAAAAAIEOrDEAAAAAuNedNQAAAABbN7E5AAAAAUM0GFUAAAAAALO7EPwAAAAAaUcU/AAAAAJCQwD8AAABAxg0GQAAAAABC5RJAAAAAwBp/DkAAAACQR5QQQAAAAAAob8U/",
          "dtype": "f8"
         },
         "xaxis": "x4",
         "y": {
          "bdata": "AAAAAAAAAAAAAAAAAAAAAAAAAAAAAAAAAAAAAAAAAAAAAAAAAAAAAAAAAAAAAAAAAAAAAAAAAAAAAAAAAAAAAAAAAAAAAAAAAAAAAAAAAAAAAAAAAAAAAKpCsbyrD+Y/+furPJX+5T8y2+mrbc3lPwVscj0lQuY/mIZ/y1oW5j9Y3nIhj+LlP2/0eShV8uU/SzhLX5vq5T+9MzC9dPvlP1xjmRNrz+U/eACeZEMj5j/AXpZrLMjlPxOloNMj9OQ/d5vjdVf05D8QCwR1u/XkPy0l86/H8uQ/xGT+ghf35D+EVd4dWvTkP573O14m8+Q/v4Z4zfLy5D9pqAc4XvHkP+0RnKwK+eQ/sfSUML7M5D9RSAD1gqHkPyIzioFjiOQ/tAXwCyq45D+FyxXsJfXkPyl4KkS5S+I/GIVPQC9i4j+bgkawuE3iPzwnMnTuDeI/oJQ4Wh4y4j/vfC1ficjiPzSwYUuJu+U/zLOgA23b5D/DOD03cSPlPyhHzYWn7OQ/Cf/9cQA85T8Sav21UWnlP9XJA8bc4eU/r0N1KVNU5T9xVJZd2tPlP2zPS+MV1eU/ujvp7qS74z+hX2aMq2LkPycKQbjqt+M/ZLrSC7Ew5D/5EnKKpSDkP4bK6nx7f+M/",
          "dtype": "f8"
         },
         "yaxis": "y4"
        }
       ],
       "layout": {
        "annotations": [
         {
          "font": {
           "size": 16
          },
          "showarrow": false,
          "text": "N_Estimators vs F1-Score",
          "x": 0.225,
          "xanchor": "center",
          "xref": "paper",
          "y": 1,
          "yanchor": "bottom",
          "yref": "paper"
         },
         {
          "font": {
           "size": 16
          },
          "showarrow": false,
          "text": "Support Vectors vs F1-Score",
          "x": 0.775,
          "xanchor": "center",
          "xref": "paper",
          "y": 1,
          "yanchor": "bottom",
          "yref": "paper"
         },
         {
          "font": {
           "size": 16
          },
          "showarrow": false,
          "text": "Features Activos vs F1-Score",
          "x": 0.225,
          "xanchor": "center",
          "xref": "paper",
          "y": 0.375,
          "yanchor": "bottom",
          "yref": "paper"
         },
         {
          "font": {
           "size": 16
          },
          "showarrow": false,
          "text": "Tiempo vs F1-Score por Escalado",
          "x": 0.775,
          "xanchor": "center",
          "xref": "paper",
          "y": 0.375,
          "yanchor": "bottom",
          "yref": "paper"
         }
        ],
        "height": 800,
        "showlegend": true,
        "template": {
         "data": {
          "bar": [
           {
            "error_x": {
             "color": "#2a3f5f"
            },
            "error_y": {
             "color": "#2a3f5f"
            },
            "marker": {
             "line": {
              "color": "#E5ECF6",
              "width": 0.5
             },
             "pattern": {
              "fillmode": "overlay",
              "size": 10,
              "solidity": 0.2
             }
            },
            "type": "bar"
           }
          ],
          "barpolar": [
           {
            "marker": {
             "line": {
              "color": "#E5ECF6",
              "width": 0.5
             },
             "pattern": {
              "fillmode": "overlay",
              "size": 10,
              "solidity": 0.2
             }
            },
            "type": "barpolar"
           }
          ],
          "carpet": [
           {
            "aaxis": {
             "endlinecolor": "#2a3f5f",
             "gridcolor": "white",
             "linecolor": "white",
             "minorgridcolor": "white",
             "startlinecolor": "#2a3f5f"
            },
            "baxis": {
             "endlinecolor": "#2a3f5f",
             "gridcolor": "white",
             "linecolor": "white",
             "minorgridcolor": "white",
             "startlinecolor": "#2a3f5f"
            },
            "type": "carpet"
           }
          ],
          "choropleth": [
           {
            "colorbar": {
             "outlinewidth": 0,
             "ticks": ""
            },
            "type": "choropleth"
           }
          ],
          "contour": [
           {
            "colorbar": {
             "outlinewidth": 0,
             "ticks": ""
            },
            "colorscale": [
             [
              0,
              "#0d0887"
             ],
             [
              0.1111111111111111,
              "#46039f"
             ],
             [
              0.2222222222222222,
              "#7201a8"
             ],
             [
              0.3333333333333333,
              "#9c179e"
             ],
             [
              0.4444444444444444,
              "#bd3786"
             ],
             [
              0.5555555555555556,
              "#d8576b"
             ],
             [
              0.6666666666666666,
              "#ed7953"
             ],
             [
              0.7777777777777778,
              "#fb9f3a"
             ],
             [
              0.8888888888888888,
              "#fdca26"
             ],
             [
              1,
              "#f0f921"
             ]
            ],
            "type": "contour"
           }
          ],
          "contourcarpet": [
           {
            "colorbar": {
             "outlinewidth": 0,
             "ticks": ""
            },
            "type": "contourcarpet"
           }
          ],
          "heatmap": [
           {
            "colorbar": {
             "outlinewidth": 0,
             "ticks": ""
            },
            "colorscale": [
             [
              0,
              "#0d0887"
             ],
             [
              0.1111111111111111,
              "#46039f"
             ],
             [
              0.2222222222222222,
              "#7201a8"
             ],
             [
              0.3333333333333333,
              "#9c179e"
             ],
             [
              0.4444444444444444,
              "#bd3786"
             ],
             [
              0.5555555555555556,
              "#d8576b"
             ],
             [
              0.6666666666666666,
              "#ed7953"
             ],
             [
              0.7777777777777778,
              "#fb9f3a"
             ],
             [
              0.8888888888888888,
              "#fdca26"
             ],
             [
              1,
              "#f0f921"
             ]
            ],
            "type": "heatmap"
           }
          ],
          "histogram": [
           {
            "marker": {
             "pattern": {
              "fillmode": "overlay",
              "size": 10,
              "solidity": 0.2
             }
            },
            "type": "histogram"
           }
          ],
          "histogram2d": [
           {
            "colorbar": {
             "outlinewidth": 0,
             "ticks": ""
            },
            "colorscale": [
             [
              0,
              "#0d0887"
             ],
             [
              0.1111111111111111,
              "#46039f"
             ],
             [
              0.2222222222222222,
              "#7201a8"
             ],
             [
              0.3333333333333333,
              "#9c179e"
             ],
             [
              0.4444444444444444,
              "#bd3786"
             ],
             [
              0.5555555555555556,
              "#d8576b"
             ],
             [
              0.6666666666666666,
              "#ed7953"
             ],
             [
              0.7777777777777778,
              "#fb9f3a"
             ],
             [
              0.8888888888888888,
              "#fdca26"
             ],
             [
              1,
              "#f0f921"
             ]
            ],
            "type": "histogram2d"
           }
          ],
          "histogram2dcontour": [
           {
            "colorbar": {
             "outlinewidth": 0,
             "ticks": ""
            },
            "colorscale": [
             [
              0,
              "#0d0887"
             ],
             [
              0.1111111111111111,
              "#46039f"
             ],
             [
              0.2222222222222222,
              "#7201a8"
             ],
             [
              0.3333333333333333,
              "#9c179e"
             ],
             [
              0.4444444444444444,
              "#bd3786"
             ],
             [
              0.5555555555555556,
              "#d8576b"
             ],
             [
              0.6666666666666666,
              "#ed7953"
             ],
             [
              0.7777777777777778,
              "#fb9f3a"
             ],
             [
              0.8888888888888888,
              "#fdca26"
             ],
             [
              1,
              "#f0f921"
             ]
            ],
            "type": "histogram2dcontour"
           }
          ],
          "mesh3d": [
           {
            "colorbar": {
             "outlinewidth": 0,
             "ticks": ""
            },
            "type": "mesh3d"
           }
          ],
          "parcoords": [
           {
            "line": {
             "colorbar": {
              "outlinewidth": 0,
              "ticks": ""
             }
            },
            "type": "parcoords"
           }
          ],
          "pie": [
           {
            "automargin": true,
            "type": "pie"
           }
          ],
          "scatter": [
           {
            "fillpattern": {
             "fillmode": "overlay",
             "size": 10,
             "solidity": 0.2
            },
            "type": "scatter"
           }
          ],
          "scatter3d": [
           {
            "line": {
             "colorbar": {
              "outlinewidth": 0,
              "ticks": ""
             }
            },
            "marker": {
             "colorbar": {
              "outlinewidth": 0,
              "ticks": ""
             }
            },
            "type": "scatter3d"
           }
          ],
          "scattercarpet": [
           {
            "marker": {
             "colorbar": {
              "outlinewidth": 0,
              "ticks": ""
             }
            },
            "type": "scattercarpet"
           }
          ],
          "scattergeo": [
           {
            "marker": {
             "colorbar": {
              "outlinewidth": 0,
              "ticks": ""
             }
            },
            "type": "scattergeo"
           }
          ],
          "scattergl": [
           {
            "marker": {
             "colorbar": {
              "outlinewidth": 0,
              "ticks": ""
             }
            },
            "type": "scattergl"
           }
          ],
          "scattermap": [
           {
            "marker": {
             "colorbar": {
              "outlinewidth": 0,
              "ticks": ""
             }
            },
            "type": "scattermap"
           }
          ],
          "scattermapbox": [
           {
            "marker": {
             "colorbar": {
              "outlinewidth": 0,
              "ticks": ""
             }
            },
            "type": "scattermapbox"
           }
          ],
          "scatterpolar": [
           {
            "marker": {
             "colorbar": {
              "outlinewidth": 0,
              "ticks": ""
             }
            },
            "type": "scatterpolar"
           }
          ],
          "scatterpolargl": [
           {
            "marker": {
             "colorbar": {
              "outlinewidth": 0,
              "ticks": ""
             }
            },
            "type": "scatterpolargl"
           }
          ],
          "scatterternary": [
           {
            "marker": {
             "colorbar": {
              "outlinewidth": 0,
              "ticks": ""
             }
            },
            "type": "scatterternary"
           }
          ],
          "surface": [
           {
            "colorbar": {
             "outlinewidth": 0,
             "ticks": ""
            },
            "colorscale": [
             [
              0,
              "#0d0887"
             ],
             [
              0.1111111111111111,
              "#46039f"
             ],
             [
              0.2222222222222222,
              "#7201a8"
             ],
             [
              0.3333333333333333,
              "#9c179e"
             ],
             [
              0.4444444444444444,
              "#bd3786"
             ],
             [
              0.5555555555555556,
              "#d8576b"
             ],
             [
              0.6666666666666666,
              "#ed7953"
             ],
             [
              0.7777777777777778,
              "#fb9f3a"
             ],
             [
              0.8888888888888888,
              "#fdca26"
             ],
             [
              1,
              "#f0f921"
             ]
            ],
            "type": "surface"
           }
          ],
          "table": [
           {
            "cells": {
             "fill": {
              "color": "#EBF0F8"
             },
             "line": {
              "color": "white"
             }
            },
            "header": {
             "fill": {
              "color": "#C8D4E3"
             },
             "line": {
              "color": "white"
             }
            },
            "type": "table"
           }
          ]
         },
         "layout": {
          "annotationdefaults": {
           "arrowcolor": "#2a3f5f",
           "arrowhead": 0,
           "arrowwidth": 1
          },
          "autotypenumbers": "strict",
          "coloraxis": {
           "colorbar": {
            "outlinewidth": 0,
            "ticks": ""
           }
          },
          "colorscale": {
           "diverging": [
            [
             0,
             "#8e0152"
            ],
            [
             0.1,
             "#c51b7d"
            ],
            [
             0.2,
             "#de77ae"
            ],
            [
             0.3,
             "#f1b6da"
            ],
            [
             0.4,
             "#fde0ef"
            ],
            [
             0.5,
             "#f7f7f7"
            ],
            [
             0.6,
             "#e6f5d0"
            ],
            [
             0.7,
             "#b8e186"
            ],
            [
             0.8,
             "#7fbc41"
            ],
            [
             0.9,
             "#4d9221"
            ],
            [
             1,
             "#276419"
            ]
           ],
           "sequential": [
            [
             0,
             "#0d0887"
            ],
            [
             0.1111111111111111,
             "#46039f"
            ],
            [
             0.2222222222222222,
             "#7201a8"
            ],
            [
             0.3333333333333333,
             "#9c179e"
            ],
            [
             0.4444444444444444,
             "#bd3786"
            ],
            [
             0.5555555555555556,
             "#d8576b"
            ],
            [
             0.6666666666666666,
             "#ed7953"
            ],
            [
             0.7777777777777778,
             "#fb9f3a"
            ],
            [
             0.8888888888888888,
             "#fdca26"
            ],
            [
             1,
             "#f0f921"
            ]
           ],
           "sequentialminus": [
            [
             0,
             "#0d0887"
            ],
            [
             0.1111111111111111,
             "#46039f"
            ],
            [
             0.2222222222222222,
             "#7201a8"
            ],
            [
             0.3333333333333333,
             "#9c179e"
            ],
            [
             0.4444444444444444,
             "#bd3786"
            ],
            [
             0.5555555555555556,
             "#d8576b"
            ],
            [
             0.6666666666666666,
             "#ed7953"
            ],
            [
             0.7777777777777778,
             "#fb9f3a"
            ],
            [
             0.8888888888888888,
             "#fdca26"
            ],
            [
             1,
             "#f0f921"
            ]
           ]
          },
          "colorway": [
           "#636efa",
           "#EF553B",
           "#00cc96",
           "#ab63fa",
           "#FFA15A",
           "#19d3f3",
           "#FF6692",
           "#B6E880",
           "#FF97FF",
           "#FECB52"
          ],
          "font": {
           "color": "#2a3f5f"
          },
          "geo": {
           "bgcolor": "white",
           "lakecolor": "white",
           "landcolor": "#E5ECF6",
           "showlakes": true,
           "showland": true,
           "subunitcolor": "white"
          },
          "hoverlabel": {
           "align": "left"
          },
          "hovermode": "closest",
          "mapbox": {
           "style": "light"
          },
          "paper_bgcolor": "white",
          "plot_bgcolor": "#E5ECF6",
          "polar": {
           "angularaxis": {
            "gridcolor": "white",
            "linecolor": "white",
            "ticks": ""
           },
           "bgcolor": "#E5ECF6",
           "radialaxis": {
            "gridcolor": "white",
            "linecolor": "white",
            "ticks": ""
           }
          },
          "scene": {
           "xaxis": {
            "backgroundcolor": "#E5ECF6",
            "gridcolor": "white",
            "gridwidth": 2,
            "linecolor": "white",
            "showbackground": true,
            "ticks": "",
            "zerolinecolor": "white"
           },
           "yaxis": {
            "backgroundcolor": "#E5ECF6",
            "gridcolor": "white",
            "gridwidth": 2,
            "linecolor": "white",
            "showbackground": true,
            "ticks": "",
            "zerolinecolor": "white"
           },
           "zaxis": {
            "backgroundcolor": "#E5ECF6",
            "gridcolor": "white",
            "gridwidth": 2,
            "linecolor": "white",
            "showbackground": true,
            "ticks": "",
            "zerolinecolor": "white"
           }
          },
          "shapedefaults": {
           "line": {
            "color": "#2a3f5f"
           }
          },
          "ternary": {
           "aaxis": {
            "gridcolor": "white",
            "linecolor": "white",
            "ticks": ""
           },
           "baxis": {
            "gridcolor": "white",
            "linecolor": "white",
            "ticks": ""
           },
           "bgcolor": "#E5ECF6",
           "caxis": {
            "gridcolor": "white",
            "linecolor": "white",
            "ticks": ""
           }
          },
          "title": {
           "x": 0.05
          },
          "xaxis": {
           "automargin": true,
           "gridcolor": "white",
           "linecolor": "white",
           "ticks": "",
           "title": {
            "standoff": 15
           },
           "zerolinecolor": "white",
           "zerolinewidth": 2
          },
          "yaxis": {
           "automargin": true,
           "gridcolor": "white",
           "linecolor": "white",
           "ticks": "",
           "title": {
            "standoff": 15
           },
           "zerolinecolor": "white",
           "zerolinewidth": 2
          }
         }
        },
        "title": {
         "text": "🔬 Análisis de Complejidad vs Rendimiento"
        },
        "xaxis": {
         "anchor": "y",
         "domain": [
          0,
          0.45
         ]
        },
        "xaxis2": {
         "anchor": "y2",
         "domain": [
          0.55,
          1
         ]
        },
        "xaxis3": {
         "anchor": "y3",
         "domain": [
          0,
          0.45
         ]
        },
        "xaxis4": {
         "anchor": "y4",
         "domain": [
          0.55,
          1
         ]
        },
        "yaxis": {
         "anchor": "x",
         "domain": [
          0.625,
          1
         ]
        },
        "yaxis2": {
         "anchor": "x2",
         "domain": [
          0.625,
          1
         ]
        },
        "yaxis3": {
         "anchor": "x3",
         "domain": [
          0,
          0.375
         ]
        },
        "yaxis4": {
         "anchor": "x4",
         "domain": [
          0,
          0.375
         ]
        }
       }
      }
     },
     "metadata": {},
     "output_type": "display_data"
    }
   ],
   "source": [
    "# Análisis de escalado\n",
    "print(\"\\nANÁLISIS DE CARACTERÍSTICAS TÉCNICAS\")\n",
    "print(\"=\"*60)\n",
    "\n",
    "# Impacto del escalado\n",
    "escalado_stats = df_completo.groupby('Usar_Escalado')['F1_Score'].agg(['count', 'mean', 'std']).round(4)\n",
    "print(\"\\n- Impacto del Escalado de Datos:\")\n",
    "print(escalado_stats)\n",
    "\n",
    "# Modelos con diferentes números de estimators\n",
    "modelos_ensemble = df_completo[df_completo['N_Estimators'] > 0]\n",
    "if len(modelos_ensemble) > 0:\n",
    "    print(f\"\\n- Modelos Ensemble (con estimators): {len(modelos_ensemble)}\")\n",
    "    print(f\"   Estimators promedio: {modelos_ensemble['N_Estimators'].mean():.1f}\")\n",
    "    print(f\"   F1 promedio: {modelos_ensemble['F1_Score'].mean():.4f}\")\n",
    "    \n",
    "    # Correlación entre n_estimators y rendimiento\n",
    "    corr_estimators = modelos_ensemble['N_Estimators'].corr(modelos_ensemble['F1_Score'])\n",
    "    print(f\"   Correlación estimators-F1: {corr_estimators:.3f}\")\n",
    "\n",
    "# Análisis de complejidad vs rendimiento\n",
    "fig_complexity = make_subplots(\n",
    "    rows=2, cols=2,\n",
    "    subplot_titles=[\n",
    "        'N_Estimators vs F1-Score',\n",
    "        'Support Vectors vs F1-Score', \n",
    "        'Features Activos vs F1-Score',\n",
    "        'Tiempo vs F1-Score por Escalado'\n",
    "    ]\n",
    ")\n",
    "\n",
    "# N_Estimators vs F1\n",
    "ensemble_data = df_completo[df_completo['N_Estimators'] > 0]\n",
    "if len(ensemble_data) > 0:\n",
    "    fig_complexity.add_trace(\n",
    "        go.Scatter(\n",
    "            x=ensemble_data['N_Estimators'],\n",
    "            y=ensemble_data['F1_Score'],\n",
    "            mode='markers',\n",
    "            text=ensemble_data['Nombre'],\n",
    "            name='Ensemble'\n",
    "        ),\n",
    "        row=1, col=1\n",
    "    )\n",
    "\n",
    "# Support Vectors vs F1\n",
    "svm_data = df_completo[df_completo['Support_Vectors'] > 0]\n",
    "if len(svm_data) > 0:\n",
    "    fig_complexity.add_trace(\n",
    "        go.Scatter(\n",
    "            x=svm_data['Support_Vectors'],\n",
    "            y=svm_data['F1_Score'],\n",
    "            mode='markers',\n",
    "            text=svm_data['Nombre'],\n",
    "            name='SVM'\n",
    "        ),\n",
    "        row=1, col=2\n",
    "    )\n",
    "\n",
    "# Features Activos vs F1\n",
    "linear_data = df_completo[df_completo['Features_Activos'] > 0]\n",
    "if len(linear_data) > 0:\n",
    "    fig_complexity.add_trace(\n",
    "        go.Scatter(\n",
    "            x=linear_data['Features_Activos'],\n",
    "            y=linear_data['F1_Score'],\n",
    "            mode='markers',\n",
    "            text=linear_data['Nombre'],\n",
    "            name='Lineales'\n",
    "        ),\n",
    "        row=2, col=1\n",
    "    )\n",
    "\n",
    "# Tiempo por escalado\n",
    "for escalado in [True, False]:\n",
    "    subset = df_completo[df_completo['Usar_Escalado'] == escalado]\n",
    "    fig_complexity.add_trace(\n",
    "        go.Scatter(\n",
    "            x=subset['Tiempo_Entrenamiento'],\n",
    "            y=subset['F1_Score'],\n",
    "            mode='markers',\n",
    "            name=f'Escalado: {escalado}',\n",
    "            text=subset['Nombre']\n",
    "        ),\n",
    "        row=2, col=2\n",
    "    )\n",
    "\n",
    "fig_complexity.update_layout(\n",
    "    height=800,\n",
    "    title_text='🔬 Análisis de Complejidad vs Rendimiento',\n",
    "    showlegend=True\n",
    ")\n",
    "\n",
    "fig_complexity.show()"
   ]
  },
  {
   "cell_type": "markdown",
   "metadata": {},
   "source": [
    "## Análisis de Parámetros e Importancia\n",
    "\n",
    "Esta sección incluye código reutilizable para analizar qué parámetros prioriza cada modelo."
   ]
  },
  {
   "cell_type": "code",
   "execution_count": 9,
   "metadata": {},
   "outputs": [],
   "source": [
    "def analizar_importancia_modelo(modelo_entrenado, X_test, y_test, nombre_modelo):\n",
    "    \"\"\"\n",
    "    Analiza qué características/parámetros prioriza un modelo específico.\n",
    "    Funciona con la mayoría de modelos de sklearn.\n",
    "    \"\"\"\n",
    "    import numpy as np\n",
    "    import pandas as pd\n",
    "    import plotly.express as px\n",
    "    import plotly.graph_objects as go\n",
    "    from plotly.subplots import make_subplots\n",
    "    \n",
    "    print(f\"\\n- ANÁLISIS DE IMPORTANCIA - {nombre_modelo}\")\n",
    "    print(\"-\" * 60)\n",
    "    \n",
    "    info_modelo = {\n",
    "        'nombre': nombre_modelo,\n",
    "        'tipo': type(modelo_entrenado).__name__,\n",
    "        'parametros': modelo_entrenado.get_params()\n",
    "    }\n",
    "    \n",
    "    # 1. Feature Importance (si está disponible)\n",
    "    if hasattr(modelo_entrenado, 'feature_importances_'):\n",
    "        importances = modelo_entrenado.feature_importances_\n",
    "        feature_names = [f'Feature_{i}' for i in range(len(importances))]\n",
    "        \n",
    "        # Top 15 features más importantes\n",
    "        top_indices = np.argsort(importances)[-15:]\n",
    "        top_importances = importances[top_indices]\n",
    "        top_names = [feature_names[i] for i in top_indices]\n",
    "        \n",
    "        print(f\"✓ Feature Importances disponibles\")\n",
    "        print(f\"  Top 5 features: {top_names[-5:]}\")\n",
    "        print(f\"  Importancias: {top_importances[-5:]}\")\n",
    "        \n",
    "        # Gráfica de importancias\n",
    "        fig_imp = px.bar(\n",
    "            x=top_importances,\n",
    "            y=top_names,\n",
    "            orientation='h',\n",
    "            title=f'Top 15 Feature Importances - {nombre_modelo}'\n",
    "        )\n",
    "        fig_imp.update_layout(yaxis={'categoryorder': 'total ascending'})\n",
    "        fig_imp.show()\n",
    "        \n",
    "        info_modelo['feature_importance_disponible'] = True\n",
    "        info_modelo['top_features'] = top_names[-5:]\n",
    "        \n",
    "    # 2. Coeficientes (modelos lineales)\n",
    "    elif hasattr(modelo_entrenado, 'coef_'):\n",
    "        coefs = modelo_entrenado.coef_[0] if len(modelo_entrenado.coef_.shape) > 1 else modelo_entrenado.coef_\n",
    "        feature_names = [f'Feature_{i}' for i in range(len(coefs))]\n",
    "        \n",
    "        # Top coeficientes por magnitud absoluta\n",
    "        top_indices = np.argsort(np.abs(coefs))[-15:]\n",
    "        top_coefs = coefs[top_indices]\n",
    "        top_names = [feature_names[i] for i in top_indices]\n",
    "        \n",
    "        print(f\"✓ Coeficientes disponibles\")\n",
    "        print(f\"  Top 5 coef (absoluto): {top_names[-5:]}\")\n",
    "        print(f\"  Valores: {top_coefs[-5:]}\")\n",
    "        \n",
    "        # Gráfica de coeficientes\n",
    "        fig_coef = px.bar(\n",
    "            x=top_coefs,\n",
    "            y=top_names,\n",
    "            orientation='h',\n",
    "            title=f'Top 15 Coeficientes - {nombre_modelo}',\n",
    "            color=top_coefs,\n",
    "            color_continuous_scale='RdBu_r'\n",
    "        )\n",
    "        fig_coef.update_layout(yaxis={'categoryorder': 'total ascending'})\n",
    "        fig_coef.show()\n",
    "        \n",
    "        info_modelo['coeficientes_disponibles'] = True\n",
    "        info_modelo['coef_max_abs'] = np.max(np.abs(coefs))\n",
    "        info_modelo['coef_mean_abs'] = np.mean(np.abs(coefs))\n",
    "        \n",
    "    # 3. Información específica del modelo\n",
    "    if hasattr(modelo_entrenado, 'n_estimators'):\n",
    "        print(f\"  N_estimators: {modelo_entrenado.n_estimators}\")\n",
    "        info_modelo['n_estimators'] = modelo_entrenado.n_estimators\n",
    "        \n",
    "    if hasattr(modelo_entrenado, 'max_depth'):\n",
    "        print(f\"  Max_depth: {modelo_entrenado.max_depth}\")\n",
    "        info_modelo['max_depth'] = modelo_entrenado.max_depth\n",
    "        \n",
    "    if hasattr(modelo_entrenado, 'C'):\n",
    "        print(f\"  Parámetro C: {modelo_entrenado.C}\")\n",
    "        info_modelo['C'] = modelo_entrenado.C\n",
    "        \n",
    "    if hasattr(modelo_entrenado, 'alpha'):\n",
    "        print(f\"  Parámetro alpha: {modelo_entrenado.alpha}\")\n",
    "        info_modelo['alpha'] = modelo_entrenado.alpha\n",
    "        \n",
    "    if hasattr(modelo_entrenado, 'learning_rate'):\n",
    "        print(f\"  Learning rate: {modelo_entrenado.learning_rate}\")\n",
    "        info_modelo['learning_rate'] = modelo_entrenado.learning_rate\n",
    "        \n",
    "    if hasattr(modelo_entrenado, 'n_neighbors'):\n",
    "        print(f\"  N_neighbors: {modelo_entrenado.n_neighbors}\")\n",
    "        info_modelo['n_neighbors'] = modelo_entrenado.n_neighbors\n",
    "    \n",
    "    # 4. Análisis de parámetros clave\n",
    "    print(f\"\\n- Parámetros del modelo:\")\n",
    "    parametros_importantes = {\n",
    "        'regularization': ['C', 'alpha', 'l1_ratio', 'penalty'],\n",
    "        'complexity': ['max_depth', 'n_estimators', 'n_neighbors', 'hidden_layer_sizes'],\n",
    "        'learning': ['learning_rate', 'solver', 'algorithm', 'kernel'],\n",
    "        'sampling': ['subsample', 'max_samples', 'bootstrap']\n",
    "    }\n",
    "    \n",
    "    for categoria, params in parametros_importantes.items():\n",
    "        valores_encontrados = {}\n",
    "        for param in params:\n",
    "            if hasattr(modelo_entrenado, param):\n",
    "                valores_encontrados[param] = getattr(modelo_entrenado, param)\n",
    "        \n",
    "        if valores_encontrados:\n",
    "            print(f\"  {categoria.capitalize()}: {valores_encontrados}\")\n",
    "            info_modelo[f'params_{categoria}'] = valores_encontrados\n",
    "    \n",
    "    return info_modelo\n",
    "\n",
    "# EJEMPLO DE USO:\n",
    "# info = analizar_importancia_modelo(modelo_entrenado, X_test, y_test, \"Mi Modelo\")\n",
    "# print(json.dumps(info, indent=2, default=str))\n"
   ]
  },
  {
   "cell_type": "code",
   "execution_count": 10,
   "metadata": {},
   "outputs": [
    {
     "name": "stdout",
     "output_type": "stream",
     "text": [
      "\n",
      "ANÁLISIS DE PARÁMETROS DE LOS MEJORES MODELOS\n",
      "======================================================================\n",
      "Error analizando Voting Soft (RF+DT+LR+NB): string indices must be integers, not 'str'\n",
      "\n",
      "1. NN Two Classic (100,50) (F1: 0.6956)\n",
      "   Categoría: Redes_Neuronales\n",
      "\n",
      "2. NN High Regularization (100,50) (F1: 0.6918)\n",
      "   Categoría: Redes_Neuronales\n",
      "\n",
      "3. NN Two Symmetric (80,80) (F1: 0.6902)\n",
      "   Categoría: Redes_Neuronales\n",
      "\n",
      "4. NN Tiny (50) (F1: 0.6894)\n",
      "   Categoría: Redes_Neuronales\n",
      "\n",
      "5. NN Small (100) (F1: 0.6873)\n",
      "   Categoría: Redes_Neuronales\n",
      "\n",
      "6. NN Diamond (80,120,80) (F1: 0.6869)\n",
      "   Categoría: Redes_Neuronales\n",
      "\n",
      "7. NN Deep Decreasing (150,100,50) (F1: 0.6858)\n",
      "   Categoría: Redes_Neuronales\n",
      "\n",
      "8. NN Deep Uniform (100,100,100) (F1: 0.6849)\n",
      "   Categoría: Redes_Neuronales\n",
      "\n",
      "9. NN Bottleneck (120,30) (F1: 0.6839)\n",
      "   Categoría: Redes_Neuronales\n"
     ]
    }
   ],
   "source": [
    "# Análisis de parámetros en los modelos actuales\n",
    "print(\"\\nANÁLISIS DE PARÁMETROS DE LOS MEJORES MODELOS\")\n",
    "print(\"=\"*70)\n",
    "\n",
    "# Analizar top 10 modelos\n",
    "top_10 = df_completo.sort_values('F1_Score', ascending=False).head(10)\n",
    "\n",
    "parametros_analysis = []\n",
    "\n",
    "for _, modelo in top_10.iterrows():\n",
    "    try:\n",
    "        parametros = json.loads(modelo['Parametros_JSON'])\n",
    "        \n",
    "        # Extraer parámetros clave\n",
    "        info_parametros = {\n",
    "            'Modelo': modelo['Nombre'],\n",
    "            'F1_Score': modelo['F1_Score'],\n",
    "            'Categoria': modelo['Categoria']\n",
    "        }\n",
    "        \n",
    "        # Parámetros de regularización\n",
    "        for param in ['C', 'alpha', 'l1_ratio', 'penalty']:\n",
    "            if param in parametros:\n",
    "                info_parametros[f'reg_{param}'] = parametros[param]\n",
    "        \n",
    "        # Parámetros de complejidad\n",
    "        for param in ['max_depth', 'n_estimators', 'n_neighbors', 'hidden_layer_sizes']:\n",
    "            if param in parametros:\n",
    "                info_parametros[f'comp_{param}'] = parametros[param]\n",
    "        \n",
    "        # Parámetros de aprendizaje\n",
    "        for param in ['learning_rate', 'solver', 'kernel', 'algorithm']:\n",
    "            if param in parametros:\n",
    "                info_parametros[f'learn_{param}'] = parametros[param]\n",
    "        \n",
    "        parametros_analysis.append(info_parametros)\n",
    "        \n",
    "    except Exception as e:\n",
    "        print(f\"Error analizando {modelo['Nombre']}: {e}\")\n",
    "\n",
    "# Mostrar análisis\n",
    "for i, params in enumerate(parametros_analysis, 1):\n",
    "    print(f\"\\n{i}. {params['Modelo']} (F1: {params['F1_Score']:.4f})\")\n",
    "    print(f\"   Categoría: {params['Categoria']}\")\n",
    "    \n",
    "    # Mostrar parámetros por tipo\n",
    "    for tipo in ['reg', 'comp', 'learn']:\n",
    "        params_tipo = {k.replace(f'{tipo}_', ''): v for k, v in params.items() if k.startswith(f'{tipo}_')}\n",
    "        if params_tipo:\n",
    "            tipo_nombre = {'reg': 'Regularización', 'comp': 'Complejidad', 'learn': 'Aprendizaje'}[tipo]\n",
    "            print(f\"   {tipo_nombre}: {params_tipo}\")"
   ]
  },
  {
   "cell_type": "markdown",
   "metadata": {},
   "source": [
    "## Análisis de Patrones y Recomendaciones\n",
    "\n",
    "Identifico patrones en los mejores modelos y genero recomendaciones."
   ]
  },
  {
   "cell_type": "code",
   "execution_count": 11,
   "metadata": {},
   "outputs": [
    {
     "name": "stdout",
     "output_type": "stream",
     "text": [
      "\n",
      "ANÁLISIS DE PATRONES EN MEJORES MODELOS\n",
      "======================================================================\n",
      "Analizando top 16 modelos (F1 >= 0.6811)\n",
      "\n",
      "- Distribución de mejores modelos por categoría:\n",
      "   Redes_Neuronales: 11 modelos (68.8%)\n",
      "   Otros_Algoritmos: 3 modelos (18.8%)\n",
      "   Ensemble: 2 modelos (12.5%)\n",
      "\n",
      "- Características comunes de mejores modelos:\n",
      "   Usan escalado: 12.5%\n",
      "   Tiempo promedio: 357.326s\n",
      "   ROC-AUC promedio: 0.7302\n",
      "\n",
      "- Comparación con otros modelos:\n",
      "   Mejores - Tiempo promedio: 357.326s\n",
      "   Otros - Tiempo promedio: 55.870s\n",
      "   Mejores - Usan escalado: 12.5%\n",
      "   Otros - Usan escalado: 25.8%\n"
     ]
    },
    {
     "data": {
      "application/vnd.plotly.v1+json": {
       "config": {
        "plotlyServerURL": "https://plot.ly"
       },
       "data": [
        {
         "name": "Top 20%",
         "opacity": 0.7,
         "type": "histogram",
         "x": {
          "bdata": "qkKxvKsP5j/5+6s8lf7lPzLb6attzeU/BWxyPSVC5j+Yhn/LWhbmP1jeciGP4uU/b/R5KFXy5T9LOEtfm+rlP70zML10++U/XGOZE2vP5T94AJ5kQyPmPyW6p8p2EeY/1ckDxtzh5T9xVJZd2tPlP2zPS+MV1eU/dLFPsWXU5T8=",
          "dtype": "f8"
         },
         "xaxis": "x",
         "yaxis": "y"
        },
        {
         "name": "Otros 80%",
         "opacity": 0.7,
         "type": "histogram",
         "x": {
          "bdata": "AAAAAAAAAAAAAAAAAAAAAAAAAAAAAAAAAAAAAAAAAAAAAAAAAAAAAAAAAAAAAAAAAAAAAAAAAAAAAAAAAAAAAAAAAAAAAAAAAAAAAAAAAAAAAAAAAAAAAMBelmssyOU/E6Wg0yP05D93m+N1V/TkPxALBHW79eQ/LSXzr8fy5D/EZP6CF/fkP4RV3h1a9OQ/nvc7Xibz5D+/hnjN8vLkP2moBzhe8eQ/7RGcrAr55D+x9JQwvszkP1FIAPWCoeQ/IjOKgWOI5D+0BfALKrjkP4XLFewl9eQ/KXgqRLlL4j8YhU9AL2LiP5uCRrC4TeI/PCcydO4N4j+glDhaHjLiP+98LV+JyOI/yYdGQQgQ5T80sGFLibvlP7YrYwDvwOU/zLOgA23b5D8YtLtAofXkPwwo0yzI/uQ/xktrC6/y5D/DOD03cSPlPyhHzYWn7OQ/Cf/9cQA85T8Sav21UWnlP69DdSlTVOU/8Smtnbjq5D+IoPJMeL3kP2wZrmpfSeQ/7hQCv41Q5T8AVBlh7xrlP8BtsdJVVOU/ujvp7qS74z9XmHyhicfkP2mU62G29+M/oV9mjKti5D8nCkG46rfjP2S60guxMOQ/+RJyiqUg5D+Gyup8e3/jPwQb9K4j8+Q/KnR6w17q5D/tRZer8k7kPw==",
          "dtype": "f8"
         },
         "xaxis": "x",
         "yaxis": "y"
        },
        {
         "name": "Top 20%",
         "opacity": 0.7,
         "showlegend": false,
         "type": "histogram",
         "x": {
          "bdata": "AAAAAZfiWEAAAKguE7+jQAAAAA5rKU1AAAAApsV2R0AAAAAg18hGQAAAAGOWuWlAAAAAdj3aU0AAAADZrB9QQAAAAAh1V1NAAAAAM0DdZkAAAAAA1mZCQAAAKMaNaqFAAAAAFs3sTkAAAAAALO7EPwAAAAAaUcU/AAAAAHQs8T8=",
          "dtype": "f8"
         },
         "xaxis": "x2",
         "yaxis": "y2"
        },
        {
         "name": "Otros 80%",
         "opacity": 0.7,
         "showlegend": false,
         "type": "histogram",
         "x": {
          "bdata": "AAAAgGCo7T8AAAAA4Ff5PwAAAMCb6Pw/AAAAAJ2J7j8AAADA30D2PwAAAMAAaAdAAAAA0E59EUAAAAAAAAAAAAAAAAAAAAAAAAAAmh6pRkAAAACQuCQZQAAAANxD40JAAAAA3E0rMUAAAADIdiEzQAAAABCfVCpAAAD4DQico0AAAACJcntvQAAAAOBHVABAAAAAAGj1uT8AAAAADuDCPwAAAABud8s/AAAAwO1z/z8AAADA0CD5PwAAAIBwZ/o/AAAAwN4n9z8AAABANO3+PwAAAEBLWvk/AAAAAAc/2z8AAAAAF9zbPwAAAABmIeA/AAAAAMGn0T8AAAAAcVDUPwAAAIAFUu0/AAAADu5aXEAAAACgbfAzQAAAAMBctghAAAAASI95NkAAAABsPYk2QAAAALBQXRNAAAAA2Ij5PUAAAACAB4IBQAAAAKAUAglAAAAAIEOrDEAAAAAuNedNQAAAAFDNBhVAAAAAAJz3tT8AAAAA4Ji3PwAAAABYesU/AAAAAAjCuj8AAAATy0BoQAAAAAB0bLA/AAAAAJCQwD8AAAAAAGSdPwAAAACgbZU/AAAAQMYNBkAAAAAAQuUSQAAAAMAafw5AAAAAkEeUEEAAAAAAKG/FPwAAAACqLuw/AAAAAHQ52z8AAADE8NU/QA==",
          "dtype": "f8"
         },
         "xaxis": "x2",
         "yaxis": "y2"
        },
        {
         "name": "Top 20%",
         "opacity": 0.7,
         "showlegend": false,
         "type": "histogram",
         "x": {
          "bdata": "Y7I4G8LL5z/TF4Im39TnPxp0zhDc0Oc/BHoy9W0D6D88Azn8xBDoP1BL9K9l/+c/7JKPpKpB6D+i1u1dSiHoP9dA/pXjEeg/z1wGWe+55z+8qpD3ACroP3+64iDkn+Y/SOBOVs7t5z8qjiSQggnlP9WN4p104+Q/ViE4eZeI5T8=",
          "dtype": "f8"
         },
         "xaxis": "x3",
         "yaxis": "y3"
        },
        {
         "name": "Otros 80%",
         "opacity": 0.7,
         "showlegend": false,
         "type": "histogram",
         "x": {
          "bdata": "AAAAAAAAAAAAAAAAAAAAAAAAAAAAAAAAAAAAAAAAAAAAAAAAAAAAAAAAAAAAAAAAAAAAAAAAAAAAAAAAAAAAAAAAAAAAAAAAAAAAAAAAAAAAAAAAAAAAABBsp3cs2Oc/JFg/L70g5j/rrH422iDmP4xWekwRIOY/jNaxdpIg5j/c2tZF2h7mP8zcx7yqIOY/X3A+h3YV5j/5NwLdehXmP4iNX9tHFeY//rEwnEsU5j+ARIxlYKjlP8/Z43jNmeU/Aje5AYvL5T8QmbUWKNHlP50bkODfH+Y/9GQHERYz4j8SwrGJtkjiPw3En/g2OOI/lJlTDTOC4j8rGZO/2f3iP++gx6/ij+M/AAAAAAAAAADMraABD77nP0CLJ2W5weU/1PtdXna/5j8Y/c9BPiDmPyGcVPupzOY/BN6ScN3F5D+1xx1x8UXmP9ISVtyQ8OU/DpuODPqs5j/xp4J+SDfnP6pkJd4eTec/Js4Xe/Fq5j8JsWHz+f3lP+jhUb3lBOc/EKl1BY0p5z8aK+pCp/XmP5JSrZBxYuc/vrrC6Ri35D9guHOLah/lP2C4c4tqH+U/kAhcLaPl5T/WM62PMqPkPyYhb36X9OU/RozIIPui5T+1iBZ+zi7kP3QJWKF6FeY/AMeLjmMH5j8uljadrKLlPw==",
          "dtype": "f8"
         },
         "xaxis": "x3",
         "yaxis": "y3"
        },
        {
         "name": "Top 20%",
         "opacity": 0.7,
         "showlegend": false,
         "type": "bar",
         "x": [
          "No Escalado",
          "Escalado"
         ],
         "xaxis": "x4",
         "y": [
          14,
          2
         ],
         "yaxis": "y4"
        },
        {
         "name": "Otros 80%",
         "opacity": 0.7,
         "showlegend": false,
         "type": "bar",
         "x": [
          "No Escalado",
          "Escalado"
         ],
         "xaxis": "x4",
         "y": [
          46,
          16
         ],
         "yaxis": "y4"
        }
       ],
       "layout": {
        "annotations": [
         {
          "font": {
           "size": 16
          },
          "showarrow": false,
          "text": "Distribución F1-Score",
          "x": 0.225,
          "xanchor": "center",
          "xref": "paper",
          "y": 1,
          "yanchor": "bottom",
          "yref": "paper"
         },
         {
          "font": {
           "size": 16
          },
          "showarrow": false,
          "text": "Tiempo de Entrenamiento",
          "x": 0.775,
          "xanchor": "center",
          "xref": "paper",
          "y": 1,
          "yanchor": "bottom",
          "yref": "paper"
         },
         {
          "font": {
           "size": 16
          },
          "showarrow": false,
          "text": "ROC-AUC Distribution",
          "x": 0.225,
          "xanchor": "center",
          "xref": "paper",
          "y": 0.375,
          "yanchor": "bottom",
          "yref": "paper"
         },
         {
          "font": {
           "size": 16
          },
          "showarrow": false,
          "text": "Uso de Escalado",
          "x": 0.775,
          "xanchor": "center",
          "xref": "paper",
          "y": 0.375,
          "yanchor": "bottom",
          "yref": "paper"
         }
        ],
        "height": 800,
        "template": {
         "data": {
          "bar": [
           {
            "error_x": {
             "color": "#2a3f5f"
            },
            "error_y": {
             "color": "#2a3f5f"
            },
            "marker": {
             "line": {
              "color": "#E5ECF6",
              "width": 0.5
             },
             "pattern": {
              "fillmode": "overlay",
              "size": 10,
              "solidity": 0.2
             }
            },
            "type": "bar"
           }
          ],
          "barpolar": [
           {
            "marker": {
             "line": {
              "color": "#E5ECF6",
              "width": 0.5
             },
             "pattern": {
              "fillmode": "overlay",
              "size": 10,
              "solidity": 0.2
             }
            },
            "type": "barpolar"
           }
          ],
          "carpet": [
           {
            "aaxis": {
             "endlinecolor": "#2a3f5f",
             "gridcolor": "white",
             "linecolor": "white",
             "minorgridcolor": "white",
             "startlinecolor": "#2a3f5f"
            },
            "baxis": {
             "endlinecolor": "#2a3f5f",
             "gridcolor": "white",
             "linecolor": "white",
             "minorgridcolor": "white",
             "startlinecolor": "#2a3f5f"
            },
            "type": "carpet"
           }
          ],
          "choropleth": [
           {
            "colorbar": {
             "outlinewidth": 0,
             "ticks": ""
            },
            "type": "choropleth"
           }
          ],
          "contour": [
           {
            "colorbar": {
             "outlinewidth": 0,
             "ticks": ""
            },
            "colorscale": [
             [
              0,
              "#0d0887"
             ],
             [
              0.1111111111111111,
              "#46039f"
             ],
             [
              0.2222222222222222,
              "#7201a8"
             ],
             [
              0.3333333333333333,
              "#9c179e"
             ],
             [
              0.4444444444444444,
              "#bd3786"
             ],
             [
              0.5555555555555556,
              "#d8576b"
             ],
             [
              0.6666666666666666,
              "#ed7953"
             ],
             [
              0.7777777777777778,
              "#fb9f3a"
             ],
             [
              0.8888888888888888,
              "#fdca26"
             ],
             [
              1,
              "#f0f921"
             ]
            ],
            "type": "contour"
           }
          ],
          "contourcarpet": [
           {
            "colorbar": {
             "outlinewidth": 0,
             "ticks": ""
            },
            "type": "contourcarpet"
           }
          ],
          "heatmap": [
           {
            "colorbar": {
             "outlinewidth": 0,
             "ticks": ""
            },
            "colorscale": [
             [
              0,
              "#0d0887"
             ],
             [
              0.1111111111111111,
              "#46039f"
             ],
             [
              0.2222222222222222,
              "#7201a8"
             ],
             [
              0.3333333333333333,
              "#9c179e"
             ],
             [
              0.4444444444444444,
              "#bd3786"
             ],
             [
              0.5555555555555556,
              "#d8576b"
             ],
             [
              0.6666666666666666,
              "#ed7953"
             ],
             [
              0.7777777777777778,
              "#fb9f3a"
             ],
             [
              0.8888888888888888,
              "#fdca26"
             ],
             [
              1,
              "#f0f921"
             ]
            ],
            "type": "heatmap"
           }
          ],
          "histogram": [
           {
            "marker": {
             "pattern": {
              "fillmode": "overlay",
              "size": 10,
              "solidity": 0.2
             }
            },
            "type": "histogram"
           }
          ],
          "histogram2d": [
           {
            "colorbar": {
             "outlinewidth": 0,
             "ticks": ""
            },
            "colorscale": [
             [
              0,
              "#0d0887"
             ],
             [
              0.1111111111111111,
              "#46039f"
             ],
             [
              0.2222222222222222,
              "#7201a8"
             ],
             [
              0.3333333333333333,
              "#9c179e"
             ],
             [
              0.4444444444444444,
              "#bd3786"
             ],
             [
              0.5555555555555556,
              "#d8576b"
             ],
             [
              0.6666666666666666,
              "#ed7953"
             ],
             [
              0.7777777777777778,
              "#fb9f3a"
             ],
             [
              0.8888888888888888,
              "#fdca26"
             ],
             [
              1,
              "#f0f921"
             ]
            ],
            "type": "histogram2d"
           }
          ],
          "histogram2dcontour": [
           {
            "colorbar": {
             "outlinewidth": 0,
             "ticks": ""
            },
            "colorscale": [
             [
              0,
              "#0d0887"
             ],
             [
              0.1111111111111111,
              "#46039f"
             ],
             [
              0.2222222222222222,
              "#7201a8"
             ],
             [
              0.3333333333333333,
              "#9c179e"
             ],
             [
              0.4444444444444444,
              "#bd3786"
             ],
             [
              0.5555555555555556,
              "#d8576b"
             ],
             [
              0.6666666666666666,
              "#ed7953"
             ],
             [
              0.7777777777777778,
              "#fb9f3a"
             ],
             [
              0.8888888888888888,
              "#fdca26"
             ],
             [
              1,
              "#f0f921"
             ]
            ],
            "type": "histogram2dcontour"
           }
          ],
          "mesh3d": [
           {
            "colorbar": {
             "outlinewidth": 0,
             "ticks": ""
            },
            "type": "mesh3d"
           }
          ],
          "parcoords": [
           {
            "line": {
             "colorbar": {
              "outlinewidth": 0,
              "ticks": ""
             }
            },
            "type": "parcoords"
           }
          ],
          "pie": [
           {
            "automargin": true,
            "type": "pie"
           }
          ],
          "scatter": [
           {
            "fillpattern": {
             "fillmode": "overlay",
             "size": 10,
             "solidity": 0.2
            },
            "type": "scatter"
           }
          ],
          "scatter3d": [
           {
            "line": {
             "colorbar": {
              "outlinewidth": 0,
              "ticks": ""
             }
            },
            "marker": {
             "colorbar": {
              "outlinewidth": 0,
              "ticks": ""
             }
            },
            "type": "scatter3d"
           }
          ],
          "scattercarpet": [
           {
            "marker": {
             "colorbar": {
              "outlinewidth": 0,
              "ticks": ""
             }
            },
            "type": "scattercarpet"
           }
          ],
          "scattergeo": [
           {
            "marker": {
             "colorbar": {
              "outlinewidth": 0,
              "ticks": ""
             }
            },
            "type": "scattergeo"
           }
          ],
          "scattergl": [
           {
            "marker": {
             "colorbar": {
              "outlinewidth": 0,
              "ticks": ""
             }
            },
            "type": "scattergl"
           }
          ],
          "scattermap": [
           {
            "marker": {
             "colorbar": {
              "outlinewidth": 0,
              "ticks": ""
             }
            },
            "type": "scattermap"
           }
          ],
          "scattermapbox": [
           {
            "marker": {
             "colorbar": {
              "outlinewidth": 0,
              "ticks": ""
             }
            },
            "type": "scattermapbox"
           }
          ],
          "scatterpolar": [
           {
            "marker": {
             "colorbar": {
              "outlinewidth": 0,
              "ticks": ""
             }
            },
            "type": "scatterpolar"
           }
          ],
          "scatterpolargl": [
           {
            "marker": {
             "colorbar": {
              "outlinewidth": 0,
              "ticks": ""
             }
            },
            "type": "scatterpolargl"
           }
          ],
          "scatterternary": [
           {
            "marker": {
             "colorbar": {
              "outlinewidth": 0,
              "ticks": ""
             }
            },
            "type": "scatterternary"
           }
          ],
          "surface": [
           {
            "colorbar": {
             "outlinewidth": 0,
             "ticks": ""
            },
            "colorscale": [
             [
              0,
              "#0d0887"
             ],
             [
              0.1111111111111111,
              "#46039f"
             ],
             [
              0.2222222222222222,
              "#7201a8"
             ],
             [
              0.3333333333333333,
              "#9c179e"
             ],
             [
              0.4444444444444444,
              "#bd3786"
             ],
             [
              0.5555555555555556,
              "#d8576b"
             ],
             [
              0.6666666666666666,
              "#ed7953"
             ],
             [
              0.7777777777777778,
              "#fb9f3a"
             ],
             [
              0.8888888888888888,
              "#fdca26"
             ],
             [
              1,
              "#f0f921"
             ]
            ],
            "type": "surface"
           }
          ],
          "table": [
           {
            "cells": {
             "fill": {
              "color": "#EBF0F8"
             },
             "line": {
              "color": "white"
             }
            },
            "header": {
             "fill": {
              "color": "#C8D4E3"
             },
             "line": {
              "color": "white"
             }
            },
            "type": "table"
           }
          ]
         },
         "layout": {
          "annotationdefaults": {
           "arrowcolor": "#2a3f5f",
           "arrowhead": 0,
           "arrowwidth": 1
          },
          "autotypenumbers": "strict",
          "coloraxis": {
           "colorbar": {
            "outlinewidth": 0,
            "ticks": ""
           }
          },
          "colorscale": {
           "diverging": [
            [
             0,
             "#8e0152"
            ],
            [
             0.1,
             "#c51b7d"
            ],
            [
             0.2,
             "#de77ae"
            ],
            [
             0.3,
             "#f1b6da"
            ],
            [
             0.4,
             "#fde0ef"
            ],
            [
             0.5,
             "#f7f7f7"
            ],
            [
             0.6,
             "#e6f5d0"
            ],
            [
             0.7,
             "#b8e186"
            ],
            [
             0.8,
             "#7fbc41"
            ],
            [
             0.9,
             "#4d9221"
            ],
            [
             1,
             "#276419"
            ]
           ],
           "sequential": [
            [
             0,
             "#0d0887"
            ],
            [
             0.1111111111111111,
             "#46039f"
            ],
            [
             0.2222222222222222,
             "#7201a8"
            ],
            [
             0.3333333333333333,
             "#9c179e"
            ],
            [
             0.4444444444444444,
             "#bd3786"
            ],
            [
             0.5555555555555556,
             "#d8576b"
            ],
            [
             0.6666666666666666,
             "#ed7953"
            ],
            [
             0.7777777777777778,
             "#fb9f3a"
            ],
            [
             0.8888888888888888,
             "#fdca26"
            ],
            [
             1,
             "#f0f921"
            ]
           ],
           "sequentialminus": [
            [
             0,
             "#0d0887"
            ],
            [
             0.1111111111111111,
             "#46039f"
            ],
            [
             0.2222222222222222,
             "#7201a8"
            ],
            [
             0.3333333333333333,
             "#9c179e"
            ],
            [
             0.4444444444444444,
             "#bd3786"
            ],
            [
             0.5555555555555556,
             "#d8576b"
            ],
            [
             0.6666666666666666,
             "#ed7953"
            ],
            [
             0.7777777777777778,
             "#fb9f3a"
            ],
            [
             0.8888888888888888,
             "#fdca26"
            ],
            [
             1,
             "#f0f921"
            ]
           ]
          },
          "colorway": [
           "#636efa",
           "#EF553B",
           "#00cc96",
           "#ab63fa",
           "#FFA15A",
           "#19d3f3",
           "#FF6692",
           "#B6E880",
           "#FF97FF",
           "#FECB52"
          ],
          "font": {
           "color": "#2a3f5f"
          },
          "geo": {
           "bgcolor": "white",
           "lakecolor": "white",
           "landcolor": "#E5ECF6",
           "showlakes": true,
           "showland": true,
           "subunitcolor": "white"
          },
          "hoverlabel": {
           "align": "left"
          },
          "hovermode": "closest",
          "mapbox": {
           "style": "light"
          },
          "paper_bgcolor": "white",
          "plot_bgcolor": "#E5ECF6",
          "polar": {
           "angularaxis": {
            "gridcolor": "white",
            "linecolor": "white",
            "ticks": ""
           },
           "bgcolor": "#E5ECF6",
           "radialaxis": {
            "gridcolor": "white",
            "linecolor": "white",
            "ticks": ""
           }
          },
          "scene": {
           "xaxis": {
            "backgroundcolor": "#E5ECF6",
            "gridcolor": "white",
            "gridwidth": 2,
            "linecolor": "white",
            "showbackground": true,
            "ticks": "",
            "zerolinecolor": "white"
           },
           "yaxis": {
            "backgroundcolor": "#E5ECF6",
            "gridcolor": "white",
            "gridwidth": 2,
            "linecolor": "white",
            "showbackground": true,
            "ticks": "",
            "zerolinecolor": "white"
           },
           "zaxis": {
            "backgroundcolor": "#E5ECF6",
            "gridcolor": "white",
            "gridwidth": 2,
            "linecolor": "white",
            "showbackground": true,
            "ticks": "",
            "zerolinecolor": "white"
           }
          },
          "shapedefaults": {
           "line": {
            "color": "#2a3f5f"
           }
          },
          "ternary": {
           "aaxis": {
            "gridcolor": "white",
            "linecolor": "white",
            "ticks": ""
           },
           "baxis": {
            "gridcolor": "white",
            "linecolor": "white",
            "ticks": ""
           },
           "bgcolor": "#E5ECF6",
           "caxis": {
            "gridcolor": "white",
            "linecolor": "white",
            "ticks": ""
           }
          },
          "title": {
           "x": 0.05
          },
          "xaxis": {
           "automargin": true,
           "gridcolor": "white",
           "linecolor": "white",
           "ticks": "",
           "title": {
            "standoff": 15
           },
           "zerolinecolor": "white",
           "zerolinewidth": 2
          },
          "yaxis": {
           "automargin": true,
           "gridcolor": "white",
           "linecolor": "white",
           "ticks": "",
           "title": {
            "standoff": 15
           },
           "zerolinecolor": "white",
           "zerolinewidth": 2
          }
         }
        },
        "title": {
         "text": "- Comparación: Mejores Modelos vs Resto"
        },
        "xaxis": {
         "anchor": "y",
         "domain": [
          0,
          0.45
         ]
        },
        "xaxis2": {
         "anchor": "y2",
         "domain": [
          0.55,
          1
         ]
        },
        "xaxis3": {
         "anchor": "y3",
         "domain": [
          0,
          0.45
         ]
        },
        "xaxis4": {
         "anchor": "y4",
         "domain": [
          0.55,
          1
         ]
        },
        "yaxis": {
         "anchor": "x",
         "domain": [
          0.625,
          1
         ]
        },
        "yaxis2": {
         "anchor": "x2",
         "domain": [
          0.625,
          1
         ]
        },
        "yaxis3": {
         "anchor": "x3",
         "domain": [
          0,
          0.375
         ]
        },
        "yaxis4": {
         "anchor": "x4",
         "domain": [
          0,
          0.375
         ]
        }
       }
      }
     },
     "metadata": {},
     "output_type": "display_data"
    }
   ],
   "source": [
    "# Análisis de patrones en mejores modelos\n",
    "print(\"\\nANÁLISIS DE PATRONES EN MEJORES MODELOS\")\n",
    "print(\"=\"*70)\n",
    "\n",
    "# Top 20% de modelos\n",
    "threshold_top = df_completo['F1_Score'].quantile(0.8)\n",
    "mejores_modelos = df_completo[df_completo['F1_Score'] >= threshold_top]\n",
    "\n",
    "print(f\"Analizando top {len(mejores_modelos)} modelos (F1 >= {threshold_top:.4f})\")\n",
    "\n",
    "# Patrones por categoría\n",
    "print(\"\\n- Distribución de mejores modelos por categoría:\")\n",
    "distribucion_mejores = mejores_modelos['Categoria'].value_counts()\n",
    "for categoria, count in distribucion_mejores.items():\n",
    "    porcentaje = (count / len(mejores_modelos)) * 100\n",
    "    print(f\"   {categoria}: {count} modelos ({porcentaje:.1f}%)\")\n",
    "\n",
    "# Características comunes de mejores modelos\n",
    "print(\"\\n- Características comunes de mejores modelos:\")\n",
    "print(f\"   Usan escalado: {mejores_modelos['Usar_Escalado'].mean()*100:.1f}%\")\n",
    "print(f\"   Tiempo promedio: {mejores_modelos['Tiempo_Entrenamiento'].mean():.3f}s\")\n",
    "print(f\"   ROC-AUC promedio: {mejores_modelos['ROC_AUC'].mean():.4f}\")\n",
    "\n",
    "# Comparar con modelos regulares\n",
    "otros_modelos = df_completo[df_completo['F1_Score'] < threshold_top]\n",
    "print(f\"\\n- Comparación con otros modelos:\")\n",
    "print(f\"   Mejores - Tiempo promedio: {mejores_modelos['Tiempo_Entrenamiento'].mean():.3f}s\")\n",
    "print(f\"   Otros - Tiempo promedio: {otros_modelos['Tiempo_Entrenamiento'].mean():.3f}s\")\n",
    "print(f\"   Mejores - Usan escalado: {mejores_modelos['Usar_Escalado'].mean()*100:.1f}%\")\n",
    "print(f\"   Otros - Usan escalado: {otros_modelos['Usar_Escalado'].mean()*100:.1f}%\")\n",
    "\n",
    "# Gráfica de comparación\n",
    "fig_comparison = make_subplots(\n",
    "    rows=2, cols=2,\n",
    "    subplot_titles=[\n",
    "        'Distribución F1-Score',\n",
    "        'Tiempo de Entrenamiento', \n",
    "        'ROC-AUC Distribution',\n",
    "        'Uso de Escalado'\n",
    "    ]\n",
    ")\n",
    "\n",
    "# F1-Score distribution\n",
    "fig_comparison.add_trace(\n",
    "    go.Histogram(x=mejores_modelos['F1_Score'], name='Top 20%', opacity=0.7),\n",
    "    row=1, col=1\n",
    ")\n",
    "fig_comparison.add_trace(\n",
    "    go.Histogram(x=otros_modelos['F1_Score'], name='Otros 80%', opacity=0.7),\n",
    "    row=1, col=1\n",
    ")\n",
    "\n",
    "# Tiempo distribution  \n",
    "fig_comparison.add_trace(\n",
    "    go.Histogram(x=mejores_modelos['Tiempo_Entrenamiento'], name='Top 20%', opacity=0.7, showlegend=False),\n",
    "    row=1, col=2\n",
    ")\n",
    "fig_comparison.add_trace(\n",
    "    go.Histogram(x=otros_modelos['Tiempo_Entrenamiento'], name='Otros 80%', opacity=0.7, showlegend=False),\n",
    "    row=1, col=2\n",
    ")\n",
    "\n",
    "# ROC-AUC distribution\n",
    "fig_comparison.add_trace(\n",
    "    go.Histogram(x=mejores_modelos['ROC_AUC'], name='Top 20%', opacity=0.7, showlegend=False),\n",
    "    row=2, col=1\n",
    ")\n",
    "fig_comparison.add_trace(\n",
    "    go.Histogram(x=otros_modelos['ROC_AUC'], name='Otros 80%', opacity=0.7, showlegend=False),\n",
    "    row=2, col=1\n",
    ")\n",
    "\n",
    "# Uso de escalado\n",
    "escalado_mejores = mejores_modelos['Usar_Escalado'].value_counts()\n",
    "escalado_otros = otros_modelos['Usar_Escalado'].value_counts()\n",
    "\n",
    "fig_comparison.add_trace(\n",
    "    go.Bar(x=['No Escalado', 'Escalado'], y=[escalado_mejores.get(False, 0), escalado_mejores.get(True, 0)], \n",
    "           name='Top 20%', opacity=0.7, showlegend=False),\n",
    "    row=2, col=2\n",
    ")\n",
    "fig_comparison.add_trace(\n",
    "    go.Bar(x=['No Escalado', 'Escalado'], y=[escalado_otros.get(False, 0), escalado_otros.get(True, 0)], \n",
    "           name='Otros 80%', opacity=0.7, showlegend=False),\n",
    "    row=2, col=2\n",
    ")\n",
    "\n",
    "fig_comparison.update_layout(\n",
    "    height=800,\n",
    "    title_text='- Comparación: Mejores Modelos vs Resto'\n",
    ")\n",
    "\n",
    "fig_comparison.show()"
   ]
  },
  {
   "cell_type": "markdown",
   "metadata": {},
   "source": [
    "## Recomendaciones Finales\n",
    "\n",
    "Genero recomendaciones basadas en todo el análisis."
   ]
  },
  {
   "cell_type": "code",
   "execution_count": 12,
   "metadata": {},
   "outputs": [
    {
     "name": "stdout",
     "output_type": "stream",
     "text": [
      "\n",
      "====================================================================================================\n",
      "RECOMENDACIONES FINALES BASADAS EN ANÁLISIS COMPLETO\n",
      "====================================================================================================\n",
      "\n",
      "- TOP 5 MODELOS RECOMENDADOS (rendimiento absoluto):\n",
      "   1. NN Two Classic (100,50) - F1: 0.6956 | ROC: 0.7504 | Tiempo: 46.928s\n",
      "   2. NN High Regularization (100,50) - F1: 0.6918 | ROC: 0.7551 | Tiempo: 36.803s\n",
      "   3. NN Two Symmetric (80,80) - F1: 0.6902 | ROC: 0.7520 | Tiempo: 45.569s\n",
      "   4. Voting Soft (RF+DT+LR+NB) - F1: 0.6896 | ROC: 0.7070 | Tiempo: 2229.277s\n",
      "   5. NN Tiny (50) - F1: 0.6894 | ROC: 0.7436 | Tiempo: 99.540s\n",
      "\n",
      "- TOP 5 MODELOS EFICIENTES (mejor ratio rendimiento/tiempo):\n",
      "   1. Naive Bayes Complement - Ratio: 28.5 | F1: 0.6240 | Tiempo: 0.021s\n",
      "   2. Naive Bayes Multinomial - Ratio: 21.9 | F1: 0.6494 | Tiempo: 0.029s\n",
      "   3. KNN k=15 Distance - Ratio: 10.2 | F1: 0.6665 | Tiempo: 0.064s\n",
      "   4. KNN k=5 Uniform - Ratio: 7.5 | F1: 0.6537 | Tiempo: 0.086s\n",
      "   5. KNN k=3 Distance Weight - Ratio: 7.0 | F1: 0.6481 | Tiempo: 0.092s\n",
      "\n",
      "- RECOMENDACIONES POR CASO DE USO:\n",
      "\n",
      "- Para PRODUCCIÓN (buen rendimiento + rápido):\n",
      "   • Naive Bayes Gaussian Low Smooth - F1: 0.6823, Tiempo: 0.167s\n",
      "\n",
      "- Para MÁXIMO RENDIMIENTO (sin restricción de tiempo):\n",
      "   • NN Two Classic (100,50) - F1: 0.6956, ROC: 0.7504\n",
      "   • NN High Regularization (100,50) - F1: 0.6918, ROC: 0.7551\n",
      "   • NN Two Symmetric (80,80) - F1: 0.6902, ROC: 0.7520\n",
      "\n",
      "- Para PROTOTIPADO RÁPIDO (< 1s, buen rendimiento):\n",
      "   • Naive Bayes Gaussian Low Smooth - F1: 0.6823, Tiempo: 0.167s\n",
      "   • Naive Bayes Gaussian - F1: 0.6821, Tiempo: 0.164s\n",
      "   • KNN k=15 Distance - F1: 0.6665, Tiempo: 0.064s\n",
      "\n",
      "- INSIGHTS POR CATEGORÍA:\n",
      "\n",
      "   - Boosting:\n",
      "      Mejor modelo: XGBoost Conservative (F1: 0.0000)\n",
      "      Promedio categoría: F1 0.0000, Tiempo 5.961s\n",
      "      Recomendación: Considerar otros algoritmos\n",
      "\n",
      "   - Redes_Neuronales:\n",
      "      Mejor modelo: NN Two Classic (100,50) (F1: 0.6956)\n",
      "      Promedio categoría: F1 0.6866, Tiempo 288.539s\n",
      "      Recomendación: Excelente para este dataset\n",
      "\n",
      "   - Modelos_Lineales:\n",
      "      Mejor modelo: Ridge Classifier CV (mejor alpha) (F1: 0.6554)\n",
      "      Promedio categoría: F1 0.6298, Tiempo 134.613s\n",
      "      Recomendación: Considerar otros algoritmos\n",
      "\n",
      "   - Ensemble:\n",
      "      Mejor modelo: Voting Soft (RF+DT+LR+NB) (F1: 0.6896)\n",
      "      Promedio categoría: F1 0.6658, Tiempo 184.383s\n",
      "      Recomendación: Excelente para este dataset\n",
      "\n",
      "   - Otros_Algoritmos:\n",
      "      Mejor modelo: Naive Bayes Gaussian Low Smooth (F1: 0.6823)\n",
      "      Promedio categoría: F1 0.6465, Tiempo 12.243s\n",
      "      Recomendación: Considerar otros algoritmos\n",
      "\n",
      "/  ANÁLISIS COMPLETADO\n",
      "   - 78 modelos analizados\n",
      "   - Mejor F1-Score: 0.6956\n",
      "   - Mejor ratio eficiencia: 28.5\n",
      "   - Resultados guardados en ../models/\n",
      "\n",
      "====================================================================================================\n",
      "/ PRÓXIMOS PASOS RECOMENDADOS:\n",
      "   1. Implementar los top 3 modelos en producción\n",
      "   2. Hacer análisis con datos winsorizing para comparar\n",
      "   3. Optimizar hiperparámetros de los mejores modelos\n",
      "   4. Evaluar ensemble de los top 5 modelos\n",
      "====================================================================================================\n"
     ]
    }
   ],
   "source": [
    "# Generar recomendaciones finales\n",
    "print(\"\\n\" + \"=\"*100)\n",
    "print(\"RECOMENDACIONES FINALES BASADAS EN ANÁLISIS COMPLETO\")\n",
    "print(\"=\"*100)\n",
    "\n",
    "# Top 5 modelos absolutos\n",
    "top_5_global = df_completo.sort_values('F1_Score', ascending=False).head(5)\n",
    "print(\"\\n- TOP 5 MODELOS RECOMENDADOS (rendimiento absoluto):\")\n",
    "for i, (_, modelo) in enumerate(top_5_global.iterrows(), 1):\n",
    "    print(f\"   {i}. {modelo['Nombre']} - F1: {modelo['F1_Score']:.4f} | ROC: {modelo['ROC_AUC']:.4f} | Tiempo: {modelo['Tiempo_Entrenamiento']:.3f}s\")\n",
    "\n",
    "# Top 5 por eficiencia\n",
    "top_5_eficiencia = df_completo.sort_values('Ratio_Eficiencia', ascending=False).head(5)\n",
    "print(\"\\n- TOP 5 MODELOS EFICIENTES (mejor ratio rendimiento/tiempo):\")\n",
    "for i, (_, modelo) in enumerate(top_5_eficiencia.iterrows(), 1):\n",
    "    print(f\"   {i}. {modelo['Nombre']} - Ratio: {modelo['Ratio_Eficiencia']:.1f} | F1: {modelo['F1_Score']:.4f} | Tiempo: {modelo['Tiempo_Entrenamiento']:.3f}s\")\n",
    "\n",
    "# Recomendaciones por caso de uso\n",
    "print(\"\\n- RECOMENDACIONES POR CASO DE USO:\")\n",
    "\n",
    "# Para producción (balance rendimiento-velocidad)\n",
    "prod_candidates = df_completo[\n",
    "    (df_completo['F1_Score'] > df_completo['F1_Score'].quantile(0.85)) &\n",
    "    (df_completo['Tiempo_Entrenamiento'] < df_completo['Tiempo_Entrenamiento'].median())\n",
    "].sort_values('F1_Score', ascending=False)\n",
    "\n",
    "print(\"\\n- Para PRODUCCIÓN (buen rendimiento + rápido):\")\n",
    "for _, modelo in prod_candidates.head(3).iterrows():\n",
    "    print(f\"   • {modelo['Nombre']} - F1: {modelo['F1_Score']:.4f}, Tiempo: {modelo['Tiempo_Entrenamiento']:.3f}s\")\n",
    "\n",
    "# Para máximo rendimiento\n",
    "print(\"\\n- Para MÁXIMO RENDIMIENTO (sin restricción de tiempo):\")\n",
    "for _, modelo in top_5_global.head(3).iterrows():\n",
    "    print(f\"   • {modelo['Nombre']} - F1: {modelo['F1_Score']:.4f}, ROC: {modelo['ROC_AUC']:.4f}\")\n",
    "\n",
    "# Para prototipado rápido\n",
    "rapidos = df_completo[\n",
    "    (df_completo['Tiempo_Entrenamiento'] < 1.0) &\n",
    "    (df_completo['F1_Score'] > df_completo['F1_Score'].quantile(0.7))\n",
    "].sort_values('F1_Score', ascending=False)\n",
    "\n",
    "print(\"\\n- Para PROTOTIPADO RÁPIDO (< 1s, buen rendimiento):\")\n",
    "for _, modelo in rapidos.head(3).iterrows():\n",
    "    print(f\"   • {modelo['Nombre']} - F1: {modelo['F1_Score']:.4f}, Tiempo: {modelo['Tiempo_Entrenamiento']:.3f}s\")\n",
    "\n",
    "# Insights por categoría\n",
    "print(\"\\n- INSIGHTS POR CATEGORÍA:\")\n",
    "for categoria in df_completo['Categoria'].unique():\n",
    "    cat_data = df_completo[df_completo['Categoria'] == categoria]\n",
    "    mejor_cat = cat_data.sort_values('F1_Score', ascending=False).iloc[0]\n",
    "    \n",
    "    print(f\"\\n   - {categoria}:\")\n",
    "    print(f\"      Mejor modelo: {mejor_cat['Nombre']} (F1: {mejor_cat['F1_Score']:.4f})\")\n",
    "    print(f\"      Promedio categoría: F1 {cat_data['F1_Score'].mean():.4f}, Tiempo {cat_data['Tiempo_Entrenamiento'].mean():.3f}s\")\n",
    "    print(f\"      Recomendación: {'Excelente para este dataset' if cat_data['F1_Score'].mean() > df_completo['F1_Score'].quantile(0.7) else 'Considerar otros algoritmos'}\")\n",
    "\n",
    "# Crear resumen final\n",
    "resumen_final = {\n",
    "    'total_modelos_evaluados': len(df_completo),\n",
    "    'mejor_modelo_global': {\n",
    "        'nombre': top_5_global.iloc[0]['Nombre'],\n",
    "        'f1_score': top_5_global.iloc[0]['F1_Score'],\n",
    "        'categoria': top_5_global.iloc[0]['Categoria']\n",
    "    },\n",
    "    'modelo_mas_eficiente': {\n",
    "        'nombre': top_5_eficiencia.iloc[0]['Nombre'],\n",
    "        'ratio_eficiencia': top_5_eficiencia.iloc[0]['Ratio_Eficiencia'],\n",
    "        'categoria': top_5_eficiencia.iloc[0]['Categoria']\n",
    "    },\n",
    "    'categoria_mas_exitosa': distribucion_mejores.index[0],\n",
    "    'tiempo_promedio_mejores': mejores_modelos['Tiempo_Entrenamiento'].mean(),\n",
    "    'f1_score_range': [df_completo['F1_Score'].min(), df_completo['F1_Score'].max()]\n",
    "}\n",
    "\n",
    "# Guardar resumen\n",
    "with open('../models/resumen_comparacion_completa.json', 'w') as f:\n",
    "    json.dump(resumen_final, f, indent=2)\n",
    "\n",
    "# Guardar DataFrame completo\n",
    "df_completo.to_csv('../models/comparacion_completa_todos_modelos.csv', index=False)\n",
    "\n",
    "print(f\"\\n/  ANÁLISIS COMPLETADO\")\n",
    "print(f\"   - {len(df_completo)} modelos analizados\")\n",
    "print(f\"   - Mejor F1-Score: {df_completo['F1_Score'].max():.4f}\")\n",
    "print(f\"   - Mejor ratio eficiencia: {df_completo['Ratio_Eficiencia'].max():.1f}\")\n",
    "print(f\"   - Resultados guardados en ../models/\")\n",
    "\n",
    "print(\"\\n\" + \"=\"*100)\n",
    "print(\"/ PRÓXIMOS PASOS RECOMENDADOS:\")\n",
    "print(\"   1. Implementar los top 3 modelos en producción\")\n",
    "print(\"   2. Hacer análisis con datos winsorizing para comparar\")\n",
    "print(\"   3. Optimizar hiperparámetros de los mejores modelos\")\n",
    "print(\"   4. Evaluar ensemble de los top 5 modelos\")\n",
    "print(\"=\"*100)"
   ]
  }
 ],
 "metadata": {
  "kernelspec": {
   "display_name": ".venv",
   "language": "python",
   "name": "python3"
  },
  "language_info": {
   "codemirror_mode": {
    "name": "ipython",
    "version": 3
   },
   "file_extension": ".py",
   "mimetype": "text/x-python",
   "name": "python",
   "nbconvert_exporter": "python",
   "pygments_lexer": "ipython3",
   "version": "3.13.3"
  }
 },
 "nbformat": 4,
 "nbformat_minor": 4
}
