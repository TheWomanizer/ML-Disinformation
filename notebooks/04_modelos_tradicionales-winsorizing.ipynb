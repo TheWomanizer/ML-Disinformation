{
 "cells": [
  {
   "cell_type": "markdown",
   "metadata": {},
   "source": [
    "# Modelos Tradicionales con Winsorizing\n",
    "\n",
    "**Objetivo**: Cambiar que algunas columnas como `favourites`, `retweets` y `followers_count` aún presentaban valores absolutos máximos extremadamente altos después del escalado. Estos outliers residuales, aunque menos influyentes que antes, todavía pueden sesgar el entrenamiento de algunos modelos y afectar su rendimiento.\n",
    "\n",
    "Aplicare la técnica de **Winsorizing**. Esta técnica no elimina los valores atípicos, sino que los \"acota\" o \"limita\" a un cierto percentil. Por ejemplo, si establecemos límites del 1% y 99%, todos los valores por debajo del percentil 1 se reemplazarán por el valor del percentil 1, y todos los valores por encima del percentil 99 se reemplazarán por el valor del percentil 99. Esto permite que los valores extremos sigan siendo parte del dataset, pero con una influencia reducida, preservando la distribución general de los datos."
   ]
  },
  {
   "cell_type": "code",
   "execution_count": 3,
   "metadata": {},
   "outputs": [
    {
     "data": {
      "text/html": [
       "        <script type=\"text/javascript\">\n",
       "        window.PlotlyConfig = {MathJaxConfig: 'local'};\n",
       "        if (window.MathJax && window.MathJax.Hub && window.MathJax.Hub.Config) {window.MathJax.Hub.Config({SVG: {font: \"STIX-Web\"}});}\n",
       "        </script>\n",
       "        <script type=\"module\">import \"https://cdn.plot.ly/plotly-3.1.0.min\"</script>\n",
       "        "
      ]
     },
     "metadata": {},
     "output_type": "display_data"
    },
    {
     "name": "stdout",
     "output_type": "stream",
     "text": [
      "Iniciando experimentos con modelos tradicionales - 2025-08-19 19:36:21\n"
     ]
    }
   ],
   "source": [
    "# Importaciones básicas\n",
    "import pandas as pd\n",
    "import numpy as np\n",
    "import matplotlib.pyplot as plt\n",
    "import seaborn as sns\n",
    "from datetime import datetime\n",
    "import warnings\n",
    "warnings.filterwarnings('ignore')\n",
    "\n",
    "# Plotly para visualizaciones interactivas\n",
    "import plotly.graph_objects as go\n",
    "import plotly.express as px\n",
    "import plotly.figure_factory as ff\n",
    "from plotly.subplots import make_subplots\n",
    "import plotly.offline as pyo\n",
    "pyo.init_notebook_mode(connected=True)\n",
    "\n",
    "# Machine learning\n",
    "from sklearn.ensemble import RandomForestClassifier, ExtraTreesClassifier\n",
    "from sklearn.tree import DecisionTreeClassifier\n",
    "from sklearn.linear_model import LogisticRegression\n",
    "from sklearn.neighbors import KNeighborsClassifier\n",
    "from sklearn.model_selection import cross_val_score, StratifiedKFold, train_test_split\n",
    "from sklearn.metrics import (classification_report, confusion_matrix, f1_score, \n",
    "                           roc_curve, auc, precision_recall_curve)\n",
    "from sklearn.preprocessing import StandardScaler\n",
    "\n",
    "# Para guardar resultados\n",
    "import joblib\n",
    "import json\n",
    "import os\n",
    "\n",
    "# Para manejo avanzado de outliers\n",
    "from scipy.stats.mstats import winsorize\n",
    "\n",
    "print(f\"Iniciando experimentos con modelos tradicionales - {datetime.now().strftime('%Y-%m-%d %H:%M:%S')}\")"
   ]
  },
  {
   "cell_type": "code",
   "execution_count": 4,
   "metadata": {},
   "outputs": [
    {
     "name": "stdout",
     "output_type": "stream",
     "text": [
      "- Winsorizing a columnas con outliers extremos...\n",
      "  - Winsorizing aplicado a 'favourites'\n",
      "  - Winsorizing aplicado a 'retweets'\n",
      "  - Winsorizing aplicado a 'followers_count'\n",
      "  - Winsorizing aplicado a 'BotScoreBinary'\n",
      "  - Winsorizing aplicado a 'BotScore'\n",
      "  - Winsorizing aplicado a 'WORK_OF_ART_percentage'\n",
      "  - Winsorizing aplicado a 'TIME_percentage'\n",
      "  - Winsorizing aplicado a 'NORP_percentage'\n",
      "  - Winsorizing aplicado a 'LAW_percentage'\n",
      "  - Winsorizing aplicado a 'PERCENT_percentage'\n",
      "  - Winsorizing aplicado a 'PRODUCT_percentage'\n",
      "  - Winsorizing aplicado a 'ORDINAL_percentage'\n",
      "  - Winsorizing aplicado a 'LOC_percentage'\n",
      "- Winsorizing completado.\n",
      "- Comparación de estadísticas (antes vs después de Winsorizing) para columnas clave:\n",
      "--- Columna: favourites ---\n",
      "Original (Max): 460320.0\n",
      "Winsorized (Max): 128.0\n",
      "Original (Min): 0.0\n",
      "Winsorized (Min): 0.0\n",
      "\n",
      "\n",
      "--- Columna: retweets ---\n",
      "Original (Max): 126062.0\n",
      "Winsorized (Max): 35.0\n",
      "Original (Min): 0.0\n",
      "Winsorized (Min): 0.0\n",
      "\n",
      "\n",
      "--- Columna: followers_count ---\n",
      "Original (Max): 86893.91816367266\n",
      "Winsorized (Max): 70.00399201596807\n",
      "Original (Min): -0.2355289421157684\n",
      "Winsorized (Min): -0.2355289421157684\n",
      "\n",
      "\n",
      "- Dataset con Winsorizing guardado en: ../processed_data/dataset_features_processed_winsorized.csv\n"
     ]
    }
   ],
   "source": [
    "# Cargar datos procesados si df no está definido\n",
    "df = pd.read_csv('../processed_data/dataset_features_processed.csv')\n",
    "\n",
    "# Columnas identificadas con outliers extremos en la Fase 0 (según el output del notebook 02)\n",
    "cols_with_extreme_outliers = ['favourites', 'retweets', 'followers_count', 'BotScoreBinary', 'BotScore', 'WORK_OF_ART_percentage', 'TIME_percentage', 'NORP_percentage', 'LAW_percentage', 'PERCENT_percentage', 'PRODUCT_percentage', 'ORDINAL_percentage', 'LOC_percentage']\n",
    "\n",
    "print(\"- Winsorizing a columnas con outliers extremos...\")\n",
    "\n",
    "df_winsorized = df.copy()\n",
    "\n",
    "for col in cols_with_extreme_outliers:\n",
    "    if col in df_winsorized.columns:\n",
    "        # Aplicar winsorize al 1% inferior y 1% superior\n",
    "        df_winsorized[col] = winsorize(df_winsorized[col], limits=[0.01, 0.01])\n",
    "        print(f\"  - Winsorizing aplicado a '{col}'\")\n",
    "    else:\n",
    "        print(f\"  - Columna '{col}' no encontrada para Winsorizing.\")\n",
    "\n",
    "print(\"- Winsorizing completado.\")\n",
    "\n",
    "print(\"- Comparación de estadísticas (antes vs después de Winsorizing) para columnas clave:\")\n",
    "for col in ['favourites', 'retweets', 'followers_count']:\n",
    "    if col in df.columns:\n",
    "        print(f\"--- Columna: {col} ---\")\n",
    "        print(\"Original (Max):\", df[col].max())\n",
    "        print(\"Winsorized (Max):\", df_winsorized[col].max())\n",
    "        print(\"Original (Min):\", df[col].min())\n",
    "        print(\"Winsorized (Min):\", df_winsorized[col].min())\n",
    "        print(\"\\n\")\n",
    "\n",
    "# Guardar el dataset con Winsorizing aplicado\n",
    "output_path_winsorized = '../processed_data/dataset_features_processed_winsorized.csv'\n",
    "os.makedirs(os.path.dirname(output_path_winsorized), exist_ok=True)\n",
    "df_winsorized.to_csv(output_path_winsorized, index=False)\n",
    "print(f\"- Dataset con Winsorizing guardado en: {output_path_winsorized}\")"
   ]
  },
  {
   "cell_type": "code",
   "execution_count": 5,
   "metadata": {},
   "outputs": [
    {
     "name": "stdout",
     "output_type": "stream",
     "text": [
      "Cargando datos procesados...\n",
      "Dataset cargado: 134,198 filas, 58 columnas\n",
      "Features: 57\n",
      "Distribución de clases:\n",
      "  Verdadero: 0.514 (68,930 muestras)\n",
      "  Falso: 0.486 (65,268 muestras)\n",
      "Valores faltantes: 0\n",
      "\n",
      "Rango de valores en X:\n",
      "  Mínimo: -7.110\n",
      "  Máximo: 42068.000\n",
      "  Media general: 0.446\n"
     ]
    },
    {
     "data": {
      "application/vnd.plotly.v1+json": {
       "config": {
        "plotlyServerURL": "https://plot.ly"
       },
       "data": [
        {
         "domain": {
          "x": [
           0,
           1
          ],
          "y": [
           0,
           1
          ]
         },
         "hovertemplate": "label=%{label}<br>value=%{value}<extra></extra>",
         "labels": [
          "Falso",
          "Verdadero"
         ],
         "legendgroup": "",
         "name": "",
         "showlegend": true,
         "type": "pie",
         "values": {
          "bdata": "Qg0BAPT+AAA=",
          "dtype": "i4"
         }
        }
       ],
       "layout": {
        "legend": {
         "tracegroupgap": 0
        },
        "piecolorway": [
         "lightcoral",
         "lightblue"
        ],
        "template": {
         "data": {
          "bar": [
           {
            "error_x": {
             "color": "#2a3f5f"
            },
            "error_y": {
             "color": "#2a3f5f"
            },
            "marker": {
             "line": {
              "color": "#E5ECF6",
              "width": 0.5
             },
             "pattern": {
              "fillmode": "overlay",
              "size": 10,
              "solidity": 0.2
             }
            },
            "type": "bar"
           }
          ],
          "barpolar": [
           {
            "marker": {
             "line": {
              "color": "#E5ECF6",
              "width": 0.5
             },
             "pattern": {
              "fillmode": "overlay",
              "size": 10,
              "solidity": 0.2
             }
            },
            "type": "barpolar"
           }
          ],
          "carpet": [
           {
            "aaxis": {
             "endlinecolor": "#2a3f5f",
             "gridcolor": "white",
             "linecolor": "white",
             "minorgridcolor": "white",
             "startlinecolor": "#2a3f5f"
            },
            "baxis": {
             "endlinecolor": "#2a3f5f",
             "gridcolor": "white",
             "linecolor": "white",
             "minorgridcolor": "white",
             "startlinecolor": "#2a3f5f"
            },
            "type": "carpet"
           }
          ],
          "choropleth": [
           {
            "colorbar": {
             "outlinewidth": 0,
             "ticks": ""
            },
            "type": "choropleth"
           }
          ],
          "contour": [
           {
            "colorbar": {
             "outlinewidth": 0,
             "ticks": ""
            },
            "colorscale": [
             [
              0,
              "#0d0887"
             ],
             [
              0.1111111111111111,
              "#46039f"
             ],
             [
              0.2222222222222222,
              "#7201a8"
             ],
             [
              0.3333333333333333,
              "#9c179e"
             ],
             [
              0.4444444444444444,
              "#bd3786"
             ],
             [
              0.5555555555555556,
              "#d8576b"
             ],
             [
              0.6666666666666666,
              "#ed7953"
             ],
             [
              0.7777777777777778,
              "#fb9f3a"
             ],
             [
              0.8888888888888888,
              "#fdca26"
             ],
             [
              1,
              "#f0f921"
             ]
            ],
            "type": "contour"
           }
          ],
          "contourcarpet": [
           {
            "colorbar": {
             "outlinewidth": 0,
             "ticks": ""
            },
            "type": "contourcarpet"
           }
          ],
          "heatmap": [
           {
            "colorbar": {
             "outlinewidth": 0,
             "ticks": ""
            },
            "colorscale": [
             [
              0,
              "#0d0887"
             ],
             [
              0.1111111111111111,
              "#46039f"
             ],
             [
              0.2222222222222222,
              "#7201a8"
             ],
             [
              0.3333333333333333,
              "#9c179e"
             ],
             [
              0.4444444444444444,
              "#bd3786"
             ],
             [
              0.5555555555555556,
              "#d8576b"
             ],
             [
              0.6666666666666666,
              "#ed7953"
             ],
             [
              0.7777777777777778,
              "#fb9f3a"
             ],
             [
              0.8888888888888888,
              "#fdca26"
             ],
             [
              1,
              "#f0f921"
             ]
            ],
            "type": "heatmap"
           }
          ],
          "histogram": [
           {
            "marker": {
             "pattern": {
              "fillmode": "overlay",
              "size": 10,
              "solidity": 0.2
             }
            },
            "type": "histogram"
           }
          ],
          "histogram2d": [
           {
            "colorbar": {
             "outlinewidth": 0,
             "ticks": ""
            },
            "colorscale": [
             [
              0,
              "#0d0887"
             ],
             [
              0.1111111111111111,
              "#46039f"
             ],
             [
              0.2222222222222222,
              "#7201a8"
             ],
             [
              0.3333333333333333,
              "#9c179e"
             ],
             [
              0.4444444444444444,
              "#bd3786"
             ],
             [
              0.5555555555555556,
              "#d8576b"
             ],
             [
              0.6666666666666666,
              "#ed7953"
             ],
             [
              0.7777777777777778,
              "#fb9f3a"
             ],
             [
              0.8888888888888888,
              "#fdca26"
             ],
             [
              1,
              "#f0f921"
             ]
            ],
            "type": "histogram2d"
           }
          ],
          "histogram2dcontour": [
           {
            "colorbar": {
             "outlinewidth": 0,
             "ticks": ""
            },
            "colorscale": [
             [
              0,
              "#0d0887"
             ],
             [
              0.1111111111111111,
              "#46039f"
             ],
             [
              0.2222222222222222,
              "#7201a8"
             ],
             [
              0.3333333333333333,
              "#9c179e"
             ],
             [
              0.4444444444444444,
              "#bd3786"
             ],
             [
              0.5555555555555556,
              "#d8576b"
             ],
             [
              0.6666666666666666,
              "#ed7953"
             ],
             [
              0.7777777777777778,
              "#fb9f3a"
             ],
             [
              0.8888888888888888,
              "#fdca26"
             ],
             [
              1,
              "#f0f921"
             ]
            ],
            "type": "histogram2dcontour"
           }
          ],
          "mesh3d": [
           {
            "colorbar": {
             "outlinewidth": 0,
             "ticks": ""
            },
            "type": "mesh3d"
           }
          ],
          "parcoords": [
           {
            "line": {
             "colorbar": {
              "outlinewidth": 0,
              "ticks": ""
             }
            },
            "type": "parcoords"
           }
          ],
          "pie": [
           {
            "automargin": true,
            "type": "pie"
           }
          ],
          "scatter": [
           {
            "fillpattern": {
             "fillmode": "overlay",
             "size": 10,
             "solidity": 0.2
            },
            "type": "scatter"
           }
          ],
          "scatter3d": [
           {
            "line": {
             "colorbar": {
              "outlinewidth": 0,
              "ticks": ""
             }
            },
            "marker": {
             "colorbar": {
              "outlinewidth": 0,
              "ticks": ""
             }
            },
            "type": "scatter3d"
           }
          ],
          "scattercarpet": [
           {
            "marker": {
             "colorbar": {
              "outlinewidth": 0,
              "ticks": ""
             }
            },
            "type": "scattercarpet"
           }
          ],
          "scattergeo": [
           {
            "marker": {
             "colorbar": {
              "outlinewidth": 0,
              "ticks": ""
             }
            },
            "type": "scattergeo"
           }
          ],
          "scattergl": [
           {
            "marker": {
             "colorbar": {
              "outlinewidth": 0,
              "ticks": ""
             }
            },
            "type": "scattergl"
           }
          ],
          "scattermap": [
           {
            "marker": {
             "colorbar": {
              "outlinewidth": 0,
              "ticks": ""
             }
            },
            "type": "scattermap"
           }
          ],
          "scattermapbox": [
           {
            "marker": {
             "colorbar": {
              "outlinewidth": 0,
              "ticks": ""
             }
            },
            "type": "scattermapbox"
           }
          ],
          "scatterpolar": [
           {
            "marker": {
             "colorbar": {
              "outlinewidth": 0,
              "ticks": ""
             }
            },
            "type": "scatterpolar"
           }
          ],
          "scatterpolargl": [
           {
            "marker": {
             "colorbar": {
              "outlinewidth": 0,
              "ticks": ""
             }
            },
            "type": "scatterpolargl"
           }
          ],
          "scatterternary": [
           {
            "marker": {
             "colorbar": {
              "outlinewidth": 0,
              "ticks": ""
             }
            },
            "type": "scatterternary"
           }
          ],
          "surface": [
           {
            "colorbar": {
             "outlinewidth": 0,
             "ticks": ""
            },
            "colorscale": [
             [
              0,
              "#0d0887"
             ],
             [
              0.1111111111111111,
              "#46039f"
             ],
             [
              0.2222222222222222,
              "#7201a8"
             ],
             [
              0.3333333333333333,
              "#9c179e"
             ],
             [
              0.4444444444444444,
              "#bd3786"
             ],
             [
              0.5555555555555556,
              "#d8576b"
             ],
             [
              0.6666666666666666,
              "#ed7953"
             ],
             [
              0.7777777777777778,
              "#fb9f3a"
             ],
             [
              0.8888888888888888,
              "#fdca26"
             ],
             [
              1,
              "#f0f921"
             ]
            ],
            "type": "surface"
           }
          ],
          "table": [
           {
            "cells": {
             "fill": {
              "color": "#EBF0F8"
             },
             "line": {
              "color": "white"
             }
            },
            "header": {
             "fill": {
              "color": "#C8D4E3"
             },
             "line": {
              "color": "white"
             }
            },
            "type": "table"
           }
          ]
         },
         "layout": {
          "annotationdefaults": {
           "arrowcolor": "#2a3f5f",
           "arrowhead": 0,
           "arrowwidth": 1
          },
          "autotypenumbers": "strict",
          "coloraxis": {
           "colorbar": {
            "outlinewidth": 0,
            "ticks": ""
           }
          },
          "colorscale": {
           "diverging": [
            [
             0,
             "#8e0152"
            ],
            [
             0.1,
             "#c51b7d"
            ],
            [
             0.2,
             "#de77ae"
            ],
            [
             0.3,
             "#f1b6da"
            ],
            [
             0.4,
             "#fde0ef"
            ],
            [
             0.5,
             "#f7f7f7"
            ],
            [
             0.6,
             "#e6f5d0"
            ],
            [
             0.7,
             "#b8e186"
            ],
            [
             0.8,
             "#7fbc41"
            ],
            [
             0.9,
             "#4d9221"
            ],
            [
             1,
             "#276419"
            ]
           ],
           "sequential": [
            [
             0,
             "#0d0887"
            ],
            [
             0.1111111111111111,
             "#46039f"
            ],
            [
             0.2222222222222222,
             "#7201a8"
            ],
            [
             0.3333333333333333,
             "#9c179e"
            ],
            [
             0.4444444444444444,
             "#bd3786"
            ],
            [
             0.5555555555555556,
             "#d8576b"
            ],
            [
             0.6666666666666666,
             "#ed7953"
            ],
            [
             0.7777777777777778,
             "#fb9f3a"
            ],
            [
             0.8888888888888888,
             "#fdca26"
            ],
            [
             1,
             "#f0f921"
            ]
           ],
           "sequentialminus": [
            [
             0,
             "#0d0887"
            ],
            [
             0.1111111111111111,
             "#46039f"
            ],
            [
             0.2222222222222222,
             "#7201a8"
            ],
            [
             0.3333333333333333,
             "#9c179e"
            ],
            [
             0.4444444444444444,
             "#bd3786"
            ],
            [
             0.5555555555555556,
             "#d8576b"
            ],
            [
             0.6666666666666666,
             "#ed7953"
            ],
            [
             0.7777777777777778,
             "#fb9f3a"
            ],
            [
             0.8888888888888888,
             "#fdca26"
            ],
            [
             1,
             "#f0f921"
            ]
           ]
          },
          "colorway": [
           "#636efa",
           "#EF553B",
           "#00cc96",
           "#ab63fa",
           "#FFA15A",
           "#19d3f3",
           "#FF6692",
           "#B6E880",
           "#FF97FF",
           "#FECB52"
          ],
          "font": {
           "color": "#2a3f5f"
          },
          "geo": {
           "bgcolor": "white",
           "lakecolor": "white",
           "landcolor": "#E5ECF6",
           "showlakes": true,
           "showland": true,
           "subunitcolor": "white"
          },
          "hoverlabel": {
           "align": "left"
          },
          "hovermode": "closest",
          "mapbox": {
           "style": "light"
          },
          "paper_bgcolor": "white",
          "plot_bgcolor": "#E5ECF6",
          "polar": {
           "angularaxis": {
            "gridcolor": "white",
            "linecolor": "white",
            "ticks": ""
           },
           "bgcolor": "#E5ECF6",
           "radialaxis": {
            "gridcolor": "white",
            "linecolor": "white",
            "ticks": ""
           }
          },
          "scene": {
           "xaxis": {
            "backgroundcolor": "#E5ECF6",
            "gridcolor": "white",
            "gridwidth": 2,
            "linecolor": "white",
            "showbackground": true,
            "ticks": "",
            "zerolinecolor": "white"
           },
           "yaxis": {
            "backgroundcolor": "#E5ECF6",
            "gridcolor": "white",
            "gridwidth": 2,
            "linecolor": "white",
            "showbackground": true,
            "ticks": "",
            "zerolinecolor": "white"
           },
           "zaxis": {
            "backgroundcolor": "#E5ECF6",
            "gridcolor": "white",
            "gridwidth": 2,
            "linecolor": "white",
            "showbackground": true,
            "ticks": "",
            "zerolinecolor": "white"
           }
          },
          "shapedefaults": {
           "line": {
            "color": "#2a3f5f"
           }
          },
          "ternary": {
           "aaxis": {
            "gridcolor": "white",
            "linecolor": "white",
            "ticks": ""
           },
           "baxis": {
            "gridcolor": "white",
            "linecolor": "white",
            "ticks": ""
           },
           "bgcolor": "#E5ECF6",
           "caxis": {
            "gridcolor": "white",
            "linecolor": "white",
            "ticks": ""
           }
          },
          "title": {
           "x": 0.05
          },
          "xaxis": {
           "automargin": true,
           "gridcolor": "white",
           "linecolor": "white",
           "ticks": "",
           "title": {
            "standoff": 15
           },
           "zerolinecolor": "white",
           "zerolinewidth": 2
          },
          "yaxis": {
           "automargin": true,
           "gridcolor": "white",
           "linecolor": "white",
           "ticks": "",
           "title": {
            "standoff": 15
           },
           "zerolinecolor": "white",
           "zerolinewidth": 2
          }
         }
        },
        "title": {
         "text": "Distribución de Clases en el Dataset"
        }
       }
      },
      "text/html": [
       "<div>            <script src=\"https://cdnjs.cloudflare.com/ajax/libs/mathjax/2.7.5/MathJax.js?config=TeX-AMS-MML_SVG\"></script><script type=\"text/javascript\">if (window.MathJax && window.MathJax.Hub && window.MathJax.Hub.Config) {window.MathJax.Hub.Config({SVG: {font: \"STIX-Web\"}});}</script>                <script type=\"text/javascript\">window.PlotlyConfig = {MathJaxConfig: 'local'};</script>\n",
       "        <script charset=\"utf-8\" src=\"https://cdn.plot.ly/plotly-3.1.0.min.js\" integrity=\"sha256-Ei4740bWZhaUTQuD6q9yQlgVCMPBz6CZWhevDYPv93A=\" crossorigin=\"anonymous\"></script>                <div id=\"2adc6c34-aa97-45e3-9295-cf417070e149\" class=\"plotly-graph-div\" style=\"height:525px; width:100%;\"></div>            <script type=\"text/javascript\">                window.PLOTLYENV=window.PLOTLYENV || {};                                if (document.getElementById(\"2adc6c34-aa97-45e3-9295-cf417070e149\")) {                    Plotly.newPlot(                        \"2adc6c34-aa97-45e3-9295-cf417070e149\",                        [{\"domain\":{\"x\":[0.0,1.0],\"y\":[0.0,1.0]},\"hovertemplate\":\"label=%{label}\\u003cbr\\u003evalue=%{value}\\u003cextra\\u003e\\u003c\\u002fextra\\u003e\",\"labels\":[\"Falso\",\"Verdadero\"],\"legendgroup\":\"\",\"name\":\"\",\"showlegend\":true,\"values\":{\"dtype\":\"i4\",\"bdata\":\"Qg0BAPT+AAA=\"},\"type\":\"pie\"}],                        {\"template\":{\"data\":{\"histogram2dcontour\":[{\"type\":\"histogram2dcontour\",\"colorbar\":{\"outlinewidth\":0,\"ticks\":\"\"},\"colorscale\":[[0.0,\"#0d0887\"],[0.1111111111111111,\"#46039f\"],[0.2222222222222222,\"#7201a8\"],[0.3333333333333333,\"#9c179e\"],[0.4444444444444444,\"#bd3786\"],[0.5555555555555556,\"#d8576b\"],[0.6666666666666666,\"#ed7953\"],[0.7777777777777778,\"#fb9f3a\"],[0.8888888888888888,\"#fdca26\"],[1.0,\"#f0f921\"]]}],\"choropleth\":[{\"type\":\"choropleth\",\"colorbar\":{\"outlinewidth\":0,\"ticks\":\"\"}}],\"histogram2d\":[{\"type\":\"histogram2d\",\"colorbar\":{\"outlinewidth\":0,\"ticks\":\"\"},\"colorscale\":[[0.0,\"#0d0887\"],[0.1111111111111111,\"#46039f\"],[0.2222222222222222,\"#7201a8\"],[0.3333333333333333,\"#9c179e\"],[0.4444444444444444,\"#bd3786\"],[0.5555555555555556,\"#d8576b\"],[0.6666666666666666,\"#ed7953\"],[0.7777777777777778,\"#fb9f3a\"],[0.8888888888888888,\"#fdca26\"],[1.0,\"#f0f921\"]]}],\"heatmap\":[{\"type\":\"heatmap\",\"colorbar\":{\"outlinewidth\":0,\"ticks\":\"\"},\"colorscale\":[[0.0,\"#0d0887\"],[0.1111111111111111,\"#46039f\"],[0.2222222222222222,\"#7201a8\"],[0.3333333333333333,\"#9c179e\"],[0.4444444444444444,\"#bd3786\"],[0.5555555555555556,\"#d8576b\"],[0.6666666666666666,\"#ed7953\"],[0.7777777777777778,\"#fb9f3a\"],[0.8888888888888888,\"#fdca26\"],[1.0,\"#f0f921\"]]}],\"contourcarpet\":[{\"type\":\"contourcarpet\",\"colorbar\":{\"outlinewidth\":0,\"ticks\":\"\"}}],\"contour\":[{\"type\":\"contour\",\"colorbar\":{\"outlinewidth\":0,\"ticks\":\"\"},\"colorscale\":[[0.0,\"#0d0887\"],[0.1111111111111111,\"#46039f\"],[0.2222222222222222,\"#7201a8\"],[0.3333333333333333,\"#9c179e\"],[0.4444444444444444,\"#bd3786\"],[0.5555555555555556,\"#d8576b\"],[0.6666666666666666,\"#ed7953\"],[0.7777777777777778,\"#fb9f3a\"],[0.8888888888888888,\"#fdca26\"],[1.0,\"#f0f921\"]]}],\"surface\":[{\"type\":\"surface\",\"colorbar\":{\"outlinewidth\":0,\"ticks\":\"\"},\"colorscale\":[[0.0,\"#0d0887\"],[0.1111111111111111,\"#46039f\"],[0.2222222222222222,\"#7201a8\"],[0.3333333333333333,\"#9c179e\"],[0.4444444444444444,\"#bd3786\"],[0.5555555555555556,\"#d8576b\"],[0.6666666666666666,\"#ed7953\"],[0.7777777777777778,\"#fb9f3a\"],[0.8888888888888888,\"#fdca26\"],[1.0,\"#f0f921\"]]}],\"mesh3d\":[{\"type\":\"mesh3d\",\"colorbar\":{\"outlinewidth\":0,\"ticks\":\"\"}}],\"scatter\":[{\"fillpattern\":{\"fillmode\":\"overlay\",\"size\":10,\"solidity\":0.2},\"type\":\"scatter\"}],\"parcoords\":[{\"type\":\"parcoords\",\"line\":{\"colorbar\":{\"outlinewidth\":0,\"ticks\":\"\"}}}],\"scatterpolargl\":[{\"type\":\"scatterpolargl\",\"marker\":{\"colorbar\":{\"outlinewidth\":0,\"ticks\":\"\"}}}],\"bar\":[{\"error_x\":{\"color\":\"#2a3f5f\"},\"error_y\":{\"color\":\"#2a3f5f\"},\"marker\":{\"line\":{\"color\":\"#E5ECF6\",\"width\":0.5},\"pattern\":{\"fillmode\":\"overlay\",\"size\":10,\"solidity\":0.2}},\"type\":\"bar\"}],\"scattergeo\":[{\"type\":\"scattergeo\",\"marker\":{\"colorbar\":{\"outlinewidth\":0,\"ticks\":\"\"}}}],\"scatterpolar\":[{\"type\":\"scatterpolar\",\"marker\":{\"colorbar\":{\"outlinewidth\":0,\"ticks\":\"\"}}}],\"histogram\":[{\"marker\":{\"pattern\":{\"fillmode\":\"overlay\",\"size\":10,\"solidity\":0.2}},\"type\":\"histogram\"}],\"scattergl\":[{\"type\":\"scattergl\",\"marker\":{\"colorbar\":{\"outlinewidth\":0,\"ticks\":\"\"}}}],\"scatter3d\":[{\"type\":\"scatter3d\",\"line\":{\"colorbar\":{\"outlinewidth\":0,\"ticks\":\"\"}},\"marker\":{\"colorbar\":{\"outlinewidth\":0,\"ticks\":\"\"}}}],\"scattermap\":[{\"type\":\"scattermap\",\"marker\":{\"colorbar\":{\"outlinewidth\":0,\"ticks\":\"\"}}}],\"scattermapbox\":[{\"type\":\"scattermapbox\",\"marker\":{\"colorbar\":{\"outlinewidth\":0,\"ticks\":\"\"}}}],\"scatterternary\":[{\"type\":\"scatterternary\",\"marker\":{\"colorbar\":{\"outlinewidth\":0,\"ticks\":\"\"}}}],\"scattercarpet\":[{\"type\":\"scattercarpet\",\"marker\":{\"colorbar\":{\"outlinewidth\":0,\"ticks\":\"\"}}}],\"carpet\":[{\"aaxis\":{\"endlinecolor\":\"#2a3f5f\",\"gridcolor\":\"white\",\"linecolor\":\"white\",\"minorgridcolor\":\"white\",\"startlinecolor\":\"#2a3f5f\"},\"baxis\":{\"endlinecolor\":\"#2a3f5f\",\"gridcolor\":\"white\",\"linecolor\":\"white\",\"minorgridcolor\":\"white\",\"startlinecolor\":\"#2a3f5f\"},\"type\":\"carpet\"}],\"table\":[{\"cells\":{\"fill\":{\"color\":\"#EBF0F8\"},\"line\":{\"color\":\"white\"}},\"header\":{\"fill\":{\"color\":\"#C8D4E3\"},\"line\":{\"color\":\"white\"}},\"type\":\"table\"}],\"barpolar\":[{\"marker\":{\"line\":{\"color\":\"#E5ECF6\",\"width\":0.5},\"pattern\":{\"fillmode\":\"overlay\",\"size\":10,\"solidity\":0.2}},\"type\":\"barpolar\"}],\"pie\":[{\"automargin\":true,\"type\":\"pie\"}]},\"layout\":{\"autotypenumbers\":\"strict\",\"colorway\":[\"#636efa\",\"#EF553B\",\"#00cc96\",\"#ab63fa\",\"#FFA15A\",\"#19d3f3\",\"#FF6692\",\"#B6E880\",\"#FF97FF\",\"#FECB52\"],\"font\":{\"color\":\"#2a3f5f\"},\"hovermode\":\"closest\",\"hoverlabel\":{\"align\":\"left\"},\"paper_bgcolor\":\"white\",\"plot_bgcolor\":\"#E5ECF6\",\"polar\":{\"bgcolor\":\"#E5ECF6\",\"angularaxis\":{\"gridcolor\":\"white\",\"linecolor\":\"white\",\"ticks\":\"\"},\"radialaxis\":{\"gridcolor\":\"white\",\"linecolor\":\"white\",\"ticks\":\"\"}},\"ternary\":{\"bgcolor\":\"#E5ECF6\",\"aaxis\":{\"gridcolor\":\"white\",\"linecolor\":\"white\",\"ticks\":\"\"},\"baxis\":{\"gridcolor\":\"white\",\"linecolor\":\"white\",\"ticks\":\"\"},\"caxis\":{\"gridcolor\":\"white\",\"linecolor\":\"white\",\"ticks\":\"\"}},\"coloraxis\":{\"colorbar\":{\"outlinewidth\":0,\"ticks\":\"\"}},\"colorscale\":{\"sequential\":[[0.0,\"#0d0887\"],[0.1111111111111111,\"#46039f\"],[0.2222222222222222,\"#7201a8\"],[0.3333333333333333,\"#9c179e\"],[0.4444444444444444,\"#bd3786\"],[0.5555555555555556,\"#d8576b\"],[0.6666666666666666,\"#ed7953\"],[0.7777777777777778,\"#fb9f3a\"],[0.8888888888888888,\"#fdca26\"],[1.0,\"#f0f921\"]],\"sequentialminus\":[[0.0,\"#0d0887\"],[0.1111111111111111,\"#46039f\"],[0.2222222222222222,\"#7201a8\"],[0.3333333333333333,\"#9c179e\"],[0.4444444444444444,\"#bd3786\"],[0.5555555555555556,\"#d8576b\"],[0.6666666666666666,\"#ed7953\"],[0.7777777777777778,\"#fb9f3a\"],[0.8888888888888888,\"#fdca26\"],[1.0,\"#f0f921\"]],\"diverging\":[[0,\"#8e0152\"],[0.1,\"#c51b7d\"],[0.2,\"#de77ae\"],[0.3,\"#f1b6da\"],[0.4,\"#fde0ef\"],[0.5,\"#f7f7f7\"],[0.6,\"#e6f5d0\"],[0.7,\"#b8e186\"],[0.8,\"#7fbc41\"],[0.9,\"#4d9221\"],[1,\"#276419\"]]},\"xaxis\":{\"gridcolor\":\"white\",\"linecolor\":\"white\",\"ticks\":\"\",\"title\":{\"standoff\":15},\"zerolinecolor\":\"white\",\"automargin\":true,\"zerolinewidth\":2},\"yaxis\":{\"gridcolor\":\"white\",\"linecolor\":\"white\",\"ticks\":\"\",\"title\":{\"standoff\":15},\"zerolinecolor\":\"white\",\"automargin\":true,\"zerolinewidth\":2},\"scene\":{\"xaxis\":{\"backgroundcolor\":\"#E5ECF6\",\"gridcolor\":\"white\",\"linecolor\":\"white\",\"showbackground\":true,\"ticks\":\"\",\"zerolinecolor\":\"white\",\"gridwidth\":2},\"yaxis\":{\"backgroundcolor\":\"#E5ECF6\",\"gridcolor\":\"white\",\"linecolor\":\"white\",\"showbackground\":true,\"ticks\":\"\",\"zerolinecolor\":\"white\",\"gridwidth\":2},\"zaxis\":{\"backgroundcolor\":\"#E5ECF6\",\"gridcolor\":\"white\",\"linecolor\":\"white\",\"showbackground\":true,\"ticks\":\"\",\"zerolinecolor\":\"white\",\"gridwidth\":2}},\"shapedefaults\":{\"line\":{\"color\":\"#2a3f5f\"}},\"annotationdefaults\":{\"arrowcolor\":\"#2a3f5f\",\"arrowhead\":0,\"arrowwidth\":1},\"geo\":{\"bgcolor\":\"white\",\"landcolor\":\"#E5ECF6\",\"subunitcolor\":\"white\",\"showland\":true,\"showlakes\":true,\"lakecolor\":\"white\"},\"title\":{\"x\":0.05},\"mapbox\":{\"style\":\"light\"}}},\"legend\":{\"tracegroupgap\":0},\"title\":{\"text\":\"Distribuci\\u00f3n de Clases en el Dataset\"},\"piecolorway\":[\"lightcoral\",\"lightblue\"]},                        {\"responsive\": true}                    ).then(function(){\n",
       "                            \n",
       "var gd = document.getElementById('2adc6c34-aa97-45e3-9295-cf417070e149');\n",
       "var x = new MutationObserver(function (mutations, observer) {{\n",
       "        var display = window.getComputedStyle(gd).display;\n",
       "        if (!display || display === 'none') {{\n",
       "            console.log([gd, 'removed!']);\n",
       "            Plotly.purge(gd);\n",
       "            observer.disconnect();\n",
       "        }}\n",
       "}});\n",
       "\n",
       "// Listen for the removal of the full notebook cells\n",
       "var notebookContainer = gd.closest('#notebook-container');\n",
       "if (notebookContainer) {{\n",
       "    x.observe(notebookContainer, {childList: true});\n",
       "}}\n",
       "\n",
       "// Listen for the clearing of the current output cell\n",
       "var outputEl = gd.closest('.output');\n",
       "if (outputEl) {{\n",
       "    x.observe(outputEl, {childList: true});\n",
       "}}\n",
       "\n",
       "                        })                };            </script>        </div>"
      ]
     },
     "metadata": {},
     "output_type": "display_data"
    },
    {
     "data": {
      "application/vnd.plotly.v1+json": {
       "config": {
        "plotlyServerURL": "https://plot.ly"
       },
       "data": [
        {
         "mode": "markers",
         "name": "Media",
         "showlegend": false,
         "type": "scatter",
         "x": [
          0,
          1,
          2,
          3,
          4,
          5,
          6,
          7,
          8,
          9,
          10,
          11,
          12,
          13,
          14,
          15,
          16,
          17,
          18,
          19,
          20,
          21,
          22,
          23,
          24,
          25,
          26,
          27,
          28,
          29,
          30,
          31,
          32,
          33,
          34,
          35,
          36,
          37,
          38,
          39,
          40,
          41,
          42,
          43,
          44,
          45,
          46,
          47,
          48,
          49,
          50,
          51,
          52,
          53,
          54,
          55,
          56
         ],
         "xaxis": "x",
         "y": {
          "bdata": "82LBzGb8AEDDqYs2hz7rPzTTOjNNeeg/0UNXO2RL6D9o4hp4Zu0ZQOYg7niqop0/wSFjk9uQoD9FNptFNEewP7ZePD/yFau/jtOSxAfkyD9Eh6aAWFniPxYIu6aRoP4/Lb5+dM7N6z8JMp8mr8QMQEASA0FQz7o/RXITtYHJ0L8KHzvoYWbHPwcmpa1k08I/B8a0W04y4z86B6BS7EGxP/MY1iIRm+M/MtBylClO5T8oRgXaxjueP8vbHTCC7OY/ND54PMsI8D+NYvgc2xudP/Y5RFTv3IQ/SRLN2S12az/a9R/F32hsP5HCDq+N8nM/VVic9z5aZT+lLHhcCSRxP8F1ggsUVH0/cd0UlOrrej8T8n7o/KBjPzSzzomAkFA/mwZ5+Whltb8czo7+DcSPPxcQBYNBl9k/2Ut6qiXlvj+Gd+Bq6UzDP05ObVPAU9E/thplNMGQkT/rjUkjjW3SP8DLzoEqcMo/Ge47LIK7zz/cAdufTw7Lv21SlKzKWsE/ktTUyDOhXD+7t9m1cG7HP7xsxOwimtA/OaG9G1uo0z9yiLe1CR2/P7DGEG5TI9Q/FgJnK7Dz2D9itgy0ePG/P12KIfbWCqA/",
          "dtype": "f8"
         },
         "yaxis": "y"
        },
        {
         "marker": {
          "color": "orange"
         },
         "mode": "markers",
         "name": "Std",
         "showlegend": false,
         "type": "scatter",
         "x": [
          0,
          1,
          2,
          3,
          4,
          5,
          6,
          7,
          8,
          9,
          10,
          11,
          12,
          13,
          14,
          15,
          16,
          17,
          18,
          19,
          20,
          21,
          22,
          23,
          24,
          25,
          26,
          27,
          28,
          29,
          30,
          31,
          32,
          33,
          34,
          35,
          36,
          37,
          38,
          39,
          40,
          41,
          42,
          43,
          44,
          45,
          46,
          47,
          48,
          49,
          50,
          51,
          52,
          53,
          54,
          55,
          56
         ],
         "xaxis": "x2",
         "y": {
          "bdata": "7LxwSrVZIUCes/d0QfcRQHum7YyaGgFAisMGzkauA0BXjsPLr55YQMO9MvwuXcU//eUjAAumxj+WDzLubGfpPw32jbcmBOk/UX8d8bCL5z/O62VNzW88QMMV972igl5AKRazj3CgEECip8JLpWAuQAs0ZrofW90/bTOoghcn3D8o9zA2OaDlP7dIdmFXcuo/u5KbnTWI6j/If4w1LS/FP3FEhIPjdvE/ew16eeie7D/reNQ7ely7P8xqtzUiFPc/TUOog4/AAECxnqWIYj66P5X6CGTMLao/pOO1r3Y2oz+vhFCZr4icP5yVIfqfgaA/83d9CsaWoD/4O9x4dgWfP7LMw0ARw6Y/xGLaoL71pT+VCLokr36fP2sBp7xkD5Q/6fw4E4zt4j9/dtdwtlvoPw/jCVz+XAZAQXSRxGCL7z9drdK4z9vlP6RWeTwkh+I/zTp1w9QY8D9SUJYm+73oP849G8+Ea+c/RDD6QkU76j+6yDB1fsLuP1D3fTdhRdg/yc8AA7Zj4T8/6KC/qB/xP++EzC837ew/MrKXTJ7H6D9XpjDqIAzdPyglevFmqPs/nQTxJ6Wy+j8aFXDbDUz3P/nYyvMVAOY/",
          "dtype": "f8"
         },
         "yaxis": "y2"
        },
        {
         "marker": {
          "color": "red"
         },
         "mode": "markers",
         "name": "Min",
         "showlegend": false,
         "type": "scatter",
         "x": [
          0,
          1,
          2,
          3,
          4,
          5,
          6,
          7,
          8,
          9,
          10,
          11,
          12,
          13,
          14,
          15,
          16,
          17,
          18,
          19,
          20,
          21,
          22,
          23,
          24,
          25,
          26,
          27,
          28,
          29,
          30,
          31,
          32,
          33,
          34,
          35,
          36,
          37,
          38,
          39,
          40,
          41,
          42,
          43,
          44,
          45,
          46,
          47,
          48,
          49,
          50,
          51,
          52,
          53,
          54,
          55,
          56
         ],
         "xaxis": "x3",
         "y": {
          "bdata": "rgjT988lzr8G/tEjmUrXv/heuutKqtC/YyaH0kUZ179FF1100UXHv7gehetRuJ6/AAAAAAAAAAAd5Q3hN4j0v0YY58hA+QLAAAAAAAAA4L8AAAAAAAAAAAAAAAAAAAAAAAAAAAAAAAAAAAAAAAAAAAAAAAAAAAAAAAAAAAAA8L8AAAAAAADwvwAAAAAAAPC/AAAAAAAAAAAAAAAAAAAAAAAAAAAAAAAAAAAAAAAAAAAAAAAAAAAAAAAAAAAAAAAAAAAAAAAAAAAAAAAAAAAAAAAAAAAAAAAAAAAAAAAAAAAAAAAAAAAAAAAAAAAAAAAAAAAAAAAAAAAAAAAAAAAAAAAAAAAAAAAAAAAAAAAAAAAAAAAAAAAAAAAAAAAAAAAAnN70pje9+b8AAAAAAAAKwAAAAAAAAAAA+a0Q2F1wHMBVVVVVVVXlv1VVVVVVVdW/AAAAAAAA+L8AAAAAAADgvwAAAAAAAPC/AAAAAAAA4L8AAAAAAADwvwAAAAAAAAAAAAAAAAAA4L8AAAAAAADwvwAAAAAAAAAAAAAAAAAAAAAAAAAAAAAAAHIcx3Ecx/G/AAAAAAAA4L8AAAAAAADwvwAAAAAAAPi/",
          "dtype": "f8"
         },
         "yaxis": "y3"
        },
        {
         "marker": {
          "color": "green"
         },
         "mode": "markers",
         "name": "Max",
         "showlegend": false,
         "type": "scatter",
         "x": [
          0,
          1,
          2,
          3,
          4,
          5,
          6,
          7,
          8,
          9,
          10,
          11,
          12,
          13,
          14,
          15,
          16,
          17,
          18,
          19,
          20,
          21,
          22,
          23,
          24,
          25,
          26,
          27,
          28,
          29,
          30,
          31,
          32,
          33,
          34,
          35,
          36,
          37,
          38,
          39,
          40,
          41,
          42,
          43,
          44,
          45,
          46,
          47,
          48,
          49,
          50,
          51,
          52,
          53,
          54,
          55,
          56
         ],
         "xaxis": "x4",
         "y": {
          "bdata": "yoG6Z0GAUUD5AS7cZoV3QM2Z+hiSTUtAVwQX4yEkWEAvuuiiy7nTQOkmMQisHO4/AAAAAAAA8D/LUHiCTEgAQGguNmlI2g5AAAAAAAAAFkAAAAAAABm3QAAAAACAiuRAAAAAAACAQUAAAAAAAABgQAAAAAAAAChAAAAAAAAAAAAAAAAAAAAMQFVVVVVVVSNARxRnAAAACEAAAAAAAADwPzZPTQAAABJARxRnAAAACEAAAAAAAADwP629h////xtAv4Kh////JUCOPQ6SJEniPxa1+VRVVdU/AAAAAAAA8D8AAAAAAADQPwAAAAAAANA/AAAAAAAA8D8AAAAAAADQPxa1+VRVVdU/FrX5VFVV1T8AAAAAAADwPwAAAAAAAPA/FrKQhSxkCUAAAAAAAIBAQAAAAAAAOI9AgvbRYdrIWECrqqqqqqoSQKuqqqqqqhJAAAAAAAAAHEAAAAAAAAAWQFVVVVVVVQ1AAAAAAAAAGkAAAAAAAAAcQAAAAAAAABRAAAAAAAAAGEAAAAAAAAA4QAAAAAAAgFBAAAAAAACARUAAAAAAAAAqQKuqqqqqqjpAAAAAAAAAQUAAAAAAAIA2QNu2bdu2bSRA",
          "dtype": "f8"
         },
         "yaxis": "y4"
        }
       ],
       "layout": {
        "annotations": [
         {
          "font": {
           "size": 16
          },
          "showarrow": false,
          "text": "Media por Feature",
          "x": 0.225,
          "xanchor": "center",
          "xref": "paper",
          "y": 1,
          "yanchor": "bottom",
          "yref": "paper"
         },
         {
          "font": {
           "size": 16
          },
          "showarrow": false,
          "text": "Desviación Estándar",
          "x": 0.775,
          "xanchor": "center",
          "xref": "paper",
          "y": 1,
          "yanchor": "bottom",
          "yref": "paper"
         },
         {
          "font": {
           "size": 16
          },
          "showarrow": false,
          "text": "Valores Mínimos",
          "x": 0.225,
          "xanchor": "center",
          "xref": "paper",
          "y": 0.375,
          "yanchor": "bottom",
          "yref": "paper"
         },
         {
          "font": {
           "size": 16
          },
          "showarrow": false,
          "text": "Valores Máximos",
          "x": 0.775,
          "xanchor": "center",
          "xref": "paper",
          "y": 0.375,
          "yanchor": "bottom",
          "yref": "paper"
         }
        ],
        "height": 600,
        "showlegend": false,
        "template": {
         "data": {
          "bar": [
           {
            "error_x": {
             "color": "#2a3f5f"
            },
            "error_y": {
             "color": "#2a3f5f"
            },
            "marker": {
             "line": {
              "color": "#E5ECF6",
              "width": 0.5
             },
             "pattern": {
              "fillmode": "overlay",
              "size": 10,
              "solidity": 0.2
             }
            },
            "type": "bar"
           }
          ],
          "barpolar": [
           {
            "marker": {
             "line": {
              "color": "#E5ECF6",
              "width": 0.5
             },
             "pattern": {
              "fillmode": "overlay",
              "size": 10,
              "solidity": 0.2
             }
            },
            "type": "barpolar"
           }
          ],
          "carpet": [
           {
            "aaxis": {
             "endlinecolor": "#2a3f5f",
             "gridcolor": "white",
             "linecolor": "white",
             "minorgridcolor": "white",
             "startlinecolor": "#2a3f5f"
            },
            "baxis": {
             "endlinecolor": "#2a3f5f",
             "gridcolor": "white",
             "linecolor": "white",
             "minorgridcolor": "white",
             "startlinecolor": "#2a3f5f"
            },
            "type": "carpet"
           }
          ],
          "choropleth": [
           {
            "colorbar": {
             "outlinewidth": 0,
             "ticks": ""
            },
            "type": "choropleth"
           }
          ],
          "contour": [
           {
            "colorbar": {
             "outlinewidth": 0,
             "ticks": ""
            },
            "colorscale": [
             [
              0,
              "#0d0887"
             ],
             [
              0.1111111111111111,
              "#46039f"
             ],
             [
              0.2222222222222222,
              "#7201a8"
             ],
             [
              0.3333333333333333,
              "#9c179e"
             ],
             [
              0.4444444444444444,
              "#bd3786"
             ],
             [
              0.5555555555555556,
              "#d8576b"
             ],
             [
              0.6666666666666666,
              "#ed7953"
             ],
             [
              0.7777777777777778,
              "#fb9f3a"
             ],
             [
              0.8888888888888888,
              "#fdca26"
             ],
             [
              1,
              "#f0f921"
             ]
            ],
            "type": "contour"
           }
          ],
          "contourcarpet": [
           {
            "colorbar": {
             "outlinewidth": 0,
             "ticks": ""
            },
            "type": "contourcarpet"
           }
          ],
          "heatmap": [
           {
            "colorbar": {
             "outlinewidth": 0,
             "ticks": ""
            },
            "colorscale": [
             [
              0,
              "#0d0887"
             ],
             [
              0.1111111111111111,
              "#46039f"
             ],
             [
              0.2222222222222222,
              "#7201a8"
             ],
             [
              0.3333333333333333,
              "#9c179e"
             ],
             [
              0.4444444444444444,
              "#bd3786"
             ],
             [
              0.5555555555555556,
              "#d8576b"
             ],
             [
              0.6666666666666666,
              "#ed7953"
             ],
             [
              0.7777777777777778,
              "#fb9f3a"
             ],
             [
              0.8888888888888888,
              "#fdca26"
             ],
             [
              1,
              "#f0f921"
             ]
            ],
            "type": "heatmap"
           }
          ],
          "histogram": [
           {
            "marker": {
             "pattern": {
              "fillmode": "overlay",
              "size": 10,
              "solidity": 0.2
             }
            },
            "type": "histogram"
           }
          ],
          "histogram2d": [
           {
            "colorbar": {
             "outlinewidth": 0,
             "ticks": ""
            },
            "colorscale": [
             [
              0,
              "#0d0887"
             ],
             [
              0.1111111111111111,
              "#46039f"
             ],
             [
              0.2222222222222222,
              "#7201a8"
             ],
             [
              0.3333333333333333,
              "#9c179e"
             ],
             [
              0.4444444444444444,
              "#bd3786"
             ],
             [
              0.5555555555555556,
              "#d8576b"
             ],
             [
              0.6666666666666666,
              "#ed7953"
             ],
             [
              0.7777777777777778,
              "#fb9f3a"
             ],
             [
              0.8888888888888888,
              "#fdca26"
             ],
             [
              1,
              "#f0f921"
             ]
            ],
            "type": "histogram2d"
           }
          ],
          "histogram2dcontour": [
           {
            "colorbar": {
             "outlinewidth": 0,
             "ticks": ""
            },
            "colorscale": [
             [
              0,
              "#0d0887"
             ],
             [
              0.1111111111111111,
              "#46039f"
             ],
             [
              0.2222222222222222,
              "#7201a8"
             ],
             [
              0.3333333333333333,
              "#9c179e"
             ],
             [
              0.4444444444444444,
              "#bd3786"
             ],
             [
              0.5555555555555556,
              "#d8576b"
             ],
             [
              0.6666666666666666,
              "#ed7953"
             ],
             [
              0.7777777777777778,
              "#fb9f3a"
             ],
             [
              0.8888888888888888,
              "#fdca26"
             ],
             [
              1,
              "#f0f921"
             ]
            ],
            "type": "histogram2dcontour"
           }
          ],
          "mesh3d": [
           {
            "colorbar": {
             "outlinewidth": 0,
             "ticks": ""
            },
            "type": "mesh3d"
           }
          ],
          "parcoords": [
           {
            "line": {
             "colorbar": {
              "outlinewidth": 0,
              "ticks": ""
             }
            },
            "type": "parcoords"
           }
          ],
          "pie": [
           {
            "automargin": true,
            "type": "pie"
           }
          ],
          "scatter": [
           {
            "fillpattern": {
             "fillmode": "overlay",
             "size": 10,
             "solidity": 0.2
            },
            "type": "scatter"
           }
          ],
          "scatter3d": [
           {
            "line": {
             "colorbar": {
              "outlinewidth": 0,
              "ticks": ""
             }
            },
            "marker": {
             "colorbar": {
              "outlinewidth": 0,
              "ticks": ""
             }
            },
            "type": "scatter3d"
           }
          ],
          "scattercarpet": [
           {
            "marker": {
             "colorbar": {
              "outlinewidth": 0,
              "ticks": ""
             }
            },
            "type": "scattercarpet"
           }
          ],
          "scattergeo": [
           {
            "marker": {
             "colorbar": {
              "outlinewidth": 0,
              "ticks": ""
             }
            },
            "type": "scattergeo"
           }
          ],
          "scattergl": [
           {
            "marker": {
             "colorbar": {
              "outlinewidth": 0,
              "ticks": ""
             }
            },
            "type": "scattergl"
           }
          ],
          "scattermap": [
           {
            "marker": {
             "colorbar": {
              "outlinewidth": 0,
              "ticks": ""
             }
            },
            "type": "scattermap"
           }
          ],
          "scattermapbox": [
           {
            "marker": {
             "colorbar": {
              "outlinewidth": 0,
              "ticks": ""
             }
            },
            "type": "scattermapbox"
           }
          ],
          "scatterpolar": [
           {
            "marker": {
             "colorbar": {
              "outlinewidth": 0,
              "ticks": ""
             }
            },
            "type": "scatterpolar"
           }
          ],
          "scatterpolargl": [
           {
            "marker": {
             "colorbar": {
              "outlinewidth": 0,
              "ticks": ""
             }
            },
            "type": "scatterpolargl"
           }
          ],
          "scatterternary": [
           {
            "marker": {
             "colorbar": {
              "outlinewidth": 0,
              "ticks": ""
             }
            },
            "type": "scatterternary"
           }
          ],
          "surface": [
           {
            "colorbar": {
             "outlinewidth": 0,
             "ticks": ""
            },
            "colorscale": [
             [
              0,
              "#0d0887"
             ],
             [
              0.1111111111111111,
              "#46039f"
             ],
             [
              0.2222222222222222,
              "#7201a8"
             ],
             [
              0.3333333333333333,
              "#9c179e"
             ],
             [
              0.4444444444444444,
              "#bd3786"
             ],
             [
              0.5555555555555556,
              "#d8576b"
             ],
             [
              0.6666666666666666,
              "#ed7953"
             ],
             [
              0.7777777777777778,
              "#fb9f3a"
             ],
             [
              0.8888888888888888,
              "#fdca26"
             ],
             [
              1,
              "#f0f921"
             ]
            ],
            "type": "surface"
           }
          ],
          "table": [
           {
            "cells": {
             "fill": {
              "color": "#EBF0F8"
             },
             "line": {
              "color": "white"
             }
            },
            "header": {
             "fill": {
              "color": "#C8D4E3"
             },
             "line": {
              "color": "white"
             }
            },
            "type": "table"
           }
          ]
         },
         "layout": {
          "annotationdefaults": {
           "arrowcolor": "#2a3f5f",
           "arrowhead": 0,
           "arrowwidth": 1
          },
          "autotypenumbers": "strict",
          "coloraxis": {
           "colorbar": {
            "outlinewidth": 0,
            "ticks": ""
           }
          },
          "colorscale": {
           "diverging": [
            [
             0,
             "#8e0152"
            ],
            [
             0.1,
             "#c51b7d"
            ],
            [
             0.2,
             "#de77ae"
            ],
            [
             0.3,
             "#f1b6da"
            ],
            [
             0.4,
             "#fde0ef"
            ],
            [
             0.5,
             "#f7f7f7"
            ],
            [
             0.6,
             "#e6f5d0"
            ],
            [
             0.7,
             "#b8e186"
            ],
            [
             0.8,
             "#7fbc41"
            ],
            [
             0.9,
             "#4d9221"
            ],
            [
             1,
             "#276419"
            ]
           ],
           "sequential": [
            [
             0,
             "#0d0887"
            ],
            [
             0.1111111111111111,
             "#46039f"
            ],
            [
             0.2222222222222222,
             "#7201a8"
            ],
            [
             0.3333333333333333,
             "#9c179e"
            ],
            [
             0.4444444444444444,
             "#bd3786"
            ],
            [
             0.5555555555555556,
             "#d8576b"
            ],
            [
             0.6666666666666666,
             "#ed7953"
            ],
            [
             0.7777777777777778,
             "#fb9f3a"
            ],
            [
             0.8888888888888888,
             "#fdca26"
            ],
            [
             1,
             "#f0f921"
            ]
           ],
           "sequentialminus": [
            [
             0,
             "#0d0887"
            ],
            [
             0.1111111111111111,
             "#46039f"
            ],
            [
             0.2222222222222222,
             "#7201a8"
            ],
            [
             0.3333333333333333,
             "#9c179e"
            ],
            [
             0.4444444444444444,
             "#bd3786"
            ],
            [
             0.5555555555555556,
             "#d8576b"
            ],
            [
             0.6666666666666666,
             "#ed7953"
            ],
            [
             0.7777777777777778,
             "#fb9f3a"
            ],
            [
             0.8888888888888888,
             "#fdca26"
            ],
            [
             1,
             "#f0f921"
            ]
           ]
          },
          "colorway": [
           "#636efa",
           "#EF553B",
           "#00cc96",
           "#ab63fa",
           "#FFA15A",
           "#19d3f3",
           "#FF6692",
           "#B6E880",
           "#FF97FF",
           "#FECB52"
          ],
          "font": {
           "color": "#2a3f5f"
          },
          "geo": {
           "bgcolor": "white",
           "lakecolor": "white",
           "landcolor": "#E5ECF6",
           "showlakes": true,
           "showland": true,
           "subunitcolor": "white"
          },
          "hoverlabel": {
           "align": "left"
          },
          "hovermode": "closest",
          "mapbox": {
           "style": "light"
          },
          "paper_bgcolor": "white",
          "plot_bgcolor": "#E5ECF6",
          "polar": {
           "angularaxis": {
            "gridcolor": "white",
            "linecolor": "white",
            "ticks": ""
           },
           "bgcolor": "#E5ECF6",
           "radialaxis": {
            "gridcolor": "white",
            "linecolor": "white",
            "ticks": ""
           }
          },
          "scene": {
           "xaxis": {
            "backgroundcolor": "#E5ECF6",
            "gridcolor": "white",
            "gridwidth": 2,
            "linecolor": "white",
            "showbackground": true,
            "ticks": "",
            "zerolinecolor": "white"
           },
           "yaxis": {
            "backgroundcolor": "#E5ECF6",
            "gridcolor": "white",
            "gridwidth": 2,
            "linecolor": "white",
            "showbackground": true,
            "ticks": "",
            "zerolinecolor": "white"
           },
           "zaxis": {
            "backgroundcolor": "#E5ECF6",
            "gridcolor": "white",
            "gridwidth": 2,
            "linecolor": "white",
            "showbackground": true,
            "ticks": "",
            "zerolinecolor": "white"
           }
          },
          "shapedefaults": {
           "line": {
            "color": "#2a3f5f"
           }
          },
          "ternary": {
           "aaxis": {
            "gridcolor": "white",
            "linecolor": "white",
            "ticks": ""
           },
           "baxis": {
            "gridcolor": "white",
            "linecolor": "white",
            "ticks": ""
           },
           "bgcolor": "#E5ECF6",
           "caxis": {
            "gridcolor": "white",
            "linecolor": "white",
            "ticks": ""
           }
          },
          "title": {
           "x": 0.05
          },
          "xaxis": {
           "automargin": true,
           "gridcolor": "white",
           "linecolor": "white",
           "ticks": "",
           "title": {
            "standoff": 15
           },
           "zerolinecolor": "white",
           "zerolinewidth": 2
          },
          "yaxis": {
           "automargin": true,
           "gridcolor": "white",
           "linecolor": "white",
           "ticks": "",
           "title": {
            "standoff": 15
           },
           "zerolinecolor": "white",
           "zerolinewidth": 2
          }
         }
        },
        "title": {
         "text": "Estadísticas Descriptivas de Features"
        },
        "xaxis": {
         "anchor": "y",
         "domain": [
          0,
          0.45
         ]
        },
        "xaxis2": {
         "anchor": "y2",
         "domain": [
          0.55,
          1
         ]
        },
        "xaxis3": {
         "anchor": "y3",
         "domain": [
          0,
          0.45
         ]
        },
        "xaxis4": {
         "anchor": "y4",
         "domain": [
          0.55,
          1
         ]
        },
        "yaxis": {
         "anchor": "x",
         "domain": [
          0.625,
          1
         ]
        },
        "yaxis2": {
         "anchor": "x2",
         "domain": [
          0.625,
          1
         ]
        },
        "yaxis3": {
         "anchor": "x3",
         "domain": [
          0,
          0.375
         ]
        },
        "yaxis4": {
         "anchor": "x4",
         "domain": [
          0,
          0.375
         ]
        }
       }
      },
      "text/html": [
       "<div>            <script src=\"https://cdnjs.cloudflare.com/ajax/libs/mathjax/2.7.5/MathJax.js?config=TeX-AMS-MML_SVG\"></script><script type=\"text/javascript\">if (window.MathJax && window.MathJax.Hub && window.MathJax.Hub.Config) {window.MathJax.Hub.Config({SVG: {font: \"STIX-Web\"}});}</script>                <script type=\"text/javascript\">window.PlotlyConfig = {MathJaxConfig: 'local'};</script>\n",
       "        <script charset=\"utf-8\" src=\"https://cdn.plot.ly/plotly-3.1.0.min.js\" integrity=\"sha256-Ei4740bWZhaUTQuD6q9yQlgVCMPBz6CZWhevDYPv93A=\" crossorigin=\"anonymous\"></script>                <div id=\"3edbf141-ff24-4f01-82ed-9486dcff41da\" class=\"plotly-graph-div\" style=\"height:600px; width:100%;\"></div>            <script type=\"text/javascript\">                window.PLOTLYENV=window.PLOTLYENV || {};                                if (document.getElementById(\"3edbf141-ff24-4f01-82ed-9486dcff41da\")) {                    Plotly.newPlot(                        \"3edbf141-ff24-4f01-82ed-9486dcff41da\",                        [{\"mode\":\"markers\",\"name\":\"Media\",\"showlegend\":false,\"x\":[0,1,2,3,4,5,6,7,8,9,10,11,12,13,14,15,16,17,18,19,20,21,22,23,24,25,26,27,28,29,30,31,32,33,34,35,36,37,38,39,40,41,42,43,44,45,46,47,48,49,50,51,52,53,54,55,56],\"y\":{\"dtype\":\"f8\",\"bdata\":\"82LBzGb8AEDDqYs2hz7rPzTTOjNNeeg\\u002f0UNXO2RL6D9o4hp4Zu0ZQOYg7niqop0\\u002fwSFjk9uQoD9FNptFNEewP7ZePD\\u002fyFau\\u002fjtOSxAfkyD9Eh6aAWFniPxYIu6aRoP4\\u002fLb5+dM7N6z8JMp8mr8QMQEASA0FQz7o\\u002fRXITtYHJ0L8KHzvoYWbHPwcmpa1k08I\\u002fB8a0W04y4z86B6BS7EGxP\\u002fMY1iIRm+M\\u002fMtBylClO5T8oRgXaxjueP8vbHTCC7OY\\u002fND54PMsI8D+NYvgc2xudP\\u002fY5RFTv3IQ\\u002fSRLN2S12az\\u002fa9R\\u002fF32hsP5HCDq+N8nM\\u002fVVic9z5aZT+lLHhcCSRxP8F1ggsUVH0\\u002fcd0UlOrrej8T8n7o\\u002fKBjPzSzzomAkFA\\u002fmwZ5+Whltb8czo7+DcSPPxcQBYNBl9k\\u002f2Ut6qiXlvj+Gd+Bq6UzDP05ObVPAU9E\\u002fthplNMGQkT\\u002frjUkjjW3SP8DLzoEqcMo\\u002fGe47LIK7zz\\u002fcAdufTw7Lv21SlKzKWsE\\u002fktTUyDOhXD+7t9m1cG7HP7xsxOwimtA\\u002fOaG9G1uo0z9yiLe1CR2\\u002fP7DGEG5TI9Q\\u002fFgJnK7Dz2D9itgy0ePG\\u002fP12KIfbWCqA\\u002f\"},\"type\":\"scatter\",\"xaxis\":\"x\",\"yaxis\":\"y\"},{\"marker\":{\"color\":\"orange\"},\"mode\":\"markers\",\"name\":\"Std\",\"showlegend\":false,\"x\":[0,1,2,3,4,5,6,7,8,9,10,11,12,13,14,15,16,17,18,19,20,21,22,23,24,25,26,27,28,29,30,31,32,33,34,35,36,37,38,39,40,41,42,43,44,45,46,47,48,49,50,51,52,53,54,55,56],\"y\":{\"dtype\":\"f8\",\"bdata\":\"7LxwSrVZIUCes\\u002fd0QfcRQHum7YyaGgFAisMGzkauA0BXjsPLr55YQMO9MvwuXcU\\u002f\\u002feUjAAumxj+WDzLubGfpPw32jbcmBOk\\u002fUX8d8bCL5z\\u002fO62VNzW88QMMV972igl5AKRazj3CgEECip8JLpWAuQAs0ZrofW90\\u002fbTOoghcn3D8o9zA2OaDlP7dIdmFXcuo\\u002fu5KbnTWI6j\\u002fIf4w1LS\\u002fFP3FEhIPjdvE\\u002few16eeie7D\\u002freNQ7ely7P8xqtzUiFPc\\u002fTUOog4\\u002fAAECxnqWIYj66P5X6CGTMLao\\u002fpOO1r3Y2oz+vhFCZr4icP5yVIfqfgaA\\u002f83d9CsaWoD\\u002f4O9x4dgWfP7LMw0ARw6Y\\u002fxGLaoL71pT+VCLokr36fP2sBp7xkD5Q\\u002f6fw4E4zt4j9\\u002fdtdwtlvoPw\\u002fjCVz+XAZAQXSRxGCL7z9drdK4z9vlP6RWeTwkh+I\\u002fzTp1w9QY8D9SUJYm+73oP849G8+Ea+c\\u002fRDD6QkU76j+6yDB1fsLuP1D3fTdhRdg\\u002fyc8AA7Zj4T8\\u002f6KC\\u002fqB\\u002fxP++EzC837ew\\u002fMrKXTJ7H6D9XpjDqIAzdPyglevFmqPs\\u002fnQTxJ6Wy+j8aFXDbDUz3P\\u002fnYyvMVAOY\\u002f\"},\"type\":\"scatter\",\"xaxis\":\"x2\",\"yaxis\":\"y2\"},{\"marker\":{\"color\":\"red\"},\"mode\":\"markers\",\"name\":\"Min\",\"showlegend\":false,\"x\":[0,1,2,3,4,5,6,7,8,9,10,11,12,13,14,15,16,17,18,19,20,21,22,23,24,25,26,27,28,29,30,31,32,33,34,35,36,37,38,39,40,41,42,43,44,45,46,47,48,49,50,51,52,53,54,55,56],\"y\":{\"dtype\":\"f8\",\"bdata\":\"rgjT988lzr8G\\u002ftEjmUrXv\\u002fheuutKqtC\\u002fYyaH0kUZ179FF1100UXHv7gehetRuJ6\\u002fAAAAAAAAAAAd5Q3hN4j0v0YY58hA+QLAAAAAAAAA4L8AAAAAAAAAAAAAAAAAAAAAAAAAAAAAAAAAAAAAAAAAAAAAAAAAAAAAAAAAAAAA8L8AAAAAAADwvwAAAAAAAPC\\u002fAAAAAAAAAAAAAAAAAAAAAAAAAAAAAAAAAAAAAAAAAAAAAAAAAAAAAAAAAAAAAAAAAAAAAAAAAAAAAAAAAAAAAAAAAAAAAAAAAAAAAAAAAAAAAAAAAAAAAAAAAAAAAAAAAAAAAAAAAAAAAAAAAAAAAAAAAAAAAAAAAAAAAAAAAAAAAAAAAAAAAAAAAAAAAAAAnN70pje9+b8AAAAAAAAKwAAAAAAAAAAA+a0Q2F1wHMBVVVVVVVXlv1VVVVVVVdW\\u002fAAAAAAAA+L8AAAAAAADgvwAAAAAAAPC\\u002fAAAAAAAA4L8AAAAAAADwvwAAAAAAAAAAAAAAAAAA4L8AAAAAAADwvwAAAAAAAAAAAAAAAAAAAAAAAAAAAAAAAHIcx3Ecx\\u002fG\\u002fAAAAAAAA4L8AAAAAAADwvwAAAAAAAPi\\u002f\"},\"type\":\"scatter\",\"xaxis\":\"x3\",\"yaxis\":\"y3\"},{\"marker\":{\"color\":\"green\"},\"mode\":\"markers\",\"name\":\"Max\",\"showlegend\":false,\"x\":[0,1,2,3,4,5,6,7,8,9,10,11,12,13,14,15,16,17,18,19,20,21,22,23,24,25,26,27,28,29,30,31,32,33,34,35,36,37,38,39,40,41,42,43,44,45,46,47,48,49,50,51,52,53,54,55,56],\"y\":{\"dtype\":\"f8\",\"bdata\":\"yoG6Z0GAUUD5AS7cZoV3QM2Z+hiSTUtAVwQX4yEkWEAvuuiiy7nTQOkmMQisHO4\\u002fAAAAAAAA8D\\u002fLUHiCTEgAQGguNmlI2g5AAAAAAAAAFkAAAAAAABm3QAAAAACAiuRAAAAAAACAQUAAAAAAAABgQAAAAAAAAChAAAAAAAAAAAAAAAAAAAAMQFVVVVVVVSNARxRnAAAACEAAAAAAAADwPzZPTQAAABJARxRnAAAACEAAAAAAAADwP629h\\u002f\\u002f\\u002f\\u002fxtAv4Kh\\u002f\\u002f\\u002f\\u002fJUCOPQ6SJEniPxa1+VRVVdU\\u002fAAAAAAAA8D8AAAAAAADQPwAAAAAAANA\\u002fAAAAAAAA8D8AAAAAAADQPxa1+VRVVdU\\u002fFrX5VFVV1T8AAAAAAADwPwAAAAAAAPA\\u002fFrKQhSxkCUAAAAAAAIBAQAAAAAAAOI9AgvbRYdrIWECrqqqqqqoSQKuqqqqqqhJAAAAAAAAAHEAAAAAAAAAWQFVVVVVVVQ1AAAAAAAAAGkAAAAAAAAAcQAAAAAAAABRAAAAAAAAAGEAAAAAAAAA4QAAAAAAAgFBAAAAAAACARUAAAAAAAAAqQKuqqqqqqjpAAAAAAAAAQUAAAAAAAIA2QNu2bdu2bSRA\"},\"type\":\"scatter\",\"xaxis\":\"x4\",\"yaxis\":\"y4\"}],                        {\"template\":{\"data\":{\"histogram2dcontour\":[{\"type\":\"histogram2dcontour\",\"colorbar\":{\"outlinewidth\":0,\"ticks\":\"\"},\"colorscale\":[[0.0,\"#0d0887\"],[0.1111111111111111,\"#46039f\"],[0.2222222222222222,\"#7201a8\"],[0.3333333333333333,\"#9c179e\"],[0.4444444444444444,\"#bd3786\"],[0.5555555555555556,\"#d8576b\"],[0.6666666666666666,\"#ed7953\"],[0.7777777777777778,\"#fb9f3a\"],[0.8888888888888888,\"#fdca26\"],[1.0,\"#f0f921\"]]}],\"choropleth\":[{\"type\":\"choropleth\",\"colorbar\":{\"outlinewidth\":0,\"ticks\":\"\"}}],\"histogram2d\":[{\"type\":\"histogram2d\",\"colorbar\":{\"outlinewidth\":0,\"ticks\":\"\"},\"colorscale\":[[0.0,\"#0d0887\"],[0.1111111111111111,\"#46039f\"],[0.2222222222222222,\"#7201a8\"],[0.3333333333333333,\"#9c179e\"],[0.4444444444444444,\"#bd3786\"],[0.5555555555555556,\"#d8576b\"],[0.6666666666666666,\"#ed7953\"],[0.7777777777777778,\"#fb9f3a\"],[0.8888888888888888,\"#fdca26\"],[1.0,\"#f0f921\"]]}],\"heatmap\":[{\"type\":\"heatmap\",\"colorbar\":{\"outlinewidth\":0,\"ticks\":\"\"},\"colorscale\":[[0.0,\"#0d0887\"],[0.1111111111111111,\"#46039f\"],[0.2222222222222222,\"#7201a8\"],[0.3333333333333333,\"#9c179e\"],[0.4444444444444444,\"#bd3786\"],[0.5555555555555556,\"#d8576b\"],[0.6666666666666666,\"#ed7953\"],[0.7777777777777778,\"#fb9f3a\"],[0.8888888888888888,\"#fdca26\"],[1.0,\"#f0f921\"]]}],\"contourcarpet\":[{\"type\":\"contourcarpet\",\"colorbar\":{\"outlinewidth\":0,\"ticks\":\"\"}}],\"contour\":[{\"type\":\"contour\",\"colorbar\":{\"outlinewidth\":0,\"ticks\":\"\"},\"colorscale\":[[0.0,\"#0d0887\"],[0.1111111111111111,\"#46039f\"],[0.2222222222222222,\"#7201a8\"],[0.3333333333333333,\"#9c179e\"],[0.4444444444444444,\"#bd3786\"],[0.5555555555555556,\"#d8576b\"],[0.6666666666666666,\"#ed7953\"],[0.7777777777777778,\"#fb9f3a\"],[0.8888888888888888,\"#fdca26\"],[1.0,\"#f0f921\"]]}],\"surface\":[{\"type\":\"surface\",\"colorbar\":{\"outlinewidth\":0,\"ticks\":\"\"},\"colorscale\":[[0.0,\"#0d0887\"],[0.1111111111111111,\"#46039f\"],[0.2222222222222222,\"#7201a8\"],[0.3333333333333333,\"#9c179e\"],[0.4444444444444444,\"#bd3786\"],[0.5555555555555556,\"#d8576b\"],[0.6666666666666666,\"#ed7953\"],[0.7777777777777778,\"#fb9f3a\"],[0.8888888888888888,\"#fdca26\"],[1.0,\"#f0f921\"]]}],\"mesh3d\":[{\"type\":\"mesh3d\",\"colorbar\":{\"outlinewidth\":0,\"ticks\":\"\"}}],\"scatter\":[{\"fillpattern\":{\"fillmode\":\"overlay\",\"size\":10,\"solidity\":0.2},\"type\":\"scatter\"}],\"parcoords\":[{\"type\":\"parcoords\",\"line\":{\"colorbar\":{\"outlinewidth\":0,\"ticks\":\"\"}}}],\"scatterpolargl\":[{\"type\":\"scatterpolargl\",\"marker\":{\"colorbar\":{\"outlinewidth\":0,\"ticks\":\"\"}}}],\"bar\":[{\"error_x\":{\"color\":\"#2a3f5f\"},\"error_y\":{\"color\":\"#2a3f5f\"},\"marker\":{\"line\":{\"color\":\"#E5ECF6\",\"width\":0.5},\"pattern\":{\"fillmode\":\"overlay\",\"size\":10,\"solidity\":0.2}},\"type\":\"bar\"}],\"scattergeo\":[{\"type\":\"scattergeo\",\"marker\":{\"colorbar\":{\"outlinewidth\":0,\"ticks\":\"\"}}}],\"scatterpolar\":[{\"type\":\"scatterpolar\",\"marker\":{\"colorbar\":{\"outlinewidth\":0,\"ticks\":\"\"}}}],\"histogram\":[{\"marker\":{\"pattern\":{\"fillmode\":\"overlay\",\"size\":10,\"solidity\":0.2}},\"type\":\"histogram\"}],\"scattergl\":[{\"type\":\"scattergl\",\"marker\":{\"colorbar\":{\"outlinewidth\":0,\"ticks\":\"\"}}}],\"scatter3d\":[{\"type\":\"scatter3d\",\"line\":{\"colorbar\":{\"outlinewidth\":0,\"ticks\":\"\"}},\"marker\":{\"colorbar\":{\"outlinewidth\":0,\"ticks\":\"\"}}}],\"scattermap\":[{\"type\":\"scattermap\",\"marker\":{\"colorbar\":{\"outlinewidth\":0,\"ticks\":\"\"}}}],\"scattermapbox\":[{\"type\":\"scattermapbox\",\"marker\":{\"colorbar\":{\"outlinewidth\":0,\"ticks\":\"\"}}}],\"scatterternary\":[{\"type\":\"scatterternary\",\"marker\":{\"colorbar\":{\"outlinewidth\":0,\"ticks\":\"\"}}}],\"scattercarpet\":[{\"type\":\"scattercarpet\",\"marker\":{\"colorbar\":{\"outlinewidth\":0,\"ticks\":\"\"}}}],\"carpet\":[{\"aaxis\":{\"endlinecolor\":\"#2a3f5f\",\"gridcolor\":\"white\",\"linecolor\":\"white\",\"minorgridcolor\":\"white\",\"startlinecolor\":\"#2a3f5f\"},\"baxis\":{\"endlinecolor\":\"#2a3f5f\",\"gridcolor\":\"white\",\"linecolor\":\"white\",\"minorgridcolor\":\"white\",\"startlinecolor\":\"#2a3f5f\"},\"type\":\"carpet\"}],\"table\":[{\"cells\":{\"fill\":{\"color\":\"#EBF0F8\"},\"line\":{\"color\":\"white\"}},\"header\":{\"fill\":{\"color\":\"#C8D4E3\"},\"line\":{\"color\":\"white\"}},\"type\":\"table\"}],\"barpolar\":[{\"marker\":{\"line\":{\"color\":\"#E5ECF6\",\"width\":0.5},\"pattern\":{\"fillmode\":\"overlay\",\"size\":10,\"solidity\":0.2}},\"type\":\"barpolar\"}],\"pie\":[{\"automargin\":true,\"type\":\"pie\"}]},\"layout\":{\"autotypenumbers\":\"strict\",\"colorway\":[\"#636efa\",\"#EF553B\",\"#00cc96\",\"#ab63fa\",\"#FFA15A\",\"#19d3f3\",\"#FF6692\",\"#B6E880\",\"#FF97FF\",\"#FECB52\"],\"font\":{\"color\":\"#2a3f5f\"},\"hovermode\":\"closest\",\"hoverlabel\":{\"align\":\"left\"},\"paper_bgcolor\":\"white\",\"plot_bgcolor\":\"#E5ECF6\",\"polar\":{\"bgcolor\":\"#E5ECF6\",\"angularaxis\":{\"gridcolor\":\"white\",\"linecolor\":\"white\",\"ticks\":\"\"},\"radialaxis\":{\"gridcolor\":\"white\",\"linecolor\":\"white\",\"ticks\":\"\"}},\"ternary\":{\"bgcolor\":\"#E5ECF6\",\"aaxis\":{\"gridcolor\":\"white\",\"linecolor\":\"white\",\"ticks\":\"\"},\"baxis\":{\"gridcolor\":\"white\",\"linecolor\":\"white\",\"ticks\":\"\"},\"caxis\":{\"gridcolor\":\"white\",\"linecolor\":\"white\",\"ticks\":\"\"}},\"coloraxis\":{\"colorbar\":{\"outlinewidth\":0,\"ticks\":\"\"}},\"colorscale\":{\"sequential\":[[0.0,\"#0d0887\"],[0.1111111111111111,\"#46039f\"],[0.2222222222222222,\"#7201a8\"],[0.3333333333333333,\"#9c179e\"],[0.4444444444444444,\"#bd3786\"],[0.5555555555555556,\"#d8576b\"],[0.6666666666666666,\"#ed7953\"],[0.7777777777777778,\"#fb9f3a\"],[0.8888888888888888,\"#fdca26\"],[1.0,\"#f0f921\"]],\"sequentialminus\":[[0.0,\"#0d0887\"],[0.1111111111111111,\"#46039f\"],[0.2222222222222222,\"#7201a8\"],[0.3333333333333333,\"#9c179e\"],[0.4444444444444444,\"#bd3786\"],[0.5555555555555556,\"#d8576b\"],[0.6666666666666666,\"#ed7953\"],[0.7777777777777778,\"#fb9f3a\"],[0.8888888888888888,\"#fdca26\"],[1.0,\"#f0f921\"]],\"diverging\":[[0,\"#8e0152\"],[0.1,\"#c51b7d\"],[0.2,\"#de77ae\"],[0.3,\"#f1b6da\"],[0.4,\"#fde0ef\"],[0.5,\"#f7f7f7\"],[0.6,\"#e6f5d0\"],[0.7,\"#b8e186\"],[0.8,\"#7fbc41\"],[0.9,\"#4d9221\"],[1,\"#276419\"]]},\"xaxis\":{\"gridcolor\":\"white\",\"linecolor\":\"white\",\"ticks\":\"\",\"title\":{\"standoff\":15},\"zerolinecolor\":\"white\",\"automargin\":true,\"zerolinewidth\":2},\"yaxis\":{\"gridcolor\":\"white\",\"linecolor\":\"white\",\"ticks\":\"\",\"title\":{\"standoff\":15},\"zerolinecolor\":\"white\",\"automargin\":true,\"zerolinewidth\":2},\"scene\":{\"xaxis\":{\"backgroundcolor\":\"#E5ECF6\",\"gridcolor\":\"white\",\"linecolor\":\"white\",\"showbackground\":true,\"ticks\":\"\",\"zerolinecolor\":\"white\",\"gridwidth\":2},\"yaxis\":{\"backgroundcolor\":\"#E5ECF6\",\"gridcolor\":\"white\",\"linecolor\":\"white\",\"showbackground\":true,\"ticks\":\"\",\"zerolinecolor\":\"white\",\"gridwidth\":2},\"zaxis\":{\"backgroundcolor\":\"#E5ECF6\",\"gridcolor\":\"white\",\"linecolor\":\"white\",\"showbackground\":true,\"ticks\":\"\",\"zerolinecolor\":\"white\",\"gridwidth\":2}},\"shapedefaults\":{\"line\":{\"color\":\"#2a3f5f\"}},\"annotationdefaults\":{\"arrowcolor\":\"#2a3f5f\",\"arrowhead\":0,\"arrowwidth\":1},\"geo\":{\"bgcolor\":\"white\",\"landcolor\":\"#E5ECF6\",\"subunitcolor\":\"white\",\"showland\":true,\"showlakes\":true,\"lakecolor\":\"white\"},\"title\":{\"x\":0.05},\"mapbox\":{\"style\":\"light\"}}},\"xaxis\":{\"anchor\":\"y\",\"domain\":[0.0,0.45]},\"yaxis\":{\"anchor\":\"x\",\"domain\":[0.625,1.0]},\"xaxis2\":{\"anchor\":\"y2\",\"domain\":[0.55,1.0]},\"yaxis2\":{\"anchor\":\"x2\",\"domain\":[0.625,1.0]},\"xaxis3\":{\"anchor\":\"y3\",\"domain\":[0.0,0.45]},\"yaxis3\":{\"anchor\":\"x3\",\"domain\":[0.0,0.375]},\"xaxis4\":{\"anchor\":\"y4\",\"domain\":[0.55,1.0]},\"yaxis4\":{\"anchor\":\"x4\",\"domain\":[0.0,0.375]},\"annotations\":[{\"font\":{\"size\":16},\"showarrow\":false,\"text\":\"Media por Feature\",\"x\":0.225,\"xanchor\":\"center\",\"xref\":\"paper\",\"y\":1.0,\"yanchor\":\"bottom\",\"yref\":\"paper\"},{\"font\":{\"size\":16},\"showarrow\":false,\"text\":\"Desviaci\\u00f3n Est\\u00e1ndar\",\"x\":0.775,\"xanchor\":\"center\",\"xref\":\"paper\",\"y\":1.0,\"yanchor\":\"bottom\",\"yref\":\"paper\"},{\"font\":{\"size\":16},\"showarrow\":false,\"text\":\"Valores M\\u00ednimos\",\"x\":0.225,\"xanchor\":\"center\",\"xref\":\"paper\",\"y\":0.375,\"yanchor\":\"bottom\",\"yref\":\"paper\"},{\"font\":{\"size\":16},\"showarrow\":false,\"text\":\"Valores M\\u00e1ximos\",\"x\":0.775,\"xanchor\":\"center\",\"xref\":\"paper\",\"y\":0.375,\"yanchor\":\"bottom\",\"yref\":\"paper\"}],\"title\":{\"text\":\"Estad\\u00edsticas Descriptivas de Features\"},\"height\":600,\"showlegend\":false},                        {\"responsive\": true}                    ).then(function(){\n",
       "                            \n",
       "var gd = document.getElementById('3edbf141-ff24-4f01-82ed-9486dcff41da');\n",
       "var x = new MutationObserver(function (mutations, observer) {{\n",
       "        var display = window.getComputedStyle(gd).display;\n",
       "        if (!display || display === 'none') {{\n",
       "            console.log([gd, 'removed!']);\n",
       "            Plotly.purge(gd);\n",
       "            observer.disconnect();\n",
       "        }}\n",
       "}});\n",
       "\n",
       "// Listen for the removal of the full notebook cells\n",
       "var notebookContainer = gd.closest('#notebook-container');\n",
       "if (notebookContainer) {{\n",
       "    x.observe(notebookContainer, {childList: true});\n",
       "}}\n",
       "\n",
       "// Listen for the clearing of the current output cell\n",
       "var outputEl = gd.closest('.output');\n",
       "if (outputEl) {{\n",
       "    x.observe(outputEl, {childList: true});\n",
       "}}\n",
       "\n",
       "                        })                };            </script>        </div>"
      ]
     },
     "metadata": {},
     "output_type": "display_data"
    }
   ],
   "source": [
    "# Cargar datos procesados\n",
    "print(\"Cargando datos procesados...\")\n",
    "\n",
    "df = pd.read_csv('../processed_data/dataset_features_processed_winsorized.csv')\n",
    "print(f\"Dataset cargado: {df.shape[0]:,} filas, {df.shape[1]} columnas\")\n",
    "\n",
    "# Separar features y target\n",
    "X = df.drop('BinaryNumTarget', axis=1)\n",
    "y = df['BinaryNumTarget']\n",
    "\n",
    "print(f\"Features: {X.shape[1]}\")\n",
    "print(f\"Distribución de clases:\")\n",
    "class_dist = y.value_counts(normalize=True)\n",
    "for clase, prop in class_dist.items():\n",
    "    label = \"Falso\" if clase == 0 else \"Verdadero\"\n",
    "    print(f\"  {label}: {prop:.3f} ({y.value_counts()[clase]:,} muestras)\")\n",
    "\n",
    "# Verificar que no hay valores faltantes\n",
    "missing = X.isnull().sum().sum()\n",
    "print(f\"Valores faltantes: {missing}\")\n",
    "\n",
    "# Mostrar algunas estadísticas básicas\n",
    "print(f\"\\nRango de valores en X:\")\n",
    "print(f\"  Mínimo: {X.min().min():.3f}\")\n",
    "print(f\"  Máximo: {X.max().max():.3f}\")\n",
    "print(f\"  Media general: {X.mean().mean():.3f}\")\n",
    "\n",
    "# Visualización interactiva de la distribución de clases\n",
    "fig_clases = px.pie(\n",
    "    values=y.value_counts().values,\n",
    "    names=['Falso', 'Verdadero'],\n",
    "    title=\"Distribución de Clases en el Dataset\",\n",
    "    color_discrete_sequence=['lightcoral', 'lightblue']\n",
    ")\n",
    "fig_clases.show()\n",
    "\n",
    "# Visualización de estadísticas básicas de features\n",
    "stats_df = pd.DataFrame({\n",
    "    'Feature': X.columns,\n",
    "    'Mean': X.mean(),\n",
    "    'Std': X.std(),\n",
    "    'Min': X.min(),\n",
    "    'Max': X.max()\n",
    "}).reset_index(drop=True)\n",
    "\n",
    "# Gráfico interactivo de estadísticas\n",
    "fig_stats = make_subplots(\n",
    "    rows=2, cols=2,\n",
    "    subplot_titles=('Media por Feature', 'Desviación Estándar', 'Valores Mínimos', 'Valores Máximos'),\n",
    "    specs=[[{\"secondary_y\": False}, {\"secondary_y\": False}],\n",
    "           [{\"secondary_y\": False}, {\"secondary_y\": False}]]\n",
    ")\n",
    "\n",
    "# Media\n",
    "fig_stats.add_trace(\n",
    "    go.Scatter(x=list(range(len(stats_df))), y=stats_df['Mean'], \n",
    "               mode='markers', name='Media', showlegend=False),\n",
    "    row=1, col=1\n",
    ")\n",
    "\n",
    "# Std\n",
    "fig_stats.add_trace(\n",
    "    go.Scatter(x=list(range(len(stats_df))), y=stats_df['Std'], \n",
    "               mode='markers', name='Std', showlegend=False, marker_color='orange'),\n",
    "    row=1, col=2\n",
    ")\n",
    "\n",
    "# Min\n",
    "fig_stats.add_trace(\n",
    "    go.Scatter(x=list(range(len(stats_df))), y=stats_df['Min'], \n",
    "               mode='markers', name='Min', showlegend=False, marker_color='red'),\n",
    "    row=2, col=1\n",
    ")\n",
    "\n",
    "# Max\n",
    "fig_stats.add_trace(\n",
    "    go.Scatter(x=list(range(len(stats_df))), y=stats_df['Max'], \n",
    "               mode='markers', name='Max', showlegend=False, marker_color='green'),\n",
    "    row=2, col=2\n",
    ")\n",
    "\n",
    "fig_stats.update_layout(\n",
    "    title=\"Estadísticas Descriptivas de Features\",\n",
    "    height=600,\n",
    "    showlegend=False\n",
    ")\n",
    "fig_stats.show()"
   ]
  },
  {
   "cell_type": "code",
   "execution_count": 6,
   "metadata": {},
   "outputs": [
    {
     "name": "stdout",
     "output_type": "stream",
     "text": [
      "Cargando datos procesados...\n",
      "Dataset cargado: 134,198 filas, 58 columnas\n",
      "Features: 57\n",
      "Distribución de clases:\n",
      "  Verdadero: 0.514 (68,930 muestras)\n",
      "  Falso: 0.486 (65,268 muestras)\n",
      "Valores faltantes: 0\n",
      "\n",
      "Rango de valores en X:\n",
      "  Mínimo: -7.110\n",
      "  Máximo: 42068.000\n",
      "  Media general: 0.446\n"
     ]
    }
   ],
   "source": [
    "# Cargar datos procesados\n",
    "print(\"Cargando datos procesados...\")\n",
    "\n",
    "df = pd.read_csv('../processed_data/dataset_features_processed_winsorized.csv')\n",
    "print(f\"Dataset cargado: {df.shape[0]:,} filas, {df.shape[1]} columnas\")\n",
    "\n",
    "# Separar features y target\n",
    "X = df.drop('BinaryNumTarget', axis=1)\n",
    "y = df['BinaryNumTarget']\n",
    "\n",
    "print(f\"Features: {X.shape[1]}\")\n",
    "print(f\"Distribución de clases:\")\n",
    "class_dist = y.value_counts(normalize=True)\n",
    "for clase, prop in class_dist.items():\n",
    "    label = \"Falso\" if clase == 0 else \"Verdadero\"\n",
    "    print(f\"  {label}: {prop:.3f} ({y.value_counts()[clase]:,} muestras)\")\n",
    "\n",
    "# Verificar que no hay valores faltantes\n",
    "missing = X.isnull().sum().sum()\n",
    "print(f\"Valores faltantes: {missing}\")\n",
    "\n",
    "# Mostrar algunas estadísticas básicas\n",
    "print(f\"\\nRango de valores en X:\")\n",
    "print(f\"  Mínimo: {X.min().min():.3f}\")\n",
    "print(f\"  Máximo: {X.max().max():.3f}\")\n",
    "print(f\"  Media general: {X.mean().mean():.3f}\")"
   ]
  },
  {
   "cell_type": "markdown",
   "metadata": {},
   "source": [
    "## Configuración de validación cruzada\n",
    "\n",
    "Voy a usar validación cruzada estratificada de 5 folds. Esto es importante porque:\n",
    "- Mantiene la proporción de clases en cada fold\n",
    "- Me da una estimación más robusta del rendimiento\n",
    "- Reduce la variabilidad por división aleatoria de datos\n",
    "\n",
    "Voy a evaluar con F1-score como métrica principal porque es una buena métrica balanceada para clasificación binaria."
   ]
  },
  {
   "cell_type": "code",
   "execution_count": 7,
   "metadata": {},
   "outputs": [
    {
     "name": "stdout",
     "output_type": "stream",
     "text": [
      "Configuración de validación cruzada:\n",
      "  - Método: StratifiedKFold\n",
      "  - Folds: 5\n",
      "  - Métrica principal: F1-score\n",
      "  - Métricas adicionales: f1, precision, recall, accuracy, roc_auc\n",
      "  - Random state: 42\n"
     ]
    }
   ],
   "source": [
    "# Configurar validación cruzada\n",
    "cv = StratifiedKFold(n_splits=5, shuffle=True, random_state=42)\n",
    "scoring = 'f1'  # F1-score como métrica principal\n",
    "\n",
    "# También voy a calcular otras métricas para comparar\n",
    "scoring_metrics = ['f1', 'precision', 'recall', 'accuracy', 'roc_auc']\n",
    "\n",
    "print(f\"Configuración de validación cruzada:\")\n",
    "print(f\"  - Método: StratifiedKFold\")\n",
    "print(f\"  - Folds: 5\")\n",
    "print(f\"  - Métrica principal: F1-score\")\n",
    "print(f\"  - Métricas adicionales: {', '.join(scoring_metrics)}\")\n",
    "print(f\"  - Random state: 42\")"
   ]
  },
  {
   "cell_type": "markdown",
   "metadata": {},
   "source": [
    "## Función para evaluar modelos\n",
    "\n",
    "Voy a crear una función que me permita evaluar cualquier modelo de forma consistente. Esto me va a ahorrar código repetitivo y asegurar que todos los modelos se evalúen igual."
   ]
  },
  {
   "cell_type": "code",
   "execution_count": 8,
   "metadata": {},
   "outputs": [],
   "source": [
    "def evaluar_modelo(modelo, X, y, cv, nombre_modelo):\n",
    "    \"\"\"\n",
    "    Evalúa un modelo usando validación cruzada.\n",
    "    \n",
    "    Parámetros:\n",
    "    - modelo: modelo de sklearn ya configurado\n",
    "    - X, y: datos de entrada y target\n",
    "    - cv: objeto de validación cruzada\n",
    "    - nombre_modelo: string para identificar el modelo\n",
    "    \n",
    "    Retorna:\n",
    "    - dict con resultados de todas las métricas\n",
    "    \"\"\"\n",
    "    print(f\"\\nEvaluando {nombre_modelo}...\")\n",
    "    \n",
    "    resultados = {}\n",
    "    \n",
    "    # Calcular cada métrica\n",
    "    for metric in scoring_metrics:\n",
    "        scores = cross_val_score(modelo, X, y, cv=cv, scoring=metric, n_jobs=-1)\n",
    "        resultados[metric] = {\n",
    "            'mean': scores.mean(),\n",
    "            'std': scores.std(),\n",
    "            'scores': scores.tolist()\n",
    "        }\n",
    "        print(f\"  {metric}: {scores.mean():.4f} (+/- {scores.std() * 2:.4f})\")\n",
    "    \n",
    "    # Guardar configuración del modelo\n",
    "    resultados['modelo'] = nombre_modelo\n",
    "    resultados['parametros'] = modelo.get_params()\n",
    "    resultados['timestamp'] = datetime.now().isoformat()\n",
    "    \n",
    "    return resultados"
   ]
  },
  {
   "cell_type": "markdown",
   "metadata": {},
   "source": [
    "## Random Forest\n",
    "\n",
    "Empiezo con Random Forest porque es un algoritmo muy robusto que suele funcionar bien out-of-the-box. \n",
    "\n",
    "Configuración que voy a usar:\n",
    "- 100 árboles (balance entre rendimiento y velocidad)\n",
    "- max_depth=15 (evitar overfitting extremo)\n",
    "- class_weight='balanced' (compensar cualquier desbalance)\n",
    "- Otros parámetros por defecto de sklearn"
   ]
  },
  {
   "cell_type": "code",
   "execution_count": 9,
   "metadata": {},
   "outputs": [
    {
     "name": "stdout",
     "output_type": "stream",
     "text": [
      "\n",
      "Evaluando Random Forest...\n",
      "  f1: 0.6773 (+/- 0.0075)\n",
      "  precision: 0.7110 (+/- 0.0122)\n",
      "  recall: 0.6468 (+/- 0.0072)\n",
      "  accuracy: 0.6835 (+/- 0.0087)\n",
      "  roc_auc: 0.7524 (+/- 0.0080)\n"
     ]
    }
   ],
   "source": [
    "# Random Forest\n",
    "rf_model = RandomForestClassifier(\n",
    "    n_estimators=100,\n",
    "    max_depth=15,\n",
    "    min_samples_split=5,\n",
    "    min_samples_leaf=2,\n",
    "    class_weight='balanced',\n",
    "    random_state=42,\n",
    "    n_jobs=-1\n",
    ")\n",
    "\n",
    "rf_resultados = evaluar_modelo(rf_model, X, y, cv, \"Random Forest\")"
   ]
  },
  {
   "cell_type": "markdown",
   "metadata": {},
   "source": [
    "## Decision Tree\n",
    "\n",
    "Un árbol de decisión individual me va a dar una línea base más simple. Es útil para entender si la complejidad de Random Forest realmente aporta valor."
   ]
  },
  {
   "cell_type": "code",
   "execution_count": 10,
   "metadata": {},
   "outputs": [
    {
     "name": "stdout",
     "output_type": "stream",
     "text": [
      "\n",
      "Evaluando Decision Tree...\n",
      "  f1: 0.6224 (+/- 0.0089)\n",
      "  precision: 0.6586 (+/- 0.0049)\n",
      "  recall: 0.5900 (+/- 0.0150)\n",
      "  accuracy: 0.6323 (+/- 0.0053)\n",
      "  roc_auc: 0.6839 (+/- 0.0043)\n"
     ]
    }
   ],
   "source": [
    "# Decision Tree\n",
    "dt_model = DecisionTreeClassifier(\n",
    "    max_depth=10,\n",
    "    min_samples_split=10,\n",
    "    min_samples_leaf=5,\n",
    "    class_weight='balanced',\n",
    "    random_state=42\n",
    ")\n",
    "\n",
    "dt_resultados = evaluar_modelo(dt_model, X, y, cv, \"Decision Tree\")"
   ]
  },
  {
   "cell_type": "markdown",
   "metadata": {},
   "source": [
    "## Extra Trees\n",
    "\n",
    "Extra Trees es similar a Random Forest pero con más aleatoriedad en la selección de splits. A veces puede funcionar mejor que RF, especialmente con features ruidosas."
   ]
  },
  {
   "cell_type": "code",
   "execution_count": 11,
   "metadata": {},
   "outputs": [
    {
     "name": "stdout",
     "output_type": "stream",
     "text": [
      "\n",
      "Evaluando Extra Trees...\n",
      "  f1: 0.6410 (+/- 0.0065)\n",
      "  precision: 0.6802 (+/- 0.0104)\n",
      "  recall: 0.6062 (+/- 0.0088)\n",
      "  accuracy: 0.6513 (+/- 0.0072)\n",
      "  roc_auc: 0.7088 (+/- 0.0064)\n"
     ]
    }
   ],
   "source": [
    "# Extra Trees\n",
    "et_model = ExtraTreesClassifier(\n",
    "    n_estimators=100,\n",
    "    max_depth=12,\n",
    "    min_samples_split=8,\n",
    "    class_weight='balanced',\n",
    "    random_state=42,\n",
    "    n_jobs=-1\n",
    ")\n",
    "\n",
    "et_resultados = evaluar_modelo(et_model, X, y, cv, \"Extra Trees\")"
   ]
  },
  {
   "cell_type": "markdown",
   "metadata": {},
   "source": [
    "## Logistic Regression\n",
    "\n",
    "Regresión logística es importante como baseline linear. Me va a decir qué tan bien se pueden separar las clases con un modelo simple.\n",
    "\n",
    "Nota: Los datos ya están escalados, así que no necesito hacer scaling adicional."
   ]
  },
  {
   "cell_type": "code",
   "execution_count": 12,
   "metadata": {},
   "outputs": [
    {
     "name": "stdout",
     "output_type": "stream",
     "text": [
      "\n",
      "Evaluando Logistic Regression...\n",
      "  f1: 0.6409 (+/- 0.0085)\n",
      "  precision: 0.6531 (+/- 0.0099)\n",
      "  recall: 0.6292 (+/- 0.0094)\n",
      "  accuracy: 0.6379 (+/- 0.0089)\n",
      "  roc_auc: 0.6902 (+/- 0.0091)\n"
     ]
    }
   ],
   "source": [
    "# Logistic Regression\n",
    "lr_model = LogisticRegression(\n",
    "    C=1.0,\n",
    "    penalty='l2',\n",
    "    solver='liblinear',\n",
    "    class_weight='balanced',\n",
    "    random_state=42,\n",
    "    max_iter=1000\n",
    ")\n",
    "\n",
    "lr_resultados = evaluar_modelo(lr_model, X, y, cv, \"Logistic Regression\")"
   ]
  },
  {
   "cell_type": "markdown",
   "metadata": {},
   "source": [
    "## K-Nearest Neighbors\n",
    "\n",
    "KNN es útil como contraste porque es un método no paramétrico que puede capturar relaciones no lineales complejas. Voy a probar con k=5 como punto de partida."
   ]
  },
  {
   "cell_type": "code",
   "execution_count": 14,
   "metadata": {},
   "outputs": [
    {
     "name": "stdout",
     "output_type": "stream",
     "text": [
      "\n",
      "Evaluando K-Nearest Neighbors...\n",
      "  f1: 0.6395 (+/- 0.0065)\n",
      "  precision: 0.6342 (+/- 0.0043)\n",
      "  recall: 0.6448 (+/- 0.0104)\n",
      "  accuracy: 0.6265 (+/- 0.0051)\n",
      "  roc_auc: 0.6735 (+/- 0.0058)\n"
     ]
    }
   ],
   "source": [
    "# K-Nearest Neighbors\n",
    "knn_model = KNeighborsClassifier(\n",
    "    n_neighbors=5,\n",
    "    weights='uniform',\n",
    "    algorithm='auto',\n",
    "    metric='minkowski',\n",
    "    n_jobs=-1\n",
    ")\n",
    "\n",
    "knn_resultados = evaluar_modelo(knn_model, X, y, cv, \"K-Nearest Neighbors\")"
   ]
  },
  {
   "cell_type": "markdown",
   "metadata": {},
   "source": [
    "## Comparación de resultados\n",
    "\n",
    "Ahora voy a compilar todos los resultados en una tabla para poder compararlos fácilmente."
   ]
  },
  {
   "cell_type": "code",
   "execution_count": 15,
   "metadata": {},
   "outputs": [
    {
     "name": "stdout",
     "output_type": "stream",
     "text": [
      "\n",
      "================================================================================\n",
      "RESUMEN DE RESULTADOS - MODELOS TRADICIONALES CON WINSORIZING\n",
      "================================================================================\n",
      "\n",
      "Modelo               F1-Score   Precision  Recall     Accuracy   ROC-AUC   \n",
      "--------------------------------------------------------------------------------\n",
      "Random Forest        0.6773     0.7110     0.6468     0.6835     0.7524    \n",
      "Extra Trees          0.6410     0.6802     0.6062     0.6513     0.7088    \n",
      "Logistic Regression  0.6409     0.6531     0.6292     0.6379     0.6902    \n",
      "K-Nearest Neighbors  0.6395     0.6342     0.6448     0.6265     0.6735    \n",
      "Decision Tree        0.6224     0.6586     0.5900     0.6323     0.6839    \n",
      "\n",
      "Mejor modelo: Random Forest (F1-Score: 0.6773)\n"
     ]
    }
   ],
   "source": [
    "# Recopilar todos los resultados\n",
    "todos_resultados = {\n",
    "    'Random Forest': rf_resultados,\n",
    "    'Decision Tree': dt_resultados,\n",
    "    'Extra Trees': et_resultados,\n",
    "    'Logistic Regression': lr_resultados,\n",
    "    'K-Nearest Neighbors': knn_resultados\n",
    "}\n",
    "\n",
    "# Crear tabla de comparación\n",
    "tabla_comparacion = []\n",
    "\n",
    "for nombre, resultado in todos_resultados.items():\n",
    "    fila = {\n",
    "        'Modelo': nombre,\n",
    "        'F1-Score': resultado['f1']['mean'],\n",
    "        'F1-Std': resultado['f1']['std'],\n",
    "        'Precision': resultado['precision']['mean'],\n",
    "        'Recall': resultado['recall']['mean'],\n",
    "        'Accuracy': resultado['accuracy']['mean'],\n",
    "        'ROC-AUC': resultado['roc_auc']['mean']\n",
    "    }\n",
    "    tabla_comparacion.append(fila)\n",
    "\n",
    "# Convertir a DataFrame y ordenar por F1-Score\n",
    "df_comparacion = pd.DataFrame(tabla_comparacion)\n",
    "df_comparacion = df_comparacion.sort_values('F1-Score', ascending=False)\n",
    "\n",
    "print(\"\\n\" + \"=\"*80)\n",
    "print(\"RESUMEN DE RESULTADOS - MODELOS TRADICIONALES CON WINSORIZING\")\n",
    "print(\"=\"*80)\n",
    "\n",
    "# Mostrar tabla formateada\n",
    "print(f\"\\n{'Modelo':<20} {'F1-Score':<10} {'Precision':<10} {'Recall':<10} {'Accuracy':<10} {'ROC-AUC':<10}\")\n",
    "print(\"-\" * 80)\n",
    "\n",
    "for _, row in df_comparacion.iterrows():\n",
    "    print(f\"{row['Modelo']:<20} {row['F1-Score']:<10.4f} {row['Precision']:<10.4f} {row['Recall']:<10.4f} {row['Accuracy']:<10.4f} {row['ROC-AUC']:<10.4f}\")\n",
    "\n",
    "# Identificar el mejor modelo\n",
    "mejor_modelo = df_comparacion.iloc[0]\n",
    "print(f\"\\nMejor modelo: {mejor_modelo['Modelo']} (F1-Score: {mejor_modelo['F1-Score']:.4f})\")"
   ]
  },
  {
   "cell_type": "markdown",
   "metadata": {},
   "source": [
    "## Análisis de importancia de features\n",
    "\n",
    "Para los modelos basados en árboles, voy a extraer la importancia de features. Esto me va a ayudar a entender qué características son más útiles para la clasificación."
   ]
  },
  {
   "cell_type": "code",
   "execution_count": 16,
   "metadata": {},
   "outputs": [
    {
     "name": "stdout",
     "output_type": "stream",
     "text": [
      "Analizando importancia de features con Random Forest...\n",
      "\n",
      "Top 15 features más importantes:\n",
      "--------------------------------------------------\n",
      " 1. listed_count              0.0688\n",
      " 2. PERSON_percentage         0.0446\n",
      " 3. favourites_count          0.0404\n",
      " 4. Average word length       0.0396\n",
      " 5. normalize_influence       0.0393\n",
      " 6. Word count                0.0391\n",
      " 7. followers_count           0.0389\n",
      " 8. capitals                  0.0368\n",
      " 9. statuses_count            0.0367\n",
      "10. cred                      0.0359\n",
      "11. URLs                      0.0354\n",
      "12. friends_count             0.0322\n",
      "13. short_word_freq           0.0289\n",
      "14. hashtags                  0.0256\n",
      "15. past_verbs                0.0249\n"
     ]
    },
    {
     "data": {
      "image/png": "[encoded data removed]",
      "text/plain": [
       "<Figure size 1000x600 with 1 Axes>"
      ]
     },
     "metadata": {},
     "output_type": "display_data"
    },
    {
     "name": "stdout",
     "output_type": "stream",
     "text": [
      "\n",
      "Número de features que explican 80% de la importancia: 26\n"
     ]
    }
   ],
   "source": [
    "# Entrenar Random Forest en todos los datos para obtener importancia de features\n",
    "print(\"Analizando importancia de features con Random Forest...\")\n",
    "\n",
    "rf_full = RandomForestClassifier(\n",
    "    n_estimators=100,\n",
    "    max_depth=15,\n",
    "    min_samples_split=5,\n",
    "    min_samples_leaf=2,\n",
    "    class_weight='balanced',\n",
    "    random_state=42,\n",
    "    n_jobs=-1\n",
    ")\n",
    "\n",
    "rf_full.fit(X, y)\n",
    "\n",
    "# Obtener importancia de features\n",
    "feature_importance = pd.DataFrame({\n",
    "    'feature': X.columns,\n",
    "    'importance': rf_full.feature_importances_\n",
    "}).sort_values('importance', ascending=False)\n",
    "\n",
    "print(f\"\\nTop 15 features más importantes:\")\n",
    "print(\"-\" * 50)\n",
    "for i, (_, row) in enumerate(feature_importance.head(15).iterrows(), 1):\n",
    "    print(f\"{i:2d}. {row['feature']:<25} {row['importance']:.4f}\")\n",
    "\n",
    "# Visualizar top 10\n",
    "plt.figure(figsize=(10, 6))\n",
    "top_features = feature_importance.head(10)\n",
    "plt.barh(range(len(top_features)), top_features['importance'])\n",
    "plt.yticks(range(len(top_features)), top_features['feature'])\n",
    "plt.xlabel('Importancia')\n",
    "plt.title('Top 10 Features más Importantes (Random Forest)')\n",
    "plt.gca().invert_yaxis()\n",
    "plt.tight_layout()\n",
    "plt.show()\n",
    "\n",
    "# Calcular importancia acumulada\n",
    "feature_importance['importancia_acumulada'] = feature_importance['importance'].cumsum()\n",
    "features_80_pct = feature_importance[feature_importance['importancia_acumulada'] <= 0.8]\n",
    "print(f\"\\nNúmero de features que explican 80% de la importancia: {len(features_80_pct)}\")"
   ]
  },
  {
   "cell_type": "markdown",
   "metadata": {},
   "source": [
    "## Visualización de resultados\n",
    "\n",
    "Voy a crear algunas visualizaciones para entender mejor cómo se comparan los modelos."
   ]
  },
  {
   "cell_type": "code",
   "execution_count": 17,
   "metadata": {},
   "outputs": [
    {
     "data": {
      "image/png": "[encoded data removed]",
      "text/plain": [
       "<Figure size 1500x1000 with 4 Axes>"
      ]
     },
     "metadata": {},
     "output_type": "display_data"
    },
    {
     "data": {
      "image/png": "[encoded data removed]",
      "text/plain": [
       "<Figure size 1000x600 with 1 Axes>"
      ]
     },
     "metadata": {},
     "output_type": "display_data"
    }
   ],
   "source": [
    "# Gráfico de barras comparativo\n",
    "fig, ((ax1, ax2), (ax3, ax4)) = plt.subplots(2, 2, figsize=(15, 10))\n",
    "\n",
    "# F1-Score\n",
    "ax1.bar(df_comparacion['Modelo'], df_comparacion['F1-Score'])\n",
    "ax1.set_title('F1-Score por Modelo')\n",
    "ax1.set_ylabel('F1-Score')\n",
    "ax1.tick_params(axis='x', rotation=45)\n",
    "\n",
    "# Precision\n",
    "ax2.bar(df_comparacion['Modelo'], df_comparacion['Precision'])\n",
    "ax2.set_title('Precision por Modelo')\n",
    "ax2.set_ylabel('Precision')\n",
    "ax2.tick_params(axis='x', rotation=45)\n",
    "\n",
    "# Recall\n",
    "ax3.bar(df_comparacion['Modelo'], df_comparacion['Recall'])\n",
    "ax3.set_title('Recall por Modelo')\n",
    "ax3.set_ylabel('Recall')\n",
    "ax3.tick_params(axis='x', rotation=45)\n",
    "\n",
    "# ROC-AUC\n",
    "ax4.bar(df_comparacion['Modelo'], df_comparacion['ROC-AUC'])\n",
    "ax4.set_title('ROC-AUC por Modelo')\n",
    "ax4.set_ylabel('ROC-AUC')\n",
    "ax4.tick_params(axis='x', rotation=45)\n",
    "\n",
    "plt.tight_layout()\n",
    "plt.show()\n",
    "\n",
    "# Gráfico de dispersión Precision vs Recall\n",
    "plt.figure(figsize=(10, 6))\n",
    "plt.scatter(df_comparacion['Precision'], df_comparacion['Recall'], s=100)\n",
    "\n",
    "for i, row in df_comparacion.iterrows():\n",
    "    plt.annotate(row['Modelo'], \n",
    "                (row['Precision'], row['Recall']),\n",
    "                xytext=(5, 5), textcoords='offset points')\n",
    "\n",
    "plt.xlabel('Precision')\n",
    "plt.ylabel('Recall')\n",
    "plt.title('Precision vs Recall por Modelo')\n",
    "plt.grid(True, alpha=0.3)\n",
    "plt.show()"
   ]
  },
  {
   "cell_type": "markdown",
   "metadata": {},
   "source": [
    "## Guardar resultados\n",
    "\n",
    "Voy a guardar todos los resultados para poder usarlos en notebooks posteriores y para tener un registro completo de los experimentos."
   ]
  },
  {
   "cell_type": "code",
   "execution_count": 18,
   "metadata": {},
   "outputs": [
    {
     "name": "stdout",
     "output_type": "stream",
     "text": [
      "Resultados guardados:\n",
      "- ../models/resultados_modelos_tradicionales-winsorizing.json\n",
      "- ../models/comparacion_modelos_tradicionales-winsorizing.csv\n",
      "- ../models/mejor_modelo_tradicional-winsorizing.pkl\n",
      "\n",
      "Mejor modelo: Random Forest con F1-Score: 0.6773\n"
     ]
    }
   ],
   "source": [
    "# Crear directorio de resultados si no existe\n",
    "os.makedirs('../models', exist_ok=True)\n",
    "\n",
    "# Guardar resultados completos\n",
    "resultados_completos = {\n",
    "    'timestamp': datetime.now().isoformat(),\n",
    "    'notebook': '04_modelos_base_tradicionales-winsorizing',\n",
    "    'descripcion': 'Evaluación de modelos tradicionales de ML',\n",
    "    'configuracion': {\n",
    "        'cv_folds': 5,\n",
    "        'random_state': 42,\n",
    "        'scoring_principal': 'f1',\n",
    "        'datos': {\n",
    "            'n_samples': len(X),\n",
    "            'n_features': len(X.columns),\n",
    "            'clase_positiva_prop': float(y.mean())\n",
    "        }\n",
    "    },\n",
    "    'resultados_por_modelo': todos_resultados,\n",
    "    'tabla_comparacion': df_comparacion.to_dict('records'),\n",
    "    'mejor_modelo': {\n",
    "        'nombre': mejor_modelo['Modelo'],\n",
    "        'f1_score': float(mejor_modelo['F1-Score']),\n",
    "        'metricas_completas': todos_resultados[mejor_modelo['Modelo']]\n",
    "    },\n",
    "    'feature_importance': feature_importance.head(20).to_dict('records')\n",
    "}\n",
    "\n",
    "# Guardar como JSON\n",
    "with open('../models/resultados_modelos_tradicionales-winsorizing.json', 'w') as f:\n",
    "    json.dump(resultados_completos, f, indent=2)\n",
    "\n",
    "# Guardar tabla de comparación como CSV\n",
    "df_comparacion.to_csv('../models/comparacion_modelos_tradicionales-winsorizing.csv', index=False)\n",
    "\n",
    "# Guardar el mejor modelo entrenado\n",
    "mejor_modelo_obj = todos_resultados[mejor_modelo['Modelo']]\n",
    "if mejor_modelo['Modelo'] == 'Random Forest':\n",
    "    joblib.dump(rf_full, '../models/mejor_modelo_tradicional-winsorizing.pkl')\n",
    "elif mejor_modelo['Modelo'] == 'Extra Trees':\n",
    "    et_full = ExtraTreesClassifier(**et_model.get_params())\n",
    "    et_full.fit(X, y)\n",
    "    joblib.dump(et_full, '../models/mejor_modelo_tradicional-winsorizing.pkl')\n",
    "# Agregar otros modelos según sea necesario\n",
    "\n",
    "print(\"Resultados guardados:\")\n",
    "print(\"- ../models/resultados_modelos_tradicionales-winsorizing.json\")\n",
    "print(\"- ../models/comparacion_modelos_tradicionales-winsorizing.csv\")\n",
    "print(\"- ../models/mejor_modelo_tradicional-winsorizing.pkl\")\n",
    "\n",
    "print(f\"\\nMejor modelo: {mejor_modelo['Modelo']} con F1-Score: {mejor_modelo['F1-Score']:.4f}\")"
   ]
  }
 ],
 "metadata": {
  "kernelspec": {
   "display_name": ".venv",
   "language": "python",
   "name": "python3"
  },
  "language_info": {
   "codemirror_mode": {
    "name": "ipython",
    "version": 3
   },
   "file_extension": ".py",
   "mimetype": "text/x-python",
   "name": "python",
   "nbconvert_exporter": "python",
   "pygments_lexer": "ipython3",
   "version": "3.13.3"
  }
 },
 "nbformat": 4,
 "nbformat_minor": 4
}
