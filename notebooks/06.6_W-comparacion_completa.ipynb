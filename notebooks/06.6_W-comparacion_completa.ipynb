{
 "cells": [
  {
   "cell_type": "markdown",
   "metadata": {},
   "source": [
    "# 06.6 - Comparación Completa de TODOS los Modelos\n",
    "\n",
    "Este notebook consolida y compara TODOS los modelos evaluados en los notebooks 05, 05.1, 05.2, 05.3, 05.4 y 05.5. Voy a cargar todos los resultados, hacer análisis comparativos profundos con gráficas descriptivas, y analizar qué parámetros/features prioriza cada tipo de modelo.\n",
    "\n",
    "**Objetivo:** Entender cuáles son los mejores modelos globalmente y qué características los hacen exitosos."
   ]
  },
  {
   "cell_type": "code",
   "execution_count": 1,
   "metadata": {},
   "outputs": [
    {
     "name": "stdout",
     "output_type": "stream",
     "text": [
      "Notebook 05.6 - Comparación Completa iniciado: 2025-08-21 01:00:53\n",
      "Voy a consolidar y comparar TODOS los modelos evaluados\n"
     ]
    }
   ],
   "source": [
    "# Importaciones completas\n",
    "import pandas as pd\n",
    "import numpy as np\n",
    "import matplotlib.pyplot as plt\n",
    "from datetime import datetime\n",
    "import json\n",
    "import os\n",
    "import warnings\n",
    "warnings.filterwarnings('ignore')\n",
    "\n",
    "# Plotly para visualizaciones interactivas\n",
    "import plotly.graph_objects as go\n",
    "import plotly.express as px\n",
    "import plotly.figure_factory as ff\n",
    "from plotly.subplots import make_subplots\n",
    "import plotly.colors as colors\n",
    "\n",
    "# Para análisis estadístico\n",
    "from scipy import stats\n",
    "import seaborn as sns\n",
    "\n",
    "print(f\"Notebook 05.6 - Comparación Completa iniciado: {datetime.now().strftime('%Y-%m-%d %H:%M:%S')}\")\n",
    "print(\"Voy a consolidar y comparar TODOS los modelos evaluados\")"
   ]
  },
  {
   "cell_type": "code",
   "execution_count": 2,
   "metadata": {},
   "outputs": [
    {
     "name": "stdout",
     "output_type": "stream",
     "text": [
      "Cargando resultados de todos los notebooks...\n",
      "+ Cargado Boosting: 11 modelos\n",
      "+ Cargado Redes_Neuronales: 12 modelos\n",
      "+ Cargado SVM: 5 modelos\n",
      "+ Cargado Modelos_Lineales: 21 modelos\n",
      "+ Cargado Ensemble: 14 modelos\n",
      "+ Cargado Otros_Algoritmos: 20 modelos\n",
      "\n",
      "- Total modelos cargados: 83\n",
      "\n",
      "Estructura ejemplo (Boosting_XGBoost_Conservative):\n",
      "  - nombre\n",
      "  - timestamp\n",
      "  - parametros\n",
      "  - tiempo_entrenamiento\n",
      "  - metricas_test\n",
      "  - cv_scores\n",
      "  - predicciones\n",
      "  - categoria\n"
     ]
    }
   ],
   "source": [
    "# Cargar todos los resultados de los notebooks anteriores\n",
    "print(\"Cargando resultados de todos los notebooks...\")\n",
    "\n",
    "# Diccionario para almacenar todos los resultados\n",
    "todos_los_resultados = {}\n",
    "archivos_resultados = {\n",
    "    'Boosting': '../models/resultados_boosting_winsorized.json',\n",
    "    'Redes_Neuronales': '../models/resultados_redes_neuronales_winsorized.json', \n",
    "    'SVM': '../models/resultados_svm_winsorized.json',\n",
    "    'Modelos_Lineales': '../models/resultados_modelos_lineales_winsorized.json',\n",
    "    'Ensemble': '../models/resultados_ensemble_winsorized.json',\n",
    "    'Otros_Algoritmos': '../models/resultados_otros_algoritmos_winsorized.json'\n",
    "}\n",
    "\n",
    "# Cargar cada archivo\n",
    "for categoria, archivo in archivos_resultados.items():\n",
    "    if os.path.exists(archivo):\n",
    "        with open(archivo, 'r') as f:\n",
    "            resultados = json.load(f)\n",
    "            # Agregar categoría a cada modelo\n",
    "            for modelo, datos in resultados.items():\n",
    "                datos['categoria'] = categoria\n",
    "                todos_los_resultados[f\"{categoria}_{modelo}\"] = datos\n",
    "        print(f\"+ Cargado {categoria}: {len(resultados)} modelos\")\n",
    "    else:\n",
    "        print(f\"* No encontrado: {archivo}\")\n",
    "\n",
    "print(f\"\\n- Total modelos cargados: {len(todos_los_resultados)}\")\n",
    "\n",
    "# Verificar estructura de datos\n",
    "if todos_los_resultados:\n",
    "    primer_modelo = list(todos_los_resultados.keys())[0]\n",
    "    print(f\"\\nEstructura ejemplo ({primer_modelo}):\")\n",
    "    for key in todos_los_resultados[primer_modelo].keys():\n",
    "        print(f\"  - {key}\")"
   ]
  },
  {
   "cell_type": "code",
   "execution_count": 3,
   "metadata": {},
   "outputs": [
    {
     "name": "stdout",
     "output_type": "stream",
     "text": [
      "Creando DataFrame consolidado...\n",
      "DataFrame creado: 83 modelos x 19 columnas\n",
      "\n",
      "Categorías encontradas: {'Modelos_Lineales': 21, 'Otros_Algoritmos': 20, 'Ensemble': 14, 'Redes_Neuronales': 12, 'Boosting': 11, 'SVM': 5}\n",
      "\n",
      "Rango F1-Score: 0.0000 - 0.7021\n",
      "Rango Tiempo: 0.000s - 129.82s\n"
     ]
    }
   ],
   "source": [
    "# Convertir a DataFrame para análisis\n",
    "print(\"Creando DataFrame consolidado...\")\n",
    "\n",
    "datos_consolidados = []\n",
    "\n",
    "for modelo_id, datos in todos_los_resultados.items():\n",
    "    # Extraer información básica\n",
    "    fila = {\n",
    "        'Modelo_ID': modelo_id,\n",
    "        'Nombre': datos.get('nombre', modelo_id),\n",
    "        'Categoria': datos.get('categoria', 'Unknown'),\n",
    "        'Tipo_Algoritmo': datos.get('tipo_modelo', datos.get('tipo_svm', datos.get('tipo_algoritmo', datos.get('tipo_ensemble', 'Unknown')))),\n",
    "        'Tiempo_Entrenamiento': datos.get('tiempo_entrenamiento', 0),\n",
    "        'Usar_Escalado': datos.get('usar_escalado', False)\n",
    "    }\n",
    "    \n",
    "    # Extraer métricas\n",
    "    metricas = datos.get('metricas', {})\n",
    "    fila.update({\n",
    "        'Accuracy': metricas.get('accuracy', 0),\n",
    "        'Precision': metricas.get('precision', 0),\n",
    "        'Recall': metricas.get('recall', 0),\n",
    "        'F1_Score': metricas.get('f1', 0),\n",
    "        'ROC_AUC': metricas.get('roc_auc', 0) or 0\n",
    "    })\n",
    "    \n",
    "    # Cross-validation\n",
    "    fila.update({\n",
    "        'CV_F1_Mean': datos.get('cv_f1_mean', 0),\n",
    "        'CV_F1_Std': datos.get('cv_f1_std', 0)\n",
    "    })\n",
    "    \n",
    "    # Información específica por tipo de modelo\n",
    "    fila.update({\n",
    "        'N_Estimators': datos.get('n_estimators', datos.get('n_estimadores', 0)) or 0,\n",
    "        'Support_Vectors': datos.get('n_support_vectors', 0) or 0,\n",
    "        'Features_Activos': datos.get('features_activos', 0) or 0,\n",
    "        'Hidden_Layers': datos.get('hidden_layers', 0) or 0,\n",
    "        'N_Neighbors': datos.get('n_neighbors', 0) or 0\n",
    "    })\n",
    "    \n",
    "    # Parámetros importantes (convertir a string para análisis)\n",
    "    parametros = datos.get('parametros', {})\n",
    "    fila['Parametros_JSON'] = json.dumps(parametros) if parametros else '{}'\n",
    "    \n",
    "    datos_consolidados.append(fila)\n",
    "\n",
    "# Crear DataFrame\n",
    "df_completo = pd.DataFrame(datos_consolidados)\n",
    "\n",
    "print(f\"DataFrame creado: {len(df_completo)} modelos x {len(df_completo.columns)} columnas\")\n",
    "print(f\"\\nCategorías encontradas: {df_completo['Categoria'].value_counts().to_dict()}\")\n",
    "print(f\"\\nRango F1-Score: {df_completo['F1_Score'].min():.4f} - {df_completo['F1_Score'].max():.4f}\")\n",
    "print(f\"Rango Tiempo: {df_completo['Tiempo_Entrenamiento'].min():.3f}s - {df_completo['Tiempo_Entrenamiento'].max():.2f}s\")"
   ]
  },
  {
   "cell_type": "markdown",
   "metadata": {},
   "source": [
    "## Análisis Global de Rendimiento\n",
    "\n",
    "Primero veo el panorama general de todos los modelos."
   ]
  },
  {
   "cell_type": "code",
   "execution_count": 4,
   "metadata": {},
   "outputs": [
    {
     "name": "stdout",
     "output_type": "stream",
     "text": [
      "\n",
      "====================================================================================================\n",
      "RANKING GLOBAL - TOP 20 MODELOS POR F1-SCORE\n",
      "====================================================================================================\n",
      " 1. NN High Regularization (100,50)     F1: 0.7021 | [Redes_Neuronales]   | 33.04s   \n",
      " 2. NN Two Symmetric (80,80)            F1: 0.6969 | [Redes_Neuronales]   | 21.39s   \n",
      " 3. NN Deep Uniform (100,100,100)       F1: 0.6916 | [Redes_Neuronales]   | 47.33s   \n",
      " 4. NN Deep Decreasing (150,100,50)     F1: 0.6909 | [Redes_Neuronales]   | 65.59s   \n",
      " 5. NN Small (100)                      F1: 0.6887 | [Redes_Neuronales]   | 12.18s   \n",
      " 6. NN Diamond (80,120,80)              F1: 0.6869 | [Redes_Neuronales]   | 40.26s   \n",
      " 7. NN Tiny (50)                        F1: 0.6859 | [Redes_Neuronales]   | 14.14s   \n",
      " 8. Gradient Boosting (100, depth=4)    F1: 0.6836 | [Ensemble]           | 58.50s   \n",
      " 9. NN SGD Momentum (100,50)            F1: 0.6826 | [Redes_Neuronales]   | 129.82s  \n",
      "10. NN Bottleneck (120,30)              F1: 0.6823 | [Redes_Neuronales]   | 22.39s   \n",
      "11. Voting Trees (RF+XGB+LGB+ET)        F1: 0.6804 | [Ensemble]           | 21.04s   \n",
      "12. NN Two Classic (100,50)             F1: 0.6797 | [Redes_Neuronales]   | 18.96s   \n",
      "13. NN Low Regularization (100,50)      F1: 0.6781 | [Redes_Neuronales]   | 17.27s   \n",
      "14. NN Small Tanh (100)                 F1: 0.6764 | [Redes_Neuronales]   | 15.53s   \n",
      "15. Random Forest (100, depth=10)       F1: 0.6683 | [Ensemble]           | 3.91s    \n",
      "16. Voting Soft (RF+DT+LR+NB)           F1: 0.6674 | [Ensemble]           | 20.29s   (Scaled)\n",
      "17. KNN k=5 Manhattan Distance          F1: 0.6666 | [Otros_Algoritmos]   | 0.06s    (Scaled)\n",
      "18. Quadratic Discriminant Analysis     F1: 0.6662 | [Otros_Algoritmos]   | 0.53s    (Scaled)\n",
      "19. Naive Bayes Gaussian Low Smooth     F1: 0.6662 | [Otros_Algoritmos]   | 0.09s    \n",
      "20. AdaBoost (100, depth=3)             F1: 0.6659 | [Ensemble]           | 63.10s   \n",
      "\n",
      "- CAMPEÓN ABSOLUTO: NN High Regularization (100,50)\n",
      "   F1-Score: 0.7021\n",
      "   Categoría: Redes_Neuronales\n",
      "   Tipo: Unknown\n",
      "   Tiempo: 33.037s\n",
      "   ROC-AUC: 0.7590\n",
      "   Accuracy: 0.6846\n"
     ]
    }
   ],
   "source": [
    "# Ranking global de modelos\n",
    "print(\"\\n\" + \"=\"*100)\n",
    "print(\"RANKING GLOBAL - TOP 20 MODELOS POR F1-SCORE\")\n",
    "print(\"=\"*100)\n",
    "\n",
    "df_ranking = df_completo.sort_values('F1_Score', ascending=False).head(20)\n",
    "\n",
    "for i, (_, row) in enumerate(df_ranking.iterrows(), 1):\n",
    "    tiempo_info = f\"{row['Tiempo_Entrenamiento']:.2f}s\"\n",
    "    escalado_info = \"(Scaled)\" if row['Usar_Escalado'] else \"\"\n",
    "    categoria_info = f\"[{row['Categoria']}]\"\n",
    "    \n",
    "    print(f\"{i:2d}. {row['Nombre']:<35} F1: {row['F1_Score']:.4f} | \"\n",
    "          f\"{categoria_info:<20} | {tiempo_info:<8} {escalado_info}\")\n",
    "\n",
    "# Campeón absoluto\n",
    "campeon = df_ranking.iloc[0]\n",
    "print(f\"\\n- CAMPEÓN ABSOLUTO: {campeon['Nombre']}\")\n",
    "print(f\"   F1-Score: {campeon['F1_Score']:.4f}\")\n",
    "print(f\"   Categoría: {campeon['Categoria']}\")\n",
    "print(f\"   Tipo: {campeon['Tipo_Algoritmo']}\")\n",
    "print(f\"   Tiempo: {campeon['Tiempo_Entrenamiento']:.3f}s\")\n",
    "print(f\"   ROC-AUC: {campeon['ROC_AUC']:.4f}\")\n",
    "print(f\"   Accuracy: {campeon['Accuracy']:.4f}\")"
   ]
  },
  {
   "cell_type": "code",
   "execution_count": 5,
   "metadata": {},
   "outputs": [
    {
     "data": {
      "application/vnd.plotly.v1+json": {
       "config": {
        "plotlyServerURL": "https://plot.ly"
       },
       "data": [
        {
         "hovertemplate": "Categoria=Redes_Neuronales<br>F1_Score=%{x}<br>Nombre=%{y}<extra></extra>",
         "legendgroup": "Redes_Neuronales",
         "marker": {
          "color": "rgb(141,211,199)",
          "pattern": {
           "shape": ""
          }
         },
         "name": "Redes_Neuronales",
         "orientation": "h",
         "showlegend": true,
         "textposition": "auto",
         "type": "bar",
         "x": {
          "bdata": "1CtV2N135j9c8IEVUU3mP/hrU8nCIeY/X7FL1ZAb5j88qpanwAnmPz2wQbPx+uU/HfxSVqny5T9rA5rAMdjlP9cHKa0g1eU/8wLLjuG/5T/ZYALry7LlPyIvktM+peU/",
          "dtype": "f8"
         },
         "xaxis": "x",
         "y": [
          "NN High Regularization (100,50)",
          "NN Two Symmetric (80,80)",
          "NN Deep Uniform (100,100,100)",
          "NN Deep Decreasing (150,100,50)",
          "NN Small (100)",
          "NN Diamond (80,120,80)",
          "NN Tiny (50)",
          "NN SGD Momentum (100,50)",
          "NN Bottleneck (120,30)",
          "NN Two Classic (100,50)",
          "NN Low Regularization (100,50)",
          "NN Small Tanh (100)"
         ],
         "yaxis": "y"
        },
        {
         "hovertemplate": "Categoria=Ensemble<br>F1_Score=%{x}<br>Nombre=%{y}<extra></extra>",
         "legendgroup": "Ensemble",
         "marker": {
          "color": "rgb(255,255,179)",
          "pattern": {
           "shape": ""
          }
         },
         "name": "Ensemble",
         "orientation": "h",
         "showlegend": true,
         "textposition": "auto",
         "type": "bar",
         "x": {
          "bdata": "3EVa5z7g5T/BANBA4MXlPw51e/htYuU/Q2vPSB9b5T9XbAbdMU/lPw==",
          "dtype": "f8"
         },
         "xaxis": "x",
         "y": [
          "Gradient Boosting (100, depth=4)",
          "Voting Trees (RF+XGB+LGB+ET)",
          "Random Forest (100, depth=10)",
          "Voting Soft (RF+DT+LR+NB)",
          "AdaBoost (100, depth=3)"
         ],
         "yaxis": "y"
        },
        {
         "hovertemplate": "Categoria=Otros_Algoritmos<br>F1_Score=%{x}<br>Nombre=%{y}<extra></extra>",
         "legendgroup": "Otros_Algoritmos",
         "marker": {
          "color": "rgb(190,186,218)",
          "pattern": {
           "shape": ""
          }
         },
         "name": "Otros_Algoritmos",
         "orientation": "h",
         "showlegend": true,
         "textposition": "auto",
         "type": "bar",
         "x": {
          "bdata": "6q6VB4lU5T9Vxat031HlP+a6nzxhUeU/",
          "dtype": "f8"
         },
         "xaxis": "x",
         "y": [
          "KNN k=5 Manhattan Distance",
          "Quadratic Discriminant Analysis",
          "Naive Bayes Gaussian Low Smooth"
         ],
         "yaxis": "y"
        }
       ],
       "layout": {
        "barmode": "relative",
        "font": {
         "size": 12
        },
        "height": 800,
        "legend": {
         "title": {
          "text": "Categoria"
         },
         "tracegroupgap": 0
        },
        "template": {
         "data": {
          "bar": [
           {
            "error_x": {
             "color": "#2a3f5f"
            },
            "error_y": {
             "color": "#2a3f5f"
            },
            "marker": {
             "line": {
              "color": "#E5ECF6",
              "width": 0.5
             },
             "pattern": {
              "fillmode": "overlay",
              "size": 10,
              "solidity": 0.2
             }
            },
            "type": "bar"
           }
          ],
          "barpolar": [
           {
            "marker": {
             "line": {
              "color": "#E5ECF6",
              "width": 0.5
             },
             "pattern": {
              "fillmode": "overlay",
              "size": 10,
              "solidity": 0.2
             }
            },
            "type": "barpolar"
           }
          ],
          "carpet": [
           {
            "aaxis": {
             "endlinecolor": "#2a3f5f",
             "gridcolor": "white",
             "linecolor": "white",
             "minorgridcolor": "white",
             "startlinecolor": "#2a3f5f"
            },
            "baxis": {
             "endlinecolor": "#2a3f5f",
             "gridcolor": "white",
             "linecolor": "white",
             "minorgridcolor": "white",
             "startlinecolor": "#2a3f5f"
            },
            "type": "carpet"
           }
          ],
          "choropleth": [
           {
            "colorbar": {
             "outlinewidth": 0,
             "ticks": ""
            },
            "type": "choropleth"
           }
          ],
          "contour": [
           {
            "colorbar": {
             "outlinewidth": 0,
             "ticks": ""
            },
            "colorscale": [
             [
              0,
              "#0d0887"
             ],
             [
              0.1111111111111111,
              "#46039f"
             ],
             [
              0.2222222222222222,
              "#7201a8"
             ],
             [
              0.3333333333333333,
              "#9c179e"
             ],
             [
              0.4444444444444444,
              "#bd3786"
             ],
             [
              0.5555555555555556,
              "#d8576b"
             ],
             [
              0.6666666666666666,
              "#ed7953"
             ],
             [
              0.7777777777777778,
              "#fb9f3a"
             ],
             [
              0.8888888888888888,
              "#fdca26"
             ],
             [
              1,
              "#f0f921"
             ]
            ],
            "type": "contour"
           }
          ],
          "contourcarpet": [
           {
            "colorbar": {
             "outlinewidth": 0,
             "ticks": ""
            },
            "type": "contourcarpet"
           }
          ],
          "heatmap": [
           {
            "colorbar": {
             "outlinewidth": 0,
             "ticks": ""
            },
            "colorscale": [
             [
              0,
              "#0d0887"
             ],
             [
              0.1111111111111111,
              "#46039f"
             ],
             [
              0.2222222222222222,
              "#7201a8"
             ],
             [
              0.3333333333333333,
              "#9c179e"
             ],
             [
              0.4444444444444444,
              "#bd3786"
             ],
             [
              0.5555555555555556,
              "#d8576b"
             ],
             [
              0.6666666666666666,
              "#ed7953"
             ],
             [
              0.7777777777777778,
              "#fb9f3a"
             ],
             [
              0.8888888888888888,
              "#fdca26"
             ],
             [
              1,
              "#f0f921"
             ]
            ],
            "type": "heatmap"
           }
          ],
          "histogram": [
           {
            "marker": {
             "pattern": {
              "fillmode": "overlay",
              "size": 10,
              "solidity": 0.2
             }
            },
            "type": "histogram"
           }
          ],
          "histogram2d": [
           {
            "colorbar": {
             "outlinewidth": 0,
             "ticks": ""
            },
            "colorscale": [
             [
              0,
              "#0d0887"
             ],
             [
              0.1111111111111111,
              "#46039f"
             ],
             [
              0.2222222222222222,
              "#7201a8"
             ],
             [
              0.3333333333333333,
              "#9c179e"
             ],
             [
              0.4444444444444444,
              "#bd3786"
             ],
             [
              0.5555555555555556,
              "#d8576b"
             ],
             [
              0.6666666666666666,
              "#ed7953"
             ],
             [
              0.7777777777777778,
              "#fb9f3a"
             ],
             [
              0.8888888888888888,
              "#fdca26"
             ],
             [
              1,
              "#f0f921"
             ]
            ],
            "type": "histogram2d"
           }
          ],
          "histogram2dcontour": [
           {
            "colorbar": {
             "outlinewidth": 0,
             "ticks": ""
            },
            "colorscale": [
             [
              0,
              "#0d0887"
             ],
             [
              0.1111111111111111,
              "#46039f"
             ],
             [
              0.2222222222222222,
              "#7201a8"
             ],
             [
              0.3333333333333333,
              "#9c179e"
             ],
             [
              0.4444444444444444,
              "#bd3786"
             ],
             [
              0.5555555555555556,
              "#d8576b"
             ],
             [
              0.6666666666666666,
              "#ed7953"
             ],
             [
              0.7777777777777778,
              "#fb9f3a"
             ],
             [
              0.8888888888888888,
              "#fdca26"
             ],
             [
              1,
              "#f0f921"
             ]
            ],
            "type": "histogram2dcontour"
           }
          ],
          "mesh3d": [
           {
            "colorbar": {
             "outlinewidth": 0,
             "ticks": ""
            },
            "type": "mesh3d"
           }
          ],
          "parcoords": [
           {
            "line": {
             "colorbar": {
              "outlinewidth": 0,
              "ticks": ""
             }
            },
            "type": "parcoords"
           }
          ],
          "pie": [
           {
            "automargin": true,
            "type": "pie"
           }
          ],
          "scatter": [
           {
            "fillpattern": {
             "fillmode": "overlay",
             "size": 10,
             "solidity": 0.2
            },
            "type": "scatter"
           }
          ],
          "scatter3d": [
           {
            "line": {
             "colorbar": {
              "outlinewidth": 0,
              "ticks": ""
             }
            },
            "marker": {
             "colorbar": {
              "outlinewidth": 0,
              "ticks": ""
             }
            },
            "type": "scatter3d"
           }
          ],
          "scattercarpet": [
           {
            "marker": {
             "colorbar": {
              "outlinewidth": 0,
              "ticks": ""
             }
            },
            "type": "scattercarpet"
           }
          ],
          "scattergeo": [
           {
            "marker": {
             "colorbar": {
              "outlinewidth": 0,
              "ticks": ""
             }
            },
            "type": "scattergeo"
           }
          ],
          "scattergl": [
           {
            "marker": {
             "colorbar": {
              "outlinewidth": 0,
              "ticks": ""
             }
            },
            "type": "scattergl"
           }
          ],
          "scattermap": [
           {
            "marker": {
             "colorbar": {
              "outlinewidth": 0,
              "ticks": ""
             }
            },
            "type": "scattermap"
           }
          ],
          "scattermapbox": [
           {
            "marker": {
             "colorbar": {
              "outlinewidth": 0,
              "ticks": ""
             }
            },
            "type": "scattermapbox"
           }
          ],
          "scatterpolar": [
           {
            "marker": {
             "colorbar": {
              "outlinewidth": 0,
              "ticks": ""
             }
            },
            "type": "scatterpolar"
           }
          ],
          "scatterpolargl": [
           {
            "marker": {
             "colorbar": {
              "outlinewidth": 0,
              "ticks": ""
             }
            },
            "type": "scatterpolargl"
           }
          ],
          "scatterternary": [
           {
            "marker": {
             "colorbar": {
              "outlinewidth": 0,
              "ticks": ""
             }
            },
            "type": "scatterternary"
           }
          ],
          "surface": [
           {
            "colorbar": {
             "outlinewidth": 0,
             "ticks": ""
            },
            "colorscale": [
             [
              0,
              "#0d0887"
             ],
             [
              0.1111111111111111,
              "#46039f"
             ],
             [
              0.2222222222222222,
              "#7201a8"
             ],
             [
              0.3333333333333333,
              "#9c179e"
             ],
             [
              0.4444444444444444,
              "#bd3786"
             ],
             [
              0.5555555555555556,
              "#d8576b"
             ],
             [
              0.6666666666666666,
              "#ed7953"
             ],
             [
              0.7777777777777778,
              "#fb9f3a"
             ],
             [
              0.8888888888888888,
              "#fdca26"
             ],
             [
              1,
              "#f0f921"
             ]
            ],
            "type": "surface"
           }
          ],
          "table": [
           {
            "cells": {
             "fill": {
              "color": "#EBF0F8"
             },
             "line": {
              "color": "white"
             }
            },
            "header": {
             "fill": {
              "color": "#C8D4E3"
             },
             "line": {
              "color": "white"
             }
            },
            "type": "table"
           }
          ]
         },
         "layout": {
          "annotationdefaults": {
           "arrowcolor": "#2a3f5f",
           "arrowhead": 0,
           "arrowwidth": 1
          },
          "autotypenumbers": "strict",
          "coloraxis": {
           "colorbar": {
            "outlinewidth": 0,
            "ticks": ""
           }
          },
          "colorscale": {
           "diverging": [
            [
             0,
             "#8e0152"
            ],
            [
             0.1,
             "#c51b7d"
            ],
            [
             0.2,
             "#de77ae"
            ],
            [
             0.3,
             "#f1b6da"
            ],
            [
             0.4,
             "#fde0ef"
            ],
            [
             0.5,
             "#f7f7f7"
            ],
            [
             0.6,
             "#e6f5d0"
            ],
            [
             0.7,
             "#b8e186"
            ],
            [
             0.8,
             "#7fbc41"
            ],
            [
             0.9,
             "#4d9221"
            ],
            [
             1,
             "#276419"
            ]
           ],
           "sequential": [
            [
             0,
             "#0d0887"
            ],
            [
             0.1111111111111111,
             "#46039f"
            ],
            [
             0.2222222222222222,
             "#7201a8"
            ],
            [
             0.3333333333333333,
             "#9c179e"
            ],
            [
             0.4444444444444444,
             "#bd3786"
            ],
            [
             0.5555555555555556,
             "#d8576b"
            ],
            [
             0.6666666666666666,
             "#ed7953"
            ],
            [
             0.7777777777777778,
             "#fb9f3a"
            ],
            [
             0.8888888888888888,
             "#fdca26"
            ],
            [
             1,
             "#f0f921"
            ]
           ],
           "sequentialminus": [
            [
             0,
             "#0d0887"
            ],
            [
             0.1111111111111111,
             "#46039f"
            ],
            [
             0.2222222222222222,
             "#7201a8"
            ],
            [
             0.3333333333333333,
             "#9c179e"
            ],
            [
             0.4444444444444444,
             "#bd3786"
            ],
            [
             0.5555555555555556,
             "#d8576b"
            ],
            [
             0.6666666666666666,
             "#ed7953"
            ],
            [
             0.7777777777777778,
             "#fb9f3a"
            ],
            [
             0.8888888888888888,
             "#fdca26"
            ],
            [
             1,
             "#f0f921"
            ]
           ]
          },
          "colorway": [
           "#636efa",
           "#EF553B",
           "#00cc96",
           "#ab63fa",
           "#FFA15A",
           "#19d3f3",
           "#FF6692",
           "#B6E880",
           "#FF97FF",
           "#FECB52"
          ],
          "font": {
           "color": "#2a3f5f"
          },
          "geo": {
           "bgcolor": "white",
           "lakecolor": "white",
           "landcolor": "#E5ECF6",
           "showlakes": true,
           "showland": true,
           "subunitcolor": "white"
          },
          "hoverlabel": {
           "align": "left"
          },
          "hovermode": "closest",
          "mapbox": {
           "style": "light"
          },
          "paper_bgcolor": "white",
          "plot_bgcolor": "#E5ECF6",
          "polar": {
           "angularaxis": {
            "gridcolor": "white",
            "linecolor": "white",
            "ticks": ""
           },
           "bgcolor": "#E5ECF6",
           "radialaxis": {
            "gridcolor": "white",
            "linecolor": "white",
            "ticks": ""
           }
          },
          "scene": {
           "xaxis": {
            "backgroundcolor": "#E5ECF6",
            "gridcolor": "white",
            "gridwidth": 2,
            "linecolor": "white",
            "showbackground": true,
            "ticks": "",
            "zerolinecolor": "white"
           },
           "yaxis": {
            "backgroundcolor": "#E5ECF6",
            "gridcolor": "white",
            "gridwidth": 2,
            "linecolor": "white",
            "showbackground": true,
            "ticks": "",
            "zerolinecolor": "white"
           },
           "zaxis": {
            "backgroundcolor": "#E5ECF6",
            "gridcolor": "white",
            "gridwidth": 2,
            "linecolor": "white",
            "showbackground": true,
            "ticks": "",
            "zerolinecolor": "white"
           }
          },
          "shapedefaults": {
           "line": {
            "color": "#2a3f5f"
           }
          },
          "ternary": {
           "aaxis": {
            "gridcolor": "white",
            "linecolor": "white",
            "ticks": ""
           },
           "baxis": {
            "gridcolor": "white",
            "linecolor": "white",
            "ticks": ""
           },
           "bgcolor": "#E5ECF6",
           "caxis": {
            "gridcolor": "white",
            "linecolor": "white",
            "ticks": ""
           }
          },
          "title": {
           "x": 0.05
          },
          "xaxis": {
           "automargin": true,
           "gridcolor": "white",
           "linecolor": "white",
           "ticks": "",
           "title": {
            "standoff": 15
           },
           "zerolinecolor": "white",
           "zerolinewidth": 2
          },
          "yaxis": {
           "automargin": true,
           "gridcolor": "white",
           "linecolor": "white",
           "ticks": "",
           "title": {
            "standoff": 15
           },
           "zerolinecolor": "white",
           "zerolinewidth": 2
          }
         }
        },
        "title": {
         "font": {
          "size": 16
         },
         "text": "- TOP 20 MODELOS - Ranking Global por F1-Score"
        },
        "xaxis": {
         "anchor": "y",
         "domain": [
          0,
          1
         ],
         "title": {
          "text": "F1_Score"
         }
        },
        "yaxis": {
         "anchor": "x",
         "categoryorder": "total ascending",
         "domain": [
          0,
          1
         ],
         "title": {
          "text": "Nombre"
         }
        }
       }
      }
     },
     "metadata": {},
     "output_type": "display_data"
    },
    {
     "data": {
      "application/vnd.plotly.v1+json": {
       "config": {
        "plotlyServerURL": "https://plot.ly"
       },
       "data": [
        {
         "alignmentgroup": "True",
         "boxpoints": "all",
         "hovertemplate": "Categoria=%{x}<br>F1_Score=%{y}<extra></extra>",
         "legendgroup": "Boosting",
         "marker": {
          "color": "#636efa"
         },
         "name": "Boosting",
         "notched": false,
         "offsetgroup": "Boosting",
         "orientation": "v",
         "showlegend": true,
         "type": "box",
         "x": [
          "Boosting",
          "Boosting",
          "Boosting",
          "Boosting",
          "Boosting",
          "Boosting",
          "Boosting",
          "Boosting",
          "Boosting",
          "Boosting",
          "Boosting"
         ],
         "x0": " ",
         "xaxis": "x",
         "y": {
          "bdata": "AAAAAAAAAAAAAAAAAAAAAAAAAAAAAAAAAAAAAAAAAAAAAAAAAAAAAAAAAAAAAAAAAAAAAAAAAAAAAAAAAAAAAAAAAAAAAAAAAAAAAAAAAAAAAAAAAAAAAA==",
          "dtype": "f8"
         },
         "y0": " ",
         "yaxis": "y"
        },
        {
         "alignmentgroup": "True",
         "boxpoints": "all",
         "hovertemplate": "Categoria=%{x}<br>F1_Score=%{y}<extra></extra>",
         "legendgroup": "Redes_Neuronales",
         "marker": {
          "color": "#EF553B"
         },
         "name": "Redes_Neuronales",
         "notched": false,
         "offsetgroup": "Redes_Neuronales",
         "orientation": "v",
         "showlegend": true,
         "type": "box",
         "x": [
          "Redes_Neuronales",
          "Redes_Neuronales",
          "Redes_Neuronales",
          "Redes_Neuronales",
          "Redes_Neuronales",
          "Redes_Neuronales",
          "Redes_Neuronales",
          "Redes_Neuronales",
          "Redes_Neuronales",
          "Redes_Neuronales",
          "Redes_Neuronales",
          "Redes_Neuronales"
         ],
         "x0": " ",
         "xaxis": "x",
         "y": {
          "bdata": "HfxSVqny5T88qpanwAnmPyIvktM+peU/8wLLjuG/5T9c8IEVUU3mP9cHKa0g1eU/X7FL1ZAb5j/4a1PJwiHmPz2wQbPx+uU/awOawDHY5T/UK1XY3XfmP9lgAuvLsuU/",
          "dtype": "f8"
         },
         "y0": " ",
         "yaxis": "y"
        },
        {
         "alignmentgroup": "True",
         "boxpoints": "all",
         "hovertemplate": "Categoria=%{x}<br>F1_Score=%{y}<extra></extra>",
         "legendgroup": "SVM",
         "marker": {
          "color": "#00cc96"
         },
         "name": "SVM",
         "notched": false,
         "offsetgroup": "SVM",
         "orientation": "v",
         "showlegend": true,
         "type": "box",
         "x": [
          "SVM",
          "SVM",
          "SVM",
          "SVM",
          "SVM"
         ],
         "x0": " ",
         "xaxis": "x",
         "y": {
          "bdata": "2Hewc0wD5T82NOK5sAPlPzXSHwkbAuU/VRdA90cD5T8ekKxz5QHlPw==",
          "dtype": "f8"
         },
         "y0": " ",
         "yaxis": "y"
        },
        {
         "alignmentgroup": "True",
         "boxpoints": "all",
         "hovertemplate": "Categoria=%{x}<br>F1_Score=%{y}<extra></extra>",
         "legendgroup": "Modelos_Lineales",
         "marker": {
          "color": "#ab63fa"
         },
         "name": "Modelos_Lineales",
         "notched": false,
         "offsetgroup": "Modelos_Lineales",
         "orientation": "v",
         "showlegend": true,
         "type": "box",
         "x": [
          "Modelos_Lineales",
          "Modelos_Lineales",
          "Modelos_Lineales",
          "Modelos_Lineales",
          "Modelos_Lineales",
          "Modelos_Lineales",
          "Modelos_Lineales",
          "Modelos_Lineales",
          "Modelos_Lineales",
          "Modelos_Lineales",
          "Modelos_Lineales",
          "Modelos_Lineales",
          "Modelos_Lineales",
          "Modelos_Lineales",
          "Modelos_Lineales",
          "Modelos_Lineales",
          "Modelos_Lineales",
          "Modelos_Lineales",
          "Modelos_Lineales",
          "Modelos_Lineales",
          "Modelos_Lineales"
         ],
         "x0": " ",
         "xaxis": "x",
         "y": {
          "bdata": "u0RDl7kD5T9VlFdssQTlP/VUeWRFBuU//RsnOkMG5T8CFfkiZALlPyP+LRUYBeU/1WW/Nqb55D/3Dig21/nkP9Vlvzam+eQ/vMgGSG/85D/4aDz5e7PkP7qIXdz5kOQ//Ie/iC3H5D/mvPuFHM7kPyCjgt4gBeU/eS42w3oM4j8giXaDEkfiPzaqZWHnGuI/i82PzEVs4z+FEmmsW8riPyRHYwHZdOI/",
          "dtype": "f8"
         },
         "y0": " ",
         "yaxis": "y"
        },
        {
         "alignmentgroup": "True",
         "boxpoints": "all",
         "hovertemplate": "Categoria=%{x}<br>F1_Score=%{y}<extra></extra>",
         "legendgroup": "Ensemble",
         "marker": {
          "color": "#FFA15A"
         },
         "name": "Ensemble",
         "notched": false,
         "offsetgroup": "Ensemble",
         "orientation": "v",
         "showlegend": true,
         "type": "box",
         "x": [
          "Ensemble",
          "Ensemble",
          "Ensemble",
          "Ensemble",
          "Ensemble",
          "Ensemble",
          "Ensemble",
          "Ensemble",
          "Ensemble",
          "Ensemble",
          "Ensemble",
          "Ensemble",
          "Ensemble",
          "Ensemble"
         ],
         "x0": " ",
         "xaxis": "x",
         "y": {
          "bdata": "nU7ZQ6LP5D9Da89IH1vlP8EA0EDgxeU/sZZMfV0c5T8T+qxmNtvkP9522VHdA+U/wxXZNA/u5D86eAGbF/7kP85CWnyqD+U/vnO5Yyn+5D+GACv98TPlP1dsBt0xT+U/3EVa5z7g5T8OdXv4bWLlPw==",
          "dtype": "f8"
         },
         "y0": " ",
         "yaxis": "y"
        },
        {
         "alignmentgroup": "True",
         "boxpoints": "all",
         "hovertemplate": "Categoria=%{x}<br>F1_Score=%{y}<extra></extra>",
         "legendgroup": "Otros_Algoritmos",
         "marker": {
          "color": "#19d3f3"
         },
         "name": "Otros_Algoritmos",
         "notched": false,
         "offsetgroup": "Otros_Algoritmos",
         "orientation": "v",
         "showlegend": true,
         "type": "box",
         "x": [
          "Otros_Algoritmos",
          "Otros_Algoritmos",
          "Otros_Algoritmos",
          "Otros_Algoritmos",
          "Otros_Algoritmos",
          "Otros_Algoritmos",
          "Otros_Algoritmos",
          "Otros_Algoritmos",
          "Otros_Algoritmos",
          "Otros_Algoritmos",
          "Otros_Algoritmos",
          "Otros_Algoritmos",
          "Otros_Algoritmos",
          "Otros_Algoritmos",
          "Otros_Algoritmos",
          "Otros_Algoritmos",
          "Otros_Algoritmos",
          "Otros_Algoritmos",
          "Otros_Algoritmos",
          "Otros_Algoritmos"
         ],
         "x0": " ",
         "xaxis": "x",
         "y": {
          "bdata": "0aOV4/T25D/SU5OIybfkP3zFV3zFV+Q/6q6VB4lU5T/y5ZgAmBzlP+oUaVuGS+U/JiQB2sP/5D/mup88YVHlP7o76e6ku+M/6oViyu+A5D9C/V/gUqvjP9ZvHmvCaOQ/m3AJUmG14z8v0SrBdDTkPyQdbnfwIeQ/Ox/aSsNi5D/3Dig21/nkP7vKMv/i/eQ/VcWrdN9R5T9jhrziZ0LkPw==",
          "dtype": "f8"
         },
         "y0": " ",
         "yaxis": "y"
        }
       ],
       "layout": {
        "boxmode": "overlay",
        "height": 600,
        "legend": {
         "title": {
          "text": "Categoria"
         },
         "tracegroupgap": 0
        },
        "template": {
         "data": {
          "bar": [
           {
            "error_x": {
             "color": "#2a3f5f"
            },
            "error_y": {
             "color": "#2a3f5f"
            },
            "marker": {
             "line": {
              "color": "#E5ECF6",
              "width": 0.5
             },
             "pattern": {
              "fillmode": "overlay",
              "size": 10,
              "solidity": 0.2
             }
            },
            "type": "bar"
           }
          ],
          "barpolar": [
           {
            "marker": {
             "line": {
              "color": "#E5ECF6",
              "width": 0.5
             },
             "pattern": {
              "fillmode": "overlay",
              "size": 10,
              "solidity": 0.2
             }
            },
            "type": "barpolar"
           }
          ],
          "carpet": [
           {
            "aaxis": {
             "endlinecolor": "#2a3f5f",
             "gridcolor": "white",
             "linecolor": "white",
             "minorgridcolor": "white",
             "startlinecolor": "#2a3f5f"
            },
            "baxis": {
             "endlinecolor": "#2a3f5f",
             "gridcolor": "white",
             "linecolor": "white",
             "minorgridcolor": "white",
             "startlinecolor": "#2a3f5f"
            },
            "type": "carpet"
           }
          ],
          "choropleth": [
           {
            "colorbar": {
             "outlinewidth": 0,
             "ticks": ""
            },
            "type": "choropleth"
           }
          ],
          "contour": [
           {
            "colorbar": {
             "outlinewidth": 0,
             "ticks": ""
            },
            "colorscale": [
             [
              0,
              "#0d0887"
             ],
             [
              0.1111111111111111,
              "#46039f"
             ],
             [
              0.2222222222222222,
              "#7201a8"
             ],
             [
              0.3333333333333333,
              "#9c179e"
             ],
             [
              0.4444444444444444,
              "#bd3786"
             ],
             [
              0.5555555555555556,
              "#d8576b"
             ],
             [
              0.6666666666666666,
              "#ed7953"
             ],
             [
              0.7777777777777778,
              "#fb9f3a"
             ],
             [
              0.8888888888888888,
              "#fdca26"
             ],
             [
              1,
              "#f0f921"
             ]
            ],
            "type": "contour"
           }
          ],
          "contourcarpet": [
           {
            "colorbar": {
             "outlinewidth": 0,
             "ticks": ""
            },
            "type": "contourcarpet"
           }
          ],
          "heatmap": [
           {
            "colorbar": {
             "outlinewidth": 0,
             "ticks": ""
            },
            "colorscale": [
             [
              0,
              "#0d0887"
             ],
             [
              0.1111111111111111,
              "#46039f"
             ],
             [
              0.2222222222222222,
              "#7201a8"
             ],
             [
              0.3333333333333333,
              "#9c179e"
             ],
             [
              0.4444444444444444,
              "#bd3786"
             ],
             [
              0.5555555555555556,
              "#d8576b"
             ],
             [
              0.6666666666666666,
              "#ed7953"
             ],
             [
              0.7777777777777778,
              "#fb9f3a"
             ],
             [
              0.8888888888888888,
              "#fdca26"
             ],
             [
              1,
              "#f0f921"
             ]
            ],
            "type": "heatmap"
           }
          ],
          "histogram": [
           {
            "marker": {
             "pattern": {
              "fillmode": "overlay",
              "size": 10,
              "solidity": 0.2
             }
            },
            "type": "histogram"
           }
          ],
          "histogram2d": [
           {
            "colorbar": {
             "outlinewidth": 0,
             "ticks": ""
            },
            "colorscale": [
             [
              0,
              "#0d0887"
             ],
             [
              0.1111111111111111,
              "#46039f"
             ],
             [
              0.2222222222222222,
              "#7201a8"
             ],
             [
              0.3333333333333333,
              "#9c179e"
             ],
             [
              0.4444444444444444,
              "#bd3786"
             ],
             [
              0.5555555555555556,
              "#d8576b"
             ],
             [
              0.6666666666666666,
              "#ed7953"
             ],
             [
              0.7777777777777778,
              "#fb9f3a"
             ],
             [
              0.8888888888888888,
              "#fdca26"
             ],
             [
              1,
              "#f0f921"
             ]
            ],
            "type": "histogram2d"
           }
          ],
          "histogram2dcontour": [
           {
            "colorbar": {
             "outlinewidth": 0,
             "ticks": ""
            },
            "colorscale": [
             [
              0,
              "#0d0887"
             ],
             [
              0.1111111111111111,
              "#46039f"
             ],
             [
              0.2222222222222222,
              "#7201a8"
             ],
             [
              0.3333333333333333,
              "#9c179e"
             ],
             [
              0.4444444444444444,
              "#bd3786"
             ],
             [
              0.5555555555555556,
              "#d8576b"
             ],
             [
              0.6666666666666666,
              "#ed7953"
             ],
             [
              0.7777777777777778,
              "#fb9f3a"
             ],
             [
              0.8888888888888888,
              "#fdca26"
             ],
             [
              1,
              "#f0f921"
             ]
            ],
            "type": "histogram2dcontour"
           }
          ],
          "mesh3d": [
           {
            "colorbar": {
             "outlinewidth": 0,
             "ticks": ""
            },
            "type": "mesh3d"
           }
          ],
          "parcoords": [
           {
            "line": {
             "colorbar": {
              "outlinewidth": 0,
              "ticks": ""
             }
            },
            "type": "parcoords"
           }
          ],
          "pie": [
           {
            "automargin": true,
            "type": "pie"
           }
          ],
          "scatter": [
           {
            "fillpattern": {
             "fillmode": "overlay",
             "size": 10,
             "solidity": 0.2
            },
            "type": "scatter"
           }
          ],
          "scatter3d": [
           {
            "line": {
             "colorbar": {
              "outlinewidth": 0,
              "ticks": ""
             }
            },
            "marker": {
             "colorbar": {
              "outlinewidth": 0,
              "ticks": ""
             }
            },
            "type": "scatter3d"
           }
          ],
          "scattercarpet": [
           {
            "marker": {
             "colorbar": {
              "outlinewidth": 0,
              "ticks": ""
             }
            },
            "type": "scattercarpet"
           }
          ],
          "scattergeo": [
           {
            "marker": {
             "colorbar": {
              "outlinewidth": 0,
              "ticks": ""
             }
            },
            "type": "scattergeo"
           }
          ],
          "scattergl": [
           {
            "marker": {
             "colorbar": {
              "outlinewidth": 0,
              "ticks": ""
             }
            },
            "type": "scattergl"
           }
          ],
          "scattermap": [
           {
            "marker": {
             "colorbar": {
              "outlinewidth": 0,
              "ticks": ""
             }
            },
            "type": "scattermap"
           }
          ],
          "scattermapbox": [
           {
            "marker": {
             "colorbar": {
              "outlinewidth": 0,
              "ticks": ""
             }
            },
            "type": "scattermapbox"
           }
          ],
          "scatterpolar": [
           {
            "marker": {
             "colorbar": {
              "outlinewidth": 0,
              "ticks": ""
             }
            },
            "type": "scatterpolar"
           }
          ],
          "scatterpolargl": [
           {
            "marker": {
             "colorbar": {
              "outlinewidth": 0,
              "ticks": ""
             }
            },
            "type": "scatterpolargl"
           }
          ],
          "scatterternary": [
           {
            "marker": {
             "colorbar": {
              "outlinewidth": 0,
              "ticks": ""
             }
            },
            "type": "scatterternary"
           }
          ],
          "surface": [
           {
            "colorbar": {
             "outlinewidth": 0,
             "ticks": ""
            },
            "colorscale": [
             [
              0,
              "#0d0887"
             ],
             [
              0.1111111111111111,
              "#46039f"
             ],
             [
              0.2222222222222222,
              "#7201a8"
             ],
             [
              0.3333333333333333,
              "#9c179e"
             ],
             [
              0.4444444444444444,
              "#bd3786"
             ],
             [
              0.5555555555555556,
              "#d8576b"
             ],
             [
              0.6666666666666666,
              "#ed7953"
             ],
             [
              0.7777777777777778,
              "#fb9f3a"
             ],
             [
              0.8888888888888888,
              "#fdca26"
             ],
             [
              1,
              "#f0f921"
             ]
            ],
            "type": "surface"
           }
          ],
          "table": [
           {
            "cells": {
             "fill": {
              "color": "#EBF0F8"
             },
             "line": {
              "color": "white"
             }
            },
            "header": {
             "fill": {
              "color": "#C8D4E3"
             },
             "line": {
              "color": "white"
             }
            },
            "type": "table"
           }
          ]
         },
         "layout": {
          "annotationdefaults": {
           "arrowcolor": "#2a3f5f",
           "arrowhead": 0,
           "arrowwidth": 1
          },
          "autotypenumbers": "strict",
          "coloraxis": {
           "colorbar": {
            "outlinewidth": 0,
            "ticks": ""
           }
          },
          "colorscale": {
           "diverging": [
            [
             0,
             "#8e0152"
            ],
            [
             0.1,
             "#c51b7d"
            ],
            [
             0.2,
             "#de77ae"
            ],
            [
             0.3,
             "#f1b6da"
            ],
            [
             0.4,
             "#fde0ef"
            ],
            [
             0.5,
             "#f7f7f7"
            ],
            [
             0.6,
             "#e6f5d0"
            ],
            [
             0.7,
             "#b8e186"
            ],
            [
             0.8,
             "#7fbc41"
            ],
            [
             0.9,
             "#4d9221"
            ],
            [
             1,
             "#276419"
            ]
           ],
           "sequential": [
            [
             0,
             "#0d0887"
            ],
            [
             0.1111111111111111,
             "#46039f"
            ],
            [
             0.2222222222222222,
             "#7201a8"
            ],
            [
             0.3333333333333333,
             "#9c179e"
            ],
            [
             0.4444444444444444,
             "#bd3786"
            ],
            [
             0.5555555555555556,
             "#d8576b"
            ],
            [
             0.6666666666666666,
             "#ed7953"
            ],
            [
             0.7777777777777778,
             "#fb9f3a"
            ],
            [
             0.8888888888888888,
             "#fdca26"
            ],
            [
             1,
             "#f0f921"
            ]
           ],
           "sequentialminus": [
            [
             0,
             "#0d0887"
            ],
            [
             0.1111111111111111,
             "#46039f"
            ],
            [
             0.2222222222222222,
             "#7201a8"
            ],
            [
             0.3333333333333333,
             "#9c179e"
            ],
            [
             0.4444444444444444,
             "#bd3786"
            ],
            [
             0.5555555555555556,
             "#d8576b"
            ],
            [
             0.6666666666666666,
             "#ed7953"
            ],
            [
             0.7777777777777778,
             "#fb9f3a"
            ],
            [
             0.8888888888888888,
             "#fdca26"
            ],
            [
             1,
             "#f0f921"
            ]
           ]
          },
          "colorway": [
           "#636efa",
           "#EF553B",
           "#00cc96",
           "#ab63fa",
           "#FFA15A",
           "#19d3f3",
           "#FF6692",
           "#B6E880",
           "#FF97FF",
           "#FECB52"
          ],
          "font": {
           "color": "#2a3f5f"
          },
          "geo": {
           "bgcolor": "white",
           "lakecolor": "white",
           "landcolor": "#E5ECF6",
           "showlakes": true,
           "showland": true,
           "subunitcolor": "white"
          },
          "hoverlabel": {
           "align": "left"
          },
          "hovermode": "closest",
          "mapbox": {
           "style": "light"
          },
          "paper_bgcolor": "white",
          "plot_bgcolor": "#E5ECF6",
          "polar": {
           "angularaxis": {
            "gridcolor": "white",
            "linecolor": "white",
            "ticks": ""
           },
           "bgcolor": "#E5ECF6",
           "radialaxis": {
            "gridcolor": "white",
            "linecolor": "white",
            "ticks": ""
           }
          },
          "scene": {
           "xaxis": {
            "backgroundcolor": "#E5ECF6",
            "gridcolor": "white",
            "gridwidth": 2,
            "linecolor": "white",
            "showbackground": true,
            "ticks": "",
            "zerolinecolor": "white"
           },
           "yaxis": {
            "backgroundcolor": "#E5ECF6",
            "gridcolor": "white",
            "gridwidth": 2,
            "linecolor": "white",
            "showbackground": true,
            "ticks": "",
            "zerolinecolor": "white"
           },
           "zaxis": {
            "backgroundcolor": "#E5ECF6",
            "gridcolor": "white",
            "gridwidth": 2,
            "linecolor": "white",
            "showbackground": true,
            "ticks": "",
            "zerolinecolor": "white"
           }
          },
          "shapedefaults": {
           "line": {
            "color": "#2a3f5f"
           }
          },
          "ternary": {
           "aaxis": {
            "gridcolor": "white",
            "linecolor": "white",
            "ticks": ""
           },
           "baxis": {
            "gridcolor": "white",
            "linecolor": "white",
            "ticks": ""
           },
           "bgcolor": "#E5ECF6",
           "caxis": {
            "gridcolor": "white",
            "linecolor": "white",
            "ticks": ""
           }
          },
          "title": {
           "x": 0.05
          },
          "xaxis": {
           "automargin": true,
           "gridcolor": "white",
           "linecolor": "white",
           "ticks": "",
           "title": {
            "standoff": 15
           },
           "zerolinecolor": "white",
           "zerolinewidth": 2
          },
          "yaxis": {
           "automargin": true,
           "gridcolor": "white",
           "linecolor": "white",
           "ticks": "",
           "title": {
            "standoff": 15
           },
           "zerolinecolor": "white",
           "zerolinewidth": 2
          }
         }
        },
        "title": {
         "text": "- Distribución de F1-Score por Categoría de Modelo"
        },
        "xaxis": {
         "anchor": "y",
         "categoryarray": [
          "Boosting",
          "Redes_Neuronales",
          "SVM",
          "Modelos_Lineales",
          "Ensemble",
          "Otros_Algoritmos"
         ],
         "categoryorder": "array",
         "domain": [
          0,
          1
         ],
         "tickangle": -45,
         "title": {
          "text": "Categoria"
         }
        },
        "yaxis": {
         "anchor": "x",
         "domain": [
          0,
          1
         ],
         "title": {
          "text": "F1_Score"
         }
        }
       }
      }
     },
     "metadata": {},
     "output_type": "display_data"
    }
   ],
   "source": [
    "# Gráfica de ranking global\n",
    "fig_ranking = px.bar(\n",
    "    df_ranking,\n",
    "    x='F1_Score',\n",
    "    y='Nombre',\n",
    "    color='Categoria',\n",
    "    title='- TOP 20 MODELOS - Ranking Global por F1-Score',\n",
    "    orientation='h',\n",
    "    color_discrete_sequence=px.colors.qualitative.Set3\n",
    ")\n",
    "\n",
    "fig_ranking.update_layout(\n",
    "    height=800,\n",
    "    yaxis={'categoryorder': 'total ascending'},\n",
    "    font=dict(size=12),\n",
    "    title_font=dict(size=16)\n",
    ")\n",
    "\n",
    "fig_ranking.show()\n",
    "\n",
    "# Distribución de rendimiento por categoría\n",
    "fig_box = px.box(\n",
    "    df_completo,\n",
    "    x='Categoria',\n",
    "    y='F1_Score',\n",
    "    title='- Distribución de F1-Score por Categoría de Modelo',\n",
    "    color='Categoria',\n",
    "    points='all'\n",
    ")\n",
    "\n",
    "fig_box.update_layout(\n",
    "    height=600,\n",
    "    xaxis_tickangle=-45\n",
    ")\n",
    "\n",
    "fig_box.show()"
   ]
  },
  {
   "cell_type": "markdown",
   "metadata": {},
   "source": [
    "## Análisis de Eficiencia: Tiempo vs Rendimiento\n",
    "\n",
    "Analizo la relación entre tiempo de entrenamiento y rendimiento."
   ]
  },
  {
   "cell_type": "code",
   "execution_count": 6,
   "metadata": {},
   "outputs": [
    {
     "data": {
      "application/vnd.plotly.v1+json": {
       "config": {
        "plotlyServerURL": "https://plot.ly"
       },
       "data": [
        {
         "customdata": [
          [
           "XGBoost Conservative",
           0
          ],
          [
           "XGBoost Aggressive",
           0
          ],
          [
           "XGBoost Regularized",
           0
          ],
          [
           "LightGBM Fast",
           0
          ],
          [
           "LightGBM Balanced",
           0
          ],
          [
           "CatBoost Simple",
           0
          ],
          [
           "CatBoost Optimized",
           0
          ],
          [
           "AdaBoost Classic",
           0
          ],
          [
           "AdaBoost Conservative",
           0
          ],
          [
           "Gradient Boosting Classic",
           0
          ],
          [
           "Hist Gradient Boosting",
           0
          ]
         ],
         "hovertemplate": "Categoria=Boosting<br>Tiempo_Entrenamiento=%{x}<br>F1_Score=%{y}<br>ROC_AUC=%{marker.size}<br>Nombre=%{customdata[0]}<br>Accuracy=%{customdata[1]}<extra></extra>",
         "legendgroup": "Boosting",
         "marker": {
          "color": "#636efa",
          "size": {
           "bdata": "AAAAAAAAAAAAAAAAAAAAAAAAAAAAAAAAAAAAAAAAAAAAAAAAAAAAAAAAAAAAAAAAAAAAAAAAAAAAAAAAAAAAAAAAAAAAAAAAAAAAAAAAAAAAAAAAAAAAAA==",
           "dtype": "f8"
          },
          "sizemode": "area",
          "sizeref": 0.0018973858234554762,
          "symbol": "circle"
         },
         "mode": "markers",
         "name": "Boosting",
         "orientation": "v",
         "showlegend": true,
         "type": "scatter",
         "x": {
          "bdata": "AAAAgCpP9z8AAACApL//PwAAAMA4ovU/AAAAgE0i9T8AAAAApyb5PwAAAIDmWhNAAAAAgP01IUAAAAAAAAAAAAAAAAAAAAAAAAAAVmgdVUAAAABgsZ0RQA==",
          "dtype": "f8"
         },
         "xaxis": "x",
         "y": {
          "bdata": "AAAAAAAAAAAAAAAAAAAAAAAAAAAAAAAAAAAAAAAAAAAAAAAAAAAAAAAAAAAAAAAAAAAAAAAAAAAAAAAAAAAAAAAAAAAAAAAAAAAAAAAAAAAAAAAAAAAAAA==",
          "dtype": "f8"
         },
         "yaxis": "y"
        },
        {
         "customdata": [
          [
           "NN Tiny (50)",
           0.6814828614008942
          ],
          [
           "NN Small (100)",
           0.6790983606557377
          ],
          [
           "NN Small Tanh (100)",
           0.6745529061102832
          ],
          [
           "NN Two Classic (100,50)",
           0.6788375558867362
          ],
          [
           "NN Two Symmetric (80,80)",
           0.686177347242921
          ],
          [
           "NN Bottleneck (120,30)",
           0.6807749627421759
          ],
          [
           "NN Deep Decreasing (150,100,50)",
           0.6868107302533532
          ],
          [
           "NN Deep Uniform (100,100,100)",
           0.6820044709388972
          ],
          [
           "NN Diamond (80,120,80)",
           0.6833830104321907
          ],
          [
           "NN SGD Momentum (100,50)",
           0.67924739195231
          ],
          [
           "NN High Regularization (100,50)",
           0.684575260804769
          ],
          [
           "NN Low Regularization (100,50)",
           0.6811102831594635
          ]
         ],
         "hovertemplate": "Categoria=Redes_Neuronales<br>Tiempo_Entrenamiento=%{x}<br>F1_Score=%{y}<br>ROC_AUC=%{marker.size}<br>Nombre=%{customdata[0]}<br>Accuracy=%{customdata[1]}<extra></extra>",
         "legendgroup": "Redes_Neuronales",
         "marker": {
          "color": "#EF553B",
          "size": {
           "bdata": "mNbAvqHZ5z8Egsh4DubnP8zY9hz5x+c/wKrSFmz65z+dEw9qdyboP/Q7oYVcBug/CqzlTBo56D8cN4x4Ax7oP8KXbWkgF+g/4luHHwbQ5z/0VPuWWknoP/7CkH0HEeg/",
           "dtype": "f8"
          },
          "sizemode": "area",
          "sizeref": 0.0018973858234554762,
          "symbol": "circle"
         },
         "mode": "markers",
         "name": "Redes_Neuronales",
         "orientation": "v",
         "showlegend": true,
         "type": "scatter",
         "x": {
          "bdata": "AAAAWExILEAAAACIo14oQAAAAChsES9AAAAAnMr1MkAAAAAc82Q1QAAAAPgnYzZAAAAAe5tlUEAAAABez6pHQAAAALoTIURAAACAvE46YEAAAAD2voRAQAAAAKDxRTFA",
          "dtype": "f8"
         },
         "xaxis": "x",
         "y": {
          "bdata": "HfxSVqny5T88qpanwAnmPyIvktM+peU/8wLLjuG/5T9c8IEVUU3mP9cHKa0g1eU/X7FL1ZAb5j/4a1PJwiHmPz2wQbPx+uU/awOawDHY5T/UK1XY3XfmP9lgAuvLsuU/",
          "dtype": "f8"
         },
         "yaxis": "y"
        },
        {
         "customdata": [
          [
           "LinearSVC Basic (C=1.0)",
           0.6406110283159463
          ],
          [
           "LinearSVC Low Reg (C=10.0)",
           0.6406482861400894
          ],
          [
           "LinearSVC High Reg (C=0.1)",
           0.6405737704918033
          ],
          [
           "LinearSVC L1 Penalty (C=1.0)",
           0.6406855439642325
          ],
          [
           "LinearSVC Balanced (C=1.0)",
           0.6406110283159463
          ]
         ],
         "hovertemplate": "Categoria=SVM<br>Tiempo_Entrenamiento=%{x}<br>F1_Score=%{y}<br>ROC_AUC=%{marker.size}<br>Nombre=%{customdata[0]}<br>Accuracy=%{customdata[1]}<extra></extra>",
         "legendgroup": "SVM",
         "marker": {
          "color": "#00cc96",
          "size": {
           "bdata": "TKyrgcgm5j9sKWvazCbmP6hP5gWgJuY/nfKEvnom5j8S7wHCuybmPw==",
           "dtype": "f8"
          },
          "sizemode": "area",
          "sizeref": 0.0018973858234554762,
          "symbol": "circle"
         },
         "mode": "markers",
         "name": "SVM",
         "orientation": "v",
         "showlegend": true,
         "type": "scatter",
         "x": {
          "bdata": "AAAAcHdFGEAAAACQ0RsXQAAAAGAMuxRAAAAAWsY0TkAAAADQlXgVQA==",
          "dtype": "f8"
         },
         "xaxis": "x",
         "y": {
          "bdata": "2Hewc0wD5T82NOK5sAPlPzXSHwkbAuU/VRdA90cD5T8ekKxz5QHlPw==",
          "dtype": "f8"
         },
         "yaxis": "y"
        },
        {
         "customdata": [
          [
           "Logistic Regression Basic (C=1.0)",
           0.6413561847988077
          ],
          [
           "Logistic Regression Low Reg (C=10.0)",
           0.64150521609538
          ],
          [
           "Logistic Regression High Reg (C=0.1)",
           0.6416169895678092
          ],
          [
           "Logistic Regression L1 (C=1.0)",
           0.6416542473919523
          ],
          [
           "Logistic Regression ElasticNet (l1_ratio=0.5)",
           0.6410581222056632
          ],
          [
           "Logistic Regression LBFGS",
           0.64150521609538
          ],
          [
           "Ridge Classifier Basic (alpha=1.0)",
           0.639865871833085
          ],
          [
           "Ridge Classifier Low Reg (alpha=0.1)",
           0.6399031296572281
          ],
          [
           "Ridge Classifier High Reg (alpha=10.0)",
           0.639865871833085
          ],
          [
           "Ridge Classifier CV (mejor alpha)",
           0.6399776453055142
          ],
          [
           "SGD Classifier Log Loss",
           0.6315573770491804
          ],
          [
           "SGD Classifier Hinge Loss",
           0.6252980625931446
          ],
          [
           "SGD Classifier L1 Penalty",
           0.6325633383010432
          ],
          [
           "SGD Classifier ElasticNet",
           0.6336065573770492
          ],
          [
           "SGD Classifier Adaptive LR",
           0.6413561847988077
          ],
          [
           "Passive Aggressive Basic (C=1.0)",
           0.5581594634873324
          ],
          [
           "Passive Aggressive High Reg (C=0.1)",
           0.5665424739195231
          ],
          [
           "Passive Aggressive Squared Hinge",
           0.5594262295081968
          ],
          [
           "Perceptron Basic",
           0.5720566318926975
          ],
          [
           "Perceptron L2 Penalty",
           0.5762667660208644
          ],
          [
           "Perceptron L1 Penalty",
           0.5549552906110283
          ]
         ],
         "hovertemplate": "Categoria=Modelos_Lineales<br>Tiempo_Entrenamiento=%{x}<br>F1_Score=%{y}<br>ROC_AUC=%{marker.size}<br>Nombre=%{customdata[0]}<br>Accuracy=%{customdata[1]}<extra></extra>",
         "legendgroup": "Modelos_Lineales",
         "marker": {
          "color": "#ab63fa",
          "size": {
           "bdata": "iufaPpIq5j+iQg8YoirmP5rOVOLmKeY/qOWMXFcq5j8wVY65wijmPwzbrrJhKuY/s/Js5Nwh5j+LUyIM5CHmP06QJhq9IeY/vn1nS7og5j+a9MLgxsHlPzQO73F1l+U/4L6L3HbV5T/9YQaD7dnlP51mWLGpKeY/J2uxEZC54j/+8JtCJATjP+BRFF0fweI/AVENJZcf4z8J7jb6MV3jP6LuDkS6geI/",
           "dtype": "f8"
          },
          "sizemode": "area",
          "sizeref": 0.0018973858234554762,
          "symbol": "circle"
         },
         "mode": "markers",
         "name": "Modelos_Lineales",
         "orientation": "v",
         "showlegend": true,
         "type": "scatter",
         "x": {
          "bdata": "AAAAwLRqCEAAAADg1YgHQAAAAACjtgZAAAAAimSnQ0AAAABtQrpZQAAAAACq2PY/AAAAAPrK3z8AAAAAcDfAPwAAAACIP8E/AAAAgAyL+j8AAACAxrnxPwAAAECOc/k/AAAAwBgd+z8AAAAAapP7PwAAAAB0uvc/AAAAAM1v2j8AAAAAwiHTPwAAAAAnQtU/AAAAAAUX2D8AAAAAULjUPwAAAAC2guU/",
          "dtype": "f8"
         },
         "xaxis": "x",
         "y": {
          "bdata": "u0RDl7kD5T9VlFdssQTlP/VUeWRFBuU//RsnOkMG5T8CFfkiZALlPyP+LRUYBeU/1WW/Nqb55D/3Dig21/nkP9Vlvzam+eQ/vMgGSG/85D/4aDz5e7PkP7qIXdz5kOQ//Ie/iC3H5D/mvPuFHM7kPyCjgt4gBeU/eS42w3oM4j8giXaDEkfiPzaqZWHnGuI/i82PzEVs4z+FEmmsW8riPyRHYwHZdOI/",
          "dtype": "f8"
         },
         "yaxis": "y"
        },
        {
         "customdata": [
          [
           "Voting Hard (RF+DT+LR+NB)",
           0.6573025335320417
          ],
          [
           "Voting Soft (RF+DT+LR+NB)",
           0.6375558867362145
          ],
          [
           "Voting Trees (RF+XGB+LGB+ET)",
           0.6764157973174366
          ],
          [
           "Voting Linear (LR+SGD+NB)",
           0.6268628912071535
          ],
          [
           "Bagging Decision Trees (50)",
           0.6530178837555887
          ],
          [
           "Bagging Logistic Regression (30)",
           0.6416169895678092
          ],
          [
           "Bagging KNN (20)",
           0.6476154992548435
          ],
          [
           "Bagging LinearSVM (15)",
           0.6405737704918033
          ],
          [
           "ExtraTrees Basic (100, depth=10)",
           0.6455663189269747
          ],
          [
           "ExtraTrees More (200, depth=8)",
           0.6394932935916543
          ],
          [
           "ExtraTrees Bootstrap (100, OOB)",
           0.6545454545454545
          ],
          [
           "AdaBoost (100, depth=3)",
           0.6567064083457526
          ],
          [
           "Gradient Boosting (100, depth=4)",
           0.6807004470938898
          ],
          [
           "Random Forest (100, depth=10)",
           0.6649776453055142
          ]
         ],
         "hovertemplate": "Categoria=Ensemble<br>Tiempo_Entrenamiento=%{x}<br>F1_Score=%{y}<br>ROC_AUC=%{marker.size}<br>Nombre=%{customdata[0]}<br>Accuracy=%{customdata[1]}<extra></extra>",
         "legendgroup": "Ensemble",
         "marker": {
          "color": "#FFA15A",
          "size": {
           "bdata": "AAAAAAAAAABc5qWMH5HmP/LTppEfyOc/Fgb4YCTW5T9py7r087/mPzpFLRGwKeY/yYiK1gfT5j/0fpYeGcnkP8+hdMGfT+Y/fxoYp68H5j/XoXHAY7LmP0gln6Q0/+Y/qLvUBOzs5z9O4NTRpFDnPw==",
           "dtype": "f8"
          },
          "sizemode": "area",
          "sizeref": 0.0018973858234554762,
          "symbol": "circle"
         },
         "mode": "markers",
         "name": "Ensemble",
         "orientation": "v",
         "showlegend": true,
         "type": "scatter",
         "x": {
          "bdata": "AAAAzPIBMkAAAADA9ko0QAAAAIBXCzVAAAAAYO63BkAAAAAU2aExQAAAAODuNCxAAAAA4KPgDUAAAADQKm4yQAAAAGBC1AJAAAAAAMgyC0AAAABw0y8RQAAAAIpNjE9AAAAAuuw/TUAAAABg9kMPQA==",
          "dtype": "f8"
         },
         "xaxis": "x",
         "y": {
          "bdata": "nU7ZQ6LP5D9Da89IH1vlP8EA0EDgxeU/sZZMfV0c5T8T+qxmNtvkP9522VHdA+U/wxXZNA/u5D86eAGbF/7kP85CWnyqD+U/vnO5Yyn+5D+GACv98TPlP1dsBt0xT+U/3EVa5z7g5T8OdXv4bWLlPw==",
          "dtype": "f8"
         },
         "yaxis": "y"
        },
        {
         "customdata": [
          [
           "KNN k=5 Uniform",
           0.6468330849478391
          ],
          [
           "KNN k=3 Distance Weight",
           0.6384500745156483
          ],
          [
           "KNN k=10 Uniform",
           0.6541728763040239
          ],
          [
           "KNN k=5 Manhattan Distance",
           0.6599478390461997
          ],
          [
           "KNN k=7 Distance KDTree",
           0.6522354694485842
          ],
          [
           "KNN k=15 Distance",
           0.6599478390461997
          ],
          [
           "Naive Bayes Gaussian",
           0.6092399403874814
          ],
          [
           "Naive Bayes Gaussian Low Smooth",
           0.6048435171385991
          ],
          [
           "Naive Bayes Bernoulli",
           0.6058867362146051
          ],
          [
           "Naive Bayes Multinomial",
           0.6103949329359165
          ],
          [
           "Naive Bayes Complement",
           0.6140461997019374
          ],
          [
           "Decision Tree Basic (depth=10)",
           0.6339418777943369
          ],
          [
           "Decision Tree Deep (depth=20)",
           0.6087928464977646
          ],
          [
           "Decision Tree Entropy (depth=12)",
           0.6378166915052161
          ],
          [
           "Decision Tree Balanced (depth=15)",
           0.6256333830104321
          ],
          [
           "Extra Tree Single (depth=12)",
           0.6093889716840537
          ],
          [
           "Linear Discriminant Analysis",
           0.6399031296572281
          ],
          [
           "LDA with Shrinkage",
           0.6397913561847988
          ],
          [
           "Quadratic Discriminant Analysis",
           0.627123695976155
          ],
          [
           "Gaussian Process RBF",
           0.6269001490312965
          ]
         ],
         "hovertemplate": "Categoria=Otros_Algoritmos<br>Tiempo_Entrenamiento=%{x}<br>F1_Score=%{y}<br>ROC_AUC=%{marker.size}<br>Nombre=%{customdata[0]}<br>Accuracy=%{customdata[1]}<extra></extra>",
         "legendgroup": "Otros_Algoritmos",
         "marker": {
          "color": "#19d3f3",
          "size": {
           "bdata": "CgpJyXVy5j9QqgEYef7lP2by/3iFA+c/yBAN3g025z/MHC+kafnmP4bYwn+XX+c/lHEFrtHq5D/eBYcN8fXkP766wukYt+Q/PFalBY8O5T88VqUFjw7lP/gctfgR7OU/T7ItigKh5D8G2cRmp/PlP2jSrwVlouU/vjsIfczA5D9a9vXc5CHmPw4JnrQfHOY/+YgQguqQ5T8iZnfjuqPlPw==",
           "dtype": "f8"
          },
          "sizemode": "area",
          "sizeref": 0.0018973858234554762,
          "symbol": "circle"
         },
         "mode": "markers",
         "name": "Otros_Algoritmos",
         "orientation": "v",
         "showlegend": true,
         "type": "scatter",
         "x": {
          "bdata": "AAAAAJCTlj8AAAAA0LmlPwAAAADQDKE/AAAAACBqrz8AAACAgLoLQAAAAABIFaM/AAAAAMycxD8AAAAAAC62PwAAAADEeLo/AAAAAFC4lj8AAAAAYLqVPwAAAADpoP4/AAAAAECoCEAAAABA27ICQAAAAGBqKQZAAAAAABhItT8AAACA5r7yPwAAAAB4BdM/AAAAALIJ4T8AAAD4l0A3QA==",
          "dtype": "f8"
         },
         "xaxis": "x",
         "y": {
          "bdata": "0aOV4/T25D/SU5OIybfkP3zFV3zFV+Q/6q6VB4lU5T/y5ZgAmBzlP+oUaVuGS+U/JiQB2sP/5D/mup88YVHlP7o76e6ku+M/6oViyu+A5D9C/V/gUqvjP9ZvHmvCaOQ/m3AJUmG14z8v0SrBdDTkPyQdbnfwIeQ/Ox/aSsNi5D/3Dig21/nkP7vKMv/i/eQ/VcWrdN9R5T9jhrziZ0LkPw==",
          "dtype": "f8"
         },
         "yaxis": "y"
        }
       ],
       "layout": {
        "height": 600,
        "legend": {
         "itemsizing": "constant",
         "title": {
          "text": "Categoria"
         },
         "tracegroupgap": 0
        },
        "template": {
         "data": {
          "bar": [
           {
            "error_x": {
             "color": "#2a3f5f"
            },
            "error_y": {
             "color": "#2a3f5f"
            },
            "marker": {
             "line": {
              "color": "#E5ECF6",
              "width": 0.5
             },
             "pattern": {
              "fillmode": "overlay",
              "size": 10,
              "solidity": 0.2
             }
            },
            "type": "bar"
           }
          ],
          "barpolar": [
           {
            "marker": {
             "line": {
              "color": "#E5ECF6",
              "width": 0.5
             },
             "pattern": {
              "fillmode": "overlay",
              "size": 10,
              "solidity": 0.2
             }
            },
            "type": "barpolar"
           }
          ],
          "carpet": [
           {
            "aaxis": {
             "endlinecolor": "#2a3f5f",
             "gridcolor": "white",
             "linecolor": "white",
             "minorgridcolor": "white",
             "startlinecolor": "#2a3f5f"
            },
            "baxis": {
             "endlinecolor": "#2a3f5f",
             "gridcolor": "white",
             "linecolor": "white",
             "minorgridcolor": "white",
             "startlinecolor": "#2a3f5f"
            },
            "type": "carpet"
           }
          ],
          "choropleth": [
           {
            "colorbar": {
             "outlinewidth": 0,
             "ticks": ""
            },
            "type": "choropleth"
           }
          ],
          "contour": [
           {
            "colorbar": {
             "outlinewidth": 0,
             "ticks": ""
            },
            "colorscale": [
             [
              0,
              "#0d0887"
             ],
             [
              0.1111111111111111,
              "#46039f"
             ],
             [
              0.2222222222222222,
              "#7201a8"
             ],
             [
              0.3333333333333333,
              "#9c179e"
             ],
             [
              0.4444444444444444,
              "#bd3786"
             ],
             [
              0.5555555555555556,
              "#d8576b"
             ],
             [
              0.6666666666666666,
              "#ed7953"
             ],
             [
              0.7777777777777778,
              "#fb9f3a"
             ],
             [
              0.8888888888888888,
              "#fdca26"
             ],
             [
              1,
              "#f0f921"
             ]
            ],
            "type": "contour"
           }
          ],
          "contourcarpet": [
           {
            "colorbar": {
             "outlinewidth": 0,
             "ticks": ""
            },
            "type": "contourcarpet"
           }
          ],
          "heatmap": [
           {
            "colorbar": {
             "outlinewidth": 0,
             "ticks": ""
            },
            "colorscale": [
             [
              0,
              "#0d0887"
             ],
             [
              0.1111111111111111,
              "#46039f"
             ],
             [
              0.2222222222222222,
              "#7201a8"
             ],
             [
              0.3333333333333333,
              "#9c179e"
             ],
             [
              0.4444444444444444,
              "#bd3786"
             ],
             [
              0.5555555555555556,
              "#d8576b"
             ],
             [
              0.6666666666666666,
              "#ed7953"
             ],
             [
              0.7777777777777778,
              "#fb9f3a"
             ],
             [
              0.8888888888888888,
              "#fdca26"
             ],
             [
              1,
              "#f0f921"
             ]
            ],
            "type": "heatmap"
           }
          ],
          "histogram": [
           {
            "marker": {
             "pattern": {
              "fillmode": "overlay",
              "size": 10,
              "solidity": 0.2
             }
            },
            "type": "histogram"
           }
          ],
          "histogram2d": [
           {
            "colorbar": {
             "outlinewidth": 0,
             "ticks": ""
            },
            "colorscale": [
             [
              0,
              "#0d0887"
             ],
             [
              0.1111111111111111,
              "#46039f"
             ],
             [
              0.2222222222222222,
              "#7201a8"
             ],
             [
              0.3333333333333333,
              "#9c179e"
             ],
             [
              0.4444444444444444,
              "#bd3786"
             ],
             [
              0.5555555555555556,
              "#d8576b"
             ],
             [
              0.6666666666666666,
              "#ed7953"
             ],
             [
              0.7777777777777778,
              "#fb9f3a"
             ],
             [
              0.8888888888888888,
              "#fdca26"
             ],
             [
              1,
              "#f0f921"
             ]
            ],
            "type": "histogram2d"
           }
          ],
          "histogram2dcontour": [
           {
            "colorbar": {
             "outlinewidth": 0,
             "ticks": ""
            },
            "colorscale": [
             [
              0,
              "#0d0887"
             ],
             [
              0.1111111111111111,
              "#46039f"
             ],
             [
              0.2222222222222222,
              "#7201a8"
             ],
             [
              0.3333333333333333,
              "#9c179e"
             ],
             [
              0.4444444444444444,
              "#bd3786"
             ],
             [
              0.5555555555555556,
              "#d8576b"
             ],
             [
              0.6666666666666666,
              "#ed7953"
             ],
             [
              0.7777777777777778,
              "#fb9f3a"
             ],
             [
              0.8888888888888888,
              "#fdca26"
             ],
             [
              1,
              "#f0f921"
             ]
            ],
            "type": "histogram2dcontour"
           }
          ],
          "mesh3d": [
           {
            "colorbar": {
             "outlinewidth": 0,
             "ticks": ""
            },
            "type": "mesh3d"
           }
          ],
          "parcoords": [
           {
            "line": {
             "colorbar": {
              "outlinewidth": 0,
              "ticks": ""
             }
            },
            "type": "parcoords"
           }
          ],
          "pie": [
           {
            "automargin": true,
            "type": "pie"
           }
          ],
          "scatter": [
           {
            "fillpattern": {
             "fillmode": "overlay",
             "size": 10,
             "solidity": 0.2
            },
            "type": "scatter"
           }
          ],
          "scatter3d": [
           {
            "line": {
             "colorbar": {
              "outlinewidth": 0,
              "ticks": ""
             }
            },
            "marker": {
             "colorbar": {
              "outlinewidth": 0,
              "ticks": ""
             }
            },
            "type": "scatter3d"
           }
          ],
          "scattercarpet": [
           {
            "marker": {
             "colorbar": {
              "outlinewidth": 0,
              "ticks": ""
             }
            },
            "type": "scattercarpet"
           }
          ],
          "scattergeo": [
           {
            "marker": {
             "colorbar": {
              "outlinewidth": 0,
              "ticks": ""
             }
            },
            "type": "scattergeo"
           }
          ],
          "scattergl": [
           {
            "marker": {
             "colorbar": {
              "outlinewidth": 0,
              "ticks": ""
             }
            },
            "type": "scattergl"
           }
          ],
          "scattermap": [
           {
            "marker": {
             "colorbar": {
              "outlinewidth": 0,
              "ticks": ""
             }
            },
            "type": "scattermap"
           }
          ],
          "scattermapbox": [
           {
            "marker": {
             "colorbar": {
              "outlinewidth": 0,
              "ticks": ""
             }
            },
            "type": "scattermapbox"
           }
          ],
          "scatterpolar": [
           {
            "marker": {
             "colorbar": {
              "outlinewidth": 0,
              "ticks": ""
             }
            },
            "type": "scatterpolar"
           }
          ],
          "scatterpolargl": [
           {
            "marker": {
             "colorbar": {
              "outlinewidth": 0,
              "ticks": ""
             }
            },
            "type": "scatterpolargl"
           }
          ],
          "scatterternary": [
           {
            "marker": {
             "colorbar": {
              "outlinewidth": 0,
              "ticks": ""
             }
            },
            "type": "scatterternary"
           }
          ],
          "surface": [
           {
            "colorbar": {
             "outlinewidth": 0,
             "ticks": ""
            },
            "colorscale": [
             [
              0,
              "#0d0887"
             ],
             [
              0.1111111111111111,
              "#46039f"
             ],
             [
              0.2222222222222222,
              "#7201a8"
             ],
             [
              0.3333333333333333,
              "#9c179e"
             ],
             [
              0.4444444444444444,
              "#bd3786"
             ],
             [
              0.5555555555555556,
              "#d8576b"
             ],
             [
              0.6666666666666666,
              "#ed7953"
             ],
             [
              0.7777777777777778,
              "#fb9f3a"
             ],
             [
              0.8888888888888888,
              "#fdca26"
             ],
             [
              1,
              "#f0f921"
             ]
            ],
            "type": "surface"
           }
          ],
          "table": [
           {
            "cells": {
             "fill": {
              "color": "#EBF0F8"
             },
             "line": {
              "color": "white"
             }
            },
            "header": {
             "fill": {
              "color": "#C8D4E3"
             },
             "line": {
              "color": "white"
             }
            },
            "type": "table"
           }
          ]
         },
         "layout": {
          "annotationdefaults": {
           "arrowcolor": "#2a3f5f",
           "arrowhead": 0,
           "arrowwidth": 1
          },
          "autotypenumbers": "strict",
          "coloraxis": {
           "colorbar": {
            "outlinewidth": 0,
            "ticks": ""
           }
          },
          "colorscale": {
           "diverging": [
            [
             0,
             "#8e0152"
            ],
            [
             0.1,
             "#c51b7d"
            ],
            [
             0.2,
             "#de77ae"
            ],
            [
             0.3,
             "#f1b6da"
            ],
            [
             0.4,
             "#fde0ef"
            ],
            [
             0.5,
             "#f7f7f7"
            ],
            [
             0.6,
             "#e6f5d0"
            ],
            [
             0.7,
             "#b8e186"
            ],
            [
             0.8,
             "#7fbc41"
            ],
            [
             0.9,
             "#4d9221"
            ],
            [
             1,
             "#276419"
            ]
           ],
           "sequential": [
            [
             0,
             "#0d0887"
            ],
            [
             0.1111111111111111,
             "#46039f"
            ],
            [
             0.2222222222222222,
             "#7201a8"
            ],
            [
             0.3333333333333333,
             "#9c179e"
            ],
            [
             0.4444444444444444,
             "#bd3786"
            ],
            [
             0.5555555555555556,
             "#d8576b"
            ],
            [
             0.6666666666666666,
             "#ed7953"
            ],
            [
             0.7777777777777778,
             "#fb9f3a"
            ],
            [
             0.8888888888888888,
             "#fdca26"
            ],
            [
             1,
             "#f0f921"
            ]
           ],
           "sequentialminus": [
            [
             0,
             "#0d0887"
            ],
            [
             0.1111111111111111,
             "#46039f"
            ],
            [
             0.2222222222222222,
             "#7201a8"
            ],
            [
             0.3333333333333333,
             "#9c179e"
            ],
            [
             0.4444444444444444,
             "#bd3786"
            ],
            [
             0.5555555555555556,
             "#d8576b"
            ],
            [
             0.6666666666666666,
             "#ed7953"
            ],
            [
             0.7777777777777778,
             "#fb9f3a"
            ],
            [
             0.8888888888888888,
             "#fdca26"
            ],
            [
             1,
             "#f0f921"
            ]
           ]
          },
          "colorway": [
           "#636efa",
           "#EF553B",
           "#00cc96",
           "#ab63fa",
           "#FFA15A",
           "#19d3f3",
           "#FF6692",
           "#B6E880",
           "#FF97FF",
           "#FECB52"
          ],
          "font": {
           "color": "#2a3f5f"
          },
          "geo": {
           "bgcolor": "white",
           "lakecolor": "white",
           "landcolor": "#E5ECF6",
           "showlakes": true,
           "showland": true,
           "subunitcolor": "white"
          },
          "hoverlabel": {
           "align": "left"
          },
          "hovermode": "closest",
          "mapbox": {
           "style": "light"
          },
          "paper_bgcolor": "white",
          "plot_bgcolor": "#E5ECF6",
          "polar": {
           "angularaxis": {
            "gridcolor": "white",
            "linecolor": "white",
            "ticks": ""
           },
           "bgcolor": "#E5ECF6",
           "radialaxis": {
            "gridcolor": "white",
            "linecolor": "white",
            "ticks": ""
           }
          },
          "scene": {
           "xaxis": {
            "backgroundcolor": "#E5ECF6",
            "gridcolor": "white",
            "gridwidth": 2,
            "linecolor": "white",
            "showbackground": true,
            "ticks": "",
            "zerolinecolor": "white"
           },
           "yaxis": {
            "backgroundcolor": "#E5ECF6",
            "gridcolor": "white",
            "gridwidth": 2,
            "linecolor": "white",
            "showbackground": true,
            "ticks": "",
            "zerolinecolor": "white"
           },
           "zaxis": {
            "backgroundcolor": "#E5ECF6",
            "gridcolor": "white",
            "gridwidth": 2,
            "linecolor": "white",
            "showbackground": true,
            "ticks": "",
            "zerolinecolor": "white"
           }
          },
          "shapedefaults": {
           "line": {
            "color": "#2a3f5f"
           }
          },
          "ternary": {
           "aaxis": {
            "gridcolor": "white",
            "linecolor": "white",
            "ticks": ""
           },
           "baxis": {
            "gridcolor": "white",
            "linecolor": "white",
            "ticks": ""
           },
           "bgcolor": "#E5ECF6",
           "caxis": {
            "gridcolor": "white",
            "linecolor": "white",
            "ticks": ""
           }
          },
          "title": {
           "x": 0.05
          },
          "xaxis": {
           "automargin": true,
           "gridcolor": "white",
           "linecolor": "white",
           "ticks": "",
           "title": {
            "standoff": 15
           },
           "zerolinecolor": "white",
           "zerolinewidth": 2
          },
          "yaxis": {
           "automargin": true,
           "gridcolor": "white",
           "linecolor": "white",
           "ticks": "",
           "title": {
            "standoff": 15
           },
           "zerolinecolor": "white",
           "zerolinewidth": 2
          }
         }
        },
        "title": {
         "text": "- Eficiencia de Modelos: Tiempo vs F1-Score (tamaño = ROC-AUC)"
        },
        "xaxis": {
         "anchor": "y",
         "domain": [
          0,
          1
         ],
         "title": {
          "text": "Tiempo_Entrenamiento"
         },
         "type": "log"
        },
        "yaxis": {
         "anchor": "x",
         "domain": [
          0,
          1
         ],
         "title": {
          "text": "F1_Score"
         }
        }
       }
      }
     },
     "metadata": {},
     "output_type": "display_data"
    },
    {
     "name": "stdout",
     "output_type": "stream",
     "text": [
      "\n",
      "- ANÁLISIS DE EFICIENCIA\n",
      "==================================================\n",
      "\n",
      "- MODELOS RÁPIDOS Y BUENOS (< 1s, F1 > Q3):\n",
      "   KNN k=5 Manhattan Distance     F1: 0.6666 | 0.061s\n",
      "   Quadratic Discriminant Analysis F1: 0.6662 | 0.532s\n",
      "   Naive Bayes Gaussian Low Smooth F1: 0.6662 | 0.087s\n",
      "   KNN k=15 Distance              F1: 0.6655 | 0.037s\n",
      "\n",
      "- TOP 10 POR RATIO EFICIENCIA (F1/Tiempo):\n",
      "   KNN k=5 Uniform                Ratio: 28.4 | F1: 0.6551 | 0.022s\n",
      "   Naive Bayes Complement         Ratio: 27.7 | F1: 0.6147 | 0.021s\n",
      "   Naive Bayes Multinomial        Ratio: 27.6 | F1: 0.6407 | 0.022s\n",
      "   KNN k=10 Uniform               Ratio: 18.5 | F1: 0.6357 | 0.033s\n",
      "   KNN k=15 Distance              Ratio: 17.4 | F1: 0.6655 | 0.037s\n",
      "   KNN k=3 Distance Weight        Ratio: 14.9 | F1: 0.6474 | 0.042s\n",
      "   KNN k=5 Manhattan Distance     Ratio: 10.7 | F1: 0.6666 | 0.061s\n",
      "   Naive Bayes Gaussian Low Smooth Ratio: 7.6 | F1: 0.6662 | 0.087s\n",
      "   Extra Tree Single (depth=12)   Ratio: 7.6 | F1: 0.6371 | 0.083s\n",
      "   Naive Bayes Bernoulli          Ratio: 5.9 | F1: 0.6167 | 0.103s\n"
     ]
    }
   ],
   "source": [
    "# Scatter plot: Tiempo vs F1-Score\n",
    "fig_efficiency = px.scatter(\n",
    "    df_completo,\n",
    "    x='Tiempo_Entrenamiento',\n",
    "    y='F1_Score',\n",
    "    color='Categoria',\n",
    "    size='ROC_AUC',\n",
    "    hover_data=['Nombre', 'Accuracy'],\n",
    "    title='- Eficiencia de Modelos: Tiempo vs F1-Score (tamaño = ROC-AUC)',\n",
    "    log_x=True  # Escala logarítmica para tiempo\n",
    ")\n",
    "\n",
    "fig_efficiency.update_layout(height=600)\n",
    "fig_efficiency.show()\n",
    "\n",
    "# Análisis de eficiencia: mejores modelos por tiempo\n",
    "print(\"\\n- ANÁLISIS DE EFICIENCIA\")\n",
    "print(\"=\"*50)\n",
    "\n",
    "# Modelos rápidos (< 1 segundo) con buen rendimiento\n",
    "rapidos_buenos = df_completo[\n",
    "    (df_completo['Tiempo_Entrenamiento'] < 1.0) & \n",
    "    (df_completo['F1_Score'] > df_completo['F1_Score'].quantile(0.75))\n",
    "].sort_values('F1_Score', ascending=False)\n",
    "\n",
    "print(f\"\\n- MODELOS RÁPIDOS Y BUENOS (< 1s, F1 > Q3):\")\n",
    "for _, row in rapidos_buenos.head(10).iterrows():\n",
    "    print(f\"   {row['Nombre']:<30} F1: {row['F1_Score']:.4f} | {row['Tiempo_Entrenamiento']:.3f}s\")\n",
    "\n",
    "# Calcular ratio eficiencia (F1/tiempo)\n",
    "df_completo['Ratio_Eficiencia'] = df_completo['F1_Score'] / (df_completo['Tiempo_Entrenamiento'] + 0.001)  # +0.001 para evitar división por 0\n",
    "\n",
    "print(f\"\\n- TOP 10 POR RATIO EFICIENCIA (F1/Tiempo):\")\n",
    "top_eficiencia = df_completo.sort_values('Ratio_Eficiencia', ascending=False).head(10)\n",
    "for _, row in top_eficiencia.iterrows():\n",
    "    print(f\"   {row['Nombre']:<30} Ratio: {row['Ratio_Eficiencia']:.1f} | F1: {row['F1_Score']:.4f} | {row['Tiempo_Entrenamiento']:.3f}s\")"
   ]
  },
  {
   "cell_type": "markdown",
   "metadata": {},
   "source": [
    "## Análisis Profundo por Categoría\n",
    "\n",
    "Analizo cada categoría de modelos en detalle."
   ]
  },
  {
   "cell_type": "code",
   "execution_count": 7,
   "metadata": {},
   "outputs": [
    {
     "name": "stdout",
     "output_type": "stream",
     "text": [
      "\n",
      "ESTADÍSTICAS DETALLADAS POR CATEGORÍA\n",
      "================================================================================\n",
      "\n",
      "- Boosting:\n",
      "   Modelos: 11\n",
      "   F1 promedio: 0.0000 ± 0.0000\n",
      "   F1 rango: [0.0000 - 0.0000]\n",
      "   Tiempo promedio: 9.999s ± 24.824s\n",
      "   ROC-AUC promedio: 0.0000\n",
      "   - Mejor: XGBoost Conservative (F1: 0.0000)\n",
      "\n",
      "- Ensemble:\n",
      "   Modelos: 14\n",
      "   F1 promedio: 0.6622 ± 0.0100\n",
      "   F1 rango: [0.6503 - 0.6836]\n",
      "   Tiempo promedio: 17.974s ± 19.575s\n",
      "   ROC-AUC promedio: 0.6562\n",
      "   - Mejor: Gradient Boosting (100, depth=4) (F1: 0.6836)\n",
      "\n",
      "- Modelos_Lineales:\n",
      "   Modelos: 21\n",
      "   F1 promedio: 0.6324 ± 0.0360\n",
      "   F1 rango: [0.5640 - 0.6570]\n",
      "   Tiempo promedio: 7.853s ± 23.329s\n",
      "   ROC-AUC promedio: 0.6610\n",
      "   - Mejor: Logistic Regression High Reg (C=0.1) (F1: 0.6570)\n",
      "\n",
      "- Otros_Algoritmos:\n",
      "   Modelos: 20\n",
      "   F1 promedio: 0.6443 ± 0.0175\n",
      "   F1 rango: [0.6147 - 0.6666]\n",
      "   Tiempo promedio: 1.975s ± 5.144s\n",
      "   ROC-AUC promedio: 0.6813\n",
      "   - Mejor: KNN k=5 Manhattan Distance (F1: 0.6666)\n",
      "\n",
      "- Redes_Neuronales:\n",
      "   Modelos: 12\n",
      "   F1 promedio: 0.6868 ± 0.0077\n",
      "   F1 rango: [0.6764 - 0.7021]\n",
      "   Tiempo promedio: 36.493s ± 33.485s\n",
      "   ROC-AUC promedio: 0.7507\n",
      "   - Mejor: NN High Regularization (100,50) (F1: 0.7021)\n",
      "\n",
      "- SVM:\n",
      "   Modelos: 5\n",
      "   F1 promedio: 0.6566 ± 0.0001\n",
      "   F1 rango: [0.6565 - 0.6567]\n",
      "   Tiempo promedio: 16.561s ± 24.516s\n",
      "   ROC-AUC promedio: 0.6922\n",
      "   - Mejor: LinearSVC Low Reg (C=10.0) (F1: 0.6567)\n"
     ]
    },
    {
     "data": {
      "application/vnd.plotly.v1+json": {
       "config": {
        "plotlyServerURL": "https://plot.ly"
       },
       "data": [
        {
         "coloraxis": "coloraxis",
         "hovertemplate": "Categoria: %{x}<br>y: %{y}<br>color: %{z}<extra></extra>",
         "name": "0",
         "type": "heatmap",
         "x": [
          "Boosting",
          "Ensemble",
          "Modelos_Lineales",
          "Otros_Algoritmos",
          "Redes_Neuronales",
          "SVM"
         ],
         "xaxis": "x",
         "y": [
          "F1_Score",
          "Accuracy",
          "ROC_AUC",
          "Precision",
          "Recall"
         ],
         "yaxis": "y",
         "z": {
          "bdata": "AAAAAAAAAAB4zM0H2TDlP9KK33XlPOQ/A44WSmCe5D+HrmW/l/rlPyWh7LnaAuU/AAAAAAAAAAAVlwzBOtrkP5XvEA2sv+M/CoJRhSAr5D+UQIW54s7lP7LoEPQBgOQ/AAAAAAAAAADeWngUsP/kP9ubfy75JuU/0yhr0o3N5T+J1yml9gXoPwObTS2vJuY/AAAAAAAAAADlveRYRyXlP3gfhoAg8+M/+cMpKg1w5D+R25HhGDTmP4aaWizAoeQ/AAAAAAAAAAA5ykffFEblPzIOdbQKi+Q/9EKKClXn5D8XUUawl8XlP/JslYuYZ+U/",
          "dtype": "f8",
          "shape": "5, 6"
         }
        }
       ],
       "layout": {
        "coloraxis": {
         "colorscale": [
          [
           0,
           "rgb(49,54,149)"
          ],
          [
           0.1,
           "rgb(69,117,180)"
          ],
          [
           0.2,
           "rgb(116,173,209)"
          ],
          [
           0.3,
           "rgb(171,217,233)"
          ],
          [
           0.4,
           "rgb(224,243,248)"
          ],
          [
           0.5,
           "rgb(255,255,191)"
          ],
          [
           0.6,
           "rgb(254,224,144)"
          ],
          [
           0.7,
           "rgb(253,174,97)"
          ],
          [
           0.8,
           "rgb(244,109,67)"
          ],
          [
           0.9,
           "rgb(215,48,39)"
          ],
          [
           1,
           "rgb(165,0,38)"
          ]
         ]
        },
        "height": 400,
        "template": {
         "data": {
          "bar": [
           {
            "error_x": {
             "color": "#2a3f5f"
            },
            "error_y": {
             "color": "#2a3f5f"
            },
            "marker": {
             "line": {
              "color": "#E5ECF6",
              "width": 0.5
             },
             "pattern": {
              "fillmode": "overlay",
              "size": 10,
              "solidity": 0.2
             }
            },
            "type": "bar"
           }
          ],
          "barpolar": [
           {
            "marker": {
             "line": {
              "color": "#E5ECF6",
              "width": 0.5
             },
             "pattern": {
              "fillmode": "overlay",
              "size": 10,
              "solidity": 0.2
             }
            },
            "type": "barpolar"
           }
          ],
          "carpet": [
           {
            "aaxis": {
             "endlinecolor": "#2a3f5f",
             "gridcolor": "white",
             "linecolor": "white",
             "minorgridcolor": "white",
             "startlinecolor": "#2a3f5f"
            },
            "baxis": {
             "endlinecolor": "#2a3f5f",
             "gridcolor": "white",
             "linecolor": "white",
             "minorgridcolor": "white",
             "startlinecolor": "#2a3f5f"
            },
            "type": "carpet"
           }
          ],
          "choropleth": [
           {
            "colorbar": {
             "outlinewidth": 0,
             "ticks": ""
            },
            "type": "choropleth"
           }
          ],
          "contour": [
           {
            "colorbar": {
             "outlinewidth": 0,
             "ticks": ""
            },
            "colorscale": [
             [
              0,
              "#0d0887"
             ],
             [
              0.1111111111111111,
              "#46039f"
             ],
             [
              0.2222222222222222,
              "#7201a8"
             ],
             [
              0.3333333333333333,
              "#9c179e"
             ],
             [
              0.4444444444444444,
              "#bd3786"
             ],
             [
              0.5555555555555556,
              "#d8576b"
             ],
             [
              0.6666666666666666,
              "#ed7953"
             ],
             [
              0.7777777777777778,
              "#fb9f3a"
             ],
             [
              0.8888888888888888,
              "#fdca26"
             ],
             [
              1,
              "#f0f921"
             ]
            ],
            "type": "contour"
           }
          ],
          "contourcarpet": [
           {
            "colorbar": {
             "outlinewidth": 0,
             "ticks": ""
            },
            "type": "contourcarpet"
           }
          ],
          "heatmap": [
           {
            "colorbar": {
             "outlinewidth": 0,
             "ticks": ""
            },
            "colorscale": [
             [
              0,
              "#0d0887"
             ],
             [
              0.1111111111111111,
              "#46039f"
             ],
             [
              0.2222222222222222,
              "#7201a8"
             ],
             [
              0.3333333333333333,
              "#9c179e"
             ],
             [
              0.4444444444444444,
              "#bd3786"
             ],
             [
              0.5555555555555556,
              "#d8576b"
             ],
             [
              0.6666666666666666,
              "#ed7953"
             ],
             [
              0.7777777777777778,
              "#fb9f3a"
             ],
             [
              0.8888888888888888,
              "#fdca26"
             ],
             [
              1,
              "#f0f921"
             ]
            ],
            "type": "heatmap"
           }
          ],
          "histogram": [
           {
            "marker": {
             "pattern": {
              "fillmode": "overlay",
              "size": 10,
              "solidity": 0.2
             }
            },
            "type": "histogram"
           }
          ],
          "histogram2d": [
           {
            "colorbar": {
             "outlinewidth": 0,
             "ticks": ""
            },
            "colorscale": [
             [
              0,
              "#0d0887"
             ],
             [
              0.1111111111111111,
              "#46039f"
             ],
             [
              0.2222222222222222,
              "#7201a8"
             ],
             [
              0.3333333333333333,
              "#9c179e"
             ],
             [
              0.4444444444444444,
              "#bd3786"
             ],
             [
              0.5555555555555556,
              "#d8576b"
             ],
             [
              0.6666666666666666,
              "#ed7953"
             ],
             [
              0.7777777777777778,
              "#fb9f3a"
             ],
             [
              0.8888888888888888,
              "#fdca26"
             ],
             [
              1,
              "#f0f921"
             ]
            ],
            "type": "histogram2d"
           }
          ],
          "histogram2dcontour": [
           {
            "colorbar": {
             "outlinewidth": 0,
             "ticks": ""
            },
            "colorscale": [
             [
              0,
              "#0d0887"
             ],
             [
              0.1111111111111111,
              "#46039f"
             ],
             [
              0.2222222222222222,
              "#7201a8"
             ],
             [
              0.3333333333333333,
              "#9c179e"
             ],
             [
              0.4444444444444444,
              "#bd3786"
             ],
             [
              0.5555555555555556,
              "#d8576b"
             ],
             [
              0.6666666666666666,
              "#ed7953"
             ],
             [
              0.7777777777777778,
              "#fb9f3a"
             ],
             [
              0.8888888888888888,
              "#fdca26"
             ],
             [
              1,
              "#f0f921"
             ]
            ],
            "type": "histogram2dcontour"
           }
          ],
          "mesh3d": [
           {
            "colorbar": {
             "outlinewidth": 0,
             "ticks": ""
            },
            "type": "mesh3d"
           }
          ],
          "parcoords": [
           {
            "line": {
             "colorbar": {
              "outlinewidth": 0,
              "ticks": ""
             }
            },
            "type": "parcoords"
           }
          ],
          "pie": [
           {
            "automargin": true,
            "type": "pie"
           }
          ],
          "scatter": [
           {
            "fillpattern": {
             "fillmode": "overlay",
             "size": 10,
             "solidity": 0.2
            },
            "type": "scatter"
           }
          ],
          "scatter3d": [
           {
            "line": {
             "colorbar": {
              "outlinewidth": 0,
              "ticks": ""
             }
            },
            "marker": {
             "colorbar": {
              "outlinewidth": 0,
              "ticks": ""
             }
            },
            "type": "scatter3d"
           }
          ],
          "scattercarpet": [
           {
            "marker": {
             "colorbar": {
              "outlinewidth": 0,
              "ticks": ""
             }
            },
            "type": "scattercarpet"
           }
          ],
          "scattergeo": [
           {
            "marker": {
             "colorbar": {
              "outlinewidth": 0,
              "ticks": ""
             }
            },
            "type": "scattergeo"
           }
          ],
          "scattergl": [
           {
            "marker": {
             "colorbar": {
              "outlinewidth": 0,
              "ticks": ""
             }
            },
            "type": "scattergl"
           }
          ],
          "scattermap": [
           {
            "marker": {
             "colorbar": {
              "outlinewidth": 0,
              "ticks": ""
             }
            },
            "type": "scattermap"
           }
          ],
          "scattermapbox": [
           {
            "marker": {
             "colorbar": {
              "outlinewidth": 0,
              "ticks": ""
             }
            },
            "type": "scattermapbox"
           }
          ],
          "scatterpolar": [
           {
            "marker": {
             "colorbar": {
              "outlinewidth": 0,
              "ticks": ""
             }
            },
            "type": "scatterpolar"
           }
          ],
          "scatterpolargl": [
           {
            "marker": {
             "colorbar": {
              "outlinewidth": 0,
              "ticks": ""
             }
            },
            "type": "scatterpolargl"
           }
          ],
          "scatterternary": [
           {
            "marker": {
             "colorbar": {
              "outlinewidth": 0,
              "ticks": ""
             }
            },
            "type": "scatterternary"
           }
          ],
          "surface": [
           {
            "colorbar": {
             "outlinewidth": 0,
             "ticks": ""
            },
            "colorscale": [
             [
              0,
              "#0d0887"
             ],
             [
              0.1111111111111111,
              "#46039f"
             ],
             [
              0.2222222222222222,
              "#7201a8"
             ],
             [
              0.3333333333333333,
              "#9c179e"
             ],
             [
              0.4444444444444444,
              "#bd3786"
             ],
             [
              0.5555555555555556,
              "#d8576b"
             ],
             [
              0.6666666666666666,
              "#ed7953"
             ],
             [
              0.7777777777777778,
              "#fb9f3a"
             ],
             [
              0.8888888888888888,
              "#fdca26"
             ],
             [
              1,
              "#f0f921"
             ]
            ],
            "type": "surface"
           }
          ],
          "table": [
           {
            "cells": {
             "fill": {
              "color": "#EBF0F8"
             },
             "line": {
              "color": "white"
             }
            },
            "header": {
             "fill": {
              "color": "#C8D4E3"
             },
             "line": {
              "color": "white"
             }
            },
            "type": "table"
           }
          ]
         },
         "layout": {
          "annotationdefaults": {
           "arrowcolor": "#2a3f5f",
           "arrowhead": 0,
           "arrowwidth": 1
          },
          "autotypenumbers": "strict",
          "coloraxis": {
           "colorbar": {
            "outlinewidth": 0,
            "ticks": ""
           }
          },
          "colorscale": {
           "diverging": [
            [
             0,
             "#8e0152"
            ],
            [
             0.1,
             "#c51b7d"
            ],
            [
             0.2,
             "#de77ae"
            ],
            [
             0.3,
             "#f1b6da"
            ],
            [
             0.4,
             "#fde0ef"
            ],
            [
             0.5,
             "#f7f7f7"
            ],
            [
             0.6,
             "#e6f5d0"
            ],
            [
             0.7,
             "#b8e186"
            ],
            [
             0.8,
             "#7fbc41"
            ],
            [
             0.9,
             "#4d9221"
            ],
            [
             1,
             "#276419"
            ]
           ],
           "sequential": [
            [
             0,
             "#0d0887"
            ],
            [
             0.1111111111111111,
             "#46039f"
            ],
            [
             0.2222222222222222,
             "#7201a8"
            ],
            [
             0.3333333333333333,
             "#9c179e"
            ],
            [
             0.4444444444444444,
             "#bd3786"
            ],
            [
             0.5555555555555556,
             "#d8576b"
            ],
            [
             0.6666666666666666,
             "#ed7953"
            ],
            [
             0.7777777777777778,
             "#fb9f3a"
            ],
            [
             0.8888888888888888,
             "#fdca26"
            ],
            [
             1,
             "#f0f921"
            ]
           ],
           "sequentialminus": [
            [
             0,
             "#0d0887"
            ],
            [
             0.1111111111111111,
             "#46039f"
            ],
            [
             0.2222222222222222,
             "#7201a8"
            ],
            [
             0.3333333333333333,
             "#9c179e"
            ],
            [
             0.4444444444444444,
             "#bd3786"
            ],
            [
             0.5555555555555556,
             "#d8576b"
            ],
            [
             0.6666666666666666,
             "#ed7953"
            ],
            [
             0.7777777777777778,
             "#fb9f3a"
            ],
            [
             0.8888888888888888,
             "#fdca26"
            ],
            [
             1,
             "#f0f921"
            ]
           ]
          },
          "colorway": [
           "#636efa",
           "#EF553B",
           "#00cc96",
           "#ab63fa",
           "#FFA15A",
           "#19d3f3",
           "#FF6692",
           "#B6E880",
           "#FF97FF",
           "#FECB52"
          ],
          "font": {
           "color": "#2a3f5f"
          },
          "geo": {
           "bgcolor": "white",
           "lakecolor": "white",
           "landcolor": "#E5ECF6",
           "showlakes": true,
           "showland": true,
           "subunitcolor": "white"
          },
          "hoverlabel": {
           "align": "left"
          },
          "hovermode": "closest",
          "mapbox": {
           "style": "light"
          },
          "paper_bgcolor": "white",
          "plot_bgcolor": "#E5ECF6",
          "polar": {
           "angularaxis": {
            "gridcolor": "white",
            "linecolor": "white",
            "ticks": ""
           },
           "bgcolor": "#E5ECF6",
           "radialaxis": {
            "gridcolor": "white",
            "linecolor": "white",
            "ticks": ""
           }
          },
          "scene": {
           "xaxis": {
            "backgroundcolor": "#E5ECF6",
            "gridcolor": "white",
            "gridwidth": 2,
            "linecolor": "white",
            "showbackground": true,
            "ticks": "",
            "zerolinecolor": "white"
           },
           "yaxis": {
            "backgroundcolor": "#E5ECF6",
            "gridcolor": "white",
            "gridwidth": 2,
            "linecolor": "white",
            "showbackground": true,
            "ticks": "",
            "zerolinecolor": "white"
           },
           "zaxis": {
            "backgroundcolor": "#E5ECF6",
            "gridcolor": "white",
            "gridwidth": 2,
            "linecolor": "white",
            "showbackground": true,
            "ticks": "",
            "zerolinecolor": "white"
           }
          },
          "shapedefaults": {
           "line": {
            "color": "#2a3f5f"
           }
          },
          "ternary": {
           "aaxis": {
            "gridcolor": "white",
            "linecolor": "white",
            "ticks": ""
           },
           "baxis": {
            "gridcolor": "white",
            "linecolor": "white",
            "ticks": ""
           },
           "bgcolor": "#E5ECF6",
           "caxis": {
            "gridcolor": "white",
            "linecolor": "white",
            "ticks": ""
           }
          },
          "title": {
           "x": 0.05
          },
          "xaxis": {
           "automargin": true,
           "gridcolor": "white",
           "linecolor": "white",
           "ticks": "",
           "title": {
            "standoff": 15
           },
           "zerolinecolor": "white",
           "zerolinewidth": 2
          },
          "yaxis": {
           "automargin": true,
           "gridcolor": "white",
           "linecolor": "white",
           "ticks": "",
           "title": {
            "standoff": 15
           },
           "zerolinecolor": "white",
           "zerolinewidth": 2
          }
         }
        },
        "title": {
         "text": "- Heatmap de Rendimiento Promedio por Categoría"
        },
        "xaxis": {
         "anchor": "y",
         "domain": [
          0,
          1
         ],
         "title": {
          "text": "Categoría de Modelo"
         }
        },
        "yaxis": {
         "anchor": "x",
         "autorange": "reversed",
         "domain": [
          0,
          1
         ],
         "title": {
          "text": "Métrica"
         }
        }
       }
      }
     },
     "metadata": {},
     "output_type": "display_data"
    }
   ],
   "source": [
    "# Estadísticas por categoría\n",
    "print(\"\\nESTADÍSTICAS DETALLADAS POR CATEGORÍA\")\n",
    "print(\"=\"*80)\n",
    "\n",
    "stats_categoria = df_completo.groupby('Categoria').agg({\n",
    "    'F1_Score': ['count', 'mean', 'std', 'min', 'max'],\n",
    "    'Tiempo_Entrenamiento': ['mean', 'std', 'min', 'max'],\n",
    "    'ROC_AUC': ['mean', 'max'],\n",
    "    'Accuracy': ['mean', 'max']\n",
    "}).round(4)\n",
    "\n",
    "for categoria in stats_categoria.index:\n",
    "    print(f\"\\n- {categoria}:\")\n",
    "    print(f\"   Modelos: {int(stats_categoria.loc[categoria, ('F1_Score', 'count')])}\")\n",
    "    print(f\"   F1 promedio: {stats_categoria.loc[categoria, ('F1_Score', 'mean')]:.4f} ± {stats_categoria.loc[categoria, ('F1_Score', 'std')]:.4f}\")\n",
    "    print(f\"   F1 rango: [{stats_categoria.loc[categoria, ('F1_Score', 'min')]:.4f} - {stats_categoria.loc[categoria, ('F1_Score', 'max')]:.4f}]\")\n",
    "    print(f\"   Tiempo promedio: {stats_categoria.loc[categoria, ('Tiempo_Entrenamiento', 'mean')]:.3f}s ± {stats_categoria.loc[categoria, ('Tiempo_Entrenamiento', 'std')]:.3f}s\")\n",
    "    print(f\"   ROC-AUC promedio: {stats_categoria.loc[categoria, ('ROC_AUC', 'mean')]:.4f}\")\n",
    "    \n",
    "    # Mejor modelo de esta categoría\n",
    "    mejor_categoria = df_completo[df_completo['Categoria'] == categoria].sort_values('F1_Score', ascending=False).iloc[0]\n",
    "    print(f\"   - Mejor: {mejor_categoria['Nombre']} (F1: {mejor_categoria['F1_Score']:.4f})\")\n",
    "\n",
    "# Heatmap de rendimiento por categoría\n",
    "categoria_metrics = df_completo.groupby('Categoria')[['F1_Score', 'Accuracy', 'ROC_AUC', 'Precision', 'Recall']].mean()\n",
    "\n",
    "fig_heatmap = px.imshow(\n",
    "    categoria_metrics.T,\n",
    "    title='- Heatmap de Rendimiento Promedio por Categoría',\n",
    "    color_continuous_scale='RdYlBu_r',\n",
    "    aspect='auto'\n",
    ")\n",
    "\n",
    "fig_heatmap.update_layout(\n",
    "    height=400,\n",
    "    xaxis_title='Categoría de Modelo',\n",
    "    yaxis_title='Métrica'\n",
    ")\n",
    "\n",
    "fig_heatmap.show()"
   ]
  },
  {
   "cell_type": "markdown",
   "metadata": {},
   "source": [
    "## Análisis de Características de Modelos\n",
    "\n",
    "Analizo qué características técnicas influyen en el rendimiento."
   ]
  },
  {
   "cell_type": "code",
   "execution_count": 8,
   "metadata": {},
   "outputs": [
    {
     "name": "stdout",
     "output_type": "stream",
     "text": [
      "\n",
      "ANÁLISIS DE CARACTERÍSTICAS TÉCNICAS\n",
      "============================================================\n",
      "\n",
      "- Impacto del Escalado de Datos:\n",
      "               count    mean     std\n",
      "Usar_Escalado                       \n",
      "False             65  0.5419  0.2482\n",
      "True              18  0.6523  0.0137\n",
      "\n",
      "- Modelos Ensemble (con estimators): 14\n",
      "   Estimators promedio: 59.3\n",
      "   F1 promedio: 0.6622\n",
      "   Correlación estimators-F1: 0.079\n"
     ]
    },
    {
     "data": {
      "application/vnd.plotly.v1+json": {
       "config": {
        "plotlyServerURL": "https://plot.ly"
       },
       "data": [
        {
         "mode": "markers",
         "name": "Ensemble",
         "text": [
          "Voting Hard (RF+DT+LR+NB)",
          "Voting Soft (RF+DT+LR+NB)",
          "Voting Trees (RF+XGB+LGB+ET)",
          "Voting Linear (LR+SGD+NB)",
          "Bagging Decision Trees (50)",
          "Bagging Logistic Regression (30)",
          "Bagging KNN (20)",
          "Bagging LinearSVM (15)",
          "ExtraTrees Basic (100, depth=10)",
          "ExtraTrees More (200, depth=8)",
          "ExtraTrees Bootstrap (100, OOB)",
          "AdaBoost (100, depth=3)",
          "Gradient Boosting (100, depth=4)",
          "Random Forest (100, depth=10)"
         ],
         "type": "scatter",
         "x": {
          "bdata": "BAAEAAQAAwAyAB4AFAAPAGQAyABkAGQAZABkAA==",
          "dtype": "i2"
         },
         "xaxis": "x",
         "y": {
          "bdata": "nU7ZQ6LP5D9Da89IH1vlP8EA0EDgxeU/sZZMfV0c5T8T+qxmNtvkP9522VHdA+U/wxXZNA/u5D86eAGbF/7kP85CWnyqD+U/vnO5Yyn+5D+GACv98TPlP1dsBt0xT+U/3EVa5z7g5T8OdXv4bWLlPw==",
          "dtype": "f8"
         },
         "yaxis": "y"
        },
        {
         "mode": "markers",
         "name": "Lineales",
         "text": [
          "Logistic Regression Basic (C=1.0)",
          "Logistic Regression Low Reg (C=10.0)",
          "Logistic Regression High Reg (C=0.1)",
          "Logistic Regression L1 (C=1.0)",
          "Logistic Regression ElasticNet (l1_ratio=0.5)",
          "Logistic Regression LBFGS",
          "Ridge Classifier Basic (alpha=1.0)",
          "Ridge Classifier Low Reg (alpha=0.1)",
          "Ridge Classifier High Reg (alpha=10.0)",
          "Ridge Classifier CV (mejor alpha)",
          "SGD Classifier Log Loss",
          "SGD Classifier Hinge Loss",
          "SGD Classifier L1 Penalty",
          "SGD Classifier ElasticNet",
          "SGD Classifier Adaptive LR",
          "Passive Aggressive Basic (C=1.0)",
          "Passive Aggressive High Reg (C=0.1)",
          "Passive Aggressive Squared Hinge",
          "Perceptron Basic",
          "Perceptron L2 Penalty",
          "Perceptron L1 Penalty"
         ],
         "type": "scatter",
         "x": {
          "bdata": "OTk5OTk5OTk5OTk5Li85OTk5OTkN",
          "dtype": "i1"
         },
         "xaxis": "x3",
         "y": {
          "bdata": "u0RDl7kD5T9VlFdssQTlP/VUeWRFBuU//RsnOkMG5T8CFfkiZALlPyP+LRUYBeU/1WW/Nqb55D/3Dig21/nkP9Vlvzam+eQ/vMgGSG/85D/4aDz5e7PkP7qIXdz5kOQ//Ie/iC3H5D/mvPuFHM7kPyCjgt4gBeU/eS42w3oM4j8giXaDEkfiPzaqZWHnGuI/i82PzEVs4z+FEmmsW8riPyRHYwHZdOI/",
          "dtype": "f8"
         },
         "yaxis": "y3"
        },
        {
         "mode": "markers",
         "name": "Escalado: True",
         "text": [
          "Voting Hard (RF+DT+LR+NB)",
          "Voting Soft (RF+DT+LR+NB)",
          "Voting Linear (LR+SGD+NB)",
          "Bagging Logistic Regression (30)",
          "Bagging KNN (20)",
          "Bagging LinearSVM (15)",
          "KNN k=5 Uniform",
          "KNN k=3 Distance Weight",
          "KNN k=10 Uniform",
          "KNN k=5 Manhattan Distance",
          "KNN k=7 Distance KDTree",
          "KNN k=15 Distance",
          "Naive Bayes Multinomial",
          "Naive Bayes Complement",
          "Linear Discriminant Analysis",
          "LDA with Shrinkage",
          "Quadratic Discriminant Analysis",
          "Gaussian Process RBF"
         ],
         "type": "scatter",
         "x": {
          "bdata": "AAAAzPIBMkAAAADA9ko0QAAAAGDutwZAAAAA4O40LEAAAADgo+ANQAAAANAqbjJAAAAAAJCTlj8AAAAA0LmlPwAAAADQDKE/AAAAACBqrz8AAACAgLoLQAAAAABIFaM/AAAAAFC4lj8AAAAAYLqVPwAAAIDmvvI/AAAAAHgF0z8AAAAAsgnhPwAAAPiXQDdA",
          "dtype": "f8"
         },
         "xaxis": "x4",
         "y": {
          "bdata": "nU7ZQ6LP5D9Da89IH1vlP7GWTH1dHOU/3nbZUd0D5T/DFdk0D+7kPzp4AZsX/uQ/0aOV4/T25D/SU5OIybfkP3zFV3zFV+Q/6q6VB4lU5T/y5ZgAmBzlP+oUaVuGS+U/6oViyu+A5D9C/V/gUqvjP/cOKDbX+eQ/u8oy/+L95D9Vxat031HlP2OGvOJnQuQ/",
          "dtype": "f8"
         },
         "yaxis": "y4"
        },
        {
         "mode": "markers",
         "name": "Escalado: False",
         "text": [
          "XGBoost Conservative",
          "XGBoost Aggressive",
          "XGBoost Regularized",
          "LightGBM Fast",
          "LightGBM Balanced",
          "CatBoost Simple",
          "CatBoost Optimized",
          "AdaBoost Classic",
          "AdaBoost Conservative",
          "Gradient Boosting Classic",
          "Hist Gradient Boosting",
          "NN Tiny (50)",
          "NN Small (100)",
          "NN Small Tanh (100)",
          "NN Two Classic (100,50)",
          "NN Two Symmetric (80,80)",
          "NN Bottleneck (120,30)",
          "NN Deep Decreasing (150,100,50)",
          "NN Deep Uniform (100,100,100)",
          "NN Diamond (80,120,80)",
          "NN SGD Momentum (100,50)",
          "NN High Regularization (100,50)",
          "NN Low Regularization (100,50)",
          "LinearSVC Basic (C=1.0)",
          "LinearSVC Low Reg (C=10.0)",
          "LinearSVC High Reg (C=0.1)",
          "LinearSVC L1 Penalty (C=1.0)",
          "LinearSVC Balanced (C=1.0)",
          "Logistic Regression Basic (C=1.0)",
          "Logistic Regression Low Reg (C=10.0)",
          "Logistic Regression High Reg (C=0.1)",
          "Logistic Regression L1 (C=1.0)",
          "Logistic Regression ElasticNet (l1_ratio=0.5)",
          "Logistic Regression LBFGS",
          "Ridge Classifier Basic (alpha=1.0)",
          "Ridge Classifier Low Reg (alpha=0.1)",
          "Ridge Classifier High Reg (alpha=10.0)",
          "Ridge Classifier CV (mejor alpha)",
          "SGD Classifier Log Loss",
          "SGD Classifier Hinge Loss",
          "SGD Classifier L1 Penalty",
          "SGD Classifier ElasticNet",
          "SGD Classifier Adaptive LR",
          "Passive Aggressive Basic (C=1.0)",
          "Passive Aggressive High Reg (C=0.1)",
          "Passive Aggressive Squared Hinge",
          "Perceptron Basic",
          "Perceptron L2 Penalty",
          "Perceptron L1 Penalty",
          "Voting Trees (RF+XGB+LGB+ET)",
          "Bagging Decision Trees (50)",
          "ExtraTrees Basic (100, depth=10)",
          "ExtraTrees More (200, depth=8)",
          "ExtraTrees Bootstrap (100, OOB)",
          "AdaBoost (100, depth=3)",
          "Gradient Boosting (100, depth=4)",
          "Random Forest (100, depth=10)",
          "Naive Bayes Gaussian",
          "Naive Bayes Gaussian Low Smooth",
          "Naive Bayes Bernoulli",
          "Decision Tree Basic (depth=10)",
          "Decision Tree Deep (depth=20)",
          "Decision Tree Entropy (depth=12)",
          "Decision Tree Balanced (depth=15)",
          "Extra Tree Single (depth=12)"
         ],
         "type": "scatter",
         "x": {
          "bdata": "AAAAgCpP9z8AAACApL//PwAAAMA4ovU/AAAAgE0i9T8AAAAApyb5PwAAAIDmWhNAAAAAgP01IUAAAAAAAAAAAAAAAAAAAAAAAAAAVmgdVUAAAABgsZ0RQAAAAFhMSCxAAAAAiKNeKEAAAAAobBEvQAAAAJzK9TJAAAAAHPNkNUAAAAD4J2M2QAAAAHubZVBAAAAAXs+qR0AAAAC6EyFEQAAAgLxOOmBAAAAA9r6EQEAAAACg8UUxQAAAAHB3RRhAAAAAkNEbF0AAAABgDLsUQAAAAFrGNE5AAAAA0JV4FUAAAADAtGoIQAAAAODViAdAAAAAAKO2BkAAAACKZKdDQAAAAG1CullAAAAAAKrY9j8AAAAA+srfPwAAAABwN8A/AAAAAIg/wT8AAACADIv6PwAAAIDGufE/AAAAQI5z+T8AAADAGB37PwAAAABqk/s/AAAAAHS69z8AAAAAzW/aPwAAAADCIdM/AAAAACdC1T8AAAAABRfYPwAAAABQuNQ/AAAAALaC5T8AAACAVws1QAAAABTZoTFAAAAAYELUAkAAAAAAyDILQAAAAHDTLxFAAAAAik2MT0AAAAC67D9NQAAAAGD2Qw9AAAAAAMycxD8AAAAAAC62PwAAAADEeLo/AAAAAOmg/j8AAAAAQKgIQAAAAEDbsgJAAAAAYGopBkAAAAAAGEi1Pw==",
          "dtype": "f8"
         },
         "xaxis": "x4",
         "y": {
          "bdata": "AAAAAAAAAAAAAAAAAAAAAAAAAAAAAAAAAAAAAAAAAAAAAAAAAAAAAAAAAAAAAAAAAAAAAAAAAAAAAAAAAAAAAAAAAAAAAAAAAAAAAAAAAAAAAAAAAAAAAB38Ulap8uU/PKqWp8AJ5j8iL5LTPqXlP/MCy47hv+U/XPCBFVFN5j/XBymtINXlP1+xS9WQG+Y/+GtTycIh5j89sEGz8frlP2sDmsAx2OU/1CtV2N135j/ZYALry7LlP9h3sHNMA+U/NjTiubAD5T810h8JGwLlP1UXQPdHA+U/HpCsc+UB5T+7REOXuQPlP1WUV2yxBOU/9VR5ZEUG5T/9Gyc6QwblPwIV+SJkAuU/I/4tFRgF5T/VZb82pvnkP/cOKDbX+eQ/1WW/Nqb55D+8yAZIb/zkP/hoPPl7s+Q/uohd3PmQ5D/8h7+ILcfkP+a8+4UczuQ/IKOC3iAF5T95LjbDegziPyCJdoMSR+I/NqplYeca4j+LzY/MRWzjP4USaaxbyuI/JEdjAdl04j/BANBA4MXlPxP6rGY22+Q/zkJafKoP5T++c7ljKf7kP4YAK/3xM+U/V2wG3TFP5T/cRVrnPuDlPw51e/htYuU/JiQB2sP/5D/mup88YVHlP7o76e6ku+M/1m8ea8Jo5D+bcAlSYbXjPy/RKsF0NOQ/JB1ud/Ah5D87H9pKw2LkPw==",
          "dtype": "f8"
         },
         "yaxis": "y4"
        }
       ],
       "layout": {
        "annotations": [
         {
          "font": {
           "size": 16
          },
          "showarrow": false,
          "text": "N_Estimators vs F1-Score",
          "x": 0.225,
          "xanchor": "center",
          "xref": "paper",
          "y": 1,
          "yanchor": "bottom",
          "yref": "paper"
         },
         {
          "font": {
           "size": 16
          },
          "showarrow": false,
          "text": "Support Vectors vs F1-Score",
          "x": 0.775,
          "xanchor": "center",
          "xref": "paper",
          "y": 1,
          "yanchor": "bottom",
          "yref": "paper"
         },
         {
          "font": {
           "size": 16
          },
          "showarrow": false,
          "text": "Features Activos vs F1-Score",
          "x": 0.225,
          "xanchor": "center",
          "xref": "paper",
          "y": 0.375,
          "yanchor": "bottom",
          "yref": "paper"
         },
         {
          "font": {
           "size": 16
          },
          "showarrow": false,
          "text": "Tiempo vs F1-Score por Escalado",
          "x": 0.775,
          "xanchor": "center",
          "xref": "paper",
          "y": 0.375,
          "yanchor": "bottom",
          "yref": "paper"
         }
        ],
        "height": 800,
        "showlegend": true,
        "template": {
         "data": {
          "bar": [
           {
            "error_x": {
             "color": "#2a3f5f"
            },
            "error_y": {
             "color": "#2a3f5f"
            },
            "marker": {
             "line": {
              "color": "#E5ECF6",
              "width": 0.5
             },
             "pattern": {
              "fillmode": "overlay",
              "size": 10,
              "solidity": 0.2
             }
            },
            "type": "bar"
           }
          ],
          "barpolar": [
           {
            "marker": {
             "line": {
              "color": "#E5ECF6",
              "width": 0.5
             },
             "pattern": {
              "fillmode": "overlay",
              "size": 10,
              "solidity": 0.2
             }
            },
            "type": "barpolar"
           }
          ],
          "carpet": [
           {
            "aaxis": {
             "endlinecolor": "#2a3f5f",
             "gridcolor": "white",
             "linecolor": "white",
             "minorgridcolor": "white",
             "startlinecolor": "#2a3f5f"
            },
            "baxis": {
             "endlinecolor": "#2a3f5f",
             "gridcolor": "white",
             "linecolor": "white",
             "minorgridcolor": "white",
             "startlinecolor": "#2a3f5f"
            },
            "type": "carpet"
           }
          ],
          "choropleth": [
           {
            "colorbar": {
             "outlinewidth": 0,
             "ticks": ""
            },
            "type": "choropleth"
           }
          ],
          "contour": [
           {
            "colorbar": {
             "outlinewidth": 0,
             "ticks": ""
            },
            "colorscale": [
             [
              0,
              "#0d0887"
             ],
             [
              0.1111111111111111,
              "#46039f"
             ],
             [
              0.2222222222222222,
              "#7201a8"
             ],
             [
              0.3333333333333333,
              "#9c179e"
             ],
             [
              0.4444444444444444,
              "#bd3786"
             ],
             [
              0.5555555555555556,
              "#d8576b"
             ],
             [
              0.6666666666666666,
              "#ed7953"
             ],
             [
              0.7777777777777778,
              "#fb9f3a"
             ],
             [
              0.8888888888888888,
              "#fdca26"
             ],
             [
              1,
              "#f0f921"
             ]
            ],
            "type": "contour"
           }
          ],
          "contourcarpet": [
           {
            "colorbar": {
             "outlinewidth": 0,
             "ticks": ""
            },
            "type": "contourcarpet"
           }
          ],
          "heatmap": [
           {
            "colorbar": {
             "outlinewidth": 0,
             "ticks": ""
            },
            "colorscale": [
             [
              0,
              "#0d0887"
             ],
             [
              0.1111111111111111,
              "#46039f"
             ],
             [
              0.2222222222222222,
              "#7201a8"
             ],
             [
              0.3333333333333333,
              "#9c179e"
             ],
             [
              0.4444444444444444,
              "#bd3786"
             ],
             [
              0.5555555555555556,
              "#d8576b"
             ],
             [
              0.6666666666666666,
              "#ed7953"
             ],
             [
              0.7777777777777778,
              "#fb9f3a"
             ],
             [
              0.8888888888888888,
              "#fdca26"
             ],
             [
              1,
              "#f0f921"
             ]
            ],
            "type": "heatmap"
           }
          ],
          "histogram": [
           {
            "marker": {
             "pattern": {
              "fillmode": "overlay",
              "size": 10,
              "solidity": 0.2
             }
            },
            "type": "histogram"
           }
          ],
          "histogram2d": [
           {
            "colorbar": {
             "outlinewidth": 0,
             "ticks": ""
            },
            "colorscale": [
             [
              0,
              "#0d0887"
             ],
             [
              0.1111111111111111,
              "#46039f"
             ],
             [
              0.2222222222222222,
              "#7201a8"
             ],
             [
              0.3333333333333333,
              "#9c179e"
             ],
             [
              0.4444444444444444,
              "#bd3786"
             ],
             [
              0.5555555555555556,
              "#d8576b"
             ],
             [
              0.6666666666666666,
              "#ed7953"
             ],
             [
              0.7777777777777778,
              "#fb9f3a"
             ],
             [
              0.8888888888888888,
              "#fdca26"
             ],
             [
              1,
              "#f0f921"
             ]
            ],
            "type": "histogram2d"
           }
          ],
          "histogram2dcontour": [
           {
            "colorbar": {
             "outlinewidth": 0,
             "ticks": ""
            },
            "colorscale": [
             [
              0,
              "#0d0887"
             ],
             [
              0.1111111111111111,
              "#46039f"
             ],
             [
              0.2222222222222222,
              "#7201a8"
             ],
             [
              0.3333333333333333,
              "#9c179e"
             ],
             [
              0.4444444444444444,
              "#bd3786"
             ],
             [
              0.5555555555555556,
              "#d8576b"
             ],
             [
              0.6666666666666666,
              "#ed7953"
             ],
             [
              0.7777777777777778,
              "#fb9f3a"
             ],
             [
              0.8888888888888888,
              "#fdca26"
             ],
             [
              1,
              "#f0f921"
             ]
            ],
            "type": "histogram2dcontour"
           }
          ],
          "mesh3d": [
           {
            "colorbar": {
             "outlinewidth": 0,
             "ticks": ""
            },
            "type": "mesh3d"
           }
          ],
          "parcoords": [
           {
            "line": {
             "colorbar": {
              "outlinewidth": 0,
              "ticks": ""
             }
            },
            "type": "parcoords"
           }
          ],
          "pie": [
           {
            "automargin": true,
            "type": "pie"
           }
          ],
          "scatter": [
           {
            "fillpattern": {
             "fillmode": "overlay",
             "size": 10,
             "solidity": 0.2
            },
            "type": "scatter"
           }
          ],
          "scatter3d": [
           {
            "line": {
             "colorbar": {
              "outlinewidth": 0,
              "ticks": ""
             }
            },
            "marker": {
             "colorbar": {
              "outlinewidth": 0,
              "ticks": ""
             }
            },
            "type": "scatter3d"
           }
          ],
          "scattercarpet": [
           {
            "marker": {
             "colorbar": {
              "outlinewidth": 0,
              "ticks": ""
             }
            },
            "type": "scattercarpet"
           }
          ],
          "scattergeo": [
           {
            "marker": {
             "colorbar": {
              "outlinewidth": 0,
              "ticks": ""
             }
            },
            "type": "scattergeo"
           }
          ],
          "scattergl": [
           {
            "marker": {
             "colorbar": {
              "outlinewidth": 0,
              "ticks": ""
             }
            },
            "type": "scattergl"
           }
          ],
          "scattermap": [
           {
            "marker": {
             "colorbar": {
              "outlinewidth": 0,
              "ticks": ""
             }
            },
            "type": "scattermap"
           }
          ],
          "scattermapbox": [
           {
            "marker": {
             "colorbar": {
              "outlinewidth": 0,
              "ticks": ""
             }
            },
            "type": "scattermapbox"
           }
          ],
          "scatterpolar": [
           {
            "marker": {
             "colorbar": {
              "outlinewidth": 0,
              "ticks": ""
             }
            },
            "type": "scatterpolar"
           }
          ],
          "scatterpolargl": [
           {
            "marker": {
             "colorbar": {
              "outlinewidth": 0,
              "ticks": ""
             }
            },
            "type": "scatterpolargl"
           }
          ],
          "scatterternary": [
           {
            "marker": {
             "colorbar": {
              "outlinewidth": 0,
              "ticks": ""
             }
            },
            "type": "scatterternary"
           }
          ],
          "surface": [
           {
            "colorbar": {
             "outlinewidth": 0,
             "ticks": ""
            },
            "colorscale": [
             [
              0,
              "#0d0887"
             ],
             [
              0.1111111111111111,
              "#46039f"
             ],
             [
              0.2222222222222222,
              "#7201a8"
             ],
             [
              0.3333333333333333,
              "#9c179e"
             ],
             [
              0.4444444444444444,
              "#bd3786"
             ],
             [
              0.5555555555555556,
              "#d8576b"
             ],
             [
              0.6666666666666666,
              "#ed7953"
             ],
             [
              0.7777777777777778,
              "#fb9f3a"
             ],
             [
              0.8888888888888888,
              "#fdca26"
             ],
             [
              1,
              "#f0f921"
             ]
            ],
            "type": "surface"
           }
          ],
          "table": [
           {
            "cells": {
             "fill": {
              "color": "#EBF0F8"
             },
             "line": {
              "color": "white"
             }
            },
            "header": {
             "fill": {
              "color": "#C8D4E3"
             },
             "line": {
              "color": "white"
             }
            },
            "type": "table"
           }
          ]
         },
         "layout": {
          "annotationdefaults": {
           "arrowcolor": "#2a3f5f",
           "arrowhead": 0,
           "arrowwidth": 1
          },
          "autotypenumbers": "strict",
          "coloraxis": {
           "colorbar": {
            "outlinewidth": 0,
            "ticks": ""
           }
          },
          "colorscale": {
           "diverging": [
            [
             0,
             "#8e0152"
            ],
            [
             0.1,
             "#c51b7d"
            ],
            [
             0.2,
             "#de77ae"
            ],
            [
             0.3,
             "#f1b6da"
            ],
            [
             0.4,
             "#fde0ef"
            ],
            [
             0.5,
             "#f7f7f7"
            ],
            [
             0.6,
             "#e6f5d0"
            ],
            [
             0.7,
             "#b8e186"
            ],
            [
             0.8,
             "#7fbc41"
            ],
            [
             0.9,
             "#4d9221"
            ],
            [
             1,
             "#276419"
            ]
           ],
           "sequential": [
            [
             0,
             "#0d0887"
            ],
            [
             0.1111111111111111,
             "#46039f"
            ],
            [
             0.2222222222222222,
             "#7201a8"
            ],
            [
             0.3333333333333333,
             "#9c179e"
            ],
            [
             0.4444444444444444,
             "#bd3786"
            ],
            [
             0.5555555555555556,
             "#d8576b"
            ],
            [
             0.6666666666666666,
             "#ed7953"
            ],
            [
             0.7777777777777778,
             "#fb9f3a"
            ],
            [
             0.8888888888888888,
             "#fdca26"
            ],
            [
             1,
             "#f0f921"
            ]
           ],
           "sequentialminus": [
            [
             0,
             "#0d0887"
            ],
            [
             0.1111111111111111,
             "#46039f"
            ],
            [
             0.2222222222222222,
             "#7201a8"
            ],
            [
             0.3333333333333333,
             "#9c179e"
            ],
            [
             0.4444444444444444,
             "#bd3786"
            ],
            [
             0.5555555555555556,
             "#d8576b"
            ],
            [
             0.6666666666666666,
             "#ed7953"
            ],
            [
             0.7777777777777778,
             "#fb9f3a"
            ],
            [
             0.8888888888888888,
             "#fdca26"
            ],
            [
             1,
             "#f0f921"
            ]
           ]
          },
          "colorway": [
           "#636efa",
           "#EF553B",
           "#00cc96",
           "#ab63fa",
           "#FFA15A",
           "#19d3f3",
           "#FF6692",
           "#B6E880",
           "#FF97FF",
           "#FECB52"
          ],
          "font": {
           "color": "#2a3f5f"
          },
          "geo": {
           "bgcolor": "white",
           "lakecolor": "white",
           "landcolor": "#E5ECF6",
           "showlakes": true,
           "showland": true,
           "subunitcolor": "white"
          },
          "hoverlabel": {
           "align": "left"
          },
          "hovermode": "closest",
          "mapbox": {
           "style": "light"
          },
          "paper_bgcolor": "white",
          "plot_bgcolor": "#E5ECF6",
          "polar": {
           "angularaxis": {
            "gridcolor": "white",
            "linecolor": "white",
            "ticks": ""
           },
           "bgcolor": "#E5ECF6",
           "radialaxis": {
            "gridcolor": "white",
            "linecolor": "white",
            "ticks": ""
           }
          },
          "scene": {
           "xaxis": {
            "backgroundcolor": "#E5ECF6",
            "gridcolor": "white",
            "gridwidth": 2,
            "linecolor": "white",
            "showbackground": true,
            "ticks": "",
            "zerolinecolor": "white"
           },
           "yaxis": {
            "backgroundcolor": "#E5ECF6",
            "gridcolor": "white",
            "gridwidth": 2,
            "linecolor": "white",
            "showbackground": true,
            "ticks": "",
            "zerolinecolor": "white"
           },
           "zaxis": {
            "backgroundcolor": "#E5ECF6",
            "gridcolor": "white",
            "gridwidth": 2,
            "linecolor": "white",
            "showbackground": true,
            "ticks": "",
            "zerolinecolor": "white"
           }
          },
          "shapedefaults": {
           "line": {
            "color": "#2a3f5f"
           }
          },
          "ternary": {
           "aaxis": {
            "gridcolor": "white",
            "linecolor": "white",
            "ticks": ""
           },
           "baxis": {
            "gridcolor": "white",
            "linecolor": "white",
            "ticks": ""
           },
           "bgcolor": "#E5ECF6",
           "caxis": {
            "gridcolor": "white",
            "linecolor": "white",
            "ticks": ""
           }
          },
          "title": {
           "x": 0.05
          },
          "xaxis": {
           "automargin": true,
           "gridcolor": "white",
           "linecolor": "white",
           "ticks": "",
           "title": {
            "standoff": 15
           },
           "zerolinecolor": "white",
           "zerolinewidth": 2
          },
          "yaxis": {
           "automargin": true,
           "gridcolor": "white",
           "linecolor": "white",
           "ticks": "",
           "title": {
            "standoff": 15
           },
           "zerolinecolor": "white",
           "zerolinewidth": 2
          }
         }
        },
        "title": {
         "text": "🔬 Análisis de Complejidad vs Rendimiento"
        },
        "xaxis": {
         "anchor": "y",
         "domain": [
          0,
          0.45
         ]
        },
        "xaxis2": {
         "anchor": "y2",
         "domain": [
          0.55,
          1
         ]
        },
        "xaxis3": {
         "anchor": "y3",
         "domain": [
          0,
          0.45
         ]
        },
        "xaxis4": {
         "anchor": "y4",
         "domain": [
          0.55,
          1
         ]
        },
        "yaxis": {
         "anchor": "x",
         "domain": [
          0.625,
          1
         ]
        },
        "yaxis2": {
         "anchor": "x2",
         "domain": [
          0.625,
          1
         ]
        },
        "yaxis3": {
         "anchor": "x3",
         "domain": [
          0,
          0.375
         ]
        },
        "yaxis4": {
         "anchor": "x4",
         "domain": [
          0,
          0.375
         ]
        }
       }
      }
     },
     "metadata": {},
     "output_type": "display_data"
    }
   ],
   "source": [
    "# Análisis de escalado\n",
    "print(\"\\nANÁLISIS DE CARACTERÍSTICAS TÉCNICAS\")\n",
    "print(\"=\"*60)\n",
    "\n",
    "# Impacto del escalado\n",
    "escalado_stats = df_completo.groupby('Usar_Escalado')['F1_Score'].agg(['count', 'mean', 'std']).round(4)\n",
    "print(\"\\n- Impacto del Escalado de Datos:\")\n",
    "print(escalado_stats)\n",
    "\n",
    "# Modelos con diferentes números de estimators\n",
    "modelos_ensemble = df_completo[df_completo['N_Estimators'] > 0]\n",
    "if len(modelos_ensemble) > 0:\n",
    "    print(f\"\\n- Modelos Ensemble (con estimators): {len(modelos_ensemble)}\")\n",
    "    print(f\"   Estimators promedio: {modelos_ensemble['N_Estimators'].mean():.1f}\")\n",
    "    print(f\"   F1 promedio: {modelos_ensemble['F1_Score'].mean():.4f}\")\n",
    "    \n",
    "    # Correlación entre n_estimators y rendimiento\n",
    "    corr_estimators = modelos_ensemble['N_Estimators'].corr(modelos_ensemble['F1_Score'])\n",
    "    print(f\"   Correlación estimators-F1: {corr_estimators:.3f}\")\n",
    "\n",
    "# Análisis de complejidad vs rendimiento\n",
    "fig_complexity = make_subplots(\n",
    "    rows=2, cols=2,\n",
    "    subplot_titles=[\n",
    "        'N_Estimators vs F1-Score',\n",
    "        'Support Vectors vs F1-Score', \n",
    "        'Features Activos vs F1-Score',\n",
    "        'Tiempo vs F1-Score por Escalado'\n",
    "    ]\n",
    ")\n",
    "\n",
    "# N_Estimators vs F1\n",
    "ensemble_data = df_completo[df_completo['N_Estimators'] > 0]\n",
    "if len(ensemble_data) > 0:\n",
    "    fig_complexity.add_trace(\n",
    "        go.Scatter(\n",
    "            x=ensemble_data['N_Estimators'],\n",
    "            y=ensemble_data['F1_Score'],\n",
    "            mode='markers',\n",
    "            text=ensemble_data['Nombre'],\n",
    "            name='Ensemble'\n",
    "        ),\n",
    "        row=1, col=1\n",
    "    )\n",
    "\n",
    "# Support Vectors vs F1\n",
    "svm_data = df_completo[df_completo['Support_Vectors'] > 0]\n",
    "if len(svm_data) > 0:\n",
    "    fig_complexity.add_trace(\n",
    "        go.Scatter(\n",
    "            x=svm_data['Support_Vectors'],\n",
    "            y=svm_data['F1_Score'],\n",
    "            mode='markers',\n",
    "            text=svm_data['Nombre'],\n",
    "            name='SVM'\n",
    "        ),\n",
    "        row=1, col=2\n",
    "    )\n",
    "\n",
    "# Features Activos vs F1\n",
    "linear_data = df_completo[df_completo['Features_Activos'] > 0]\n",
    "if len(linear_data) > 0:\n",
    "    fig_complexity.add_trace(\n",
    "        go.Scatter(\n",
    "            x=linear_data['Features_Activos'],\n",
    "            y=linear_data['F1_Score'],\n",
    "            mode='markers',\n",
    "            text=linear_data['Nombre'],\n",
    "            name='Lineales'\n",
    "        ),\n",
    "        row=2, col=1\n",
    "    )\n",
    "\n",
    "# Tiempo por escalado\n",
    "for escalado in [True, False]:\n",
    "    subset = df_completo[df_completo['Usar_Escalado'] == escalado]\n",
    "    fig_complexity.add_trace(\n",
    "        go.Scatter(\n",
    "            x=subset['Tiempo_Entrenamiento'],\n",
    "            y=subset['F1_Score'],\n",
    "            mode='markers',\n",
    "            name=f'Escalado: {escalado}',\n",
    "            text=subset['Nombre']\n",
    "        ),\n",
    "        row=2, col=2\n",
    "    )\n",
    "\n",
    "fig_complexity.update_layout(\n",
    "    height=800,\n",
    "    title_text='🔬 Análisis de Complejidad vs Rendimiento',\n",
    "    showlegend=True\n",
    ")\n",
    "\n",
    "fig_complexity.show()"
   ]
  },
  {
   "cell_type": "markdown",
   "metadata": {},
   "source": [
    "## Análisis de Parámetros e Importancian (IGNORAR)\n",
    "\n",
    "Esta sección incluye código reutilizable para analizar qué parámetros prioriza cada modelo por si quiero luego usarlo en los otros notebooks de cada uno\n"
   ]
  },
  {
   "cell_type": "code",
   "execution_count": 9,
   "metadata": {},
   "outputs": [],
   "source": [
    "def analizar_importancia_modelo(modelo_entrenado, X_test, y_test, nombre_modelo):\n",
    "    \"\"\"\n",
    "    Analiza qué características/parámetros prioriza un modelo específico.\n",
    "    Funciona con la mayoría de modelos de sklearn.\n",
    "    \"\"\"\n",
    "    import numpy as np\n",
    "    import pandas as pd\n",
    "    import plotly.express as px\n",
    "    import plotly.graph_objects as go\n",
    "    from plotly.subplots import make_subplots\n",
    "    \n",
    "    print(f\"\\n- ANÁLISIS DE IMPORTANCIA - {nombre_modelo}\")\n",
    "    print(\"-\" * 60)\n",
    "    \n",
    "    info_modelo = {\n",
    "        'nombre': nombre_modelo,\n",
    "        'tipo': type(modelo_entrenado).__name__,\n",
    "        'parametros': modelo_entrenado.get_params()\n",
    "    }\n",
    "    \n",
    "    # 1. Feature Importance (si está disponible)\n",
    "    if hasattr(modelo_entrenado, 'feature_importances_'):\n",
    "        importances = modelo_entrenado.feature_importances_\n",
    "        feature_names = [f'Feature_{i}' for i in range(len(importances))]\n",
    "        \n",
    "        # Top 15 features más importantes\n",
    "        top_indices = np.argsort(importances)[-15:]\n",
    "        top_importances = importances[top_indices]\n",
    "        top_names = [feature_names[i] for i in top_indices]\n",
    "        \n",
    "        print(f\" Feature Importances disponibles\")\n",
    "        print(f\"  Top 5 features: {top_names[-5:]}\")\n",
    "        print(f\"  Importancias: {top_importances[-5:]}\")\n",
    "        print(f\"  Importancia media: {np.mean(top_importances):.4f}\")\n",
    "        # Gráfica de importancias\n",
    "        fig_imp = px.bar(\n",
    "            x=top_importances,\n",
    "            y=top_names,\n",
    "            orientation='h',\n",
    "            title=f'Top 15 Feature Importances - {nombre_modelo}'\n",
    "        )\n",
    "        fig_imp.update_layout(yaxis={'categoryorder': 'total ascending'})\n",
    "        fig_imp.show()\n",
    "        \n",
    "        info_modelo['feature_importance_disponible'] = True\n",
    "        info_modelo['top_features'] = top_names[-5:]\n",
    "        \n",
    "    # 2. Coeficientes (modelos lineales)\n",
    "    elif hasattr(modelo_entrenado, 'coef_'):\n",
    "        coefs = modelo_entrenado.coef_[0] if len(modelo_entrenado.coef_.shape) > 1 else modelo_entrenado.coef_\n",
    "        feature_names = [f'Feature_{i}' for i in range(len(coefs))]\n",
    "        \n",
    "        # Top coeficientes por magnitud absoluta\n",
    "        top_indices = np.argsort(np.abs(coefs))[-15:]\n",
    "        top_coefs = coefs[top_indices]\n",
    "        top_names = [feature_names[i] for i in top_indices]\n",
    "        \n",
    "        print(f\"Coeficientes disponibles\")\n",
    "        print(f\"  Top 5 coef (absoluto): {top_names[-5:]}\")\n",
    "        print(f\"  Valores: {top_coefs[-5:]}\")\n",
    "        \n",
    "        # Gráfica de coeficientes\n",
    "        fig_coef = px.bar(\n",
    "            x=top_coefs,\n",
    "            y=top_names,\n",
    "            orientation='h',\n",
    "            title=f'Top 15 Coeficientes - {nombre_modelo}',\n",
    "            color=top_coefs,\n",
    "            color_continuous_scale='RdBu_r'\n",
    "        )\n",
    "        fig_coef.update_layout(yaxis={'categoryorder': 'total ascending'})\n",
    "        fig_coef.show()\n",
    "        \n",
    "        info_modelo['coeficientes_disponibles'] = True\n",
    "        info_modelo['coef_max_abs'] = np.max(np.abs(coefs))\n",
    "        info_modelo['coef_mean_abs'] = np.mean(np.abs(coefs))\n",
    "        \n",
    "    # 3. Información específica del modelo\n",
    "    if hasattr(modelo_entrenado, 'n_estimators'):\n",
    "        print(f\"  N_estimators: {modelo_entrenado.n_estimators}\")\n",
    "        info_modelo['n_estimators'] = modelo_entrenado.n_estimators\n",
    "        \n",
    "    if hasattr(modelo_entrenado, 'max_depth'):\n",
    "        print(f\"  Max_depth: {modelo_entrenado.max_depth}\")\n",
    "        info_modelo['max_depth'] = modelo_entrenado.max_depth\n",
    "        \n",
    "    if hasattr(modelo_entrenado, 'C'):\n",
    "        print(f\"  Parámetro C: {modelo_entrenado.C}\")\n",
    "        info_modelo['C'] = modelo_entrenado.C\n",
    "        \n",
    "    if hasattr(modelo_entrenado, 'alpha'):\n",
    "        print(f\"  Parámetro alpha: {modelo_entrenado.alpha}\")\n",
    "        info_modelo['alpha'] = modelo_entrenado.alpha\n",
    "        \n",
    "    if hasattr(modelo_entrenado, 'learning_rate'):\n",
    "        print(f\"  Learning rate: {modelo_entrenado.learning_rate}\")\n",
    "        info_modelo['learning_rate'] = modelo_entrenado.learning_rate\n",
    "        \n",
    "    if hasattr(modelo_entrenado, 'n_neighbors'):\n",
    "        print(f\"  N_neighbors: {modelo_entrenado.n_neighbors}\")\n",
    "        info_modelo['n_neighbors'] = modelo_entrenado.n_neighbors\n",
    "    \n",
    "    # 4. Análisis de parámetros clave\n",
    "    print(f\"\\n- Parámetros del modelo:\")\n",
    "    parametros_importantes = {\n",
    "        'regularization': ['C', 'alpha', 'l1_ratio', 'penalty'],\n",
    "        'complexity': ['max_depth', 'n_estimators', 'n_neighbors', 'hidden_layer_sizes'],\n",
    "        'learning': ['learning_rate', 'solver', 'algorithm', 'kernel'],\n",
    "        'sampling': ['subsample', 'max_samples', 'bootstrap']\n",
    "    }\n",
    "    \n",
    "    for categoria, params in parametros_importantes.items():\n",
    "        valores_encontrados = {}\n",
    "        for param in params:\n",
    "            if hasattr(modelo_entrenado, param):\n",
    "                valores_encontrados[param] = getattr(modelo_entrenado, param)\n",
    "        \n",
    "        if valores_encontrados:\n",
    "            print(f\"  {categoria.capitalize()}: {valores_encontrados}\")\n",
    "            info_modelo[f'params_{categoria}'] = valores_encontrados\n",
    "    \n",
    "    return info_modelo\n",
    "\n",
    "# EJEMPLO DE USO:\n",
    "# info = analizar_importancia_modelo(modelo_entrenado, X_test, y_test, \"Modelo\")\n",
    "# print(json.dumps(info, indent=2, default=str))\n"
   ]
  },
  {
   "cell_type": "code",
   "execution_count": 10,
   "metadata": {},
   "outputs": [
    {
     "name": "stdout",
     "output_type": "stream",
     "text": [
      "\n",
      "ANÁLISIS DE PARÁMETROS DE LOS MEJORES MODELOS\n",
      "======================================================================\n",
      "Error analizando Gradient Boosting (100, depth=4): string indices must be integers, not 'str'\n",
      "\n",
      "1. NN High Regularization (100,50) (F1: 0.7021)\n",
      "   Categoría: Redes_Neuronales\n",
      "\n",
      "2. NN Two Symmetric (80,80) (F1: 0.6969)\n",
      "   Categoría: Redes_Neuronales\n",
      "\n",
      "3. NN Deep Uniform (100,100,100) (F1: 0.6916)\n",
      "   Categoría: Redes_Neuronales\n",
      "\n",
      "4. NN Deep Decreasing (150,100,50) (F1: 0.6909)\n",
      "   Categoría: Redes_Neuronales\n",
      "\n",
      "5. NN Small (100) (F1: 0.6887)\n",
      "   Categoría: Redes_Neuronales\n",
      "\n",
      "6. NN Diamond (80,120,80) (F1: 0.6869)\n",
      "   Categoría: Redes_Neuronales\n",
      "\n",
      "7. NN Tiny (50) (F1: 0.6859)\n",
      "   Categoría: Redes_Neuronales\n",
      "\n",
      "8. NN SGD Momentum (100,50) (F1: 0.6826)\n",
      "   Categoría: Redes_Neuronales\n",
      "\n",
      "9. NN Bottleneck (120,30) (F1: 0.6823)\n",
      "   Categoría: Redes_Neuronales\n"
     ]
    }
   ],
   "source": [
    "# Análisis de parámetros en los modelos actuales\n",
    "print(\"\\nANÁLISIS DE PARÁMETROS DE LOS MEJORES MODELOS\")\n",
    "print(\"=\"*70)\n",
    "\n",
    "# Analizar top 10 modelos\n",
    "top_10 = df_completo.sort_values('F1_Score', ascending=False).head(10)\n",
    "\n",
    "parametros_analysis = []\n",
    "\n",
    "for _, modelo in top_10.iterrows():\n",
    "    try:\n",
    "        parametros = json.loads(modelo['Parametros_JSON'])\n",
    "        \n",
    "        # Extraer parámetros clave\n",
    "        info_parametros = {\n",
    "            'Modelo': modelo['Nombre'],\n",
    "            'F1_Score': modelo['F1_Score'],\n",
    "            'Categoria': modelo['Categoria']\n",
    "        }\n",
    "        \n",
    "        # Parámetros de regularización\n",
    "        for param in ['C', 'alpha', 'l1_ratio', 'penalty']:\n",
    "            if param in parametros:\n",
    "                info_parametros[f'reg_{param}'] = parametros[param]\n",
    "        \n",
    "        # Parámetros de complejidad\n",
    "        for param in ['max_depth', 'n_estimators', 'n_neighbors', 'hidden_layer_sizes']:\n",
    "            if param in parametros:\n",
    "                info_parametros[f'comp_{param}'] = parametros[param]\n",
    "        \n",
    "        # Parámetros de aprendizaje\n",
    "        for param in ['learning_rate', 'solver', 'kernel', 'algorithm']:\n",
    "            if param in parametros:\n",
    "                info_parametros[f'learn_{param}'] = parametros[param]\n",
    "        \n",
    "        parametros_analysis.append(info_parametros)\n",
    "        \n",
    "    except Exception as e:\n",
    "        print(f\"Error analizando {modelo['Nombre']}: {e}\")\n",
    "\n",
    "# Mostrar análisis\n",
    "for i, params in enumerate(parametros_analysis, 1):\n",
    "    print(f\"\\n{i}. {params['Modelo']} (F1: {params['F1_Score']:.4f})\")\n",
    "    print(f\"   Categoría: {params['Categoria']}\")\n",
    "    \n",
    "    # Mostrar parámetros por tipo\n",
    "    for tipo in ['reg', 'comp', 'learn']:\n",
    "        params_tipo = {k.replace(f'{tipo}_', ''): v for k, v in params.items() if k.startswith(f'{tipo}_')}\n",
    "        if params_tipo:\n",
    "            tipo_nombre = {'reg': 'Regularización', 'comp': 'Complejidad', 'learn': 'Aprendizaje'}[tipo]\n",
    "            print(f\"   {tipo_nombre}: {params_tipo}\")"
   ]
  },
  {
   "cell_type": "markdown",
   "metadata": {},
   "source": [
    "## Análisis de Patrones y Recomendaciones\n",
    "\n",
    "Identifico patrones en los mejores modelos y genero recomendaciones."
   ]
  },
  {
   "cell_type": "code",
   "execution_count": 11,
   "metadata": {},
   "outputs": [
    {
     "name": "stdout",
     "output_type": "stream",
     "text": [
      "\n",
      "ANÁLISIS DE PATRONES EN MEJORES MODELOS\n",
      "======================================================================\n",
      "Analizando top 17 modelos (F1 >= 0.6664)\n",
      "\n",
      "- Distribución de mejores modelos por categoría:\n",
      "   Redes_Neuronales: 12 modelos (70.6%)\n",
      "   Ensemble: 4 modelos (23.5%)\n",
      "   Otros_Algoritmos: 1 modelos (5.9%)\n",
      "\n",
      "- Características comunes de mejores modelos:\n",
      "   Usan escalado: 11.8%\n",
      "   Tiempo promedio: 31.866s\n",
      "   ROC-AUC promedio: 0.7446\n",
      "\n",
      "- Comparación con otros modelos:\n",
      "   Mejores - Tiempo promedio: 31.866s\n",
      "   Otros - Tiempo promedio: 8.258s\n",
      "   Mejores - Usan escalado: 11.8%\n",
      "   Otros - Usan escalado: 24.2%\n"
     ]
    },
    {
     "data": {
      "application/vnd.plotly.v1+json": {
       "config": {
        "plotlyServerURL": "https://plot.ly"
       },
       "data": [
        {
         "name": "Top 20%",
         "opacity": 0.7,
         "type": "histogram",
         "x": {
          "bdata": "HfxSVqny5T88qpanwAnmPyIvktM+peU/8wLLjuG/5T9c8IEVUU3mP9cHKa0g1eU/X7FL1ZAb5j/4a1PJwiHmPz2wQbPx+uU/awOawDHY5T/UK1XY3XfmP9lgAuvLsuU/Q2vPSB9b5T/BANBA4MXlP9xFWuc+4OU/DnV7+G1i5T/qrpUHiVTlPw==",
          "dtype": "f8"
         },
         "xaxis": "x",
         "yaxis": "y"
        },
        {
         "name": "Otros 80%",
         "opacity": 0.7,
         "type": "histogram",
         "x": {
          "bdata": "AAAAAAAAAAAAAAAAAAAAAAAAAAAAAAAAAAAAAAAAAAAAAAAAAAAAAAAAAAAAAAAAAAAAAAAAAAAAAAAAAAAAAAAAAAAAAAAAAAAAAAAAAAAAAAAAAAAAANh3sHNMA+U/NjTiubAD5T810h8JGwLlP1UXQPdHA+U/HpCsc+UB5T+7REOXuQPlP1WUV2yxBOU/9VR5ZEUG5T/9Gyc6QwblPwIV+SJkAuU/I/4tFRgF5T/VZb82pvnkP/cOKDbX+eQ/1WW/Nqb55D+8yAZIb/zkP/hoPPl7s+Q/uohd3PmQ5D/8h7+ILcfkP+a8+4UczuQ/IKOC3iAF5T95LjbDegziPyCJdoMSR+I/NqplYeca4j+LzY/MRWzjP4USaaxbyuI/JEdjAdl04j+dTtlDos/kP7GWTH1dHOU/E/qsZjbb5D/edtlR3QPlP8MV2TQP7uQ/OngBmxf+5D/OQlp8qg/lP75zuWMp/uQ/hgAr/fEz5T9XbAbdMU/lP9GjleP09uQ/0lOTiMm35D98xVd8xVfkP/LlmACYHOU/6hRpW4ZL5T8mJAHaw//kP+a6nzxhUeU/ujvp7qS74z/qhWLK74DkP0L9X+BSq+M/1m8ea8Jo5D+bcAlSYbXjPy/RKsF0NOQ/JB1ud/Ah5D87H9pKw2LkP/cOKDbX+eQ/u8oy/+L95D9Vxat031HlP2OGvOJnQuQ/",
          "dtype": "f8"
         },
         "xaxis": "x",
         "yaxis": "y"
        },
        {
         "name": "Top 20%",
         "opacity": 0.7,
         "showlegend": false,
         "type": "histogram",
         "x": {
          "bdata": "AAAAWExILEAAAACIo14oQAAAAChsES9AAAAAnMr1MkAAAAAc82Q1QAAAAPgnYzZAAAAAe5tlUEAAAABez6pHQAAAALoTIURAAACAvE46YEAAAAD2voRAQAAAAKDxRTFAAAAAwPZKNEAAAACAVws1QAAAALrsP01AAAAAYPZDD0AAAAAAIGqvPw==",
          "dtype": "f8"
         },
         "xaxis": "x2",
         "yaxis": "y2"
        },
        {
         "name": "Otros 80%",
         "opacity": 0.7,
         "showlegend": false,
         "type": "histogram",
         "x": {
          "bdata": "AAAAgCpP9z8AAACApL//PwAAAMA4ovU/AAAAgE0i9T8AAAAApyb5PwAAAIDmWhNAAAAAgP01IUAAAAAAAAAAAAAAAAAAAAAAAAAAVmgdVUAAAABgsZ0RQAAAAHB3RRhAAAAAkNEbF0AAAABgDLsUQAAAAFrGNE5AAAAA0JV4FUAAAADAtGoIQAAAAODViAdAAAAAAKO2BkAAAACKZKdDQAAAAG1CullAAAAAAKrY9j8AAAAA+srfPwAAAABwN8A/AAAAAIg/wT8AAACADIv6PwAAAIDGufE/AAAAQI5z+T8AAADAGB37PwAAAABqk/s/AAAAAHS69z8AAAAAzW/aPwAAAADCIdM/AAAAACdC1T8AAAAABRfYPwAAAABQuNQ/AAAAALaC5T8AAADM8gEyQAAAAGDutwZAAAAAFNmhMUAAAADg7jQsQAAAAOCj4A1AAAAA0CpuMkAAAABgQtQCQAAAAADIMgtAAAAAcNMvEUAAAACKTYxPQAAAAACQk5Y/AAAAANC5pT8AAAAA0AyhPwAAAICAugtAAAAAAEgVoz8AAAAAzJzEPwAAAAAALrY/AAAAAMR4uj8AAAAAULiWPwAAAABgupU/AAAAAOmg/j8AAAAAQKgIQAAAAEDbsgJAAAAAYGopBkAAAAAAGEi1PwAAAIDmvvI/AAAAAHgF0z8AAAAAsgnhPwAAAPiXQDdA",
          "dtype": "f8"
         },
         "xaxis": "x2",
         "yaxis": "y2"
        },
        {
         "name": "Top 20%",
         "opacity": 0.7,
         "showlegend": false,
         "type": "histogram",
         "x": {
          "bdata": "mNbAvqHZ5z8Egsh4DubnP8zY9hz5x+c/wKrSFmz65z+dEw9qdyboP/Q7oYVcBug/CqzlTBo56D8cN4x4Ax7oP8KXbWkgF+g/4luHHwbQ5z/0VPuWWknoP/7CkH0HEeg/XOaljB+R5j/y06aRH8jnP6i71ATs7Oc/TuDU0aRQ5z/IEA3eDTbnPw==",
          "dtype": "f8"
         },
         "xaxis": "x3",
         "yaxis": "y3"
        },
        {
         "name": "Otros 80%",
         "opacity": 0.7,
         "showlegend": false,
         "type": "histogram",
         "x": {
          "bdata": "AAAAAAAAAAAAAAAAAAAAAAAAAAAAAAAAAAAAAAAAAAAAAAAAAAAAAAAAAAAAAAAAAAAAAAAAAAAAAAAAAAAAAAAAAAAAAAAAAAAAAAAAAAAAAAAAAAAAAEysq4HIJuY/bClr2swm5j+oT+YFoCbmP53yhL56JuY/Eu8Bwrsm5j+K59o+kirmP6JCDxiiKuY/ms5U4uYp5j+o5YxcVyrmPzBVjrnCKOY/DNuusmEq5j+z8mzk3CHmP4tTIgzkIeY/TpAmGr0h5j++fWdLuiDmP5r0wuDGweU/NA7vcXWX5T/gvovcdtXlP/1hBoPt2eU/nWZYsakp5j8na7ERkLniP/7wm0IkBOM/4FEUXR/B4j8BUQ0llx/jPwnuNvoxXeM/ou4ORLqB4j8AAAAAAAAAABYG+GAk1uU/acu69PO/5j86RS0RsCnmP8mIitYH0+Y/9H6WHhnJ5D/PoXTBn0/mP38aGKevB+Y/16FxwGOy5j9IJZ+kNP/mPwoKScl1cuY/UKoBGHn+5T9m8v94hQPnP8wcL6Rp+eY/htjCf5df5z+UcQWu0erkP94Fhw3x9eQ/vrrC6Ri35D88VqUFjw7lPzxWpQWPDuU/+By1+BHs5T9Psi2KAqHkPwbZxGan8+U/aNKvBWWi5T++Owh9zMDkP1r29dzkIeY/DgmetB8c5j/5iBCC6pDlPyJmd+O6o+U/",
          "dtype": "f8"
         },
         "xaxis": "x3",
         "yaxis": "y3"
        },
        {
         "name": "Top 20%",
         "opacity": 0.7,
         "showlegend": false,
         "type": "bar",
         "x": [
          "No Escalado",
          "Escalado"
         ],
         "xaxis": "x4",
         "y": [
          15,
          2
         ],
         "yaxis": "y4"
        },
        {
         "name": "Otros 80%",
         "opacity": 0.7,
         "showlegend": false,
         "type": "bar",
         "x": [
          "No Escalado",
          "Escalado"
         ],
         "xaxis": "x4",
         "y": [
          50,
          16
         ],
         "yaxis": "y4"
        }
       ],
       "layout": {
        "annotations": [
         {
          "font": {
           "size": 16
          },
          "showarrow": false,
          "text": "Distribución F1-Score",
          "x": 0.225,
          "xanchor": "center",
          "xref": "paper",
          "y": 1,
          "yanchor": "bottom",
          "yref": "paper"
         },
         {
          "font": {
           "size": 16
          },
          "showarrow": false,
          "text": "Tiempo de Entrenamiento",
          "x": 0.775,
          "xanchor": "center",
          "xref": "paper",
          "y": 1,
          "yanchor": "bottom",
          "yref": "paper"
         },
         {
          "font": {
           "size": 16
          },
          "showarrow": false,
          "text": "ROC-AUC Distribution",
          "x": 0.225,
          "xanchor": "center",
          "xref": "paper",
          "y": 0.375,
          "yanchor": "bottom",
          "yref": "paper"
         },
         {
          "font": {
           "size": 16
          },
          "showarrow": false,
          "text": "Uso de Escalado",
          "x": 0.775,
          "xanchor": "center",
          "xref": "paper",
          "y": 0.375,
          "yanchor": "bottom",
          "yref": "paper"
         }
        ],
        "height": 800,
        "template": {
         "data": {
          "bar": [
           {
            "error_x": {
             "color": "#2a3f5f"
            },
            "error_y": {
             "color": "#2a3f5f"
            },
            "marker": {
             "line": {
              "color": "#E5ECF6",
              "width": 0.5
             },
             "pattern": {
              "fillmode": "overlay",
              "size": 10,
              "solidity": 0.2
             }
            },
            "type": "bar"
           }
          ],
          "barpolar": [
           {
            "marker": {
             "line": {
              "color": "#E5ECF6",
              "width": 0.5
             },
             "pattern": {
              "fillmode": "overlay",
              "size": 10,
              "solidity": 0.2
             }
            },
            "type": "barpolar"
           }
          ],
          "carpet": [
           {
            "aaxis": {
             "endlinecolor": "#2a3f5f",
             "gridcolor": "white",
             "linecolor": "white",
             "minorgridcolor": "white",
             "startlinecolor": "#2a3f5f"
            },
            "baxis": {
             "endlinecolor": "#2a3f5f",
             "gridcolor": "white",
             "linecolor": "white",
             "minorgridcolor": "white",
             "startlinecolor": "#2a3f5f"
            },
            "type": "carpet"
           }
          ],
          "choropleth": [
           {
            "colorbar": {
             "outlinewidth": 0,
             "ticks": ""
            },
            "type": "choropleth"
           }
          ],
          "contour": [
           {
            "colorbar": {
             "outlinewidth": 0,
             "ticks": ""
            },
            "colorscale": [
             [
              0,
              "#0d0887"
             ],
             [
              0.1111111111111111,
              "#46039f"
             ],
             [
              0.2222222222222222,
              "#7201a8"
             ],
             [
              0.3333333333333333,
              "#9c179e"
             ],
             [
              0.4444444444444444,
              "#bd3786"
             ],
             [
              0.5555555555555556,
              "#d8576b"
             ],
             [
              0.6666666666666666,
              "#ed7953"
             ],
             [
              0.7777777777777778,
              "#fb9f3a"
             ],
             [
              0.8888888888888888,
              "#fdca26"
             ],
             [
              1,
              "#f0f921"
             ]
            ],
            "type": "contour"
           }
          ],
          "contourcarpet": [
           {
            "colorbar": {
             "outlinewidth": 0,
             "ticks": ""
            },
            "type": "contourcarpet"
           }
          ],
          "heatmap": [
           {
            "colorbar": {
             "outlinewidth": 0,
             "ticks": ""
            },
            "colorscale": [
             [
              0,
              "#0d0887"
             ],
             [
              0.1111111111111111,
              "#46039f"
             ],
             [
              0.2222222222222222,
              "#7201a8"
             ],
             [
              0.3333333333333333,
              "#9c179e"
             ],
             [
              0.4444444444444444,
              "#bd3786"
             ],
             [
              0.5555555555555556,
              "#d8576b"
             ],
             [
              0.6666666666666666,
              "#ed7953"
             ],
             [
              0.7777777777777778,
              "#fb9f3a"
             ],
             [
              0.8888888888888888,
              "#fdca26"
             ],
             [
              1,
              "#f0f921"
             ]
            ],
            "type": "heatmap"
           }
          ],
          "histogram": [
           {
            "marker": {
             "pattern": {
              "fillmode": "overlay",
              "size": 10,
              "solidity": 0.2
             }
            },
            "type": "histogram"
           }
          ],
          "histogram2d": [
           {
            "colorbar": {
             "outlinewidth": 0,
             "ticks": ""
            },
            "colorscale": [
             [
              0,
              "#0d0887"
             ],
             [
              0.1111111111111111,
              "#46039f"
             ],
             [
              0.2222222222222222,
              "#7201a8"
             ],
             [
              0.3333333333333333,
              "#9c179e"
             ],
             [
              0.4444444444444444,
              "#bd3786"
             ],
             [
              0.5555555555555556,
              "#d8576b"
             ],
             [
              0.6666666666666666,
              "#ed7953"
             ],
             [
              0.7777777777777778,
              "#fb9f3a"
             ],
             [
              0.8888888888888888,
              "#fdca26"
             ],
             [
              1,
              "#f0f921"
             ]
            ],
            "type": "histogram2d"
           }
          ],
          "histogram2dcontour": [
           {
            "colorbar": {
             "outlinewidth": 0,
             "ticks": ""
            },
            "colorscale": [
             [
              0,
              "#0d0887"
             ],
             [
              0.1111111111111111,
              "#46039f"
             ],
             [
              0.2222222222222222,
              "#7201a8"
             ],
             [
              0.3333333333333333,
              "#9c179e"
             ],
             [
              0.4444444444444444,
              "#bd3786"
             ],
             [
              0.5555555555555556,
              "#d8576b"
             ],
             [
              0.6666666666666666,
              "#ed7953"
             ],
             [
              0.7777777777777778,
              "#fb9f3a"
             ],
             [
              0.8888888888888888,
              "#fdca26"
             ],
             [
              1,
              "#f0f921"
             ]
            ],
            "type": "histogram2dcontour"
           }
          ],
          "mesh3d": [
           {
            "colorbar": {
             "outlinewidth": 0,
             "ticks": ""
            },
            "type": "mesh3d"
           }
          ],
          "parcoords": [
           {
            "line": {
             "colorbar": {
              "outlinewidth": 0,
              "ticks": ""
             }
            },
            "type": "parcoords"
           }
          ],
          "pie": [
           {
            "automargin": true,
            "type": "pie"
           }
          ],
          "scatter": [
           {
            "fillpattern": {
             "fillmode": "overlay",
             "size": 10,
             "solidity": 0.2
            },
            "type": "scatter"
           }
          ],
          "scatter3d": [
           {
            "line": {
             "colorbar": {
              "outlinewidth": 0,
              "ticks": ""
             }
            },
            "marker": {
             "colorbar": {
              "outlinewidth": 0,
              "ticks": ""
             }
            },
            "type": "scatter3d"
           }
          ],
          "scattercarpet": [
           {
            "marker": {
             "colorbar": {
              "outlinewidth": 0,
              "ticks": ""
             }
            },
            "type": "scattercarpet"
           }
          ],
          "scattergeo": [
           {
            "marker": {
             "colorbar": {
              "outlinewidth": 0,
              "ticks": ""
             }
            },
            "type": "scattergeo"
           }
          ],
          "scattergl": [
           {
            "marker": {
             "colorbar": {
              "outlinewidth": 0,
              "ticks": ""
             }
            },
            "type": "scattergl"
           }
          ],
          "scattermap": [
           {
            "marker": {
             "colorbar": {
              "outlinewidth": 0,
              "ticks": ""
             }
            },
            "type": "scattermap"
           }
          ],
          "scattermapbox": [
           {
            "marker": {
             "colorbar": {
              "outlinewidth": 0,
              "ticks": ""
             }
            },
            "type": "scattermapbox"
           }
          ],
          "scatterpolar": [
           {
            "marker": {
             "colorbar": {
              "outlinewidth": 0,
              "ticks": ""
             }
            },
            "type": "scatterpolar"
           }
          ],
          "scatterpolargl": [
           {
            "marker": {
             "colorbar": {
              "outlinewidth": 0,
              "ticks": ""
             }
            },
            "type": "scatterpolargl"
           }
          ],
          "scatterternary": [
           {
            "marker": {
             "colorbar": {
              "outlinewidth": 0,
              "ticks": ""
             }
            },
            "type": "scatterternary"
           }
          ],
          "surface": [
           {
            "colorbar": {
             "outlinewidth": 0,
             "ticks": ""
            },
            "colorscale": [
             [
              0,
              "#0d0887"
             ],
             [
              0.1111111111111111,
              "#46039f"
             ],
             [
              0.2222222222222222,
              "#7201a8"
             ],
             [
              0.3333333333333333,
              "#9c179e"
             ],
             [
              0.4444444444444444,
              "#bd3786"
             ],
             [
              0.5555555555555556,
              "#d8576b"
             ],
             [
              0.6666666666666666,
              "#ed7953"
             ],
             [
              0.7777777777777778,
              "#fb9f3a"
             ],
             [
              0.8888888888888888,
              "#fdca26"
             ],
             [
              1,
              "#f0f921"
             ]
            ],
            "type": "surface"
           }
          ],
          "table": [
           {
            "cells": {
             "fill": {
              "color": "#EBF0F8"
             },
             "line": {
              "color": "white"
             }
            },
            "header": {
             "fill": {
              "color": "#C8D4E3"
             },
             "line": {
              "color": "white"
             }
            },
            "type": "table"
           }
          ]
         },
         "layout": {
          "annotationdefaults": {
           "arrowcolor": "#2a3f5f",
           "arrowhead": 0,
           "arrowwidth": 1
          },
          "autotypenumbers": "strict",
          "coloraxis": {
           "colorbar": {
            "outlinewidth": 0,
            "ticks": ""
           }
          },
          "colorscale": {
           "diverging": [
            [
             0,
             "#8e0152"
            ],
            [
             0.1,
             "#c51b7d"
            ],
            [
             0.2,
             "#de77ae"
            ],
            [
             0.3,
             "#f1b6da"
            ],
            [
             0.4,
             "#fde0ef"
            ],
            [
             0.5,
             "#f7f7f7"
            ],
            [
             0.6,
             "#e6f5d0"
            ],
            [
             0.7,
             "#b8e186"
            ],
            [
             0.8,
             "#7fbc41"
            ],
            [
             0.9,
             "#4d9221"
            ],
            [
             1,
             "#276419"
            ]
           ],
           "sequential": [
            [
             0,
             "#0d0887"
            ],
            [
             0.1111111111111111,
             "#46039f"
            ],
            [
             0.2222222222222222,
             "#7201a8"
            ],
            [
             0.3333333333333333,
             "#9c179e"
            ],
            [
             0.4444444444444444,
             "#bd3786"
            ],
            [
             0.5555555555555556,
             "#d8576b"
            ],
            [
             0.6666666666666666,
             "#ed7953"
            ],
            [
             0.7777777777777778,
             "#fb9f3a"
            ],
            [
             0.8888888888888888,
             "#fdca26"
            ],
            [
             1,
             "#f0f921"
            ]
           ],
           "sequentialminus": [
            [
             0,
             "#0d0887"
            ],
            [
             0.1111111111111111,
             "#46039f"
            ],
            [
             0.2222222222222222,
             "#7201a8"
            ],
            [
             0.3333333333333333,
             "#9c179e"
            ],
            [
             0.4444444444444444,
             "#bd3786"
            ],
            [
             0.5555555555555556,
             "#d8576b"
            ],
            [
             0.6666666666666666,
             "#ed7953"
            ],
            [
             0.7777777777777778,
             "#fb9f3a"
            ],
            [
             0.8888888888888888,
             "#fdca26"
            ],
            [
             1,
             "#f0f921"
            ]
           ]
          },
          "colorway": [
           "#636efa",
           "#EF553B",
           "#00cc96",
           "#ab63fa",
           "#FFA15A",
           "#19d3f3",
           "#FF6692",
           "#B6E880",
           "#FF97FF",
           "#FECB52"
          ],
          "font": {
           "color": "#2a3f5f"
          },
          "geo": {
           "bgcolor": "white",
           "lakecolor": "white",
           "landcolor": "#E5ECF6",
           "showlakes": true,
           "showland": true,
           "subunitcolor": "white"
          },
          "hoverlabel": {
           "align": "left"
          },
          "hovermode": "closest",
          "mapbox": {
           "style": "light"
          },
          "paper_bgcolor": "white",
          "plot_bgcolor": "#E5ECF6",
          "polar": {
           "angularaxis": {
            "gridcolor": "white",
            "linecolor": "white",
            "ticks": ""
           },
           "bgcolor": "#E5ECF6",
           "radialaxis": {
            "gridcolor": "white",
            "linecolor": "white",
            "ticks": ""
           }
          },
          "scene": {
           "xaxis": {
            "backgroundcolor": "#E5ECF6",
            "gridcolor": "white",
            "gridwidth": 2,
            "linecolor": "white",
            "showbackground": true,
            "ticks": "",
            "zerolinecolor": "white"
           },
           "yaxis": {
            "backgroundcolor": "#E5ECF6",
            "gridcolor": "white",
            "gridwidth": 2,
            "linecolor": "white",
            "showbackground": true,
            "ticks": "",
            "zerolinecolor": "white"
           },
           "zaxis": {
            "backgroundcolor": "#E5ECF6",
            "gridcolor": "white",
            "gridwidth": 2,
            "linecolor": "white",
            "showbackground": true,
            "ticks": "",
            "zerolinecolor": "white"
           }
          },
          "shapedefaults": {
           "line": {
            "color": "#2a3f5f"
           }
          },
          "ternary": {
           "aaxis": {
            "gridcolor": "white",
            "linecolor": "white",
            "ticks": ""
           },
           "baxis": {
            "gridcolor": "white",
            "linecolor": "white",
            "ticks": ""
           },
           "bgcolor": "#E5ECF6",
           "caxis": {
            "gridcolor": "white",
            "linecolor": "white",
            "ticks": ""
           }
          },
          "title": {
           "x": 0.05
          },
          "xaxis": {
           "automargin": true,
           "gridcolor": "white",
           "linecolor": "white",
           "ticks": "",
           "title": {
            "standoff": 15
           },
           "zerolinecolor": "white",
           "zerolinewidth": 2
          },
          "yaxis": {
           "automargin": true,
           "gridcolor": "white",
           "linecolor": "white",
           "ticks": "",
           "title": {
            "standoff": 15
           },
           "zerolinecolor": "white",
           "zerolinewidth": 2
          }
         }
        },
        "title": {
         "text": "- Comparación: Mejores Modelos vs Resto"
        },
        "xaxis": {
         "anchor": "y",
         "domain": [
          0,
          0.45
         ]
        },
        "xaxis2": {
         "anchor": "y2",
         "domain": [
          0.55,
          1
         ]
        },
        "xaxis3": {
         "anchor": "y3",
         "domain": [
          0,
          0.45
         ]
        },
        "xaxis4": {
         "anchor": "y4",
         "domain": [
          0.55,
          1
         ]
        },
        "yaxis": {
         "anchor": "x",
         "domain": [
          0.625,
          1
         ]
        },
        "yaxis2": {
         "anchor": "x2",
         "domain": [
          0.625,
          1
         ]
        },
        "yaxis3": {
         "anchor": "x3",
         "domain": [
          0,
          0.375
         ]
        },
        "yaxis4": {
         "anchor": "x4",
         "domain": [
          0,
          0.375
         ]
        }
       }
      }
     },
     "metadata": {},
     "output_type": "display_data"
    }
   ],
   "source": [
    "# Análisis de patrones en mejores modelos\n",
    "print(\"\\nANÁLISIS DE PATRONES EN MEJORES MODELOS\")\n",
    "print(\"=\"*70)\n",
    "\n",
    "# Top 20% de modelos\n",
    "threshold_top = df_completo['F1_Score'].quantile(0.8)\n",
    "mejores_modelos = df_completo[df_completo['F1_Score'] >= threshold_top]\n",
    "\n",
    "print(f\"Analizando top {len(mejores_modelos)} modelos (F1 >= {threshold_top:.4f})\")\n",
    "\n",
    "# Patrones por categoría\n",
    "print(\"\\n- Distribución de mejores modelos por categoría:\")\n",
    "distribucion_mejores = mejores_modelos['Categoria'].value_counts()\n",
    "for categoria, count in distribucion_mejores.items():\n",
    "    porcentaje = (count / len(mejores_modelos)) * 100\n",
    "    print(f\"   {categoria}: {count} modelos ({porcentaje:.1f}%)\")\n",
    "\n",
    "# Características comunes de mejores modelos\n",
    "print(\"\\n- Características comunes de mejores modelos:\")\n",
    "print(f\"   Usan escalado: {mejores_modelos['Usar_Escalado'].mean()*100:.1f}%\")\n",
    "print(f\"   Tiempo promedio: {mejores_modelos['Tiempo_Entrenamiento'].mean():.3f}s\")\n",
    "print(f\"   ROC-AUC promedio: {mejores_modelos['ROC_AUC'].mean():.4f}\")\n",
    "\n",
    "# Comparar con modelos regulares\n",
    "otros_modelos = df_completo[df_completo['F1_Score'] < threshold_top]\n",
    "print(f\"\\n- Comparación con otros modelos:\")\n",
    "print(f\"   Mejores - Tiempo promedio: {mejores_modelos['Tiempo_Entrenamiento'].mean():.3f}s\")\n",
    "print(f\"   Otros - Tiempo promedio: {otros_modelos['Tiempo_Entrenamiento'].mean():.3f}s\")\n",
    "print(f\"   Mejores - Usan escalado: {mejores_modelos['Usar_Escalado'].mean()*100:.1f}%\")\n",
    "print(f\"   Otros - Usan escalado: {otros_modelos['Usar_Escalado'].mean()*100:.1f}%\")\n",
    "\n",
    "# Gráfica de comparación\n",
    "fig_comparison = make_subplots(\n",
    "    rows=2, cols=2,\n",
    "    subplot_titles=[\n",
    "        'Distribución F1-Score',\n",
    "        'Tiempo de Entrenamiento', \n",
    "        'ROC-AUC Distribution',\n",
    "        'Uso de Escalado'\n",
    "    ]\n",
    ")\n",
    "\n",
    "# F1-Score distribution\n",
    "fig_comparison.add_trace(\n",
    "    go.Histogram(x=mejores_modelos['F1_Score'], name='Top 20%', opacity=0.7),\n",
    "    row=1, col=1\n",
    ")\n",
    "fig_comparison.add_trace(\n",
    "    go.Histogram(x=otros_modelos['F1_Score'], name='Otros 80%', opacity=0.7),\n",
    "    row=1, col=1\n",
    ")\n",
    "\n",
    "# Tiempo distribution  \n",
    "fig_comparison.add_trace(\n",
    "    go.Histogram(x=mejores_modelos['Tiempo_Entrenamiento'], name='Top 20%', opacity=0.7, showlegend=False),\n",
    "    row=1, col=2\n",
    ")\n",
    "fig_comparison.add_trace(\n",
    "    go.Histogram(x=otros_modelos['Tiempo_Entrenamiento'], name='Otros 80%', opacity=0.7, showlegend=False),\n",
    "    row=1, col=2\n",
    ")\n",
    "\n",
    "# ROC-AUC distribution\n",
    "fig_comparison.add_trace(\n",
    "    go.Histogram(x=mejores_modelos['ROC_AUC'], name='Top 20%', opacity=0.7, showlegend=False),\n",
    "    row=2, col=1\n",
    ")\n",
    "fig_comparison.add_trace(\n",
    "    go.Histogram(x=otros_modelos['ROC_AUC'], name='Otros 80%', opacity=0.7, showlegend=False),\n",
    "    row=2, col=1\n",
    ")\n",
    "\n",
    "# Uso de escalado\n",
    "escalado_mejores = mejores_modelos['Usar_Escalado'].value_counts()\n",
    "escalado_otros = otros_modelos['Usar_Escalado'].value_counts()\n",
    "\n",
    "fig_comparison.add_trace(\n",
    "    go.Bar(x=['No Escalado', 'Escalado'], y=[escalado_mejores.get(False, 0), escalado_mejores.get(True, 0)], \n",
    "           name='Top 20%', opacity=0.7, showlegend=False),\n",
    "    row=2, col=2\n",
    ")\n",
    "fig_comparison.add_trace(\n",
    "    go.Bar(x=['No Escalado', 'Escalado'], y=[escalado_otros.get(False, 0), escalado_otros.get(True, 0)], \n",
    "           name='Otros 80%', opacity=0.7, showlegend=False),\n",
    "    row=2, col=2\n",
    ")\n",
    "\n",
    "fig_comparison.update_layout(\n",
    "    height=800,\n",
    "    title_text='- Comparación: Mejores Modelos vs Resto'\n",
    ")\n",
    "\n",
    "fig_comparison.show()"
   ]
  },
  {
   "cell_type": "markdown",
   "metadata": {},
   "source": [
    "## Recomendaciones Finales\n",
    "\n",
    "Genero recomendaciones basadas en todo el análisis."
   ]
  },
  {
   "cell_type": "code",
   "execution_count": 12,
   "metadata": {},
   "outputs": [
    {
     "name": "stdout",
     "output_type": "stream",
     "text": [
      "\n",
      "====================================================================================================\n",
      "RECOMENDACIONES FINALES BASADAS EN ANÁLISIS COMPLETO\n",
      "====================================================================================================\n",
      "\n",
      "- TOP 5 MODELOS RECOMENDADOS (rendimiento absoluto):\n",
      "   1. NN High Regularization (100,50) - F1: 0.7021 | ROC: 0.7590 | Tiempo: 33.037s\n",
      "   2. NN Two Symmetric (80,80) - F1: 0.6969 | ROC: 0.7547 | Tiempo: 21.394s\n",
      "   3. NN Deep Uniform (100,100,100) - F1: 0.6916 | ROC: 0.7537 | Tiempo: 47.334s\n",
      "   4. NN Deep Decreasing (150,100,50) - F1: 0.6909 | ROC: 0.7570 | Tiempo: 65.588s\n",
      "   5. NN Small (100) - F1: 0.6887 | ROC: 0.7468 | Tiempo: 12.185s\n",
      "\n",
      "- TOP 5 MODELOS EFICIENTES (mejor ratio rendimiento/tiempo):\n",
      "   1. KNN k=5 Uniform - Ratio: 28.4 | F1: 0.6551 | Tiempo: 0.022s\n",
      "   2. Naive Bayes Complement - Ratio: 27.7 | F1: 0.6147 | Tiempo: 0.021s\n",
      "   3. Naive Bayes Multinomial - Ratio: 27.6 | F1: 0.6407 | Tiempo: 0.022s\n",
      "   4. KNN k=10 Uniform - Ratio: 18.5 | F1: 0.6357 | Tiempo: 0.033s\n",
      "   5. KNN k=15 Distance - Ratio: 17.4 | F1: 0.6655 | Tiempo: 0.037s\n",
      "\n",
      "- RECOMENDACIONES POR CASO DE USO:\n",
      "\n",
      "- Para PRODUCCIÓN (buen rendimiento + rápido):\n",
      "\n",
      "- Para MÁXIMO RENDIMIENTO (sin restricción de tiempo):\n",
      "   • NN High Regularization (100,50) - F1: 0.7021, ROC: 0.7590\n",
      "   • NN Two Symmetric (80,80) - F1: 0.6969, ROC: 0.7547\n",
      "   • NN Deep Uniform (100,100,100) - F1: 0.6916, ROC: 0.7537\n",
      "\n",
      "- Para PROTOTIPADO RÁPIDO (< 1s, buen rendimiento):\n",
      "   • KNN k=5 Manhattan Distance - F1: 0.6666, Tiempo: 0.061s\n",
      "   • Quadratic Discriminant Analysis - F1: 0.6662, Tiempo: 0.532s\n",
      "   • Naive Bayes Gaussian Low Smooth - F1: 0.6662, Tiempo: 0.087s\n",
      "\n",
      "- INSIGHTS POR CATEGORÍA:\n",
      "\n",
      "   - Boosting:\n",
      "      Mejor modelo: XGBoost Conservative (F1: 0.0000)\n",
      "      Promedio categoría: F1 0.0000, Tiempo 9.999s\n",
      "      Recomendación: Considerar otros algoritmos\n",
      "\n",
      "   - Redes_Neuronales:\n",
      "      Mejor modelo: NN High Regularization (100,50) (F1: 0.7021)\n",
      "      Promedio categoría: F1 0.6868, Tiempo 36.493s\n",
      "      Recomendación: Excelente para este dataset\n",
      "\n",
      "   - SVM:\n",
      "      Mejor modelo: LinearSVC Low Reg (C=10.0) (F1: 0.6567)\n",
      "      Promedio categoría: F1 0.6566, Tiempo 16.562s\n",
      "      Recomendación: Considerar otros algoritmos\n",
      "\n",
      "   - Modelos_Lineales:\n",
      "      Mejor modelo: Logistic Regression High Reg (C=0.1) (F1: 0.6570)\n",
      "      Promedio categoría: F1 0.6324, Tiempo 7.853s\n",
      "      Recomendación: Considerar otros algoritmos\n",
      "\n",
      "   - Ensemble:\n",
      "      Mejor modelo: Gradient Boosting (100, depth=4) (F1: 0.6836)\n",
      "      Promedio categoría: F1 0.6622, Tiempo 17.974s\n",
      "      Recomendación: Excelente para este dataset\n",
      "\n",
      "   - Otros_Algoritmos:\n",
      "      Mejor modelo: KNN k=5 Manhattan Distance (F1: 0.6666)\n",
      "      Promedio categoría: F1 0.6443, Tiempo 1.975s\n",
      "      Recomendación: Considerar otros algoritmos\n",
      "\n",
      "/  ANÁLISIS COMPLETADO\n",
      "   - 83 modelos analizados\n",
      "   - Mejor F1-Score: 0.7021\n",
      "   - Mejor ratio eficiencia: 28.4\n",
      "   - Resultados guardados en ../models/\n",
      "\n",
      "====================================================================================================\n",
      "/ PRÓXIMOS PASOS RECOMENDADOS:\n",
      "   1. Implementar los top 3 modelos en producción\n",
      "   2. Hacer análisis con datos winsorizing para comparar\n",
      "   3. Optimizar hiperparámetros de los mejores modelos\n",
      "   4. Evaluar ensemble de los top 5 modelos\n",
      "====================================================================================================\n"
     ]
    }
   ],
   "source": [
    "# Generar recomendaciones finales\n",
    "print(\"\\n\" + \"=\"*100)\n",
    "print(\"RECOMENDACIONES FINALES BASADAS EN ANÁLISIS COMPLETO\")\n",
    "print(\"=\"*100)\n",
    "\n",
    "# Top 5 modelos absolutos\n",
    "top_5_global = df_completo.sort_values('F1_Score', ascending=False).head(5)\n",
    "print(\"\\n- TOP 5 MODELOS RECOMENDADOS (rendimiento absoluto):\")\n",
    "for i, (_, modelo) in enumerate(top_5_global.iterrows(), 1):\n",
    "    print(f\"   {i}. {modelo['Nombre']} - F1: {modelo['F1_Score']:.4f} | ROC: {modelo['ROC_AUC']:.4f} | Tiempo: {modelo['Tiempo_Entrenamiento']:.3f}s\")\n",
    "\n",
    "# Top 5 por eficiencia\n",
    "top_5_eficiencia = df_completo.sort_values('Ratio_Eficiencia', ascending=False).head(5)\n",
    "print(\"\\n- TOP 5 MODELOS EFICIENTES (mejor ratio rendimiento/tiempo):\")\n",
    "for i, (_, modelo) in enumerate(top_5_eficiencia.iterrows(), 1):\n",
    "    print(f\"   {i}. {modelo['Nombre']} - Ratio: {modelo['Ratio_Eficiencia']:.1f} | F1: {modelo['F1_Score']:.4f} | Tiempo: {modelo['Tiempo_Entrenamiento']:.3f}s\")\n",
    "\n",
    "# Recomendaciones por caso de uso\n",
    "print(\"\\n- RECOMENDACIONES POR CASO DE USO:\")\n",
    "\n",
    "# Para producción (balance rendimiento-velocidad)\n",
    "prod_candidates = df_completo[\n",
    "    (df_completo['F1_Score'] > df_completo['F1_Score'].quantile(0.85)) &\n",
    "    (df_completo['Tiempo_Entrenamiento'] < df_completo['Tiempo_Entrenamiento'].median())\n",
    "].sort_values('F1_Score', ascending=False)\n",
    "\n",
    "print(\"\\n- Para PRODUCCIÓN (buen rendimiento + rápido):\")\n",
    "for _, modelo in prod_candidates.head(3).iterrows():\n",
    "    print(f\"   • {modelo['Nombre']} - F1: {modelo['F1_Score']:.4f}, Tiempo: {modelo['Tiempo_Entrenamiento']:.3f}s\")\n",
    "\n",
    "# Para máximo rendimiento\n",
    "print(\"\\n- Para MÁXIMO RENDIMIENTO (sin restricción de tiempo):\")\n",
    "for _, modelo in top_5_global.head(3).iterrows():\n",
    "    print(f\"   • {modelo['Nombre']} - F1: {modelo['F1_Score']:.4f}, ROC: {modelo['ROC_AUC']:.4f}\")\n",
    "\n",
    "# Para prototipado rápido\n",
    "rapidos = df_completo[\n",
    "    (df_completo['Tiempo_Entrenamiento'] < 1.0) &\n",
    "    (df_completo['F1_Score'] > df_completo['F1_Score'].quantile(0.7))\n",
    "].sort_values('F1_Score', ascending=False)\n",
    "\n",
    "print(\"\\n- Para PROTOTIPADO RÁPIDO (< 1s, buen rendimiento):\")\n",
    "for _, modelo in rapidos.head(3).iterrows():\n",
    "    print(f\"   • {modelo['Nombre']} - F1: {modelo['F1_Score']:.4f}, Tiempo: {modelo['Tiempo_Entrenamiento']:.3f}s\")\n",
    "\n",
    "# Insights por categoría\n",
    "print(\"\\n- INSIGHTS POR CATEGORÍA:\")\n",
    "for categoria in df_completo['Categoria'].unique():\n",
    "    cat_data = df_completo[df_completo['Categoria'] == categoria]\n",
    "    mejor_cat = cat_data.sort_values('F1_Score', ascending=False).iloc[0]\n",
    "    \n",
    "    print(f\"\\n   - {categoria}:\")\n",
    "    print(f\"      Mejor modelo: {mejor_cat['Nombre']} (F1: {mejor_cat['F1_Score']:.4f})\")\n",
    "    print(f\"      Promedio categoría: F1 {cat_data['F1_Score'].mean():.4f}, Tiempo {cat_data['Tiempo_Entrenamiento'].mean():.3f}s\")\n",
    "    print(f\"      Recomendación: {'Excelente para este dataset' if cat_data['F1_Score'].mean() > df_completo['F1_Score'].quantile(0.7) else 'Considerar otros algoritmos'}\")\n",
    "\n",
    "# Crear resumen final\n",
    "resumen_final = {\n",
    "    'total_modelos_evaluados': len(df_completo),\n",
    "    'mejor_modelo_global': {\n",
    "        'nombre': top_5_global.iloc[0]['Nombre'],\n",
    "        'f1_score': top_5_global.iloc[0]['F1_Score'],\n",
    "        'categoria': top_5_global.iloc[0]['Categoria']\n",
    "    },\n",
    "    'modelo_mas_eficiente': {\n",
    "        'nombre': top_5_eficiencia.iloc[0]['Nombre'],\n",
    "        'ratio_eficiencia': top_5_eficiencia.iloc[0]['Ratio_Eficiencia'],\n",
    "        'categoria': top_5_eficiencia.iloc[0]['Categoria']\n",
    "    },\n",
    "    'categoria_mas_exitosa': distribucion_mejores.index[0],\n",
    "    'tiempo_promedio_mejores': mejores_modelos['Tiempo_Entrenamiento'].mean(),\n",
    "    'f1_score_range': [df_completo['F1_Score'].min(), df_completo['F1_Score'].max()]\n",
    "}\n",
    "\n",
    "# Guardar resumen\n",
    "with open('../models/resumen_comparacion_completa_winsorized.json', 'w') as f:\n",
    "    json.dump(resumen_final, f, indent=2)\n",
    "\n",
    "# Guardar DataFrame completo\n",
    "df_completo.to_csv('../models/comparacion_completa_todos_modelos_winsorized.csv', index=False)\n",
    "\n",
    "print(f\"\\n/  ANÁLISIS COMPLETADO\")\n",
    "print(f\"   - {len(df_completo)} modelos analizados\")\n",
    "print(f\"   - Mejor F1-Score: {df_completo['F1_Score'].max():.4f}\")\n",
    "print(f\"   - Mejor ratio eficiencia: {df_completo['Ratio_Eficiencia'].max():.1f}\")\n",
    "print(f\"   - Resultados guardados en ../models/\")\n",
    "\n",
    "print(\"\\n\" + \"=\"*100)\n",
    "print(\"/ PRÓXIMOS PASOS RECOMENDADOS:\")\n",
    "print(\"   1. Implementar los top 3 modelos en producción\")\n",
    "print(\"   2. Hacer análisis con datos winsorizing para comparar\")\n",
    "print(\"   3. Optimizar hiperparámetros de los mejores modelos\")\n",
    "print(\"   4. Evaluar ensemble de los top 5 modelos\")\n",
    "print(\"=\"*100)"
   ]
  }
 ],
 "metadata": {
  "kernelspec": {
   "display_name": ".venv",
   "language": "python",
   "name": "python3"
  },
  "language_info": {
   "codemirror_mode": {
    "name": "ipython",
    "version": 3
   },
   "file_extension": ".py",
   "mimetype": "text/x-python",
   "name": "python",
   "nbconvert_exporter": "python",
   "pygments_lexer": "ipython3",
   "version": "3.13.3"
  }
 },
 "nbformat": 4,
 "nbformat_minor": 4
}
